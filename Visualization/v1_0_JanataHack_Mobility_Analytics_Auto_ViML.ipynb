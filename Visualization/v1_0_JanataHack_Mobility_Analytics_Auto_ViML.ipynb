{
 "cells": [
  {
   "cell_type": "code",
   "execution_count": 7,
   "metadata": {},
   "outputs": [
    {
     "name": "stdout",
     "output_type": "stream",
     "text": [
      "Collecting azureml\n",
      "  Downloading azureml-0.2.7-py2.py3-none-any.whl (23 kB)\n",
      "Requirement already satisfied: python-dateutil in c:\\users\\rajes\\anaconda3\\lib\\site-packages (from azureml) (2.8.1)\n",
      "Requirement already satisfied: pandas in c:\\users\\rajes\\anaconda3\\lib\\site-packages (from azureml) (1.0.1)\n",
      "Requirement already satisfied: requests in c:\\users\\rajes\\anaconda3\\lib\\site-packages (from azureml) (2.22.0)\n",
      "Requirement already satisfied: six>=1.5 in c:\\users\\rajes\\anaconda3\\lib\\site-packages (from python-dateutil->azureml) (1.14.0)\n",
      "Requirement already satisfied: numpy>=1.13.3 in c:\\users\\rajes\\anaconda3\\lib\\site-packages (from pandas->azureml) (1.18.1)\n",
      "Requirement already satisfied: pytz>=2017.2 in c:\\users\\rajes\\anaconda3\\lib\\site-packages (from pandas->azureml) (2019.3)\n",
      "Requirement already satisfied: certifi>=2017.4.17 in c:\\users\\rajes\\anaconda3\\lib\\site-packages (from requests->azureml) (2019.11.28)\n",
      "Requirement already satisfied: urllib3!=1.25.0,!=1.25.1,<1.26,>=1.21.1 in c:\\users\\rajes\\anaconda3\\lib\\site-packages (from requests->azureml) (1.25.8)\n",
      "Requirement already satisfied: idna<2.9,>=2.5 in c:\\users\\rajes\\anaconda3\\lib\\site-packages (from requests->azureml) (2.8)\n",
      "Requirement already satisfied: chardet<3.1.0,>=3.0.2 in c:\\users\\rajes\\anaconda3\\lib\\site-packages (from requests->azureml) (3.0.4)\n",
      "Installing collected packages: azureml\n",
      "Successfully installed azureml-0.2.7\n"
     ]
    }
   ],
   "source": [
    "!pip install azureml"
   ]
  },
  {
   "cell_type": "code",
   "execution_count": 10,
   "metadata": {},
   "outputs": [],
   "source": [
    "import azureml"
   ]
  },
  {
   "cell_type": "code",
   "execution_count": 14,
   "metadata": {},
   "outputs": [],
   "source": [
    "import pandas as pd\n",
    "datapath = 'C:\\Rajesh Goel - Data Science\\HACKATHONS-master\\HACKATHONS-master\\Analytics vidya\\JanataHack Mobility Analytics/'"
   ]
  },
  {
   "cell_type": "code",
   "execution_count": 16,
   "metadata": {},
   "outputs": [
    {
     "name": "stdout",
     "output_type": "stream",
     "text": [
      "Collecting autoviml\n",
      "  Using cached autoviml-0.1.629-py3-none-any.whl (94 kB)\n",
      "Collecting gensim\n",
      "  Downloading gensim-3.8.3-cp37-cp37m-win_amd64.whl (24.2 MB)\n",
      "Requirement already satisfied: nltk in c:\\users\\rajes\\anaconda3\\lib\\site-packages (from autoviml) (3.4.5)\n",
      "Requirement already satisfied: seaborn in c:\\users\\rajes\\anaconda3\\lib\\site-packages (from autoviml) (0.10.0)\n",
      "Requirement already satisfied: matplotlib in c:\\users\\rajes\\anaconda3\\lib\\site-packages (from autoviml) (3.1.3)\n",
      "Requirement already satisfied: scikit-learn>=0.22 in c:\\users\\rajes\\anaconda3\\lib\\site-packages (from autoviml) (0.22.1)\n",
      "Collecting textblob\n",
      "  Downloading textblob-0.15.3-py2.py3-none-any.whl (636 kB)\n",
      "Requirement already satisfied: ipython in c:\\users\\rajes\\anaconda3\\lib\\site-packages (from autoviml) (7.12.0)\n",
      "Collecting vaderSentiment\n",
      "  Using cached vaderSentiment-3.3.1-py2.py3-none-any.whl (125 kB)\n",
      "Requirement already satisfied: pandas in c:\\users\\rajes\\anaconda3\\lib\\site-packages (from autoviml) (1.0.1)\n",
      "Collecting catboost\n",
      "  Downloading catboost-0.23.1-cp37-none-win_amd64.whl (63.6 MB)\n",
      "Requirement already satisfied: imbalanced-learn in c:\\users\\rajes\\anaconda3\\lib\\site-packages (from autoviml) (0.6.2)\n",
      "Requirement already satisfied: jupyter in c:\\users\\rajes\\anaconda3\\lib\\site-packages (from autoviml) (1.0.0)\n",
      "Collecting regex\n",
      "  Downloading regex-2020.5.14-cp37-cp37m-win_amd64.whl (272 kB)\n",
      "Requirement already satisfied: xgboost in c:\\users\\rajes\\anaconda3\\lib\\site-packages (from autoviml) (1.1.0)\n"
     ]
    },
    {
     "name": "stderr",
     "output_type": "stream",
     "text": [
      "ERROR: Could not find a version that satisfies the requirement shapbeautifulsoup4 (from autoviml) (from versions: none)\n",
      "ERROR: No matching distribution found for shapbeautifulsoup4 (from autoviml)\n"
     ]
    }
   ],
   "source": [
    "!pip install autoviml"
   ]
  },
  {
   "cell_type": "code",
   "execution_count": 22,
   "metadata": {},
   "outputs": [
    {
     "name": "stdout",
     "output_type": "stream",
     "text": [
      "Note: you may need to restart the kernel to use updated packages.\n"
     ]
    },
    {
     "name": "stderr",
     "output_type": "stream",
     "text": [
      "ERROR: Could not open requirements file: [Errno 2] No such file or directory: 'requirements.txt'\n"
     ]
    }
   ],
   "source": [
    "pip install -r requirements.txt"
   ]
  },
  {
   "cell_type": "code",
   "execution_count": 1,
   "metadata": {},
   "outputs": [
    {
     "ename": "ModuleNotFoundError",
     "evalue": "No module named 'autoviml'",
     "output_type": "error",
     "traceback": [
      "\u001b[1;31m---------------------------------------------------------------------------\u001b[0m",
      "\u001b[1;31mModuleNotFoundError\u001b[0m                       Traceback (most recent call last)",
      "\u001b[1;32m<ipython-input-1-addf35cd01ca>\u001b[0m in \u001b[0;36m<module>\u001b[1;34m\u001b[0m\n\u001b[1;32m----> 1\u001b[1;33m \u001b[1;32mfrom\u001b[0m \u001b[0mautoviml\u001b[0m\u001b[1;33m.\u001b[0m\u001b[0mAuto_ViML\u001b[0m \u001b[1;32mimport\u001b[0m \u001b[0mAuto_ViML\u001b[0m\u001b[1;33m\u001b[0m\u001b[1;33m\u001b[0m\u001b[0m\n\u001b[0m",
      "\u001b[1;31mModuleNotFoundError\u001b[0m: No module named 'autoviml'"
     ]
    }
   ],
   "source": [
    "from autoviml.Auto_ViML import Auto_ViML"
   ]
  },
  {
   "cell_type": "code",
   "execution_count": null,
   "metadata": {},
   "outputs": [],
   "source": []
  },
  {
   "cell_type": "code",
   "execution_count": null,
   "metadata": {},
   "outputs": [],
   "source": []
  },
  {
   "cell_type": "code",
   "execution_count": null,
   "metadata": {},
   "outputs": [],
   "source": []
  }
 ],
 "metadata": {
  "kernelspec": {
   "display_name": "Python 3",
   "language": "python",
   "name": "python3"
  },
  "language_info": {
   "codemirror_mode": {
    "name": "ipython",
    "version": 3
   },
   "file_extension": ".py",
   "mimetype": "text/x-python",
   "name": "python",
   "nbconvert_exporter": "python",
   "pygments_lexer": "ipython3",
   "version": "3.7.6"
  }
 },
 "nbformat": 4,
 "nbformat_minor": 4
}
