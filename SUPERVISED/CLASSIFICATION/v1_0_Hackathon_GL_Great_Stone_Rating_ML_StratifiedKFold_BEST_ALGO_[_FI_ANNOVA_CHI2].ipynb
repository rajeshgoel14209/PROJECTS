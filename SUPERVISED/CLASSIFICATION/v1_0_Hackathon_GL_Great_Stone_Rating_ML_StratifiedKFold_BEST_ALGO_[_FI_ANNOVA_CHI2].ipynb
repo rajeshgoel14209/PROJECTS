{
  "nbformat": 4,
  "nbformat_minor": 0,
  "metadata": {
    "colab": {
      "name": "v1.0_Hackathon_GL_Great_Stone_Rating_ML_StratifiedKFold_BEST_ALGO [ FI- ANNOVA-CHI2].ipynb",
      "provenance": [],
      "collapsed_sections": []
    },
    "kernelspec": {
      "name": "python3",
      "display_name": "Python 3"
    }
  },
  "cells": [
    {
      "cell_type": "code",
      "metadata": {
        "id": "dC2nTZdVEKdb",
        "colab_type": "code",
        "outputId": "e11c471f-8d77-4a51-9b9e-5576769ead3d",
        "colab": {
          "base_uri": "https://localhost:8080/",
          "height": 50
        }
      },
      "source": [
        "from google.colab import drive\n",
        "drive.mount('/gdrive')\n",
        "%cd /gdrive"
      ],
      "execution_count": 26,
      "outputs": [
        {
          "output_type": "stream",
          "text": [
            "Drive already mounted at /gdrive; to attempt to forcibly remount, call drive.mount(\"/gdrive\", force_remount=True).\n",
            "/gdrive\n"
          ],
          "name": "stdout"
        }
      ]
    },
    {
      "cell_type": "code",
      "metadata": {
        "id": "eh-owlxqEaGY",
        "colab_type": "code",
        "outputId": "68201c9e-c2c3-40e6-b8f9-ac5e1b96ad5a",
        "colab": {
          "base_uri": "https://localhost:8080/",
          "height": 196
        }
      },
      "source": [
        "#Common Model Algorithms\n",
        "from sklearn import svm, tree, linear_model, neighbors, naive_bayes, ensemble, discriminant_analysis, gaussian_process\n",
        "from xgboost import XGBClassifier\n",
        "\n",
        "import numpy as np # linear algebra\n",
        "import seaborn as sns\n",
        "import pandas as pd # data processing, CSV file I/O (e.g. pd.read_csv)\n",
        "import os\n",
        "# Input data files are available in the \"../input/\" directory.\n",
        "# For example, running this (by clicking run or pressing Shift+Enter) will list all files under the input directory\n",
        "\n",
        "import pandas\n",
        "import matplotlib.pyplot as plt\n",
        "%matplotlib inline\n",
        "! pip install plotly_express\n",
        "import plotly_express as px\n",
        "\n",
        "# Any results you write to the current directory are saved as output.\n",
        "\n",
        "#Common Model Helpers\n",
        "from sklearn.preprocessing import OneHotEncoder, LabelEncoder\n",
        "from sklearn import feature_selection\n",
        "from sklearn import model_selection\n",
        "from sklearn import metrics\n",
        "from sklearn.model_selection import train_test_split\n",
        "from sklearn.metrics import average_precision_score\n",
        "\n",
        "import io\n",
        "from datetime import datetime\n",
        "import time\n",
        "\n",
        "#Common Model Algorithms\n",
        "from sklearn import svm, tree, linear_model, neighbors, naive_bayes, ensemble, discriminant_analysis, gaussian_process\n",
        "from xgboost import XGBClassifier\n",
        "\n",
        "#Common Model Helpers\n",
        "from sklearn.preprocessing import OneHotEncoder, LabelEncoder\n",
        "from sklearn import feature_selection\n",
        "from sklearn import model_selection\n",
        "from sklearn.metrics import accuracy_score , roc_auc_score , f1_score, precision_score , average_precision_score , recall_score\n",
        "\n",
        "\n",
        "import sklearn\n",
        "from sklearn.linear_model import LogisticRegression\n",
        "from sklearn.neural_network import MLPClassifier\n",
        "from sklearn.naive_bayes import GaussianNB,BernoulliNB\n",
        "from sklearn.neighbors import KNeighborsClassifier\n",
        "from sklearn.svm import SVC\n",
        "from sklearn.tree import DecisionTreeClassifier\n",
        "from sklearn.ensemble import RandomForestClassifier\n",
        "from sklearn.multiclass import OneVsRestClassifier , OneVsOneClassifier \n",
        "from sklearn.model_selection import KFold, StratifiedKFold, cross_val_score, cross_val_predict , LeaveOneOut , ShuffleSplit,RandomizedSearchCV"
      ],
      "execution_count": 27,
      "outputs": [
        {
          "output_type": "stream",
          "text": [
            "Requirement already satisfied: plotly_express in /usr/local/lib/python3.6/dist-packages (0.4.1)\n",
            "Requirement already satisfied: scipy>=0.18 in /usr/local/lib/python3.6/dist-packages (from plotly_express) (1.4.1)\n",
            "Requirement already satisfied: pandas>=0.20.0 in /usr/local/lib/python3.6/dist-packages (from plotly_express) (1.0.3)\n",
            "Requirement already satisfied: patsy>=0.5 in /usr/local/lib/python3.6/dist-packages (from plotly_express) (0.5.1)\n",
            "Requirement already satisfied: numpy>=1.11 in /usr/local/lib/python3.6/dist-packages (from plotly_express) (1.18.4)\n",
            "Requirement already satisfied: statsmodels>=0.9.0 in /usr/local/lib/python3.6/dist-packages (from plotly_express) (0.10.2)\n",
            "Requirement already satisfied: plotly>=4.1.0 in /usr/local/lib/python3.6/dist-packages (from plotly_express) (4.4.1)\n",
            "Requirement already satisfied: pytz>=2017.2 in /usr/local/lib/python3.6/dist-packages (from pandas>=0.20.0->plotly_express) (2018.9)\n",
            "Requirement already satisfied: python-dateutil>=2.6.1 in /usr/local/lib/python3.6/dist-packages (from pandas>=0.20.0->plotly_express) (2.8.1)\n",
            "Requirement already satisfied: six in /usr/local/lib/python3.6/dist-packages (from patsy>=0.5->plotly_express) (1.12.0)\n",
            "Requirement already satisfied: retrying>=1.3.3 in /usr/local/lib/python3.6/dist-packages (from plotly>=4.1.0->plotly_express) (1.3.3)\n"
          ],
          "name": "stdout"
        }
      ]
    },
    {
      "cell_type": "code",
      "metadata": {
        "id": "hY471HSllLOv",
        "colab_type": "code",
        "colab": {}
      },
      "source": [
        "def reduce_mem_usage(df):\n",
        "    \"\"\" iterate through all the columns of a dataframe and modify the data type\n",
        "        to reduce memory usage.\n",
        "    \"\"\"\n",
        "    start_mem = df.memory_usage().sum() / 1024 ** 2\n",
        "    print('Memory usage of dataframe is {:.2f} MB'.format(start_mem))\n",
        "\n",
        "    for col in df.columns:\n",
        "        col_type = df[col].dtype\n",
        "\n",
        "        if col_type != object:\n",
        "            c_min = df[col].min()\n",
        "            c_max = df[col].max()\n",
        "            if str(col_type)[:3] == 'int':\n",
        "                if c_min > np.iinfo(np.int8).min and c_max < np.iinfo(np.int8).max:\n",
        "                    df[col] = df[col].astype(np.int8)\n",
        "                elif c_min > np.iinfo(np.int16).min and c_max < np.iinfo(np.int16).max:\n",
        "                    df[col] = df[col].astype(np.int16)\n",
        "                elif c_min > np.iinfo(np.int32).min and c_max < np.iinfo(np.int32).max:\n",
        "                    df[col] = df[col].astype(np.int32)\n",
        "                elif c_min > np.iinfo(np.int64).min and c_max < np.iinfo(np.int64).max:\n",
        "                    df[col] = df[col].astype(np.int64)\n",
        "            else:\n",
        "                if c_min > np.finfo(np.float16).min and c_max < np.finfo(np.float16).max:\n",
        "                    df[col] = df[col].astype(np.float16)\n",
        "                elif c_min > np.finfo(np.float32).min and c_max < np.finfo(np.float32).max:\n",
        "                    df[col] = df[col].astype(np.float32)\n",
        "                else:\n",
        "                    df[col] = df[col].astype(np.float64)\n",
        "        else:\n",
        "            df[col] = df[col].astype('category')\n",
        "\n",
        "    end_mem = df.memory_usage().sum() / 1024 ** 2\n",
        "    print('Memory usage after optimization is: {:.2f} MB'.format(end_mem))\n",
        "    print('Decreased by {:.1f}%'.format(100 * (start_mem - end_mem) / start_mem))\n",
        "\n",
        "    return df"
      ],
      "execution_count": 0,
      "outputs": []
    },
    {
      "cell_type": "code",
      "metadata": {
        "id": "6pGxylPwsMK-",
        "colab_type": "code",
        "colab": {}
      },
      "source": [
        "import os\n",
        "os.chdir('/gdrive/My Drive/Hackathon/GREATLEARNING-APRIL/FeatureEngineering/')"
      ],
      "execution_count": 0,
      "outputs": []
    },
    {
      "cell_type": "code",
      "metadata": {
        "id": "-nf_AgtERkPr",
        "colab_type": "code",
        "outputId": "b2aaa9fd-9f1d-4f75-c529-258dc661bb3e",
        "colab": {
          "base_uri": "https://localhost:8080/",
          "height": 82
        }
      },
      "source": [
        "!ls"
      ],
      "execution_count": 30,
      "outputs": [
        {
          "output_type": "stream",
          "text": [
            "bond_ratings.csv  finalDf_pca.csv\tfund_specs.csv\t     return_3year.csv\n",
            "data.csv\t  fund_allocations.csv\tother_specs.csv      return_5year.csv\n",
            "data_joined.csv   fund_config.csv\tprimary_keys_df.csv\n",
            "data_tst_ids.csv  fund_ratios.csv\treturn_10year.csv\n"
          ],
          "name": "stdout"
        }
      ]
    },
    {
      "cell_type": "code",
      "metadata": {
        "id": "Hw5wvq6_RY7l",
        "colab_type": "code",
        "colab": {}
      },
      "source": [
        "## copying the files to feature selection folder\n",
        "!cp data.csv  '/gdrive/My Drive/Hackathon/GREATLEARNING-APRIL/FeatureSelection/'\n",
        "!cp data_joined.csv  '/gdrive/My Drive/Hackathon/GREATLEARNING-APRIL/FeatureSelection/'"
      ],
      "execution_count": 0,
      "outputs": []
    },
    {
      "cell_type": "code",
      "metadata": {
        "id": "3Rj5a9vNR7i3",
        "colab_type": "code",
        "colab": {}
      },
      "source": [
        "os.chdir('/gdrive/My Drive/Hackathon/GREATLEARNING-APRIL/FeatureSelection/')"
      ],
      "execution_count": 0,
      "outputs": []
    },
    {
      "cell_type": "code",
      "metadata": {
        "id": "uYrdgxMZRbOE",
        "colab_type": "code",
        "outputId": "1039b9c6-941c-487d-b0ae-bfd1769a95cc",
        "colab": {
          "base_uri": "https://localhost:8080/",
          "height": 196
        }
      },
      "source": [
        "!ls"
      ],
      "execution_count": 33,
      "outputs": [
        {
          "output_type": "stream",
          "text": [
            "best_columns.csv\n",
            "data.csv\n",
            "data_joined.csv\n",
            "data_tst_ids.csv\n",
            "df_ns_df_sorted_annova.csv\n",
            "df_ns_df_sorted_chi2.csv\n",
            "df_ns_df_sorted_FI.csv\n",
            "Feature-Selection-Methods.png\n",
            "finalDf_pca.csv\n",
            "Hackathon_GreatLearning_Great_Stone_Rating_DeepNeural.h5\n",
            "sample_submission.csv\n"
          ],
          "name": "stdout"
        }
      ]
    },
    {
      "cell_type": "code",
      "metadata": {
        "id": "HP6o8JiEXs8Q",
        "colab_type": "code",
        "outputId": "a4f7e716-9e8c-4a2b-d903-6cf4a4892742",
        "colab": {
          "base_uri": "https://localhost:8080/",
          "height": 82
        }
      },
      "source": [
        "data = pd.read_csv(\"/gdrive/My Drive/Hackathon/GREATLEARNING-APRIL/FeatureSelection/data.csv\")\n",
        "data_joined = pd.read_csv(\"/gdrive/My Drive/Hackathon/GREATLEARNING-APRIL/FeatureSelection/data_joined.csv\")\n",
        "best_columns = pd.read_csv(\"/gdrive/My Drive/Hackathon/GREATLEARNING-APRIL/FeatureSelection/best_columns.csv\")\n",
        "finalDf_pca = pd.read_csv(\"/gdrive/My Drive/Hackathon/GREATLEARNING-APRIL/FeatureSelection/finalDf_pca.csv\")\n",
        "sample_submission = pd.read_csv(\"/gdrive/My Drive/Hackathon/GREATLEARNING-APRIL/FeatureSelection/sample_submission.csv\")\n",
        "data_tst_ids = pd.read_csv(\"/gdrive/My Drive/Hackathon/GREATLEARNING-APRIL/FeatureSelection/data_tst_ids.csv\")"
      ],
      "execution_count": 34,
      "outputs": [
        {
          "output_type": "stream",
          "text": [
            "/usr/local/lib/python3.6/dist-packages/IPython/core/interactiveshell.py:2718: DtypeWarning:\n",
            "\n",
            "Columns (7,9,10,18,57,80) have mixed types.Specify dtype option on import or set low_memory=False.\n",
            "\n"
          ],
          "name": "stderr"
        }
      ]
    },
    {
      "cell_type": "code",
      "metadata": {
        "id": "fuiplM3eTQU6",
        "colab_type": "code",
        "outputId": "c17fe78c-4f6d-4b09-d1db-ca5e529c3219",
        "colab": {
          "base_uri": "https://localhost:8080/",
          "height": 66
        }
      },
      "source": [
        "col_int = data.drop(columns=['greatstone_rating'],axis=1).select_dtypes(exclude=('category','object')).columns\n",
        "col_id = ['tag','id','fund_id']\n",
        "col_tgt = ['greatstone_rating']\n",
        "col_cat = data.drop(columns=['greatstone_rating'],axis=1).select_dtypes(include=('category','object')).columns\n",
        "print(len(col_int)+len(col_id)+len(col_tgt)+len(col_cat))\n",
        "print('col_int :- ',len(col_int),'| col_cat :-',len(col_cat),'| col_id :-',len(col_id),'| col_tgt :-',len(col_tgt))\n",
        "print(col_cat)"
      ],
      "execution_count": 35,
      "outputs": [
        {
          "output_type": "stream",
          "text": [
            "958\n",
            "col_int :-  954 | col_cat :- 0 | col_id :- 3 | col_tgt :- 1\n",
            "Index([], dtype='object')\n"
          ],
          "name": "stdout"
        }
      ]
    },
    {
      "cell_type": "code",
      "metadata": {
        "id": "FNkQohcByFeu",
        "colab_type": "code",
        "outputId": "99d6b1c6-2a64-4b5e-eef7-b5c6ea4c4528",
        "colab": {
          "base_uri": "https://localhost:8080/",
          "height": 33
        }
      },
      "source": [
        "data.isnull().sum().sum()"
      ],
      "execution_count": 36,
      "outputs": [
        {
          "output_type": "execute_result",
          "data": {
            "text/plain": [
              "5000"
            ]
          },
          "metadata": {
            "tags": []
          },
          "execution_count": 36
        }
      ]
    },
    {
      "cell_type": "code",
      "metadata": {
        "id": "tezWpA7oyKAM",
        "colab_type": "code",
        "outputId": "40e50c0b-a5e9-439d-d975-162e832e19d5",
        "colab": {
          "base_uri": "https://localhost:8080/",
          "height": 33
        }
      },
      "source": [
        "data.shape"
      ],
      "execution_count": 37,
      "outputs": [
        {
          "output_type": "execute_result",
          "data": {
            "text/plain": [
              "(45716, 955)"
            ]
          },
          "metadata": {
            "tags": []
          },
          "execution_count": 37
        }
      ]
    },
    {
      "cell_type": "markdown",
      "metadata": {
        "id": "oLWPdUcJW0Z3",
        "colab_type": "text"
      },
      "source": [
        ".values will give the values in an array. (shape: (n,1)\n",
        "\n",
        ".ravel will convert that array shape to (n, )\n"
      ]
    },
    {
      "cell_type": "code",
      "metadata": {
        "id": "9AdAAF29WQhj",
        "colab_type": "code",
        "colab": {
          "base_uri": "https://localhost:8080/",
          "height": 33
        },
        "outputId": "334c2ad0-820f-4f6b-a5d0-f2ffb485e111"
      },
      "source": [
        "set1 = set(best_columns.FI)\n",
        "set2 = set(best_columns.CHI2)\n",
        "set3 = set(best_columns.ANNOVA)\n",
        "bst_col = list(set1|set2|set3)\n",
        "print(len(bst_col))"
      ],
      "execution_count": 38,
      "outputs": [
        {
          "output_type": "stream",
          "text": [
            "93\n"
          ],
          "name": "stdout"
        }
      ]
    },
    {
      "cell_type": "code",
      "metadata": {
        "id": "-wmrPGkiWwH5",
        "colab_type": "code",
        "outputId": "7267c3d3-2335-4a81-8656-dfdfc03bc276",
        "colab": {
          "base_uri": "https://localhost:8080/",
          "height": 420
        }
      },
      "source": [
        "################################ OUTLIERS DETECTION  #################################\n",
        "out_compare = pd.DataFrame(columns=['Column_name'])\n",
        "\n",
        "col=bst_col\n",
        "\n",
        "for i in range(len(col)):\n",
        "  factor=2.5\n",
        "  upper_lmt=data[col[i]].mean()+data[col[i]].std()*factor\n",
        "  lower_lmt=data[col[i]].mean()-data[col[i]].std()*factor\n",
        "  out_compare.loc[i,'Column_name']=col[i]\n",
        "  out_compare.loc[i,'upper_lmt']=upper_lmt\n",
        "  out_compare.loc[i,'lower_lmt']=lower_lmt\n",
        "  out_compare.loc[i,'upper_outlier(%)']='{0:=5.2f} %'.format((data[(data[col[i]]>upper_lmt)==True][col[i]].count()/data[col[i]].count())*100)\n",
        "  out_compare.loc[i,'lower_outlier(%)']='{0:<5.2f} %'.format((data[(data[col[i]]<lower_lmt)==True][col[i]].count()/data[col[i]].count())*100)\n",
        "\n",
        "\n",
        "out_compare = out_compare.sort_values(by=['upper_outlier(%)','lower_outlier(%)'],ascending=False)\n",
        "out_compare.set_index('Column_name',inplace=True)\n",
        "out_compare\n",
        "\n",
        "#Capping the outlier rows with Percentiles\n",
        "#upper_lim = data['column'].quantile(.95)\n",
        "#lower_lim = data['column'].quantile(.05)"
      ],
      "execution_count": 39,
      "outputs": [
        {
          "output_type": "execute_result",
          "data": {
            "text/html": [
              "<div>\n",
              "<style scoped>\n",
              "    .dataframe tbody tr th:only-of-type {\n",
              "        vertical-align: middle;\n",
              "    }\n",
              "\n",
              "    .dataframe tbody tr th {\n",
              "        vertical-align: top;\n",
              "    }\n",
              "\n",
              "    .dataframe thead th {\n",
              "        text-align: right;\n",
              "    }\n",
              "</style>\n",
              "<table border=\"1\" class=\"dataframe\">\n",
              "  <thead>\n",
              "    <tr style=\"text-align: right;\">\n",
              "      <th></th>\n",
              "      <th>upper_lmt</th>\n",
              "      <th>lower_lmt</th>\n",
              "      <th>upper_outlier(%)</th>\n",
              "      <th>lower_outlier(%)</th>\n",
              "    </tr>\n",
              "    <tr>\n",
              "      <th>Column_name</th>\n",
              "      <th></th>\n",
              "      <th></th>\n",
              "      <th></th>\n",
              "      <th></th>\n",
              "    </tr>\n",
              "  </thead>\n",
              "  <tbody>\n",
              "    <tr>\n",
              "      <th>is_month_end</th>\n",
              "      <td>0.893052</td>\n",
              "      <td>-0.649392</td>\n",
              "      <td>9.40 %</td>\n",
              "      <td>0.00  %</td>\n",
              "    </tr>\n",
              "    <tr>\n",
              "      <th>aa_rating</th>\n",
              "      <td>29.529866</td>\n",
              "      <td>-21.388486</td>\n",
              "      <td>4.35 %</td>\n",
              "      <td>0.00  %</td>\n",
              "    </tr>\n",
              "    <tr>\n",
              "      <th>category_43</th>\n",
              "      <td>0.505012</td>\n",
              "      <td>-0.426176</td>\n",
              "      <td>3.94 %</td>\n",
              "      <td>0.00  %</td>\n",
              "    </tr>\n",
              "    <tr>\n",
              "      <th>2011_return_category</th>\n",
              "      <td>13.298608</td>\n",
              "      <td>-5.765797</td>\n",
              "      <td>3.93 %</td>\n",
              "      <td>0.00  %</td>\n",
              "    </tr>\n",
              "    <tr>\n",
              "      <th>cash_percent_of_portfolio</th>\n",
              "      <td>43.412827</td>\n",
              "      <td>-26.534914</td>\n",
              "      <td>3.48 %</td>\n",
              "      <td>0.00  %</td>\n",
              "    </tr>\n",
              "    <tr>\n",
              "      <th>...</th>\n",
              "      <td>...</td>\n",
              "      <td>...</td>\n",
              "      <td>...</td>\n",
              "      <td>...</td>\n",
              "    </tr>\n",
              "    <tr>\n",
              "      <th>Weekday_Name</th>\n",
              "      <td>7.758233</td>\n",
              "      <td>-2.278549</td>\n",
              "      <td>0.00 %</td>\n",
              "      <td>0.00  %</td>\n",
              "    </tr>\n",
              "    <tr>\n",
              "      <th>category</th>\n",
              "      <td>129.203636</td>\n",
              "      <td>-20.599442</td>\n",
              "      <td>0.00 %</td>\n",
              "      <td>0.00  %</td>\n",
              "    </tr>\n",
              "    <tr>\n",
              "      <th>is_leap_year</th>\n",
              "      <td>1.305046</td>\n",
              "      <td>-0.772488</td>\n",
              "      <td>0.00 %</td>\n",
              "      <td>0.00  %</td>\n",
              "    </tr>\n",
              "    <tr>\n",
              "      <th>Month</th>\n",
              "      <td>15.325531</td>\n",
              "      <td>-1.516094</td>\n",
              "      <td>0.00 %</td>\n",
              "      <td>0.00  %</td>\n",
              "    </tr>\n",
              "    <tr>\n",
              "      <th>parent_company</th>\n",
              "      <td>884.842980</td>\n",
              "      <td>-110.111674</td>\n",
              "      <td>0.00 %</td>\n",
              "      <td>0.00  %</td>\n",
              "    </tr>\n",
              "  </tbody>\n",
              "</table>\n",
              "<p>93 rows × 4 columns</p>\n",
              "</div>"
            ],
            "text/plain": [
              "                            upper_lmt  ...  lower_outlier(%)\n",
              "Column_name                            ...                  \n",
              "is_month_end                 0.893052  ...           0.00  %\n",
              "aa_rating                   29.529866  ...           0.00  %\n",
              "category_43                  0.505012  ...           0.00  %\n",
              "2011_return_category        13.298608  ...           0.00  %\n",
              "cash_percent_of_portfolio   43.412827  ...           0.00  %\n",
              "...                               ...  ...               ...\n",
              "Weekday_Name                 7.758233  ...           0.00  %\n",
              "category                   129.203636  ...           0.00  %\n",
              "is_leap_year                 1.305046  ...           0.00  %\n",
              "Month                       15.325531  ...           0.00  %\n",
              "parent_company             884.842980  ...           0.00  %\n",
              "\n",
              "[93 rows x 4 columns]"
            ]
          },
          "metadata": {
            "tags": []
          },
          "execution_count": 39
        }
      ]
    },
    {
      "cell_type": "code",
      "metadata": {
        "id": "k-gr0RlMWwEw",
        "colab_type": "code",
        "outputId": "1d83b4cb-855d-4b2c-aba3-2ea2841c48af",
        "colab": {
          "base_uri": "https://localhost:8080/",
          "height": 420
        }
      },
      "source": [
        "#################### OUTLIERS TREATMENT and Verifying it after the treatment     ##############################\n",
        "\n",
        "col=bst_col\n",
        "\n",
        "out_fx_compare = pd.DataFrame(columns=['Column_name'])\n",
        "\n",
        "for i in range(len(col)):\n",
        "  \n",
        "  #repl_value = out_compare.loc[col[i],'upper_lmt']\n",
        "  repl_value = data[col[i]].mean()\n",
        "  #print('column {}:- has mean value {}'.format(col[i],repl_value))\n",
        "  data[col[i]].replace(data[(data[col[i]]>out_compare.loc[col[i],'upper_lmt'])==True][col[i]],repl_value,inplace=True)  ## value replacement upper limit\n",
        "  data[col[i]].replace(data[(data[col[i]]<out_compare.loc[col[i],'lower_lmt'])==True][col[i]],repl_value,inplace=True) ## value replacement lower limit\n",
        "  \n",
        "  out_fx_compare.loc[i,'Column_name']=col[i]\n",
        "  out_fx_compare.loc[i,'upper_lmt_old']=out_compare.loc[col[i],'upper_lmt']\n",
        "  out_fx_compare.loc[i,'lower_lmt_old']=out_compare.loc[col[i],'lower_lmt']\n",
        "  out_fx_compare.loc[i,'upper_outlier_nw(%)']='{0:=5.2f} %'.format((data[(data[col[i]]>out_compare.loc[col[i],'upper_lmt'])==True][col[i]].count()/data[col[i]].count())*100)\n",
        "  out_fx_compare.loc[i,'lower_outlier_nw(%)']='{0:<5.2f} %'.format((data[(data[col[i]]<out_compare.loc[col[i],'lower_lmt'])==True][col[i]].count()/data[col[i]].count())*100)\n",
        " \n",
        "out_fx_compare = out_fx_compare.sort_values(by=['upper_lmt_old'],ascending=False)\n",
        "out_fx_compare.set_index('Column_name',inplace=True)\n",
        "out_fx_compare\n"
      ],
      "execution_count": 40,
      "outputs": [
        {
          "output_type": "execute_result",
          "data": {
            "text/html": [
              "<div>\n",
              "<style scoped>\n",
              "    .dataframe tbody tr th:only-of-type {\n",
              "        vertical-align: middle;\n",
              "    }\n",
              "\n",
              "    .dataframe tbody tr th {\n",
              "        vertical-align: top;\n",
              "    }\n",
              "\n",
              "    .dataframe thead th {\n",
              "        text-align: right;\n",
              "    }\n",
              "</style>\n",
              "<table border=\"1\" class=\"dataframe\">\n",
              "  <thead>\n",
              "    <tr style=\"text-align: right;\">\n",
              "      <th></th>\n",
              "      <th>upper_lmt_old</th>\n",
              "      <th>lower_lmt_old</th>\n",
              "      <th>upper_outlier_nw(%)</th>\n",
              "      <th>lower_outlier_nw(%)</th>\n",
              "    </tr>\n",
              "    <tr>\n",
              "      <th>Column_name</th>\n",
              "      <th></th>\n",
              "      <th></th>\n",
              "      <th></th>\n",
              "      <th></th>\n",
              "    </tr>\n",
              "  </thead>\n",
              "  <tbody>\n",
              "    <tr>\n",
              "      <th>total_assets</th>\n",
              "      <td>4.430565e+10</td>\n",
              "      <td>-3.806358e+10</td>\n",
              "      <td>0.00 %</td>\n",
              "      <td>0.00  %</td>\n",
              "    </tr>\n",
              "    <tr>\n",
              "      <th>mmc</th>\n",
              "      <td>1.053445e+05</td>\n",
              "      <td>-5.160337e+04</td>\n",
              "      <td>0.00 %</td>\n",
              "      <td>0.00  %</td>\n",
              "    </tr>\n",
              "    <tr>\n",
              "      <th>pc_ratio</th>\n",
              "      <td>1.067495e+03</td>\n",
              "      <td>-1.034526e+03</td>\n",
              "      <td>0.00 %</td>\n",
              "      <td>0.00  %</td>\n",
              "    </tr>\n",
              "    <tr>\n",
              "      <th>parent_company</th>\n",
              "      <td>8.848430e+02</td>\n",
              "      <td>-1.101117e+02</td>\n",
              "      <td>0.00 %</td>\n",
              "      <td>0.00  %</td>\n",
              "    </tr>\n",
              "    <tr>\n",
              "      <th>10yrs_treynor_ratio_fund</th>\n",
              "      <td>3.116803e+02</td>\n",
              "      <td>-2.788515e+02</td>\n",
              "      <td>0.00 %</td>\n",
              "      <td>0.00  %</td>\n",
              "    </tr>\n",
              "    <tr>\n",
              "      <th>...</th>\n",
              "      <td>...</td>\n",
              "      <td>...</td>\n",
              "      <td>...</td>\n",
              "      <td>...</td>\n",
              "    </tr>\n",
              "    <tr>\n",
              "      <th>parent_company_537</th>\n",
              "      <td>7.507865e-02</td>\n",
              "      <td>-7.297960e-02</td>\n",
              "      <td>0.00 %</td>\n",
              "      <td>0.00  %</td>\n",
              "    </tr>\n",
              "    <tr>\n",
              "      <th>parent_company_680</th>\n",
              "      <td>7.090372e-02</td>\n",
              "      <td>-6.888975e-02</td>\n",
              "      <td>0.00 %</td>\n",
              "      <td>0.00  %</td>\n",
              "    </tr>\n",
              "    <tr>\n",
              "      <th>parent_company_233</th>\n",
              "      <td>6.783914e-02</td>\n",
              "      <td>-6.594290e-02</td>\n",
              "      <td>0.00 %</td>\n",
              "      <td>0.00  %</td>\n",
              "    </tr>\n",
              "    <tr>\n",
              "      <th>5yrs_sharpe_ratio_category</th>\n",
              "      <td>1.760355e-02</td>\n",
              "      <td>-5.572999e-03</td>\n",
              "      <td>0.00 %</td>\n",
              "      <td>0.00  %</td>\n",
              "    </tr>\n",
              "    <tr>\n",
              "      <th>10yrs_sharpe_ratio_category</th>\n",
              "      <td>1.478690e-02</td>\n",
              "      <td>4.132109e-03</td>\n",
              "      <td>0.00 %</td>\n",
              "      <td>0.00  %</td>\n",
              "    </tr>\n",
              "  </tbody>\n",
              "</table>\n",
              "<p>93 rows × 4 columns</p>\n",
              "</div>"
            ],
            "text/plain": [
              "                             upper_lmt_old  ...  lower_outlier_nw(%)\n",
              "Column_name                                 ...                     \n",
              "total_assets                  4.430565e+10  ...              0.00  %\n",
              "mmc                           1.053445e+05  ...              0.00  %\n",
              "pc_ratio                      1.067495e+03  ...              0.00  %\n",
              "parent_company                8.848430e+02  ...              0.00  %\n",
              "10yrs_treynor_ratio_fund      3.116803e+02  ...              0.00  %\n",
              "...                                    ...  ...                  ...\n",
              "parent_company_537            7.507865e-02  ...              0.00  %\n",
              "parent_company_680            7.090372e-02  ...              0.00  %\n",
              "parent_company_233            6.783914e-02  ...              0.00  %\n",
              "5yrs_sharpe_ratio_category    1.760355e-02  ...              0.00  %\n",
              "10yrs_sharpe_ratio_category   1.478690e-02  ...              0.00  %\n",
              "\n",
              "[93 rows x 4 columns]"
            ]
          },
          "metadata": {
            "tags": []
          },
          "execution_count": 40
        }
      ]
    },
    {
      "cell_type": "code",
      "metadata": {
        "id": "rYAXc3zZY5Rp",
        "colab_type": "code",
        "outputId": "bd66588e-02f5-47de-be1c-2351b86b3404",
        "colab": {
          "base_uri": "https://localhost:8080/",
          "height": 115
        }
      },
      "source": [
        "###############################################################  KFOLD VALIDATION STRATIFIED ######################################################################\n",
        "\n",
        "from sklearn import preprocessing\n",
        "mm_scaler = preprocessing.MinMaxScaler()\n",
        "  \n",
        "\n",
        "data_train = data[~data.greatstone_rating.isnull()]\n",
        "data_tst = data[data.greatstone_rating.isnull()]\n",
        "data_train.shape\n",
        "\n",
        "models = []\n",
        "#models.append(('LogisticRegression', LogisticRegression()))\n",
        "#models.append(('GaussianNB', naive_bayes.GaussianNB()))\n",
        "#models.append(('KNeighborsClassifier', KNeighborsClassifier()))\n",
        "#models.append(('SVC', SVC()))\n",
        "#models.append(('DecisionTreeClassifier', DecisionTreeClassifier(max_depth=20)))\n",
        "models.append(('RandomForestClassifier', RandomForestClassifier(n_estimators=450,bootstrap=False,max_depth=None,max_features='auto',min_samples_leaf=1,min_samples_split=2)))\n",
        "models.append(('AdaBoostClassifier', ensemble.AdaBoostClassifier()))\n",
        "models.append(('BaggingClassifier', ensemble.BaggingClassifier()))\n",
        "models.append(('GradientBoostingClassifier', ensemble.GradientBoostingClassifier()))\n",
        "#models.append(('naive_bayes.BernoulliNB',  naive_bayes.BernoulliNB()))\n",
        "#models.append(('MLPClassifier',  MLPClassifier(hidden_layer_sizes = [100]*5)))\n",
        "models.append(('XGBClassifier', XGBClassifier()))\n",
        "\n",
        "matrix_tbl = pd.DataFrame()\n",
        "\n",
        "i=0\n",
        "k=0\n",
        "n_splits = 8\n",
        "best_col = ['FI','ANNOVA','CHI2']\n",
        "\n",
        "for k in range(len(best_col)):\n",
        "\n",
        "  import pytz\n",
        "  from datetime import datetime\n",
        "  # assuming now contains a timezone aware datetime\n",
        "  now = datetime.now()\n",
        "  tz = pytz.timezone('Asia/Kolkata')\n",
        "  your_now = now.astimezone(tz)\n",
        "  print (your_now)\n",
        "\n",
        "  print(\"Feature Selection Technique used :-\",best_col[k], \"\\n\")\n",
        "\n",
        "  X_0 = data_train[best_columns[best_col[k]]]      \n",
        "  y_0 = data_train[col_tgt]\n",
        "\n",
        "\n",
        "\n",
        "\n",
        "\n",
        "  np.random.seed(7)\n",
        "  kfold = StratifiedKFold(n_splits=n_splits,random_state=None)\n",
        "  #kfold = StratifiedKFold(n_splits=n_splits, shuffle=True, random_state=21312)\n",
        "  # KFold,GroupKFold  , ShuffleSplit, GroupShuffleSplit  ,StratifiedKFold, StratifiedShuffleSplit\n",
        "                                     \n",
        "                                     \n",
        "  \n",
        "\n",
        "\n",
        "  ################################################################################################################################################################\n",
        "\n",
        "\n",
        "    \n",
        "  for name, model in models:\n",
        "      cvscore_train = []\n",
        "      cvscore_test = []\n",
        "      for train, test in kfold.split(X_0, y_0):\n",
        "            X_train = X_0.iloc[train,:]\n",
        "            X_test = X_0.iloc[test,:]\n",
        "            X_train_minmax_0 = mm_scaler.fit_transform(X_train)\n",
        "            X_valid_minmax_0 = mm_scaler.fit_transform(X_test)\n",
        "            #print(X_train_minmax_0.shape[1])\n",
        "            y_train_0 = y_0.iloc[train,:]\n",
        "            y_valid_0 = y_0.iloc[test,:]\n",
        "            y_train_0 = y_train_0.values.ravel()\n",
        "            y_valid_0 = y_valid_0.values.ravel()\n",
        "\n",
        "            # X_train_0,X_valid_0,y_train_0,y_valid_0 = train_test_split(X_0,y_0,test_size=0.3,random_state=576)\n",
        "            #print(\"TRAIN:\", train, \"TEST:\", test)\n",
        "            print(X_train_minmax_0.shape,y_train_0.shape,X_valid_minmax_0.shape,y_valid_0.shape)\n",
        "\n",
        "            print(\"\\n\")\n",
        "            #model = model.fit(X_train_minmax_0, y_train_0)\n",
        "            model_OVRC = OneVsRestClassifier(model) # OneVsOneClassifier ,OneVsRestClassifier\n",
        "            model_OVRC.fit(X_train_minmax_0, y_train_0)\n",
        "            print(\"for the model {} train score is {} and test score is {}\".format(name,model_OVRC.score(X_train_minmax_0, y_train_0),model_OVRC.score(X_valid_minmax_0, y_valid_0)))\n",
        "            #print(\"Train score :- \", model_OVRC.score(X_train_minmax_0, y_train_0))\n",
        "            #print(\"Test score :- \", model_OVRC.score(X_valid_minmax_0, y_valid_0))\n",
        "            cvscore_train.append(model_OVRC.score(X_train_minmax_0, y_train_0))\n",
        "            cvscore_test.append(model_OVRC.score(X_valid_minmax_0, y_valid_0))\n",
        "\n",
        "      print(\"Mean Accuracy (+/- Std Dev):-  %.2f%% (+/- %.2f%%)\" % (np.mean(cvscore_test), np.std(cvscore_test)))\n",
        "      print(\"\\n\")\n",
        "\n",
        "      matrix_tbl.loc[i,'Feature'] = best_col[k]\n",
        "      matrix_tbl.loc[i,'Number_of_columns'] = X_train_minmax_0.shape[1]\n",
        "      matrix_tbl.loc[i,'name'] = name\n",
        "      matrix_tbl.loc[i,'Mean_Train_score'] = np.mean(cvscore_train)\n",
        "      matrix_tbl.loc[i,'Train_score_Std_dev'] = np.std(cvscore_train)\n",
        "      matrix_tbl.loc[i,'Mean_Test_score'] = np.mean(cvscore_train)\n",
        "      matrix_tbl.loc[i,'Test_score_Std_dev'] = np.std(cvscore_train)\n",
        "      i=i+1\n",
        "  \n",
        "print(\"\\n\")\n",
        "\n",
        "import pytz\n",
        "from datetime import datetime\n",
        "# assuming now contains a timezone aware datetime\n",
        "now = datetime.now()\n",
        "tz = pytz.timezone('Asia/Kolkata')\n",
        "your_now = now.astimezone(tz)\n",
        "print (your_now)\n",
        "\n",
        "print(\"**************************************************\\n\")\n",
        "\n"
      ],
      "execution_count": 0,
      "outputs": [
        {
          "output_type": "stream",
          "text": [
            "2020-05-11 08:50:23.434417+05:30\n",
            "Feature Selection Technique used :- FI \n",
            "\n",
            "(35626, 50) (35626,) (5090, 50) (5090,)\n",
            "\n",
            "\n"
          ],
          "name": "stdout"
        }
      ]
    },
    {
      "cell_type": "code",
      "metadata": {
        "id": "Od8rx8vJMA92",
        "colab_type": "code",
        "colab": {}
      },
      "source": [
        "matrix_tbl_pivot =  pd.pivot_table(matrix_tbl,index=['Feature','name'])"
      ],
      "execution_count": 0,
      "outputs": []
    },
    {
      "cell_type": "code",
      "metadata": {
        "id": "pDRMtVpIJs9Z",
        "colab_type": "code",
        "colab": {}
      },
      "source": [
        "matrix_tbl_pivot"
      ],
      "execution_count": 0,
      "outputs": []
    },
    {
      "cell_type": "code",
      "metadata": {
        "id": "4bnJjTRYKk0l",
        "colab_type": "code",
        "colab": {}
      },
      "source": [
        ""
      ],
      "execution_count": 0,
      "outputs": []
    },
    {
      "cell_type": "markdown",
      "metadata": {
        "id": "dgp274xuli-r",
        "colab_type": "text"
      },
      "source": [
        "# **MODEL TRAINING ON BEST MODEL**"
      ]
    },
    {
      "cell_type": "code",
      "metadata": {
        "id": "uG9EnhWVKkrB",
        "colab_type": "code",
        "colab": {}
      },
      "source": [
        "###############################################################  KFOLD VALIDATION STRATIFIED ######################################################################\n",
        "\n",
        "from sklearn import preprocessing\n",
        "mm_scaler = preprocessing.MinMaxScaler()\n",
        "  \n",
        "attributes= best_columns.FI\n",
        "n_splits = 8\n",
        "\n",
        "data_train = data[~data.greatstone_rating.isnull()]\n",
        "data_tst = data[data.greatstone_rating.isnull()]\n",
        "data_train.shape\n",
        "\n",
        "\n",
        "import pytz\n",
        "from datetime import datetime\n",
        "# assuming now contains a timezone aware datetime\n",
        "now = datetime.now()\n",
        "tz = pytz.timezone('Asia/Kolkata')\n",
        "your_now = now.astimezone(tz)\n",
        "print (your_now)\n",
        "\n",
        "\n",
        "X_0 = data_train[attributes]      \n",
        "y_0 = data_train[col_tgt]\n",
        "\n",
        "cvscore_train = []\n",
        "cvscore_test = []\n",
        "\n",
        "np.random.seed(7)\n",
        "kfold = StratifiedKFold(n_splits=n_splits,random_state=None)\n",
        "#kfold = StratifiedKFold(n_splits=n_splits, shuffle=True, random_state=21312)\n",
        "  \n",
        "\n",
        "\n",
        "  ################################################################################################################################################################\n",
        "model_OVRC = OneVsRestClassifier(RandomForestClassifier(n_estimators=450,bootstrap=False,max_depth=30,max_features='auto',min_samples_leaf=1,min_samples_split=2)) # OneVsOneClassifier ,OneVsRestClassifier\n",
        "for train, test in kfold.split(X_0, y_0):\n",
        "        X_train = X_0.iloc[train,:]\n",
        "        X_test = X_0.iloc[test,:]\n",
        "        X_train_minmax_0 = mm_scaler.fit_transform(X_train)\n",
        "        X_valid_minmax_0 = mm_scaler.fit_transform(X_test)\n",
        "        #print(X_train_minmax_0.shape[1])\n",
        "        y_train_0 = y_0.iloc[train,:]\n",
        "        y_valid_0 = y_0.iloc[test,:]\n",
        "        y_train_0 = y_train_0.values.ravel()\n",
        "        y_valid_0 = y_valid_0.values.ravel()\n",
        "\n",
        "        # X_train_0,X_valid_0,y_train_0,y_valid_0 = train_test_split(X_0,y_0,test_size=0.3,random_state=576)\n",
        "        #print(\"TRAIN:\", train, \"TEST:\", test)\n",
        "        print(X_train_minmax_0.shape,y_train_0.shape,X_valid_minmax_0.shape,y_valid_0.shape)\n",
        "\n",
        "        print(\"\\n\")\n",
        "        model_OVRC.fit(X_train_minmax_0, y_train_0)\n",
        "        print(\"for the model  train score is {} and test score is {}\".format(model_OVRC.score(X_train_minmax_0, y_train_0),model_OVRC.score(X_valid_minmax_0, y_valid_0)))\n",
        "        cvscore_train.append(model_OVRC.score(X_train_minmax_0, y_train_0))\n",
        "        cvscore_test.append(model_OVRC.score(X_valid_minmax_0, y_valid_0))\n",
        "\n",
        "print(\"Mean Accuracy (+/- Std Dev):-  %.2f%% (+/- %.2f%%)\" % (np.mean(cvscore_test), np.std(cvscore_test)))\n",
        "\n",
        "\n",
        "import pytz\n",
        "from datetime import datetime\n",
        "# assuming now contains a timezone aware datetime\n",
        "now = datetime.now()\n",
        "tz = pytz.timezone('Asia/Kolkata')\n",
        "your_now = now.astimezone(tz)\n",
        "print (your_now)\n",
        "\n"
      ],
      "execution_count": 0,
      "outputs": []
    },
    {
      "cell_type": "code",
      "metadata": {
        "id": "pzFW9YGslqMq",
        "colab_type": "code",
        "colab": {}
      },
      "source": [
        ""
      ],
      "execution_count": 0,
      "outputs": []
    },
    {
      "cell_type": "code",
      "metadata": {
        "id": "UbYpL_4dlqJd",
        "colab_type": "code",
        "colab": {}
      },
      "source": [
        ""
      ],
      "execution_count": 0,
      "outputs": []
    },
    {
      "cell_type": "markdown",
      "metadata": {
        "id": "MjEC4axJJggc",
        "colab_type": "text"
      },
      "source": [
        "# **MODEL PREDICTIONS ON TEST DATA**"
      ]
    },
    {
      "cell_type": "code",
      "metadata": {
        "id": "A0c-AApWWmKC",
        "colab_type": "code",
        "colab": {}
      },
      "source": [
        "####################################################***** PREDICTIONS ********############################################################################"
      ],
      "execution_count": 0,
      "outputs": []
    },
    {
      "cell_type": "code",
      "metadata": {
        "id": "1mLukZmh3SeB",
        "colab_type": "code",
        "colab": {}
      },
      "source": [
        "data_tst = data[data.greatstone_rating.isnull()]\n",
        "\n",
        "data_tst_df = data_tst[attributes]\n",
        "\n",
        "data_tst_minmax_0 = mm_scaler.fit_transform(data_tst_df)\n",
        "\n",
        "model_OVRC_predict = model_OVRC.predict(data_tst_minmax_0)\n",
        "\n",
        "\n",
        "prediction = pd.DataFrame(model_OVRC_predict,columns=['greatstone_rating'])\n",
        "\n",
        "print(\"prediction.isnull() :- \", prediction.isnull().sum())\n",
        "\n",
        "\n",
        "prediction_df = prediction.reset_index().groupby('greatstone_rating').count().reset_index().rename(columns={'index':'count'}).sort_values(by='greatstone_rating',ascending=True)\n",
        "\n",
        "\n",
        "df1 =pd.DataFrame()\n",
        "\n",
        "df1['tag'] = data_tst_ids.tag\n",
        "df1['id'] = data_tst_ids.id\n",
        "df1['fund_id'] = data_tst_ids.fund_id\n",
        "df1['greatstone_rating'] = prediction.greatstone_rating\n",
        "\n",
        "\n",
        "\n",
        "df2 = pd.merge(sample_submission.drop(columns='greatstone_rating',axis=1),df1,how='left',on='fund_id')\n",
        "\n",
        "\n",
        "df2.drop(columns=['tag','id'],axis=1,inplace=True)\n",
        "\n",
        "\n",
        "df2.reset_index().groupby('greatstone_rating').count().reset_index().rename(columns={'index':'count'}).sort_values(by='greatstone_rating',ascending=True)\n",
        "\n",
        "\n",
        "from IPython.display import HTML\n",
        "import pandas as pd\n",
        "import numpy as np\n",
        "import base64\n",
        "\n",
        "def create_download_link(df, title = \"Download CSV file\", filename = \"submission.csv\"):  \n",
        "    csv = df.to_csv(index=False)\n",
        "    b64 = base64.b64encode(csv.encode())\n",
        "    payload = b64.decode()\n",
        "    html = '<a download=\"{filename}\" href=\"data:text/csv;base64,{payload}\" target=\"_blank\">{title}</a>'\n",
        "    html = html.format(payload=payload,title=title,filename=filename)\n",
        "    return HTML(html)\n",
        "\n",
        "\n",
        "print(prediction_df)\n"
      ],
      "execution_count": 0,
      "outputs": []
    },
    {
      "cell_type": "code",
      "metadata": {
        "id": "-Guw3k58K-W-",
        "colab_type": "code",
        "colab": {}
      },
      "source": [
        "create_download_link(df2)"
      ],
      "execution_count": 0,
      "outputs": []
    },
    {
      "cell_type": "code",
      "metadata": {
        "id": "9biVkoaH91-4",
        "colab_type": "code",
        "colab": {}
      },
      "source": [
        ""
      ],
      "execution_count": 0,
      "outputs": []
    },
    {
      "cell_type": "code",
      "metadata": {
        "id": "3H6e43qS-KKz",
        "colab_type": "code",
        "colab": {}
      },
      "source": [
        ""
      ],
      "execution_count": 0,
      "outputs": []
    },
    {
      "cell_type": "code",
      "metadata": {
        "id": "LuS68pwn-kq3",
        "colab_type": "code",
        "colab": {}
      },
      "source": [
        ""
      ],
      "execution_count": 0,
      "outputs": []
    },
    {
      "cell_type": "code",
      "metadata": {
        "id": "ipedlpYwASrX",
        "colab_type": "code",
        "colab": {}
      },
      "source": [
        "\n"
      ],
      "execution_count": 0,
      "outputs": []
    },
    {
      "cell_type": "code",
      "metadata": {
        "id": "Af_xIPcQpDd7",
        "colab_type": "code",
        "colab": {}
      },
      "source": [
        ""
      ],
      "execution_count": 0,
      "outputs": []
    }
  ]
}