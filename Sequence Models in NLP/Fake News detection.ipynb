{
  "nbformat": 4,
  "nbformat_minor": 0,
  "metadata": {
    "colab": {
      "name": "Stance_Detection_for_the_Fake_News_Challenge_Questions.ipynb",
      "provenance": [],
      "collapsed_sections": []
    },
    "kernelspec": {
      "name": "python3",
      "display_name": "Python 3"
    },
    "accelerator": "GPU"
  },
  "cells": [
    {
      "cell_type": "markdown",
      "metadata": {
        "id": "QI9jhXKPCFcJ",
        "colab_type": "text"
      },
      "source": [
        "# Stance Detection for the Fake News Challenge\n",
        "\n",
        "## Identifying Textual Relationships with Deep Neural Nets\n",
        "\n",
        "### Check the problem context [here](https://drive.google.com/open?id=1KfWaZyQdGBw8AUTacJ2yY86Yxgw2Xwq0).\n",
        "\n",
        "### Download files required for the project from [here](https://drive.google.com/open?id=10yf39ifEwVihw4xeJJR60oeFBY30Y5J8)."
      ]
    },
    {
      "cell_type": "markdown",
      "metadata": {
        "id": "vSNgdEMpenpE",
        "colab_type": "text"
      },
      "source": [
        "## Step1: Load the given dataset  \n",
        "\n",
        "1. Mount the google drive\n",
        "\n",
        "2. Import Glove embeddings\n",
        "\n",
        "3. Import the test and train datasets"
      ]
    },
    {
      "cell_type": "markdown",
      "metadata": {
        "id": "aPOZRohMiSpQ",
        "colab_type": "text"
      },
      "source": [
        "### Mount the google drive to access required project files\n",
        "\n",
        "Run the below commands"
      ]
    },
    {
      "cell_type": "code",
      "metadata": {
        "id": "7AS39z1XgFpT",
        "colab_type": "code",
        "colab": {}
      },
      "source": [
        "from google.colab import drive"
      ],
      "execution_count": 0,
      "outputs": []
    },
    {
      "cell_type": "code",
      "metadata": {
        "id": "S_7yCFdzgFsH",
        "colab_type": "code",
        "outputId": "5accf90b-ea0d-484f-caeb-3f863d1f3454",
        "colab": {
          "base_uri": "https://localhost:8080/",
          "height": 121
        }
      },
      "source": [
        "drive.mount('/content/drive/')"
      ],
      "execution_count": 2,
      "outputs": [
        {
          "output_type": "stream",
          "text": [
            "Go to this URL in a browser: https://accounts.google.com/o/oauth2/auth?client_id=947318989803-6bn6qk8qdgf4n4g3pfee6491hc0brc4i.apps.googleusercontent.com&redirect_uri=urn%3aietf%3awg%3aoauth%3a2.0%3aoob&response_type=code&scope=email%20https%3a%2f%2fwww.googleapis.com%2fauth%2fdocs.test%20https%3a%2f%2fwww.googleapis.com%2fauth%2fdrive%20https%3a%2f%2fwww.googleapis.com%2fauth%2fdrive.photos.readonly%20https%3a%2f%2fwww.googleapis.com%2fauth%2fpeopleapi.readonly\n",
            "\n",
            "Enter your authorization code:\n",
            "··········\n",
            "Mounted at /content/drive/\n"
          ],
          "name": "stdout"
        }
      ]
    },
    {
      "cell_type": "markdown",
      "metadata": {
        "id": "bhZdJ4zpwWzN",
        "colab_type": "text"
      },
      "source": [
        "#### Path for Project files on google drive\n",
        "\n",
        "**Note:** You need to change this path according where you have kept the files in google drive. "
      ]
    },
    {
      "cell_type": "code",
      "metadata": {
        "id": "Aol97RUogFuS",
        "colab_type": "code",
        "colab": {}
      },
      "source": [
        "project_path = \"/content/drive/My Drive/Colab Notebooks/Sequence NLP/stance detection/\""
      ],
      "execution_count": 0,
      "outputs": []
    },
    {
      "cell_type": "markdown",
      "metadata": {
        "id": "2ly0VxAnwJ2f",
        "colab_type": "text"
      },
      "source": [
        "### Loading the Glove Embeddings"
      ]
    },
    {
      "cell_type": "code",
      "metadata": {
        "id": "xmsPn6PF-cgL",
        "colab_type": "code",
        "colab": {}
      },
      "source": [
        "from zipfile import ZipFile\n",
        "with ZipFile(project_path+'glove.6B.zip', 'r') as z:\n",
        "  z.extractall()"
      ],
      "execution_count": 0,
      "outputs": []
    },
    {
      "cell_type": "markdown",
      "metadata": {
        "id": "TjLJEQ_PwcGi",
        "colab_type": "text"
      },
      "source": [
        "# Load the dataset [5 Marks]\n",
        "\n",
        "1. Using [read_csv()](https://pandas.pydata.org/pandas-docs/stable/generated/pandas.read_csv.html) in pandas load the given train datasets files **`train_bodies.csv`** and **`train_stances.csv`**\n",
        "\n",
        "2. Using [merge](https://pandas.pydata.org/pandas-docs/stable/generated/pandas.DataFrame.merge.html) command in pandas merge the two datasets based on the Body ID. \n",
        "\n",
        "Note: Save the final merged dataset in a dataframe with name **`dataset`**."
      ]
    },
    {
      "cell_type": "code",
      "metadata": {
        "id": "7gXO1WZ-gFwm",
        "colab_type": "code",
        "colab": {}
      },
      "source": [
        "import pandas as pd\n",
        "import numpy as np\n",
        "import matplotlib.pyplot as plt\n",
        "%matplotlib inline\n",
        "\n",
        "train_bodies = pd.read_csv(project_path+'train_bodies.csv')\n",
        "train_instances = pd.read_csv(project_path+'train_stances.csv')"
      ],
      "execution_count": 0,
      "outputs": []
    },
    {
      "cell_type": "code",
      "metadata": {
        "id": "kosAWskdOOT8",
        "colab_type": "code",
        "outputId": "a0a3feb4-4403-4068-b544-71f3b211a664",
        "colab": {
          "base_uri": "https://localhost:8080/",
          "height": 195
        }
      },
      "source": [
        "train_bodies.head()"
      ],
      "execution_count": 6,
      "outputs": [
        {
          "output_type": "execute_result",
          "data": {
            "text/html": [
              "<div>\n",
              "<style scoped>\n",
              "    .dataframe tbody tr th:only-of-type {\n",
              "        vertical-align: middle;\n",
              "    }\n",
              "\n",
              "    .dataframe tbody tr th {\n",
              "        vertical-align: top;\n",
              "    }\n",
              "\n",
              "    .dataframe thead th {\n",
              "        text-align: right;\n",
              "    }\n",
              "</style>\n",
              "<table border=\"1\" class=\"dataframe\">\n",
              "  <thead>\n",
              "    <tr style=\"text-align: right;\">\n",
              "      <th></th>\n",
              "      <th>Body ID</th>\n",
              "      <th>articleBody</th>\n",
              "    </tr>\n",
              "  </thead>\n",
              "  <tbody>\n",
              "    <tr>\n",
              "      <th>0</th>\n",
              "      <td>0</td>\n",
              "      <td>A small meteorite crashed into a wooded area i...</td>\n",
              "    </tr>\n",
              "    <tr>\n",
              "      <th>1</th>\n",
              "      <td>4</td>\n",
              "      <td>Last week we hinted at what was to come as Ebo...</td>\n",
              "    </tr>\n",
              "    <tr>\n",
              "      <th>2</th>\n",
              "      <td>5</td>\n",
              "      <td>(NEWSER) – Wonder how long a Quarter Pounder w...</td>\n",
              "    </tr>\n",
              "    <tr>\n",
              "      <th>3</th>\n",
              "      <td>6</td>\n",
              "      <td>Posting photos of a gun-toting child online, I...</td>\n",
              "    </tr>\n",
              "    <tr>\n",
              "      <th>4</th>\n",
              "      <td>7</td>\n",
              "      <td>At least 25 suspected Boko Haram insurgents we...</td>\n",
              "    </tr>\n",
              "  </tbody>\n",
              "</table>\n",
              "</div>"
            ],
            "text/plain": [
              "   Body ID                                        articleBody\n",
              "0        0  A small meteorite crashed into a wooded area i...\n",
              "1        4  Last week we hinted at what was to come as Ebo...\n",
              "2        5  (NEWSER) – Wonder how long a Quarter Pounder w...\n",
              "3        6  Posting photos of a gun-toting child online, I...\n",
              "4        7  At least 25 suspected Boko Haram insurgents we..."
            ]
          },
          "metadata": {
            "tags": []
          },
          "execution_count": 6
        }
      ]
    },
    {
      "cell_type": "code",
      "metadata": {
        "id": "Xi4q-YkP1CUc",
        "colab_type": "code",
        "outputId": "8ba93f89-1600-446e-a747-6c5356639dc6",
        "colab": {
          "base_uri": "https://localhost:8080/",
          "height": 195
        }
      },
      "source": [
        "train_instances.head()"
      ],
      "execution_count": 0,
      "outputs": [
        {
          "output_type": "execute_result",
          "data": {
            "text/html": [
              "<div>\n",
              "<style scoped>\n",
              "    .dataframe tbody tr th:only-of-type {\n",
              "        vertical-align: middle;\n",
              "    }\n",
              "\n",
              "    .dataframe tbody tr th {\n",
              "        vertical-align: top;\n",
              "    }\n",
              "\n",
              "    .dataframe thead th {\n",
              "        text-align: right;\n",
              "    }\n",
              "</style>\n",
              "<table border=\"1\" class=\"dataframe\">\n",
              "  <thead>\n",
              "    <tr style=\"text-align: right;\">\n",
              "      <th></th>\n",
              "      <th>Headline</th>\n",
              "      <th>Body ID</th>\n",
              "      <th>Stance</th>\n",
              "    </tr>\n",
              "  </thead>\n",
              "  <tbody>\n",
              "    <tr>\n",
              "      <th>0</th>\n",
              "      <td>Police find mass graves with at least '15 bodi...</td>\n",
              "      <td>712</td>\n",
              "      <td>unrelated</td>\n",
              "    </tr>\n",
              "    <tr>\n",
              "      <th>1</th>\n",
              "      <td>Hundreds of Palestinians flee floods in Gaza a...</td>\n",
              "      <td>158</td>\n",
              "      <td>agree</td>\n",
              "    </tr>\n",
              "    <tr>\n",
              "      <th>2</th>\n",
              "      <td>Christian Bale passes on role of Steve Jobs, a...</td>\n",
              "      <td>137</td>\n",
              "      <td>unrelated</td>\n",
              "    </tr>\n",
              "    <tr>\n",
              "      <th>3</th>\n",
              "      <td>HBO and Apple in Talks for $15/Month Apple TV ...</td>\n",
              "      <td>1034</td>\n",
              "      <td>unrelated</td>\n",
              "    </tr>\n",
              "    <tr>\n",
              "      <th>4</th>\n",
              "      <td>Spider burrowed through tourist's stomach and ...</td>\n",
              "      <td>1923</td>\n",
              "      <td>disagree</td>\n",
              "    </tr>\n",
              "  </tbody>\n",
              "</table>\n",
              "</div>"
            ],
            "text/plain": [
              "                                            Headline  Body ID     Stance\n",
              "0  Police find mass graves with at least '15 bodi...      712  unrelated\n",
              "1  Hundreds of Palestinians flee floods in Gaza a...      158      agree\n",
              "2  Christian Bale passes on role of Steve Jobs, a...      137  unrelated\n",
              "3  HBO and Apple in Talks for $15/Month Apple TV ...     1034  unrelated\n",
              "4  Spider burrowed through tourist's stomach and ...     1923   disagree"
            ]
          },
          "metadata": {
            "tags": []
          },
          "execution_count": 8
        }
      ]
    },
    {
      "cell_type": "code",
      "metadata": {
        "id": "5dTOlGgb1GY8",
        "colab_type": "code",
        "colab": {}
      },
      "source": [
        "# Merge both the dataframes\n",
        "dataset = pd.merge(train_bodies, train_instances,on ='Body ID')\n"
      ],
      "execution_count": 0,
      "outputs": []
    },
    {
      "cell_type": "markdown",
      "metadata": {
        "id": "g4ycQbBCg20S",
        "colab_type": "text"
      },
      "source": [
        "\n",
        "<h2> Check1:</h2>\n",
        "  \n",
        "<h3> You should see the below output if you run `dataset.head()` command as given below </h3>"
      ]
    },
    {
      "cell_type": "code",
      "metadata": {
        "id": "IUtF7iOmj11k",
        "colab_type": "code",
        "outputId": "f78f6146-e7b4-49c7-e8f2-c33b4611c08d",
        "colab": {
          "base_uri": "https://localhost:8080/",
          "height": 204
        }
      },
      "source": [
        "dataset.head()"
      ],
      "execution_count": 0,
      "outputs": [
        {
          "output_type": "execute_result",
          "data": {
            "text/html": [
              "<div>\n",
              "<style scoped>\n",
              "    .dataframe tbody tr th:only-of-type {\n",
              "        vertical-align: middle;\n",
              "    }\n",
              "\n",
              "    .dataframe tbody tr th {\n",
              "        vertical-align: top;\n",
              "    }\n",
              "\n",
              "    .dataframe thead th {\n",
              "        text-align: right;\n",
              "    }\n",
              "</style>\n",
              "<table border=\"1\" class=\"dataframe\">\n",
              "  <thead>\n",
              "    <tr style=\"text-align: right;\">\n",
              "      <th></th>\n",
              "      <th>Body ID</th>\n",
              "      <th>articleBody</th>\n",
              "      <th>Headline</th>\n",
              "      <th>Stance</th>\n",
              "    </tr>\n",
              "  </thead>\n",
              "  <tbody>\n",
              "    <tr>\n",
              "      <th>0</th>\n",
              "      <td>0</td>\n",
              "      <td>A small meteorite crashed into a wooded area i...</td>\n",
              "      <td>Soldier shot, Parliament locked down after gun...</td>\n",
              "      <td>unrelated</td>\n",
              "    </tr>\n",
              "    <tr>\n",
              "      <th>1</th>\n",
              "      <td>0</td>\n",
              "      <td>A small meteorite crashed into a wooded area i...</td>\n",
              "      <td>Tourist dubbed ‘Spider Man’ after spider burro...</td>\n",
              "      <td>unrelated</td>\n",
              "    </tr>\n",
              "    <tr>\n",
              "      <th>2</th>\n",
              "      <td>0</td>\n",
              "      <td>A small meteorite crashed into a wooded area i...</td>\n",
              "      <td>Luke Somers 'killed in failed rescue attempt i...</td>\n",
              "      <td>unrelated</td>\n",
              "    </tr>\n",
              "    <tr>\n",
              "      <th>3</th>\n",
              "      <td>0</td>\n",
              "      <td>A small meteorite crashed into a wooded area i...</td>\n",
              "      <td>BREAKING: Soldier shot at War Memorial in Ottawa</td>\n",
              "      <td>unrelated</td>\n",
              "    </tr>\n",
              "    <tr>\n",
              "      <th>4</th>\n",
              "      <td>0</td>\n",
              "      <td>A small meteorite crashed into a wooded area i...</td>\n",
              "      <td>Giant 8ft 9in catfish weighing 19 stone caught...</td>\n",
              "      <td>unrelated</td>\n",
              "    </tr>\n",
              "  </tbody>\n",
              "</table>\n",
              "</div>"
            ],
            "text/plain": [
              "   Body ID                                        articleBody  \\\n",
              "0        0  A small meteorite crashed into a wooded area i...   \n",
              "1        0  A small meteorite crashed into a wooded area i...   \n",
              "2        0  A small meteorite crashed into a wooded area i...   \n",
              "3        0  A small meteorite crashed into a wooded area i...   \n",
              "4        0  A small meteorite crashed into a wooded area i...   \n",
              "\n",
              "                                            Headline     Stance  \n",
              "0  Soldier shot, Parliament locked down after gun...  unrelated  \n",
              "1  Tourist dubbed ‘Spider Man’ after spider burro...  unrelated  \n",
              "2  Luke Somers 'killed in failed rescue attempt i...  unrelated  \n",
              "3   BREAKING: Soldier shot at War Memorial in Ottawa  unrelated  \n",
              "4  Giant 8ft 9in catfish weighing 19 stone caught...  unrelated  "
            ]
          },
          "metadata": {
            "tags": []
          },
          "execution_count": 8
        }
      ]
    },
    {
      "cell_type": "markdown",
      "metadata": {
        "id": "tjzVz2ifijmj",
        "colab_type": "text"
      },
      "source": [
        "## Step2: Data Pre-processing and setting some hyper parameters needed for model\n",
        "\n",
        "\n",
        "#### Run the code given below to set the required parameters.\n",
        "\n",
        "1. `MAX_SENTS` = Maximum no.of sentences to consider in an article.\n",
        "\n",
        "2. `MAX_SENT_LENGTH` = Maximum no.of words to consider in a sentence.\n",
        "\n",
        "3. `MAX_NB_WORDS` = Maximum no.of words in the total vocabualry.\n",
        "\n",
        "4. `MAX_SENTS_HEADING` = Maximum no.of sentences to consider in a heading of an article."
      ]
    },
    {
      "cell_type": "code",
      "metadata": {
        "id": "KDXSdpvqjuqw",
        "colab_type": "code",
        "colab": {}
      },
      "source": [
        "MAX_NB_WORDS = 20000\n",
        "MAX_SENTS = 20\n",
        "MAX_SENTS_HEADING = 1\n",
        "MAX_SENT_LENGTH = 20\n",
        "VALIDATION_SPLIT = 0.2"
      ],
      "execution_count": 0,
      "outputs": []
    },
    {
      "cell_type": "markdown",
      "metadata": {
        "id": "zwE7CPHdiDT-",
        "colab_type": "text"
      },
      "source": [
        "### Download the `Punkt` from nltk using the commands given below. This is for sentence tokenization.\n",
        "\n",
        "For more info on how to use it, read [this](https://stackoverflow.com/questions/35275001/use-of-punktsentencetokenizer-in-nltk).\n",
        "\n"
      ]
    },
    {
      "cell_type": "code",
      "metadata": {
        "id": "lsiKmyJUZ-hU",
        "colab_type": "code",
        "outputId": "c53cab6c-e495-47a6-c0f4-1f77d2a83ae0",
        "colab": {
          "base_uri": "https://localhost:8080/",
          "height": 67
        }
      },
      "source": [
        "import nltk\n",
        "nltk.download('punkt')"
      ],
      "execution_count": 20,
      "outputs": [
        {
          "output_type": "stream",
          "text": [
            "[nltk_data] Downloading package punkt to /root/nltk_data...\n",
            "[nltk_data]   Unzipping tokenizers/punkt.zip.\n"
          ],
          "name": "stdout"
        },
        {
          "output_type": "execute_result",
          "data": {
            "text/plain": [
              "True"
            ]
          },
          "metadata": {
            "tags": []
          },
          "execution_count": 20
        }
      ]
    },
    {
      "cell_type": "markdown",
      "metadata": {
        "id": "Gqwm_GbwwnhX",
        "colab_type": "text"
      },
      "source": [
        "# Tokenizing the text and loading the pre-trained Glove word embeddings for each token  [5 marks] "
      ]
    },
    {
      "cell_type": "markdown",
      "metadata": {
        "id": "WfZLR24mm32k",
        "colab_type": "text"
      },
      "source": [
        "Keras provides [Tokenizer API](https://keras.io/preprocessing/text/) for preparing text. Read it before going any further."
      ]
    },
    {
      "cell_type": "markdown",
      "metadata": {
        "id": "fLSn9S-5oG4Z",
        "colab_type": "text"
      },
      "source": [
        "#### Import the Tokenizer from keras preprocessing text"
      ]
    },
    {
      "cell_type": "code",
      "metadata": {
        "id": "S-VUgh2yoMlR",
        "colab_type": "code",
        "outputId": "0572803f-d455-4fcd-eaba-623a7f1312ec",
        "colab": {
          "base_uri": "https://localhost:8080/",
          "height": 34
        }
      },
      "source": [
        "from keras.preprocessing.text import Tokenizer"
      ],
      "execution_count": 9,
      "outputs": [
        {
          "output_type": "stream",
          "text": [
            "Using TensorFlow backend.\n"
          ],
          "name": "stderr"
        }
      ]
    },
    {
      "cell_type": "markdown",
      "metadata": {
        "id": "eml0Lge4oOuh",
        "colab_type": "text"
      },
      "source": [
        "#### Initialize the Tokenizer class with maximum vocabulary count as `MAX_NB_WORDS` initialized at the start of step2. "
      ]
    },
    {
      "cell_type": "code",
      "metadata": {
        "id": "Qm85qirPofc2",
        "colab_type": "code",
        "colab": {}
      },
      "source": [
        "tokenizer = Tokenizer(num_words=MAX_NB_WORDS )"
      ],
      "execution_count": 0,
      "outputs": []
    },
    {
      "cell_type": "markdown",
      "metadata": {
        "id": "HBe1KuXDosJ7",
        "colab_type": "text"
      },
      "source": [
        "#### Now, using fit_on_texts() from Tokenizer class, lets encode the data \n",
        "\n",
        "Note: We need to fit articleBody and Headline also to cover all the words."
      ]
    },
    {
      "cell_type": "code",
      "metadata": {
        "id": "Q5rk-UyBlmyA",
        "colab_type": "code",
        "colab": {}
      },
      "source": [
        "codetext = dataset['articleBody'] + dataset['Headline']\n",
        "tokenizer.fit_on_texts(codetext)"
      ],
      "execution_count": 0,
      "outputs": []
    },
    {
      "cell_type": "code",
      "metadata": {
        "id": "dK4g1Q2mmyqy",
        "colab_type": "code",
        "colab": {
          "base_uri": "https://localhost:8080/",
          "height": 1000
        },
        "outputId": "4b0e420c-b273-4afb-a03c-49b90bccbdc1"
      },
      "source": [
        "tokenizer.word_counts"
      ],
      "execution_count": 12,
      "outputs": [
        {
          "output_type": "execute_result",
          "data": {
            "text/plain": [
              "OrderedDict([('a', 478453),\n",
              "             ('small', 5225),\n",
              "             ('meteorite', 5773),\n",
              "             ('crashed', 207),\n",
              "             ('into', 25604),\n",
              "             ('wooded', 554),\n",
              "             ('area', 7132),\n",
              "             ('in', 408065),\n",
              "             (\"nicaragua's\", 526),\n",
              "             ('capital', 6867),\n",
              "             ('of', 441773),\n",
              "             ('managua', 1823),\n",
              "             ('overnight', 749),\n",
              "             ('the', 1129038),\n",
              "             ('government', 23631),\n",
              "             ('said', 134456),\n",
              "             ('sunday', 5416),\n",
              "             ('residents', 3428),\n",
              "             ('reported', 21926),\n",
              "             ('hearing', 2514),\n",
              "             ('mysterious', 853),\n",
              "             ('boom', 1459),\n",
              "             ('that', 234408),\n",
              "             ('left', 11643),\n",
              "             ('16', 2172),\n",
              "             ('foot', 2441),\n",
              "             ('deep', 1218),\n",
              "             ('crater', 3683),\n",
              "             ('near', 12938),\n",
              "             (\"city's\", 726),\n",
              "             ('airport', 5586),\n",
              "             ('associated', 4582),\n",
              "             ('press', 9235),\n",
              "             ('reports', 24310),\n",
              "             ('spokeswoman', 2460),\n",
              "             ('rosario', 491),\n",
              "             ('murillo', 1012),\n",
              "             ('committee', 2417),\n",
              "             ('formed', 650),\n",
              "             ('by', 104742),\n",
              "             ('to', 499718),\n",
              "             ('study', 1432),\n",
              "             ('event', 4821),\n",
              "             ('determined', 1234),\n",
              "             ('it', 125900),\n",
              "             ('was', 180053),\n",
              "             ('relatively', 703),\n",
              "             ('appears', 7092),\n",
              "             ('have', 110414),\n",
              "             ('come', 8558),\n",
              "             ('off', 15561),\n",
              "             ('an', 91180),\n",
              "             ('asteroid', 2700),\n",
              "             ('passing', 1254),\n",
              "             ('close', 4953),\n",
              "             ('earth', 3332),\n",
              "             ('house', 11703),\n",
              "             ('sized', 574),\n",
              "             ('2014', 10895),\n",
              "             ('rc', 903),\n",
              "             ('which', 40671),\n",
              "             ('measured', 228),\n",
              "             ('60', 1487),\n",
              "             ('feet', 2115),\n",
              "             ('diameter', 71),\n",
              "             ('skimmed', 36),\n",
              "             ('this', 69775),\n",
              "             ('weekend', 3506),\n",
              "             ('abc', 508),\n",
              "             ('news', 29545),\n",
              "             ('nicaragua', 1614),\n",
              "             ('will', 44647),\n",
              "             ('ask', 2405),\n",
              "             ('international', 6863),\n",
              "             ('experts', 3327),\n",
              "             ('help', 6673),\n",
              "             ('local', 8747),\n",
              "             ('scientists', 1441),\n",
              "             ('understanding', 432),\n",
              "             ('what', 28417),\n",
              "             ('happened', 5157),\n",
              "             ('had', 69250),\n",
              "             ('radius', 198),\n",
              "             ('39', 1067),\n",
              "             ('and', 383581),\n",
              "             ('depth', 335),\n",
              "             ('humberto', 638),\n",
              "             ('saballos', 346),\n",
              "             ('volcanologist', 332),\n",
              "             ('with', 129916),\n",
              "             ('nicaraguan', 2408),\n",
              "             ('institute', 2007),\n",
              "             ('territorial', 714),\n",
              "             ('studies', 1537),\n",
              "             ('who', 70648),\n",
              "             ('on', 179598),\n",
              "             ('he', 131558),\n",
              "             ('is', 188509),\n",
              "             ('still', 13329),\n",
              "             ('not', 82447),\n",
              "             ('clear', 4723),\n",
              "             ('if', 30354),\n",
              "             ('disintegrated', 555),\n",
              "             ('or', 41957),\n",
              "             ('buried', 1384),\n",
              "             ('garcia', 297),\n",
              "             ('astronomy', 287),\n",
              "             ('center', 4178),\n",
              "             ('at', 97873),\n",
              "             ('national', 7634),\n",
              "             ('autonomous', 622),\n",
              "             ('university', 3253),\n",
              "             ('could', 28627),\n",
              "             ('be', 93817),\n",
              "             ('related', 3293),\n",
              "             ('forecast', 467),\n",
              "             ('pass', 1102),\n",
              "             ('planet', 519),\n",
              "             ('saturday', 4821),\n",
              "             ('night', 8348),\n",
              "             ('we', 48610),\n",
              "             ('more', 36062),\n",
              "             ('because', 17094),\n",
              "             ('ice', 373),\n",
              "             ('rock', 1268),\n",
              "             ('wilfried', 394),\n",
              "             ('strauch', 643),\n",
              "             ('adviser', 511),\n",
              "             ('very', 11340),\n",
              "             ('strange', 1843),\n",
              "             ('no', 34454),\n",
              "             ('one', 42775),\n",
              "             ('streak', 281),\n",
              "             ('light', 1918),\n",
              "             ('anyone', 5022),\n",
              "             ('has', 99994),\n",
              "             ('photo', 9041),\n",
              "             ('something', 8614),\n",
              "             ('loud', 1425),\n",
              "             ('but', 70970),\n",
              "             ('they', 61196),\n",
              "             (\"didn't\", 3678),\n",
              "             ('see', 12601),\n",
              "             ('anything', 2902),\n",
              "             ('sky', 1183),\n",
              "             ('i', 48949),\n",
              "             ('sitting', 1198),\n",
              "             ('my', 18011),\n",
              "             ('porch', 290),\n",
              "             ('saw', 4391),\n",
              "             ('nothing', 3904),\n",
              "             ('then', 20438),\n",
              "             ('all', 34207),\n",
              "             ('sudden', 970),\n",
              "             ('heard', 9335),\n",
              "             ('large', 4992),\n",
              "             ('blast', 1325),\n",
              "             ('thought', 7011),\n",
              "             ('bomb', 1183),\n",
              "             ('felt', 2933),\n",
              "             ('expansive', 432),\n",
              "             ('wave', 892),\n",
              "             ('jorge', 455),\n",
              "             ('santamaria', 373),\n",
              "             ('told', 35463),\n",
              "             ('site', 8965),\n",
              "             (\"managua's\", 514),\n",
              "             ('air', 13072),\n",
              "             ('force', 5416),\n",
              "             ('base', 1305),\n",
              "             ('only', 16209),\n",
              "             ('journalists', 2837),\n",
              "             ('from', 97677),\n",
              "             ('state', 38464),\n",
              "             ('media', 21144),\n",
              "             ('were', 48691),\n",
              "             ('allowed', 1405),\n",
              "             ('visit', 2180),\n",
              "             ('soldier', 3534),\n",
              "             ('shot', 10754),\n",
              "             ('parliament', 6986),\n",
              "             ('locked', 211),\n",
              "             ('down', 11448),\n",
              "             ('after', 53153),\n",
              "             ('gunfire', 1968),\n",
              "             ('erupts', 93),\n",
              "             ('war', 9660),\n",
              "             ('memorial', 3741),\n",
              "             ('tourist', 146),\n",
              "             ('dubbed', 594),\n",
              "             ('‘spider', 30),\n",
              "             ('man’', 49),\n",
              "             ('spider', 6283),\n",
              "             ('burrows', 248),\n",
              "             ('under', 12945),\n",
              "             ('skin', 4315),\n",
              "             ('for', 147708),\n",
              "             ('days', 10649),\n",
              "             ('luke', 1173),\n",
              "             ('somers', 2614),\n",
              "             (\"'killed\", 124),\n",
              "             ('failed', 2110),\n",
              "             ('rescue', 2027),\n",
              "             ('attempt', 1892),\n",
              "             (\"yemen'\", 70),\n",
              "             ('breaking', 1558),\n",
              "             ('ottawa', 5033),\n",
              "             ('giant', 726),\n",
              "             ('8ft', 76),\n",
              "             ('9in', 36),\n",
              "             ('catfish', 2432),\n",
              "             ('weighing', 318),\n",
              "             ('19', 2243),\n",
              "             ('stone', 1259),\n",
              "             ('caught', 5582),\n",
              "             ('italy', 765),\n",
              "             ('biggest', 1392),\n",
              "             ('ever', 4920),\n",
              "             ('reeled', 35),\n",
              "             ('rod', 236),\n",
              "             ('line', 2940),\n",
              "             ('enormous', 600),\n",
              "             ('20', 5162),\n",
              "             ('fishing', 485),\n",
              "             ('40', 4481),\n",
              "             ('minute', 1740),\n",
              "             ('boat', 652),\n",
              "             ('battle', 1670),\n",
              "             ('italian', 1030),\n",
              "             ('catches', 309),\n",
              "             ('huge', 2223),\n",
              "             ('wels', 436),\n",
              "             ('record', 2400),\n",
              "             ('coming', 5890),\n",
              "             ('store', 6214),\n",
              "             ('you', 31209),\n",
              "             ('pumpkin', 3663),\n",
              "             ('spice', 4121),\n",
              "             ('condom', 1964),\n",
              "             ('gunman', 2851),\n",
              "             ('killed', 17745),\n",
              "             ('shooting', 11369),\n",
              "             ('hill', 3162),\n",
              "             ('hunt', 595),\n",
              "             ('other', 21273),\n",
              "             ('shooters', 124),\n",
              "             ('canada', 1839),\n",
              "             ('surreal', 48),\n",
              "             ('photos', 3936),\n",
              "             ('fisherman’s', 24),\n",
              "             ('jaw', 37),\n",
              "             ('dropping', 307),\n",
              "             ('catch', 843),\n",
              "             ('likely', 6320),\n",
              "             ('people', 33086),\n",
              "             ('wondering', 395),\n",
              "             ('it’s', 11246),\n",
              "             ('real', 7749),\n",
              "             ('fisherman', 274),\n",
              "             ('lands', 138),\n",
              "             ('world', 13113),\n",
              "             ('hooked', 440),\n",
              "             ('source', 10357),\n",
              "             ('tom', 836),\n",
              "             ('brokaw', 413),\n",
              "             ('wants', 2219),\n",
              "             ('brian', 1135),\n",
              "             ('williams', 1968),\n",
              "             ('fired', 6723),\n",
              "             ('been', 75042),\n",
              "             ('canada’s', 278),\n",
              "             ('just', 24249),\n",
              "             ('steps', 946),\n",
              "             ('away', 6508),\n",
              "             ('nation’s', 353),\n",
              "             ('280', 169),\n",
              "             ('pound', 621),\n",
              "             ('makes', 3007),\n",
              "             ('set', 7532),\n",
              "             ('rumor', 3468),\n",
              "             ('debunked', 618),\n",
              "             ('robocop', 124),\n",
              "             ('style', 1050),\n",
              "             ('robots', 1495),\n",
              "             ('are', 76071),\n",
              "             ('patrolling', 285),\n",
              "             (\"microsoft's\", 504),\n",
              "             ('campus', 1370),\n",
              "             ('po', 721),\n",
              "             ('127', 169),\n",
              "             ('kg', 130),\n",
              "             ('2', 8116),\n",
              "             ('67', 596),\n",
              "             ('meters', 526),\n",
              "             ('monster', 298),\n",
              "             ('looks', 2345),\n",
              "             ('big', 5696),\n",
              "             ('enough', 4478),\n",
              "             ('swallow', 163),\n",
              "             ('man', 29577),\n",
              "             ('whole', 1454),\n",
              "             (\"somers'\", 162),\n",
              "             ('sister', 3765),\n",
              "             ('says', 19676),\n",
              "             ('yemen', 1592),\n",
              "             ('apple', 39141),\n",
              "             ('watch', 27787),\n",
              "             ('shower', 1323),\n",
              "             ('proof', 1348),\n",
              "             ('100', 4837),\n",
              "             ('000', 13455),\n",
              "             ('apps', 2225),\n",
              "             ('launch', 4281),\n",
              "             ('canadian', 6742),\n",
              "             ('building', 6338),\n",
              "             ('multiple', 2904),\n",
              "             ('shots', 8799),\n",
              "             ('comcast', 4014),\n",
              "             ('threatening', 1425),\n",
              "             ('cut', 2898),\n",
              "             ('customers', 3026),\n",
              "             ('use', 7463),\n",
              "             ('tor', 1667),\n",
              "             ('web', 2785),\n",
              "             ('browser', 944),\n",
              "             ('criminals', 596),\n",
              "             ('strikes', 5413),\n",
              "             ('city', 15334),\n",
              "             ('google', 3664),\n",
              "             ('buy', 1958),\n",
              "             ('chunk', 89),\n",
              "             ('pacific', 771),\n",
              "             ('shores', 623),\n",
              "             ('iconic', 679),\n",
              "             ('redwood', 551),\n",
              "             ('office', 7972),\n",
              "             ('park', 2089),\n",
              "             ('report', 19716),\n",
              "             ('iraqi', 12209),\n",
              "             ('social', 7849),\n",
              "             ('rumors', 6052),\n",
              "             ('claim', 7669),\n",
              "             ('leader', 13026),\n",
              "             ('slain', 399),\n",
              "             ('there', 31444),\n",
              "             ('unconfirmed', 1649),\n",
              "             ('say', 15426),\n",
              "             ('figment', 29),\n",
              "             ('your', 11895),\n",
              "             ('own', 6488),\n",
              "             ('gross', 173),\n",
              "             ('imagination', 220),\n",
              "             (\"canada's\", 469),\n",
              "             (\"'shot\", 28),\n",
              "             (\"dead'\", 30),\n",
              "             ('wounding', 99),\n",
              "             ('kurds', 2925),\n",
              "             ('fear', 1940),\n",
              "             ('isis', 40797),\n",
              "             ('chemical', 2193),\n",
              "             ('weapon', 1710),\n",
              "             ('kobani', 5121),\n",
              "             ('incident', 5701),\n",
              "             ('monstrous', 18),\n",
              "             ('last', 23996),\n",
              "             ('week', 12491),\n",
              "             ('hinted', 160),\n",
              "             ('as', 106611),\n",
              "             ('ebola', 12490),\n",
              "             ('fears', 1685),\n",
              "             ('spread', 3024),\n",
              "             ('across', 7582),\n",
              "             ('america', 3742),\n",
              "             ('today', 6889),\n",
              "             ('get', 13446),\n",
              "             ('confirmation', 1988),\n",
              "             ('daily', 7366),\n",
              "             ('caller', 228),\n",
              "             ('passenger', 804),\n",
              "             ('dulles', 322),\n",
              "             ('outside', 5354),\n",
              "             ('washington', 6419),\n",
              "             ('d', 617),\n",
              "             ('c', 1649),\n",
              "             ('apparently', 5395),\n",
              "             ('taking', 5266),\n",
              "             ('any', 21470),\n",
              "             ('chances', 563),\n",
              "             ('female', 3437),\n",
              "             ('dressed', 1883),\n",
              "             ('hazmat', 288),\n",
              "             ('suit', 696),\n",
              "             ('complete', 1033),\n",
              "             ('full', 5185),\n",
              "             ('body', 5028),\n",
              "             ('gown', 126),\n",
              "             ('mask', 463),\n",
              "             ('gloves', 543),\n",
              "             ('spotted', 1537),\n",
              "             ('wednesday', 8421),\n",
              "             ('waiting', 1505),\n",
              "             ('flight', 1321),\n",
              "             ('particularly', 1504),\n",
              "             ('liked', 316),\n",
              "             ('jcpenney', 1),\n",
              "             ('bag', 463),\n",
              "             ('maybe', 1595),\n",
              "             (\"that's\", 3146),\n",
              "             ('new', 34946),\n",
              "             ('business', 3243),\n",
              "             ('bankrupt', 30),\n",
              "             ('retailer', 166),\n",
              "             ('side', 2697),\n",
              "             ('note', 1866),\n",
              "             ('try', 2507),\n",
              "             ('halloween', 87),\n",
              "             ('stores', 1552),\n",
              "             ('need', 3582),\n",
              "             ('haz', 1),\n",
              "             ('mat', 1),\n",
              "             ('hurry', 9),\n",
              "             ('begins', 1189),\n",
              "             ('wearing', 3630),\n",
              "             ('newser', 156),\n",
              "             ('–', 11263),\n",
              "             ('wonder', 1412),\n",
              "             ('how', 14497),\n",
              "             ('long', 8715),\n",
              "             ('quarter', 1306),\n",
              "             ('pounder', 534),\n",
              "             ('cheese', 2621),\n",
              "             ('can', 20106),\n",
              "             ('two', 23105),\n",
              "             ('australians', 200),\n",
              "             ('bought', 1974),\n",
              "             ('few', 6608),\n",
              "             (\"mcdonald's\", 701),\n",
              "             ('burgers', 212),\n",
              "             ('friends', 7479),\n",
              "             ('back', 14268),\n",
              "             ('1995', 131),\n",
              "             ('when', 35715),\n",
              "             ('teens', 850),\n",
              "             ('never', 8930),\n",
              "             ('showed', 4435),\n",
              "             ('up', 37890),\n",
              "             ('so', 24608),\n",
              "             (\"kid's\", 56),\n",
              "             ('burger', 1932),\n",
              "             ('went', 11210),\n",
              "             ('uneaten—and', 56),\n",
              "             ('stayed', 536),\n",
              "             ('way', 10354),\n",
              "             (\"australia's\", 98),\n",
              "             ('network', 3018),\n",
              "             ('we’re', 1531),\n",
              "             ('pretty', 2760),\n",
              "             ('sure', 4617),\n",
              "             ('oldest', 713),\n",
              "             ('men', 5806),\n",
              "             ('casey', 283),\n",
              "             ('dean', 529),\n",
              "             ('holding', 3974),\n",
              "             ('onto', 388),\n",
              "             ('their', 36284),\n",
              "             ('friend', 5208),\n",
              "             ('started', 4899),\n",
              "             ('joke', 970),\n",
              "             ('adds', 1014),\n",
              "             ('months', 6687),\n",
              "             ('became', 3068),\n",
              "             ('years', 15018),\n",
              "             ('now', 19995),\n",
              "             ('later', 9734),\n",
              "             ('same', 8141),\n",
              "             ('did', 12541),\n",
              "             ('day', 12059),\n",
              "             ('perfectly', 737),\n",
              "             ('preserved', 264),\n",
              "             ('its', 30533),\n",
              "             ('original', 2618),\n",
              "             ('wrapping', 125),\n",
              "             ('his', 113684),\n",
              "             ('buying', 840),\n",
              "             ('mate', 197),\n",
              "             ('eduard', 278),\n",
              "             ('nitz', 275),\n",
              "             ('even', 17327),\n",
              "             ('took', 9447),\n",
              "             ('australian', 1172),\n",
              "             ('tv', 6504),\n",
              "             ('show', 9010),\n",
              "             ('project', 2017),\n",
              "             ('mold', 103),\n",
              "             ('free', 5325),\n",
              "             ('specimen', 334),\n",
              "             ('9', 6304),\n",
              "             ('pair', 1205),\n",
              "             ('offered', 2037),\n",
              "             ('take', 8262),\n",
              "             ('bite', 511),\n",
              "             ('charity', 985),\n",
              "             ('dissuaded', 56),\n",
              "             (\"show's\", 56),\n",
              "             ('hosts', 276),\n",
              "             (\"they've\", 928),\n",
              "             ('also', 35924),\n",
              "             ('facebook', 8311),\n",
              "             ('page', 5341),\n",
              "             ('called', 8314),\n",
              "             ('year', 27924),\n",
              "             ('old', 16253),\n",
              "             ('likes', 558),\n",
              "             ('than', 20816),\n",
              "             ('kanye', 617),\n",
              "             ('west', 5817),\n",
              "             ('4', 4405),\n",
              "             ('044', 56),\n",
              "             ('writing', 1660),\n",
              "             (\"they're\", 2333),\n",
              "             ('selling', 1475),\n",
              "             ('itunes', 547),\n",
              "             ('song', 998),\n",
              "             ('1', 7747),\n",
              "             ('69', 210),\n",
              "             ('giving', 1514),\n",
              "             ('proceeds', 268),\n",
              "             ('beyond', 862),\n",
              "             ('blue', 968),\n",
              "             ('helps', 605),\n",
              "             ('anxiety', 248),\n",
              "             ('depression', 118),\n",
              "             ('ago', 8419),\n",
              "             ('sold', 2698),\n",
              "             ('bottle', 560),\n",
              "             ('mcjordan', 56),\n",
              "             ('sauce', 58),\n",
              "             ('10', 9437),\n",
              "             (\"here's\", 1276),\n",
              "             ('why', 5523),\n",
              "             ('mickey', 56),\n",
              "             (\"d's\", 56),\n",
              "             ('food', 5064),\n",
              "             ('seemingly', 885),\n",
              "             ('decays', 56),\n",
              "             ('comfort', 426),\n",
              "             ('eating', 2141),\n",
              "             ('chinese', 1736),\n",
              "             ('woman', 11421),\n",
              "             ('26', 2636),\n",
              "             ('spends', 777),\n",
              "             ('entire', 1972),\n",
              "             ('kfc', 2343),\n",
              "             ('being', 24418),\n",
              "             ('dumped', 892),\n",
              "             ('boyfriend', 705),\n",
              "             ('suspected', 3925),\n",
              "             ('cases', 4633),\n",
              "             ('iraq', 18887),\n",
              "             ('untrue', 483),\n",
              "             ('fighters', 12407),\n",
              "             ('contracted', 1609),\n",
              "             (\"'incorrect'\", 60),\n",
              "             ('health', 9823),\n",
              "             ('ministry', 4143),\n",
              "             ('virus', 3738),\n",
              "             ('spreading', 751),\n",
              "             ('among', 5334),\n",
              "             ('militants', 16727),\n",
              "             ('jihadists', 2684),\n",
              "             ('seeking', 1878),\n",
              "             ('cure', 157),\n",
              "             ('mosul', 7321),\n",
              "             ('hospital', 9456),\n",
              "             (\"'have\", 69),\n",
              "             (\"ebola'\", 69),\n",
              "             ('organisation', 1418),\n",
              "             ('investigating', 1923),\n",
              "             ('lethal', 297),\n",
              "             ('disease', 2654),\n",
              "             ('cracks', 76),\n",
              "             ('five', 5909),\n",
              "             ('confirmed', 12177),\n",
              "             ('official', 13306),\n",
              "             ('confusion', 685),\n",
              "             ('swirls', 53),\n",
              "             ('details', 4722),\n",
              "             ('murky', 114),\n",
              "             ('arrest', 2923),\n",
              "             (\"leader's\", 648),\n",
              "             (\"'wife'\", 53),\n",
              "             ('outbreak', 783),\n",
              "             ('2015', 6739),\n",
              "             ('update', 3259),\n",
              "             ('may', 19187),\n",
              "             ('deadly', 1743),\n",
              "             ('sources', 9032),\n",
              "             ('allegedly', 6357),\n",
              "             ('amazon', 4992),\n",
              "             ('com', 7208),\n",
              "             ('open', 4788),\n",
              "             ('first', 24830),\n",
              "             ('physical', 1673),\n",
              "             ('manhattan', 1357),\n",
              "             ('dj', 119),\n",
              "             ('alleged', 6690),\n",
              "             ('audio', 8301),\n",
              "             ('michael', 11691),\n",
              "             ('brown', 14984),\n",
              "             ('surfaced', 1826),\n",
              "             ('weaponized', 50),\n",
              "             ('contract', 1136),\n",
              "             ('horror', 333),\n",
              "             ('reportedly', 12549),\n",
              "             ('matt', 1177),\n",
              "             ('taibbi', 1558),\n",
              "             ('leave', 3554),\n",
              "             ('absence', 2419),\n",
              "             ('look', 4925),\n",
              "             (\"'there\", 376),\n",
              "             ('limit', 303),\n",
              "             (\"depravity'\", 82),\n",
              "             ('islamic', 29507),\n",
              "             ('feed', 1410),\n",
              "             ('mother', 4753),\n",
              "             ('her', 36442),\n",
              "             ('son', 8980),\n",
              "             ('israeli', 4516),\n",
              "             ('fighter', 2841),\n",
              "             ('abducted', 2923),\n",
              "             ('read', 4165),\n",
              "             ('boko', 13586),\n",
              "             ('haram', 13226),\n",
              "             ('kidnapped', 7576),\n",
              "             ('girls', 11969),\n",
              "             ('married', 2692),\n",
              "             ('truce', 1760),\n",
              "             ('does', 5935),\n",
              "             ('probably', 4204),\n",
              "             ('anyway', 693),\n",
              "             ('kurdish', 10159),\n",
              "             ('biological', 644),\n",
              "             ('warfare', 230),\n",
              "             ('horizon', 152),\n",
              "             ('soldiers', 4391),\n",
              "             ('infected', 979),\n",
              "             ('daash', 101),\n",
              "             ('transferred', 342),\n",
              "             ('translate', 279),\n",
              "             ('trick', 271),\n",
              "             ('‘eating', 27),\n",
              "             ('son’', 80),\n",
              "             ('‘have', 57),\n",
              "             ('ebola’', 45),\n",
              "             ('aren’t', 526),\n",
              "             ('attack', 9889),\n",
              "             ('britain', 2144),\n",
              "             (\"'contract\", 62),\n",
              "             (\"virus'\", 62),\n",
              "             ('grows', 273),\n",
              "             ('6', 5212),\n",
              "             ('billion', 1434),\n",
              "             ('california', 2055),\n",
              "             ('deals', 322),\n",
              "             ('about', 44194),\n",
              "             ('setting', 386),\n",
              "             ('straight', 509),\n",
              "             ('judicial', 578),\n",
              "             (\"watch's\", 637),\n",
              "             ('farrell', 38),\n",
              "             ('terrorists', 3896),\n",
              "             ('cross', 1439),\n",
              "             ('mexican', 2236),\n",
              "             ('border', 14796),\n",
              "             ('radically', 113),\n",
              "             ('redesigned', 119),\n",
              "             ('12', 8401),\n",
              "             ('inch', 3821),\n",
              "             ('macbook', 4281),\n",
              "             ('tim', 1654),\n",
              "             ('cook', 2669),\n",
              "             ('reveals', 1208),\n",
              "             ('waterproofing', 174),\n",
              "             ('improved', 228),\n",
              "             ('getting', 3403),\n",
              "             ('dismisses', 52),\n",
              "             ('‘unfounded’', 39),\n",
              "             ('elderly', 1145),\n",
              "             ('arrested', 4605),\n",
              "             ('kidnapping', 1414),\n",
              "             ('neighbor’s', 201),\n",
              "             ('cats', 892),\n",
              "             ('making', 6259),\n",
              "             ('fur', 576),\n",
              "             ('coats', 398),\n",
              "             ('denies', 1370),\n",
              "             ('5', 5972),\n",
              "             ('bird', 704),\n",
              "             ('poop', 283),\n",
              "             ('vladimir', 565),\n",
              "             ('putin', 1084),\n",
              "             ('dna', 1385),\n",
              "             ('tests', 1439),\n",
              "             ('prove', 1181),\n",
              "             ('lebanon', 2078),\n",
              "             ('chief', 5146),\n",
              "             ('al', 27200),\n",
              "             (\"baghdadi's\", 1406),\n",
              "             ('ex', 1398),\n",
              "             ('wife', 5741),\n",
              "             ('daughter', 4584),\n",
              "             ('fake', 5472),\n",
              "             ('passports', 96),\n",
              "             ('officials', 16051),\n",
              "             ('refute', 74),\n",
              "             ('members', 7027),\n",
              "             ('reservations', 155),\n",
              "             ('trying', 6108),\n",
              "             ('considered', 1383),\n",
              "             ('platinum', 752),\n",
              "             ('model', 2721),\n",
              "             ('former', 8379),\n",
              "             ('pga', 2855),\n",
              "             ('tour', 4230),\n",
              "             ('player', 776),\n",
              "             ('tiger', 2224),\n",
              "             ('woods', 4052),\n",
              "             ('suspended', 1355),\n",
              "             ('drug', 3444),\n",
              "             ('test', 2068),\n",
              "             ('failure', 1275),\n",
              "             ('us', 22728),\n",
              "             ('journalist', 13100),\n",
              "             ('james', 10811),\n",
              "             ('foley', 19075),\n",
              "             ('hbo', 2477),\n",
              "             ('talks', 3731),\n",
              "             ('15', 3301),\n",
              "             ('month', 10768),\n",
              "             ('streaming', 1859),\n",
              "             ('service', 11202),\n",
              "             ('launching', 509),\n",
              "             ('april', 3957),\n",
              "             ('investigates', 129),\n",
              "             ('blokes', 85),\n",
              "             ('dared', 69),\n",
              "             ('eat', 1172),\n",
              "             ('indian', 1003),\n",
              "             ('civil', 2185),\n",
              "             ('servant', 235),\n",
              "             ('sacked', 431),\n",
              "             (\"'after\", 35),\n",
              "             ('24', 3451),\n",
              "             (\"sickie'\", 26),\n",
              "             ('contingency', 72),\n",
              "             ('plan', 1453),\n",
              "             ('developed', 997),\n",
              "             ('‘probing’', 57),\n",
              "             ('whether', 6564),\n",
              "             ('got', 6319),\n",
              "             ('posting', 696),\n",
              "             ('gun', 2356),\n",
              "             ('toting', 1),\n",
              "             ('child', 4789),\n",
              "             ('online', 7774),\n",
              "             ('supporters', 1056),\n",
              "             ('announced', 6086),\n",
              "             ('group’s', 1434),\n",
              "             ('youngest', 933),\n",
              "             ('died', 6875),\n",
              "             ('combat', 795),\n",
              "             ('twitter', 12810),\n",
              "             ('accounts', 2059),\n",
              "             ('linked', 2572),\n",
              "             ('sham', 212),\n",
              "             ('claimed', 9075),\n",
              "             ('“got', 4),\n",
              "             ('martyred”', 1),\n",
              "             ('father', 7922),\n",
              "             ('while', 21588),\n",
              "             ('fighting', 5674),\n",
              "             ('terrorist', 5252),\n",
              "             ('group', 26105),\n",
              "             ('syria', 23848),\n",
              "             ('posted', 9326),\n",
              "             ('smiling', 916),\n",
              "             ('boy', 5258),\n",
              "             ('military', 12279),\n",
              "             ('fatigues', 525),\n",
              "             ('weapons', 6851),\n",
              "             ('times', 10074),\n",
              "             ('almost', 4251),\n",
              "             ('british', 11750),\n",
              "             ('roughly', 1226),\n",
              "             ('emerged', 2075),\n",
              "             ('june', 2882),\n",
              "             ('charlie', 1073),\n",
              "             ('cooper', 548),\n",
              "             ('researcher', 541),\n",
              "             ('monitors', 548),\n",
              "             ('london', 6999),\n",
              "             ('based', 7769),\n",
              "             ('quilliam', 241),\n",
              "             ('counter', 1884),\n",
              "             ('extremism', 346),\n",
              "             ('think', 8434),\n",
              "             ('tank', 977),\n",
              "             ('past', 7059),\n",
              "             ('mr', 12311),\n",
              "             ('noticed', 1012),\n",
              "             ('hashtag', 746),\n",
              "             ('“shibal', 1),\n",
              "             ('albaghdadi”', 1),\n",
              "             ('—', 23438),\n",
              "             ('translates', 348),\n",
              "             ('“the', 6982),\n",
              "             ('cub', 398),\n",
              "             ('baghdadi”', 1),\n",
              "             ('commonly', 688),\n",
              "             ('refer', 237),\n",
              "             ('themselves', 2625),\n",
              "             ('lions', 60),\n",
              "             ('cubs', 35),\n",
              "             ('abu', 4841),\n",
              "             ('bakr', 2885),\n",
              "             ('baghdadi', 5477),\n",
              "             ('isis’s', 176),\n",
              "             ('self', 1206),\n",
              "             ('proclaimed', 665),\n",
              "             ('caliph', 219),\n",
              "             ('ubaidah', 471),\n",
              "             ('martyred', 89),\n",
              "             ('airstrikes', 7107),\n",
              "             ('weeks', 6138),\n",
              "             ('http', 1733),\n",
              "             ('t', 2471),\n",
              "             ('co', 4877),\n",
              "             ('n1puexi7ir', 1),\n",
              "             ('istimes1', 1),\n",
              "             ('october', 3460),\n",
              "             ('07', 71),\n",
              "             ('tweeting', 216),\n",
              "             ('young', 5924),\n",
              "             ('dead', 8148),\n",
              "             ('sept', 2534),\n",
              "             ('often', 3250),\n",
              "             ('produces', 276),\n",
              "             ('fabricated', 367),\n",
              "             ('make', 10574),\n",
              "             ('seem', 2066),\n",
              "             ('“more', 104),\n",
              "             ('brutal', 2420),\n",
              "             ('”', 70057),\n",
              "             ('appear', 2684),\n",
              "             ('directly', 1245),\n",
              "             ('account', 4978),\n",
              "             ('u', 25798),\n",
              "             ('s', 25838),\n",
              "             ('strike', 2973),\n",
              "             ('though', 8395),\n",
              "             ('identified', 5785),\n",
              "             ('“it', 2830),\n",
              "             ('seems', 3610),\n",
              "             ('like', 20908),\n",
              "             ('legitimate', 280),\n",
              "             ('thing', 4471),\n",
              "             ('telephone', 390),\n",
              "             ('interview', 4361),\n",
              "             ('thursday', 6111),\n",
              "             ('adding', 2769),\n",
              "             ('known', 10850),\n",
              "             ('“i', 6581),\n",
              "             ('would', 36303),\n",
              "             ('vouch', 35),\n",
              "             ('united', 7015),\n",
              "             ('nations', 1397),\n",
              "             ('children', 5206),\n",
              "             ('conduct', 482),\n",
              "             ('patrols', 106),\n",
              "             ('guard', 2875),\n",
              "             ('prisoners', 988),\n",
              "             ('carry', 1122),\n",
              "             ('forced', 2482),\n",
              "             ('give', 4136),\n",
              "             ('blood', 2614),\n",
              "             ('injured', 2298),\n",
              "             ('listed', 675),\n",
              "             ('un', 8946),\n",
              "             ('13', 3708),\n",
              "             ('frequently', 671),\n",
              "             ('used', 9232),\n",
              "             ('propaganda', 1421),\n",
              "             ('showing', 4268),\n",
              "             ('“uniform', 1),\n",
              "             ('parading', 35),\n",
              "             ('alongside', 2098),\n",
              "             ('adults', 113),\n",
              "             ('“everyone', 31),\n",
              "             ('nato', 286),\n",
              "             ('headquarters', 1552),\n",
              "             ('worried', 889),\n",
              "             ('shelly', 45),\n",
              "             ('whitman', 35),\n",
              "             ('executive', 1899),\n",
              "             ('director', 5264),\n",
              "             ('halifax', 35),\n",
              "             ('romeo', 63),\n",
              "             ('dallaire', 35),\n",
              "             ('initiative', 109),\n",
              "             ('“if', 1363),\n",
              "             ('send', 898),\n",
              "             ('boots', 277),\n",
              "             ('ground', 4268),\n",
              "             ('going', 11477),\n",
              "             ('face', 5097),\n",
              "             ('she', 40102),\n",
              "             ('currently', 3923),\n",
              "             ('six', 9209),\n",
              "             ('mission', 1532),\n",
              "             ('limited', 1353),\n",
              "             ('ban', 509),\n",
              "             ('deploying', 192),\n",
              "             ('troops', 2196),\n",
              "             ('‘the', 847),\n",
              "             (\"baghdadi'\", 173),\n",
              "             ('jihadist', 2678),\n",
              "             ('‘got', 16),\n",
              "             ('martyred’', 16),\n",
              "             ('least', 10421),\n",
              "             ('25', 3133),\n",
              "             ('insurgents', 1444),\n",
              "             ('clashes', 1013),\n",
              "             ('between', 8036),\n",
              "             ('islamist', 3513),\n",
              "             ('northeast', 793),\n",
              "             ('nigeria', 4675),\n",
              "             ('civilians', 2170),\n",
              "             ('elsewhere', 938),\n",
              "             ('region', 3010),\n",
              "             ('monday', 9791),\n",
              "             ('ceasefire', 4282),\n",
              "             ('agreement', 1523),\n",
              "             ('nigerian', 6143),\n",
              "             ('expected', 4508),\n",
              "             ('lead', 2376),\n",
              "             ('liberation', 154),\n",
              "             ('200', 3834),\n",
              "             ('schoolgirls', 3766),\n",
              "             ('due', 4484),\n",
              "             ('continue', 3385),\n",
              "             ('neighbouring', 592),\n",
              "             ('chad', 2070),\n",
              "             ('attacks', 5870),\n",
              "             ('over', 26831),\n",
              "             ('blamed', 898),\n",
              "             ('security', 16092),\n",
              "             ('several', 9704),\n",
              "             ('dozen', 1228),\n",
              "             ('since', 16328),\n",
              "             ('announcement', 2063),\n",
              "             ('spokesman', 7343),\n",
              "             ('work', 7950),\n",
              "             ('criminal', 2250),\n",
              "             ('gangs', 572),\n",
              "             ('lawless', 181),\n",
              "             ('army', 4537),\n",
              "             ('officer', 8096),\n",
              "             ('requested', 556),\n",
              "             ('anonymity', 1663),\n",
              "             ('tried', 2279),\n",
              "             ('enter', 1093),\n",
              "             ('town', 9519),\n",
              "             ('damboa', 606),\n",
              "             ('late', 5740),\n",
              "             ('through', 13213),\n",
              "             ('alagarno', 124),\n",
              "             ('hideout', 204),\n",
              "             ('fought', 1108),\n",
              "             ('them', 22252),\n",
              "             ('“our', 250),\n",
              "             ('gunned', 294),\n",
              "             ('entered', 1076),\n",
              "             ('unleashed', 192),\n",
              "             ('terror', 5795),\n",
              "             ('picking', 607),\n",
              "             ('ruins', 194),\n",
              "             ('armoured', 523),\n",
              "             ('vehicle', 3174),\n",
              "             ('some', 26496),\n",
              "             ('arms', 3059),\n",
              "             ('recovered', 954),\n",
              "             ('garrison', 102),\n",
              "             ('cameroon', 659),\n",
              "             ('fierce', 272),\n",
              "             ('forces', 10911),\n",
              "             ('july', 2596),\n",
              "             ('driven', 660),\n",
              "             ('out', 34743),\n",
              "             ('offensive', 576),\n",
              "             ('member', 3173),\n",
              "             ...])"
            ]
          },
          "metadata": {
            "tags": []
          },
          "execution_count": 12
        }
      ]
    },
    {
      "cell_type": "code",
      "metadata": {
        "id": "KXtG-AGvnE5z",
        "colab_type": "code",
        "colab": {
          "base_uri": "https://localhost:8080/",
          "height": 1000
        },
        "outputId": "38d5b26d-41d4-4ff3-a7b3-56c41924efe6"
      },
      "source": [
        "tokenizer.word_docs"
      ],
      "execution_count": 13,
      "outputs": [
        {
          "output_type": "execute_result",
          "data": {
            "text/plain": [
              "defaultdict(int,\n",
              "            {'see': 9324,\n",
              "             'anyone': 4118,\n",
              "             'sitting': 1162,\n",
              "             'related': 3050,\n",
              "             'told': 20533,\n",
              "             'from': 36033,\n",
              "             'managua': 976,\n",
              "             'i': 15632,\n",
              "             'which': 23489,\n",
              "             'and': 47088,\n",
              "             'after': 26886,\n",
              "             'into': 16499,\n",
              "             'asteroid': 933,\n",
              "             'abc': 379,\n",
              "             'the': 49138,\n",
              "             'crater': 1259,\n",
              "             'night': 5767,\n",
              "             'a': 48457,\n",
              "             'volcanologist': 332,\n",
              "             'that': 45001,\n",
              "             'one': 24201,\n",
              "             'airport': 2803,\n",
              "             'national': 5819,\n",
              "             'mysterious': 845,\n",
              "             \"city's\": 496,\n",
              "             'or': 21113,\n",
              "             'humberto': 440,\n",
              "             'radius': 198,\n",
              "             'scientists': 1311,\n",
              "             'come': 7282,\n",
              "             'sudden': 942,\n",
              "             'saturday': 3247,\n",
              "             'not': 33664,\n",
              "             'if': 18066,\n",
              "             'university': 2064,\n",
              "             'santamaria': 373,\n",
              "             'adviser': 511,\n",
              "             'territorial': 515,\n",
              "             'reports': 15417,\n",
              "             'disintegrated': 485,\n",
              "             'thought': 5841,\n",
              "             'wave': 857,\n",
              "             'very': 9068,\n",
              "             'what': 17698,\n",
              "             'saw': 3833,\n",
              "             'force': 3979,\n",
              "             'at': 35182,\n",
              "             'heard': 6480,\n",
              "             'blast': 1012,\n",
              "             'war': 6109,\n",
              "             'could': 16293,\n",
              "             'anything': 2766,\n",
              "             'wooded': 451,\n",
              "             'off': 11626,\n",
              "             'he': 32366,\n",
              "             'my': 8592,\n",
              "             'soldier': 2177,\n",
              "             'help': 5638,\n",
              "             'locked': 179,\n",
              "             'visit': 1691,\n",
              "             'government': 11200,\n",
              "             'institute': 1636,\n",
              "             'left': 9077,\n",
              "             'this': 30105,\n",
              "             'allowed': 1373,\n",
              "             'press': 6732,\n",
              "             'by': 36400,\n",
              "             'skimmed': 36,\n",
              "             'passing': 1135,\n",
              "             'international': 5105,\n",
              "             'autonomous': 517,\n",
              "             'strange': 1397,\n",
              "             'with': 39819,\n",
              "             'boom': 640,\n",
              "             'of': 47791,\n",
              "             'close': 4250,\n",
              "             'center': 3308,\n",
              "             'it': 38394,\n",
              "             'planet': 452,\n",
              "             'all': 19686,\n",
              "             'gunfire': 1520,\n",
              "             'has': 38128,\n",
              "             'earth': 1507,\n",
              "             'air': 6402,\n",
              "             'nothing': 3622,\n",
              "             'had': 29167,\n",
              "             'rock': 998,\n",
              "             'were': 22462,\n",
              "             'house': 5738,\n",
              "             'capital': 4597,\n",
              "             'loud': 1275,\n",
              "             'media': 13538,\n",
              "             'is': 42808,\n",
              "             'nicaragua': 1059,\n",
              "             'sized': 573,\n",
              "             '16': 1765,\n",
              "             'measured': 202,\n",
              "             'garcia': 297,\n",
              "             'crashed': 207,\n",
              "             'rosario': 491,\n",
              "             'hearing': 1967,\n",
              "             'state': 15540,\n",
              "             'erupts': 93,\n",
              "             'meteorite': 1674,\n",
              "             'ask': 2105,\n",
              "             'forecast': 350,\n",
              "             'wilfried': 394,\n",
              "             'determined': 1234,\n",
              "             'pass': 1100,\n",
              "             'near': 8075,\n",
              "             'something': 6770,\n",
              "             'was': 39917,\n",
              "             'committee': 1743,\n",
              "             'then': 13584,\n",
              "             'expansive': 432,\n",
              "             'down': 9299,\n",
              "             'depth': 335,\n",
              "             'an': 35549,\n",
              "             'sunday': 3846,\n",
              "             'clear': 4268,\n",
              "             'deep': 1078,\n",
              "             'have': 36699,\n",
              "             'more': 22466,\n",
              "             'overnight': 749,\n",
              "             'journalists': 1957,\n",
              "             'said': 33934,\n",
              "             'event': 3151,\n",
              "             'jorge': 455,\n",
              "             \"nicaragua's\": 472,\n",
              "             'we': 20146,\n",
              "             'happened': 4207,\n",
              "             'spokeswoman': 2238,\n",
              "             'they': 26784,\n",
              "             'news': 16743,\n",
              "             'still': 9786,\n",
              "             'relatively': 703,\n",
              "             '39': 1045,\n",
              "             'who': 29945,\n",
              "             'on': 44065,\n",
              "             'area': 5279,\n",
              "             'rc': 532,\n",
              "             'streak': 247,\n",
              "             'residents': 2704,\n",
              "             'because': 13081,\n",
              "             'ice': 363,\n",
              "             'understanding': 432,\n",
              "             'parliament': 2257,\n",
              "             'study': 966,\n",
              "             'experts': 2686,\n",
              "             '60': 1354,\n",
              "             'no': 20680,\n",
              "             'be': 35181,\n",
              "             \"didn't\": 3140,\n",
              "             'studies': 1092,\n",
              "             'memorial': 1708,\n",
              "             'felt': 2762,\n",
              "             'bomb': 1111,\n",
              "             'strauch': 422,\n",
              "             'light': 1609,\n",
              "             'site': 5723,\n",
              "             'nicaraguan': 1050,\n",
              "             'local': 5694,\n",
              "             'feet': 1534,\n",
              "             'formed': 638,\n",
              "             '2014': 6265,\n",
              "             \"managua's\": 406,\n",
              "             'only': 11694,\n",
              "             'astronomy': 252,\n",
              "             'murillo': 661,\n",
              "             'sky': 899,\n",
              "             'small': 3603,\n",
              "             'associated': 4035,\n",
              "             'appears': 5866,\n",
              "             'reported': 14336,\n",
              "             'will': 20228,\n",
              "             'base': 1128,\n",
              "             'shot': 5420,\n",
              "             'large': 3917,\n",
              "             'but': 32674,\n",
              "             'to': 48368,\n",
              "             'foot': 1836,\n",
              "             'porch': 290,\n",
              "             'diameter': 71,\n",
              "             'weekend': 3043,\n",
              "             'saballos': 346,\n",
              "             'photo': 5529,\n",
              "             'in': 48095,\n",
              "             'buried': 1268,\n",
              "             '‘spider': 30,\n",
              "             'skin': 2027,\n",
              "             'days': 7670,\n",
              "             'under': 9985,\n",
              "             'for': 41170,\n",
              "             'dubbed': 593,\n",
              "             'man’': 49,\n",
              "             'tourist': 122,\n",
              "             'spider': 1551,\n",
              "             'burrows': 246,\n",
              "             'somers': 514,\n",
              "             \"yemen'\": 70,\n",
              "             'attempt': 1701,\n",
              "             'failed': 1770,\n",
              "             'rescue': 1339,\n",
              "             \"'killed\": 124,\n",
              "             'luke': 639,\n",
              "             'ottawa': 1803,\n",
              "             'breaking': 1516,\n",
              "             'stone': 1011,\n",
              "             'caught': 3473,\n",
              "             'reeled': 34,\n",
              "             'italy': 462,\n",
              "             'biggest': 992,\n",
              "             'catfish': 281,\n",
              "             'line': 2468,\n",
              "             '8ft': 35,\n",
              "             '9in': 35,\n",
              "             'weighing': 313,\n",
              "             'rod': 209,\n",
              "             '19': 1832,\n",
              "             'ever': 4267,\n",
              "             'giant': 622,\n",
              "             '20': 3804,\n",
              "             '40': 3905,\n",
              "             'minute': 1605,\n",
              "             'boat': 492,\n",
              "             'enormous': 589,\n",
              "             'fishing': 217,\n",
              "             'battle': 1622,\n",
              "             'italian': 643,\n",
              "             'record': 2038,\n",
              "             'wels': 132,\n",
              "             'catches': 307,\n",
              "             'huge': 2021,\n",
              "             'spice': 1032,\n",
              "             'pumpkin': 1113,\n",
              "             'coming': 4170,\n",
              "             'store': 2776,\n",
              "             'condom': 798,\n",
              "             'you': 14928,\n",
              "             'killed': 9464,\n",
              "             'gunman': 1316,\n",
              "             'shooting': 4986,\n",
              "             'other': 15403,\n",
              "             'hunt': 544,\n",
              "             'shooters': 91,\n",
              "             'hill': 1554,\n",
              "             'canada': 1300,\n",
              "             'likely': 5033,\n",
              "             'surreal': 47,\n",
              "             'jaw': 37,\n",
              "             'catch': 763,\n",
              "             'it’s': 7040,\n",
              "             'fisherman’s': 24,\n",
              "             'photos': 2998,\n",
              "             'wondering': 387,\n",
              "             'dropping': 252,\n",
              "             'people': 18078,\n",
              "             'real': 6130,\n",
              "             'lands': 138,\n",
              "             'hooked': 355,\n",
              "             'world': 9737,\n",
              "             'fisherman': 251,\n",
              "             'source': 5761,\n",
              "             'wants': 1847,\n",
              "             'brokaw': 154,\n",
              "             'williams': 705,\n",
              "             'fired': 3072,\n",
              "             'brian': 791,\n",
              "             'tom': 804,\n",
              "             'away': 5784,\n",
              "             'nation’s': 352,\n",
              "             'been': 32843,\n",
              "             'canada’s': 144,\n",
              "             'steps': 718,\n",
              "             'just': 16172,\n",
              "             'makes': 2717,\n",
              "             'set': 5734,\n",
              "             'pound': 501,\n",
              "             '280': 128,\n",
              "             'robots': 348,\n",
              "             'patrolling': 250,\n",
              "             'debunked': 599,\n",
              "             'rumor': 2589,\n",
              "             'style': 905,\n",
              "             'robocop': 123,\n",
              "             'campus': 804,\n",
              "             \"microsoft's\": 300,\n",
              "             'are': 29937,\n",
              "             'kg': 128,\n",
              "             'meters': 449,\n",
              "             '127': 167,\n",
              "             '67': 434,\n",
              "             'po': 377,\n",
              "             '2': 5079,\n",
              "             'swallow': 162,\n",
              "             'monster': 277,\n",
              "             'enough': 3717,\n",
              "             'man': 13972,\n",
              "             'big': 4251,\n",
              "             'whole': 1319,\n",
              "             'looks': 1931,\n",
              "             'says': 11999,\n",
              "             'yemen': 608,\n",
              "             \"somers'\": 119,\n",
              "             'sister': 2563,\n",
              "             '100': 3052,\n",
              "             'apple': 6553,\n",
              "             'proof': 927,\n",
              "             'apps': 1063,\n",
              "             'shower': 575,\n",
              "             'launch': 2863,\n",
              "             'watch': 7985,\n",
              "             '000': 7298,\n",
              "             'canadian': 2540,\n",
              "             'building': 4013,\n",
              "             'shots': 2901,\n",
              "             'multiple': 2734,\n",
              "             'tor': 346,\n",
              "             'cut': 2421,\n",
              "             'comcast': 623,\n",
              "             'criminals': 543,\n",
              "             'web': 1992,\n",
              "             'customers': 1493,\n",
              "             'browser': 234,\n",
              "             'use': 4996,\n",
              "             'threatening': 1251,\n",
              "             'strikes': 3218,\n",
              "             'city': 8791,\n",
              "             'iconic': 677,\n",
              "             'pacific': 478,\n",
              "             'redwood': 223,\n",
              "             'shores': 330,\n",
              "             'google': 1167,\n",
              "             'buy': 1263,\n",
              "             'park': 1587,\n",
              "             'chunk': 88,\n",
              "             'office': 4146,\n",
              "             'report': 12940,\n",
              "             'social': 6267,\n",
              "             'leader': 7358,\n",
              "             'claim': 5709,\n",
              "             'slain': 303,\n",
              "             'rumors': 4323,\n",
              "             'iraqi': 5078,\n",
              "             'say': 11461,\n",
              "             'unconfirmed': 1565,\n",
              "             'there': 20327,\n",
              "             'imagination': 220,\n",
              "             'own': 4933,\n",
              "             'gross': 107,\n",
              "             'figment': 29,\n",
              "             'your': 6858,\n",
              "             \"canada's\": 253,\n",
              "             \"dead'\": 30,\n",
              "             'wounding': 98,\n",
              "             \"'shot\": 28,\n",
              "             'chemical': 586,\n",
              "             'weapon': 1207,\n",
              "             'isis': 13410,\n",
              "             'kurds': 1842,\n",
              "             'fear': 1725,\n",
              "             'kobani': 1794,\n",
              "             'incident': 2800,\n",
              "             'monstrous': 18,\n",
              "             'halloween': 73,\n",
              "             'mask': 392,\n",
              "             'as': 35488,\n",
              "             'wearing': 2535,\n",
              "             'particularly': 1487,\n",
              "             'last': 16196,\n",
              "             'fears': 1386,\n",
              "             'jcpenney': 1,\n",
              "             'mat': 1,\n",
              "             'dulles': 225,\n",
              "             'suit': 632,\n",
              "             'haz': 1,\n",
              "             'body': 4075,\n",
              "             'america': 3310,\n",
              "             'c': 1393,\n",
              "             'd': 566,\n",
              "             'bag': 362,\n",
              "             'passenger': 517,\n",
              "             'maybe': 1395,\n",
              "             'bankrupt': 30,\n",
              "             'try': 2230,\n",
              "             'complete': 1031,\n",
              "             'dressed': 1587,\n",
              "             'across': 5722,\n",
              "             'spotted': 1335,\n",
              "             'caller': 227,\n",
              "             'hazmat': 260,\n",
              "             'waiting': 1457,\n",
              "             'gloves': 468,\n",
              "             'new': 17168,\n",
              "             'note': 1434,\n",
              "             'outside': 4044,\n",
              "             'wednesday': 4688,\n",
              "             'ebola': 3586,\n",
              "             'liked': 316,\n",
              "             'washington': 4435,\n",
              "             'apparently': 4555,\n",
              "             'need': 3110,\n",
              "             \"that's\": 2507,\n",
              "             'retailer': 166,\n",
              "             'stores': 591,\n",
              "             'side': 2223,\n",
              "             'flight': 1142,\n",
              "             'begins': 1129,\n",
              "             'confirmation': 1811,\n",
              "             'week': 9761,\n",
              "             'female': 2438,\n",
              "             'today': 5269,\n",
              "             'taking': 4833,\n",
              "             'full': 4483,\n",
              "             'any': 14017,\n",
              "             'gown': 126,\n",
              "             'hurry': 9,\n",
              "             'spread': 2611,\n",
              "             'chances': 541,\n",
              "             'business': 2535,\n",
              "             'daily': 5097,\n",
              "             'get': 10023,\n",
              "             'hinted': 115,\n",
              "             'dumped': 692,\n",
              "             'tv': 3899,\n",
              "             'spends': 688,\n",
              "             'did': 9642,\n",
              "             'how': 9993,\n",
              "             'few': 5611,\n",
              "             'page': 3798,\n",
              "             'called': 6988,\n",
              "             'dissuaded': 56,\n",
              "             'went': 8608,\n",
              "             'its': 16303,\n",
              "             'depression': 118,\n",
              "             'food': 3456,\n",
              "             'cheese': 1557,\n",
              "             'uneaten—and': 56,\n",
              "             'entire': 1678,\n",
              "             '69': 210,\n",
              "             'burgers': 167,\n",
              "             'hosts': 268,\n",
              "             'mate': 129,\n",
              "             'than': 14231,\n",
              "             'west': 4252,\n",
              "             'their': 19153,\n",
              "             'his': 29159,\n",
              "             'also': 22200,\n",
              "             'network': 2509,\n",
              "             'men': 4303,\n",
              "             'way': 8379,\n",
              "             'woman': 6642,\n",
              "             'mcjordan': 56,\n",
              "             'pounder': 285,\n",
              "             'specimen': 245,\n",
              "             'wonder': 1076,\n",
              "             'writing': 1450,\n",
              "             'seemingly': 789,\n",
              "             'newser': 106,\n",
              "             'took': 7679,\n",
              "             \"kid's\": 56,\n",
              "             'quarter': 857,\n",
              "             'long': 7168,\n",
              "             'burger': 327,\n",
              "             'itunes': 308,\n",
              "             'song': 736,\n",
              "             'holding': 3372,\n",
              "             'joke': 918,\n",
              "             'project': 1600,\n",
              "             'stayed': 446,\n",
              "             'years': 9878,\n",
              "             'helps': 407,\n",
              "             'bought': 1317,\n",
              "             '–': 6174,\n",
              "             'why': 4109,\n",
              "             'buying': 761,\n",
              "             'wrapping': 125,\n",
              "             'later': 8023,\n",
              "             'decays': 56,\n",
              "             'likes': 414,\n",
              "             'boyfriend': 601,\n",
              "             'back': 10393,\n",
              "             'chinese': 848,\n",
              "             'charity': 686,\n",
              "             'day': 8624,\n",
              "             'take': 6998,\n",
              "             'dean': 220,\n",
              "             'now': 14702,\n",
              "             '10': 6496,\n",
              "             \"show's\": 56,\n",
              "             'sauce': 58,\n",
              "             'we’re': 1482,\n",
              "             '4': 3016,\n",
              "             \"here's\": 1212,\n",
              "             \"australia's\": 98,\n",
              "             \"they're\": 1711,\n",
              "             'became': 2417,\n",
              "             '1995': 128,\n",
              "             'preserved': 222,\n",
              "             'show': 6143,\n",
              "             'friend': 3160,\n",
              "             'mold': 103,\n",
              "             'started': 3716,\n",
              "             'two': 14538,\n",
              "             'even': 12272,\n",
              "             'eating': 1680,\n",
              "             'australian': 957,\n",
              "             'giving': 1408,\n",
              "             'australians': 144,\n",
              "             'perfectly': 737,\n",
              "             'pair': 1007,\n",
              "             'so': 15876,\n",
              "             \"mcdonald's\": 336,\n",
              "             'teens': 699,\n",
              "             '9': 4718,\n",
              "             'year': 17556,\n",
              "             'selling': 1320,\n",
              "             'being': 17176,\n",
              "             'oldest': 560,\n",
              "             'anxiety': 248,\n",
              "             '1': 5510,\n",
              "             'can': 14138,\n",
              "             'old': 11936,\n",
              "             '044': 56,\n",
              "             'mickey': 56,\n",
              "             'months': 5403,\n",
              "             'ago': 7133,\n",
              "             'adds': 974,\n",
              "             'bite': 498,\n",
              "             'sure': 3802,\n",
              "             'free': 3804,\n",
              "             'kfc': 534,\n",
              "             'original': 2149,\n",
              "             'same': 6239,\n",
              "             'casey': 224,\n",
              "             'kanye': 348,\n",
              "             'facebook': 4953,\n",
              "             'up': 22581,\n",
              "             'onto': 346,\n",
              "             'friends': 4654,\n",
              "             'never': 6394,\n",
              "             'nitz': 212,\n",
              "             'pretty': 2186,\n",
              "             \"d's\": 56,\n",
              "             'eduard': 220,\n",
              "             \"they've\": 853,\n",
              "             'offered': 1970,\n",
              "             'beyond': 862,\n",
              "             'sold': 2163,\n",
              "             'bottle': 473,\n",
              "             'comfort': 359,\n",
              "             'proceeds': 260,\n",
              "             'when': 20714,\n",
              "             'showed': 3785,\n",
              "             'blue': 721,\n",
              "             '26': 1939,\n",
              "             'iraq': 8557,\n",
              "             'untrue': 472,\n",
              "             'cases': 2437,\n",
              "             'suspected': 2622,\n",
              "             \"'incorrect'\": 60,\n",
              "             'health': 4959,\n",
              "             'ministry': 2874,\n",
              "             'fighters': 6867,\n",
              "             'contracted': 1383,\n",
              "             'among': 4301,\n",
              "             'seeking': 1600,\n",
              "             'mosul': 3326,\n",
              "             'virus': 1560,\n",
              "             'hospital': 5254,\n",
              "             'cure': 156,\n",
              "             'spreading': 718,\n",
              "             'jihadists': 1929,\n",
              "             'militants': 7594,\n",
              "             'investigating': 1811,\n",
              "             'disease': 1264,\n",
              "             'lethal': 292,\n",
              "             \"'have\": 69,\n",
              "             \"ebola'\": 69,\n",
              "             'organisation': 1048,\n",
              "             'official': 8449,\n",
              "             'five': 3812,\n",
              "             'confirmed': 9977,\n",
              "             'cracks': 76,\n",
              "             \"'wife'\": 53,\n",
              "             'arrest': 1753,\n",
              "             \"leader's\": 626,\n",
              "             'murky': 113,\n",
              "             'confusion': 648,\n",
              "             'details': 4260,\n",
              "             'swirls': 53,\n",
              "             'deadly': 1461,\n",
              "             'outbreak': 644,\n",
              "             'update': 2713,\n",
              "             'may': 12515,\n",
              "             '2015': 4088,\n",
              "             'sources': 5897,\n",
              "             'allegedly': 5206,\n",
              "             'first': 15259,\n",
              "             'physical': 1046,\n",
              "             'dj': 119,\n",
              "             'open': 3419,\n",
              "             'com': 4903,\n",
              "             'manhattan': 959,\n",
              "             'amazon': 786,\n",
              "             'brown': 3967,\n",
              "             'audio': 3827,\n",
              "             'surfaced': 1700,\n",
              "             'alleged': 5364,\n",
              "             'michael': 6837,\n",
              "             'contract': 806,\n",
              "             'weaponized': 50,\n",
              "             'reportedly': 9664,\n",
              "             'horror': 319,\n",
              "             'taibbi': 191,\n",
              "             'absence': 1594,\n",
              "             'look': 3554,\n",
              "             'matt': 911,\n",
              "             'leave': 2956,\n",
              "             'her': 10453,\n",
              "             'limit': 300,\n",
              "             'son': 4443,\n",
              "             'islamic': 11027,\n",
              "             \"depravity'\": 82,\n",
              "             \"'there\": 375,\n",
              "             'mother': 3304,\n",
              "             'feed': 971,\n",
              "             'fighter': 2377,\n",
              "             'israeli': 1311,\n",
              "             'abducted': 1982,\n",
              "             'read': 3751,\n",
              "             'kidnapped': 4687,\n",
              "             'girls': 3870,\n",
              "             'haram': 3168,\n",
              "             'truce': 1264,\n",
              "             'boko': 2998,\n",
              "             'married': 1641,\n",
              "             'probably': 3618,\n",
              "             'anyway': 658,\n",
              "             'does': 5270,\n",
              "             'kurdish': 4066,\n",
              "             'soldiers': 2652,\n",
              "             'biological': 477,\n",
              "             'warfare': 225,\n",
              "             'infected': 648,\n",
              "             'horizon': 146,\n",
              "             'daash': 79,\n",
              "             'transferred': 342,\n",
              "             'translate': 279,\n",
              "             'son’': 80,\n",
              "             'trick': 262,\n",
              "             '‘eating': 27,\n",
              "             'ebola’': 45,\n",
              "             '‘have': 57,\n",
              "             'aren’t': 467,\n",
              "             \"virus'\": 62,\n",
              "             \"'contract\": 62,\n",
              "             'attack': 5956,\n",
              "             'britain': 1771,\n",
              "             'grows': 272,\n",
              "             'california': 1726,\n",
              "             'billion': 1067,\n",
              "             '6': 2745,\n",
              "             'deals': 281,\n",
              "             'about': 23720,\n",
              "             'setting': 386,\n",
              "             'straight': 504,\n",
              "             'border': 5596,\n",
              "             'mexican': 1626,\n",
              "             'judicial': 457,\n",
              "             'farrell': 38,\n",
              "             'cross': 1286,\n",
              "             \"watch's\": 451,\n",
              "             'terrorists': 2468,\n",
              "             'radically': 110,\n",
              "             'macbook': 758,\n",
              "             'redesigned': 112,\n",
              "             '12': 4701,\n",
              "             'inch': 1077,\n",
              "             'reveals': 1194,\n",
              "             'cook': 1040,\n",
              "             'improved': 219,\n",
              "             'waterproofing': 173,\n",
              "             'tim': 1239,\n",
              "             'getting': 2904,\n",
              "             '‘unfounded’': 39,\n",
              "             'dismisses': 52,\n",
              "             'neighbor’s': 125,\n",
              "             'arrested': 2790,\n",
              "             'making': 5614,\n",
              "             'cats': 195,\n",
              "             'fur': 210,\n",
              "             'elderly': 934,\n",
              "             'coats': 164,\n",
              "             'kidnapping': 1104,\n",
              "             'denies': 1357,\n",
              "             '5': 4361,\n",
              "             'poop': 279,\n",
              "             'bird': 522,\n",
              "             'putin': 409,\n",
              "             'vladimir': 449,\n",
              "             \"baghdadi's\": 652,\n",
              "             'chief': 3726,\n",
              "             'ex': 1034,\n",
              "             'passports': 96,\n",
              "             'wife': 3141,\n",
              "             'tests': 1022,\n",
              "             'al': 8254,\n",
              "             'fake': 2997,\n",
              "             'lebanon': 998,\n",
              "             'prove': 1102,\n",
              "             'daughter': 1758,\n",
              "             'dna': 744,\n",
              "             'members': 5571,\n",
              "             'refute': 74,\n",
              "             'officials': 9621,\n",
              "             'considered': 1375,\n",
              "             'model': 1562,\n",
              "             'platinum': 372,\n",
              "             'trying': 4887,\n",
              "             'reservations': 153,\n",
              "             'woods': 1181,\n",
              "             'suspended': 929,\n",
              "             'drug': 2227,\n",
              "             'failure': 1085,\n",
              "             'test': 1657,\n",
              "             'former': 5802,\n",
              "             'pga': 623,\n",
              "             'tour': 1402,\n",
              "             'player': 540,\n",
              "             'tiger': 889,\n",
              "             'journalist': 6746,\n",
              "             'us': 12068,\n",
              "             'foley': 6179,\n",
              "             'james': 6699,\n",
              "             'streaming': 723,\n",
              "             'launching': 495,\n",
              "             'service': 4861,\n",
              "             'talks': 2340,\n",
              "             'hbo': 313,\n",
              "             'month': 8404,\n",
              "             'april': 3043,\n",
              "             '15': 2772,\n",
              "             'investigates': 129,\n",
              "             'dared': 69,\n",
              "             'blokes': 84,\n",
              "             'eat': 1067,\n",
              "             'indian': 875,\n",
              "             '24': 3020,\n",
              "             'servant': 166,\n",
              "             'civil': 1743,\n",
              "             \"'after\": 35,\n",
              "             \"sickie'\": 26,\n",
              "             'sacked': 363,\n",
              "             'contingency': 71,\n",
              "             'plan': 1309,\n",
              "             'developed': 979,\n",
              "             'got': 5351,\n",
              "             'whether': 5429,\n",
              "             '‘probing’': 57,\n",
              "             's': 9945,\n",
              "             'london': 3601,\n",
              "             'nato': 283,\n",
              "             '“uniform': 1,\n",
              "             'interview': 3812,\n",
              "             'noticed': 966,\n",
              "             'showing': 3743,\n",
              "             'injured': 1922,\n",
              "             'accounts': 1929,\n",
              "             'listed': 567,\n",
              "             '“i': 4507,\n",
              "             '“more': 104,\n",
              "             'identified': 4168,\n",
              "             'shelly': 45,\n",
              "             'halifax': 35,\n",
              "             'children': 3171,\n",
              "             'vouch': 35,\n",
              "             'emerged': 1658,\n",
              "             'syria': 8771,\n",
              "             'supporters': 831,\n",
              "             'commonly': 669,\n",
              "             'directly': 1178,\n",
              "             'currently': 3495,\n",
              "             'cooper': 354,\n",
              "             'counter': 1410,\n",
              "             \"baghdadi'\": 168,\n",
              "             'adults': 111,\n",
              "             'parading': 35,\n",
              "             'blood': 2260,\n",
              "             'past': 5917,\n",
              "             'lions': 60,\n",
              "             'father': 3791,\n",
              "             'legitimate': 280,\n",
              "             'conduct': 454,\n",
              "             'posted': 6118,\n",
              "             'often': 2699,\n",
              "             '”': 17428,\n",
              "             'weapons': 3128,\n",
              "             'albaghdadi”': 1,\n",
              "             'known': 8329,\n",
              "             'worried': 845,\n",
              "             '—': 9726,\n",
              "             'ubaidah': 180,\n",
              "             'martyred': 89,\n",
              "             'cub': 264,\n",
              "             'forced': 2116,\n",
              "             'dallaire': 35,\n",
              "             'un': 3401,\n",
              "             'headquarters': 1493,\n",
              "             'troops': 1806,\n",
              "             'roughly': 1123,\n",
              "             'tank': 836,\n",
              "             '“it': 2417,\n",
              "             'smiling': 446,\n",
              "             'tweeting': 216,\n",
              "             'thing': 3458,\n",
              "             'martyred”': 1,\n",
              "             'carry': 1101,\n",
              "             'while': 15035,\n",
              "             'researcher': 541,\n",
              "             'child': 2765,\n",
              "             'proclaimed': 627,\n",
              "             'group': 11734,\n",
              "             'caliph': 160,\n",
              "             'martyred’': 16,\n",
              "             'october': 2609,\n",
              "             '“got': 4,\n",
              "             'baghdadi”': 1,\n",
              "             'guard': 1859,\n",
              "             'alongside': 1602,\n",
              "             'http': 1400,\n",
              "             'istimes1': 1,\n",
              "             'hashtag': 544,\n",
              "             'mission': 1196,\n",
              "             'sept': 1534,\n",
              "             'online': 5967,\n",
              "             'youngest': 538,\n",
              "             'propaganda': 1182,\n",
              "             'almost': 3729,\n",
              "             'based': 6809,\n",
              "             'weeks': 4595,\n",
              "             'like': 14704,\n",
              "             'patrols': 106,\n",
              "             'appear': 2234,\n",
              "             'abu': 2532,\n",
              "             'toting': 1,\n",
              "             'u': 9763,\n",
              "             'director': 4072,\n",
              "             'jihadist': 2165,\n",
              "             'times': 7466,\n",
              "             'initiative': 87,\n",
              "             'self': 1160,\n",
              "             'british': 4673,\n",
              "             'fighting': 3776,\n",
              "             'whitman': 35,\n",
              "             'romeo': 63,\n",
              "             'limited': 1256,\n",
              "             'nations': 1361,\n",
              "             'group’s': 1244,\n",
              "             'quilliam': 241,\n",
              "             'terrorist': 3502,\n",
              "             'june': 2506,\n",
              "             '“everyone': 31,\n",
              "             '“if': 1315,\n",
              "             'baghdadi': 1831,\n",
              "             'twitter': 8254,\n",
              "             'sham': 179,\n",
              "             '07': 71,\n",
              "             'make': 8338,\n",
              "             'young': 4420,\n",
              "             'fatigues': 380,\n",
              "             'monitors': 546,\n",
              "             'frequently': 636,\n",
              "             'gun': 1634,\n",
              "             'combat': 738,\n",
              "             'adding': 2476,\n",
              "             'deploying': 192,\n",
              "             'seem': 1797,\n",
              "             'thursday': 4133,\n",
              "             'ban': 390,\n",
              "             'brutal': 2078,\n",
              "             'six': 6445,\n",
              "             'she': 11696,\n",
              "             'bakr': 1659,\n",
              "             'united': 4931,\n",
              "             'themselves': 2426,\n",
              "             'account': 3452,\n",
              "             't': 2064,\n",
              "             'extremism': 346,\n",
              "             '‘got': 16,\n",
              "             '“the': 5273,\n",
              "             'charlie': 791,\n",
              "             'mr': 3936,\n",
              "             'strike': 1657,\n",
              "             'prisoners': 806,\n",
              "             'used': 6592,\n",
              "             '“shibal': 1,\n",
              "             'claimed': 6585,\n",
              "             'seems': 3261,\n",
              "             'died': 4585,\n",
              "             'boots': 273,\n",
              "             'telephone': 375,\n",
              "             'refer': 202,\n",
              "             'co': 3770,\n",
              "             '13': 2540,\n",
              "             'linked': 2094,\n",
              "             'executive': 1494,\n",
              "             'translates': 348,\n",
              "             'send': 876,\n",
              "             'dead': 4862,\n",
              "             'give': 3644,\n",
              "             'boy': 2630,\n",
              "             'think': 6380,\n",
              "             'would': 19311,\n",
              "             'produces': 276,\n",
              "             'isis’s': 174,\n",
              "             'fabricated': 336,\n",
              "             'though': 6798,\n",
              "             'airstrikes': 3453,\n",
              "             'cubs': 35,\n",
              "             'military': 6247,\n",
              "             'going': 8181,\n",
              "             'face': 3489,\n",
              "             'posting': 622,\n",
              "             'ground': 3864,\n",
              "             'announced': 4680,\n",
              "             '‘the': 780,\n",
              "             'n1puexi7ir': 1,\n",
              "             'ceasefire': 1835,\n",
              "             'picking': 607,\n",
              "             'work': 5177,\n",
              "             'tada': 102,\n",
              "             'neighbouring': 565,\n",
              "             'nigerian': 1841,\n",
              "             'entered': 1049,\n",
              "             'tried': 1912,\n",
              "             'scouting': 231,\n",
              "             'beheads': 1669,\n",
              "             'mohammed': 2081,\n",
              "             'continue': 2751,\n",
              "             'far': 4338,\n",
              "             'american': 9897,\n",
              "             'chad': 1188,\n",
              "             'over': 17743,\n",
              "             'ruins': 194,\n",
              "             'unleashed': 192,\n",
              "             'liberation': 154,\n",
              "             'hilly': 102,\n",
              "             'maiduguri': 281,\n",
              "             'morning': 3706,\n",
              "             'since': 10991,\n",
              "             'midnight': 603,\n",
              "             'monday': 6262,\n",
              "             'lead': 2207,\n",
              "             'mountain': 1077,\n",
              "             'slaughtered': 197,\n",
              "             'anonymity': 1541,\n",
              "             'fought': 1074,\n",
              "             '“our': 250,\n",
              "             'gangs': 552,\n",
              "             'cameroon': 382,\n",
              "             '“two': 110,\n",
              "             'damboa': 139,\n",
              "             'member': 2940,\n",
              "             '200': 3035,\n",
              "             'alagarno': 124,\n",
              "             '“they': 1382,\n",
              "             'clashes': 708,\n",
              "             'arms': 1741,\n",
              "             'between': 6446,\n",
              "             'civilians': 1833,\n",
              "             'joint': 1304,\n",
              "             'phone': 2633,\n",
              "             'engaged': 420,\n",
              "             'terror': 3878,\n",
              "             'least': 7650,\n",
              "             'armoured': 378,\n",
              "             'elsewhere': 844,\n",
              "             'gunned': 279,\n",
              "             'reuters': 2853,\n",
              "             'late': 4952,\n",
              "             'andrew': 389,\n",
              "             'region': 2275,\n",
              "             'lasted': 321,\n",
              "             'blamed': 710,\n",
              "             'recovered': 813,\n",
              "             'spokesman': 5944,\n",
              "             'northeast': 670,\n",
              "             'resident': 1329,\n",
              "             'nigeria': 1945,\n",
              "             'insurgents': 755,\n",
              "             'task': 618,\n",
              "             'civilian': 774,\n",
              "             'announcement': 1842,\n",
              "             'till': 148,\n",
              "             'several': 7614,\n",
              "             'schoolgirls': 1928,\n",
              "             'relatives': 835,\n",
              "             'town': 4995,\n",
              "             'attacks': 3503,\n",
              "             ...})"
            ]
          },
          "metadata": {
            "tags": []
          },
          "execution_count": 13
        }
      ]
    },
    {
      "cell_type": "code",
      "metadata": {
        "id": "8gomePAmooyX",
        "colab_type": "code",
        "colab": {}
      },
      "source": [
        "word_index = tokenizer.word_index"
      ],
      "execution_count": 0,
      "outputs": []
    },
    {
      "cell_type": "code",
      "metadata": {
        "id": "FN-SQiAroqZV",
        "colab_type": "code",
        "colab": {
          "base_uri": "https://localhost:8080/",
          "height": 34
        },
        "outputId": "60310532-7cbe-496b-8c44-56be5be8e5b0"
      },
      "source": [
        "tokenizer.document_count"
      ],
      "execution_count": 15,
      "outputs": [
        {
          "output_type": "execute_result",
          "data": {
            "text/plain": [
              "49972"
            ]
          },
          "metadata": {
            "tags": []
          },
          "execution_count": 15
        }
      ]
    },
    {
      "cell_type": "markdown",
      "metadata": {
        "id": "omptHX-JpBsN",
        "colab_type": "text"
      },
      "source": [
        "#### fit_on_texts() gives the following attributes in the output as given [here](https://faroit.github.io/keras-docs/1.2.2/preprocessing/text/).\n",
        "\n",
        "* **word_counts:** dictionary mapping words (str) to the number of times they appeared on during fit. Only set after fit_on_texts was called.\n",
        "\n",
        "* **word_docs:** dictionary mapping words (str) to the number of documents/texts they appeared on during fit. Only set after fit_on_texts was called.\n",
        "\n",
        "* **word_index:** dictionary mapping words (str) to their rank/index (int). Only set after fit_on_texts was called.\n",
        "\n",
        "* **document_count:** int. Number of documents (texts/sequences) the tokenizer was trained on. Only set after fit_on_texts or fit_on_sequences was called.\n",
        "\n"
      ]
    },
    {
      "cell_type": "markdown",
      "metadata": {
        "id": "SHnsT2sTtFAA",
        "colab_type": "text"
      },
      "source": [
        "### Now, tokenize the sentences using nltk sent_tokenize() and encode the senteces with the ids we got form the above `t.word_index`\n",
        "\n",
        "Initialise 2 lists with names `texts` and `articles`.\n",
        "\n",
        "```\n",
        "texts = [] to store text of article as it is.\n",
        "\n",
        "articles = [] split the above text into a list of sentences.\n",
        "```"
      ]
    },
    {
      "cell_type": "code",
      "metadata": {
        "id": "ctEu-d4c4EZs",
        "colab_type": "code",
        "colab": {}
      },
      "source": [
        "texts = []\n",
        "articles = []"
      ],
      "execution_count": 0,
      "outputs": []
    },
    {
      "cell_type": "code",
      "metadata": {
        "id": "SSLkUJ7ao6XN",
        "colab_type": "code",
        "colab": {}
      },
      "source": [
        "from nltk.tokenize import sent_tokenize\n",
        "\n",
        "# Method 1\n",
        "texts = dataset['articleBody']\n",
        "for items in texts.iteritems(): \n",
        "    articles.append(sent_tokenize(items[1]))"
      ],
      "execution_count": 0,
      "outputs": []
    },
    {
      "cell_type": "markdown",
      "metadata": {
        "id": "koTVJjoO6P78",
        "colab_type": "text"
      },
      "source": [
        "## Check 2:\n",
        "\n",
        "first element of texts and articles should be as given below. "
      ]
    },
    {
      "cell_type": "code",
      "metadata": {
        "id": "3mWBW99p5UW9",
        "colab_type": "code",
        "outputId": "ecd9f4a8-a298-4ba9-bbf4-2c8b6b9a7dcb",
        "colab": {
          "base_uri": "https://localhost:8080/",
          "height": 54
        }
      },
      "source": [
        "texts[0]"
      ],
      "execution_count": 22,
      "outputs": [
        {
          "output_type": "execute_result",
          "data": {
            "text/plain": [
              "'A small meteorite crashed into a wooded area in Nicaragua\\'s capital of Managua overnight, the government said Sunday. Residents reported hearing a mysterious boom that left a 16-foot deep crater near the city\\'s airport, the Associated Press reports. \\n\\nGovernment spokeswoman Rosario Murillo said a committee formed by the government to study the event determined it was a \"relatively small\" meteorite that \"appears to have come off an asteroid that was passing close to Earth.\" House-sized asteroid 2014 RC, which measured 60 feet in diameter, skimmed the Earth this weekend, ABC News reports. \\nMurillo said Nicaragua will ask international experts to help local scientists in understanding what happened.\\n\\nThe crater left by the meteorite had a radius of 39 feet and a depth of 16 feet,  said Humberto Saballos, a volcanologist with the Nicaraguan Institute of Territorial Studies who was on the committee. He said it is still not clear if the meteorite disintegrated or was buried.\\n\\nHumberto Garcia, of the Astronomy Center at the National Autonomous University of Nicaragua, said the meteorite could be related to an asteroid that was forecast to pass by the planet Saturday night.\\n\\n\"We have to study it more because it could be ice or rock,\" he said.\\n\\nWilfried Strauch, an adviser to the Institute of Territorial Studies, said it was \"very strange that no one reported a streak of light. We have to ask if anyone has a photo or something.\"\\n\\nLocal residents reported hearing a loud boom Saturday night, but said they didn\\'t see anything strange in the sky.\\n\\n\"I was sitting on my porch and I saw nothing, then all of a sudden I heard a large blast. We thought it was a bomb because we felt an expansive wave,\" Jorge Santamaria told The Associated Press.\\n\\nThe site of the crater is near Managua\\'s international airport and an air force base. Only journalists from state media were allowed to visit it.'"
            ]
          },
          "metadata": {
            "tags": []
          },
          "execution_count": 22
        }
      ]
    },
    {
      "cell_type": "code",
      "metadata": {
        "id": "WtIjO3ht5EKA",
        "colab_type": "code",
        "outputId": "01015b8e-5eb8-4ec9-8617-760c3195420c",
        "colab": {
          "base_uri": "https://localhost:8080/",
          "height": 306
        }
      },
      "source": [
        "articles[0]"
      ],
      "execution_count": 23,
      "outputs": [
        {
          "output_type": "execute_result",
          "data": {
            "text/plain": [
              "[\"A small meteorite crashed into a wooded area in Nicaragua's capital of Managua overnight, the government said Sunday.\",\n",
              " \"Residents reported hearing a mysterious boom that left a 16-foot deep crater near the city's airport, the Associated Press reports.\",\n",
              " 'Government spokeswoman Rosario Murillo said a committee formed by the government to study the event determined it was a \"relatively small\" meteorite that \"appears to have come off an asteroid that was passing close to Earth.\"',\n",
              " 'House-sized asteroid 2014 RC, which measured 60 feet in diameter, skimmed the Earth this weekend, ABC News reports.',\n",
              " 'Murillo said Nicaragua will ask international experts to help local scientists in understanding what happened.',\n",
              " 'The crater left by the meteorite had a radius of 39 feet and a depth of 16 feet,  said Humberto Saballos, a volcanologist with the Nicaraguan Institute of Territorial Studies who was on the committee.',\n",
              " 'He said it is still not clear if the meteorite disintegrated or was buried.',\n",
              " 'Humberto Garcia, of the Astronomy Center at the National Autonomous University of Nicaragua, said the meteorite could be related to an asteroid that was forecast to pass by the planet Saturday night.',\n",
              " '\"We have to study it more because it could be ice or rock,\" he said.',\n",
              " 'Wilfried Strauch, an adviser to the Institute of Territorial Studies, said it was \"very strange that no one reported a streak of light.',\n",
              " 'We have to ask if anyone has a photo or something.\"',\n",
              " \"Local residents reported hearing a loud boom Saturday night, but said they didn't see anything strange in the sky.\",\n",
              " '\"I was sitting on my porch and I saw nothing, then all of a sudden I heard a large blast.',\n",
              " 'We thought it was a bomb because we felt an expansive wave,\" Jorge Santamaria told The Associated Press.',\n",
              " \"The site of the crater is near Managua's international airport and an air force base.\",\n",
              " 'Only journalists from state media were allowed to visit it.']"
            ]
          },
          "metadata": {
            "tags": []
          },
          "execution_count": 23
        }
      ]
    },
    {
      "cell_type": "markdown",
      "metadata": {
        "id": "fpuRIA7cCfcY",
        "colab_type": "text"
      },
      "source": [
        "# Now iterate through each article and each sentence to encode the words into ids using t.word_index  [5 marks] \n",
        "\n",
        "Here, to get words from sentence you can use `text_to_word_sequence` from keras preprocessing text.\n",
        "\n",
        "1. Import text_to_word_sequence\n",
        "\n",
        "2. Initialize a variable of shape (no.of articles, MAX_SENTS, MAX_SENT_LENGTH) with name `data` with zeros first (you can use numpy [np.zeros](https://docs.scipy.org/doc/numpy/reference/generated/numpy.zeros.html) to initialize with all zeros)and then update it while iterating through the words and sentences in each article."
      ]
    },
    {
      "cell_type": "code",
      "metadata": {
        "id": "YVyClBULCqWj",
        "colab_type": "code",
        "colab": {}
      },
      "source": [
        "from keras.preprocessing.text import text_to_word_sequence\n",
        "import numpy as np"
      ],
      "execution_count": 0,
      "outputs": []
    },
    {
      "cell_type": "code",
      "metadata": {
        "id": "yrFq59YArmP8",
        "colab_type": "code",
        "colab": {
          "base_uri": "https://localhost:8080/",
          "height": 34
        },
        "outputId": "97929d9d-21e4-4722-dbdb-ac1b7f054a4e"
      },
      "source": [
        "data = np.zeros((len(articles), MAX_SENTS, MAX_SENT_LENGTH)).astype(int)\n",
        "data.shape"
      ],
      "execution_count": 27,
      "outputs": [
        {
          "output_type": "execute_result",
          "data": {
            "text/plain": [
              "(49972, 20, 20)"
            ]
          },
          "metadata": {
            "tags": []
          },
          "execution_count": 27
        }
      ]
    },
    {
      "cell_type": "code",
      "metadata": {
        "id": "KDf2tFSprx3U",
        "colab_type": "code",
        "colab": {
          "base_uri": "https://localhost:8080/",
          "height": 353
        },
        "outputId": "2e64ec06-a8ae-4f4c-a708-3e34ae4023a1"
      },
      "source": [
        "data[0, :, :]"
      ],
      "execution_count": 28,
      "outputs": [
        {
          "output_type": "execute_result",
          "data": {
            "text/plain": [
              "array([[0, 0, 0, 0, 0, 0, 0, 0, 0, 0, 0, 0, 0, 0, 0, 0, 0, 0, 0, 0],\n",
              "       [0, 0, 0, 0, 0, 0, 0, 0, 0, 0, 0, 0, 0, 0, 0, 0, 0, 0, 0, 0],\n",
              "       [0, 0, 0, 0, 0, 0, 0, 0, 0, 0, 0, 0, 0, 0, 0, 0, 0, 0, 0, 0],\n",
              "       [0, 0, 0, 0, 0, 0, 0, 0, 0, 0, 0, 0, 0, 0, 0, 0, 0, 0, 0, 0],\n",
              "       [0, 0, 0, 0, 0, 0, 0, 0, 0, 0, 0, 0, 0, 0, 0, 0, 0, 0, 0, 0],\n",
              "       [0, 0, 0, 0, 0, 0, 0, 0, 0, 0, 0, 0, 0, 0, 0, 0, 0, 0, 0, 0],\n",
              "       [0, 0, 0, 0, 0, 0, 0, 0, 0, 0, 0, 0, 0, 0, 0, 0, 0, 0, 0, 0],\n",
              "       [0, 0, 0, 0, 0, 0, 0, 0, 0, 0, 0, 0, 0, 0, 0, 0, 0, 0, 0, 0],\n",
              "       [0, 0, 0, 0, 0, 0, 0, 0, 0, 0, 0, 0, 0, 0, 0, 0, 0, 0, 0, 0],\n",
              "       [0, 0, 0, 0, 0, 0, 0, 0, 0, 0, 0, 0, 0, 0, 0, 0, 0, 0, 0, 0],\n",
              "       [0, 0, 0, 0, 0, 0, 0, 0, 0, 0, 0, 0, 0, 0, 0, 0, 0, 0, 0, 0],\n",
              "       [0, 0, 0, 0, 0, 0, 0, 0, 0, 0, 0, 0, 0, 0, 0, 0, 0, 0, 0, 0],\n",
              "       [0, 0, 0, 0, 0, 0, 0, 0, 0, 0, 0, 0, 0, 0, 0, 0, 0, 0, 0, 0],\n",
              "       [0, 0, 0, 0, 0, 0, 0, 0, 0, 0, 0, 0, 0, 0, 0, 0, 0, 0, 0, 0],\n",
              "       [0, 0, 0, 0, 0, 0, 0, 0, 0, 0, 0, 0, 0, 0, 0, 0, 0, 0, 0, 0],\n",
              "       [0, 0, 0, 0, 0, 0, 0, 0, 0, 0, 0, 0, 0, 0, 0, 0, 0, 0, 0, 0],\n",
              "       [0, 0, 0, 0, 0, 0, 0, 0, 0, 0, 0, 0, 0, 0, 0, 0, 0, 0, 0, 0],\n",
              "       [0, 0, 0, 0, 0, 0, 0, 0, 0, 0, 0, 0, 0, 0, 0, 0, 0, 0, 0, 0],\n",
              "       [0, 0, 0, 0, 0, 0, 0, 0, 0, 0, 0, 0, 0, 0, 0, 0, 0, 0, 0, 0],\n",
              "       [0, 0, 0, 0, 0, 0, 0, 0, 0, 0, 0, 0, 0, 0, 0, 0, 0, 0, 0, 0]])"
            ]
          },
          "metadata": {
            "tags": []
          },
          "execution_count": 28
        }
      ]
    },
    {
      "cell_type": "code",
      "metadata": {
        "id": "AI55P0pErqtl",
        "colab_type": "code",
        "colab": {}
      },
      "source": [
        "for pos1, item in enumerate(articles):\n",
        "    for pos2, sent in enumerate(item):\n",
        "        if(sent is not None) & (pos2 < MAX_SENTS):\n",
        "            temp = text_to_word_sequence(sent)\n",
        "            for pos3, word in enumerate(temp):\n",
        "                if (pos3 < MAX_SENT_LENGTH):\n",
        "                    data[pos1][pos2][pos3] = word_index.get(word, 0)"
      ],
      "execution_count": 0,
      "outputs": []
    },
    {
      "cell_type": "code",
      "metadata": {
        "id": "CXWN_0HrsARW",
        "colab_type": "code",
        "colab": {
          "base_uri": "https://localhost:8080/",
          "height": 1000
        },
        "outputId": "997cf30b-5f7d-441a-db94-85ed552d88d5"
      },
      "source": [
        "data[0, :, :]"
      ],
      "execution_count": 30,
      "outputs": [
        {
          "output_type": "execute_result",
          "data": {
            "text/plain": [
              "array([[    3,   485,   433,  7204,    81,     3,  3732,   331,     5,\n",
              "         3888,   350,     4,  1432,  2956,     1,    89,    12,   464,\n",
              "            0,     0],\n",
              "       [  757,    95,  1045,     3,  2675,  1750,     7,   188,     3,\n",
              "         1217,  1074,  2026,   698,   158,     1,  3029,   449,     1,\n",
              "          555,   243],\n",
              "       [   89,  1065,  4111,  2345,    12,     3,  1092,  3300,    19,\n",
              "            1,    89,     2,  1791,     1,   529,  2005,    15,     9,\n",
              "            3,  3107],\n",
              "       [  186,  3639,   971,   202,  2553,    43,  6770,  1719,  1250,\n",
              "            5, 13306, 17921,     1,   776,    31,   738,  3986,    67,\n",
              "           85,     0],\n",
              "       [ 2345,    12,  1584,    38,  1094,   351,   777,     2,   367,\n",
              "          260,  1775,     5,  4447,    70,   494,     0,     0,     0,\n",
              "            0,     0],\n",
              "       [    1,   698,   188,    19,     1,   433,    32,     3,  7411,\n",
              "            4,  2256,  1250,     6,     3,  5266,     4,  1217,  1250,\n",
              "           12,  3359],\n",
              "       [   13,    12,    15,     8,   148,    25,   541,    64,     1,\n",
              "          433,  3726,    41,     9,  1848,     0,     0,     0,     0,\n",
              "            0,     0],\n",
              "       [ 3359,  5729,     4,     1,  5869,   613,    21,     1,   308,\n",
              "         3432,   796,     4,  1584,    12,     1,   433,    69,    23,\n",
              "          785,     2],\n",
              "       [   37,    17,     2,  1791,    15,    52,   120,    15,    69,\n",
              "           23,  4916,    41,  1960,    13,    12,     0,     0,     0,\n",
              "            0,     0],\n",
              "       [ 4733,  3334,    24,  3965,     2,     1,  1314,     4,  3067,\n",
              "         1651,    12,    15,     9,   195,  1423,     7,    58,    40,\n",
              "           95,     3],\n",
              "       [   37,    17,     2,  1094,    64,   509,    20,     3,   250,\n",
              "           41,   264,     0,     0,     0,     0,     0,     0,     0,\n",
              "            0,     0],\n",
              "       [  260,   757,    95,  1045,     3,  1804,  1750,   530,   275,\n",
              "           28,    12,    33,   700,   163,   891,  1423,     5,     1,\n",
              "         2078,     0],\n",
              "       [   35,     9,  2057,    10,   116,  5820,     6,    35,   574,\n",
              "          655,   104,    59,     4,     3,  2407,    35,   240,     3,\n",
              "          511,  1910],\n",
              "       [   37,   340,    15,     9,     3,  2079,   120,    37,   880,\n",
              "           24,  4448,  2581,  4315,  4917,    55,     1,   555,   243,\n",
              "            0,     0],\n",
              "       [    1,   255,     4,     1,   698,     8,   158,  3957,   351,\n",
              "          449,     6,    24,   154,   465,  1926,     0,     0,     0,\n",
              "            0,     0],\n",
              "       [  126,   921,    22,    47,   100,    36,  1832,     2,  1212,\n",
              "           15,     0,     0,     0,     0,     0,     0,     0,     0,\n",
              "            0,     0],\n",
              "       [    0,     0,     0,     0,     0,     0,     0,     0,     0,\n",
              "            0,     0,     0,     0,     0,     0,     0,     0,     0,\n",
              "            0,     0],\n",
              "       [    0,     0,     0,     0,     0,     0,     0,     0,     0,\n",
              "            0,     0,     0,     0,     0,     0,     0,     0,     0,\n",
              "            0,     0],\n",
              "       [    0,     0,     0,     0,     0,     0,     0,     0,     0,\n",
              "            0,     0,     0,     0,     0,     0,     0,     0,     0,\n",
              "            0,     0],\n",
              "       [    0,     0,     0,     0,     0,     0,     0,     0,     0,\n",
              "            0,     0,     0,     0,     0,     0,     0,     0,     0,\n",
              "            0,     0]])"
            ]
          },
          "metadata": {
            "tags": []
          },
          "execution_count": 30
        }
      ]
    },
    {
      "cell_type": "markdown",
      "metadata": {
        "id": "bFdmiDYcE144",
        "colab_type": "text"
      },
      "source": [
        "### Check 3:\n",
        "\n",
        "Accessing first element in data should give something like given below."
      ]
    },
    {
      "cell_type": "code",
      "metadata": {
        "id": "TsFWW5C2Djog",
        "colab_type": "code",
        "outputId": "ec1daf8f-1e56-4e3d-b6e3-b40a06c406b3",
        "colab": {
          "base_uri": "https://localhost:8080/",
          "height": 1037
        }
      },
      "source": [
        "data[0, :, :]"
      ],
      "execution_count": 0,
      "outputs": [
        {
          "output_type": "execute_result",
          "data": {
            "text/plain": [
              "array([[    3,   487,   474,  7113,    79,     3,  3687,   325,     5,\n",
              "         4200,   361,     4,  1525,  2913,     1,    89,    12,   451,\n",
              "            0,     0],\n",
              "       [  743,    96,  1044,     3,  2814,  1759,     7,   186,     3,\n",
              "         1219,  1070,  1987,   736,   154,     1,  2990,   458,     1,\n",
              "          543,   232],\n",
              "       [   89,  1052,  4057,  2314,    12,     3,  1073,  3248,    19,\n",
              "            1,    89,     2,  1751,     1,   518,  1980,    15,     9,\n",
              "            3,  2879],\n",
              "       [  182,  3691,   976,   196,  2515,    42,  6688,  1691,  1227,\n",
              "            5, 13011, 17379,     1,   762,    30,   722,  3931,    66,\n",
              "           87,     0],\n",
              "       [ 2314,    12,  1882,    38,  1076,   346,   793,     2,   356,\n",
              "          261,  1782,     5,  4396,    67,   486,     0,     0,     0,\n",
              "            0,     0],\n",
              "       [    1,   736,   186,    19,     1,   474,    32,     3,  7307,\n",
              "            4,  2122,  1227,     6,     3,  5195,     4,  1219,  1227,\n",
              "           12,  3308],\n",
              "       [   13,    12,    15,     8,   143,    25,   531,    63,     1,\n",
              "          474,  3679,    41,     9,  1825,     0,     0,     0,     0,\n",
              "            0,     0],\n",
              "       [ 3308,  5643,     4,     1,  5788,   620,    22,     1,   302,\n",
              "         3125,   786,     4,  1882,    12,     1,   474,    70,    23,\n",
              "          801,     2],\n",
              "       [   35,    17,     2,  1751,    15,    54,   119,    15,    70,\n",
              "           23,  4850,    41,  1885,    13,    12,     0,     0,     0,\n",
              "            0,     0],\n",
              "       [ 4664,  3279,    24,  3915,     2,     1,  1298,     4,  3028,\n",
              "         1630,    12,    15,     9,   187,  1423,     7,    56,    40,\n",
              "           96,     3],\n",
              "       [   35,    17,     2,  1076,    63,   497,    20,     3,   252,\n",
              "           41,   260,     0,     0,     0,     0,     0,     0,     0,\n",
              "            0,     0],\n",
              "       [  261,   743,    96,  1044,     3,  1765,  1759,   520,   273,\n",
              "           29,    12,    33,   702,   160,   818,  1423,     5,     1,\n",
              "         2068,     0],\n",
              "       [   34,     9,  2035,    10,   112,  5741,     6,    34,   562,\n",
              "          644,   104,    57,     4,     3,  2382,    34,   238,     3,\n",
              "          504,  1922],\n",
              "       [   35,   341,    15,     9,     3,  2053,   119,    35,   872,\n",
              "           24,  4397,  2541,  4258,  4851,    55,     1,   543,   232,\n",
              "            0,     0],\n",
              "       [    1,   254,     4,     1,   736,     8,   154,  4116,   346,\n",
              "          458,     6,    24,   152,   460,  1908,     0,     0,     0,\n",
              "            0,     0],\n",
              "       [  124,   896,    21,    48,   102,    37,  1803,     2,  1195,\n",
              "           15,     0,     0,     0,     0,     0,     0,     0,     0,\n",
              "            0,     0],\n",
              "       [    0,     0,     0,     0,     0,     0,     0,     0,     0,\n",
              "            0,     0,     0,     0,     0,     0,     0,     0,     0,\n",
              "            0,     0],\n",
              "       [    0,     0,     0,     0,     0,     0,     0,     0,     0,\n",
              "            0,     0,     0,     0,     0,     0,     0,     0,     0,\n",
              "            0,     0],\n",
              "       [    0,     0,     0,     0,     0,     0,     0,     0,     0,\n",
              "            0,     0,     0,     0,     0,     0,     0,     0,     0,\n",
              "            0,     0],\n",
              "       [    0,     0,     0,     0,     0,     0,     0,     0,     0,\n",
              "            0,     0,     0,     0,     0,     0,     0,     0,     0,\n",
              "            0,     0]], dtype=int32)"
            ]
          },
          "metadata": {
            "tags": []
          },
          "execution_count": 43
        }
      ]
    },
    {
      "cell_type": "markdown",
      "metadata": {
        "id": "hTG6JySHehkT",
        "colab_type": "text"
      },
      "source": [
        "# Repeat the same process for the `Headings` as well. Use variables with names `texts_heading` and `articles_heading` accordingly. [5 marks] "
      ]
    },
    {
      "cell_type": "code",
      "metadata": {
        "id": "_CliiIhLemJV",
        "colab_type": "code",
        "colab": {}
      },
      "source": [
        "texts_headings = []\n",
        "articles_headings = []\n",
        "\n",
        "texts_headings = dataset['Headline']\n",
        "for items in texts_headings.iteritems(): \n",
        "    articles_headings.append(sent_tokenize(items[1]))"
      ],
      "execution_count": 0,
      "outputs": []
    },
    {
      "cell_type": "code",
      "metadata": {
        "id": "YkYbTBwPsL3V",
        "colab_type": "code",
        "colab": {
          "base_uri": "https://localhost:8080/",
          "height": 34
        },
        "outputId": "04c41ba4-a6d9-4321-aa7e-452236267f07"
      },
      "source": [
        "data_heading = np.zeros((len(articles_headings), MAX_SENTS, MAX_SENT_LENGTH)).astype(int)\n",
        "data_heading.shape"
      ],
      "execution_count": 33,
      "outputs": [
        {
          "output_type": "execute_result",
          "data": {
            "text/plain": [
              "(49972, 20, 20)"
            ]
          },
          "metadata": {
            "tags": []
          },
          "execution_count": 33
        }
      ]
    },
    {
      "cell_type": "code",
      "metadata": {
        "id": "V4oR8h9VsSIu",
        "colab_type": "code",
        "colab": {}
      },
      "source": [
        "for pos1, item in enumerate(articles_headings):\n",
        "    for pos2, sent in enumerate(item):\n",
        "        if(sent is not None) & (pos2 < MAX_SENTS):\n",
        "            temp = text_to_word_sequence(sent)\n",
        "            for pos3, word in enumerate(temp):\n",
        "                if (pos3 < MAX_SENT_LENGTH):\n",
        "                    data_heading[pos1][pos2][pos3] = word_index.get(word, 0)"
      ],
      "execution_count": 0,
      "outputs": []
    },
    {
      "cell_type": "code",
      "metadata": {
        "id": "AIMPi4LusWMW",
        "colab_type": "code",
        "colab": {
          "base_uri": "https://localhost:8080/",
          "height": 1000
        },
        "outputId": "b59acbf1-1ea5-42e6-9745-35483b6b841d"
      },
      "source": [
        "data_heading[4, :, :]"
      ],
      "execution_count": 35,
      "outputs": [
        {
          "output_type": "execute_result",
          "data": {
            "text/plain": [
              "array([[ 3030, 12886, 17922,  1080,  5468,  1176,  1971,   450,     5,\n",
              "         2926,     8,   340,     2,    23,     1,  1841,   520, 18040,\n",
              "            5,    14],\n",
              "       [    0,     0,     0,     0,     0,     0,     0,     0,     0,\n",
              "            0,     0,     0,     0,     0,     0,     0,     0,     0,\n",
              "            0,     0],\n",
              "       [    0,     0,     0,     0,     0,     0,     0,     0,     0,\n",
              "            0,     0,     0,     0,     0,     0,     0,     0,     0,\n",
              "            0,     0],\n",
              "       [    0,     0,     0,     0,     0,     0,     0,     0,     0,\n",
              "            0,     0,     0,     0,     0,     0,     0,     0,     0,\n",
              "            0,     0],\n",
              "       [    0,     0,     0,     0,     0,     0,     0,     0,     0,\n",
              "            0,     0,     0,     0,     0,     0,     0,     0,     0,\n",
              "            0,     0],\n",
              "       [    0,     0,     0,     0,     0,     0,     0,     0,     0,\n",
              "            0,     0,     0,     0,     0,     0,     0,     0,     0,\n",
              "            0,     0],\n",
              "       [    0,     0,     0,     0,     0,     0,     0,     0,     0,\n",
              "            0,     0,     0,     0,     0,     0,     0,     0,     0,\n",
              "            0,     0],\n",
              "       [    0,     0,     0,     0,     0,     0,     0,     0,     0,\n",
              "            0,     0,     0,     0,     0,     0,     0,     0,     0,\n",
              "            0,     0],\n",
              "       [    0,     0,     0,     0,     0,     0,     0,     0,     0,\n",
              "            0,     0,     0,     0,     0,     0,     0,     0,     0,\n",
              "            0,     0],\n",
              "       [    0,     0,     0,     0,     0,     0,     0,     0,     0,\n",
              "            0,     0,     0,     0,     0,     0,     0,     0,     0,\n",
              "            0,     0],\n",
              "       [    0,     0,     0,     0,     0,     0,     0,     0,     0,\n",
              "            0,     0,     0,     0,     0,     0,     0,     0,     0,\n",
              "            0,     0],\n",
              "       [    0,     0,     0,     0,     0,     0,     0,     0,     0,\n",
              "            0,     0,     0,     0,     0,     0,     0,     0,     0,\n",
              "            0,     0],\n",
              "       [    0,     0,     0,     0,     0,     0,     0,     0,     0,\n",
              "            0,     0,     0,     0,     0,     0,     0,     0,     0,\n",
              "            0,     0],\n",
              "       [    0,     0,     0,     0,     0,     0,     0,     0,     0,\n",
              "            0,     0,     0,     0,     0,     0,     0,     0,     0,\n",
              "            0,     0],\n",
              "       [    0,     0,     0,     0,     0,     0,     0,     0,     0,\n",
              "            0,     0,     0,     0,     0,     0,     0,     0,     0,\n",
              "            0,     0],\n",
              "       [    0,     0,     0,     0,     0,     0,     0,     0,     0,\n",
              "            0,     0,     0,     0,     0,     0,     0,     0,     0,\n",
              "            0,     0],\n",
              "       [    0,     0,     0,     0,     0,     0,     0,     0,     0,\n",
              "            0,     0,     0,     0,     0,     0,     0,     0,     0,\n",
              "            0,     0],\n",
              "       [    0,     0,     0,     0,     0,     0,     0,     0,     0,\n",
              "            0,     0,     0,     0,     0,     0,     0,     0,     0,\n",
              "            0,     0],\n",
              "       [    0,     0,     0,     0,     0,     0,     0,     0,     0,\n",
              "            0,     0,     0,     0,     0,     0,     0,     0,     0,\n",
              "            0,     0],\n",
              "       [    0,     0,     0,     0,     0,     0,     0,     0,     0,\n",
              "            0,     0,     0,     0,     0,     0,     0,     0,     0,\n",
              "            0,     0]])"
            ]
          },
          "metadata": {
            "tags": []
          },
          "execution_count": 35
        }
      ]
    },
    {
      "cell_type": "markdown",
      "metadata": {
        "id": "iaH0Ey1qe_Co",
        "colab_type": "text"
      },
      "source": [
        "### Now the features are ready, lets make the labels ready for the model to process.\n",
        "\n",
        "### Convert labels into one-hot vectors\n",
        "\n",
        "You can use [get_dummies](https://pandas.pydata.org/pandas-docs/stable/generated/pandas.get_dummies.html) in pandas to create one-hot vectors."
      ]
    },
    {
      "cell_type": "code",
      "metadata": {
        "id": "Zq-VcgM8fat1",
        "colab_type": "code",
        "colab": {
          "base_uri": "https://localhost:8080/",
          "height": 195
        },
        "outputId": "73fdae5a-5c88-4524-850e-ad9f0525bf18"
      },
      "source": [
        "labels = pd.get_dummies(dataset['Stance'])\n",
        "labels.head()"
      ],
      "execution_count": 36,
      "outputs": [
        {
          "output_type": "execute_result",
          "data": {
            "text/html": [
              "<div>\n",
              "<style scoped>\n",
              "    .dataframe tbody tr th:only-of-type {\n",
              "        vertical-align: middle;\n",
              "    }\n",
              "\n",
              "    .dataframe tbody tr th {\n",
              "        vertical-align: top;\n",
              "    }\n",
              "\n",
              "    .dataframe thead th {\n",
              "        text-align: right;\n",
              "    }\n",
              "</style>\n",
              "<table border=\"1\" class=\"dataframe\">\n",
              "  <thead>\n",
              "    <tr style=\"text-align: right;\">\n",
              "      <th></th>\n",
              "      <th>agree</th>\n",
              "      <th>disagree</th>\n",
              "      <th>discuss</th>\n",
              "      <th>unrelated</th>\n",
              "    </tr>\n",
              "  </thead>\n",
              "  <tbody>\n",
              "    <tr>\n",
              "      <th>0</th>\n",
              "      <td>0</td>\n",
              "      <td>0</td>\n",
              "      <td>0</td>\n",
              "      <td>1</td>\n",
              "    </tr>\n",
              "    <tr>\n",
              "      <th>1</th>\n",
              "      <td>0</td>\n",
              "      <td>0</td>\n",
              "      <td>0</td>\n",
              "      <td>1</td>\n",
              "    </tr>\n",
              "    <tr>\n",
              "      <th>2</th>\n",
              "      <td>0</td>\n",
              "      <td>0</td>\n",
              "      <td>0</td>\n",
              "      <td>1</td>\n",
              "    </tr>\n",
              "    <tr>\n",
              "      <th>3</th>\n",
              "      <td>0</td>\n",
              "      <td>0</td>\n",
              "      <td>0</td>\n",
              "      <td>1</td>\n",
              "    </tr>\n",
              "    <tr>\n",
              "      <th>4</th>\n",
              "      <td>0</td>\n",
              "      <td>0</td>\n",
              "      <td>0</td>\n",
              "      <td>1</td>\n",
              "    </tr>\n",
              "  </tbody>\n",
              "</table>\n",
              "</div>"
            ],
            "text/plain": [
              "   agree  disagree  discuss  unrelated\n",
              "0      0         0        0          1\n",
              "1      0         0        0          1\n",
              "2      0         0        0          1\n",
              "3      0         0        0          1\n",
              "4      0         0        0          1"
            ]
          },
          "metadata": {
            "tags": []
          },
          "execution_count": 36
        }
      ]
    },
    {
      "cell_type": "markdown",
      "metadata": {
        "id": "40mA8FI2fcxZ",
        "colab_type": "text"
      },
      "source": [
        "### Check 4:\n",
        "\n",
        "The shape of data and labels shoould match the given below numbers."
      ]
    },
    {
      "cell_type": "code",
      "metadata": {
        "id": "vpEWEnjFfnFR",
        "colab_type": "code",
        "outputId": "d7241520-b57d-4e86-ff1b-d47d417e8759",
        "colab": {
          "base_uri": "https://localhost:8080/",
          "height": 50
        }
      },
      "source": [
        "print('Shape of data tensor:', data.shape)\n",
        "print('Shape of label tensor:', labels.shape)"
      ],
      "execution_count": 40,
      "outputs": [
        {
          "output_type": "stream",
          "text": [
            "Shape of data tensor: (49972, 20, 20)\n",
            "Shape of label tensor: (49972, 4)\n"
          ],
          "name": "stdout"
        }
      ]
    },
    {
      "cell_type": "markdown",
      "metadata": {
        "id": "sDOxHdR3frDu",
        "colab_type": "text"
      },
      "source": [
        "### Shuffle the data"
      ]
    },
    {
      "cell_type": "code",
      "metadata": {
        "id": "-Ra-yYTvfzRt",
        "colab_type": "code",
        "colab": {}
      },
      "source": [
        "## get numbers upto no.of articles\n",
        "indices = np.arange(data.shape[0])\n",
        "## shuffle the numbers\n",
        "np.random.shuffle(indices)"
      ],
      "execution_count": 0,
      "outputs": []
    },
    {
      "cell_type": "code",
      "metadata": {
        "id": "LKnSqwIFf3Iy",
        "colab_type": "code",
        "colab": {}
      },
      "source": [
        "## shuffle the data\n",
        "data = data[indices]\n",
        "data_heading = data_heading[indices]\n",
        "## shuffle the labels according to data\n",
        "labels = labels.iloc[indices]"
      ],
      "execution_count": 0,
      "outputs": []
    },
    {
      "cell_type": "markdown",
      "metadata": {
        "id": "JcOFVfPBf9kA",
        "colab_type": "text"
      },
      "source": [
        "### Split into train and validation sets. Split the train set 80:20 ratio to get the train and validation sets.\n",
        "\n",
        "\n",
        "Use the variable names as given below:\n",
        "\n",
        "x_train, x_val - for body of articles.\n",
        "\n",
        "x-heading_train, x_heading_val - for heading of articles.\n",
        "\n",
        "y_train - for training labels.\n",
        "\n",
        "y_val - for validation labels.\n",
        "\n"
      ]
    },
    {
      "cell_type": "code",
      "metadata": {
        "id": "2neh9Wcof8iR",
        "colab_type": "code",
        "colab": {}
      },
      "source": [
        "from sklearn.model_selection import train_test_split\n",
        "x_train,x_val,x_heading_train,x_heading_val,y_train,y_val =train_test_split(data,data_heading,labels,test_size=0.2)"
      ],
      "execution_count": 0,
      "outputs": []
    },
    {
      "cell_type": "code",
      "metadata": {
        "id": "o5u3PTz3gEV-",
        "colab_type": "code",
        "colab": {
          "base_uri": "https://localhost:8080/",
          "height": 34
        },
        "outputId": "329174b0-0267-4cfc-c810-0f42ee0afc9a"
      },
      "source": [
        "x_train.shape"
      ],
      "execution_count": 45,
      "outputs": [
        {
          "output_type": "execute_result",
          "data": {
            "text/plain": [
              "(39977, 20, 20)"
            ]
          },
          "metadata": {
            "tags": []
          },
          "execution_count": 45
        }
      ]
    },
    {
      "cell_type": "code",
      "metadata": {
        "id": "-kBQJCh3tItI",
        "colab_type": "code",
        "colab": {
          "base_uri": "https://localhost:8080/",
          "height": 34
        },
        "outputId": "e4e6dc80-ceb1-4ce2-941e-16241d268869"
      },
      "source": [
        "x_val.shape"
      ],
      "execution_count": 46,
      "outputs": [
        {
          "output_type": "execute_result",
          "data": {
            "text/plain": [
              "(9995, 20, 20)"
            ]
          },
          "metadata": {
            "tags": []
          },
          "execution_count": 46
        }
      ]
    },
    {
      "cell_type": "code",
      "metadata": {
        "id": "s9uqPQvGtLbP",
        "colab_type": "code",
        "colab": {
          "base_uri": "https://localhost:8080/",
          "height": 34
        },
        "outputId": "61a911ed-953f-4561-ecc7-594046eebf21"
      },
      "source": [
        "x_heading_train.shape"
      ],
      "execution_count": 47,
      "outputs": [
        {
          "output_type": "execute_result",
          "data": {
            "text/plain": [
              "(39977, 20, 20)"
            ]
          },
          "metadata": {
            "tags": []
          },
          "execution_count": 47
        }
      ]
    },
    {
      "cell_type": "code",
      "metadata": {
        "id": "jDbdPlFktQau",
        "colab_type": "code",
        "colab": {
          "base_uri": "https://localhost:8080/",
          "height": 34
        },
        "outputId": "307ac046-3e0e-4399-9419-83add386e325"
      },
      "source": [
        "x_heading_val.shape"
      ],
      "execution_count": 48,
      "outputs": [
        {
          "output_type": "execute_result",
          "data": {
            "text/plain": [
              "(9995, 20, 20)"
            ]
          },
          "metadata": {
            "tags": []
          },
          "execution_count": 48
        }
      ]
    },
    {
      "cell_type": "code",
      "metadata": {
        "id": "h5dd5F8UtUGP",
        "colab_type": "code",
        "colab": {
          "base_uri": "https://localhost:8080/",
          "height": 34
        },
        "outputId": "238bfc0f-2d61-4c34-cdf1-78612bda1569"
      },
      "source": [
        "y_train.shape"
      ],
      "execution_count": 49,
      "outputs": [
        {
          "output_type": "execute_result",
          "data": {
            "text/plain": [
              "(39977, 4)"
            ]
          },
          "metadata": {
            "tags": []
          },
          "execution_count": 49
        }
      ]
    },
    {
      "cell_type": "code",
      "metadata": {
        "id": "Dz80XYvUtW8C",
        "colab_type": "code",
        "colab": {
          "base_uri": "https://localhost:8080/",
          "height": 34
        },
        "outputId": "98c67b2f-36b4-4c70-e5f5-34a32ff359ed"
      },
      "source": [
        "y_val.shape"
      ],
      "execution_count": 50,
      "outputs": [
        {
          "output_type": "execute_result",
          "data": {
            "text/plain": [
              "(9995, 4)"
            ]
          },
          "metadata": {
            "tags": []
          },
          "execution_count": 50
        }
      ]
    },
    {
      "cell_type": "markdown",
      "metadata": {
        "id": "UTyvoHrsgMDw",
        "colab_type": "text"
      },
      "source": [
        "### Check 5:\n",
        "\n",
        "The shape of x_train, x_val, y_train and y_val should match the below numbers."
      ]
    },
    {
      "cell_type": "code",
      "metadata": {
        "id": "KLEbiw2Yghe2",
        "colab_type": "code",
        "outputId": "07b4a612-22e5-4087-ef5f-b2ffde955a25",
        "colab": {
          "base_uri": "https://localhost:8080/",
          "height": 84
        }
      },
      "source": [
        "print(x_train.shape)\n",
        "print(y_train.shape)\n",
        "\n",
        "print(x_val.shape)\n",
        "print(y_val.shape)"
      ],
      "execution_count": 51,
      "outputs": [
        {
          "output_type": "stream",
          "text": [
            "(39977, 20, 20)\n",
            "(39977, 4)\n",
            "(9995, 20, 20)\n",
            "(9995, 4)\n"
          ],
          "name": "stdout"
        }
      ]
    },
    {
      "cell_type": "markdown",
      "metadata": {
        "id": "yNnoBtArhJ1E",
        "colab_type": "text"
      },
      "source": [
        "### Create embedding matrix with the glove embeddings\n",
        "\n",
        "\n",
        "Run the below code to create embedding_matrix which has all the words and their glove embedding if present in glove word list."
      ]
    },
    {
      "cell_type": "code",
      "metadata": {
        "id": "eKqn2IL2ZF8v",
        "colab_type": "code",
        "outputId": "b5a8de49-3ccb-4bd2-e2f0-ef2441ec440a",
        "colab": {
          "base_uri": "https://localhost:8080/",
          "height": 34
        }
      },
      "source": [
        "import numpy as np\n",
        "embeddings_index = dict()\n",
        "f = open('./glove.6B.100d.txt')\n",
        "for line in f:\n",
        "    values = line.split()\n",
        "    word = values[0]\n",
        "    coefs = np.asarray(values[1:], dtype='float32')\n",
        "    embeddings_index[word] = coefs\n",
        "f.close()\n",
        "print('Loaded %s word vectors.' % len(embeddings_index))\n",
        "\n",
        "# create a weight matrix for words in training docs\n",
        "embedding_matrix = np.zeros((len(word_index) + 1, 100))\n",
        "\n",
        "\n",
        "for word, i in tokenizer.word_index.items():\n",
        "    embedding_vector = embeddings_index.get(word)\n",
        "    if embedding_vector is not None:\n",
        "        embedding_matrix[i] = embedding_vector"
      ],
      "execution_count": 54,
      "outputs": [
        {
          "output_type": "stream",
          "text": [
            "Loaded 400000 word vectors.\n"
          ],
          "name": "stdout"
        }
      ]
    },
    {
      "cell_type": "markdown",
      "metadata": {
        "id": "LRi4o3ZspDFU",
        "colab_type": "text"
      },
      "source": [
        "# Try the sequential model approach and report the accuracy score. [10 marks]  "
      ]
    },
    {
      "cell_type": "markdown",
      "metadata": {
        "id": "zSZDnPWkw2ZZ",
        "colab_type": "text"
      },
      "source": [
        "### Import layers from Keras to build the model"
      ]
    },
    {
      "cell_type": "code",
      "metadata": {
        "id": "5AgwQsfMrzAQ",
        "colab_type": "code",
        "colab": {}
      },
      "source": [
        "from tensorflow import keras\n",
        "from keras import backend as K\n",
        "import numpy as np\n",
        "from keras.layers import LSTM, Dense, Dropout, Embedding, Masking, Bidirectional, GlobalAveragePooling1D, MaxPooling2D"
      ],
      "execution_count": 0,
      "outputs": []
    },
    {
      "cell_type": "markdown",
      "metadata": {
        "id": "gpkVhIbx3gr1",
        "colab_type": "text"
      },
      "source": [
        "### Model"
      ]
    },
    {
      "cell_type": "code",
      "metadata": {
        "id": "G_8QXh-rmPFq",
        "colab_type": "code",
        "colab": {}
      },
      "source": [
        "model = keras.Sequential()\n",
        "model.add(keras.layers.Embedding(len(word_index) + 1, 100))\n",
        "model.add(keras.layers.BatchNormalization())\n",
        "model.add(keras.layers.GlobalAveragePooling1D())\n",
        "model.add(keras.layers.Dense(64, activation='relu'))\n",
        "\n",
        "# Dropout for regularization\n",
        "model.add(keras.layers.Dropout(0.5))\n",
        "model.add(keras.layers.Dense(32, activation=\"relu\"))\n",
        "model.add(keras.layers.Dense(16, activation=\"relu\"))\n",
        "model.add(keras.layers.Dense(4, activation=\"sigmoid\"))"
      ],
      "execution_count": 0,
      "outputs": []
    },
    {
      "cell_type": "code",
      "metadata": {
        "id": "QcP1Du-GuZYX",
        "colab_type": "code",
        "colab": {
          "base_uri": "https://localhost:8080/",
          "height": 420
        },
        "outputId": "ff049f4e-0882-4373-898a-4726eee0309b"
      },
      "source": [
        "model.summary()"
      ],
      "execution_count": 76,
      "outputs": [
        {
          "output_type": "stream",
          "text": [
            "Model: \"sequential_5\"\n",
            "_________________________________________________________________\n",
            "Layer (type)                 Output Shape              Param #   \n",
            "=================================================================\n",
            "embedding_5 (Embedding)      (None, None, 100)         3364300   \n",
            "_________________________________________________________________\n",
            "batch_normalization_2 (Batch (None, None, 100)         400       \n",
            "_________________________________________________________________\n",
            "global_average_pooling1d_4 ( (None, 100)               0         \n",
            "_________________________________________________________________\n",
            "dense_12 (Dense)             (None, 64)                6464      \n",
            "_________________________________________________________________\n",
            "dropout_3 (Dropout)          (None, 64)                0         \n",
            "_________________________________________________________________\n",
            "dense_13 (Dense)             (None, 32)                2080      \n",
            "_________________________________________________________________\n",
            "dense_14 (Dense)             (None, 16)                528       \n",
            "_________________________________________________________________\n",
            "dense_15 (Dense)             (None, 4)                 68        \n",
            "=================================================================\n",
            "Total params: 3,373,840\n",
            "Trainable params: 3,373,640\n",
            "Non-trainable params: 200\n",
            "_________________________________________________________________\n"
          ],
          "name": "stdout"
        }
      ]
    },
    {
      "cell_type": "markdown",
      "metadata": {
        "id": "C5Xrd-JQ3id7",
        "colab_type": "text"
      },
      "source": [
        "### Compile and fit the model"
      ]
    },
    {
      "cell_type": "code",
      "metadata": {
        "id": "MlduHU2CovxC",
        "colab_type": "code",
        "colab": {}
      },
      "source": [
        "model.compile(optimizer='adam', loss='categorical_crossentropy', metrics=['accuracy'])"
      ],
      "execution_count": 0,
      "outputs": []
    },
    {
      "cell_type": "code",
      "metadata": {
        "id": "CM3yCmjQoCM3",
        "colab_type": "code",
        "colab": {}
      },
      "source": [
        "x_train = np.reshape(x_train, (39977, 400))\n",
        "x_val = np.reshape(x_val, (9995, 400))"
      ],
      "execution_count": 0,
      "outputs": []
    },
    {
      "cell_type": "code",
      "metadata": {
        "id": "7c6jKVqcuqtn",
        "colab_type": "code",
        "colab": {
          "base_uri": "https://localhost:8080/",
          "height": 706
        },
        "outputId": "90478f1e-bf82-4596-d716-72191023894c"
      },
      "source": [
        " model.fit(x_train, y_train, validation_data=(x_val, y_val), epochs = 20, batch_size = 80, verbose = 1)## Train the model"
      ],
      "execution_count": 80,
      "outputs": [
        {
          "output_type": "stream",
          "text": [
            "Epoch 1/20\n",
            "500/500 [==============================] - 24s 48ms/step - loss: 0.7913 - accuracy: 0.7310 - val_loss: 0.8032 - val_accuracy: 0.7324\n",
            "Epoch 2/20\n",
            "500/500 [==============================] - 24s 48ms/step - loss: 0.7865 - accuracy: 0.7310 - val_loss: 0.8118 - val_accuracy: 0.7324\n",
            "Epoch 3/20\n",
            "500/500 [==============================] - 24s 48ms/step - loss: 0.7837 - accuracy: 0.7310 - val_loss: 0.8119 - val_accuracy: 0.7324\n",
            "Epoch 4/20\n",
            "500/500 [==============================] - 24s 48ms/step - loss: 0.7807 - accuracy: 0.7310 - val_loss: 0.8166 - val_accuracy: 0.7324\n",
            "Epoch 5/20\n",
            "500/500 [==============================] - 24s 48ms/step - loss: 0.7783 - accuracy: 0.7310 - val_loss: 0.8177 - val_accuracy: 0.7324\n",
            "Epoch 6/20\n",
            "500/500 [==============================] - 24s 48ms/step - loss: 0.7755 - accuracy: 0.7310 - val_loss: 0.8200 - val_accuracy: 0.7324\n",
            "Epoch 7/20\n",
            "500/500 [==============================] - 24s 48ms/step - loss: 0.7736 - accuracy: 0.7310 - val_loss: 0.8269 - val_accuracy: 0.7324\n",
            "Epoch 8/20\n",
            "500/500 [==============================] - 24s 47ms/step - loss: 0.7726 - accuracy: 0.7310 - val_loss: 0.8278 - val_accuracy: 0.7324\n",
            "Epoch 9/20\n",
            "500/500 [==============================] - 24s 47ms/step - loss: 0.7714 - accuracy: 0.7310 - val_loss: 0.8354 - val_accuracy: 0.7324\n",
            "Epoch 10/20\n",
            "500/500 [==============================] - 24s 47ms/step - loss: 0.7696 - accuracy: 0.7310 - val_loss: 0.8363 - val_accuracy: 0.7324\n",
            "Epoch 11/20\n",
            "500/500 [==============================] - 24s 47ms/step - loss: 0.7692 - accuracy: 0.7310 - val_loss: 0.8360 - val_accuracy: 0.7324\n",
            "Epoch 12/20\n",
            "500/500 [==============================] - 24s 47ms/step - loss: 0.7673 - accuracy: 0.7310 - val_loss: 0.8430 - val_accuracy: 0.7324\n",
            "Epoch 13/20\n",
            "500/500 [==============================] - 24s 47ms/step - loss: 0.7669 - accuracy: 0.7310 - val_loss: 0.8495 - val_accuracy: 0.7324\n",
            "Epoch 14/20\n",
            "500/500 [==============================] - 24s 47ms/step - loss: 0.7660 - accuracy: 0.7310 - val_loss: 0.8421 - val_accuracy: 0.7324\n",
            "Epoch 15/20\n",
            "500/500 [==============================] - 24s 47ms/step - loss: 0.7649 - accuracy: 0.7310 - val_loss: 0.8399 - val_accuracy: 0.7324\n",
            "Epoch 16/20\n",
            "500/500 [==============================] - 24s 47ms/step - loss: 0.7648 - accuracy: 0.7310 - val_loss: 0.8567 - val_accuracy: 0.7324\n",
            "Epoch 17/20\n",
            "500/500 [==============================] - 24s 48ms/step - loss: 0.7644 - accuracy: 0.7310 - val_loss: 0.8534 - val_accuracy: 0.7324\n",
            "Epoch 18/20\n",
            "500/500 [==============================] - 24s 48ms/step - loss: 0.7626 - accuracy: 0.7310 - val_loss: 0.8579 - val_accuracy: 0.7324\n",
            "Epoch 19/20\n",
            "500/500 [==============================] - 24s 48ms/step - loss: 0.7621 - accuracy: 0.7310 - val_loss: 0.8601 - val_accuracy: 0.7324\n",
            "Epoch 20/20\n",
            "500/500 [==============================] - 24s 48ms/step - loss: 0.7618 - accuracy: 0.7310 - val_loss: 0.8510 - val_accuracy: 0.7324\n"
          ],
          "name": "stdout"
        },
        {
          "output_type": "execute_result",
          "data": {
            "text/plain": [
              "<tensorflow.python.keras.callbacks.History at 0x7f167e46c9e8>"
            ]
          },
          "metadata": {
            "tags": []
          },
          "execution_count": 80
        }
      ]
    },
    {
      "cell_type": "code",
      "metadata": {
        "id": "gNGDL0IqushI",
        "colab_type": "code",
        "colab": {}
      },
      "source": [
        "# Steps for accuracy\n",
        "# Get back the encoding values to compare with the predictions for getting accuracy score\n",
        "i, val = np.where(y_val)\n",
        "\n",
        "#Get predictions for validation data\n",
        "pred = model.predict_classes(x_val)\n"
      ],
      "execution_count": 0,
      "outputs": []
    },
    {
      "cell_type": "code",
      "metadata": {
        "id": "Wpip1rVWu5Np",
        "colab_type": "code",
        "colab": {
          "base_uri": "https://localhost:8080/",
          "height": 34
        },
        "outputId": "8e6d7632-89b1-4a78-9ce1-07af2ebb9b74"
      },
      "source": [
        "from sklearn.metrics import accuracy_score\n",
        "\n",
        "print ('Accuracy of the model is: ', accuracy_score(val, pred)*100)"
      ],
      "execution_count": 83,
      "outputs": [
        {
          "output_type": "stream",
          "text": [
            "Accuracy of the model is:  73.23661830915458\n"
          ],
          "name": "stdout"
        }
      ]
    },
    {
      "cell_type": "markdown",
      "metadata": {
        "id": "R47A6Ysfev3l",
        "colab_type": "text"
      },
      "source": [
        "## Build the same model with attention layers included for better performance (Optional)"
      ]
    },
    {
      "cell_type": "code",
      "metadata": {
        "id": "ZQ3TWuiAe1Uu",
        "colab_type": "code",
        "colab": {}
      },
      "source": [
        ""
      ],
      "execution_count": 0,
      "outputs": []
    },
    {
      "cell_type": "code",
      "metadata": {
        "id": "wivJ-eVkfEOm",
        "colab_type": "code",
        "colab": {}
      },
      "source": [
        ""
      ],
      "execution_count": 0,
      "outputs": []
    },
    {
      "cell_type": "markdown",
      "metadata": {
        "id": "olqo5ytRe7eq",
        "colab_type": "text"
      },
      "source": [
        "## Fit the model and report the accuracy score for the model with attention layer (Optional)"
      ]
    },
    {
      "cell_type": "code",
      "metadata": {
        "id": "1zgxPrhzfBkv",
        "colab_type": "code",
        "colab": {}
      },
      "source": [
        ""
      ],
      "execution_count": 0,
      "outputs": []
    },
    {
      "cell_type": "code",
      "metadata": {
        "id": "z8507P94fDuX",
        "colab_type": "code",
        "colab": {}
      },
      "source": [
        ""
      ],
      "execution_count": 0,
      "outputs": []
    }
  ]
}