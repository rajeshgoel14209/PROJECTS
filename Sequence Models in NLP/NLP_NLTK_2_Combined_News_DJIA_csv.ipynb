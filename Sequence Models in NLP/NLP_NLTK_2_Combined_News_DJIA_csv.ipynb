{
  "nbformat": 4,
  "nbformat_minor": 0,
  "metadata": {
    "colab": {
      "name": "NLP-NLTK_2_Combined_News_DJIA_csv-24-Mar-2020.ipynb",
      "provenance": [],
      "collapsed_sections": []
    },
    "kernelspec": {
      "name": "python3",
      "display_name": "Python 3"
    }
  },
  "cells": [
    {
      "cell_type": "code",
      "metadata": {
        "id": "sLmU7YWS8NYn",
        "colab_type": "code",
        "colab": {}
      },
      "source": [
        "import nltk"
      ],
      "execution_count": 0,
      "outputs": []
    },
    {
      "cell_type": "code",
      "metadata": {
        "id": "YBFNSpU-_xAO",
        "colab_type": "code",
        "outputId": "7dd7bd9f-d9eb-45cf-ef81-300e96eb87a3",
        "colab": {
          "base_uri": "https://localhost:8080/",
          "height": 208
        }
      },
      "source": [
        "nltk.download_shell()\n"
      ],
      "execution_count": 2,
      "outputs": [
        {
          "output_type": "stream",
          "text": [
            "NLTK Downloader\n",
            "---------------------------------------------------------------------------\n",
            "    d) Download   l) List    u) Update   c) Config   h) Help   q) Quit\n",
            "---------------------------------------------------------------------------\n",
            "Downloader> 1\n",
            "Command '1' unrecognized\n",
            "\n",
            "---------------------------------------------------------------------------\n",
            "    d) Download   l) List    u) Update   c) Config   h) Help   q) Quit\n",
            "---------------------------------------------------------------------------\n",
            "Downloader> q\n"
          ],
          "name": "stdout"
        }
      ]
    },
    {
      "cell_type": "code",
      "metadata": {
        "id": "yxYA8ZeZ_xGu",
        "colab_type": "code",
        "outputId": "1b3f81a8-ed13-4d84-e079-a39a55615176",
        "colab": {
          "base_uri": "https://localhost:8080/",
          "height": 124
        }
      },
      "source": [
        "from google.colab import drive\n",
        "drive.mount('/content/drive')\n"
      ],
      "execution_count": 3,
      "outputs": [
        {
          "output_type": "stream",
          "text": [
            "Go to this URL in a browser: https://accounts.google.com/o/oauth2/auth?client_id=947318989803-6bn6qk8qdgf4n4g3pfee6491hc0brc4i.apps.googleusercontent.com&redirect_uri=urn%3aietf%3awg%3aoauth%3a2.0%3aoob&response_type=code&scope=email%20https%3a%2f%2fwww.googleapis.com%2fauth%2fdocs.test%20https%3a%2f%2fwww.googleapis.com%2fauth%2fdrive%20https%3a%2f%2fwww.googleapis.com%2fauth%2fdrive.photos.readonly%20https%3a%2f%2fwww.googleapis.com%2fauth%2fpeopleapi.readonly\n",
            "\n",
            "Enter your authorization code:\n",
            "··········\n",
            "Mounted at /content/drive\n"
          ],
          "name": "stdout"
        }
      ]
    },
    {
      "cell_type": "code",
      "metadata": {
        "id": "7zPM3yIe_xTU",
        "colab_type": "code",
        "colab": {}
      },
      "source": [
        "import pandas as pd\n",
        "from pandas import Series,DataFrame\n",
        "import numpy as np\n",
        "from datetime import date\n",
        "from nltk.corpus import stopwords\n",
        "from nltk.tokenize import RegexpTokenizer\n",
        "from nltk.stem.porter import PorterStemmer\n",
        "\n",
        "from sklearn.feature_extraction.text import CountVectorizer\n",
        "from sklearn.feature_extraction.text import TfidfTransformer\n",
        "\n",
        "from sklearn.naive_bayes import MultinomialNB\n",
        "from sklearn.naive_bayes import BernoulliNB\n",
        "from sklearn.pipeline import Pipeline\n",
        "from sklearn.metrics import classification_report\n",
        "from sklearn.metrics import confusion_matrix\n",
        "from sklearn.metrics import roc_auc_score\n",
        "from sklearn.metrics import roc_curve, auc,precision_score, accuracy_score, recall_score, f1_score\n",
        "from scipy import interp\n",
        "\n",
        "#Visualization\n",
        "import matplotlib.pyplot as plt\n",
        "import seaborn as sns"
      ],
      "execution_count": 0,
      "outputs": []
    },
    {
      "cell_type": "code",
      "metadata": {
        "id": "gKqbjVmnrZ4q",
        "colab_type": "code",
        "colab": {}
      },
      "source": [
        "#List to keep different methods scores to compare\n",
        "ScoreSummaryByMethod=[]"
      ],
      "execution_count": 0,
      "outputs": []
    },
    {
      "cell_type": "code",
      "metadata": {
        "id": "U_EReNBA_xPV",
        "colab_type": "code",
        "colab": {}
      },
      "source": [
        "# Loading Data\n",
        "df = pd.read_csv(\"/content/drive/My Drive/NLP/Combined_News_DJIA.csv\")"
      ],
      "execution_count": 0,
      "outputs": []
    },
    {
      "cell_type": "code",
      "metadata": {
        "id": "kuK7GxwWsaEo",
        "colab_type": "code",
        "outputId": "5dd0985c-bedd-4ea4-a14e-97f169f2ac9d",
        "colab": {
          "base_uri": "https://localhost:8080/",
          "height": 356
        }
      },
      "source": [
        "df.head(2)"
      ],
      "execution_count": 12,
      "outputs": [
        {
          "output_type": "execute_result",
          "data": {
            "text/html": [
              "<div>\n",
              "<style scoped>\n",
              "    .dataframe tbody tr th:only-of-type {\n",
              "        vertical-align: middle;\n",
              "    }\n",
              "\n",
              "    .dataframe tbody tr th {\n",
              "        vertical-align: top;\n",
              "    }\n",
              "\n",
              "    .dataframe thead th {\n",
              "        text-align: right;\n",
              "    }\n",
              "</style>\n",
              "<table border=\"1\" class=\"dataframe\">\n",
              "  <thead>\n",
              "    <tr style=\"text-align: right;\">\n",
              "      <th></th>\n",
              "      <th>Date</th>\n",
              "      <th>Label</th>\n",
              "      <th>Top1</th>\n",
              "      <th>Top2</th>\n",
              "      <th>Top3</th>\n",
              "      <th>Top4</th>\n",
              "      <th>Top5</th>\n",
              "      <th>Top6</th>\n",
              "      <th>Top7</th>\n",
              "      <th>Top8</th>\n",
              "      <th>Top9</th>\n",
              "      <th>Top10</th>\n",
              "      <th>Top11</th>\n",
              "      <th>Top12</th>\n",
              "      <th>Top13</th>\n",
              "      <th>Top14</th>\n",
              "      <th>Top15</th>\n",
              "      <th>Top16</th>\n",
              "      <th>Top17</th>\n",
              "      <th>Top18</th>\n",
              "      <th>Top19</th>\n",
              "      <th>Top20</th>\n",
              "      <th>Top21</th>\n",
              "      <th>Top22</th>\n",
              "      <th>Top23</th>\n",
              "      <th>Top24</th>\n",
              "      <th>Top25</th>\n",
              "    </tr>\n",
              "  </thead>\n",
              "  <tbody>\n",
              "    <tr>\n",
              "      <th>0</th>\n",
              "      <td>2008-08-08</td>\n",
              "      <td>0</td>\n",
              "      <td>b\"Georgia 'downs two Russian warplanes' as cou...</td>\n",
              "      <td>b'BREAKING: Musharraf to be impeached.'</td>\n",
              "      <td>b'Russia Today: Columns of troops roll into So...</td>\n",
              "      <td>b'Russian tanks are moving towards the capital...</td>\n",
              "      <td>b\"Afghan children raped with 'impunity,' U.N. ...</td>\n",
              "      <td>b'150 Russian tanks have entered South Ossetia...</td>\n",
              "      <td>b\"Breaking: Georgia invades South Ossetia, Rus...</td>\n",
              "      <td>b\"The 'enemy combatent' trials are nothing but...</td>\n",
              "      <td>b'Georgian troops retreat from S. Osettain cap...</td>\n",
              "      <td>b'Did the U.S. Prep Georgia for War with Russia?'</td>\n",
              "      <td>b'Rice Gives Green Light for Israel to Attack ...</td>\n",
              "      <td>b'Announcing:Class Action Lawsuit on Behalf of...</td>\n",
              "      <td>b\"So---Russia and Georgia are at war and the N...</td>\n",
              "      <td>b\"China tells Bush to stay out of other countr...</td>\n",
              "      <td>b'Did World War III start today?'</td>\n",
              "      <td>b'Georgia Invades South Ossetia - if Russia ge...</td>\n",
              "      <td>b'Al-Qaeda Faces Islamist Backlash'</td>\n",
              "      <td>b'Condoleezza Rice: \"The US would not act to p...</td>\n",
              "      <td>b'This is a busy day:  The European Union has ...</td>\n",
              "      <td>b\"Georgia will withdraw 1,000 soldiers from Ir...</td>\n",
              "      <td>b'Why the Pentagon Thinks Attacking Iran is a ...</td>\n",
              "      <td>b'Caucasus in crisis: Georgia invades South Os...</td>\n",
              "      <td>b'Indian shoe manufactory  - And again in a se...</td>\n",
              "      <td>b'Visitors Suffering from Mental Illnesses Ban...</td>\n",
              "      <td>b\"No Help for Mexico's Kidnapping Surge\"</td>\n",
              "    </tr>\n",
              "    <tr>\n",
              "      <th>1</th>\n",
              "      <td>2008-08-11</td>\n",
              "      <td>1</td>\n",
              "      <td>b'Why wont America and Nato help us? If they w...</td>\n",
              "      <td>b'Bush puts foot down on Georgian conflict'</td>\n",
              "      <td>b\"Jewish Georgian minister: Thanks to Israeli ...</td>\n",
              "      <td>b'Georgian army flees in disarray as Russians ...</td>\n",
              "      <td>b\"Olympic opening ceremony fireworks 'faked'\"</td>\n",
              "      <td>b'What were the Mossad with fraudulent New Zea...</td>\n",
              "      <td>b'Russia angered by Israeli military sale to G...</td>\n",
              "      <td>b'An American citizen living in S.Ossetia blam...</td>\n",
              "      <td>b'Welcome To World War IV! Now In High Definit...</td>\n",
              "      <td>b\"Georgia's move, a mistake of monumental prop...</td>\n",
              "      <td>b'Russia presses deeper into Georgia; U.S. say...</td>\n",
              "      <td>b'Abhinav Bindra wins first ever Individual Ol...</td>\n",
              "      <td>b' U.S. ship heads for Arctic to define territ...</td>\n",
              "      <td>b'Drivers in a Jerusalem taxi station threaten...</td>\n",
              "      <td>b'The French Team is Stunned by Phelps and the...</td>\n",
              "      <td>b'Israel and the US behind the Georgian aggres...</td>\n",
              "      <td>b'\"Do not believe TV, neither Russian nor Geor...</td>\n",
              "      <td>b'Riots are still going on in Montreal (Canada...</td>\n",
              "      <td>b'China to overtake US as largest manufacturer'</td>\n",
              "      <td>b'War in South Ossetia [PICS]'</td>\n",
              "      <td>b'Israeli Physicians Group Condemns State Tort...</td>\n",
              "      <td>b' Russia has just beaten the United States ov...</td>\n",
              "      <td>b'Perhaps *the* question about the Georgia - R...</td>\n",
              "      <td>b'Russia is so much better at war'</td>\n",
              "      <td>b\"So this is what it's come to: trading sex fo...</td>\n",
              "    </tr>\n",
              "  </tbody>\n",
              "</table>\n",
              "</div>"
            ],
            "text/plain": [
              "         Date  ...                                              Top25\n",
              "0  2008-08-08  ...           b\"No Help for Mexico's Kidnapping Surge\"\n",
              "1  2008-08-11  ...  b\"So this is what it's come to: trading sex fo...\n",
              "\n",
              "[2 rows x 27 columns]"
            ]
          },
          "metadata": {
            "tags": []
          },
          "execution_count": 12
        }
      ]
    },
    {
      "cell_type": "code",
      "metadata": {
        "id": "Sb-uh8Q5sZ-x",
        "colab_type": "code",
        "colab": {}
      },
      "source": [
        "df['Combined']=df.iloc[:,2:27].apply(lambda row: ''.join(str(row.values)), axis=1)"
      ],
      "execution_count": 0,
      "outputs": []
    },
    {
      "cell_type": "code",
      "metadata": {
        "id": "DcddpNo1srgW",
        "colab_type": "code",
        "outputId": "cfab3f8f-17bd-428c-e14e-e717fe831132",
        "colab": {
          "base_uri": "https://localhost:8080/",
          "height": 356
        }
      },
      "source": [
        "df.head(2)"
      ],
      "execution_count": 14,
      "outputs": [
        {
          "output_type": "execute_result",
          "data": {
            "text/html": [
              "<div>\n",
              "<style scoped>\n",
              "    .dataframe tbody tr th:only-of-type {\n",
              "        vertical-align: middle;\n",
              "    }\n",
              "\n",
              "    .dataframe tbody tr th {\n",
              "        vertical-align: top;\n",
              "    }\n",
              "\n",
              "    .dataframe thead th {\n",
              "        text-align: right;\n",
              "    }\n",
              "</style>\n",
              "<table border=\"1\" class=\"dataframe\">\n",
              "  <thead>\n",
              "    <tr style=\"text-align: right;\">\n",
              "      <th></th>\n",
              "      <th>Date</th>\n",
              "      <th>Label</th>\n",
              "      <th>Top1</th>\n",
              "      <th>Top2</th>\n",
              "      <th>Top3</th>\n",
              "      <th>Top4</th>\n",
              "      <th>Top5</th>\n",
              "      <th>Top6</th>\n",
              "      <th>Top7</th>\n",
              "      <th>Top8</th>\n",
              "      <th>Top9</th>\n",
              "      <th>Top10</th>\n",
              "      <th>Top11</th>\n",
              "      <th>Top12</th>\n",
              "      <th>Top13</th>\n",
              "      <th>Top14</th>\n",
              "      <th>Top15</th>\n",
              "      <th>Top16</th>\n",
              "      <th>Top17</th>\n",
              "      <th>Top18</th>\n",
              "      <th>Top19</th>\n",
              "      <th>Top20</th>\n",
              "      <th>Top21</th>\n",
              "      <th>Top22</th>\n",
              "      <th>Top23</th>\n",
              "      <th>Top24</th>\n",
              "      <th>Top25</th>\n",
              "      <th>Combined</th>\n",
              "    </tr>\n",
              "  </thead>\n",
              "  <tbody>\n",
              "    <tr>\n",
              "      <th>0</th>\n",
              "      <td>2008-08-08</td>\n",
              "      <td>0</td>\n",
              "      <td>b\"Georgia 'downs two Russian warplanes' as cou...</td>\n",
              "      <td>b'BREAKING: Musharraf to be impeached.'</td>\n",
              "      <td>b'Russia Today: Columns of troops roll into So...</td>\n",
              "      <td>b'Russian tanks are moving towards the capital...</td>\n",
              "      <td>b\"Afghan children raped with 'impunity,' U.N. ...</td>\n",
              "      <td>b'150 Russian tanks have entered South Ossetia...</td>\n",
              "      <td>b\"Breaking: Georgia invades South Ossetia, Rus...</td>\n",
              "      <td>b\"The 'enemy combatent' trials are nothing but...</td>\n",
              "      <td>b'Georgian troops retreat from S. Osettain cap...</td>\n",
              "      <td>b'Did the U.S. Prep Georgia for War with Russia?'</td>\n",
              "      <td>b'Rice Gives Green Light for Israel to Attack ...</td>\n",
              "      <td>b'Announcing:Class Action Lawsuit on Behalf of...</td>\n",
              "      <td>b\"So---Russia and Georgia are at war and the N...</td>\n",
              "      <td>b\"China tells Bush to stay out of other countr...</td>\n",
              "      <td>b'Did World War III start today?'</td>\n",
              "      <td>b'Georgia Invades South Ossetia - if Russia ge...</td>\n",
              "      <td>b'Al-Qaeda Faces Islamist Backlash'</td>\n",
              "      <td>b'Condoleezza Rice: \"The US would not act to p...</td>\n",
              "      <td>b'This is a busy day:  The European Union has ...</td>\n",
              "      <td>b\"Georgia will withdraw 1,000 soldiers from Ir...</td>\n",
              "      <td>b'Why the Pentagon Thinks Attacking Iran is a ...</td>\n",
              "      <td>b'Caucasus in crisis: Georgia invades South Os...</td>\n",
              "      <td>b'Indian shoe manufactory  - And again in a se...</td>\n",
              "      <td>b'Visitors Suffering from Mental Illnesses Ban...</td>\n",
              "      <td>b\"No Help for Mexico's Kidnapping Surge\"</td>\n",
              "      <td>['b\"Georgia \\'downs two Russian warplanes\\' as...</td>\n",
              "    </tr>\n",
              "    <tr>\n",
              "      <th>1</th>\n",
              "      <td>2008-08-11</td>\n",
              "      <td>1</td>\n",
              "      <td>b'Why wont America and Nato help us? If they w...</td>\n",
              "      <td>b'Bush puts foot down on Georgian conflict'</td>\n",
              "      <td>b\"Jewish Georgian minister: Thanks to Israeli ...</td>\n",
              "      <td>b'Georgian army flees in disarray as Russians ...</td>\n",
              "      <td>b\"Olympic opening ceremony fireworks 'faked'\"</td>\n",
              "      <td>b'What were the Mossad with fraudulent New Zea...</td>\n",
              "      <td>b'Russia angered by Israeli military sale to G...</td>\n",
              "      <td>b'An American citizen living in S.Ossetia blam...</td>\n",
              "      <td>b'Welcome To World War IV! Now In High Definit...</td>\n",
              "      <td>b\"Georgia's move, a mistake of monumental prop...</td>\n",
              "      <td>b'Russia presses deeper into Georgia; U.S. say...</td>\n",
              "      <td>b'Abhinav Bindra wins first ever Individual Ol...</td>\n",
              "      <td>b' U.S. ship heads for Arctic to define territ...</td>\n",
              "      <td>b'Drivers in a Jerusalem taxi station threaten...</td>\n",
              "      <td>b'The French Team is Stunned by Phelps and the...</td>\n",
              "      <td>b'Israel and the US behind the Georgian aggres...</td>\n",
              "      <td>b'\"Do not believe TV, neither Russian nor Geor...</td>\n",
              "      <td>b'Riots are still going on in Montreal (Canada...</td>\n",
              "      <td>b'China to overtake US as largest manufacturer'</td>\n",
              "      <td>b'War in South Ossetia [PICS]'</td>\n",
              "      <td>b'Israeli Physicians Group Condemns State Tort...</td>\n",
              "      <td>b' Russia has just beaten the United States ov...</td>\n",
              "      <td>b'Perhaps *the* question about the Georgia - R...</td>\n",
              "      <td>b'Russia is so much better at war'</td>\n",
              "      <td>b\"So this is what it's come to: trading sex fo...</td>\n",
              "      <td>[\"b'Why wont America and Nato help us? If they...</td>\n",
              "    </tr>\n",
              "  </tbody>\n",
              "</table>\n",
              "</div>"
            ],
            "text/plain": [
              "         Date  ...                                           Combined\n",
              "0  2008-08-08  ...  ['b\"Georgia \\'downs two Russian warplanes\\' as...\n",
              "1  2008-08-11  ...  [\"b'Why wont America and Nato help us? If they...\n",
              "\n",
              "[2 rows x 28 columns]"
            ]
          },
          "metadata": {
            "tags": []
          },
          "execution_count": 14
        }
      ]
    },
    {
      "cell_type": "code",
      "metadata": {
        "id": "xJcdApBNAAhm",
        "colab_type": "code",
        "outputId": "c02ea009-0d0d-48ce-abd7-c87d4e3ad15d",
        "colab": {
          "base_uri": "https://localhost:8080/",
          "height": 225
        }
      },
      "source": [
        "pd.to_datetime(df[\"Date\"])"
      ],
      "execution_count": 15,
      "outputs": [
        {
          "output_type": "execute_result",
          "data": {
            "text/plain": [
              "0      2008-08-08\n",
              "1      2008-08-11\n",
              "2      2008-08-12\n",
              "3      2008-08-13\n",
              "4      2008-08-14\n",
              "          ...    \n",
              "1984   2016-06-27\n",
              "1985   2016-06-28\n",
              "1986   2016-06-29\n",
              "1987   2016-06-30\n",
              "1988   2016-07-01\n",
              "Name: Date, Length: 1989, dtype: datetime64[ns]"
            ]
          },
          "metadata": {
            "tags": []
          },
          "execution_count": 15
        }
      ]
    },
    {
      "cell_type": "code",
      "metadata": {
        "id": "1U95H4JJeF1-",
        "colab_type": "code",
        "outputId": "ff402474-86d3-409a-9a58-5ab81629983c",
        "colab": {
          "base_uri": "https://localhost:8080/",
          "height": 190
        }
      },
      "source": [
        "#train data\n",
        "train=df.loc[(pd.to_datetime(df[\"Date\"]) <= date(2014,12,31)),['Label','Combined']]\n",
        "print(train.shape)\n",
        "print(train.head(2))\n"
      ],
      "execution_count": 16,
      "outputs": [
        {
          "output_type": "stream",
          "text": [
            "(1611, 2)\n",
            "   Label                                           Combined\n",
            "0      0  ['b\"Georgia \\'downs two Russian warplanes\\' as...\n",
            "1      1  [\"b'Why wont America and Nato help us? If they...\n"
          ],
          "name": "stdout"
        },
        {
          "output_type": "stream",
          "text": [
            "/usr/local/lib/python3.6/dist-packages/ipykernel_launcher.py:1: FutureWarning: Comparing Series of datetimes with 'datetime.date'.  Currently, the\n",
            "'datetime.date' is coerced to a datetime. In the future pandas will\n",
            "not coerce, and a TypeError will be raised. To retain the current\n",
            "behavior, convert the 'datetime.date' to a datetime with\n",
            "'pd.Timestamp'.\n",
            "  \"\"\"Entry point for launching an IPython kernel.\n"
          ],
          "name": "stderr"
        }
      ]
    },
    {
      "cell_type": "code",
      "metadata": {
        "id": "1wFMpCyxG0qw",
        "colab_type": "code",
        "outputId": "57226a63-ad51-461b-ab2b-c777acc6d8f6",
        "colab": {
          "base_uri": "https://localhost:8080/",
          "height": 306
        }
      },
      "source": [
        "#test data\n",
        "test=df.loc[(pd.to_datetime(df[\"Date\"]) > date(2014,12,31)),['Label','Combined']]\n",
        "test.head()"
      ],
      "execution_count": 17,
      "outputs": [
        {
          "output_type": "stream",
          "text": [
            "/usr/local/lib/python3.6/dist-packages/ipykernel_launcher.py:1: FutureWarning: Comparing Series of datetimes with 'datetime.date'.  Currently, the\n",
            "'datetime.date' is coerced to a datetime. In the future pandas will\n",
            "not coerce, and a TypeError will be raised. To retain the current\n",
            "behavior, convert the 'datetime.date' to a datetime with\n",
            "'pd.Timestamp'.\n",
            "  \"\"\"Entry point for launching an IPython kernel.\n"
          ],
          "name": "stderr"
        },
        {
          "output_type": "execute_result",
          "data": {
            "text/html": [
              "<div>\n",
              "<style scoped>\n",
              "    .dataframe tbody tr th:only-of-type {\n",
              "        vertical-align: middle;\n",
              "    }\n",
              "\n",
              "    .dataframe tbody tr th {\n",
              "        vertical-align: top;\n",
              "    }\n",
              "\n",
              "    .dataframe thead th {\n",
              "        text-align: right;\n",
              "    }\n",
              "</style>\n",
              "<table border=\"1\" class=\"dataframe\">\n",
              "  <thead>\n",
              "    <tr style=\"text-align: right;\">\n",
              "      <th></th>\n",
              "      <th>Label</th>\n",
              "      <th>Combined</th>\n",
              "    </tr>\n",
              "  </thead>\n",
              "  <tbody>\n",
              "    <tr>\n",
              "      <th>1611</th>\n",
              "      <td>1</td>\n",
              "      <td>['Most cases of cancer are the result of sheer...</td>\n",
              "    </tr>\n",
              "    <tr>\n",
              "      <th>1612</th>\n",
              "      <td>0</td>\n",
              "      <td>['Moscow-&amp;gt;Beijing high speed train will red...</td>\n",
              "    </tr>\n",
              "    <tr>\n",
              "      <th>1613</th>\n",
              "      <td>0</td>\n",
              "      <td>['US oil falls below $50 a barrel'\\n \"Toyota g...</td>\n",
              "    </tr>\n",
              "    <tr>\n",
              "      <th>1614</th>\n",
              "      <td>1</td>\n",
              "      <td>[\"'Shots fired' at French magazine HQ\"\\n '90% ...</td>\n",
              "    </tr>\n",
              "    <tr>\n",
              "      <th>1615</th>\n",
              "      <td>1</td>\n",
              "      <td>['New Charlie Hebdo issue to come out next wee...</td>\n",
              "    </tr>\n",
              "  </tbody>\n",
              "</table>\n",
              "</div>"
            ],
            "text/plain": [
              "      Label                                           Combined\n",
              "1611      1  ['Most cases of cancer are the result of sheer...\n",
              "1612      0  ['Moscow-&gt;Beijing high speed train will red...\n",
              "1613      0  ['US oil falls below $50 a barrel'\\n \"Toyota g...\n",
              "1614      1  [\"'Shots fired' at French magazine HQ\"\\n '90% ...\n",
              "1615      1  ['New Charlie Hebdo issue to come out next wee..."
            ]
          },
          "metadata": {
            "tags": []
          },
          "execution_count": 17
        }
      ]
    },
    {
      "cell_type": "code",
      "metadata": {
        "id": "vQQCLas8EDSf",
        "colab_type": "code",
        "outputId": "aa5ba885-522c-4900-a0ae-7c6ce1912a7c",
        "colab": {
          "base_uri": "https://localhost:8080/",
          "height": 54
        }
      },
      "source": [
        "df['Combined'][3]"
      ],
      "execution_count": 18,
      "outputs": [
        {
          "output_type": "execute_result",
          "data": {
            "text/plain": [
              "'[\"b\\' U.S. refuses Israel weapons to attack Iran: report\\'\"\\n \\'b\"When the president ordered to attack Tskhinvali [the capital of South Ossetia], we knew then we were doomed. How come he didn\\\\\\'t realize that?\"\\'\\n \"b\\' Israel clears troops who killed Reuters cameraman\\'\"\\n \\'b\\\\\\'Britain\\\\\\\\\\\\\\'s policy of being tough on drugs is \"pointless\", says a former civil servant who once ran the Cabinet\\\\\\\\\\\\\\'s anti-drugs unit.\\\\\\'\\'\\n \"b\\'Body of 14 year old found in trunk; Latest (ransom paid) kidnapping victim in Mexico. Head cop quits, Prez dissolves suspect elite task force\\'\"\\n \"b\\'China has moved 10 *million* quake survivors into prefab homes\\'\"\\n \\'b\"Bush announces Operation Get All Up In Russia\\\\\\'s Grill. Yeah, this will end well.\"\\'\\n \"b\\'Russian forces sink Georgian ships \\'\"\\n \\'b\"The commander of a Navy air reconnaissance squadron that provides the President and the defense secretary the airborne ability to command the nation\\\\\\'s nuclear weapons has been relieved of duty\"\\'\\n \\'b\"92% of CNN readers: Russia\\\\\\'s actions in Georgia - justified!\"\\'\\n \\'b\\\\\\'USA to send fleet into Black Sea to help Georgia, send troops in \"humanitarian aid exercise\"\\\\\\'\\'\\n \\'b\"US warns against Israeli plan to strike against Iran\\\\\\'s nuclear facilities\"\\'\\n \\'b\"In an intriguing cyberalliance, two Estonian computer experts are heading to Georgia to keep the country\\\\\\'s networks running amid an intense military confrontation with Russia\"\\'\\n \"b\\'The CNN Effect: Georgia Schools Russia in Information Warfare\\'\"\\n \"b\\'Why Russias response to Georgia was right\\'\"\\n \"b\\'Elephants extinct by 2020?\\'\"\\n \"b\\'US humanitarian missions soon in Georgia - if Russia hits the US - WWIII?\\'\"\\n \\'b\"Georgia\\\\\\'s DDOS came from US sources\"\\'\\n \"b\\'Russian convoy heads into Georgia, violating truce\\'\"\\n \"b\\'Israeli defence minister: US against strike on Iran\\'\"\\n \"b\\'Gorbachev: We Had No Choice\\'\"\\n \"b\\'Witness: Russian forces head towards Tbilisi in breach of ceasefire agreement\\'\"\\n \"b\\' Quarter of Russians blame U.S. for conflict: poll\\'\"\\n \"b\\'Georgian president  says US military will take control of seaports and airports - Pentagon denies\\'\"\\n \"b\\'2006: Nobel laureate Aleksander Solzhenitsyn accuses U.S., NATO of encircling Russia\\'\"]'"
            ]
          },
          "metadata": {
            "tags": []
          },
          "execution_count": 18
        }
      ]
    },
    {
      "cell_type": "code",
      "metadata": {
        "id": "HAXtNMOQEDQE",
        "colab_type": "code",
        "colab": {}
      },
      "source": [
        "text = '[\"b\\' U.S. refuses Israel weapons to attack Iran: report\\'\"\\n \\'b\"When the president ordered to attack Tskhinvali [the capital of South Ossetia], we knew then we were doomed. How come he didn\\\\\\'t realize that?\"\\'\\n \"b\\' Israel clears troops who killed Reuters cameraman\\'\"\\n \\'b\\\\\\'Britain\\\\\\\\\\\\\\'s policy of being tough on drugs is \"pointless\", says a former civil servant who once ran the Cabinet\\\\\\\\\\\\\\'s anti-drugs unit.\\\\\\'\\'\\n \"b\\'Body of 14 year old found in trunk; Latest (ransom paid) kidnapping victim in Mexico. Head cop quits, Prez dissolves suspect elite task force\\'\"\\n \"b\\'China has moved 10 *million* quake survivors into prefab homes\\'\"\\n \\'b\"Bush announces Operation Get All Up In Russia\\\\\\'s Grill. Yeah, this will end well.\"\\'\\n \"b\\'Russian forces sink Georgian ships \\'\"\\n \\'b\"The commander of a Navy air reconnaissance squadron that provides the President and the defense secretary the airborne ability to command the nation\\\\\\'s nuclear weapons has been relieved of duty\"\\'\\n \\'b\"92% of CNN readers: Russia\\\\\\'s actions in Georgia - justified!\"\\'\\n \\'b\\\\\\'USA to send fleet into Black Sea to help Georgia, send troops in \"humanitarian aid exercise\"\\\\\\'\\'\\n \\'b\"US warns against Israeli plan to strike against Iran\\\\\\'s nuclear facilities\"\\'\\n \\'b\"In an intriguing cyberalliance, two Estonian computer experts are heading to Georgia to keep the country\\\\\\'s networks running amid an intense military confrontation with Russia\"\\'\\n \"b\\'The CNN Effect: Georgia Schools Russia in Information Warfare\\'\"\\n \"b\\'Why Russias response to Georgia was right\\'\"\\n \"b\\'Elephants extinct by 2020?\\'\"\\n \"b\\'US humanitarian missions soon in Georgia - if Russia hits the US - WWIII?\\'\"\\n \\'b\"Georgia\\\\\\'s DDOS came from US sources\"\\'\\n \"b\\'Russian convoy heads into Georgia, violating truce\\'\"\\n \"b\\'Israeli defence minister: US against strike on Iran\\'\"\\n \"b\\'Gorbachev: We Had No Choice\\'\"\\n \"b\\'Witness: Russian forces head towards Tbilisi in breach of ceasefire agreement\\'\"\\n \"b\\' Quarter of Russians blame U.S. for conflict: poll\\'\"\\n \"b\\'Georgian president  says US military will take control of seaports and airports - Pentagon denies\\'\"\\n \"b\\'2006: Nobel laureate Aleksander Solzhenitsyn accuses U.S., NATO of encircling Russia\\'\"]'"
      ],
      "execution_count": 0,
      "outputs": []
    },
    {
      "cell_type": "code",
      "metadata": {
        "id": "focU_gXcEDNe",
        "colab_type": "code",
        "outputId": "189c91ef-748a-4471-fd8f-e4e4ea76484e",
        "colab": {
          "base_uri": "https://localhost:8080/",
          "height": 54
        }
      },
      "source": [
        "tokenizer = RegexpTokenizer(r'\\w+') ## any non word character excluding [a-zA-Z0-9]\n",
        "text_processed=tokenizer.tokenize(text)\n",
        "' '.join(text_processed)"
      ],
      "execution_count": 20,
      "outputs": [
        {
          "output_type": "execute_result",
          "data": {
            "text/plain": [
              "'b U S refuses Israel weapons to attack Iran report b When the president ordered to attack Tskhinvali the capital of South Ossetia we knew then we were doomed How come he didn t realize that b Israel clears troops who killed Reuters cameraman b Britain s policy of being tough on drugs is pointless says a former civil servant who once ran the Cabinet s anti drugs unit b Body of 14 year old found in trunk Latest ransom paid kidnapping victim in Mexico Head cop quits Prez dissolves suspect elite task force b China has moved 10 million quake survivors into prefab homes b Bush announces Operation Get All Up In Russia s Grill Yeah this will end well b Russian forces sink Georgian ships b The commander of a Navy air reconnaissance squadron that provides the President and the defense secretary the airborne ability to command the nation s nuclear weapons has been relieved of duty b 92 of CNN readers Russia s actions in Georgia justified b USA to send fleet into Black Sea to help Georgia send troops in humanitarian aid exercise b US warns against Israeli plan to strike against Iran s nuclear facilities b In an intriguing cyberalliance two Estonian computer experts are heading to Georgia to keep the country s networks running amid an intense military confrontation with Russia b The CNN Effect Georgia Schools Russia in Information Warfare b Why Russias response to Georgia was right b Elephants extinct by 2020 b US humanitarian missions soon in Georgia if Russia hits the US WWIII b Georgia s DDOS came from US sources b Russian convoy heads into Georgia violating truce b Israeli defence minister US against strike on Iran b Gorbachev We Had No Choice b Witness Russian forces head towards Tbilisi in breach of ceasefire agreement b Quarter of Russians blame U S for conflict poll b Georgian president says US military will take control of seaports and airports Pentagon denies b 2006 Nobel laureate Aleksander Solzhenitsyn accuses U S NATO of encircling Russia'"
            ]
          },
          "metadata": {
            "tags": []
          },
          "execution_count": 20
        }
      ]
    },
    {
      "cell_type": "code",
      "metadata": {
        "id": "bOHCjKgKFXBs",
        "colab_type": "code",
        "outputId": "e7a9882f-a67e-4f46-d735-13ea2d97e8ea",
        "colab": {
          "base_uri": "https://localhost:8080/",
          "height": 34
        }
      },
      "source": [
        "len(' '.join(text_processed))"
      ],
      "execution_count": 21,
      "outputs": [
        {
          "output_type": "execute_result",
          "data": {
            "text/plain": [
              "1972"
            ]
          },
          "metadata": {
            "tags": []
          },
          "execution_count": 21
        }
      ]
    },
    {
      "cell_type": "code",
      "metadata": {
        "id": "z4ExzcW2O-_H",
        "colab_type": "code",
        "colab": {
          "base_uri": "https://localhost:8080/",
          "height": 69
        },
        "outputId": "46f3d68f-7ee6-4b50-f2a8-2b5c69f72c67"
      },
      "source": [
        "nltk.download('stopwords')"
      ],
      "execution_count": 24,
      "outputs": [
        {
          "output_type": "stream",
          "text": [
            "[nltk_data] Downloading package stopwords to /root/nltk_data...\n",
            "[nltk_data]   Unzipping corpora/stopwords.zip.\n"
          ],
          "name": "stdout"
        },
        {
          "output_type": "execute_result",
          "data": {
            "text/plain": [
              "True"
            ]
          },
          "metadata": {
            "tags": []
          },
          "execution_count": 24
        }
      ]
    },
    {
      "cell_type": "code",
      "metadata": {
        "id": "4jj8wfY6EDIu",
        "colab_type": "code",
        "outputId": "b98bc525-d4ed-42a6-cfbc-f3b12e93d1d2",
        "colab": {
          "base_uri": "https://localhost:8080/",
          "height": 54
        }
      },
      "source": [
        "# removing any stopwords\n",
        "text_processed = [word.lower() for word in text_processed if word.lower() not in stopwords.words('english')]\n",
        "' '.join(text_processed)"
      ],
      "execution_count": 25,
      "outputs": [
        {
          "output_type": "execute_result",
          "data": {
            "text/plain": [
              "'b u refuses israel weapons attack iran report b president ordered attack tskhinvali capital south ossetia knew doomed come realize b israel clears troops killed reuters cameraman b britain policy tough drugs pointless says former civil servant ran cabinet anti drugs unit b body 14 year old found trunk latest ransom paid kidnapping victim mexico head cop quits prez dissolves suspect elite task force b china moved 10 million quake survivors prefab homes b bush announces operation get russia grill yeah end well b russian forces sink georgian ships b commander navy air reconnaissance squadron provides president defense secretary airborne ability command nation nuclear weapons relieved duty b 92 cnn readers russia actions georgia justified b usa send fleet black sea help georgia send troops humanitarian aid exercise b us warns israeli plan strike iran nuclear facilities b intriguing cyberalliance two estonian computer experts heading georgia keep country networks running amid intense military confrontation russia b cnn effect georgia schools russia information warfare b russias response georgia right b elephants extinct 2020 b us humanitarian missions soon georgia russia hits us wwiii b georgia ddos came us sources b russian convoy heads georgia violating truce b israeli defence minister us strike iran b gorbachev choice b witness russian forces head towards tbilisi breach ceasefire agreement b quarter russians blame u conflict poll b georgian president says us military take control seaports airports pentagon denies b 2006 nobel laureate aleksander solzhenitsyn accuses u nato encircling russia'"
            ]
          },
          "metadata": {
            "tags": []
          },
          "execution_count": 25
        }
      ]
    },
    {
      "cell_type": "code",
      "metadata": {
        "id": "ACRd51a1FacW",
        "colab_type": "code",
        "outputId": "94f53f28-8152-4ac1-88e2-fef807c6c01d",
        "colab": {
          "base_uri": "https://localhost:8080/",
          "height": 34
        }
      },
      "source": [
        "len(' '.join(text_processed))"
      ],
      "execution_count": 26,
      "outputs": [
        {
          "output_type": "execute_result",
          "data": {
            "text/plain": [
              "1615"
            ]
          },
          "metadata": {
            "tags": []
          },
          "execution_count": 26
        }
      ]
    },
    {
      "cell_type": "code",
      "metadata": {
        "id": "Ucyw0HxPEDEQ",
        "colab_type": "code",
        "colab": {}
      },
      "source": [
        "porter_stemmer = PorterStemmer()    \n",
        "text_processed = [porter_stemmer.stem(word) for word in text_processed]"
      ],
      "execution_count": 0,
      "outputs": []
    },
    {
      "cell_type": "code",
      "metadata": {
        "id": "HZXcrwtFFluz",
        "colab_type": "code",
        "outputId": "6ff280fc-f889-46ae-bc05-4bedde970f06",
        "colab": {
          "base_uri": "https://localhost:8080/",
          "height": 54
        }
      },
      "source": [
        "' '.join(text_processed)"
      ],
      "execution_count": 28,
      "outputs": [
        {
          "output_type": "execute_result",
          "data": {
            "text/plain": [
              "'b u refus israel weapon attack iran report b presid order attack tskhinvali capit south ossetia knew doom come realiz b israel clear troop kill reuter cameraman b britain polici tough drug pointless say former civil servant ran cabinet anti drug unit b bodi 14 year old found trunk latest ransom paid kidnap victim mexico head cop quit prez dissolv suspect elit task forc b china move 10 million quak survivor prefab home b bush announc oper get russia grill yeah end well b russian forc sink georgian ship b command navi air reconnaiss squadron provid presid defens secretari airborn abil command nation nuclear weapon reliev duti b 92 cnn reader russia action georgia justifi b usa send fleet black sea help georgia send troop humanitarian aid exercis b us warn isra plan strike iran nuclear facil b intrigu cyberalli two estonian comput expert head georgia keep countri network run amid intens militari confront russia b cnn effect georgia school russia inform warfar b russia respons georgia right b eleph extinct 2020 b us humanitarian mission soon georgia russia hit us wwiii b georgia ddo came us sourc b russian convoy head georgia violat truce b isra defenc minist us strike iran b gorbachev choic b wit russian forc head toward tbilisi breach ceasefir agreement b quarter russian blame u conflict poll b georgian presid say us militari take control seaport airport pentagon deni b 2006 nobel laureat aleksand solzhenitsyn accus u nato encircl russia'"
            ]
          },
          "metadata": {
            "tags": []
          },
          "execution_count": 28
        }
      ]
    },
    {
      "cell_type": "code",
      "metadata": {
        "id": "VtnNBlBuFlqr",
        "colab_type": "code",
        "outputId": "22737b99-0410-4ef8-e9f1-a5cf35b60fe2",
        "colab": {
          "base_uri": "https://localhost:8080/",
          "height": 34
        }
      },
      "source": [
        "len(' '.join(text_processed))"
      ],
      "execution_count": 29,
      "outputs": [
        {
          "output_type": "execute_result",
          "data": {
            "text/plain": [
              "1459"
            ]
          },
          "metadata": {
            "tags": []
          },
          "execution_count": 29
        }
      ]
    },
    {
      "cell_type": "code",
      "metadata": {
        "id": "4IHhcTGEGar5",
        "colab_type": "code",
        "outputId": "cddc15ef-a181-4e53-c206-7543140749c3",
        "colab": {
          "base_uri": "https://localhost:8080/",
          "height": 34
        }
      },
      "source": [
        "df.shape"
      ],
      "execution_count": 30,
      "outputs": [
        {
          "output_type": "execute_result",
          "data": {
            "text/plain": [
              "(1989, 28)"
            ]
          },
          "metadata": {
            "tags": []
          },
          "execution_count": 30
        }
      ]
    },
    {
      "cell_type": "code",
      "metadata": {
        "id": "rpVGBi2hHY_w",
        "colab_type": "code",
        "colab": {}
      },
      "source": [
        "#Text pre-processing\n",
        "\n",
        "def text_process(text):\n",
        "    \"\"\"\n",
        "    Takes in a string of text, then performs the following:\n",
        "    1. Tokenizes and removes punctuation\n",
        "    2. Removes  stopwords\n",
        "    3. Stems\n",
        "    4. Returns a list of the cleaned text\n",
        "    \"\"\"\n",
        "    if pd.isnull(text):\n",
        "        return []\n",
        "    # tokenizing\n",
        "    tokenizer = RegexpTokenizer(r'\\w+') ## any non word character excluding [a-zA-Z0-9]\n",
        "    text_processed=tokenizer.tokenize(text)\n",
        "    \n",
        "    # removing any stopwords\n",
        "    text_processed = [word.lower() for word in text_processed if word.lower() not in stopwords.words('english')]\n",
        "    \n",
        "    # steming \n",
        "    '''\n",
        "    stemming is a sort of normalizing method. Many variations of words carry the same meaning, other than when tense is involved.\n",
        "    '''\n",
        "    porter_stemmer = PorterStemmer()\n",
        "    \n",
        "    text_processed = [porter_stemmer.stem(word) for word in text_processed]\n",
        "    \n",
        "    try:\n",
        "        text_processed.remove('b')\n",
        "    except: \n",
        "        pass\n",
        "\n",
        "    return text_processed\n",
        "    "
      ],
      "execution_count": 0,
      "outputs": []
    },
    {
      "cell_type": "code",
      "metadata": {
        "id": "5cs9iZTlJPTw",
        "colab_type": "code",
        "colab": {}
      },
      "source": [
        "#Creating a Data Pipeline for Bernoulli Naive Bayes classifier classifier and n-grams, default alpha=1\n",
        "bnb_2ngram_pipeline = Pipeline([\n",
        "    ('bow', CountVectorizer(analyzer=text_process,ngram_range=(1, 2))),  # strings to token integer counts\n",
        "    ('tfidf', TfidfTransformer()),  # integer counts to weighted TF-IDF scores\n",
        "    ('classifier', BernoulliNB(binarize=0.0)),  # train on TF-IDF vectors w/ Bernoulli Naive Bayes classifier\n",
        "])\n"
      ],
      "execution_count": 0,
      "outputs": []
    },
    {
      "cell_type": "code",
      "metadata": {
        "id": "YLOLDvE2JRi2",
        "colab_type": "code",
        "colab": {}
      },
      "source": [
        "bnb_2ngram_pipeline.fit(train['Combined'],train['Label'])\n",
        "predictions = bnb_2ngram_pipeline.predict(test['Combined'])"
      ],
      "execution_count": 0,
      "outputs": []
    },
    {
      "cell_type": "code",
      "metadata": {
        "id": "eNYH375u0Hbm",
        "colab_type": "code",
        "colab": {}
      },
      "source": [
        "def ROCCurves (Actual, Predicted):\n",
        "    '''\n",
        "    Plot ROC curves for the multiclass problem\n",
        "    based on http://scikit-learn.org/stable/auto_examples/model_selection/plot_roc.html\n",
        "    '''\n",
        "    # Compute ROC curve and ROC area for each class\n",
        "    n_classes=2\n",
        "    fpr = dict()\n",
        "    tpr = dict()\n",
        "    roc_auc = dict()\n",
        "    for i in range(n_classes):\n",
        "        fpr[i], tpr[i], _ = roc_curve(Actual.values, Predicted)\n",
        "        roc_auc[i] = auc(fpr[i], tpr[i])\n",
        "\n",
        "    # Compute micro-average ROC curve and ROC area\n",
        "    fpr[\"micro\"], tpr[\"micro\"], _ = roc_curve(Actual.ravel(), Predicted.ravel())\n",
        "    roc_auc[\"micro\"] = auc(fpr[\"micro\"], tpr[\"micro\"])\n",
        "    ##############################################################################\n",
        "    # Plot ROC curves for the multiclass problem\n",
        "\n",
        "    # Compute macro-average ROC curve and ROC area\n",
        "\n",
        "    # First aggregate all false positive rates\n",
        "\n",
        "    all_fpr = np.unique(np.concatenate([fpr[i] for i in range(n_classes)]))\n",
        "\n",
        "    # Then interpolate all ROC curves at this points\n",
        "    mean_tpr = np.zeros_like(all_fpr)\n",
        "    for i in range(n_classes):\n",
        "        mean_tpr += interp(all_fpr, fpr[i], tpr[i])\n",
        "\n",
        "    # Finally average it and compute AUC\n",
        "    mean_tpr /= n_classes\n",
        "\n",
        "    fpr[\"macro\"] = all_fpr\n",
        "    tpr[\"macro\"] = mean_tpr\n",
        "    roc_auc[\"macro\"] = auc(fpr[\"macro\"], tpr[\"macro\"])\n",
        "\n",
        "    # Plot all ROC curves\n",
        "    plt.figure()\n",
        "    plt.plot(fpr[\"micro\"], tpr[\"micro\"],\n",
        "         label='micro-average ROC curve (area = {0:0.2f})'\n",
        "               ''.format(roc_auc[\"micro\"]),\n",
        "         linewidth=2)\n",
        "\n",
        "    plt.plot(fpr[\"macro\"], tpr[\"macro\"],\n",
        "         label='macro-average ROC curve (area = {0:0.2f})'\n",
        "               ''.format(roc_auc[\"macro\"]),\n",
        "         linewidth=2)\n",
        "\n",
        "    for i in range(n_classes):\n",
        "        plt.plot(fpr[i], tpr[i], label='ROC curve of class {0} (area = {1:0.2f})'\n",
        "                                   ''.format(i, roc_auc[i]))\n",
        "\n",
        "    plt.plot([0, 1], [0, 1], 'k--')\n",
        "    plt.xlim([0.0, 1.0])\n",
        "    plt.ylim([0.0, 1.05])\n",
        "    plt.xlabel('False Positive Rate')\n",
        "    plt.ylabel('True Positive Rate')\n",
        "    plt.title('Some extension of Receiver operating characteristic to multi-class')\n",
        "    plt.legend(loc=\"lower right\")"
      ],
      "execution_count": 0,
      "outputs": []
    },
    {
      "cell_type": "code",
      "metadata": {
        "id": "S1KUM8uB0HYm",
        "colab_type": "code",
        "colab": {}
      },
      "source": [
        "def heatmap(data, rotate_xticks=True):\n",
        "  fig, ax = plt.subplots()\n",
        "  heatmap = sns.heatmap(data, cmap=plt.cm.Blues)\n",
        "  ax.xaxis.tick_top()\n",
        "  if rotate_xticks:\n",
        "      plt.xticks(rotation=90)\n",
        "  plt.yticks(rotation=0)"
      ],
      "execution_count": 0,
      "outputs": []
    },
    {
      "cell_type": "code",
      "metadata": {
        "id": "FxRVnsHC0HU4",
        "colab_type": "code",
        "colab": {}
      },
      "source": [
        "def plot_classification_report(classification_report):\n",
        "    lines = classification_report.split('\\n')\n",
        "    classes = []\n",
        "    plotMat = []\n",
        "    for line in lines[2 : (len(lines) - 3)]:\n",
        "        t = line.split()\n",
        "        classes.append(t[0])\n",
        "        v = [float(x) for x in t[1: len(t) - 1]]\n",
        "        plotMat.append(v)\n",
        "    aveTotal = lines[len(lines) - 1].split()\n",
        "    classes.append('avg/total')\n",
        "    vAveTotal = [float(x) for x in t[1:len(aveTotal) - 1]]\n",
        "    plotMat.append(vAveTotal)\n",
        "    df_classification_report = DataFrame(plotMat, index=classes,columns=['precision', 'recall', 'f1-score'])\n",
        "    heatmap(df_classification_report)"
      ],
      "execution_count": 0,
      "outputs": []
    },
    {
      "cell_type": "code",
      "metadata": {
        "id": "GhG_f5r5Ei_m",
        "colab_type": "code",
        "colab": {}
      },
      "source": [
        "def plot_confusion_matrix(confusion_matrix,classes=['0','1']):\n",
        "    df_confusion_matrix = DataFrame(confusion_matrix, index=classes,columns=classes)\n",
        "    heatmap(df_confusion_matrix,False)"
      ],
      "execution_count": 0,
      "outputs": []
    },
    {
      "cell_type": "code",
      "metadata": {
        "id": "SClgHCXTEk1_",
        "colab_type": "code",
        "colab": {}
      },
      "source": [
        "def Evaluation (Method,Comment,Actual, Predicted):\n",
        "    '''\n",
        "        Prints and plots\n",
        "        - classification report\n",
        "        - confusion matrix\n",
        "        - ROC-AUC\n",
        "    '''\n",
        "    print (Method)\n",
        "    print (Comment)\n",
        "    print (classification_report(Actual,Predicted))\n",
        "    #plot_classification_report(classification_report(Actual,Predicted))\n",
        "    print ('Confussion matrix:\\n', confusion_matrix(Actual,Predicted))\n",
        "    #plot_confusion_matrix(confusion_matrix(Actual,Predicted))\n",
        "    ROC_AUC=roc_auc_score(Actual,Predicted)\n",
        "    print ('ROC-AUC: ' + str(ROC_AUC))\n",
        "    #ROCCurves (Actual,Predicted)\n",
        "    Precision=precision_score(Actual,Predicted)\n",
        "    Accuracy=accuracy_score(Actual,Predicted)\n",
        "    Recall=recall_score(Actual,Predicted)\n",
        "    F1=f1_score(Actual,Predicted)\n",
        "    ScoreSummaryByMethod.append([Method,Comment,ROC_AUC,Precision,Accuracy,Recall,F1])"
      ],
      "execution_count": 0,
      "outputs": []
    },
    {
      "cell_type": "code",
      "metadata": {
        "id": "z4Sdhn9sElgk",
        "colab_type": "code",
        "outputId": "9a4db5b8-2911-4476-8ded-b52677384d3e",
        "colab": {
          "base_uri": "https://localhost:8080/",
          "height": 332
        }
      },
      "source": [
        "#Creating a Data Pipeline for Naive Bayes classifier classifier - baseline\n",
        "nb_pipeline = Pipeline([\n",
        "    ('bow', CountVectorizer(analyzer=text_process)),  # strings to token integer counts\n",
        "    ('tfidf', TfidfTransformer()),  # integer counts to weighted TF-IDF scores\n",
        "    ('classifier', MultinomialNB()),  # train on TF-IDF vectors w/ Naive Bayes classifier\n",
        "])\n",
        "nb_pipeline.fit(train['Combined'],train['Label'])\n",
        "predictions = nb_pipeline.predict(test['Combined'])\n",
        "Evaluation ('MultinomialNB','no shift, no n-grams, combined Top news',test[\"Label\"], predictions)"
      ],
      "execution_count": 41,
      "outputs": [
        {
          "output_type": "stream",
          "text": [
            "MultinomialNB\n",
            "no shift, no n-grams, combined Top news\n",
            "              precision    recall  f1-score   support\n",
            "\n",
            "           0       0.00      0.00      0.00       186\n",
            "           1       0.51      1.00      0.67       192\n",
            "\n",
            "    accuracy                           0.51       378\n",
            "   macro avg       0.25      0.50      0.34       378\n",
            "weighted avg       0.26      0.51      0.34       378\n",
            "\n",
            "Confussion matrix:\n",
            " [[  0 186]\n",
            " [  0 192]]\n",
            "ROC-AUC: 0.5\n"
          ],
          "name": "stdout"
        },
        {
          "output_type": "stream",
          "text": [
            "/usr/local/lib/python3.6/dist-packages/sklearn/metrics/_classification.py:1272: UndefinedMetricWarning: Precision and F-score are ill-defined and being set to 0.0 in labels with no predicted samples. Use `zero_division` parameter to control this behavior.\n",
            "  _warn_prf(average, modifier, msg_start, len(result))\n"
          ],
          "name": "stderr"
        }
      ]
    },
    {
      "cell_type": "code",
      "metadata": {
        "id": "N2x0WKScElsU",
        "colab_type": "code",
        "outputId": "b426b7fc-99c5-43f1-c1f6-6abdb8fa6010",
        "colab": {
          "base_uri": "https://localhost:8080/",
          "height": 332
        }
      },
      "source": [
        "Evaluation ('BernoulliNB(binarize=0.0)','default alpha=1,no shift, ngram_range=(1, 2), combined Top news',test[\"Label\"], predictions)"
      ],
      "execution_count": 42,
      "outputs": [
        {
          "output_type": "stream",
          "text": [
            "BernoulliNB(binarize=0.0)\n",
            "default alpha=1,no shift, ngram_range=(1, 2), combined Top news\n",
            "              precision    recall  f1-score   support\n",
            "\n",
            "           0       0.00      0.00      0.00       186\n",
            "           1       0.51      1.00      0.67       192\n",
            "\n",
            "    accuracy                           0.51       378\n",
            "   macro avg       0.25      0.50      0.34       378\n",
            "weighted avg       0.26      0.51      0.34       378\n",
            "\n",
            "Confussion matrix:\n",
            " [[  0 186]\n",
            " [  0 192]]\n",
            "ROC-AUC: 0.5\n"
          ],
          "name": "stdout"
        },
        {
          "output_type": "stream",
          "text": [
            "/usr/local/lib/python3.6/dist-packages/sklearn/metrics/_classification.py:1272: UndefinedMetricWarning: Precision and F-score are ill-defined and being set to 0.0 in labels with no predicted samples. Use `zero_division` parameter to control this behavior.\n",
            "  _warn_prf(average, modifier, msg_start, len(result))\n"
          ],
          "name": "stderr"
        }
      ]
    },
    {
      "cell_type": "code",
      "metadata": {
        "id": "G55UprzKElqh",
        "colab_type": "code",
        "colab": {}
      },
      "source": [
        "#1 days shift\n",
        "df.Label = df.Label.shift(-1)\n",
        "df.drop(df.index[len(df)-1], inplace=True)"
      ],
      "execution_count": 0,
      "outputs": []
    },
    {
      "cell_type": "code",
      "metadata": {
        "id": "71vV5py7EyTU",
        "colab_type": "code",
        "colab": {
          "base_uri": "https://localhost:8080/",
          "height": 306
        },
        "outputId": "175e7841-a50a-4e9c-84c6-56042a003739"
      },
      "source": [
        "#new train data\n",
        "train=df.loc[(pd.to_datetime(df[\"Date\"]) <= date(2014,12,31)),['Label','Combined']]\n",
        "train.head()"
      ],
      "execution_count": 44,
      "outputs": [
        {
          "output_type": "stream",
          "text": [
            "/usr/local/lib/python3.6/dist-packages/ipykernel_launcher.py:1: FutureWarning: Comparing Series of datetimes with 'datetime.date'.  Currently, the\n",
            "'datetime.date' is coerced to a datetime. In the future pandas will\n",
            "not coerce, and a TypeError will be raised. To retain the current\n",
            "behavior, convert the 'datetime.date' to a datetime with\n",
            "'pd.Timestamp'.\n",
            "  \"\"\"Entry point for launching an IPython kernel.\n"
          ],
          "name": "stderr"
        },
        {
          "output_type": "execute_result",
          "data": {
            "text/html": [
              "<div>\n",
              "<style scoped>\n",
              "    .dataframe tbody tr th:only-of-type {\n",
              "        vertical-align: middle;\n",
              "    }\n",
              "\n",
              "    .dataframe tbody tr th {\n",
              "        vertical-align: top;\n",
              "    }\n",
              "\n",
              "    .dataframe thead th {\n",
              "        text-align: right;\n",
              "    }\n",
              "</style>\n",
              "<table border=\"1\" class=\"dataframe\">\n",
              "  <thead>\n",
              "    <tr style=\"text-align: right;\">\n",
              "      <th></th>\n",
              "      <th>Label</th>\n",
              "      <th>Combined</th>\n",
              "    </tr>\n",
              "  </thead>\n",
              "  <tbody>\n",
              "    <tr>\n",
              "      <th>0</th>\n",
              "      <td>1.0</td>\n",
              "      <td>['b\"Georgia \\'downs two Russian warplanes\\' as...</td>\n",
              "    </tr>\n",
              "    <tr>\n",
              "      <th>1</th>\n",
              "      <td>0.0</td>\n",
              "      <td>[\"b'Why wont America and Nato help us? If they...</td>\n",
              "    </tr>\n",
              "    <tr>\n",
              "      <th>2</th>\n",
              "      <td>0.0</td>\n",
              "      <td>[\"b'Remember that adorable 9-year-old who sang...</td>\n",
              "    </tr>\n",
              "    <tr>\n",
              "      <th>3</th>\n",
              "      <td>1.0</td>\n",
              "      <td>[\"b' U.S. refuses Israel weapons to attack Ira...</td>\n",
              "    </tr>\n",
              "    <tr>\n",
              "      <th>4</th>\n",
              "      <td>1.0</td>\n",
              "      <td>[\"b'All the experts admit that we should legal...</td>\n",
              "    </tr>\n",
              "  </tbody>\n",
              "</table>\n",
              "</div>"
            ],
            "text/plain": [
              "   Label                                           Combined\n",
              "0    1.0  ['b\"Georgia \\'downs two Russian warplanes\\' as...\n",
              "1    0.0  [\"b'Why wont America and Nato help us? If they...\n",
              "2    0.0  [\"b'Remember that adorable 9-year-old who sang...\n",
              "3    1.0  [\"b' U.S. refuses Israel weapons to attack Ira...\n",
              "4    1.0  [\"b'All the experts admit that we should legal..."
            ]
          },
          "metadata": {
            "tags": []
          },
          "execution_count": 44
        }
      ]
    },
    {
      "cell_type": "code",
      "metadata": {
        "id": "X3-FHyltEyd9",
        "colab_type": "code",
        "colab": {
          "base_uri": "https://localhost:8080/",
          "height": 312
        },
        "outputId": "eeda80f2-27e2-4bee-9605-4306fb3da725"
      },
      "source": [
        "#The best result for Bernoulli Naive Bayes classifier, 1-2 n-grams and 1-day shift is smoothing alpha = 0 \n",
        "bnb_2ngram_pipeline = Pipeline([\n",
        "    ('bow', CountVectorizer(analyzer=text_process,ngram_range=(1, 2))),\n",
        "    ('tfidf', TfidfTransformer()), \n",
        "    ('classifier', BernoulliNB(alpha=0.0, binarize=0.0))])\n",
        "bnb_2ngram_pipeline.fit(train['Combined'],train['Label'])\n",
        "predictions = bnb_2ngram_pipeline.predict(test['Combined'])\n",
        "Evaluation ('BernoulliNB(alpha=0.0,binarize=0.0)','1-day shift, ngram_range=(1, 2), combined Top news',test[\"Label\"], predictions)"
      ],
      "execution_count": 52,
      "outputs": [
        {
          "output_type": "stream",
          "text": [
            "/usr/local/lib/python3.6/dist-packages/sklearn/naive_bayes.py:507: UserWarning: alpha too small will result in numeric errors, setting alpha = 1.0e-10\n",
            "  'setting alpha = %.1e' % _ALPHA_MIN)\n"
          ],
          "name": "stderr"
        },
        {
          "output_type": "stream",
          "text": [
            "BernoulliNB(alpha=0.0,binarize=0.0)\n",
            "1-day shift, ngram_range=(1, 2), combined Top news\n",
            "              precision    recall  f1-score   support\n",
            "\n",
            "         0.0       0.58      0.44      0.50       184\n",
            "         1.0       0.56      0.69      0.62       191\n",
            "\n",
            "    accuracy                           0.57       375\n",
            "   macro avg       0.57      0.57      0.56       375\n",
            "weighted avg       0.57      0.57      0.56       375\n",
            "\n",
            "Confussion matrix:\n",
            " [[ 81 103]\n",
            " [ 59 132]]\n",
            "ROC-AUC: 0.5656584338720692\n"
          ],
          "name": "stdout"
        }
      ]
    },
    {
      "cell_type": "code",
      "metadata": {
        "id": "JgZ7E6CjEybn",
        "colab_type": "code",
        "colab": {}
      },
      "source": [
        "#3 days shift\n",
        "df.Label = df.Label.shift(-2)\n",
        "df.drop(df.index[len(df)-1], inplace=True)\n",
        "df.drop(df.index[len(df)-1], inplace=True)"
      ],
      "execution_count": 0,
      "outputs": []
    },
    {
      "cell_type": "code",
      "metadata": {
        "id": "mQeREPHrEyYx",
        "colab_type": "code",
        "colab": {
          "base_uri": "https://localhost:8080/",
          "height": 306
        },
        "outputId": "0f312388-3b8f-4679-e515-6636d5f9cfb8"
      },
      "source": [
        "#new train data\n",
        "train=df.loc[(pd.to_datetime(df[\"Date\"]) <= date(2014,12,31)),['Label','Combined']]\n",
        "train.head()"
      ],
      "execution_count": 54,
      "outputs": [
        {
          "output_type": "stream",
          "text": [
            "/usr/local/lib/python3.6/dist-packages/ipykernel_launcher.py:1: FutureWarning: Comparing Series of datetimes with 'datetime.date'.  Currently, the\n",
            "'datetime.date' is coerced to a datetime. In the future pandas will\n",
            "not coerce, and a TypeError will be raised. To retain the current\n",
            "behavior, convert the 'datetime.date' to a datetime with\n",
            "'pd.Timestamp'.\n",
            "  \"\"\"Entry point for launching an IPython kernel.\n"
          ],
          "name": "stderr"
        },
        {
          "output_type": "execute_result",
          "data": {
            "text/html": [
              "<div>\n",
              "<style scoped>\n",
              "    .dataframe tbody tr th:only-of-type {\n",
              "        vertical-align: middle;\n",
              "    }\n",
              "\n",
              "    .dataframe tbody tr th {\n",
              "        vertical-align: top;\n",
              "    }\n",
              "\n",
              "    .dataframe thead th {\n",
              "        text-align: right;\n",
              "    }\n",
              "</style>\n",
              "<table border=\"1\" class=\"dataframe\">\n",
              "  <thead>\n",
              "    <tr style=\"text-align: right;\">\n",
              "      <th></th>\n",
              "      <th>Label</th>\n",
              "      <th>Combined</th>\n",
              "    </tr>\n",
              "  </thead>\n",
              "  <tbody>\n",
              "    <tr>\n",
              "      <th>0</th>\n",
              "      <td>1.0</td>\n",
              "      <td>['b\"Georgia \\'downs two Russian warplanes\\' as...</td>\n",
              "    </tr>\n",
              "    <tr>\n",
              "      <th>1</th>\n",
              "      <td>0.0</td>\n",
              "      <td>[\"b'Why wont America and Nato help us? If they...</td>\n",
              "    </tr>\n",
              "    <tr>\n",
              "      <th>2</th>\n",
              "      <td>0.0</td>\n",
              "      <td>[\"b'Remember that adorable 9-year-old who sang...</td>\n",
              "    </tr>\n",
              "    <tr>\n",
              "      <th>3</th>\n",
              "      <td>1.0</td>\n",
              "      <td>[\"b' U.S. refuses Israel weapons to attack Ira...</td>\n",
              "    </tr>\n",
              "    <tr>\n",
              "      <th>4</th>\n",
              "      <td>1.0</td>\n",
              "      <td>[\"b'All the experts admit that we should legal...</td>\n",
              "    </tr>\n",
              "  </tbody>\n",
              "</table>\n",
              "</div>"
            ],
            "text/plain": [
              "   Label                                           Combined\n",
              "0    1.0  ['b\"Georgia \\'downs two Russian warplanes\\' as...\n",
              "1    0.0  [\"b'Why wont America and Nato help us? If they...\n",
              "2    0.0  [\"b'Remember that adorable 9-year-old who sang...\n",
              "3    1.0  [\"b' U.S. refuses Israel weapons to attack Ira...\n",
              "4    1.0  [\"b'All the experts admit that we should legal..."
            ]
          },
          "metadata": {
            "tags": []
          },
          "execution_count": 54
        }
      ]
    },
    {
      "cell_type": "code",
      "metadata": {
        "id": "_sUDFK85E_ST",
        "colab_type": "code",
        "colab": {
          "base_uri": "https://localhost:8080/",
          "height": 306
        },
        "outputId": "b0afd2ed-e5a9-40b6-b591-4823e79010d9"
      },
      "source": [
        "#new test data\n",
        "test=df.loc[(pd.to_datetime(df[\"Date\"]) > date(2014,12,31)),['Label','Combined']]\n",
        "test.tail()"
      ],
      "execution_count": 55,
      "outputs": [
        {
          "output_type": "stream",
          "text": [
            "/usr/local/lib/python3.6/dist-packages/ipykernel_launcher.py:1: FutureWarning: Comparing Series of datetimes with 'datetime.date'.  Currently, the\n",
            "'datetime.date' is coerced to a datetime. In the future pandas will\n",
            "not coerce, and a TypeError will be raised. To retain the current\n",
            "behavior, convert the 'datetime.date' to a datetime with\n",
            "'pd.Timestamp'.\n",
            "  \"\"\"Entry point for launching an IPython kernel.\n"
          ],
          "name": "stderr"
        },
        {
          "output_type": "execute_result",
          "data": {
            "text/html": [
              "<div>\n",
              "<style scoped>\n",
              "    .dataframe tbody tr th:only-of-type {\n",
              "        vertical-align: middle;\n",
              "    }\n",
              "\n",
              "    .dataframe tbody tr th {\n",
              "        vertical-align: top;\n",
              "    }\n",
              "\n",
              "    .dataframe thead th {\n",
              "        text-align: right;\n",
              "    }\n",
              "</style>\n",
              "<table border=\"1\" class=\"dataframe\">\n",
              "  <thead>\n",
              "    <tr style=\"text-align: right;\">\n",
              "      <th></th>\n",
              "      <th>Label</th>\n",
              "      <th>Combined</th>\n",
              "    </tr>\n",
              "  </thead>\n",
              "  <tbody>\n",
              "    <tr>\n",
              "      <th>1979</th>\n",
              "      <td>0.0</td>\n",
              "      <td>['A staggering 87 percent of Venezuelans say t...</td>\n",
              "    </tr>\n",
              "    <tr>\n",
              "      <th>1980</th>\n",
              "      <td>1.0</td>\n",
              "      <td>['An Australian athlete who has competed in si...</td>\n",
              "    </tr>\n",
              "    <tr>\n",
              "      <th>1981</th>\n",
              "      <td>1.0</td>\n",
              "      <td>['German government agrees to ban fracking ind...</td>\n",
              "    </tr>\n",
              "    <tr>\n",
              "      <th>1982</th>\n",
              "      <td>1.0</td>\n",
              "      <td>['Today The United Kingdom decides whether to ...</td>\n",
              "    </tr>\n",
              "    <tr>\n",
              "      <th>1983</th>\n",
              "      <td>1.0</td>\n",
              "      <td>['David Cameron to Resign as PM After EU Refer...</td>\n",
              "    </tr>\n",
              "  </tbody>\n",
              "</table>\n",
              "</div>"
            ],
            "text/plain": [
              "      Label                                           Combined\n",
              "1979    0.0  ['A staggering 87 percent of Venezuelans say t...\n",
              "1980    1.0  ['An Australian athlete who has competed in si...\n",
              "1981    1.0  ['German government agrees to ban fracking ind...\n",
              "1982    1.0  ['Today The United Kingdom decides whether to ...\n",
              "1983    1.0  ['David Cameron to Resign as PM After EU Refer..."
            ]
          },
          "metadata": {
            "tags": []
          },
          "execution_count": 55
        }
      ]
    },
    {
      "cell_type": "code",
      "metadata": {
        "id": "CF7HWe9oE_Ph",
        "colab_type": "code",
        "colab": {
          "base_uri": "https://localhost:8080/",
          "height": 277
        },
        "outputId": "b7bdcdeb-7f9a-406f-8cee-2f47fae607bc"
      },
      "source": [
        "#The best result for Bernoulli Naive Bayes classifier, 1-2 n-grams and 3-day shift is smoothing alpha = 0.5 \n",
        "bnb_2ngram_pipeline = Pipeline([\n",
        "    ('bow', CountVectorizer(analyzer=text_process,ngram_range=(1, 2))),\n",
        "    ('tfidf', TfidfTransformer()), \n",
        "    ('classifier', BernoulliNB(alpha=0.5, binarize=0.0))])\n",
        "bnb_2ngram_pipeline.fit(train['Combined'],train['Label'])\n",
        "predictions = bnb_2ngram_pipeline.predict(test['Combined'])\n",
        "Evaluation ('BernoulliNB(alpha=0.5,binarize=0.0)','3-days shift, ngram_range=(1, 2), combined Top news',test[\"Label\"], predictions)"
      ],
      "execution_count": 56,
      "outputs": [
        {
          "output_type": "stream",
          "text": [
            "BernoulliNB(alpha=0.5,binarize=0.0)\n",
            "3-days shift, ngram_range=(1, 2), combined Top news\n",
            "              precision    recall  f1-score   support\n",
            "\n",
            "         0.0       0.49      0.40      0.44       184\n",
            "         1.0       0.50      0.59      0.55       189\n",
            "\n",
            "    accuracy                           0.50       373\n",
            "   macro avg       0.50      0.50      0.49       373\n",
            "weighted avg       0.50      0.50      0.49       373\n",
            "\n",
            "Confussion matrix:\n",
            " [[ 74 110]\n",
            " [ 77 112]]\n",
            "ROC-AUC: 0.4973832528180354\n"
          ],
          "name": "stdout"
        }
      ]
    },
    {
      "cell_type": "code",
      "metadata": {
        "id": "Mhrt78a2E_LS",
        "colab_type": "code",
        "colab": {
          "base_uri": "https://localhost:8080/",
          "height": 312
        },
        "outputId": "8e71c44a-be61-4eb4-8e6c-1ff9b94664dc"
      },
      "source": [
        "ROCCurves (test[\"Label\"], predictions)"
      ],
      "execution_count": 50,
      "outputs": [
        {
          "output_type": "stream",
          "text": [
            "/usr/local/lib/python3.6/dist-packages/ipykernel_launcher.py:30: DeprecationWarning: scipy.interp is deprecated and will be removed in SciPy 2.0.0, use numpy.interp instead\n"
          ],
          "name": "stderr"
        },
        {
          "output_type": "display_data",
          "data": {
            "image/png": "[encoded data removed]",
            "text/plain": [
              "<Figure size 432x288 with 1 Axes>"
            ]
          },
          "metadata": {
            "tags": []
          }
        }
      ]
    },
    {
      "cell_type": "code",
      "metadata": {
        "id": "VIiDOK-aFGGX",
        "colab_type": "code",
        "colab": {}
      },
      "source": [
        "#Here is the pipeline we use for the differenet data sets\n",
        "bnb_2ngram_pipeline = Pipeline([\n",
        "    ('bow', CountVectorizer(analyzer=text_process,ngram_range=(1, 2))),\n",
        "    ('tfidf', TfidfTransformer()), \n",
        "    ('classifier', BernoulliNB(alpha=0.5, binarize=0.0))])"
      ],
      "execution_count": 0,
      "outputs": []
    },
    {
      "cell_type": "code",
      "metadata": {
        "id": "QF2wpVPMFGDt",
        "colab_type": "code",
        "colab": {}
      },
      "source": [
        "#data re-new\n",
        "df=pd.read_csv('/content/drive/My Drive/NLP/Combined_News_DJIA.csv')"
      ],
      "execution_count": 0,
      "outputs": []
    },
    {
      "cell_type": "code",
      "metadata": {
        "id": "D8RjnElFFGAf",
        "colab_type": "code",
        "colab": {}
      },
      "source": [
        "#Combination 10 and 25\n",
        "df['Combined10_25']=df.iloc[:,[11,26]].apply(lambda row: ''.join(str(row.values)), axis=1)\n",
        "#Combination 12 and 25\n",
        "df['Combined12_25']=df.iloc[:,[13,26]].apply(lambda row: ''.join(str(row.values)), axis=1)#Combination 10 and 25\n",
        "df['Combined10_25']=df.iloc[:,[11,26]].apply(lambda row: ''.join(str(row.values)), axis=1)\n",
        "#Combination 12 and 25\n",
        "df['Combined12_25']=df.iloc[:,[13,26]].apply(lambda row: ''.join(str(row.values)), axis=1)"
      ],
      "execution_count": 0,
      "outputs": []
    },
    {
      "cell_type": "code",
      "metadata": {
        "id": "4vXzs1HxFF9a",
        "colab_type": "code",
        "colab": {
          "base_uri": "https://localhost:8080/",
          "height": 514
        },
        "outputId": "1c32cfb1-687b-443c-ac42-390615150d00"
      },
      "source": [
        "#train data\n",
        "train=df.loc[(pd.to_datetime(df[\"Date\"]) <= date(2014,12,31)),['Label','Top1','Top12','Top25','Combined10_25','Combined12_25','Combined3_12_25']]\n",
        "train.head()"
      ],
      "execution_count": 62,
      "outputs": [
        {
          "output_type": "stream",
          "text": [
            "/usr/local/lib/python3.6/dist-packages/ipykernel_launcher.py:1: FutureWarning: Comparing Series of datetimes with 'datetime.date'.  Currently, the\n",
            "'datetime.date' is coerced to a datetime. In the future pandas will\n",
            "not coerce, and a TypeError will be raised. To retain the current\n",
            "behavior, convert the 'datetime.date' to a datetime with\n",
            "'pd.Timestamp'.\n",
            "  \"\"\"Entry point for launching an IPython kernel.\n",
            "/usr/local/lib/python3.6/dist-packages/pandas/core/indexing.py:1418: FutureWarning: \n",
            "Passing list-likes to .loc or [] with any missing label will raise\n",
            "KeyError in the future, you can use .reindex() as an alternative.\n",
            "\n",
            "See the documentation here:\n",
            "https://pandas.pydata.org/pandas-docs/stable/user_guide/indexing.html#deprecate-loc-reindex-listlike\n",
            "  return self._getitem_tuple(key)\n"
          ],
          "name": "stderr"
        },
        {
          "output_type": "execute_result",
          "data": {
            "text/html": [
              "<div>\n",
              "<style scoped>\n",
              "    .dataframe tbody tr th:only-of-type {\n",
              "        vertical-align: middle;\n",
              "    }\n",
              "\n",
              "    .dataframe tbody tr th {\n",
              "        vertical-align: top;\n",
              "    }\n",
              "\n",
              "    .dataframe thead th {\n",
              "        text-align: right;\n",
              "    }\n",
              "</style>\n",
              "<table border=\"1\" class=\"dataframe\">\n",
              "  <thead>\n",
              "    <tr style=\"text-align: right;\">\n",
              "      <th></th>\n",
              "      <th>Label</th>\n",
              "      <th>Top1</th>\n",
              "      <th>Top12</th>\n",
              "      <th>Top25</th>\n",
              "      <th>Combined10_25</th>\n",
              "      <th>Combined12_25</th>\n",
              "      <th>Combined3_12_25</th>\n",
              "    </tr>\n",
              "  </thead>\n",
              "  <tbody>\n",
              "    <tr>\n",
              "      <th>0</th>\n",
              "      <td>0</td>\n",
              "      <td>b\"Georgia 'downs two Russian warplanes' as cou...</td>\n",
              "      <td>b'Announcing:Class Action Lawsuit on Behalf of...</td>\n",
              "      <td>b\"No Help for Mexico's Kidnapping Surge\"</td>\n",
              "      <td>[\"b'Did the U.S. Prep Georgia for War with Rus...</td>\n",
              "      <td>[\"b'Announcing:Class Action Lawsuit on Behalf ...</td>\n",
              "      <td>NaN</td>\n",
              "    </tr>\n",
              "    <tr>\n",
              "      <th>1</th>\n",
              "      <td>1</td>\n",
              "      <td>b'Why wont America and Nato help us? If they w...</td>\n",
              "      <td>b'Abhinav Bindra wins first ever Individual Ol...</td>\n",
              "      <td>b\"So this is what it's come to: trading sex fo...</td>\n",
              "      <td>['b\"Georgia\\'s move, a mistake of monumental p...</td>\n",
              "      <td>[\"b'Abhinav Bindra wins first ever Individual ...</td>\n",
              "      <td>NaN</td>\n",
              "    </tr>\n",
              "    <tr>\n",
              "      <th>2</th>\n",
              "      <td>0</td>\n",
              "      <td>b'Remember that adorable 9-year-old who sang a...</td>\n",
              "      <td>b'CNN use footage of Tskhinvali ruins to cover...</td>\n",
              "      <td>b\"BBC NEWS | Asia-Pacific | Extinction 'by man...</td>\n",
              "      <td>[\"b'U.S. Beats War Drum as Iran Dumps the Doll...</td>\n",
              "      <td>[\"b'CNN use footage of Tskhinvali ruins to cov...</td>\n",
              "      <td>NaN</td>\n",
              "    </tr>\n",
              "    <tr>\n",
              "      <th>3</th>\n",
              "      <td>0</td>\n",
              "      <td>b' U.S. refuses Israel weapons to attack Iran:...</td>\n",
              "      <td>b\"US warns against Israeli plan to strike agai...</td>\n",
              "      <td>b'2006: Nobel laureate Aleksander Solzhenitsyn...</td>\n",
              "      <td>['b\"92% of CNN readers: Russia\\'s actions in G...</td>\n",
              "      <td>['b\"US warns against Israeli plan to strike ag...</td>\n",
              "      <td>NaN</td>\n",
              "    </tr>\n",
              "    <tr>\n",
              "      <th>4</th>\n",
              "      <td>1</td>\n",
              "      <td>b'All the experts admit that we should legalis...</td>\n",
              "      <td>b'Why Russias response to Georgia was right'</td>\n",
              "      <td>b'Philippines : Peace Advocate say Muslims nee...</td>\n",
              "      <td>[\"b' Musharraf expected to resign rather than ...</td>\n",
              "      <td>[\"b'Why Russias response to Georgia was right'...</td>\n",
              "      <td>NaN</td>\n",
              "    </tr>\n",
              "  </tbody>\n",
              "</table>\n",
              "</div>"
            ],
            "text/plain": [
              "   Label  ... Combined3_12_25\n",
              "0      0  ...             NaN\n",
              "1      1  ...             NaN\n",
              "2      0  ...             NaN\n",
              "3      0  ...             NaN\n",
              "4      1  ...             NaN\n",
              "\n",
              "[5 rows x 7 columns]"
            ]
          },
          "metadata": {
            "tags": []
          },
          "execution_count": 62
        }
      ]
    },
    {
      "cell_type": "code",
      "metadata": {
        "id": "fQAGA4cbFF5r",
        "colab_type": "code",
        "colab": {
          "base_uri": "https://localhost:8080/",
          "height": 514
        },
        "outputId": "27581c5e-6bb7-451a-c1fe-59b854f0ea38"
      },
      "source": [
        "#test data\n",
        "test=df.loc[(pd.to_datetime(df[\"Date\"]) > date(2014,12,31)),['Label','Top1','Top12','Top25','Combined10_25','Combined12_25','Combined3_12_25']]\n",
        "test.tail()"
      ],
      "execution_count": 63,
      "outputs": [
        {
          "output_type": "stream",
          "text": [
            "/usr/local/lib/python3.6/dist-packages/ipykernel_launcher.py:1: FutureWarning: Comparing Series of datetimes with 'datetime.date'.  Currently, the\n",
            "'datetime.date' is coerced to a datetime. In the future pandas will\n",
            "not coerce, and a TypeError will be raised. To retain the current\n",
            "behavior, convert the 'datetime.date' to a datetime with\n",
            "'pd.Timestamp'.\n",
            "  \"\"\"Entry point for launching an IPython kernel.\n",
            "/usr/local/lib/python3.6/dist-packages/pandas/core/indexing.py:1418: FutureWarning: \n",
            "Passing list-likes to .loc or [] with any missing label will raise\n",
            "KeyError in the future, you can use .reindex() as an alternative.\n",
            "\n",
            "See the documentation here:\n",
            "https://pandas.pydata.org/pandas-docs/stable/user_guide/indexing.html#deprecate-loc-reindex-listlike\n",
            "  return self._getitem_tuple(key)\n"
          ],
          "name": "stderr"
        },
        {
          "output_type": "execute_result",
          "data": {
            "text/html": [
              "<div>\n",
              "<style scoped>\n",
              "    .dataframe tbody tr th:only-of-type {\n",
              "        vertical-align: middle;\n",
              "    }\n",
              "\n",
              "    .dataframe tbody tr th {\n",
              "        vertical-align: top;\n",
              "    }\n",
              "\n",
              "    .dataframe thead th {\n",
              "        text-align: right;\n",
              "    }\n",
              "</style>\n",
              "<table border=\"1\" class=\"dataframe\">\n",
              "  <thead>\n",
              "    <tr style=\"text-align: right;\">\n",
              "      <th></th>\n",
              "      <th>Label</th>\n",
              "      <th>Top1</th>\n",
              "      <th>Top12</th>\n",
              "      <th>Top25</th>\n",
              "      <th>Combined10_25</th>\n",
              "      <th>Combined12_25</th>\n",
              "      <th>Combined3_12_25</th>\n",
              "    </tr>\n",
              "  </thead>\n",
              "  <tbody>\n",
              "    <tr>\n",
              "      <th>1984</th>\n",
              "      <td>0</td>\n",
              "      <td>Barclays and RBS shares suspended from trading...</td>\n",
              "      <td>Sky News Journalist Left Speechless As Leave M...</td>\n",
              "      <td>Pakistani clerics declare transgender marriage...</td>\n",
              "      <td>['Angela Merkel said the U.K. must file exit p...</td>\n",
              "      <td>[\"Sky News Journalist Left Speechless As Leave...</td>\n",
              "      <td>NaN</td>\n",
              "    </tr>\n",
              "    <tr>\n",
              "      <th>1985</th>\n",
              "      <td>1</td>\n",
              "      <td>2,500 Scientists To Australia: If You Want To ...</td>\n",
              "      <td>Merkel vows to strengthen EU, tells UK no 'che...</td>\n",
              "      <td>Mexico's security forces routinely use 'sexual...</td>\n",
              "      <td>[\"'Do not let Scotland down now' : Scottish ME...</td>\n",
              "      <td>[\"Merkel vows to strengthen EU, tells UK no 'c...</td>\n",
              "      <td>NaN</td>\n",
              "    </tr>\n",
              "    <tr>\n",
              "      <th>1986</th>\n",
              "      <td>1</td>\n",
              "      <td>Explosion At Airport In Istanbul</td>\n",
              "      <td>The Philippine president-elect said Monday he ...</td>\n",
              "      <td>Tiny New Zealand town with 'too many jobs' lau...</td>\n",
              "      <td>['99-Million-Yr-Old Bird Wings Found Encased i...</td>\n",
              "      <td>['The Philippine president-elect said Monday h...</td>\n",
              "      <td>NaN</td>\n",
              "    </tr>\n",
              "    <tr>\n",
              "      <th>1987</th>\n",
              "      <td>1</td>\n",
              "      <td>Jamaica proposes marijuana dispensers for tour...</td>\n",
              "      <td>Cannabis compounds could treat Alzheimer's by ...</td>\n",
              "      <td>Law Enforcement Sources: Gun Used in Paris Ter...</td>\n",
              "      <td>['US airstrikes kill at least 250 ISIS fighter...</td>\n",
              "      <td>[\"Cannabis compounds could treat Alzheimer's b...</td>\n",
              "      <td>NaN</td>\n",
              "    </tr>\n",
              "    <tr>\n",
              "      <th>1988</th>\n",
              "      <td>1</td>\n",
              "      <td>A 117-year-old woman in Mexico City finally re...</td>\n",
              "      <td>Abbas PLO Faction Calls Killer of 13-Year-Old ...</td>\n",
              "      <td>Ozone layer hole seems to be healing - US &amp;amp...</td>\n",
              "      <td>['China kills millions of innocent meditators ...</td>\n",
              "      <td>['Abbas PLO Faction Calls Killer of 13-Year-Ol...</td>\n",
              "      <td>NaN</td>\n",
              "    </tr>\n",
              "  </tbody>\n",
              "</table>\n",
              "</div>"
            ],
            "text/plain": [
              "      Label  ... Combined3_12_25\n",
              "1984      0  ...             NaN\n",
              "1985      1  ...             NaN\n",
              "1986      1  ...             NaN\n",
              "1987      1  ...             NaN\n",
              "1988      1  ...             NaN\n",
              "\n",
              "[5 rows x 7 columns]"
            ]
          },
          "metadata": {
            "tags": []
          },
          "execution_count": 63
        }
      ]
    },
    {
      "cell_type": "code",
      "metadata": {
        "id": "hBrgW8AeFRk5",
        "colab_type": "code",
        "colab": {
          "base_uri": "https://localhost:8080/",
          "height": 277
        },
        "outputId": "cdc3629c-3171-476f-fc6b-12b1816038e6"
      },
      "source": [
        "#no changes in the pipeline. We just use other data sets\n",
        "#Top1, no shift, baseline\n",
        "bnb_2ngram_pipeline.fit(train['Top1'],train['Label'])\n",
        "predictions = bnb_2ngram_pipeline.predict(test['Top1'])\n",
        "Evaluation ('BernoulliNB(alpha=0.5,binarize=0.0)','no shift, ngram_range=(1, 2),Top1 only',test[\"Label\"], predictions)"
      ],
      "execution_count": 64,
      "outputs": [
        {
          "output_type": "stream",
          "text": [
            "BernoulliNB(alpha=0.5,binarize=0.0)\n",
            "no shift, ngram_range=(1, 2),Top1 only\n",
            "              precision    recall  f1-score   support\n",
            "\n",
            "           0       0.50      0.41      0.45       186\n",
            "           1       0.52      0.61      0.56       192\n",
            "\n",
            "    accuracy                           0.51       378\n",
            "   macro avg       0.51      0.51      0.50       378\n",
            "weighted avg       0.51      0.51      0.51       378\n",
            "\n",
            "Confussion matrix:\n",
            " [[ 76 110]\n",
            " [ 75 117]]\n",
            "ROC-AUC: 0.5089885752688172\n"
          ],
          "name": "stdout"
        }
      ]
    },
    {
      "cell_type": "code",
      "metadata": {
        "id": "uSxcSwLyFRqJ",
        "colab_type": "code",
        "colab": {}
      },
      "source": [
        "#no changes in the pipeline. We just use other data sets\n",
        "#Top25, no shift\n",
        "bnb_2ngram_pipeline.fit(train['Top25'],train['Label'])\n",
        "predictions = bnb_2ngram_pipeline.predict(test['Top25'])\n",
        "Evaluation ('BernoulliNB(alpha=0.5,binarize=0.0)','no shift, ngram_range=(1, 2),Top25 only',test[\"Label\"], predictions)"
      ],
      "execution_count": 0,
      "outputs": []
    },
    {
      "cell_type": "code",
      "metadata": {
        "id": "HtrhW7HIFRh2",
        "colab_type": "code",
        "colab": {
          "base_uri": "https://localhost:8080/",
          "height": 277
        },
        "outputId": "03758504-0700-4ebf-cf70-1477a378e707"
      },
      "source": [
        "#no changes in the pipeline. We just use other data sets\n",
        "#Combined12_25, no shift\n",
        "bnb_2ngram_pipeline.fit(train['Combined12_25'],train['Label'])\n",
        "predictions = bnb_2ngram_pipeline.predict(test['Combined12_25'])\n",
        "Evaluation ('BernoulliNB(alpha=0.5,binarize=0.0)','no shift, ngram_range=(1, 2),Combined Top12 and Top25',test[\"Label\"], predictions)"
      ],
      "execution_count": 66,
      "outputs": [
        {
          "output_type": "stream",
          "text": [
            "BernoulliNB(alpha=0.5,binarize=0.0)\n",
            "no shift, ngram_range=(1, 2),Combined Top12 and Top25\n",
            "              precision    recall  f1-score   support\n",
            "\n",
            "           0       0.58      0.48      0.53       186\n",
            "           1       0.57      0.66      0.61       192\n",
            "\n",
            "    accuracy                           0.57       378\n",
            "   macro avg       0.58      0.57      0.57       378\n",
            "weighted avg       0.57      0.57      0.57       378\n",
            "\n",
            "Confussion matrix:\n",
            " [[ 90  96]\n",
            " [ 65 127]]\n",
            "ROC-AUC: 0.5726646505376345\n"
          ],
          "name": "stdout"
        }
      ]
    },
    {
      "cell_type": "code",
      "metadata": {
        "id": "Dv1b7EdEFRe2",
        "colab_type": "code",
        "colab": {
          "base_uri": "https://localhost:8080/",
          "height": 277
        },
        "outputId": "97b08f7c-dd4a-4849-a47c-43a7e88101e1"
      },
      "source": [
        "#no changes in the pipeline. We just use other data sets\n",
        "#Combined10_25, no shift\n",
        "bnb_2ngram_pipeline.fit(train['Combined10_25'],train['Label'])\n",
        "predictions = bnb_2ngram_pipeline.predict(test['Combined10_25'])\n",
        "Evaluation ('BernoulliNB(alpha=0.5,binarize=0.0)','no shift, ngram_range=(1, 2),Combined Top10 and Top25',test[\"Label\"], predictions)"
      ],
      "execution_count": 67,
      "outputs": [
        {
          "output_type": "stream",
          "text": [
            "BernoulliNB(alpha=0.5,binarize=0.0)\n",
            "no shift, ngram_range=(1, 2),Combined Top10 and Top25\n",
            "              precision    recall  f1-score   support\n",
            "\n",
            "           0       0.61      0.45      0.52       186\n",
            "           1       0.58      0.73      0.64       192\n",
            "\n",
            "    accuracy                           0.59       378\n",
            "   macro avg       0.60      0.59      0.58       378\n",
            "weighted avg       0.60      0.59      0.58       378\n",
            "\n",
            "Confussion matrix:\n",
            " [[ 83 103]\n",
            " [ 52 140]]\n",
            "ROC-AUC: 0.5877016129032258\n"
          ],
          "name": "stdout"
        }
      ]
    },
    {
      "cell_type": "code",
      "metadata": {
        "id": "VXwJifNuFRbm",
        "colab_type": "code",
        "colab": {
          "base_uri": "https://localhost:8080/",
          "height": 312
        },
        "outputId": "8f53f958-3cf2-44f5-c5b7-c81ffa8699be"
      },
      "source": [
        "ROCCurves (test[\"Label\"], predictions)"
      ],
      "execution_count": 68,
      "outputs": [
        {
          "output_type": "stream",
          "text": [
            "/usr/local/lib/python3.6/dist-packages/ipykernel_launcher.py:30: DeprecationWarning: scipy.interp is deprecated and will be removed in SciPy 2.0.0, use numpy.interp instead\n"
          ],
          "name": "stderr"
        },
        {
          "output_type": "display_data",
          "data": {
            "image/png": "[encoded data removed]",
            "text/plain": [
              "<Figure size 432x288 with 1 Axes>"
            ]
          },
          "metadata": {
            "tags": []
          }
        }
      ]
    },
    {
      "cell_type": "code",
      "metadata": {
        "id": "v48fkLL9FRYd",
        "colab_type": "code",
        "colab": {}
      },
      "source": [
        "#let's shift the data and explore Top3, Top12 and Top25 combination for 2 days shift\n",
        "df.Label = df.Label.shift(-1)\n",
        "df.drop(df.index[len(df)-1], inplace=True)\n",
        "df.Label = df.Label.shift(-1)\n",
        "df.drop(df.index[len(df)-1], inplace=True)"
      ],
      "execution_count": 0,
      "outputs": []
    },
    {
      "cell_type": "code",
      "metadata": {
        "id": "-58zHYQzFfdf",
        "colab_type": "code",
        "colab": {}
      },
      "source": [
        "#Combination 3,12 and 25\n",
        "df['Combined3_12_25']=df.iloc[:,[4,13,26]].apply(lambda row: ''.join(str(row.values)), axis=1)"
      ],
      "execution_count": 0,
      "outputs": []
    },
    {
      "cell_type": "code",
      "metadata": {
        "id": "6fg-FrvSFfaI",
        "colab_type": "code",
        "colab": {
          "base_uri": "https://localhost:8080/",
          "height": 306
        },
        "outputId": "dca1ea15-b994-4668-e11a-e592861a314e"
      },
      "source": [
        "#train data\n",
        "train=df.loc[(pd.to_datetime(df[\"Date\"]) <= date(2014,12,31)),['Label','Combined3_12_25']]\n",
        "train.head()"
      ],
      "execution_count": 71,
      "outputs": [
        {
          "output_type": "stream",
          "text": [
            "/usr/local/lib/python3.6/dist-packages/ipykernel_launcher.py:1: FutureWarning: Comparing Series of datetimes with 'datetime.date'.  Currently, the\n",
            "'datetime.date' is coerced to a datetime. In the future pandas will\n",
            "not coerce, and a TypeError will be raised. To retain the current\n",
            "behavior, convert the 'datetime.date' to a datetime with\n",
            "'pd.Timestamp'.\n",
            "  \"\"\"Entry point for launching an IPython kernel.\n"
          ],
          "name": "stderr"
        },
        {
          "output_type": "execute_result",
          "data": {
            "text/html": [
              "<div>\n",
              "<style scoped>\n",
              "    .dataframe tbody tr th:only-of-type {\n",
              "        vertical-align: middle;\n",
              "    }\n",
              "\n",
              "    .dataframe tbody tr th {\n",
              "        vertical-align: top;\n",
              "    }\n",
              "\n",
              "    .dataframe thead th {\n",
              "        text-align: right;\n",
              "    }\n",
              "</style>\n",
              "<table border=\"1\" class=\"dataframe\">\n",
              "  <thead>\n",
              "    <tr style=\"text-align: right;\">\n",
              "      <th></th>\n",
              "      <th>Label</th>\n",
              "      <th>Combined3_12_25</th>\n",
              "    </tr>\n",
              "  </thead>\n",
              "  <tbody>\n",
              "    <tr>\n",
              "      <th>0</th>\n",
              "      <td>0.0</td>\n",
              "      <td>[\"b'Russia Today: Columns of troops roll into ...</td>\n",
              "    </tr>\n",
              "    <tr>\n",
              "      <th>1</th>\n",
              "      <td>0.0</td>\n",
              "      <td>['b\"Jewish Georgian minister: Thanks to Israel...</td>\n",
              "    </tr>\n",
              "    <tr>\n",
              "      <th>2</th>\n",
              "      <td>1.0</td>\n",
              "      <td>['b\\'\"If we had no sexual harassment we would ...</td>\n",
              "    </tr>\n",
              "    <tr>\n",
              "      <th>3</th>\n",
              "      <td>1.0</td>\n",
              "      <td>[\"b' Israel clears troops who killed Reuters c...</td>\n",
              "    </tr>\n",
              "    <tr>\n",
              "      <th>4</th>\n",
              "      <td>0.0</td>\n",
              "      <td>[\"b'Swedish wrestler Ara Abrahamian throws awa...</td>\n",
              "    </tr>\n",
              "  </tbody>\n",
              "</table>\n",
              "</div>"
            ],
            "text/plain": [
              "   Label                                    Combined3_12_25\n",
              "0    0.0  [\"b'Russia Today: Columns of troops roll into ...\n",
              "1    0.0  ['b\"Jewish Georgian minister: Thanks to Israel...\n",
              "2    1.0  ['b\\'\"If we had no sexual harassment we would ...\n",
              "3    1.0  [\"b' Israel clears troops who killed Reuters c...\n",
              "4    0.0  [\"b'Swedish wrestler Ara Abrahamian throws awa..."
            ]
          },
          "metadata": {
            "tags": []
          },
          "execution_count": 71
        }
      ]
    },
    {
      "cell_type": "code",
      "metadata": {
        "id": "KZtNlqYRFfXT",
        "colab_type": "code",
        "colab": {
          "base_uri": "https://localhost:8080/",
          "height": 306
        },
        "outputId": "bfab65bc-942b-47c7-cb1c-3dc74c533b83"
      },
      "source": [
        "#test data\n",
        "test=df.loc[(pd.to_datetime(df[\"Date\"]) > date(2014,12,31)),['Label','Combined3_12_25']]\n",
        "test.tail()"
      ],
      "execution_count": 72,
      "outputs": [
        {
          "output_type": "stream",
          "text": [
            "/usr/local/lib/python3.6/dist-packages/ipykernel_launcher.py:1: FutureWarning: Comparing Series of datetimes with 'datetime.date'.  Currently, the\n",
            "'datetime.date' is coerced to a datetime. In the future pandas will\n",
            "not coerce, and a TypeError will be raised. To retain the current\n",
            "behavior, convert the 'datetime.date' to a datetime with\n",
            "'pd.Timestamp'.\n",
            "  \"\"\"Entry point for launching an IPython kernel.\n"
          ],
          "name": "stderr"
        },
        {
          "output_type": "execute_result",
          "data": {
            "text/html": [
              "<div>\n",
              "<style scoped>\n",
              "    .dataframe tbody tr th:only-of-type {\n",
              "        vertical-align: middle;\n",
              "    }\n",
              "\n",
              "    .dataframe tbody tr th {\n",
              "        vertical-align: top;\n",
              "    }\n",
              "\n",
              "    .dataframe thead th {\n",
              "        text-align: right;\n",
              "    }\n",
              "</style>\n",
              "<table border=\"1\" class=\"dataframe\">\n",
              "  <thead>\n",
              "    <tr style=\"text-align: right;\">\n",
              "      <th></th>\n",
              "      <th>Label</th>\n",
              "      <th>Combined3_12_25</th>\n",
              "    </tr>\n",
              "  </thead>\n",
              "  <tbody>\n",
              "    <tr>\n",
              "      <th>1982</th>\n",
              "      <td>0.0</td>\n",
              "      <td>['Report: China is still harvesting organs fro...</td>\n",
              "    </tr>\n",
              "    <tr>\n",
              "      <th>1983</th>\n",
              "      <td>1.0</td>\n",
              "      <td>['Nicola Sturgeon says a second independence r...</td>\n",
              "    </tr>\n",
              "    <tr>\n",
              "      <th>1984</th>\n",
              "      <td>1.0</td>\n",
              "      <td>[\"Poland 'shocked' by xenophobic abuse of Pole...</td>\n",
              "    </tr>\n",
              "    <tr>\n",
              "      <th>1985</th>\n",
              "      <td>1.0</td>\n",
              "      <td>[\"S&amp;amp;P cuts United Kingdom sovereign credit...</td>\n",
              "    </tr>\n",
              "    <tr>\n",
              "      <th>1986</th>\n",
              "      <td>1.0</td>\n",
              "      <td>['UK must accept freedom of movement to access...</td>\n",
              "    </tr>\n",
              "  </tbody>\n",
              "</table>\n",
              "</div>"
            ],
            "text/plain": [
              "      Label                                    Combined3_12_25\n",
              "1982    0.0  ['Report: China is still harvesting organs fro...\n",
              "1983    1.0  ['Nicola Sturgeon says a second independence r...\n",
              "1984    1.0  [\"Poland 'shocked' by xenophobic abuse of Pole...\n",
              "1985    1.0  [\"S&amp;P cuts United Kingdom sovereign credit...\n",
              "1986    1.0  ['UK must accept freedom of movement to access..."
            ]
          },
          "metadata": {
            "tags": []
          },
          "execution_count": 72
        }
      ]
    },
    {
      "cell_type": "code",
      "metadata": {
        "id": "Kxd0WaDJFfUv",
        "colab_type": "code",
        "colab": {
          "base_uri": "https://localhost:8080/",
          "height": 277
        },
        "outputId": "f7dbd193-42f1-409a-b3f1-2c166bb16beb"
      },
      "source": [
        "#no changes in the pipeline. We just use other data sets\n",
        "#Combined Top3, Top12 and Top25, 3-days shift\n",
        "bnb_2ngram_pipeline.fit(train['Combined3_12_25'],train['Label'])\n",
        "predictions = bnb_2ngram_pipeline.predict(test['Combined3_12_25'])\n",
        "Evaluation ('BernoulliNB(alpha=0.5,binarize=0.0)','2-days shift, ngram_range=(1, 2),Combined Top3,top12 and Top25',test[\"Label\"], predictions)"
      ],
      "execution_count": 73,
      "outputs": [
        {
          "output_type": "stream",
          "text": [
            "BernoulliNB(alpha=0.5,binarize=0.0)\n",
            "2-days shift, ngram_range=(1, 2),Combined Top3,top12 and Top25\n",
            "              precision    recall  f1-score   support\n",
            "\n",
            "         0.0       0.61      0.50      0.55       185\n",
            "         1.0       0.58      0.69      0.63       191\n",
            "\n",
            "    accuracy                           0.59       376\n",
            "   macro avg       0.60      0.59      0.59       376\n",
            "weighted avg       0.59      0.59      0.59       376\n",
            "\n",
            "Confussion matrix:\n",
            " [[ 92  93]\n",
            " [ 60 131]]\n",
            "ROC-AUC: 0.5915805858214235\n"
          ],
          "name": "stdout"
        }
      ]
    },
    {
      "cell_type": "code",
      "metadata": {
        "id": "8IN69wnBFfQB",
        "colab_type": "code",
        "colab": {
          "base_uri": "https://localhost:8080/",
          "height": 312
        },
        "outputId": "ee0bc295-9b6e-48e1-9997-2627fb87ce1f"
      },
      "source": [
        "ROCCurves (test[\"Label\"], predictions)"
      ],
      "execution_count": 74,
      "outputs": [
        {
          "output_type": "stream",
          "text": [
            "/usr/local/lib/python3.6/dist-packages/ipykernel_launcher.py:30: DeprecationWarning: scipy.interp is deprecated and will be removed in SciPy 2.0.0, use numpy.interp instead\n"
          ],
          "name": "stderr"
        },
        {
          "output_type": "display_data",
          "data": {
            "image/png": "[encoded data removed]",
            "text/plain": [
              "<Figure size 432x288 with 1 Axes>"
            ]
          },
          "metadata": {
            "tags": []
          }
        }
      ]
    },
    {
      "cell_type": "code",
      "metadata": {
        "id": "U1731fqfElk_",
        "colab_type": "code",
        "colab": {}
      },
      "source": [
        "#let's shift the data and explore Top1 and Top6 combination for 3 days shift\n",
        "df.Label = df.Label.shift(-1)\n",
        "df.drop(df.index[len(df)-1], inplace=True)"
      ],
      "execution_count": 0,
      "outputs": []
    },
    {
      "cell_type": "code",
      "metadata": {
        "id": "0uf56ZhYFqPn",
        "colab_type": "code",
        "colab": {}
      },
      "source": [
        "#Combination 1 and 6\n",
        "df['Combined1_6']=df.iloc[:,[2,7]].apply(lambda row: ''.join(str(row.values)), axis=1)"
      ],
      "execution_count": 0,
      "outputs": []
    },
    {
      "cell_type": "code",
      "metadata": {
        "id": "v7Ihuv0mFqhl",
        "colab_type": "code",
        "colab": {
          "base_uri": "https://localhost:8080/",
          "height": 306
        },
        "outputId": "0fb3b790-5cbb-4fe8-8610-32bfa4fd9e3f"
      },
      "source": [
        "#train data\n",
        "train=df.loc[(pd.to_datetime(df[\"Date\"]) <= date(2014,12,31)),['Label','Combined1_6']]\n",
        "train.head()"
      ],
      "execution_count": 84,
      "outputs": [
        {
          "output_type": "stream",
          "text": [
            "/usr/local/lib/python3.6/dist-packages/ipykernel_launcher.py:1: FutureWarning: Comparing Series of datetimes with 'datetime.date'.  Currently, the\n",
            "'datetime.date' is coerced to a datetime. In the future pandas will\n",
            "not coerce, and a TypeError will be raised. To retain the current\n",
            "behavior, convert the 'datetime.date' to a datetime with\n",
            "'pd.Timestamp'.\n",
            "  \"\"\"Entry point for launching an IPython kernel.\n"
          ],
          "name": "stderr"
        },
        {
          "output_type": "execute_result",
          "data": {
            "text/html": [
              "<div>\n",
              "<style scoped>\n",
              "    .dataframe tbody tr th:only-of-type {\n",
              "        vertical-align: middle;\n",
              "    }\n",
              "\n",
              "    .dataframe tbody tr th {\n",
              "        vertical-align: top;\n",
              "    }\n",
              "\n",
              "    .dataframe thead th {\n",
              "        text-align: right;\n",
              "    }\n",
              "</style>\n",
              "<table border=\"1\" class=\"dataframe\">\n",
              "  <thead>\n",
              "    <tr style=\"text-align: right;\">\n",
              "      <th></th>\n",
              "      <th>Label</th>\n",
              "      <th>Combined1_6</th>\n",
              "    </tr>\n",
              "  </thead>\n",
              "  <tbody>\n",
              "    <tr>\n",
              "      <th>0</th>\n",
              "      <td>1.0</td>\n",
              "      <td>['b\"Georgia \\'downs two Russian warplanes\\' as...</td>\n",
              "    </tr>\n",
              "    <tr>\n",
              "      <th>1</th>\n",
              "      <td>1.0</td>\n",
              "      <td>[\"b'Why wont America and Nato help us? If they...</td>\n",
              "    </tr>\n",
              "    <tr>\n",
              "      <th>2</th>\n",
              "      <td>0.0</td>\n",
              "      <td>[\"b'Remember that adorable 9-year-old who sang...</td>\n",
              "    </tr>\n",
              "    <tr>\n",
              "      <th>3</th>\n",
              "      <td>0.0</td>\n",
              "      <td>[\"b' U.S. refuses Israel weapons to attack Ira...</td>\n",
              "    </tr>\n",
              "    <tr>\n",
              "      <th>4</th>\n",
              "      <td>1.0</td>\n",
              "      <td>[\"b'All the experts admit that we should legal...</td>\n",
              "    </tr>\n",
              "  </tbody>\n",
              "</table>\n",
              "</div>"
            ],
            "text/plain": [
              "   Label                                        Combined1_6\n",
              "0    1.0  ['b\"Georgia \\'downs two Russian warplanes\\' as...\n",
              "1    1.0  [\"b'Why wont America and Nato help us? If they...\n",
              "2    0.0  [\"b'Remember that adorable 9-year-old who sang...\n",
              "3    0.0  [\"b' U.S. refuses Israel weapons to attack Ira...\n",
              "4    1.0  [\"b'All the experts admit that we should legal..."
            ]
          },
          "metadata": {
            "tags": []
          },
          "execution_count": 84
        }
      ]
    },
    {
      "cell_type": "code",
      "metadata": {
        "id": "GahpTM0SFqeQ",
        "colab_type": "code",
        "colab": {
          "base_uri": "https://localhost:8080/",
          "height": 306
        },
        "outputId": "d2b62065-28b3-4067-b1bd-4fcb6a190f4a"
      },
      "source": [
        "#test data\n",
        "test=df.loc[(pd.to_datetime(df[\"Date\"]) > date(2014,12,31)),['Label','Combined1_6']]\n",
        "test.tail()"
      ],
      "execution_count": 85,
      "outputs": [
        {
          "output_type": "stream",
          "text": [
            "/usr/local/lib/python3.6/dist-packages/ipykernel_launcher.py:1: FutureWarning: Comparing Series of datetimes with 'datetime.date'.  Currently, the\n",
            "'datetime.date' is coerced to a datetime. In the future pandas will\n",
            "not coerce, and a TypeError will be raised. To retain the current\n",
            "behavior, convert the 'datetime.date' to a datetime with\n",
            "'pd.Timestamp'.\n",
            "  \"\"\"Entry point for launching an IPython kernel.\n"
          ],
          "name": "stderr"
        },
        {
          "output_type": "execute_result",
          "data": {
            "text/html": [
              "<div>\n",
              "<style scoped>\n",
              "    .dataframe tbody tr th:only-of-type {\n",
              "        vertical-align: middle;\n",
              "    }\n",
              "\n",
              "    .dataframe tbody tr th {\n",
              "        vertical-align: top;\n",
              "    }\n",
              "\n",
              "    .dataframe thead th {\n",
              "        text-align: right;\n",
              "    }\n",
              "</style>\n",
              "<table border=\"1\" class=\"dataframe\">\n",
              "  <thead>\n",
              "    <tr style=\"text-align: right;\">\n",
              "      <th></th>\n",
              "      <th>Label</th>\n",
              "      <th>Combined1_6</th>\n",
              "    </tr>\n",
              "  </thead>\n",
              "  <tbody>\n",
              "    <tr>\n",
              "      <th>1980</th>\n",
              "      <td>0.0</td>\n",
              "      <td>['An Australian athlete who has competed in si...</td>\n",
              "    </tr>\n",
              "    <tr>\n",
              "      <th>1981</th>\n",
              "      <td>1.0</td>\n",
              "      <td>['German government agrees to ban fracking ind...</td>\n",
              "    </tr>\n",
              "    <tr>\n",
              "      <th>1982</th>\n",
              "      <td>1.0</td>\n",
              "      <td>['Today The United Kingdom decides whether to ...</td>\n",
              "    </tr>\n",
              "    <tr>\n",
              "      <th>1983</th>\n",
              "      <td>1.0</td>\n",
              "      <td>['David Cameron to Resign as PM After EU Refer...</td>\n",
              "    </tr>\n",
              "    <tr>\n",
              "      <th>1984</th>\n",
              "      <td>1.0</td>\n",
              "      <td>['Barclays and RBS shares suspended from tradi...</td>\n",
              "    </tr>\n",
              "  </tbody>\n",
              "</table>\n",
              "</div>"
            ],
            "text/plain": [
              "      Label                                        Combined1_6\n",
              "1980    0.0  ['An Australian athlete who has competed in si...\n",
              "1981    1.0  ['German government agrees to ban fracking ind...\n",
              "1982    1.0  ['Today The United Kingdom decides whether to ...\n",
              "1983    1.0  ['David Cameron to Resign as PM After EU Refer...\n",
              "1984    1.0  ['Barclays and RBS shares suspended from tradi..."
            ]
          },
          "metadata": {
            "tags": []
          },
          "execution_count": 85
        }
      ]
    },
    {
      "cell_type": "code",
      "metadata": {
        "id": "DUzfPWDnFqbr",
        "colab_type": "code",
        "colab": {
          "base_uri": "https://localhost:8080/",
          "height": 277
        },
        "outputId": "1cdec2a5-669c-4fcb-d8fb-47aa045bdd62"
      },
      "source": [
        "#no changes in the pipeline. We just use other data sets\n",
        "#Combined Top1 and Top6, 3-days shift\n",
        "bnb_2ngram_pipeline.fit(train['Combined1_6'],train['Label'])\n",
        "predictions = bnb_2ngram_pipeline.predict(test['Combined1_6'])\n",
        "Evaluation ('BernoulliNB(alpha=0.5,binarize=0.0)','3-days shift, ngram_range=(1, 2),Combined Top1 and Top6',test[\"Label\"], predictions)"
      ],
      "execution_count": 86,
      "outputs": [
        {
          "output_type": "stream",
          "text": [
            "BernoulliNB(alpha=0.5,binarize=0.0)\n",
            "3-days shift, ngram_range=(1, 2),Combined Top1 and Top6\n",
            "              precision    recall  f1-score   support\n",
            "\n",
            "         0.0       0.49      0.41      0.45       184\n",
            "         1.0       0.51      0.59      0.55       190\n",
            "\n",
            "    accuracy                           0.50       374\n",
            "   macro avg       0.50      0.50      0.50       374\n",
            "weighted avg       0.50      0.50      0.50       374\n",
            "\n",
            "Confussion matrix:\n",
            " [[ 75 109]\n",
            " [ 77 113]]\n",
            "ROC-AUC: 0.5011727688787185\n"
          ],
          "name": "stdout"
        }
      ]
    },
    {
      "cell_type": "code",
      "metadata": {
        "id": "SIlSfmSyFqYq",
        "colab_type": "code",
        "colab": {
          "base_uri": "https://localhost:8080/",
          "height": 312
        },
        "outputId": "4be4c0f1-1632-4dd5-ca2f-cdaa6e2bc8f0"
      },
      "source": [
        "ROCCurves (test[\"Label\"], predictions)"
      ],
      "execution_count": 87,
      "outputs": [
        {
          "output_type": "stream",
          "text": [
            "/usr/local/lib/python3.6/dist-packages/ipykernel_launcher.py:30: DeprecationWarning: scipy.interp is deprecated and will be removed in SciPy 2.0.0, use numpy.interp instead\n"
          ],
          "name": "stderr"
        },
        {
          "output_type": "display_data",
          "data": {
            "image/png": "[encoded data removed]",
            "text/plain": [
              "<Figure size 432x288 with 1 Axes>"
            ]
          },
          "metadata": {
            "tags": []
          }
        }
      ]
    },
    {
      "cell_type": "code",
      "metadata": {
        "id": "Z-zDHJH7Fz1Y",
        "colab_type": "code",
        "outputId": "00428a0b-6933-47fd-bdf8-bef136a7df31",
        "colab": {
          "base_uri": "https://localhost:8080/",
          "height": 448
        }
      },
      "source": [
        "df_ScoreSummaryByMethod=DataFrame(ScoreSummaryByMethod,columns=['Method','Comment','ROC_AUC','Precision','Accuracy','Recall','F1'])\n",
        "df_ScoreSummaryByMethod.sort_values(['ROC_AUC'],ascending=False,inplace=True)\n",
        "df_ScoreSummaryByMethod.head(20) "
      ],
      "execution_count": 88,
      "outputs": [
        {
          "output_type": "execute_result",
          "data": {
            "text/html": [
              "<div>\n",
              "<style scoped>\n",
              "    .dataframe tbody tr th:only-of-type {\n",
              "        vertical-align: middle;\n",
              "    }\n",
              "\n",
              "    .dataframe tbody tr th {\n",
              "        vertical-align: top;\n",
              "    }\n",
              "\n",
              "    .dataframe thead th {\n",
              "        text-align: right;\n",
              "    }\n",
              "</style>\n",
              "<table border=\"1\" class=\"dataframe\">\n",
              "  <thead>\n",
              "    <tr style=\"text-align: right;\">\n",
              "      <th></th>\n",
              "      <th>Method</th>\n",
              "      <th>Comment</th>\n",
              "      <th>ROC_AUC</th>\n",
              "      <th>Precision</th>\n",
              "      <th>Accuracy</th>\n",
              "      <th>Recall</th>\n",
              "      <th>F1</th>\n",
              "    </tr>\n",
              "  </thead>\n",
              "  <tbody>\n",
              "    <tr>\n",
              "      <th>10</th>\n",
              "      <td>BernoulliNB(alpha=0.5,binarize=0.0)</td>\n",
              "      <td>2-days shift, ngram_range=(1, 2),Combined Top3...</td>\n",
              "      <td>0.591581</td>\n",
              "      <td>0.584821</td>\n",
              "      <td>0.593085</td>\n",
              "      <td>0.685864</td>\n",
              "      <td>0.631325</td>\n",
              "    </tr>\n",
              "    <tr>\n",
              "      <th>9</th>\n",
              "      <td>BernoulliNB(alpha=0.5,binarize=0.0)</td>\n",
              "      <td>no shift, ngram_range=(1, 2),Combined Top10 an...</td>\n",
              "      <td>0.587702</td>\n",
              "      <td>0.576132</td>\n",
              "      <td>0.589947</td>\n",
              "      <td>0.729167</td>\n",
              "      <td>0.643678</td>\n",
              "    </tr>\n",
              "    <tr>\n",
              "      <th>8</th>\n",
              "      <td>BernoulliNB(alpha=0.5,binarize=0.0)</td>\n",
              "      <td>no shift, ngram_range=(1, 2),Combined Top12 an...</td>\n",
              "      <td>0.572665</td>\n",
              "      <td>0.569507</td>\n",
              "      <td>0.574074</td>\n",
              "      <td>0.661458</td>\n",
              "      <td>0.612048</td>\n",
              "    </tr>\n",
              "    <tr>\n",
              "      <th>5</th>\n",
              "      <td>BernoulliNB(alpha=0.0,binarize=0.0)</td>\n",
              "      <td>1-day shift, ngram_range=(1, 2), combined Top ...</td>\n",
              "      <td>0.565658</td>\n",
              "      <td>0.561702</td>\n",
              "      <td>0.568000</td>\n",
              "      <td>0.691099</td>\n",
              "      <td>0.619718</td>\n",
              "    </tr>\n",
              "    <tr>\n",
              "      <th>11</th>\n",
              "      <td>BernoulliNB(alpha=0.5,binarize=0.0)</td>\n",
              "      <td>3-days shift, ngram_range=(1, 2),Combined Top1...</td>\n",
              "      <td>0.560124</td>\n",
              "      <td>0.556485</td>\n",
              "      <td>0.562667</td>\n",
              "      <td>0.696335</td>\n",
              "      <td>0.618605</td>\n",
              "    </tr>\n",
              "    <tr>\n",
              "      <th>4</th>\n",
              "      <td>BernoulliNB(alpha=0.5,binarize=0.0)</td>\n",
              "      <td>3-days shift, ngram_range=(1, 2), combined Top...</td>\n",
              "      <td>0.551872</td>\n",
              "      <td>0.549180</td>\n",
              "      <td>0.554667</td>\n",
              "      <td>0.701571</td>\n",
              "      <td>0.616092</td>\n",
              "    </tr>\n",
              "    <tr>\n",
              "      <th>7</th>\n",
              "      <td>BernoulliNB(alpha=0.5,binarize=0.0)</td>\n",
              "      <td>no shift, ngram_range=(1, 2),Top1 only</td>\n",
              "      <td>0.508989</td>\n",
              "      <td>0.515419</td>\n",
              "      <td>0.510582</td>\n",
              "      <td>0.609375</td>\n",
              "      <td>0.558473</td>\n",
              "    </tr>\n",
              "    <tr>\n",
              "      <th>3</th>\n",
              "      <td>BernoulliNB(alpha=0.0,binarize=0.0)</td>\n",
              "      <td>1-day shift, ngram_range=(1, 2), combined Top ...</td>\n",
              "      <td>0.504704</td>\n",
              "      <td>0.511278</td>\n",
              "      <td>0.507937</td>\n",
              "      <td>0.708333</td>\n",
              "      <td>0.593886</td>\n",
              "    </tr>\n",
              "    <tr>\n",
              "      <th>12</th>\n",
              "      <td>BernoulliNB(alpha=0.5,binarize=0.0)</td>\n",
              "      <td>3-days shift, ngram_range=(1, 2),Combined Top1...</td>\n",
              "      <td>0.501173</td>\n",
              "      <td>0.509009</td>\n",
              "      <td>0.502674</td>\n",
              "      <td>0.594737</td>\n",
              "      <td>0.548544</td>\n",
              "    </tr>\n",
              "    <tr>\n",
              "      <th>0</th>\n",
              "      <td>MultinomialNB</td>\n",
              "      <td>no shift, no n-grams, combined Top news</td>\n",
              "      <td>0.500000</td>\n",
              "      <td>0.507937</td>\n",
              "      <td>0.507937</td>\n",
              "      <td>1.000000</td>\n",
              "      <td>0.673684</td>\n",
              "    </tr>\n",
              "    <tr>\n",
              "      <th>1</th>\n",
              "      <td>MultinomialNB</td>\n",
              "      <td>no shift, no n-grams, combined Top news</td>\n",
              "      <td>0.500000</td>\n",
              "      <td>0.507937</td>\n",
              "      <td>0.507937</td>\n",
              "      <td>1.000000</td>\n",
              "      <td>0.673684</td>\n",
              "    </tr>\n",
              "    <tr>\n",
              "      <th>2</th>\n",
              "      <td>BernoulliNB(binarize=0.0)</td>\n",
              "      <td>default alpha=1,no shift, ngram_range=(1, 2), ...</td>\n",
              "      <td>0.500000</td>\n",
              "      <td>0.507937</td>\n",
              "      <td>0.507937</td>\n",
              "      <td>1.000000</td>\n",
              "      <td>0.673684</td>\n",
              "    </tr>\n",
              "    <tr>\n",
              "      <th>6</th>\n",
              "      <td>BernoulliNB(alpha=0.5,binarize=0.0)</td>\n",
              "      <td>3-days shift, ngram_range=(1, 2), combined Top...</td>\n",
              "      <td>0.497383</td>\n",
              "      <td>0.504505</td>\n",
              "      <td>0.498660</td>\n",
              "      <td>0.592593</td>\n",
              "      <td>0.545012</td>\n",
              "    </tr>\n",
              "  </tbody>\n",
              "</table>\n",
              "</div>"
            ],
            "text/plain": [
              "                                 Method  ...        F1\n",
              "10  BernoulliNB(alpha=0.5,binarize=0.0)  ...  0.631325\n",
              "9   BernoulliNB(alpha=0.5,binarize=0.0)  ...  0.643678\n",
              "8   BernoulliNB(alpha=0.5,binarize=0.0)  ...  0.612048\n",
              "5   BernoulliNB(alpha=0.0,binarize=0.0)  ...  0.619718\n",
              "11  BernoulliNB(alpha=0.5,binarize=0.0)  ...  0.618605\n",
              "4   BernoulliNB(alpha=0.5,binarize=0.0)  ...  0.616092\n",
              "7   BernoulliNB(alpha=0.5,binarize=0.0)  ...  0.558473\n",
              "3   BernoulliNB(alpha=0.0,binarize=0.0)  ...  0.593886\n",
              "12  BernoulliNB(alpha=0.5,binarize=0.0)  ...  0.548544\n",
              "0                         MultinomialNB  ...  0.673684\n",
              "1                         MultinomialNB  ...  0.673684\n",
              "2             BernoulliNB(binarize=0.0)  ...  0.673684\n",
              "6   BernoulliNB(alpha=0.5,binarize=0.0)  ...  0.545012\n",
              "\n",
              "[13 rows x 7 columns]"
            ]
          },
          "metadata": {
            "tags": []
          },
          "execution_count": 88
        }
      ]
    },
    {
      "cell_type": "code",
      "metadata": {
        "id": "e11Zad50Fzyn",
        "colab_type": "code",
        "colab": {}
      },
      "source": [
        ""
      ],
      "execution_count": 0,
      "outputs": []
    },
    {
      "cell_type": "code",
      "metadata": {
        "id": "knqjZU-fFzvf",
        "colab_type": "code",
        "colab": {}
      },
      "source": [
        ""
      ],
      "execution_count": 0,
      "outputs": []
    },
    {
      "cell_type": "code",
      "metadata": {
        "id": "199Tfi_oFzse",
        "colab_type": "code",
        "colab": {}
      },
      "source": [
        ""
      ],
      "execution_count": 0,
      "outputs": []
    },
    {
      "cell_type": "code",
      "metadata": {
        "id": "uPjyDZ0cFqWB",
        "colab_type": "code",
        "colab": {}
      },
      "source": [
        ""
      ],
      "execution_count": 0,
      "outputs": []
    }
  ]
}