{
  "nbformat": 4,
  "nbformat_minor": 0,
  "metadata": {
    "accelerator": "GPU",
    "colab": {
      "name": "Introduction_to_Neural_Networks_and_Deep_Learning_R7_INN_Project2_Arjun.ipynb",
      "provenance": [],
      "collapsed_sections": [],
      "toc_visible": true
    },
    "kernelspec": {
      "name": "python3",
      "display_name": "Python 3"
    },
    "language_info": {
      "codemirror_mode": {
        "name": "ipython",
        "version": 3
      },
      "file_extension": ".py",
      "mimetype": "text/x-python",
      "name": "python",
      "nbconvert_exporter": "python",
      "pygments_lexer": "ipython3",
      "version": "3.7.3"
    }
  },
  "cells": [
    {
      "cell_type": "code",
      "metadata": {
        "colab_type": "code",
        "id": "pVGwVmDDmQrp",
        "outputId": "9b802ae8-c02e-4e0a-d249-94febe3a84ef",
        "colab": {
          "base_uri": "https://localhost:8080/",
          "height": 82
        }
      },
      "source": [
        "# Importing libraries \n",
        "import sys\n",
        "import h5py\n",
        "import warnings\n",
        "from time import time\n",
        "import numpy as np\n",
        "import pandas as pd\n",
        "import matplotlib.pyplot as plt\n",
        "import seaborn as sns\n",
        "\n",
        "# Conventional ML Model Libraries\n",
        "from sklearn.neighbors import KNeighborsClassifier\n",
        "from sklearn.model_selection import train_test_split\n",
        "from sklearn.metrics import accuracy_score, confusion_matrix, classification_report\n",
        "\n",
        "# Neural Network Libraries\n",
        "from tensorflow.keras import utils, losses, optimizers, callbacks\n",
        "from tensorflow.keras.models import Sequential\n",
        "from tensorflow.keras.layers import Dropout, ReLU, Dense, BatchNormalization   "
      ],
      "execution_count": 1,
      "outputs": [
        {
          "output_type": "display_data",
          "data": {
            "text/html": [
              "<p style=\"color: red;\">\n",
              "The default version of TensorFlow in Colab will soon switch to TensorFlow 2.x.<br>\n",
              "We recommend you <a href=\"https://www.tensorflow.org/guide/migrate\" target=\"_blank\">upgrade</a> now \n",
              "or ensure your notebook will continue to use TensorFlow 1.x via the <code>%tensorflow_version 1.x</code> magic:\n",
              "<a href=\"https://colab.research.google.com/notebooks/tensorflow_version.ipynb\" target=\"_blank\">more info</a>.</p>\n"
            ],
            "text/plain": [
              "<IPython.core.display.HTML object>"
            ]
          },
          "metadata": {
            "tags": []
          }
        }
      ]
    },
    {
      "cell_type": "code",
      "metadata": {
        "colab_type": "code",
        "id": "lPBVP8nahMTi",
        "colab": {}
      },
      "source": [
        "# Configuring for any default setting of any library\n",
        "np.random.seed(5)\n",
        "warnings.filterwarnings('ignore')\n",
        "%matplotlib inline\n",
        "pd.set_option('display.float_format', lambda x: '%.3f' % x)"
      ],
      "execution_count": 0,
      "outputs": []
    },
    {
      "cell_type": "markdown",
      "metadata": {
        "colab_type": "text",
        "id": "Im4KwN9GhMTj"
      },
      "source": [
        "**Loading and Visualising the data** "
      ]
    },
    {
      "cell_type": "code",
      "metadata": {
        "colab_type": "code",
        "id": "mieYAQy7mx1z",
        "outputId": "00e99c2b-74d5-49a6-dca4-fa6222196cf7",
        "colab": {
          "base_uri": "https://localhost:8080/",
          "height": 129
        }
      },
      "source": [
        "svhn_file = 'SVHN_single_grey1.h5'\n",
        "if 'google.colab' in sys.modules:    \n",
        "    # Google Colab lib\n",
        "    from google.colab import drive\n",
        "    # Mount the drive\n",
        "    drive.mount('/content/drive/')\n",
        "    # Open the drive file as read only\n",
        "    svhn = h5py.File('/content/drive/My Drive/' + svhn_file, 'r')\n",
        "    \n",
        "else:\n",
        "    # Open the local file as read only\n",
        "    svhn = h5py.File(svhn_file, 'r')"
      ],
      "execution_count": 3,
      "outputs": [
        {
          "output_type": "stream",
          "text": [
            "Go to this URL in a browser: https://accounts.google.com/o/oauth2/auth?client_id=947318989803-6bn6qk8qdgf4n4g3pfee6491hc0brc4i.apps.googleusercontent.com&redirect_uri=urn%3aietf%3awg%3aoauth%3a2.0%3aoob&response_type=code&scope=email%20https%3a%2f%2fwww.googleapis.com%2fauth%2fdocs.test%20https%3a%2f%2fwww.googleapis.com%2fauth%2fdrive%20https%3a%2f%2fwww.googleapis.com%2fauth%2fdrive.photos.readonly%20https%3a%2f%2fwww.googleapis.com%2fauth%2fpeopleapi.readonly\n",
            "\n",
            "Enter your authorization code:\n",
            "··········\n",
            "Mounted at /content/drive/\n"
          ],
          "name": "stdout"
        }
      ]
    },
    {
      "cell_type": "code",
      "metadata": {
        "colab_type": "code",
        "id": "cOcxdQGrmQrt",
        "outputId": "ff150986-f3cd-4f3f-b14b-a6471a9f8962",
        "colab": {
          "base_uri": "https://localhost:8080/",
          "height": 146
        }
      },
      "source": [
        "# Load the training, validation and test sets\n",
        "X_train_df = svhn['X_train'][:]\n",
        "X_test_df = svhn['X_test'][:]\n",
        "X_val_df = svhn['X_val'][:]\n",
        "y_train_df = svhn['y_train'][:]\n",
        "y_test_df = svhn['y_test'][:]\n",
        "y_val_df = svhn['y_val'][:]\n",
        "\n",
        "print('Shape of different datasets are:')\n",
        "print('X_train :', X_train_df.shape)\n",
        "print('X_test  :', X_test_df.shape)\n",
        "print('X_val   :', X_val_df.shape)\n",
        "print('y_train :', y_train_df.shape)\n",
        "print('y_test  :', y_test_df.shape)\n",
        "print('y_val   :', y_val_df.shape)"
      ],
      "execution_count": 4,
      "outputs": [
        {
          "output_type": "stream",
          "text": [
            "Shape of different datasets are:\n",
            "X_train : (42000, 32, 32)\n",
            "X_test  : (18000, 32, 32)\n",
            "X_val   : (60000, 32, 32)\n",
            "y_train : (42000,)\n",
            "y_test  : (18000,)\n",
            "y_val   : (60000,)\n"
          ],
          "name": "stdout"
        }
      ]
    },
    {
      "cell_type": "code",
      "metadata": {
        "colab_type": "code",
        "id": "eCOshPWgmQrw",
        "outputId": "6003e53d-774c-41bc-ba1a-d742a6d560eb",
        "colab": {
          "base_uri": "https://localhost:8080/",
          "height": 96
        }
      },
      "source": [
        "# Visualizing the first 15 images in the dataset and their labels\n",
        "print('Labels corresponding to below images: %s' % (y_train_df[0:15]))\n",
        "plt.figure(figsize=(15, 1))\n",
        "for i in range(15):\n",
        "    plt.subplot(1, 15, i+1)\n",
        "    plt.imshow(X_train_df[i], cmap=\"gray\")\n",
        "    plt.axis('off')"
      ],
      "execution_count": 5,
      "outputs": [
        {
          "output_type": "stream",
          "text": [
            "Labels corresponding to below images: [2 6 7 4 4 0 3 0 7 3 1 0 1 3 1]\n"
          ],
          "name": "stdout"
        },
        {
          "output_type": "display_data",
          "data": {
            "image/png": "[encoded data removed]",
            "text/plain": [
              "<Figure size 1080x72 with 15 Axes>"
            ]
          },
          "metadata": {
            "tags": []
          }
        }
      ]
    },
    {
      "cell_type": "markdown",
      "metadata": {
        "colab_type": "text",
        "id": "b0Xw2fvUhMTq"
      },
      "source": [
        "**Preprocessing the Image**"
      ]
    },
    {
      "cell_type": "code",
      "metadata": {
        "colab_type": "code",
        "id": "XsW0gJgJhMTr",
        "outputId": "2b8fed6f-5da5-459f-dd09-f88f7641606c",
        "colab": {
          "base_uri": "https://localhost:8080/",
          "height": 90
        }
      },
      "source": [
        "# Flatten the X_* datasets\n",
        "X_train_flatten = X_train_df.reshape(X_train_df.shape[0], X_train_df.shape[1] * X_train_df.shape[2]).astype('float32')\n",
        "X_test_flatten = X_test_df.reshape(X_test_df.shape[0], X_test_df.shape[1] * X_test_df.shape[2]).astype('float32')\n",
        "X_val_flatten = X_val_df.reshape(X_val_df.shape[0], X_val_df.shape[1] * X_val_df.shape[2]).astype('float32')\n",
        "\n",
        "print('Shape after flattening:')\n",
        "print('X_train :', X_train_flatten.shape)\n",
        "print('X_test  :', X_test_flatten.shape)\n",
        "print('X_val   :', X_val_flatten.shape)"
      ],
      "execution_count": 6,
      "outputs": [
        {
          "output_type": "stream",
          "text": [
            "Shape after flattening:\n",
            "X_train : (42000, 1024)\n",
            "X_test  : (18000, 1024)\n",
            "X_val   : (60000, 1024)\n"
          ],
          "name": "stdout"
        }
      ]
    },
    {
      "cell_type": "code",
      "metadata": {
        "colab_type": "code",
        "id": "efsptn6phMTt",
        "outputId": "37c48884-c39c-4784-fdff-a3aa47dea636",
        "colab": {
          "base_uri": "https://localhost:8080/",
          "height": 146
        }
      },
      "source": [
        "# Normalize the inputs from 0-255 to 0-1\n",
        "X_train = X_train_flatten / 255.0\n",
        "X_test = X_test_flatten / 255.0\n",
        "X_val = X_val_flatten / 255.0\n",
        "\n",
        "print(X_train)"
      ],
      "execution_count": 7,
      "outputs": [
        {
          "output_type": "stream",
          "text": [
            "[[0.12968785 0.11866706 0.10530196 ... 0.19477727 0.19942354 0.20799099]\n",
            " [0.34101608 0.3414451  0.34656274 ... 0.29498273 0.30054745 0.31092745]\n",
            " [0.48284313 0.49356118 0.47872823 ... 0.36837214 0.41093138 0.44637334]\n",
            " ...\n",
            " [0.6042902  0.61100274 0.6149663  ... 0.52993256 0.53592    0.5398412 ]\n",
            " [0.8137075  0.8176286  0.8353796  ... 0.83974785 0.8319055  0.820142  ]\n",
            " [0.37285647 0.37677765 0.39246237 ... 0.5414914  0.5509529  0.5509529 ]]\n"
          ],
          "name": "stdout"
        }
      ]
    },
    {
      "cell_type": "markdown",
      "metadata": {
        "colab_type": "text",
        "id": "VWx0GCSohMTv"
      },
      "source": [
        "**Understanding datatype and distribution of the target classes**"
      ]
    },
    {
      "cell_type": "code",
      "metadata": {
        "colab_type": "code",
        "id": "_FxZuoeGhMTv",
        "outputId": "80e059e8-abfd-4c0a-84a3-3ce5bf5abd27",
        "colab": {
          "base_uri": "https://localhost:8080/",
          "height": 35
        }
      },
      "source": [
        "# Get unique values in target sets\n",
        "np.unique(y_train_df)\n",
        "np.unique(y_test_df)\n",
        "np.unique(y_val_df)"
      ],
      "execution_count": 8,
      "outputs": [
        {
          "output_type": "execute_result",
          "data": {
            "text/plain": [
              "array([0, 1, 2, 3, 4, 5, 6, 7, 8, 9], dtype=uint8)"
            ]
          },
          "metadata": {
            "tags": []
          },
          "execution_count": 8
        }
      ]
    },
    {
      "cell_type": "markdown",
      "metadata": {
        "colab_type": "text",
        "id": "phsKWzr9hMTx"
      },
      "source": [
        "1.   All datasets contain unsigned int8 type target class values 0-9\n",
        "2.   Converting them into categorical and check their distribution.\n"
      ]
    },
    {
      "cell_type": "code",
      "metadata": {
        "colab_type": "code",
        "id": "lN8rIf_1hMT1",
        "outputId": "b9ba96e8-d416-4951-80cb-0e0eb6b5c209",
        "colab": {
          "base_uri": "https://localhost:8080/",
          "height": 90
        }
      },
      "source": [
        "# Apply One-Hot-Encoding\n",
        "y_train = utils.to_categorical(y_train_df)\n",
        "y_test = utils.to_categorical(y_test_df)\n",
        "y_val = utils.to_categorical(y_val_df)\n",
        "\n",
        "print('Shape of different target sets are:')\n",
        "print('y_train :', y_train.shape)\n",
        "print('y_test  :', y_test.shape)\n",
        "print('y_val   :', y_val.shape)"
      ],
      "execution_count": 9,
      "outputs": [
        {
          "output_type": "stream",
          "text": [
            "Shape of different target sets are:\n",
            "y_train : (42000, 10)\n",
            "y_test  : (18000, 10)\n",
            "y_val   : (60000, 10)\n"
          ],
          "name": "stdout"
        }
      ]
    },
    {
      "cell_type": "markdown",
      "metadata": {
        "colab_type": "text",
        "id": "2F8gKrvOmQr0"
      },
      "source": [
        "**K-Nearest Neighbor Model**\n"
      ]
    },
    {
      "cell_type": "code",
      "metadata": {
        "colab_type": "code",
        "id": "0Z4Hg6KsmQr1",
        "colab": {}
      },
      "source": [
        "# Take a subset of the original dataset to estimate for the best k\n",
        "X_train_subset = X_train[:3000]\n",
        "y_train_subset = y_train_df[:3000]\n",
        "X_test_subset = X_test[:1000]\n",
        "y_test_subset = y_test_df[:1000]"
      ],
      "execution_count": 0,
      "outputs": []
    },
    {
      "cell_type": "code",
      "metadata": {
        "colab_type": "code",
        "id": "c2OqR6xNmQr6",
        "outputId": "eba6b85b-1b0a-47df-c614-f145e946d5ef",
        "colab": {
          "base_uri": "https://localhost:8080/",
          "height": 90
        }
      },
      "source": [
        "# Finding accuracy scores for 30 iterations\n",
        "st = time()\n",
        "acc_scores = []\n",
        "for k in range(1,31):\n",
        "    knn = KNeighborsClassifier(n_neighbors=k , weights='uniform', metric='euclidean')\n",
        "    knn.fit(X_train_subset, y_train_subset)\n",
        "    acc_scores.append(accuracy_score(y_test_subset, knn.predict(X_test_subset)) * 100)\n",
        "    \n",
        "print('Time taken:', time()-st)\n",
        "print('Scores out of 30 iterations:', np.round(acc_scores, 1))"
      ],
      "execution_count": 12,
      "outputs": [
        {
          "output_type": "stream",
          "text": [
            "Time taken: 152.80261301994324\n",
            "Scores out of 30 iterations: [32.1 30.7 30.7 33.6 33.3 33.6 32.8 34.4 34.6 34.3 34.5 34.6 34.4 35.4\n",
            " 34.7 35.8 35.4 35.5 35.  34.8 34.8 34.  33.3 34.1 33.5 33.2 33.6 33.2\n",
            " 33.2 33.1]\n"
          ],
          "name": "stdout"
        }
      ]
    },
    {
      "cell_type": "code",
      "metadata": {
        "colab_type": "code",
        "id": "pgYa_v1yhMT5",
        "outputId": "596d3bd6-1e67-4afc-aa01-1749dd800051",
        "colab": {
          "base_uri": "https://localhost:8080/",
          "height": 339
        }
      },
      "source": [
        "# Plotting the accuracy scores\n",
        "plt.figure(figsize=(15,5))\n",
        "plt.plot(range(1,31), acc_scores , '-go')\n",
        "_ = plt.xticks(range(1,31))\n",
        "plt.axvline(np.argmax(acc_scores) + 1)"
      ],
      "execution_count": 13,
      "outputs": [
        {
          "output_type": "execute_result",
          "data": {
            "text/plain": [
              "<matplotlib.lines.Line2D at 0x7fcfcb5424a8>"
            ]
          },
          "metadata": {
            "tags": []
          },
          "execution_count": 13
        },
        {
          "output_type": "display_data",
          "data": {
            "image/png": "[encoded data removed]",
            "text/plain": [
              "<Figure size 1080x360 with 1 Axes>"
            ]
          },
          "metadata": {
            "tags": []
          }
        }
      ]
    },
    {
      "cell_type": "markdown",
      "metadata": {
        "colab_type": "text",
        "id": "kPRHeGIpmQr8"
      },
      "source": [
        "1.   The accuracy score seems to be the best at 35.8% for k value of 16.\n",
        "2.   Let's set the k value to 16 and train a model with the entire training dataset."
      ]
    },
    {
      "cell_type": "code",
      "metadata": {
        "colab_type": "code",
        "id": "jbl5WNmBmQr9",
        "outputId": "2ced4091-5ceb-4c21-a765-1b11787b0461",
        "colab": {
          "base_uri": "https://localhost:8080/",
          "height": 35
        }
      },
      "source": [
        "# Create the classifier model using the best k found among 30 iterations\n",
        "st = time()\n",
        "clf = KNeighborsClassifier(n_neighbors= np.argmax(acc_scores) + 1)\n",
        "clf.fit(X_train, y_train_df)\n",
        "\n",
        "predictions = clf.predict(X_test)\n",
        "print('Time taken:', time()-st)"
      ],
      "execution_count": 14,
      "outputs": [
        {
          "output_type": "stream",
          "text": [
            "Time taken: 1348.7648289203644\n"
          ],
          "name": "stdout"
        }
      ]
    },
    {
      "cell_type": "code",
      "metadata": {
        "colab_type": "code",
        "id": "roBiHikRmQsA",
        "outputId": "a1640924-23b6-471d-b659-9ebf2214e129",
        "colab": {
          "base_uri": "https://localhost:8080/",
          "height": 348
        }
      },
      "source": [
        "# Classification Report\n",
        "print(\"EVALUATION ON TESTING DATA\")\n",
        "print(classification_report(y_test_df, predictions))"
      ],
      "execution_count": 15,
      "outputs": [
        {
          "output_type": "stream",
          "text": [
            "EVALUATION ON TESTING DATA\n",
            "              precision    recall  f1-score   support\n",
            "\n",
            "           0       0.44      0.69      0.54      1814\n",
            "           1       0.47      0.73      0.57      1828\n",
            "           2       0.61      0.55      0.58      1803\n",
            "           3       0.45      0.43      0.44      1719\n",
            "           4       0.66      0.65      0.65      1812\n",
            "           5       0.51      0.39      0.44      1768\n",
            "           6       0.49      0.41      0.44      1832\n",
            "           7       0.71      0.62      0.66      1808\n",
            "           8       0.46      0.36      0.40      1812\n",
            "           9       0.56      0.42      0.48      1804\n",
            "\n",
            "    accuracy                           0.53     18000\n",
            "   macro avg       0.54      0.52      0.52     18000\n",
            "weighted avg       0.54      0.53      0.52     18000\n",
            "\n"
          ],
          "name": "stdout"
        }
      ]
    },
    {
      "cell_type": "markdown",
      "metadata": {
        "colab_type": "text",
        "id": "yIFoxCf7mQsE"
      },
      "source": [
        "\n",
        "\n",
        "**Neural Network Model**\n"
      ]
    },
    {
      "cell_type": "code",
      "metadata": {
        "colab_type": "code",
        "id": "EhL33kv2hMUA",
        "colab": {}
      },
      "source": [
        "# Generic method to Build the Neural Network\n",
        "def NNModel(layers):\n",
        "    # Create model\n",
        "    network = Sequential()\n",
        "    # Add the layers\n",
        "    if layers:\n",
        "        for layer in layers:\n",
        "            network.add(layer['layer_type'](**layer['params']))\n",
        "    return network"
      ],
      "execution_count": 0,
      "outputs": []
    },
    {
      "cell_type": "markdown",
      "metadata": {
        "colab_type": "text",
        "id": "flVG-SOMhMUB"
      },
      "source": [
        "<h4>Initialize Tensorboard callback for visualization of training</h4>"
      ]
    },
    {
      "cell_type": "code",
      "metadata": {
        "colab_type": "code",
        "id": "ERELooV5hMUB",
        "colab": {}
      },
      "source": [
        "# Setting the directory to store the log file\n",
        "# tb_callback = callbacks.TensorBoard(log_dir='.logs/{}'.format(time()), \n",
        "#                                     histogram_freq=0, \n",
        "#                                     write_graph=True, \n",
        "#                                     write_images=True)"
      ],
      "execution_count": 0,
      "outputs": []
    },
    {
      "cell_type": "markdown",
      "metadata": {
        "colab_type": "text",
        "id": "t0QERpdPhMUF"
      },
      "source": [
        "<h4>Initialize Early Stopping and Model Checkpoint callbacks</h4>"
      ]
    },
    {
      "cell_type": "code",
      "metadata": {
        "colab_type": "code",
        "id": "jnre81pbhMUF",
        "colab": {}
      },
      "source": [
        "# Stop if the val_loss is not changing even 0.001 for more than 10 continious epochs\n",
        "es_callback = callbacks.EarlyStopping(monitor='val_loss', \n",
        "                                      min_delta=0.001, \n",
        "                                      patience=10)"
      ],
      "execution_count": 0,
      "outputs": []
    },
    {
      "cell_type": "markdown",
      "metadata": {
        "colab_type": "text",
        "id": "lm0mq7iYhMUH"
      },
      "source": [
        "## Iteration - 1\n"
      ]
    },
    {
      "cell_type": "code",
      "metadata": {
        "colab_type": "code",
        "id": "X3qX4yRYhMUH",
        "colab": {}
      },
      "source": [
        "# Define the layers for Iteration - 1\n",
        "layers = [\n",
        "    {\n",
        "        'layer_type': Dense,\n",
        "        'params': {\n",
        "            'units': 256,\n",
        "            'activation': 'relu'\n",
        "        }\n",
        "    },{\n",
        "        'layer_type': Dense,\n",
        "        'params': {\n",
        "            'units': 64,\n",
        "            'activation': 'relu'\n",
        "        }\n",
        "    },{\n",
        "        'layer_type': Dense,\n",
        "        'params': {\n",
        "            'units': 64,\n",
        "            'activation': 'relu'\n",
        "        }\n",
        "    },{\n",
        "        'layer_type': Dense,\n",
        "        'params': {\n",
        "            'units': len(np.unique(y_train_df)),\n",
        "            'activation': 'softmax'\n",
        "        }\n",
        "    }\n",
        "]\n",
        "\n",
        "# Build network architecture\n",
        "model1 = NNModel(layers)"
      ],
      "execution_count": 0,
      "outputs": []
    },
    {
      "cell_type": "markdown",
      "metadata": {
        "colab_type": "text",
        "id": "ErROvW43hMUI"
      },
      "source": [
        "<h4>Set Optimizer and Loss function for training</h4>"
      ]
    },
    {
      "cell_type": "code",
      "metadata": {
        "colab_type": "code",
        "id": "1DxUxCC7hMUJ",
        "colab": {}
      },
      "source": [
        "learning_rate = 5e-3\n",
        "momentum = 2e-2\n",
        "\n",
        "# Optimizer = SGD, Loss function = Categorical cross entropy\n",
        "model1.compile(optimizer = optimizers.SGD(learning_rate, momentum), \n",
        "              loss = losses.categorical_crossentropy, \n",
        "              metrics=['accuracy'])"
      ],
      "execution_count": 0,
      "outputs": []
    },
    {
      "cell_type": "markdown",
      "metadata": {
        "colab_type": "text",
        "id": "oauyy3C0hMUK"
      },
      "source": [
        "<h4>Train the network</h4>"
      ]
    },
    {
      "cell_type": "code",
      "metadata": {
        "colab_type": "code",
        "id": "xmorFvSIhMUL",
        "outputId": "f1ca7ef2-d4de-4e51-cfc7-b754bd1d0a3e",
        "scrolled": false,
        "colab": {
          "base_uri": "https://localhost:8080/",
          "height": 1000
        }
      },
      "source": [
        "epochs = 30\n",
        "batch_size = 200\n",
        "\n",
        "# Start training the network\n",
        "st = time()\n",
        "model1.fit(X_train, y_train, \n",
        "          validation_data=(X_val, y_val), \n",
        "          epochs=epochs, \n",
        "          batch_size=batch_size, \n",
        "          verbose=2,\n",
        "          callbacks=[es_callback])\n",
        "print('\\nTotal time taken:', time()-st)"
      ],
      "execution_count": 20,
      "outputs": [
        {
          "output_type": "stream",
          "text": [
            "WARNING:tensorflow:From /usr/local/lib/python3.6/dist-packages/tensorflow_core/python/ops/resource_variable_ops.py:1630: calling BaseResourceVariable.__init__ (from tensorflow.python.ops.resource_variable_ops) with constraint is deprecated and will be removed in a future version.\n",
            "Instructions for updating:\n",
            "If using Keras pass *_constraint arguments to layers.\n",
            "Train on 42000 samples, validate on 60000 samples\n",
            "Epoch 1/30\n",
            "42000/42000 - 3s - loss: 2.3063 - acc: 0.1024 - val_loss: 2.2984 - val_acc: 0.1080\n",
            "Epoch 2/30\n",
            "42000/42000 - 1s - loss: 2.2951 - acc: 0.1175 - val_loss: 2.2916 - val_acc: 0.1255\n",
            "Epoch 3/30\n",
            "42000/42000 - 1s - loss: 2.2891 - acc: 0.1322 - val_loss: 2.2863 - val_acc: 0.1438\n",
            "Epoch 4/30\n",
            "42000/42000 - 1s - loss: 2.2836 - acc: 0.1459 - val_loss: 2.2808 - val_acc: 0.1525\n",
            "Epoch 5/30\n",
            "42000/42000 - 1s - loss: 2.2774 - acc: 0.1581 - val_loss: 2.2739 - val_acc: 0.1686\n",
            "Epoch 6/30\n",
            "42000/42000 - 1s - loss: 2.2703 - acc: 0.1735 - val_loss: 2.2663 - val_acc: 0.1851\n",
            "Epoch 7/30\n",
            "42000/42000 - 1s - loss: 2.2621 - acc: 0.1895 - val_loss: 2.2573 - val_acc: 0.2093\n",
            "Epoch 8/30\n",
            "42000/42000 - 1s - loss: 2.2522 - acc: 0.2090 - val_loss: 2.2470 - val_acc: 0.2174\n",
            "Epoch 9/30\n",
            "42000/42000 - 1s - loss: 2.2405 - acc: 0.2284 - val_loss: 2.2340 - val_acc: 0.2417\n",
            "Epoch 10/30\n",
            "42000/42000 - 1s - loss: 2.2266 - acc: 0.2441 - val_loss: 2.2190 - val_acc: 0.2525\n",
            "Epoch 11/30\n",
            "42000/42000 - 1s - loss: 2.2101 - acc: 0.2646 - val_loss: 2.2009 - val_acc: 0.2734\n",
            "Epoch 12/30\n",
            "42000/42000 - 1s - loss: 2.1910 - acc: 0.2777 - val_loss: 2.1806 - val_acc: 0.2863\n",
            "Epoch 13/30\n",
            "42000/42000 - 1s - loss: 2.1689 - acc: 0.2963 - val_loss: 2.1568 - val_acc: 0.2957\n",
            "Epoch 14/30\n",
            "42000/42000 - 1s - loss: 2.1426 - acc: 0.3116 - val_loss: 2.1282 - val_acc: 0.3103\n",
            "Epoch 15/30\n",
            "42000/42000 - 1s - loss: 2.1119 - acc: 0.3261 - val_loss: 2.0972 - val_acc: 0.3241\n",
            "Epoch 16/30\n",
            "42000/42000 - 1s - loss: 2.0768 - acc: 0.3371 - val_loss: 2.0561 - val_acc: 0.3511\n",
            "Epoch 17/30\n",
            "42000/42000 - 1s - loss: 2.0369 - acc: 0.3505 - val_loss: 2.0161 - val_acc: 0.3507\n",
            "Epoch 18/30\n",
            "42000/42000 - 1s - loss: 1.9927 - acc: 0.3640 - val_loss: 1.9686 - val_acc: 0.3600\n",
            "Epoch 19/30\n",
            "42000/42000 - 1s - loss: 1.9465 - acc: 0.3763 - val_loss: 1.9214 - val_acc: 0.3848\n",
            "Epoch 20/30\n",
            "42000/42000 - 1s - loss: 1.8987 - acc: 0.3919 - val_loss: 1.8760 - val_acc: 0.3848\n",
            "Epoch 21/30\n",
            "42000/42000 - 1s - loss: 1.8516 - acc: 0.4037 - val_loss: 1.8355 - val_acc: 0.4037\n",
            "Epoch 22/30\n",
            "42000/42000 - 1s - loss: 1.8073 - acc: 0.4152 - val_loss: 1.7826 - val_acc: 0.4327\n",
            "Epoch 23/30\n",
            "42000/42000 - 1s - loss: 1.7649 - acc: 0.4287 - val_loss: 1.7419 - val_acc: 0.4360\n",
            "Epoch 24/30\n",
            "42000/42000 - 1s - loss: 1.7256 - acc: 0.4407 - val_loss: 1.7037 - val_acc: 0.4445\n",
            "Epoch 25/30\n",
            "42000/42000 - 1s - loss: 1.6898 - acc: 0.4512 - val_loss: 1.6683 - val_acc: 0.4583\n",
            "Epoch 26/30\n",
            "42000/42000 - 1s - loss: 1.6582 - acc: 0.4608 - val_loss: 1.6394 - val_acc: 0.4685\n",
            "Epoch 27/30\n",
            "42000/42000 - 1s - loss: 1.6276 - acc: 0.4712 - val_loss: 1.6107 - val_acc: 0.4771\n",
            "Epoch 28/30\n",
            "42000/42000 - 1s - loss: 1.6019 - acc: 0.4803 - val_loss: 1.5859 - val_acc: 0.4852\n",
            "Epoch 29/30\n",
            "42000/42000 - 1s - loss: 1.5770 - acc: 0.4923 - val_loss: 1.5576 - val_acc: 0.4998\n",
            "Epoch 30/30\n",
            "42000/42000 - 1s - loss: 1.5558 - acc: 0.4977 - val_loss: 1.5358 - val_acc: 0.5089\n",
            "\n",
            "Total time taken: 50.79967212677002\n"
          ],
          "name": "stdout"
        }
      ]
    },
    {
      "cell_type": "code",
      "metadata": {
        "colab_type": "code",
        "id": "6jQToRxqmQsO",
        "outputId": "52a425ec-127c-4894-fea5-da9c16644b92",
        "colab": {
          "base_uri": "https://localhost:8080/",
          "height": 311
        }
      },
      "source": [
        "# Print the Summary of the Network\n",
        "model1.summary()"
      ],
      "execution_count": 21,
      "outputs": [
        {
          "output_type": "stream",
          "text": [
            "Model: \"sequential\"\n",
            "_________________________________________________________________\n",
            "Layer (type)                 Output Shape              Param #   \n",
            "=================================================================\n",
            "dense (Dense)                multiple                  262400    \n",
            "_________________________________________________________________\n",
            "dense_1 (Dense)              multiple                  16448     \n",
            "_________________________________________________________________\n",
            "dense_2 (Dense)              multiple                  4160      \n",
            "_________________________________________________________________\n",
            "dense_3 (Dense)              multiple                  650       \n",
            "=================================================================\n",
            "Total params: 283,658\n",
            "Trainable params: 283,658\n",
            "Non-trainable params: 0\n",
            "_________________________________________________________________\n"
          ],
          "name": "stdout"
        }
      ]
    },
    {
      "cell_type": "markdown",
      "metadata": {
        "colab_type": "text",
        "id": "W4aQPz42hMUN"
      },
      "source": [
        "\n",
        "\n",
        "## Iteration - 2\n"
      ]
    },
    {
      "cell_type": "code",
      "metadata": {
        "colab_type": "code",
        "id": "MrLs0_F-hMUO",
        "colab": {}
      },
      "source": [
        "# Define the layers for Iteration - 2\n",
        "layers = [\n",
        "    {\n",
        "        'layer_type': BatchNormalization,\n",
        "        'params': {\n",
        "            'input_shape': (1024,)\n",
        "        }\n",
        "    },{\n",
        "        'layer_type': Dropout,\n",
        "        'params': {\n",
        "            'rate': 0.25\n",
        "        }\n",
        "    },{\n",
        "        'layer_type': Dense,\n",
        "        'params': {\n",
        "            'units': 256,\n",
        "            'activation': 'relu'\n",
        "        }\n",
        "    },{\n",
        "        'layer_type': BatchNormalization,\n",
        "        'params': {\n",
        "            'input_shape': (256,)\n",
        "        }\n",
        "    },{\n",
        "        'layer_type': Dense,\n",
        "        'params': {\n",
        "            'units': 64,\n",
        "            'activation': 'relu'\n",
        "        }\n",
        "    },{\n",
        "        'layer_type': Dropout,\n",
        "        'params': {\n",
        "            'rate': 0.2\n",
        "        }\n",
        "    },{\n",
        "        'layer_type': Dense,\n",
        "        'params': {\n",
        "            'units': 32,\n",
        "            'activation': 'relu'\n",
        "        }\n",
        "    },{\n",
        "        'layer_type': Dense,\n",
        "        'params': {\n",
        "            'units': len(np.unique(y_train_df)),\n",
        "            'activation': 'softmax'\n",
        "        }\n",
        "    }\n",
        "]\n",
        "\n",
        "# Build network architecture\n",
        "model2 = NNModel(layers)"
      ],
      "execution_count": 0,
      "outputs": []
    },
    {
      "cell_type": "markdown",
      "metadata": {
        "colab_type": "text",
        "id": "gnEuNjDlhMUP"
      },
      "source": [
        "<h4>Set Optimizer and Loss function for training</h4>"
      ]
    },
    {
      "cell_type": "code",
      "metadata": {
        "colab_type": "code",
        "id": "dqa0Zcl0hMUP",
        "colab": {}
      },
      "source": [
        "learning_rate = 1e-3\n",
        "\n",
        "# Optimizer = Adam, Loss function = Categorical cross entropy\n",
        "model2.compile(optimizer = optimizers.Adam(lr=learning_rate),\n",
        "              loss = losses.categorical_crossentropy, \n",
        "              metrics=['accuracy'])"
      ],
      "execution_count": 0,
      "outputs": []
    },
    {
      "cell_type": "markdown",
      "metadata": {
        "colab_type": "text",
        "id": "S2Z3egeshMUR"
      },
      "source": [
        "<h4>Train the network</h4>"
      ]
    },
    {
      "cell_type": "code",
      "metadata": {
        "colab_type": "code",
        "id": "kOnTZKHEhMUR",
        "outputId": "fe8b8e9c-3646-42c4-f3ee-be3235a6f93f",
        "scrolled": false,
        "colab": {
          "base_uri": "https://localhost:8080/",
          "height": 1163
        }
      },
      "source": [
        "epochs = 30\n",
        "batch_size = 150\n",
        "\n",
        "# Start training the network\n",
        "st = time()\n",
        "model2.fit(X_train, y_train, \n",
        "          validation_data=(X_val, y_val),\n",
        "          epochs=epochs, \n",
        "          batch_size=batch_size, \n",
        "          verbose=2,\n",
        "          callbacks=[es_callback])\n",
        "print('\\nTotal time taken:', time()-st)"
      ],
      "execution_count": 0,
      "outputs": [
        {
          "output_type": "stream",
          "text": [
            "Train on 42000 samples, validate on 60000 samples\n",
            "Epoch 1/30\n",
            "42000/42000 - 2s - loss: 1.7131 - acc: 0.4030 - val_loss: 1.2458 - val_acc: 0.6332\n",
            "Epoch 2/30\n",
            "42000/42000 - 2s - loss: 1.2068 - acc: 0.6100 - val_loss: 0.9000 - val_acc: 0.7271\n",
            "Epoch 3/30\n",
            "42000/42000 - 2s - loss: 1.0499 - acc: 0.6644 - val_loss: 0.7830 - val_acc: 0.7561\n",
            "Epoch 4/30\n",
            "42000/42000 - 2s - loss: 0.9496 - acc: 0.6928 - val_loss: 0.7184 - val_acc: 0.7782\n",
            "Epoch 5/30\n",
            "42000/42000 - 2s - loss: 0.8882 - acc: 0.7145 - val_loss: 0.7102 - val_acc: 0.7831\n",
            "Epoch 6/30\n",
            "42000/42000 - 2s - loss: 0.8373 - acc: 0.7324 - val_loss: 0.6240 - val_acc: 0.8087\n",
            "Epoch 7/30\n",
            "42000/42000 - 2s - loss: 0.8054 - acc: 0.7415 - val_loss: 0.5933 - val_acc: 0.8195\n",
            "Epoch 8/30\n",
            "42000/42000 - 2s - loss: 0.7700 - acc: 0.7528 - val_loss: 0.5812 - val_acc: 0.8208\n",
            "Epoch 9/30\n",
            "42000/42000 - 2s - loss: 0.7361 - acc: 0.7645 - val_loss: 0.5500 - val_acc: 0.8317\n",
            "Epoch 10/30\n",
            "42000/42000 - 2s - loss: 0.7188 - acc: 0.7677 - val_loss: 0.5224 - val_acc: 0.8425\n",
            "Epoch 11/30\n",
            "42000/42000 - 2s - loss: 0.6943 - acc: 0.7770 - val_loss: 0.5134 - val_acc: 0.8446\n",
            "Epoch 12/30\n",
            "42000/42000 - 2s - loss: 0.6825 - acc: 0.7814 - val_loss: 0.4915 - val_acc: 0.8500\n",
            "Epoch 13/30\n",
            "42000/42000 - 2s - loss: 0.6676 - acc: 0.7864 - val_loss: 0.4808 - val_acc: 0.8524\n",
            "Epoch 14/30\n",
            "42000/42000 - 2s - loss: 0.6544 - acc: 0.7901 - val_loss: 0.4786 - val_acc: 0.8528\n",
            "Epoch 15/30\n",
            "42000/42000 - 2s - loss: 0.6394 - acc: 0.7939 - val_loss: 0.4592 - val_acc: 0.8572\n",
            "Epoch 16/30\n",
            "42000/42000 - 2s - loss: 0.6308 - acc: 0.7964 - val_loss: 0.4519 - val_acc: 0.8621\n",
            "Epoch 17/30\n",
            "42000/42000 - 2s - loss: 0.6218 - acc: 0.8008 - val_loss: 0.4509 - val_acc: 0.8611\n",
            "Epoch 18/30\n",
            "42000/42000 - 2s - loss: 0.6089 - acc: 0.8038 - val_loss: 0.4389 - val_acc: 0.8660\n",
            "Epoch 19/30\n",
            "42000/42000 - 2s - loss: 0.6058 - acc: 0.8042 - val_loss: 0.4329 - val_acc: 0.8687\n",
            "Epoch 20/30\n",
            "42000/42000 - 2s - loss: 0.5946 - acc: 0.8068 - val_loss: 0.4320 - val_acc: 0.8667\n",
            "Epoch 21/30\n",
            "42000/42000 - 2s - loss: 0.5871 - acc: 0.8121 - val_loss: 0.4155 - val_acc: 0.8745\n",
            "Epoch 22/30\n",
            "42000/42000 - 2s - loss: 0.5803 - acc: 0.8120 - val_loss: 0.4090 - val_acc: 0.8740\n",
            "Epoch 23/30\n",
            "42000/42000 - 2s - loss: 0.5742 - acc: 0.8154 - val_loss: 0.4054 - val_acc: 0.8753\n",
            "Epoch 24/30\n",
            "42000/42000 - 2s - loss: 0.5671 - acc: 0.8180 - val_loss: 0.4099 - val_acc: 0.8761\n",
            "Epoch 25/30\n",
            "42000/42000 - 2s - loss: 0.5558 - acc: 0.8213 - val_loss: 0.4040 - val_acc: 0.8760\n",
            "Epoch 26/30\n",
            "42000/42000 - 2s - loss: 0.5615 - acc: 0.8194 - val_loss: 0.4055 - val_acc: 0.8756\n",
            "Epoch 27/30\n",
            "42000/42000 - 2s - loss: 0.5547 - acc: 0.8204 - val_loss: 0.3878 - val_acc: 0.8825\n",
            "Epoch 28/30\n",
            "42000/42000 - 2s - loss: 0.5505 - acc: 0.8223 - val_loss: 0.3841 - val_acc: 0.8837\n",
            "Epoch 29/30\n",
            "42000/42000 - 2s - loss: 0.5479 - acc: 0.8219 - val_loss: 0.3672 - val_acc: 0.8897\n",
            "Epoch 30/30\n",
            "42000/42000 - 2s - loss: 0.5351 - acc: 0.8242 - val_loss: 0.3809 - val_acc: 0.8845\n",
            "\n",
            "Total time taken: 60.042555809020996\n"
          ],
          "name": "stdout"
        }
      ]
    },
    {
      "cell_type": "code",
      "metadata": {
        "colab_type": "code",
        "id": "x0FZ203whMUT",
        "outputId": "21d361f7-dfe2-4c43-b899-43539a2e4584",
        "colab": {
          "base_uri": "https://localhost:8080/",
          "height": 454
        }
      },
      "source": [
        "# Print the Summary of the Network\n",
        "model2.summary()"
      ],
      "execution_count": 0,
      "outputs": [
        {
          "output_type": "stream",
          "text": [
            "Model: \"sequential_1\"\n",
            "_________________________________________________________________\n",
            "Layer (type)                 Output Shape              Param #   \n",
            "=================================================================\n",
            "batch_normalization (BatchNo (None, 1024)              4096      \n",
            "_________________________________________________________________\n",
            "dropout (Dropout)            (None, 1024)              0         \n",
            "_________________________________________________________________\n",
            "dense_4 (Dense)              (None, 256)               262400    \n",
            "_________________________________________________________________\n",
            "batch_normalization_1 (Batch (None, 256)               1024      \n",
            "_________________________________________________________________\n",
            "dense_5 (Dense)              (None, 64)                16448     \n",
            "_________________________________________________________________\n",
            "dropout_1 (Dropout)          (None, 64)                0         \n",
            "_________________________________________________________________\n",
            "dense_6 (Dense)              (None, 32)                2080      \n",
            "_________________________________________________________________\n",
            "dense_7 (Dense)              (None, 10)                330       \n",
            "=================================================================\n",
            "Total params: 286,378\n",
            "Trainable params: 283,818\n",
            "Non-trainable params: 2,560\n",
            "_________________________________________________________________\n"
          ],
          "name": "stdout"
        }
      ]
    },
    {
      "cell_type": "markdown",
      "metadata": {
        "colab_type": "text",
        "id": "K2Shf1GUhMUU"
      },
      "source": [
        "\n",
        "\n",
        "## Iteration - 3\n"
      ]
    },
    {
      "cell_type": "code",
      "metadata": {
        "colab_type": "code",
        "id": "AxR70br1hMUU",
        "colab": {}
      },
      "source": [
        "# Define the layers for Iteration - 3\n",
        "layers = [\n",
        "    {\n",
        "        'layer_type': BatchNormalization,\n",
        "        'params': {\n",
        "            'input_shape': (1024,)\n",
        "        }\n",
        "    },{\n",
        "        'layer_type': Dense,\n",
        "        'params': {\n",
        "            'units': 256,\n",
        "            'activation': 'relu'\n",
        "        }\n",
        "    },{\n",
        "        'layer_type': Dense,\n",
        "        'params': {\n",
        "            'units': 64,\n",
        "            'activation': 'relu'\n",
        "        }\n",
        "    },{\n",
        "        'layer_type': Dropout,\n",
        "        'params': {\n",
        "            'rate': 0.2\n",
        "        }\n",
        "    },{\n",
        "        'layer_type': Dense,\n",
        "        'params': {\n",
        "            'units': 32,\n",
        "            'activation': 'relu'\n",
        "        }\n",
        "    },{\n",
        "        'layer_type': Dense,\n",
        "        'params': {\n",
        "            'units': len(np.unique(y_train_df)),\n",
        "            'activation': 'softmax'\n",
        "        }\n",
        "    }\n",
        "]\n",
        "\n",
        "# Build network architecture\n",
        "model3 = NNModel(layers)"
      ],
      "execution_count": 0,
      "outputs": []
    },
    {
      "cell_type": "markdown",
      "metadata": {
        "colab_type": "text",
        "id": "LUXdFkYYhMUV"
      },
      "source": [
        "<h4>Set Optimizer and Loss function for training</h4>"
      ]
    },
    {
      "cell_type": "code",
      "metadata": {
        "colab_type": "code",
        "id": "4ov1WXtmhMUW",
        "colab": {}
      },
      "source": [
        "learning_rate = 1e-3\n",
        "\n",
        "# Optimizer = Adam, Loss function = Categorical cross entropy\n",
        "model3.compile(optimizer = optimizers.Adam(lr=learning_rate), \n",
        "              loss = losses.categorical_crossentropy, \n",
        "              metrics=['accuracy'])"
      ],
      "execution_count": 0,
      "outputs": []
    },
    {
      "cell_type": "markdown",
      "metadata": {
        "colab_type": "text",
        "id": "Qq1-uU01hMUZ"
      },
      "source": [
        "<h4>Train the network</h4>"
      ]
    },
    {
      "cell_type": "code",
      "metadata": {
        "colab_type": "code",
        "id": "pv6FYp2shMUZ",
        "outputId": "d8e27acc-7c49-4691-ba04-8785f8d08167",
        "scrolled": false,
        "colab": {
          "base_uri": "https://localhost:8080/",
          "height": 1890
        }
      },
      "source": [
        "epochs = 50\n",
        "batch_size = 150\n",
        "# Start training the network\n",
        "st = time()\n",
        "model3.fit(X_train, y_train, \n",
        "          validation_data=(X_val, y_val), \n",
        "          epochs=epochs, \n",
        "          batch_size=batch_size, \n",
        "          verbose=2,\n",
        "          callbacks=[es_callback])\n",
        "print('\\nTotal time taken:', time()-st)"
      ],
      "execution_count": 0,
      "outputs": [
        {
          "output_type": "stream",
          "text": [
            "Train on 42000 samples, validate on 60000 samples\n",
            "Epoch 1/50\n",
            "42000/42000 - 2s - loss: 1.6198 - acc: 0.4439 - val_loss: 1.1803 - val_acc: 0.6740\n",
            "Epoch 2/50\n",
            "42000/42000 - 2s - loss: 1.0819 - acc: 0.6554 - val_loss: 0.8264 - val_acc: 0.7509\n",
            "Epoch 3/50\n",
            "42000/42000 - 2s - loss: 0.9197 - acc: 0.7091 - val_loss: 0.7694 - val_acc: 0.7607\n",
            "Epoch 4/50\n",
            "42000/42000 - 2s - loss: 0.8309 - acc: 0.7367 - val_loss: 0.6612 - val_acc: 0.7988\n",
            "Epoch 5/50\n",
            "42000/42000 - 2s - loss: 0.7698 - acc: 0.7583 - val_loss: 0.6457 - val_acc: 0.8001\n",
            "Epoch 6/50\n",
            "42000/42000 - 2s - loss: 0.7181 - acc: 0.7733 - val_loss: 0.5966 - val_acc: 0.8160\n",
            "Epoch 7/50\n",
            "42000/42000 - 2s - loss: 0.6763 - acc: 0.7841 - val_loss: 0.5548 - val_acc: 0.8321\n",
            "Epoch 8/50\n",
            "42000/42000 - 2s - loss: 0.6475 - acc: 0.7953 - val_loss: 0.5181 - val_acc: 0.8422\n",
            "Epoch 9/50\n",
            "42000/42000 - 2s - loss: 0.6201 - acc: 0.8047 - val_loss: 0.5204 - val_acc: 0.8399\n",
            "Epoch 10/50\n",
            "42000/42000 - 2s - loss: 0.5876 - acc: 0.8140 - val_loss: 0.5164 - val_acc: 0.8421\n",
            "Epoch 11/50\n",
            "42000/42000 - 2s - loss: 0.5677 - acc: 0.8193 - val_loss: 0.5030 - val_acc: 0.8444\n",
            "Epoch 12/50\n",
            "42000/42000 - 2s - loss: 0.5558 - acc: 0.8234 - val_loss: 0.4560 - val_acc: 0.8606\n",
            "Epoch 13/50\n",
            "42000/42000 - 2s - loss: 0.5291 - acc: 0.8316 - val_loss: 0.4445 - val_acc: 0.8668\n",
            "Epoch 14/50\n",
            "42000/42000 - 2s - loss: 0.5131 - acc: 0.8368 - val_loss: 0.4346 - val_acc: 0.8693\n",
            "Epoch 15/50\n",
            "42000/42000 - 2s - loss: 0.5034 - acc: 0.8400 - val_loss: 0.4386 - val_acc: 0.8639\n",
            "Epoch 16/50\n",
            "42000/42000 - 2s - loss: 0.4903 - acc: 0.8452 - val_loss: 0.4289 - val_acc: 0.8706\n",
            "Epoch 17/50\n",
            "42000/42000 - 2s - loss: 0.4752 - acc: 0.8493 - val_loss: 0.4084 - val_acc: 0.8755\n",
            "Epoch 18/50\n",
            "42000/42000 - 2s - loss: 0.4656 - acc: 0.8507 - val_loss: 0.4086 - val_acc: 0.8746\n",
            "Epoch 19/50\n",
            "42000/42000 - 2s - loss: 0.4441 - acc: 0.8592 - val_loss: 0.3890 - val_acc: 0.8834\n",
            "Epoch 20/50\n",
            "42000/42000 - 2s - loss: 0.4414 - acc: 0.8583 - val_loss: 0.4034 - val_acc: 0.8780\n",
            "Epoch 21/50\n",
            "42000/42000 - 2s - loss: 0.4379 - acc: 0.8603 - val_loss: 0.4114 - val_acc: 0.8753\n",
            "Epoch 22/50\n",
            "42000/42000 - 2s - loss: 0.4247 - acc: 0.8638 - val_loss: 0.3929 - val_acc: 0.8838\n",
            "Epoch 23/50\n",
            "42000/42000 - 2s - loss: 0.4120 - acc: 0.8680 - val_loss: 0.3864 - val_acc: 0.8820\n",
            "Epoch 24/50\n",
            "42000/42000 - 2s - loss: 0.4083 - acc: 0.8697 - val_loss: 0.3615 - val_acc: 0.8932\n",
            "Epoch 25/50\n",
            "42000/42000 - 2s - loss: 0.4021 - acc: 0.8695 - val_loss: 0.3783 - val_acc: 0.8857\n",
            "Epoch 26/50\n",
            "42000/42000 - 2s - loss: 0.3918 - acc: 0.8749 - val_loss: 0.3623 - val_acc: 0.8929\n",
            "Epoch 27/50\n",
            "42000/42000 - 2s - loss: 0.3951 - acc: 0.8730 - val_loss: 0.3545 - val_acc: 0.8944\n",
            "Epoch 28/50\n",
            "42000/42000 - 2s - loss: 0.3769 - acc: 0.8784 - val_loss: 0.3585 - val_acc: 0.8933\n",
            "Epoch 29/50\n",
            "42000/42000 - 2s - loss: 0.3715 - acc: 0.8807 - val_loss: 0.3420 - val_acc: 0.8990\n",
            "Epoch 30/50\n",
            "42000/42000 - 2s - loss: 0.3677 - acc: 0.8828 - val_loss: 0.3500 - val_acc: 0.8959\n",
            "Epoch 31/50\n",
            "42000/42000 - 2s - loss: 0.3601 - acc: 0.8845 - val_loss: 0.3434 - val_acc: 0.8988\n",
            "Epoch 32/50\n",
            "42000/42000 - 2s - loss: 0.3560 - acc: 0.8844 - val_loss: 0.3406 - val_acc: 0.8976\n",
            "Epoch 33/50\n",
            "42000/42000 - 2s - loss: 0.3476 - acc: 0.8874 - val_loss: 0.3299 - val_acc: 0.9042\n",
            "Epoch 34/50\n",
            "42000/42000 - 2s - loss: 0.3445 - acc: 0.8883 - val_loss: 0.3225 - val_acc: 0.9066\n",
            "Epoch 35/50\n",
            "42000/42000 - 2s - loss: 0.3585 - acc: 0.8853 - val_loss: 0.3193 - val_acc: 0.9061\n",
            "Epoch 36/50\n",
            "42000/42000 - 2s - loss: 0.3461 - acc: 0.8891 - val_loss: 0.3266 - val_acc: 0.9040\n",
            "Epoch 37/50\n",
            "42000/42000 - 2s - loss: 0.3388 - acc: 0.8912 - val_loss: 0.3298 - val_acc: 0.9047\n",
            "Epoch 38/50\n",
            "42000/42000 - 2s - loss: 0.3352 - acc: 0.8920 - val_loss: 0.3108 - val_acc: 0.9112\n",
            "Epoch 39/50\n",
            "42000/42000 - 2s - loss: 0.3260 - acc: 0.8945 - val_loss: 0.3171 - val_acc: 0.9102\n",
            "Epoch 40/50\n",
            "42000/42000 - 2s - loss: 0.3225 - acc: 0.8956 - val_loss: 0.3107 - val_acc: 0.9120\n",
            "Epoch 41/50\n",
            "42000/42000 - 2s - loss: 0.3281 - acc: 0.8957 - val_loss: 0.3154 - val_acc: 0.9097\n",
            "Epoch 42/50\n",
            "42000/42000 - 2s - loss: 0.3151 - acc: 0.8967 - val_loss: 0.3036 - val_acc: 0.9120\n",
            "Epoch 43/50\n",
            "42000/42000 - 2s - loss: 0.3131 - acc: 0.8982 - val_loss: 0.3096 - val_acc: 0.9107\n",
            "Epoch 44/50\n",
            "42000/42000 - 2s - loss: 0.3077 - acc: 0.9000 - val_loss: 0.3143 - val_acc: 0.9105\n",
            "Epoch 45/50\n",
            "42000/42000 - 2s - loss: 0.3090 - acc: 0.9009 - val_loss: 0.3015 - val_acc: 0.9142\n",
            "Epoch 46/50\n",
            "42000/42000 - 2s - loss: 0.3025 - acc: 0.9011 - val_loss: 0.2969 - val_acc: 0.9159\n",
            "Epoch 47/50\n",
            "42000/42000 - 2s - loss: 0.2984 - acc: 0.9029 - val_loss: 0.3076 - val_acc: 0.9136\n",
            "Epoch 48/50\n",
            "42000/42000 - 2s - loss: 0.2957 - acc: 0.9049 - val_loss: 0.2953 - val_acc: 0.9158\n",
            "Epoch 49/50\n",
            "42000/42000 - 2s - loss: 0.2950 - acc: 0.9035 - val_loss: 0.3197 - val_acc: 0.9094\n",
            "Epoch 50/50\n",
            "42000/42000 - 2s - loss: 0.2887 - acc: 0.9061 - val_loss: 0.3215 - val_acc: 0.9084\n",
            "\n",
            "Total time taken: 83.66345477104187\n"
          ],
          "name": "stdout"
        }
      ]
    },
    {
      "cell_type": "code",
      "metadata": {
        "colab_type": "code",
        "id": "VbJKdXAahMUa",
        "outputId": "713d44dc-ad25-41da-af25-450d3219b11b",
        "colab": {
          "base_uri": "https://localhost:8080/",
          "height": 381
        }
      },
      "source": [
        "# Print the Summary of the Network\n",
        "model3.summary()"
      ],
      "execution_count": 0,
      "outputs": [
        {
          "output_type": "stream",
          "text": [
            "Model: \"sequential_2\"\n",
            "_________________________________________________________________\n",
            "Layer (type)                 Output Shape              Param #   \n",
            "=================================================================\n",
            "batch_normalization_2 (Batch (None, 1024)              4096      \n",
            "_________________________________________________________________\n",
            "dense_8 (Dense)              (None, 256)               262400    \n",
            "_________________________________________________________________\n",
            "dense_9 (Dense)              (None, 64)                16448     \n",
            "_________________________________________________________________\n",
            "dropout_2 (Dropout)          (None, 64)                0         \n",
            "_________________________________________________________________\n",
            "dense_10 (Dense)             (None, 32)                2080      \n",
            "_________________________________________________________________\n",
            "dense_11 (Dense)             (None, 10)                330       \n",
            "=================================================================\n",
            "Total params: 285,354\n",
            "Trainable params: 283,306\n",
            "Non-trainable params: 2,048\n",
            "_________________________________________________________________\n"
          ],
          "name": "stdout"
        }
      ]
    },
    {
      "cell_type": "markdown",
      "metadata": {
        "colab_type": "text",
        "id": "bjlxM325hMUc"
      },
      "source": [
        "\n",
        "## <u>Evaluate the Neural Network</u>\n",
        "\n"
      ]
    },
    {
      "cell_type": "code",
      "metadata": {
        "colab_type": "code",
        "id": "983-6ihchMUd",
        "outputId": "621e09fa-e339-48ce-8aa3-c5786c9cdf30",
        "colab": {
          "base_uri": "https://localhost:8080/",
          "height": 72
        }
      },
      "source": [
        "# Testing the model on test set\n",
        "predictions = model3.predict_classes(X_test)\n",
        "score = model3.evaluate(X_test, y_test)\n",
        "print('Test loss      :', score[0])\n",
        "print('Test accuracy  :', score[1])"
      ],
      "execution_count": 0,
      "outputs": [
        {
          "output_type": "stream",
          "text": [
            "18000/18000 [==============================] - 1s 52us/sample - loss: 0.5645 - acc: 0.8546\n",
            "Test loss      : 0.5645428023404545\n",
            "Test accuracy  : 0.8546111\n"
          ],
          "name": "stdout"
        }
      ]
    },
    {
      "cell_type": "code",
      "metadata": {
        "colab_type": "code",
        "id": "olS1FVVjhMUe",
        "outputId": "9625cf4a-1e13-442e-d3cd-18310991f8a1",
        "colab": {
          "base_uri": "https://localhost:8080/",
          "height": 345
        }
      },
      "source": [
        "# Classification Report\n",
        "print(\"EVALUATION ON TESTING DATA\")\n",
        "print(classification_report(y_test_df, predictions))"
      ],
      "execution_count": 0,
      "outputs": [
        {
          "output_type": "stream",
          "text": [
            "EVALUATION ON TESTING DATA\n",
            "              precision    recall  f1-score   support\n",
            "\n",
            "           0       0.88      0.89      0.88      1814\n",
            "           1       0.83      0.88      0.86      1828\n",
            "           2       0.85      0.87      0.86      1803\n",
            "           3       0.84      0.82      0.83      1719\n",
            "           4       0.91      0.86      0.88      1812\n",
            "           5       0.85      0.83      0.84      1768\n",
            "           6       0.82      0.86      0.84      1832\n",
            "           7       0.86      0.89      0.88      1808\n",
            "           8       0.86      0.78      0.82      1812\n",
            "           9       0.84      0.86      0.85      1804\n",
            "\n",
            "    accuracy                           0.85     18000\n",
            "   macro avg       0.86      0.85      0.85     18000\n",
            "weighted avg       0.86      0.85      0.85     18000\n",
            "\n"
          ],
          "name": "stdout"
        }
      ]
    },
    {
      "cell_type": "markdown",
      "metadata": {
        "colab_type": "text",
        "id": "-0Sd2KSPhMUh"
      },
      "source": [
        "<h4>Visualizing some predictions</h4>"
      ]
    },
    {
      "cell_type": "code",
      "metadata": {
        "colab_type": "code",
        "id": "gZGBU4OqhMUh",
        "outputId": "0273399a-0c1f-4ffb-be33-50ca509b092b",
        "scrolled": true,
        "colab": {
          "base_uri": "https://localhost:8080/",
          "height": 115
        }
      },
      "source": [
        "# visualizing the first 15 images in the dataset and their labels\n",
        "print('Actual labels corresponding to below images: %s' % (y_test_df[0:15]))\n",
        "plt.figure(figsize=(15, 1))\n",
        "for i in range(15):\n",
        "    plt.subplot(1, 15, i+1)\n",
        "    plt.imshow(X_test_df[i], cmap=\"gray\")\n",
        "    plt.axis('off')\n",
        "    \n",
        "print('Predicted labels corresponding to below images: %s' % (predictions[0:15]))"
      ],
      "execution_count": 0,
      "outputs": [
        {
          "output_type": "stream",
          "text": [
            "Actual labels corresponding to below images: [1 7 2 9 0 9 1 8 4 4 8 9 1 4 3]\n",
            "Predicted labels corresponding to below images: [1 7 2 9 0 9 1 8 1 4 8 2 1 4 3]\n"
          ],
          "name": "stdout"
        },
        {
          "output_type": "display_data",
          "data": {
            "image/png": "[encoded data removed]",
            "text/plain": [
              "<Figure size 1080x72 with 15 Axes>"
            ]
          },
          "metadata": {
            "tags": []
          }
        }
      ]
    }
  ]
}