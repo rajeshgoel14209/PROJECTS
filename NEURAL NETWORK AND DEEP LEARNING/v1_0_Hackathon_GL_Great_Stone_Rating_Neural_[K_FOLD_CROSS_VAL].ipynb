{
  "nbformat": 4,
  "nbformat_minor": 0,
  "metadata": {
    "colab": {
      "name": "v1.0_Hackathon_GL_Great_Stone_Rating_Neural [K FOLD CROSS VAL].ipynb",
      "provenance": [],
      "collapsed_sections": []
    },
    "kernelspec": {
      "name": "python3",
      "display_name": "Python 3"
    }
  },
  "cells": [
    {
      "cell_type": "code",
      "metadata": {
        "id": "eLM8UsiSfJkM",
        "colab_type": "code",
        "colab": {}
      },
      "source": [
        "from google.colab import drive\n",
        "drive.mount('/gdrive')\n",
        "%cd /gdrive"
      ],
      "execution_count": 0,
      "outputs": []
    },
    {
      "cell_type": "code",
      "metadata": {
        "id": "huTBqImUVqxK",
        "colab_type": "code",
        "colab": {}
      },
      "source": [
        "############################### IMPORTING LIBRARIES ############################"
      ],
      "execution_count": 0,
      "outputs": []
    },
    {
      "cell_type": "code",
      "metadata": {
        "id": "hNyPRbp4lQeM",
        "colab_type": "code",
        "colab": {}
      },
      "source": [
        "def reduce_mem_usage(df):\n",
        "    \"\"\" iterate through all the columns of a dataframe and modify the data type\n",
        "        to reduce memory usage.\n",
        "    \"\"\"\n",
        "    start_mem = df.memory_usage().sum() / 1024 ** 2\n",
        "    print('Memory usage of dataframe is {:.2f} MB'.format(start_mem))\n",
        "\n",
        "    for col in df.columns:\n",
        "        col_type = df[col].dtype\n",
        "\n",
        "        if col_type != object:\n",
        "            c_min = df[col].min()\n",
        "            c_max = df[col].max()\n",
        "            if str(col_type)[:3] == 'int':\n",
        "                if c_min > np.iinfo(np.int8).min and c_max < np.iinfo(np.int8).max:\n",
        "                    df[col] = df[col].astype(np.int8)\n",
        "                elif c_min > np.iinfo(np.int16).min and c_max < np.iinfo(np.int16).max:\n",
        "                    df[col] = df[col].astype(np.int16)\n",
        "                elif c_min > np.iinfo(np.int32).min and c_max < np.iinfo(np.int32).max:\n",
        "                    df[col] = df[col].astype(np.int32)\n",
        "                elif c_min > np.iinfo(np.int64).min and c_max < np.iinfo(np.int64).max:\n",
        "                    df[col] = df[col].astype(np.int64)\n",
        "            else:\n",
        "                if c_min > np.finfo(np.float16).min and c_max < np.finfo(np.float16).max:\n",
        "                    df[col] = df[col].astype(np.float16)\n",
        "                elif c_min > np.finfo(np.float32).min and c_max < np.finfo(np.float32).max:\n",
        "                    df[col] = df[col].astype(np.float32)\n",
        "                else:\n",
        "                    df[col] = df[col].astype(np.float64)\n",
        "        else:\n",
        "            df[col] = df[col].astype('category')\n",
        "\n",
        "    end_mem = df.memory_usage().sum() / 1024 ** 2\n",
        "    print('Memory usage after optimization is: {:.2f} MB'.format(end_mem))\n",
        "    print('Decreased by {:.1f}%'.format(100 * (start_mem - end_mem) / start_mem))\n",
        "\n",
        "    return df"
      ],
      "execution_count": 0,
      "outputs": []
    },
    {
      "cell_type": "code",
      "metadata": {
        "colab_type": "code",
        "id": "uXlCzFqI6LGC",
        "colab": {}
      },
      "source": [
        "#Common Model Algorithms\n",
        "from sklearn import svm, tree, linear_model, neighbors, naive_bayes, ensemble, discriminant_analysis, gaussian_process\n",
        "from xgboost import XGBClassifier\n",
        "\n",
        "import numpy as np # linear algebra\n",
        "import seaborn as sns\n",
        "import pandas as pd # data processing, CSV file I/O (e.g. pd.read_csv)\n",
        "import os\n",
        "# Input data files are available in the \"../input/\" directory.\n",
        "# For example, running this (by clicking run or pressing Shift+Enter) will list all files under the input directory\n",
        "\n",
        "import pandas\n",
        "import matplotlib.pyplot as plt\n",
        "%matplotlib inline\n",
        "! pip install plotly_express\n",
        "import plotly_express as px\n",
        "\n",
        "# Any results you write to the current directory are saved as output.\n",
        "\n",
        "#Common Model Helpers\n",
        "from sklearn.preprocessing import OneHotEncoder, LabelEncoder\n",
        "from sklearn import feature_selection\n",
        "from sklearn import model_selection\n",
        "from sklearn import metrics\n",
        "from sklearn.model_selection import train_test_split\n",
        "from sklearn.metrics import average_precision_score\n",
        "from sklearn.model_selection import StratifiedKFold\n",
        "from sklearn.model_selection import KFold\n",
        "\n",
        "import io\n",
        "from datetime import datetime\n",
        "import time"
      ],
      "execution_count": 0,
      "outputs": []
    },
    {
      "cell_type": "code",
      "metadata": {
        "colab_type": "code",
        "id": "JGlbSVFd6LGI",
        "colab": {}
      },
      "source": [
        "#Common Model Algorithms\n",
        "from sklearn import svm, tree, linear_model, neighbors, naive_bayes, ensemble, discriminant_analysis, gaussian_process\n",
        "from xgboost import XGBClassifier\n",
        "\n",
        "#Common Model Helpers\n",
        "from sklearn.preprocessing import OneHotEncoder, LabelEncoder\n",
        "from sklearn import feature_selection\n",
        "from sklearn import model_selection\n",
        "from sklearn.metrics import accuracy_score , roc_auc_score , f1_score, precision_score , average_precision_score , recall_score"
      ],
      "execution_count": 0,
      "outputs": []
    },
    {
      "cell_type": "code",
      "metadata": {
        "colab_type": "code",
        "id": "m1yjtNmW6LGM",
        "colab": {}
      },
      "source": [
        "import sklearn\n",
        "from sklearn.linear_model import LogisticRegression\n",
        "from sklearn.neural_network import MLPClassifier\n",
        "from sklearn.naive_bayes import GaussianNB,BernoulliNB\n",
        "from sklearn.neighbors import KNeighborsClassifier\n",
        "from sklearn.svm import SVC\n",
        "from sklearn.tree import DecisionTreeClassifier\n",
        "from sklearn.ensemble import RandomForestClassifier\n",
        "from sklearn.multiclass import OneVsRestClassifier , OneVsOneClassifier \n",
        "from sklearn.model_selection import KFold, StratifiedKFold, cross_val_score, cross_val_predict , LeaveOneOut , ShuffleSplit,RandomizedSearchCV"
      ],
      "execution_count": 0,
      "outputs": []
    },
    {
      "cell_type": "code",
      "metadata": {
        "id": "bTTbaaO56h-H",
        "colab_type": "code",
        "colab": {}
      },
      "source": [
        "## ONE VS REST CLASSIFIER \n",
        "# Binary Classification Problem 1: red vs [blue, green]\n",
        "# Binary Classification Problem 2: blue vs [red, green]\n",
        "# Binary Classification Problem 3: green vs [red, blue]\n",
        "\n",
        "## ONE VS ONE CLASSIFIER \n",
        "# Binary Classification Problem 1: red vs. blue\n",
        "# Binary Classification Problem 2: red vs. green\n",
        "# Binary Classification Problem 3: red vs. yellow\n",
        "# Binary Classification Problem 4: blue vs. green\n",
        "# Binary Classification Problem 5: blue vs. yellow\n",
        "# Binary Classification Problem 6: green vs. yellow"
      ],
      "execution_count": 0,
      "outputs": []
    },
    {
      "cell_type": "code",
      "metadata": {
        "id": "7qAYgmdlFKzO",
        "colab_type": "code",
        "colab": {}
      },
      "source": [
        "import pytz\n",
        "from datetime import datetime\n",
        "# assuming now contains a timezone aware datetime\n",
        "now = datetime.now()\n",
        "tz = pytz.timezone('Asia/Kolkata')\n",
        "your_now = now.astimezone(tz)\n",
        "print (your_now)"
      ],
      "execution_count": 0,
      "outputs": []
    },
    {
      "cell_type": "code",
      "metadata": {
        "id": "6pGxylPwsMK-",
        "colab_type": "code",
        "colab": {}
      },
      "source": [
        "import os\n",
        "os.chdir('/gdrive/My Drive/Hackathon/GREATLEARNING-APRIL/FeatureEngineering/')"
      ],
      "execution_count": 0,
      "outputs": []
    },
    {
      "cell_type": "code",
      "metadata": {
        "id": "-nf_AgtERkPr",
        "colab_type": "code",
        "colab": {}
      },
      "source": [
        "!ls"
      ],
      "execution_count": 0,
      "outputs": []
    },
    {
      "cell_type": "code",
      "metadata": {
        "id": "Hw5wvq6_RY7l",
        "colab_type": "code",
        "colab": {}
      },
      "source": [
        "## copying the files to feature selection folder\n",
        "!cp data.csv  '/gdrive/My Drive/Hackathon/GREATLEARNING-APRIL/FeatureSelection/'\n",
        "!cp data_joined.csv  '/gdrive/My Drive/Hackathon/GREATLEARNING-APRIL/FeatureSelection/'"
      ],
      "execution_count": 0,
      "outputs": []
    },
    {
      "cell_type": "code",
      "metadata": {
        "id": "3Rj5a9vNR7i3",
        "colab_type": "code",
        "colab": {}
      },
      "source": [
        "os.chdir('/gdrive/My Drive/Hackathon/GREATLEARNING-APRIL/FeatureSelection/')"
      ],
      "execution_count": 0,
      "outputs": []
    },
    {
      "cell_type": "code",
      "metadata": {
        "id": "uYrdgxMZRbOE",
        "colab_type": "code",
        "colab": {}
      },
      "source": [
        "!ls"
      ],
      "execution_count": 0,
      "outputs": []
    },
    {
      "cell_type": "code",
      "metadata": {
        "id": "HP6o8JiEXs8Q",
        "colab_type": "code",
        "colab": {}
      },
      "source": [
        "data = pd.read_csv(\"/gdrive/My Drive/Hackathon/GREATLEARNING-APRIL/FeatureSelection/data.csv\")\n",
        "data_joined = pd.read_csv(\"/gdrive/My Drive/Hackathon/GREATLEARNING-APRIL/FeatureSelection/data_joined.csv\")\n",
        "best_columns = pd.read_csv(\"/gdrive/My Drive/Hackathon/GREATLEARNING-APRIL/FeatureSelection/best_columns.csv\")\n",
        "sample_submission = pd.read_csv(\"/gdrive/My Drive/Hackathon/GREATLEARNING-APRIL/FeatureSelection/sample_submission.csv\")\n",
        "data_tst_ids = pd.read_csv(\"/gdrive/My Drive/Hackathon/GREATLEARNING-APRIL/FeatureSelection/data_tst_ids.csv\")\n",
        "finalDf_pca = pd.read_csv(\"/gdrive/My Drive/Hackathon/GREATLEARNING-APRIL/FeatureSelection/finalDf_pca.csv\")"
      ],
      "execution_count": 0,
      "outputs": []
    },
    {
      "cell_type": "code",
      "metadata": {
        "id": "baXmDHErupBT",
        "colab_type": "code",
        "colab": {}
      },
      "source": [
        "col_int = data.drop(columns=['greatstone_rating'],axis=1).select_dtypes(exclude=('category','object')).columns\n",
        "col_id = ['tag','id','fund_id']\n",
        "col_tgt = ['greatstone_rating']\n",
        "col_cat = data.drop(columns=['greatstone_rating'],axis=1).select_dtypes(include=('category','object')).columns\n",
        "print(len(col_int)+len(col_id)+len(col_tgt)+len(col_cat))\n",
        "print('col_int :- ',len(col_int),'| col_cat :-',len(col_cat),'| col_id :-',len(col_id),'| col_tgt :-',len(col_tgt))\n",
        "print(col_cat)"
      ],
      "execution_count": 0,
      "outputs": []
    },
    {
      "cell_type": "code",
      "metadata": {
        "id": "pkfXMk48c-4O",
        "colab_type": "code",
        "colab": {}
      },
      "source": [
        "##########################################  SPLITTING THE DATA INTO TRAINING AND TESTING ###############################################\n",
        "\n",
        "data_train = data[~data.greatstone_rating.isnull()]\n",
        "data_tst = data[data.greatstone_rating.isnull()]"
      ],
      "execution_count": 0,
      "outputs": []
    },
    {
      "cell_type": "code",
      "metadata": {
        "id": "yzFoLcfjXax5",
        "colab_type": "code",
        "colab": {}
      },
      "source": [
        "\n",
        "###################################* ******* NEURAL NETWORK - CROSS VALIDATION K FOLD  *********** #####################################################"
      ],
      "execution_count": 0,
      "outputs": []
    },
    {
      "cell_type": "code",
      "metadata": {
        "id": "6CJtXv2Eo_o1",
        "colab_type": "code",
        "colab": {}
      },
      "source": [
        "#y_train_0 = tf.keras.utils.to_categorical(y_train_0, num_classes=6)\n",
        "#y_valid_0 = tf.keras.utils.to_categorical(y_valid_0, num_classes=6)\n",
        "#y_train_0"
      ],
      "execution_count": 0,
      "outputs": []
    },
    {
      "cell_type": "code",
      "metadata": {
        "id": "IJZXikWh1u1F",
        "colab_type": "code",
        "colab": {}
      },
      "source": [
        "from sklearn.preprocessing import OneHotEncoder\n",
        "ohe = OneHotEncoder()\n",
        "#y_train_0 = ohe.fit_transform(y_train_0).toarray()\n",
        "#y_valid_0 = ohe.fit_transform(y_valid_0).toarray()\n",
        "#y_train_0"
      ],
      "execution_count": 0,
      "outputs": []
    },
    {
      "cell_type": "code",
      "metadata": {
        "id": "0k45xU_ZiqOV",
        "colab_type": "code",
        "colab": {}
      },
      "source": [
        "#num_classes = len(y_train_0[0])\n",
        "#print(num_classes)"
      ],
      "execution_count": 0,
      "outputs": []
    },
    {
      "cell_type": "code",
      "metadata": {
        "id": "Ppu-lHDvjRqN",
        "colab_type": "code",
        "colab": {}
      },
      "source": [
        "#print(X_train_minmax_0.shape,y_train_0.shape,X_valid_minmax_0.shape,y_valid_0.shape)"
      ],
      "execution_count": 0,
      "outputs": []
    },
    {
      "cell_type": "code",
      "metadata": {
        "id": "lkwqduEfgTTY",
        "colab_type": "code",
        "outputId": "46df1947-31be-4b89-ea29-a569fe9d7b3c",
        "colab": {
          "base_uri": "https://localhost:8080/",
          "height": 1000
        }
      },
      "source": [
        "# define 10-fold cross validation test harness\n",
        "from sklearn.model_selection import StratifiedKFold\n",
        "from sklearn.model_selection import KFold\n",
        "from sklearn import preprocessing\n",
        "mm_scaler = preprocessing.MinMaxScaler()    #  MinMaxScaler() #StandardScaler\n",
        "from sklearn.preprocessing import OneHotEncoder\n",
        "\n",
        "ohe = OneHotEncoder()\n",
        "# multi-class classification with Keras\n",
        "import pandas\n",
        "from keras.models import Sequential\n",
        "from keras.layers import Dense\n",
        "from keras.wrappers.scikit_learn import KerasClassifier\n",
        "from keras.utils import np_utils\n",
        "from sklearn.model_selection import cross_val_score\n",
        "\n",
        "from sklearn.preprocessing import LabelEncoder\n",
        "from sklearn.pipeline import Pipeline\n",
        "import numpy\n",
        "import tensorflow as tf\n",
        "from keras.models import Sequential\n",
        "from keras.layers import Dense\n",
        "from keras.layers import LSTM\n",
        "from keras.layers.embeddings import Embedding\n",
        "from keras.callbacks import EarlyStopping,  ModelCheckpoint\n",
        "from keras.preprocessing import sequence\n",
        "# fix random seed for reproducibility\n",
        "numpy.random.seed(7)\n",
        "\n",
        "\n",
        "\n",
        "kfold = StratifiedKFold(n_splits=50, shuffle=True, random_state=21312)\n",
        "\n",
        "X =  data_train[col_int]  # data[~data.greatstone_rating.isnull()][col_int]   # data[col_int]     #.drop(columns=['greatstone_rating'],axis=1)\n",
        "Y =  data_train[col_tgt]\n",
        "\n",
        "cvscores = []\n",
        "\n",
        "for train, test in kfold.split(X, Y):\n",
        "   X_train = X.iloc[train,:]\n",
        "   X_test = X.iloc[test,:]\n",
        "   X_train_minmax_0 = mm_scaler.fit_transform(X_train)\n",
        "   X_valid_minmax_0 = mm_scaler.fit_transform(X_test)\n",
        "   #print(X_train_minmax_0.shape[1])\n",
        "   y_train = Y.iloc[train,:]\n",
        "   y_test = Y.iloc[test,:]\n",
        "   y_train_0 = ohe.fit_transform(y_train).toarray()\n",
        "   y_valid_0 = ohe.fit_transform(y_test).toarray()\n",
        "   #print(X_train_minmax_0.shape,y_train_0.shape,X_valid_minmax_0.shape,y_valid_0.shape)\n",
        "   num_classes = len(y_train_0[0])\n",
        "\n",
        "   # create model\n",
        "   #Initialize model, reshape & normalize data\n",
        "   tf.keras.backend.clear_session()\n",
        "   #tf.keras.Sequential(layers=None, name=None)\n",
        "   # Neural network\n",
        "\n",
        "   num_classes=6\n",
        "\n",
        " \n",
        "   model = tf.keras.models.Sequential()\n",
        "   model.add(tf.keras.layers.Dense(800, input_dim=X_train_minmax_0.shape[1], activation='relu', name='Input_layer'))\n",
        "   #model1.add(Dense(output_dim=128, init='he_normal', bias=True))\n",
        "   model.add(tf.keras.layers.BatchNormalization())\n",
        " \n",
        "   #Hidden layers 1\n",
        "   model.add(tf.keras.layers.Dense(500, activation='relu', name='Layer_1'))\n",
        "   model.add(tf.keras.layers.BatchNormalization())\n",
        "   #Dropout layer\n",
        "   model.add(tf.keras.layers.Dropout(0.4))\n",
        "\n",
        "   #Hidden layers 2\n",
        "   model.add(tf.keras.layers.Dense(250, activation='relu', name='Layer_2'))\n",
        "   model.add(tf.keras.layers.BatchNormalization())\n",
        "   #Dropout layer\n",
        "   model.add(tf.keras.layers.Dropout(0.4))\n",
        "\n",
        "   #Hidden layers 3\n",
        "   model.add(tf.keras.layers.Dense(150, activation='relu', name='Layer_3'))\n",
        "   model.add(tf.keras.layers.BatchNormalization())\n",
        "\n",
        "   #Hidden layers 4\n",
        "   model.add(tf.keras.layers.Dense(50, activation='relu', name='Layer_4'))\n",
        "   model.add(tf.keras.layers.BatchNormalization())\n",
        "   #Dropout layer\n",
        "   model.add(tf.keras.layers.Dropout(0.5))\n",
        "\n",
        "   #Hidden layers 5\n",
        "   model.add(tf.keras.layers.Dense(25, activation='relu', name='Layer_5'))\n",
        "   model.add(tf.keras.layers.BatchNormalization())\n",
        "   #Dropout layer\n",
        "   model.add(tf.keras.layers.Dropout(0.5))\n",
        "\n",
        "   model.add(tf.keras.layers.Dense(num_classes, activation='softmax', name='Output_layer'))\n",
        "\n",
        "   #Create optimizer with non-default learning rate\n",
        "   sgd_optimizer = tf.keras.optimizers.SGD(lr=0.03, decay=0.001 , momentum = 0.9, nesterov=True)           # 'adam'\n",
        "\n",
        "   model.compile(loss='categorical_crossentropy',optimizer=sgd_optimizer, metrics=['accuracy'])  \n",
        "\n",
        "\n",
        "   # Fit the model\n",
        "   model.fit(X_train_minmax_0, y_train_0, epochs=50, batch_size=32, verbose=1 , validation_data=(X_valid_minmax_0, y_valid_0))\n",
        "   # model.fit(X[train], Y[train], epochs=150, batch_size=10, verbose=0)\n",
        "   # evaluate the model\n",
        "   scores = model.evaluate(X_valid_minmax_0, y_valid_0, verbose=0)\n",
        "   print(\"%s: %.2f%%\" % (model.metrics_names[1], scores[1]*100))\n",
        "   print('********************\"*10)\n",
        "   cvscores.append(scores[1] * 100)\n",
        "print(\"%.2f%% (+/- %.2f%%)\" % (np.mean(cvscores), np.std(cvscores)))"
      ],
      "execution_count": 0,
      "outputs": [
        {
          "output_type": "stream",
          "text": [
            "Using TensorFlow backend.\n"
          ],
          "name": "stderr"
        },
        {
          "output_type": "stream",
          "text": [
            "Epoch 1/50\n",
            "1247/1247 [==============================] - 16s 13ms/step - loss: 1.6601 - accuracy: 0.2725 - val_loss: 1.6539 - val_accuracy: 0.2883\n",
            "Epoch 2/50\n",
            "1247/1247 [==============================] - 15s 12ms/step - loss: 1.2778 - accuracy: 0.4538 - val_loss: 1.4515 - val_accuracy: 0.4110\n",
            "Epoch 3/50\n",
            "1247/1247 [==============================] - 16s 13ms/step - loss: 1.0664 - accuracy: 0.5672 - val_loss: 2.0444 - val_accuracy: 0.3436\n",
            "Epoch 4/50\n",
            "1247/1247 [==============================] - 15s 12ms/step - loss: 0.9784 - accuracy: 0.6014 - val_loss: 2.2702 - val_accuracy: 0.3337\n",
            "Epoch 5/50\n",
            "1247/1247 [==============================] - 18s 15ms/step - loss: 0.9282 - accuracy: 0.6275 - val_loss: 2.2710 - val_accuracy: 0.3423\n",
            "Epoch 6/50\n",
            "1247/1247 [==============================] - 16s 13ms/step - loss: 0.8818 - accuracy: 0.6457 - val_loss: 2.4796 - val_accuracy: 0.3448\n",
            "Epoch 7/50\n",
            "1247/1247 [==============================] - 16s 12ms/step - loss: 0.8564 - accuracy: 0.6575 - val_loss: 2.7597 - val_accuracy: 0.3276\n",
            "Epoch 8/50\n",
            "1247/1247 [==============================] - 15s 12ms/step - loss: 0.8238 - accuracy: 0.6705 - val_loss: 2.8790 - val_accuracy: 0.3117\n",
            "Epoch 9/50\n",
            "1247/1247 [==============================] - 15s 12ms/step - loss: 0.8112 - accuracy: 0.6760 - val_loss: 3.0483 - val_accuracy: 0.3190\n",
            "Epoch 10/50\n",
            "1247/1247 [==============================] - 15s 12ms/step - loss: 0.7855 - accuracy: 0.6839 - val_loss: 2.6169 - val_accuracy: 0.3399\n",
            "Epoch 11/50\n",
            "1247/1247 [==============================] - 16s 12ms/step - loss: 0.7645 - accuracy: 0.6940 - val_loss: 2.4678 - val_accuracy: 0.3423\n",
            "Epoch 12/50\n",
            "1247/1247 [==============================] - 15s 12ms/step - loss: 0.7510 - accuracy: 0.6994 - val_loss: 3.3397 - val_accuracy: 0.3202\n",
            "Epoch 13/50\n",
            "1247/1247 [==============================] - 15s 12ms/step - loss: 0.7431 - accuracy: 0.7052 - val_loss: 2.9108 - val_accuracy: 0.3362\n",
            "Epoch 14/50\n",
            "1247/1247 [==============================] - 15s 12ms/step - loss: 0.7290 - accuracy: 0.7093 - val_loss: 3.2139 - val_accuracy: 0.3215\n",
            "Epoch 15/50\n",
            "1247/1247 [==============================] - 15s 12ms/step - loss: 0.7032 - accuracy: 0.7185 - val_loss: 2.9113 - val_accuracy: 0.3301\n",
            "Epoch 16/50\n",
            "1247/1247 [==============================] - 15s 12ms/step - loss: 0.6968 - accuracy: 0.7222 - val_loss: 2.8430 - val_accuracy: 0.3509\n",
            "Epoch 17/50\n",
            "1247/1247 [==============================] - 15s 12ms/step - loss: 0.6904 - accuracy: 0.7256 - val_loss: 3.1098 - val_accuracy: 0.3387\n",
            "Epoch 18/50\n",
            "1247/1247 [==============================] - 15s 12ms/step - loss: 0.6763 - accuracy: 0.7317 - val_loss: 3.1582 - val_accuracy: 0.3460\n",
            "Epoch 19/50\n",
            "1247/1247 [==============================] - 15s 12ms/step - loss: 0.6741 - accuracy: 0.7327 - val_loss: 2.9242 - val_accuracy: 0.3669\n",
            "Epoch 20/50\n",
            "1247/1247 [==============================] - 15s 12ms/step - loss: 0.6596 - accuracy: 0.7396 - val_loss: 3.5291 - val_accuracy: 0.3031\n",
            "Epoch 21/50\n",
            "1247/1247 [==============================] - 15s 12ms/step - loss: 0.6464 - accuracy: 0.7432 - val_loss: 3.2424 - val_accuracy: 0.3460\n",
            "Epoch 22/50\n",
            "1247/1247 [==============================] - 15s 12ms/step - loss: 0.6432 - accuracy: 0.7469 - val_loss: 2.9072 - val_accuracy: 0.3718\n",
            "Epoch 23/50\n",
            "1247/1247 [==============================] - 16s 12ms/step - loss: 0.6397 - accuracy: 0.7485 - val_loss: 3.4378 - val_accuracy: 0.3350\n",
            "Epoch 24/50\n",
            "1247/1247 [==============================] - 15s 12ms/step - loss: 0.6340 - accuracy: 0.7520 - val_loss: 3.0833 - val_accuracy: 0.3485\n",
            "Epoch 25/50\n",
            "1247/1247 [==============================] - 16s 12ms/step - loss: 0.6253 - accuracy: 0.7558 - val_loss: 3.0405 - val_accuracy: 0.3718\n",
            "Epoch 26/50\n",
            "1247/1247 [==============================] - 16s 13ms/step - loss: 0.6173 - accuracy: 0.7587 - val_loss: 3.0999 - val_accuracy: 0.3730\n",
            "Epoch 27/50\n",
            "1247/1247 [==============================] - 15s 12ms/step - loss: 0.6192 - accuracy: 0.7591 - val_loss: 2.9192 - val_accuracy: 0.3791\n",
            "Epoch 28/50\n",
            "1247/1247 [==============================] - 15s 12ms/step - loss: 0.6148 - accuracy: 0.7596 - val_loss: 3.2764 - val_accuracy: 0.3411\n",
            "Epoch 29/50\n",
            "1247/1247 [==============================] - 15s 12ms/step - loss: 0.6013 - accuracy: 0.7647 - val_loss: 3.1363 - val_accuracy: 0.3681\n",
            "Epoch 30/50\n",
            "1247/1247 [==============================] - 15s 12ms/step - loss: 0.5913 - accuracy: 0.7709 - val_loss: 3.0995 - val_accuracy: 0.3706\n",
            "Epoch 31/50\n",
            "1247/1247 [==============================] - 15s 12ms/step - loss: 0.5968 - accuracy: 0.7692 - val_loss: 3.2912 - val_accuracy: 0.3472\n",
            "Epoch 32/50\n",
            "1247/1247 [==============================] - 16s 13ms/step - loss: 0.5924 - accuracy: 0.7706 - val_loss: 3.3441 - val_accuracy: 0.3546\n",
            "Epoch 33/50\n",
            "1247/1247 [==============================] - 16s 13ms/step - loss: 0.5821 - accuracy: 0.7754 - val_loss: 3.3305 - val_accuracy: 0.3607\n",
            "Epoch 34/50\n",
            "1247/1247 [==============================] - 16s 13ms/step - loss: 0.5795 - accuracy: 0.7740 - val_loss: 3.0553 - val_accuracy: 0.3742\n",
            "Epoch 35/50\n",
            "1247/1247 [==============================] - 16s 12ms/step - loss: 0.5835 - accuracy: 0.7777 - val_loss: 3.0250 - val_accuracy: 0.3914\n",
            "Epoch 36/50\n",
            "1247/1247 [==============================] - 15s 12ms/step - loss: 0.5809 - accuracy: 0.7770 - val_loss: 3.1076 - val_accuracy: 0.3865\n",
            "Epoch 37/50\n",
            "1247/1247 [==============================] - 16s 13ms/step - loss: 0.5633 - accuracy: 0.7823 - val_loss: 3.1742 - val_accuracy: 0.3816\n",
            "Epoch 38/50\n",
            "1247/1247 [==============================] - 16s 13ms/step - loss: 0.5649 - accuracy: 0.7831 - val_loss: 3.4820 - val_accuracy: 0.3669\n",
            "Epoch 39/50\n",
            "1247/1247 [==============================] - 16s 12ms/step - loss: 0.5614 - accuracy: 0.7831 - val_loss: 3.1542 - val_accuracy: 0.3804\n",
            "Epoch 40/50\n",
            "1247/1247 [==============================] - 15s 12ms/step - loss: 0.5480 - accuracy: 0.7855 - val_loss: 3.0598 - val_accuracy: 0.3951\n",
            "Epoch 41/50\n",
            "1247/1247 [==============================] - 15s 12ms/step - loss: 0.5509 - accuracy: 0.7875 - val_loss: 3.5933 - val_accuracy: 0.3620\n",
            "Epoch 42/50\n",
            "1247/1247 [==============================] - 15s 12ms/step - loss: 0.5461 - accuracy: 0.7910 - val_loss: 3.2635 - val_accuracy: 0.3828\n",
            "Epoch 43/50\n",
            "1247/1247 [==============================] - 16s 13ms/step - loss: 0.5439 - accuracy: 0.7921 - val_loss: 3.7619 - val_accuracy: 0.3534\n",
            "Epoch 44/50\n",
            "1247/1247 [==============================] - 17s 14ms/step - loss: 0.5423 - accuracy: 0.7924 - val_loss: 3.4458 - val_accuracy: 0.3804\n",
            "Epoch 45/50\n",
            "1247/1247 [==============================] - 17s 14ms/step - loss: 0.5383 - accuracy: 0.7903 - val_loss: 3.3082 - val_accuracy: 0.3755\n",
            "Epoch 46/50\n",
            "1247/1247 [==============================] - 16s 12ms/step - loss: 0.5309 - accuracy: 0.7970 - val_loss: 3.4013 - val_accuracy: 0.3755\n",
            "Epoch 47/50\n",
            "1247/1247 [==============================] - 15s 12ms/step - loss: 0.5374 - accuracy: 0.7933 - val_loss: 3.8812 - val_accuracy: 0.3436\n",
            "Epoch 48/50\n",
            "1247/1247 [==============================] - 15s 12ms/step - loss: 0.5275 - accuracy: 0.8004 - val_loss: 3.6708 - val_accuracy: 0.3595\n",
            "Epoch 49/50\n",
            "1247/1247 [==============================] - 16s 13ms/step - loss: 0.5297 - accuracy: 0.7977 - val_loss: 3.6877 - val_accuracy: 0.3718\n",
            "Epoch 50/50\n",
            "1247/1247 [==============================] - 15s 12ms/step - loss: 0.5249 - accuracy: 0.7999 - val_loss: 3.1083 - val_accuracy: 0.4025\n",
            "accuracy: 40.25%\n",
            "Epoch 1/50\n",
            "1247/1247 [==============================] - 15s 12ms/step - loss: 1.6113 - accuracy: 0.2946 - val_loss: 1.5354 - val_accuracy: 0.3620\n",
            "Epoch 2/50\n",
            "1247/1247 [==============================] - 15s 12ms/step - loss: 1.2134 - accuracy: 0.4923 - val_loss: 1.3404 - val_accuracy: 0.4675\n",
            "Epoch 3/50\n",
            "1247/1247 [==============================] - 15s 12ms/step - loss: 1.0357 - accuracy: 0.5713 - val_loss: 1.0591 - val_accuracy: 0.5595\n",
            "Epoch 4/50\n",
            "1247/1247 [==============================] - 15s 12ms/step - loss: 0.9624 - accuracy: 0.6082 - val_loss: 1.1232 - val_accuracy: 0.5264\n",
            "Epoch 5/50\n",
            "1247/1247 [==============================] - 15s 12ms/step - loss: 0.9088 - accuracy: 0.6289 - val_loss: 0.9762 - val_accuracy: 0.5975\n",
            "Epoch 6/50\n",
            "1247/1247 [==============================] - 15s 12ms/step - loss: 0.8688 - accuracy: 0.6475 - val_loss: 1.0123 - val_accuracy: 0.5767\n",
            "Epoch 7/50\n",
            "1247/1247 [==============================] - 15s 12ms/step - loss: 0.8352 - accuracy: 0.6560 - val_loss: 1.2418 - val_accuracy: 0.5239\n",
            "Epoch 8/50\n",
            "1247/1247 [==============================] - 15s 12ms/step - loss: 0.8096 - accuracy: 0.6725 - val_loss: 1.2859 - val_accuracy: 0.5202\n",
            "Epoch 9/50\n",
            "1247/1247 [==============================] - 15s 12ms/step - loss: 0.7970 - accuracy: 0.6783 - val_loss: 1.0119 - val_accuracy: 0.5914\n",
            "Epoch 10/50\n",
            "1247/1247 [==============================] - 16s 13ms/step - loss: 0.7709 - accuracy: 0.6891 - val_loss: 1.3502 - val_accuracy: 0.5117\n",
            "Epoch 11/50\n",
            "1247/1247 [==============================] - 16s 13ms/step - loss: 0.7516 - accuracy: 0.6958 - val_loss: 1.1189 - val_accuracy: 0.5460\n",
            "Epoch 12/50\n",
            "1247/1247 [==============================] - 15s 12ms/step - loss: 0.7385 - accuracy: 0.7056 - val_loss: 1.1764 - val_accuracy: 0.5472\n",
            "Epoch 13/50\n",
            "1247/1247 [==============================] - 15s 12ms/step - loss: 0.7197 - accuracy: 0.7078 - val_loss: 1.2681 - val_accuracy: 0.5387\n",
            "Epoch 14/50\n",
            "1247/1247 [==============================] - 15s 12ms/step - loss: 0.7108 - accuracy: 0.7159 - val_loss: 1.2651 - val_accuracy: 0.5227\n",
            "Epoch 15/50\n",
            "1247/1247 [==============================] - 15s 12ms/step - loss: 0.7027 - accuracy: 0.7202 - val_loss: 1.2701 - val_accuracy: 0.5472\n",
            "Epoch 16/50\n",
            "1247/1247 [==============================] - 16s 13ms/step - loss: 0.6874 - accuracy: 0.7221 - val_loss: 1.1910 - val_accuracy: 0.5583\n",
            "Epoch 17/50\n",
            "1247/1247 [==============================] - 15s 12ms/step - loss: 0.6834 - accuracy: 0.7265 - val_loss: 1.1317 - val_accuracy: 0.5706\n",
            "Epoch 18/50\n",
            "1247/1247 [==============================] - 15s 12ms/step - loss: 0.6710 - accuracy: 0.7313 - val_loss: 1.3186 - val_accuracy: 0.5387\n",
            "Epoch 19/50\n",
            "1247/1247 [==============================] - 15s 12ms/step - loss: 0.6642 - accuracy: 0.7362 - val_loss: 1.1966 - val_accuracy: 0.5656\n",
            "Epoch 20/50\n",
            "1247/1247 [==============================] - 15s 12ms/step - loss: 0.6524 - accuracy: 0.7429 - val_loss: 1.2381 - val_accuracy: 0.5706\n",
            "Epoch 21/50\n",
            "1247/1247 [==============================] - 15s 12ms/step - loss: 0.6416 - accuracy: 0.7480 - val_loss: 1.4363 - val_accuracy: 0.5337\n",
            "Epoch 22/50\n",
            "1247/1247 [==============================] - 15s 12ms/step - loss: 0.6260 - accuracy: 0.7506 - val_loss: 1.4276 - val_accuracy: 0.5423\n",
            "Epoch 23/50\n",
            "1247/1247 [==============================] - 15s 12ms/step - loss: 0.6314 - accuracy: 0.7517 - val_loss: 1.1068 - val_accuracy: 0.5939\n",
            "Epoch 24/50\n",
            "1247/1247 [==============================] - 15s 12ms/step - loss: 0.6184 - accuracy: 0.7595 - val_loss: 1.4569 - val_accuracy: 0.5448\n",
            "Epoch 25/50\n",
            "1247/1247 [==============================] - 15s 12ms/step - loss: 0.6140 - accuracy: 0.7593 - val_loss: 1.3307 - val_accuracy: 0.5644\n",
            "Epoch 26/50\n",
            "1247/1247 [==============================] - 15s 12ms/step - loss: 0.6020 - accuracy: 0.7643 - val_loss: 1.3971 - val_accuracy: 0.5472\n",
            "Epoch 27/50\n",
            "1247/1247 [==============================] - 15s 12ms/step - loss: 0.6024 - accuracy: 0.7646 - val_loss: 1.1767 - val_accuracy: 0.5840\n",
            "Epoch 28/50\n",
            "1247/1247 [==============================] - 15s 12ms/step - loss: 0.6041 - accuracy: 0.7640 - val_loss: 1.1734 - val_accuracy: 0.5877\n",
            "Epoch 29/50\n",
            "1247/1247 [==============================] - 15s 12ms/step - loss: 0.5839 - accuracy: 0.7743 - val_loss: 1.6766 - val_accuracy: 0.5252\n",
            "Epoch 30/50\n",
            "1247/1247 [==============================] - 15s 12ms/step - loss: 0.5883 - accuracy: 0.7712 - val_loss: 1.2583 - val_accuracy: 0.5755\n",
            "Epoch 31/50\n",
            "1247/1247 [==============================] - 15s 12ms/step - loss: 0.5846 - accuracy: 0.7709 - val_loss: 1.5417 - val_accuracy: 0.5423\n",
            "Epoch 32/50\n",
            "1247/1247 [==============================] - 15s 12ms/step - loss: 0.5808 - accuracy: 0.7755 - val_loss: 1.6044 - val_accuracy: 0.5448\n",
            "Epoch 33/50\n",
            "1247/1247 [==============================] - 15s 12ms/step - loss: 0.5770 - accuracy: 0.7785 - val_loss: 1.5194 - val_accuracy: 0.5509\n",
            "Epoch 34/50\n",
            "1247/1247 [==============================] - 18s 14ms/step - loss: 0.5665 - accuracy: 0.7793 - val_loss: 1.3000 - val_accuracy: 0.5742\n",
            "Epoch 35/50\n",
            "1247/1247 [==============================] - 15s 12ms/step - loss: 0.5698 - accuracy: 0.7802 - val_loss: 1.5093 - val_accuracy: 0.5448\n",
            "Epoch 36/50\n",
            "1247/1247 [==============================] - 16s 13ms/step - loss: 0.5608 - accuracy: 0.7837 - val_loss: 1.4577 - val_accuracy: 0.5632\n",
            "Epoch 37/50\n",
            "1247/1247 [==============================] - 15s 12ms/step - loss: 0.5539 - accuracy: 0.7868 - val_loss: 1.3822 - val_accuracy: 0.5755\n",
            "Epoch 38/50\n",
            "1247/1247 [==============================] - 15s 12ms/step - loss: 0.5473 - accuracy: 0.7899 - val_loss: 1.7120 - val_accuracy: 0.5387\n",
            "Epoch 39/50\n",
            "1247/1247 [==============================] - 15s 12ms/step - loss: 0.5539 - accuracy: 0.7851 - val_loss: 1.2430 - val_accuracy: 0.5988\n",
            "Epoch 40/50\n",
            "1247/1247 [==============================] - 16s 12ms/step - loss: 0.5425 - accuracy: 0.7927 - val_loss: 1.4527 - val_accuracy: 0.5742\n",
            "Epoch 41/50\n",
            "1247/1247 [==============================] - 15s 12ms/step - loss: 0.5321 - accuracy: 0.7967 - val_loss: 1.3898 - val_accuracy: 0.5853\n",
            "Epoch 42/50\n",
            "1247/1247 [==============================] - 15s 12ms/step - loss: 0.5460 - accuracy: 0.7930 - val_loss: 1.5766 - val_accuracy: 0.5534\n",
            "Epoch 43/50\n",
            "1247/1247 [==============================] - 15s 12ms/step - loss: 0.5328 - accuracy: 0.7960 - val_loss: 1.5479 - val_accuracy: 0.5718\n",
            "Epoch 44/50\n",
            "1247/1247 [==============================] - 15s 12ms/step - loss: 0.5272 - accuracy: 0.7980 - val_loss: 1.5059 - val_accuracy: 0.5718\n",
            "Epoch 45/50\n",
            "1247/1247 [==============================] - 15s 12ms/step - loss: 0.5263 - accuracy: 0.7987 - val_loss: 1.6886 - val_accuracy: 0.5460\n",
            "Epoch 46/50\n",
            "1247/1247 [==============================] - 15s 12ms/step - loss: 0.5211 - accuracy: 0.8018 - val_loss: 1.6220 - val_accuracy: 0.5546\n",
            "Epoch 47/50\n",
            "1247/1247 [==============================] - 15s 12ms/step - loss: 0.5325 - accuracy: 0.7969 - val_loss: 1.5835 - val_accuracy: 0.5632\n",
            "Epoch 48/50\n",
            "1247/1247 [==============================] - 15s 12ms/step - loss: 0.5196 - accuracy: 0.8025 - val_loss: 1.3923 - val_accuracy: 0.5951\n",
            "Epoch 49/50\n",
            "1247/1247 [==============================] - 15s 12ms/step - loss: 0.5239 - accuracy: 0.8017 - val_loss: 1.6760 - val_accuracy: 0.5472\n",
            "Epoch 50/50\n",
            "1247/1247 [==============================] - 15s 12ms/step - loss: 0.5119 - accuracy: 0.8051 - val_loss: 1.5863 - val_accuracy: 0.5742\n",
            "accuracy: 57.42%\n",
            "Epoch 1/50\n",
            "1247/1247 [==============================] - 15s 12ms/step - loss: 1.6628 - accuracy: 0.2832 - val_loss: 2.1569 - val_accuracy: 0.2552\n",
            "Epoch 2/50\n",
            "1247/1247 [==============================] - 15s 12ms/step - loss: 1.2364 - accuracy: 0.4862 - val_loss: 2.4273 - val_accuracy: 0.2896\n",
            "Epoch 3/50\n",
            "1247/1247 [==============================] - 15s 12ms/step - loss: 1.0473 - accuracy: 0.5763 - val_loss: 2.0162 - val_accuracy: 0.3669\n",
            "Epoch 4/50\n",
            "1247/1247 [==============================] - 15s 12ms/step - loss: 0.9701 - accuracy: 0.6101 - val_loss: 2.3882 - val_accuracy: 0.3374\n",
            "Epoch 5/50\n",
            "1247/1247 [==============================] - 15s 12ms/step - loss: 0.9181 - accuracy: 0.6287 - val_loss: 2.4469 - val_accuracy: 0.3448\n",
            "Epoch 6/50\n",
            "1247/1247 [==============================] - 15s 12ms/step - loss: 0.8808 - accuracy: 0.6447 - val_loss: 2.5499 - val_accuracy: 0.3325\n",
            "Epoch 7/50\n",
            "1247/1247 [==============================] - 15s 12ms/step - loss: 0.8462 - accuracy: 0.6603 - val_loss: 2.1722 - val_accuracy: 0.3620\n",
            "Epoch 8/50\n",
            "1247/1247 [==============================] - 15s 12ms/step - loss: 0.8229 - accuracy: 0.6678 - val_loss: 2.5474 - val_accuracy: 0.3534\n",
            "Epoch 9/50\n",
            "1247/1247 [==============================] - 15s 12ms/step - loss: 0.8008 - accuracy: 0.6817 - val_loss: 2.5462 - val_accuracy: 0.3742\n",
            "Epoch 10/50\n",
            "1247/1247 [==============================] - 15s 12ms/step - loss: 0.7716 - accuracy: 0.6893 - val_loss: 2.6687 - val_accuracy: 0.3951\n",
            "Epoch 11/50\n",
            "1247/1247 [==============================] - 15s 12ms/step - loss: 0.7550 - accuracy: 0.6992 - val_loss: 3.2924 - val_accuracy: 0.3325\n",
            "Epoch 12/50\n",
            "1247/1247 [==============================] - 15s 12ms/step - loss: 0.7434 - accuracy: 0.7037 - val_loss: 2.8853 - val_accuracy: 0.3595\n",
            "Epoch 13/50\n",
            "1247/1247 [==============================] - 15s 12ms/step - loss: 0.7184 - accuracy: 0.7135 - val_loss: 2.8103 - val_accuracy: 0.3693\n",
            "Epoch 14/50\n",
            "1247/1247 [==============================] - 15s 12ms/step - loss: 0.7107 - accuracy: 0.7164 - val_loss: 2.7467 - val_accuracy: 0.3890\n",
            "Epoch 15/50\n",
            "1247/1247 [==============================] - 15s 12ms/step - loss: 0.6923 - accuracy: 0.7246 - val_loss: 3.0110 - val_accuracy: 0.3706\n",
            "Epoch 16/50\n",
            "1247/1247 [==============================] - 15s 12ms/step - loss: 0.6939 - accuracy: 0.7248 - val_loss: 2.9632 - val_accuracy: 0.3742\n",
            "Epoch 17/50\n",
            "1247/1247 [==============================] - 15s 12ms/step - loss: 0.6757 - accuracy: 0.7333 - val_loss: 3.2047 - val_accuracy: 0.3472\n",
            "Epoch 18/50\n",
            "1247/1247 [==============================] - 15s 12ms/step - loss: 0.6727 - accuracy: 0.7314 - val_loss: 3.1863 - val_accuracy: 0.3485\n",
            "Epoch 19/50\n",
            "1247/1247 [==============================] - 15s 12ms/step - loss: 0.6568 - accuracy: 0.7407 - val_loss: 3.2090 - val_accuracy: 0.3583\n",
            "Epoch 20/50\n",
            "1247/1247 [==============================] - 15s 12ms/step - loss: 0.6500 - accuracy: 0.7406 - val_loss: 3.0788 - val_accuracy: 0.3656\n",
            "Epoch 21/50\n",
            "1247/1247 [==============================] - 15s 12ms/step - loss: 0.6316 - accuracy: 0.7517 - val_loss: 2.9633 - val_accuracy: 0.3718\n",
            "Epoch 22/50\n",
            "1247/1247 [==============================] - 15s 12ms/step - loss: 0.6313 - accuracy: 0.7540 - val_loss: 2.8594 - val_accuracy: 0.3804\n",
            "Epoch 23/50\n",
            "1247/1247 [==============================] - 15s 12ms/step - loss: 0.6262 - accuracy: 0.7540 - val_loss: 3.0097 - val_accuracy: 0.3804\n",
            "Epoch 24/50\n",
            "1247/1247 [==============================] - 18s 14ms/step - loss: 0.6149 - accuracy: 0.7567 - val_loss: 3.1513 - val_accuracy: 0.3669\n",
            "Epoch 25/50\n",
            "1247/1247 [==============================] - 15s 12ms/step - loss: 0.6112 - accuracy: 0.7599 - val_loss: 3.4751 - val_accuracy: 0.3497\n",
            "Epoch 26/50\n",
            "1247/1247 [==============================] - 15s 12ms/step - loss: 0.6097 - accuracy: 0.7605 - val_loss: 2.9150 - val_accuracy: 0.4049\n",
            "Epoch 27/50\n",
            "1247/1247 [==============================] - 15s 12ms/step - loss: 0.6003 - accuracy: 0.7647 - val_loss: 3.0587 - val_accuracy: 0.3877\n",
            "Epoch 28/50\n",
            "1247/1247 [==============================] - 15s 12ms/step - loss: 0.5972 - accuracy: 0.7662 - val_loss: 3.2782 - val_accuracy: 0.3718\n",
            "Epoch 29/50\n",
            "1247/1247 [==============================] - 15s 12ms/step - loss: 0.5850 - accuracy: 0.7699 - val_loss: 2.9635 - val_accuracy: 0.3890\n",
            "Epoch 30/50\n",
            "1247/1247 [==============================] - 15s 12ms/step - loss: 0.5839 - accuracy: 0.7701 - val_loss: 3.1750 - val_accuracy: 0.3902\n",
            "Epoch 31/50\n",
            "1247/1247 [==============================] - 15s 12ms/step - loss: 0.5698 - accuracy: 0.7777 - val_loss: 3.2738 - val_accuracy: 0.3706\n",
            "Epoch 32/50\n",
            "1247/1247 [==============================] - 15s 12ms/step - loss: 0.5765 - accuracy: 0.7766 - val_loss: 3.0868 - val_accuracy: 0.3853\n",
            "Epoch 33/50\n",
            "1247/1247 [==============================] - 15s 12ms/step - loss: 0.5701 - accuracy: 0.7772 - val_loss: 3.0817 - val_accuracy: 0.4037\n",
            "Epoch 34/50\n",
            "1247/1247 [==============================] - 15s 12ms/step - loss: 0.5655 - accuracy: 0.7825 - val_loss: 3.5273 - val_accuracy: 0.3693\n",
            "Epoch 35/50\n",
            "1247/1247 [==============================] - 15s 12ms/step - loss: 0.5656 - accuracy: 0.7809 - val_loss: 3.3196 - val_accuracy: 0.3963\n",
            "Epoch 36/50\n",
            "1247/1247 [==============================] - 15s 12ms/step - loss: 0.5522 - accuracy: 0.7887 - val_loss: 3.0882 - val_accuracy: 0.4184\n",
            "Epoch 37/50\n",
            "1247/1247 [==============================] - 15s 12ms/step - loss: 0.5494 - accuracy: 0.7903 - val_loss: 3.2157 - val_accuracy: 0.3963\n",
            "Epoch 38/50\n",
            "1247/1247 [==============================] - 15s 12ms/step - loss: 0.5528 - accuracy: 0.7894 - val_loss: 3.3733 - val_accuracy: 0.3975\n",
            "Epoch 39/50\n",
            "1247/1247 [==============================] - 15s 12ms/step - loss: 0.5514 - accuracy: 0.7893 - val_loss: 3.2347 - val_accuracy: 0.3877\n",
            "Epoch 40/50\n",
            "1247/1247 [==============================] - 15s 12ms/step - loss: 0.5505 - accuracy: 0.7867 - val_loss: 3.1758 - val_accuracy: 0.4086\n",
            "Epoch 41/50\n",
            "1247/1247 [==============================] - 15s 12ms/step - loss: 0.5409 - accuracy: 0.7915 - val_loss: 2.9228 - val_accuracy: 0.4209\n",
            "Epoch 42/50\n",
            "1247/1247 [==============================] - 15s 12ms/step - loss: 0.5345 - accuracy: 0.7961 - val_loss: 3.3948 - val_accuracy: 0.3890\n",
            "Epoch 43/50\n",
            "1247/1247 [==============================] - 15s 12ms/step - loss: 0.5393 - accuracy: 0.7927 - val_loss: 3.3679 - val_accuracy: 0.3877\n",
            "Epoch 44/50\n",
            "1247/1247 [==============================] - 15s 12ms/step - loss: 0.5328 - accuracy: 0.7981 - val_loss: 3.2289 - val_accuracy: 0.3963\n",
            "Epoch 45/50\n",
            "1247/1247 [==============================] - 15s 12ms/step - loss: 0.5242 - accuracy: 0.7999 - val_loss: 3.3032 - val_accuracy: 0.3865\n",
            "Epoch 46/50\n",
            "1247/1247 [==============================] - 15s 12ms/step - loss: 0.5261 - accuracy: 0.7976 - val_loss: 3.2667 - val_accuracy: 0.4061\n",
            "Epoch 47/50\n",
            "1247/1247 [==============================] - 15s 12ms/step - loss: 0.5291 - accuracy: 0.7986 - val_loss: 3.1440 - val_accuracy: 0.4012\n",
            "Epoch 48/50\n",
            "1247/1247 [==============================] - 15s 12ms/step - loss: 0.5165 - accuracy: 0.8047 - val_loss: 3.6136 - val_accuracy: 0.3926\n",
            "Epoch 49/50\n",
            "1247/1247 [==============================] - 15s 12ms/step - loss: 0.5233 - accuracy: 0.7981 - val_loss: 3.1559 - val_accuracy: 0.4147\n",
            "Epoch 50/50\n",
            "1247/1247 [==============================] - 15s 12ms/step - loss: 0.5078 - accuracy: 0.8069 - val_loss: 3.3736 - val_accuracy: 0.3988\n",
            "accuracy: 39.88%\n",
            "Epoch 1/50\n",
            "1247/1247 [==============================] - 15s 12ms/step - loss: 1.6542 - accuracy: 0.2904 - val_loss: 1.6255 - val_accuracy: 0.3558\n",
            "Epoch 2/50\n",
            "1247/1247 [==============================] - 16s 13ms/step - loss: 1.1801 - accuracy: 0.5112 - val_loss: 1.4451 - val_accuracy: 0.4380\n",
            "Epoch 3/50\n",
            "1247/1247 [==============================] - 16s 13ms/step - loss: 1.0289 - accuracy: 0.5777 - val_loss: 1.8033 - val_accuracy: 0.3853\n",
            "Epoch 4/50\n",
            "1247/1247 [==============================] - 16s 13ms/step - loss: 0.9591 - accuracy: 0.6090 - val_loss: 1.8642 - val_accuracy: 0.4025\n",
            "Epoch 5/50\n",
            "1247/1247 [==============================] - 15s 12ms/step - loss: 0.9060 - accuracy: 0.6298 - val_loss: 2.1856 - val_accuracy: 0.3779\n",
            "Epoch 6/50\n",
            "1247/1247 [==============================] - 15s 12ms/step - loss: 0.8648 - accuracy: 0.6483 - val_loss: 2.0228 - val_accuracy: 0.4025\n",
            "Epoch 7/50\n",
            "1247/1247 [==============================] - 16s 12ms/step - loss: 0.8324 - accuracy: 0.6595 - val_loss: 2.0708 - val_accuracy: 0.3951\n",
            "Epoch 8/50\n",
            "1247/1247 [==============================] - 16s 13ms/step - loss: 0.8130 - accuracy: 0.6708 - val_loss: 2.0093 - val_accuracy: 0.4037\n",
            "Epoch 9/50\n",
            "1247/1247 [==============================] - 16s 13ms/step - loss: 0.7842 - accuracy: 0.6838 - val_loss: 2.0136 - val_accuracy: 0.4086\n",
            "Epoch 10/50\n",
            "1247/1247 [==============================] - 16s 12ms/step - loss: 0.7669 - accuracy: 0.6919 - val_loss: 2.3937 - val_accuracy: 0.3706\n",
            "Epoch 11/50\n",
            "1247/1247 [==============================] - 15s 12ms/step - loss: 0.7576 - accuracy: 0.6929 - val_loss: 2.3375 - val_accuracy: 0.3742\n",
            "Epoch 12/50\n",
            "1247/1247 [==============================] - 15s 12ms/step - loss: 0.7325 - accuracy: 0.7057 - val_loss: 2.1292 - val_accuracy: 0.4147\n",
            "Epoch 13/50\n",
            "1247/1247 [==============================] - 15s 12ms/step - loss: 0.7197 - accuracy: 0.7107 - val_loss: 2.8215 - val_accuracy: 0.3546\n",
            "Epoch 14/50\n",
            "1247/1247 [==============================] - 19s 15ms/step - loss: 0.7129 - accuracy: 0.7171 - val_loss: 2.4093 - val_accuracy: 0.3914\n",
            "Epoch 15/50\n",
            "1247/1247 [==============================] - 16s 13ms/step - loss: 0.6977 - accuracy: 0.7250 - val_loss: 2.5992 - val_accuracy: 0.3755\n",
            "Epoch 16/50\n",
            "1247/1247 [==============================] - 15s 12ms/step - loss: 0.6901 - accuracy: 0.7258 - val_loss: 2.4739 - val_accuracy: 0.3730\n",
            "Epoch 17/50\n",
            "1247/1247 [==============================] - 16s 13ms/step - loss: 0.6739 - accuracy: 0.7303 - val_loss: 2.4850 - val_accuracy: 0.3840\n",
            "Epoch 18/50\n",
            "1247/1247 [==============================] - 16s 13ms/step - loss: 0.6698 - accuracy: 0.7337 - val_loss: 3.1387 - val_accuracy: 0.3472\n",
            "Epoch 19/50\n",
            "1247/1247 [==============================] - 16s 12ms/step - loss: 0.6591 - accuracy: 0.7378 - val_loss: 2.7707 - val_accuracy: 0.3644\n",
            "Epoch 20/50\n",
            "1247/1247 [==============================] - 16s 13ms/step - loss: 0.6436 - accuracy: 0.7460 - val_loss: 2.6813 - val_accuracy: 0.3755\n",
            "Epoch 21/50\n",
            "1247/1247 [==============================] - 16s 13ms/step - loss: 0.6427 - accuracy: 0.7414 - val_loss: 2.5910 - val_accuracy: 0.3877\n",
            "Epoch 22/50\n",
            "1247/1247 [==============================] - 16s 13ms/step - loss: 0.6274 - accuracy: 0.7535 - val_loss: 2.5040 - val_accuracy: 0.3742\n",
            "Epoch 23/50\n",
            "1247/1247 [==============================] - 16s 13ms/step - loss: 0.6282 - accuracy: 0.7505 - val_loss: 2.7476 - val_accuracy: 0.3693\n",
            "Epoch 24/50\n",
            "1247/1247 [==============================] - 16s 13ms/step - loss: 0.6142 - accuracy: 0.7569 - val_loss: 2.8759 - val_accuracy: 0.3730\n",
            "Epoch 25/50\n",
            "1247/1247 [==============================] - 16s 13ms/step - loss: 0.6148 - accuracy: 0.7589 - val_loss: 2.8783 - val_accuracy: 0.3595\n",
            "Epoch 26/50\n",
            "1247/1247 [==============================] - 16s 13ms/step - loss: 0.6060 - accuracy: 0.7639 - val_loss: 2.9457 - val_accuracy: 0.3521\n",
            "Epoch 27/50\n",
            "1247/1247 [==============================] - 16s 13ms/step - loss: 0.6068 - accuracy: 0.7628 - val_loss: 2.9484 - val_accuracy: 0.3669\n",
            "Epoch 28/50\n",
            "1247/1247 [==============================] - 16s 13ms/step - loss: 0.5907 - accuracy: 0.7688 - val_loss: 2.7137 - val_accuracy: 0.3865\n",
            "Epoch 29/50\n",
            "1247/1247 [==============================] - 16s 13ms/step - loss: 0.5863 - accuracy: 0.7700 - val_loss: 2.6344 - val_accuracy: 0.3939\n",
            "Epoch 30/50\n",
            "1247/1247 [==============================] - 16s 13ms/step - loss: 0.5904 - accuracy: 0.7701 - val_loss: 2.9872 - val_accuracy: 0.3681\n",
            "Epoch 31/50\n",
            "1247/1247 [==============================] - 16s 13ms/step - loss: 0.5818 - accuracy: 0.7728 - val_loss: 2.7830 - val_accuracy: 0.3828\n",
            "Epoch 32/50\n",
            "1247/1247 [==============================] - 16s 13ms/step - loss: 0.5900 - accuracy: 0.7707 - val_loss: 2.7883 - val_accuracy: 0.3951\n",
            "Epoch 33/50\n",
            "1247/1247 [==============================] - 16s 13ms/step - loss: 0.5736 - accuracy: 0.7784 - val_loss: 3.0208 - val_accuracy: 0.3767\n",
            "Epoch 34/50\n",
            "1247/1247 [==============================] - 16s 13ms/step - loss: 0.5677 - accuracy: 0.7822 - val_loss: 2.9029 - val_accuracy: 0.3963\n",
            "Epoch 35/50\n",
            "1247/1247 [==============================] - 16s 13ms/step - loss: 0.5607 - accuracy: 0.7846 - val_loss: 2.9128 - val_accuracy: 0.3791\n",
            "Epoch 36/50\n",
            "1247/1247 [==============================] - 16s 13ms/step - loss: 0.5595 - accuracy: 0.7852 - val_loss: 2.8694 - val_accuracy: 0.3963\n",
            "Epoch 37/50\n",
            "1247/1247 [==============================] - 16s 13ms/step - loss: 0.5553 - accuracy: 0.7864 - val_loss: 3.4501 - val_accuracy: 0.3558\n",
            "Epoch 38/50\n",
            "1247/1247 [==============================] - 16s 13ms/step - loss: 0.5516 - accuracy: 0.7900 - val_loss: 3.0983 - val_accuracy: 0.3693\n",
            "Epoch 39/50\n",
            "1247/1247 [==============================] - 16s 13ms/step - loss: 0.5438 - accuracy: 0.7924 - val_loss: 3.0496 - val_accuracy: 0.3755\n",
            "Epoch 40/50\n",
            "1247/1247 [==============================] - 16s 13ms/step - loss: 0.5412 - accuracy: 0.7926 - val_loss: 2.9860 - val_accuracy: 0.3963\n",
            "Epoch 41/50\n",
            "1247/1247 [==============================] - 16s 13ms/step - loss: 0.5436 - accuracy: 0.7940 - val_loss: 2.7941 - val_accuracy: 0.3951\n",
            "Epoch 42/50\n",
            "1247/1247 [==============================] - 16s 13ms/step - loss: 0.5371 - accuracy: 0.7968 - val_loss: 2.6953 - val_accuracy: 0.4098\n",
            "Epoch 43/50\n",
            "1247/1247 [==============================] - 16s 13ms/step - loss: 0.5288 - accuracy: 0.7988 - val_loss: 3.1640 - val_accuracy: 0.3706\n",
            "Epoch 44/50\n",
            "1247/1247 [==============================] - 16s 13ms/step - loss: 0.5288 - accuracy: 0.8003 - val_loss: 2.6745 - val_accuracy: 0.4098\n",
            "Epoch 45/50\n",
            "1247/1247 [==============================] - 16s 13ms/step - loss: 0.5318 - accuracy: 0.7969 - val_loss: 2.9332 - val_accuracy: 0.3865\n",
            "Epoch 46/50\n",
            "1247/1247 [==============================] - 16s 13ms/step - loss: 0.5243 - accuracy: 0.8027 - val_loss: 2.7986 - val_accuracy: 0.4061\n",
            "Epoch 47/50\n",
            "1247/1247 [==============================] - 16s 13ms/step - loss: 0.5233 - accuracy: 0.8012 - val_loss: 2.7038 - val_accuracy: 0.4135\n",
            "Epoch 48/50\n",
            "1247/1247 [==============================] - 16s 13ms/step - loss: 0.5279 - accuracy: 0.8006 - val_loss: 2.5765 - val_accuracy: 0.4270\n",
            "Epoch 49/50\n",
            "1247/1247 [==============================] - 16s 13ms/step - loss: 0.5237 - accuracy: 0.8021 - val_loss: 2.9870 - val_accuracy: 0.3865\n",
            "Epoch 50/50\n",
            "1247/1247 [==============================] - 16s 13ms/step - loss: 0.5165 - accuracy: 0.8032 - val_loss: 2.8785 - val_accuracy: 0.4025\n",
            "accuracy: 40.25%\n",
            "Epoch 1/50\n",
            "1247/1247 [==============================] - 16s 13ms/step - loss: 1.6611 - accuracy: 0.2854 - val_loss: 1.8201 - val_accuracy: 0.3239\n",
            "Epoch 2/50\n",
            "1247/1247 [==============================] - 18s 14ms/step - loss: 1.1625 - accuracy: 0.5185 - val_loss: 2.8762 - val_accuracy: 0.2785\n",
            "Epoch 3/50\n",
            "1247/1247 [==============================] - 15s 12ms/step - loss: 1.0237 - accuracy: 0.5817 - val_loss: 2.5972 - val_accuracy: 0.3178\n",
            "Epoch 4/50\n",
            "1247/1247 [==============================] - 15s 12ms/step - loss: 0.9581 - accuracy: 0.6104 - val_loss: 3.0693 - val_accuracy: 0.2785\n",
            "Epoch 5/50\n",
            "1247/1247 [==============================] - 16s 12ms/step - loss: 0.8965 - accuracy: 0.6319 - val_loss: 3.0276 - val_accuracy: 0.2847\n",
            "Epoch 6/50\n",
            "1247/1247 [==============================] - 15s 12ms/step - loss: 0.8694 - accuracy: 0.6448 - val_loss: 3.2398 - val_accuracy: 0.2785\n",
            "Epoch 7/50\n",
            "1247/1247 [==============================] - 16s 13ms/step - loss: 0.8379 - accuracy: 0.6624 - val_loss: 3.7066 - val_accuracy: 0.2736\n",
            "Epoch 8/50\n",
            "1247/1247 [==============================] - 15s 12ms/step - loss: 0.8090 - accuracy: 0.6738 - val_loss: 3.6887 - val_accuracy: 0.2761\n",
            "Epoch 9/50\n",
            "1247/1247 [==============================] - 15s 12ms/step - loss: 0.7855 - accuracy: 0.6868 - val_loss: 3.8829 - val_accuracy: 0.2638\n",
            "Epoch 10/50\n",
            "1247/1247 [==============================] - 15s 12ms/step - loss: 0.7734 - accuracy: 0.6880 - val_loss: 3.9947 - val_accuracy: 0.2663\n",
            "Epoch 11/50\n",
            "1247/1247 [==============================] - 15s 12ms/step - loss: 0.7595 - accuracy: 0.6954 - val_loss: 4.1428 - val_accuracy: 0.2613\n",
            "Epoch 12/50\n",
            "1247/1247 [==============================] - 15s 12ms/step - loss: 0.7465 - accuracy: 0.7011 - val_loss: 4.5539 - val_accuracy: 0.2577\n",
            "Epoch 13/50\n",
            "1247/1247 [==============================] - 15s 12ms/step - loss: 0.7268 - accuracy: 0.7103 - val_loss: 4.5222 - val_accuracy: 0.2589\n",
            "Epoch 14/50\n",
            "1247/1247 [==============================] - 15s 12ms/step - loss: 0.7071 - accuracy: 0.7168 - val_loss: 4.9383 - val_accuracy: 0.2638\n",
            "Epoch 15/50\n",
            "1247/1247 [==============================] - 15s 12ms/step - loss: 0.6904 - accuracy: 0.7246 - val_loss: 4.8399 - val_accuracy: 0.2601\n",
            "Epoch 16/50\n",
            " 203/1247 [===>..........................] - ETA: 12s - loss: 0.6894 - accuracy: 0.7224Buffered data was truncated after reaching the output size limit."
          ],
          "name": "stdout"
        }
      ]
    },
    {
      "cell_type": "code",
      "metadata": {
        "id": "f-0QiVyRW3Hi",
        "colab_type": "code",
        "colab": {}
      },
      "source": [
        "################################################  SAVING THE MODEL ##########################################################"
      ],
      "execution_count": 0,
      "outputs": []
    },
    {
      "cell_type": "code",
      "metadata": {
        "id": "yF8ZTkN2j1Ij",
        "colab_type": "code",
        "outputId": "23606d2c-c0b2-4d8f-e751-a66ff0a50d2d",
        "colab": {
          "base_uri": "https://localhost:8080/",
          "height": 745
        }
      },
      "source": [
        "model.summary()"
      ],
      "execution_count": 0,
      "outputs": [
        {
          "output_type": "stream",
          "text": [
            "Model: \"sequential\"\n",
            "_________________________________________________________________\n",
            "Layer (type)                 Output Shape              Param #   \n",
            "=================================================================\n",
            "Input_layer (Dense)          (None, 800)               767200    \n",
            "_________________________________________________________________\n",
            "batch_normalization (BatchNo (None, 800)               3200      \n",
            "_________________________________________________________________\n",
            "Layer_1 (Dense)              (None, 500)               400500    \n",
            "_________________________________________________________________\n",
            "batch_normalization_1 (Batch (None, 500)               2000      \n",
            "_________________________________________________________________\n",
            "dropout (Dropout)            (None, 500)               0         \n",
            "_________________________________________________________________\n",
            "Layer_2 (Dense)              (None, 250)               125250    \n",
            "_________________________________________________________________\n",
            "batch_normalization_2 (Batch (None, 250)               1000      \n",
            "_________________________________________________________________\n",
            "dropout_1 (Dropout)          (None, 250)               0         \n",
            "_________________________________________________________________\n",
            "Layer_3 (Dense)              (None, 150)               37650     \n",
            "_________________________________________________________________\n",
            "batch_normalization_3 (Batch (None, 150)               600       \n",
            "_________________________________________________________________\n",
            "Layer_4 (Dense)              (None, 50)                7550      \n",
            "_________________________________________________________________\n",
            "batch_normalization_4 (Batch (None, 50)                200       \n",
            "_________________________________________________________________\n",
            "dropout_2 (Dropout)          (None, 50)                0         \n",
            "_________________________________________________________________\n",
            "Layer_5 (Dense)              (None, 25)                1275      \n",
            "_________________________________________________________________\n",
            "batch_normalization_5 (Batch (None, 25)                100       \n",
            "_________________________________________________________________\n",
            "dropout_3 (Dropout)          (None, 25)                0         \n",
            "_________________________________________________________________\n",
            "Output_layer (Dense)         (None, 6)                 156       \n",
            "=================================================================\n",
            "Total params: 1,346,681\n",
            "Trainable params: 1,343,131\n",
            "Non-trainable params: 3,550\n",
            "_________________________________________________________________\n"
          ],
          "name": "stdout"
        }
      ]
    },
    {
      "cell_type": "code",
      "metadata": {
        "id": "QSMOQYc7IVsa",
        "colab_type": "code",
        "colab": {}
      },
      "source": [
        "from keras.models import model_from_json\n",
        "\n",
        "# serialize model to JSON\n",
        "model_json = model.to_json()\n",
        "\n",
        "with open(\"model.json\", \"w\") as json_file:\n",
        "    json_file.write(model_json)\n",
        "\n",
        "# save weights to HDF5\n",
        "model.save_weights(\"model.h5\")\n",
        "print(\"Model saved\")\n"
      ],
      "execution_count": 0,
      "outputs": []
    },
    {
      "cell_type": "code",
      "metadata": {
        "id": "poNsTiqTIXYV",
        "colab_type": "code",
        "colab": {}
      },
      "source": [
        "# when you want to retrieve the model: load json and create model\n",
        "json_file = open('model.json', 'r')\n",
        "saved_model = json_file.read()\n",
        "# close the file as good practice\n",
        "json_file.close()\n",
        "model_from_json = model_from_json(saved_model)\n",
        "# load weights into new model\n",
        "model_from_json.load_weights(\"model.h5\")\n",
        "print(\"Model loaded\")"
      ],
      "execution_count": 0,
      "outputs": []
    },
    {
      "cell_type": "code",
      "metadata": {
        "id": "Z6Jw9f45MOy_",
        "colab_type": "code",
        "colab": {}
      },
      "source": [
        ""
      ],
      "execution_count": 0,
      "outputs": []
    },
    {
      "cell_type": "code",
      "metadata": {
        "id": "WHScd4A95hHW",
        "colab_type": "code",
        "colab": {}
      },
      "source": [
        "model.save('Hackathon_GreatLearning_Great_Stone_Rating_DeepNeural.h5')\n",
        "from google.colab import files\n",
        "#files.download('Hackathon_GreatLearning_Great_Stone_Rating_DeepNeural.h5')"
      ],
      "execution_count": 0,
      "outputs": []
    },
    {
      "cell_type": "code",
      "metadata": {
        "id": "OXZZhtldjI0B",
        "colab_type": "code",
        "outputId": "1002fa1b-bae9-493b-8384-e5bafc5f87ee",
        "colab": {
          "base_uri": "https://localhost:8080/",
          "height": 573
        }
      },
      "source": [
        "import matplotlib.pyplot as plt\n",
        "plt.plot(history.history['accuracy'])\n",
        "plt.plot(history.history['val_accuracy'])\n",
        "plt.title('Model accuracy')\n",
        "plt.ylabel('Accuracy')\n",
        "plt.xlabel('Epoch')\n",
        "plt.legend(['Train', 'Test'], loc='upper left')\n",
        "plt.show()\n",
        "\n",
        "#*****************************************\n",
        "plt.plot(history.history['loss']) \n",
        "plt.plot(history.history['val_loss']) \n",
        "plt.title('Model loss') \n",
        "plt.ylabel('Loss') \n",
        "plt.xlabel('Epoch') \n",
        "plt.legend(['Train', 'Test'], loc='upper left') \n",
        "plt.show()"
      ],
      "execution_count": 0,
      "outputs": [
        {
          "output_type": "display_data",
          "data": {
            "image/png": "[encoded data removed]",
            "text/plain": [
              "<Figure size 432x288 with 1 Axes>"
            ]
          },
          "metadata": {
            "tags": [],
            "needs_background": "light"
          }
        },
        {
          "output_type": "display_data",
          "data": {
            "image/png": "[encoded data removed]",
            "text/plain": [
              "<Figure size 432x288 with 1 Axes>"
            ]
          },
          "metadata": {
            "tags": [],
            "needs_background": "light"
          }
        }
      ]
    },
    {
      "cell_type": "code",
      "metadata": {
        "id": "GgEOn6hRH0Np",
        "colab_type": "code",
        "colab": {}
      },
      "source": [
        "################################################################******** PREDICTIONS ***********####################################################"
      ],
      "execution_count": 0,
      "outputs": []
    },
    {
      "cell_type": "code",
      "metadata": {
        "id": "tYHIpRQL92Ce",
        "colab_type": "code",
        "colab": {}
      },
      "source": [
        "################################################ TESTING ENVIRONMENT ###############################################################"
      ],
      "execution_count": 0,
      "outputs": []
    },
    {
      "cell_type": "code",
      "metadata": {
        "id": "xP54THP7IJ_7",
        "colab_type": "code",
        "colab": {}
      },
      "source": [
        "##### Reading the backup files\n",
        "sample_submission  = pd.read_csv('/gdrive/My Drive/Hackathon/GREATLEARNING-APRIL/FeatureAlgo/sample_submission.csv')"
      ],
      "execution_count": 0,
      "outputs": []
    },
    {
      "cell_type": "code",
      "metadata": {
        "id": "I4zpTDO1Kflx",
        "colab_type": "code",
        "colab": {}
      },
      "source": [
        "df_id_2 = pd.merge(sample_submission,data_tst_ids,how='left',on='fund_id')"
      ],
      "execution_count": 0,
      "outputs": []
    },
    {
      "cell_type": "code",
      "metadata": {
        "id": "DoLzOpBMK0UA",
        "colab_type": "code",
        "outputId": "0141f4ae-14b0-4287-dfc9-60f0bc851e3f",
        "colab": {
          "base_uri": "https://localhost:8080/",
          "height": 172
        }
      },
      "source": [
        "df_id_2.sample(4)"
      ],
      "execution_count": 0,
      "outputs": [
        {
          "output_type": "execute_result",
          "data": {
            "text/html": [
              "<div>\n",
              "<style scoped>\n",
              "    .dataframe tbody tr th:only-of-type {\n",
              "        vertical-align: middle;\n",
              "    }\n",
              "\n",
              "    .dataframe tbody tr th {\n",
              "        vertical-align: top;\n",
              "    }\n",
              "\n",
              "    .dataframe thead th {\n",
              "        text-align: right;\n",
              "    }\n",
              "</style>\n",
              "<table border=\"1\" class=\"dataframe\">\n",
              "  <thead>\n",
              "    <tr style=\"text-align: right;\">\n",
              "      <th></th>\n",
              "      <th>fund_id</th>\n",
              "      <th>greatstone_rating</th>\n",
              "      <th>tag</th>\n",
              "      <th>id</th>\n",
              "    </tr>\n",
              "  </thead>\n",
              "  <tbody>\n",
              "    <tr>\n",
              "      <th>3406</th>\n",
              "      <td>60f09bad-793e-4bb7-95cf-b0364b5f3681</td>\n",
              "      <td>NaN</td>\n",
              "      <td>217619</td>\n",
              "      <td>217619</td>\n",
              "    </tr>\n",
              "    <tr>\n",
              "      <th>757</th>\n",
              "      <td>a184f641-e85a-4d80-9ccc-030a179e79b5</td>\n",
              "      <td>NaN</td>\n",
              "      <td>56618</td>\n",
              "      <td>56618</td>\n",
              "    </tr>\n",
              "    <tr>\n",
              "      <th>3624</th>\n",
              "      <td>4d52941e-502a-41db-aa6c-011a90fec6ea</td>\n",
              "      <td>NaN</td>\n",
              "      <td>148175</td>\n",
              "      <td>148175</td>\n",
              "    </tr>\n",
              "    <tr>\n",
              "      <th>4544</th>\n",
              "      <td>beec1bf2-8bb5-489d-8abd-a25b0a658ba0</td>\n",
              "      <td>NaN</td>\n",
              "      <td>93734</td>\n",
              "      <td>93734</td>\n",
              "    </tr>\n",
              "  </tbody>\n",
              "</table>\n",
              "</div>"
            ],
            "text/plain": [
              "                                   fund_id  greatstone_rating     tag      id\n",
              "3406  60f09bad-793e-4bb7-95cf-b0364b5f3681                NaN  217619  217619\n",
              "757   a184f641-e85a-4d80-9ccc-030a179e79b5                NaN   56618   56618\n",
              "3624  4d52941e-502a-41db-aa6c-011a90fec6ea                NaN  148175  148175\n",
              "4544  beec1bf2-8bb5-489d-8abd-a25b0a658ba0                NaN   93734   93734"
            ]
          },
          "metadata": {
            "tags": []
          },
          "execution_count": 41
        }
      ]
    },
    {
      "cell_type": "code",
      "metadata": {
        "id": "hlNH0x78LGS0",
        "colab_type": "code",
        "outputId": "742b858a-a7da-4976-998f-843867b5405e",
        "colab": {
          "base_uri": "https://localhost:8080/",
          "height": 104
        }
      },
      "source": [
        "df_id_2.isnull().sum()"
      ],
      "execution_count": 0,
      "outputs": [
        {
          "output_type": "execute_result",
          "data": {
            "text/plain": [
              "fund_id                 0\n",
              "greatstone_rating    5000\n",
              "tag                     0\n",
              "id                      0\n",
              "dtype: int64"
            ]
          },
          "metadata": {
            "tags": []
          },
          "execution_count": 42
        }
      ]
    },
    {
      "cell_type": "code",
      "metadata": {
        "id": "5FWvXfMALqyn",
        "colab_type": "code",
        "colab": {}
      },
      "source": [
        "\n",
        "df_id_2.drop(columns='greatstone_rating',axis=1,inplace=True)"
      ],
      "execution_count": 0,
      "outputs": []
    },
    {
      "cell_type": "code",
      "metadata": {
        "id": "rIK4_M0uVUwR",
        "colab_type": "code",
        "outputId": "01beb0e6-ae7f-4618-f253-46fb41858313",
        "colab": {
          "base_uri": "https://localhost:8080/",
          "height": 34
        }
      },
      "source": [
        "df_id_2.shape"
      ],
      "execution_count": 0,
      "outputs": [
        {
          "output_type": "execute_result",
          "data": {
            "text/plain": [
              "(5000, 3)"
            ]
          },
          "metadata": {
            "tags": []
          },
          "execution_count": 44
        }
      ]
    },
    {
      "cell_type": "code",
      "metadata": {
        "id": "-Guw3k58K-W-",
        "colab_type": "code",
        "colab": {}
      },
      "source": [
        "########################## PREDICTIONS #########################################"
      ],
      "execution_count": 0,
      "outputs": []
    },
    {
      "cell_type": "code",
      "metadata": {
        "id": "zTNUZrS5UJXo",
        "colab_type": "code",
        "outputId": "00b2b439-cc21-4ea4-ccd1-dbe556424956",
        "colab": {
          "base_uri": "https://localhost:8080/",
          "height": 34
        }
      },
      "source": [
        "data_tst.shape"
      ],
      "execution_count": 0,
      "outputs": [
        {
          "output_type": "execute_result",
          "data": {
            "text/plain": [
              "(5000, 958)"
            ]
          },
          "metadata": {
            "tags": []
          },
          "execution_count": 46
        }
      ]
    },
    {
      "cell_type": "code",
      "metadata": {
        "id": "3H6e43qS-KKz",
        "colab_type": "code",
        "colab": {}
      },
      "source": [
        "data_tst_minmax_0 = mm_scaler.transform(data_tst[col_int]) "
      ],
      "execution_count": 0,
      "outputs": []
    },
    {
      "cell_type": "code",
      "metadata": {
        "id": "LuS68pwn-kq3",
        "colab_type": "code",
        "colab": {}
      },
      "source": [
        "y_test_pred = model.predict(data_tst_minmax_0)"
      ],
      "execution_count": 0,
      "outputs": []
    },
    {
      "cell_type": "code",
      "metadata": {
        "id": "U1-5Xdi3R8Kt",
        "colab_type": "code",
        "outputId": "31702d29-e089-4559-e46d-9465de1d08f6",
        "colab": {
          "base_uri": "https://localhost:8080/",
          "height": 242
        }
      },
      "source": [
        "y_test_pred"
      ],
      "execution_count": 0,
      "outputs": [
        {
          "output_type": "execute_result",
          "data": {
            "text/plain": [
              "array([[7.53269376e-07, 1.33464569e-02, 9.44942296e-01, 4.07601856e-02,\n",
              "        9.39054415e-04, 1.12384996e-05],\n",
              "       [5.54322141e-05, 3.06013972e-05, 1.08756265e-02, 3.35539341e-01,\n",
              "        6.49420798e-01, 4.07822989e-03],\n",
              "       [2.73574460e-06, 1.63198530e-03, 8.21918726e-01, 1.71766013e-01,\n",
              "        4.66681411e-03, 1.36745748e-05],\n",
              "       ...,\n",
              "       [4.91394258e-06, 4.49154004e-06, 3.95773463e-02, 8.98307264e-01,\n",
              "        6.20918199e-02, 1.41164273e-05],\n",
              "       [1.82470503e-05, 2.64220755e-03, 7.39048660e-01, 2.47975543e-01,\n",
              "        1.02628758e-02, 5.24841162e-05],\n",
              "       [3.90217201e-06, 8.78869207e-04, 7.30705202e-01, 2.61236995e-01,\n",
              "        7.16108177e-03, 1.40207894e-05]], dtype=float32)"
            ]
          },
          "metadata": {
            "tags": []
          },
          "execution_count": 49
        }
      ]
    },
    {
      "cell_type": "code",
      "metadata": {
        "id": "kY9fuOqwJ05o",
        "colab_type": "code",
        "outputId": "4d3cb3ff-c31d-4371-df07-191bda564742",
        "colab": {
          "base_uri": "https://localhost:8080/",
          "height": 121
        }
      },
      "source": [
        "model_OVRC_predict = [np.argmax(x) for x in y_test_pred]\n",
        "(unique, counts) = numpy.unique(model_OVRC_predict, return_counts=True)\n",
        "frequencies = numpy.asarray((unique, counts)).T\n",
        "frequencies"
      ],
      "execution_count": 0,
      "outputs": [
        {
          "output_type": "execute_result",
          "data": {
            "text/plain": [
              "array([[   0,  324],\n",
              "       [   1,  348],\n",
              "       [   2, 1107],\n",
              "       [   3, 1582],\n",
              "       [   4, 1231],\n",
              "       [   5,  408]])"
            ]
          },
          "metadata": {
            "tags": []
          },
          "execution_count": 50
        }
      ]
    },
    {
      "cell_type": "code",
      "metadata": {
        "id": "EvI5QTNKxrus",
        "colab_type": "code",
        "colab": {}
      },
      "source": [
        "####################################################################################################################################"
      ],
      "execution_count": 0,
      "outputs": []
    },
    {
      "cell_type": "code",
      "metadata": {
        "id": "UD_WDFVcUk_Q",
        "colab_type": "code",
        "colab": {}
      },
      "source": [
        "tag_id = list(data_tst_ids['tag'].values)\n",
        "rating = list(model_OVRC_predict)"
      ],
      "execution_count": 0,
      "outputs": []
    },
    {
      "cell_type": "code",
      "metadata": {
        "id": "VlHkX7ZpqquD",
        "colab_type": "code",
        "colab": {}
      },
      "source": [
        "df_rating = pd.DataFrame()"
      ],
      "execution_count": 0,
      "outputs": []
    },
    {
      "cell_type": "code",
      "metadata": {
        "id": "i3-nah0IWQ5x",
        "colab_type": "code",
        "colab": {}
      },
      "source": [
        "df_rating['tag'] = tag_id\n",
        "df_rating['greatstone_rating'] = rating"
      ],
      "execution_count": 0,
      "outputs": []
    },
    {
      "cell_type": "code",
      "metadata": {
        "id": "6VrIZ1DKHhL-",
        "colab_type": "code",
        "outputId": "4efc7182-8646-41c3-8e53-32a7b220fa67",
        "colab": {
          "base_uri": "https://localhost:8080/",
          "height": 34
        }
      },
      "source": [
        "df_rating.shape"
      ],
      "execution_count": 0,
      "outputs": [
        {
          "output_type": "execute_result",
          "data": {
            "text/plain": [
              "(5000, 2)"
            ]
          },
          "metadata": {
            "tags": []
          },
          "execution_count": 56
        }
      ]
    },
    {
      "cell_type": "code",
      "metadata": {
        "id": "srk8_HW5U1BK",
        "colab_type": "code",
        "outputId": "ada8b2ab-3536-43e3-f85a-bbdbbb90ce88",
        "colab": {
          "base_uri": "https://localhost:8080/",
          "height": 34
        }
      },
      "source": [
        "df_rating.greatstone_rating.nunique()"
      ],
      "execution_count": 0,
      "outputs": [
        {
          "output_type": "execute_result",
          "data": {
            "text/plain": [
              "6"
            ]
          },
          "metadata": {
            "tags": []
          },
          "execution_count": 57
        }
      ]
    },
    {
      "cell_type": "code",
      "metadata": {
        "id": "h7lqupHnVBxN",
        "colab_type": "code",
        "outputId": "18d63ed1-c25b-4983-9ea9-52549b84ffbf",
        "colab": {
          "base_uri": "https://localhost:8080/",
          "height": 141
        }
      },
      "source": [
        "df_rating.sample(3)"
      ],
      "execution_count": 0,
      "outputs": [
        {
          "output_type": "execute_result",
          "data": {
            "text/html": [
              "<div>\n",
              "<style scoped>\n",
              "    .dataframe tbody tr th:only-of-type {\n",
              "        vertical-align: middle;\n",
              "    }\n",
              "\n",
              "    .dataframe tbody tr th {\n",
              "        vertical-align: top;\n",
              "    }\n",
              "\n",
              "    .dataframe thead th {\n",
              "        text-align: right;\n",
              "    }\n",
              "</style>\n",
              "<table border=\"1\" class=\"dataframe\">\n",
              "  <thead>\n",
              "    <tr style=\"text-align: right;\">\n",
              "      <th></th>\n",
              "      <th>tag</th>\n",
              "      <th>greatstone_rating</th>\n",
              "    </tr>\n",
              "  </thead>\n",
              "  <tbody>\n",
              "    <tr>\n",
              "      <th>1575</th>\n",
              "      <td>186605</td>\n",
              "      <td>2</td>\n",
              "    </tr>\n",
              "    <tr>\n",
              "      <th>4672</th>\n",
              "      <td>76031</td>\n",
              "      <td>3</td>\n",
              "    </tr>\n",
              "    <tr>\n",
              "      <th>2545</th>\n",
              "      <td>144548</td>\n",
              "      <td>2</td>\n",
              "    </tr>\n",
              "  </tbody>\n",
              "</table>\n",
              "</div>"
            ],
            "text/plain": [
              "         tag  greatstone_rating\n",
              "1575  186605                  2\n",
              "4672   76031                  3\n",
              "2545  144548                  2"
            ]
          },
          "metadata": {
            "tags": []
          },
          "execution_count": 58
        }
      ]
    },
    {
      "cell_type": "code",
      "metadata": {
        "id": "vr7nhEfuHi-v",
        "colab_type": "code",
        "outputId": "f149ac09-2a9b-46ef-cc52-3c0990f7b25b",
        "colab": {
          "base_uri": "https://localhost:8080/",
          "height": 69
        }
      },
      "source": [
        "\n",
        "df_rating.isnull().sum()"
      ],
      "execution_count": 0,
      "outputs": [
        {
          "output_type": "execute_result",
          "data": {
            "text/plain": [
              "tag                  0\n",
              "greatstone_rating    0\n",
              "dtype: int64"
            ]
          },
          "metadata": {
            "tags": []
          },
          "execution_count": 59
        }
      ]
    },
    {
      "cell_type": "code",
      "metadata": {
        "id": "rs65j-wtMwyA",
        "colab_type": "code",
        "outputId": "ec54f7bd-2162-4171-bb95-a11a4a93ec77",
        "colab": {
          "base_uri": "https://localhost:8080/",
          "height": 172
        }
      },
      "source": [
        "df_rating.sample(4)"
      ],
      "execution_count": 0,
      "outputs": [
        {
          "output_type": "execute_result",
          "data": {
            "text/html": [
              "<div>\n",
              "<style scoped>\n",
              "    .dataframe tbody tr th:only-of-type {\n",
              "        vertical-align: middle;\n",
              "    }\n",
              "\n",
              "    .dataframe tbody tr th {\n",
              "        vertical-align: top;\n",
              "    }\n",
              "\n",
              "    .dataframe thead th {\n",
              "        text-align: right;\n",
              "    }\n",
              "</style>\n",
              "<table border=\"1\" class=\"dataframe\">\n",
              "  <thead>\n",
              "    <tr style=\"text-align: right;\">\n",
              "      <th></th>\n",
              "      <th>tag</th>\n",
              "      <th>greatstone_rating</th>\n",
              "    </tr>\n",
              "  </thead>\n",
              "  <tbody>\n",
              "    <tr>\n",
              "      <th>2325</th>\n",
              "      <td>95804</td>\n",
              "      <td>2</td>\n",
              "    </tr>\n",
              "    <tr>\n",
              "      <th>1677</th>\n",
              "      <td>132587</td>\n",
              "      <td>4</td>\n",
              "    </tr>\n",
              "    <tr>\n",
              "      <th>593</th>\n",
              "      <td>137780</td>\n",
              "      <td>4</td>\n",
              "    </tr>\n",
              "    <tr>\n",
              "      <th>3752</th>\n",
              "      <td>130571</td>\n",
              "      <td>3</td>\n",
              "    </tr>\n",
              "  </tbody>\n",
              "</table>\n",
              "</div>"
            ],
            "text/plain": [
              "         tag  greatstone_rating\n",
              "2325   95804                  2\n",
              "1677  132587                  4\n",
              "593   137780                  4\n",
              "3752  130571                  3"
            ]
          },
          "metadata": {
            "tags": []
          },
          "execution_count": 60
        }
      ]
    },
    {
      "cell_type": "code",
      "metadata": {
        "id": "LhqMAouxq7EZ",
        "colab_type": "code",
        "outputId": "c061f4ce-8e25-4a72-cabc-0328604372a1",
        "colab": {
          "base_uri": "https://localhost:8080/",
          "height": 141
        }
      },
      "source": [
        "df2 = pd.merge(df_id_2,df_rating,how='left',on='tag')\n",
        "\n",
        "df2.sample(3)"
      ],
      "execution_count": 0,
      "outputs": [
        {
          "output_type": "execute_result",
          "data": {
            "text/html": [
              "<div>\n",
              "<style scoped>\n",
              "    .dataframe tbody tr th:only-of-type {\n",
              "        vertical-align: middle;\n",
              "    }\n",
              "\n",
              "    .dataframe tbody tr th {\n",
              "        vertical-align: top;\n",
              "    }\n",
              "\n",
              "    .dataframe thead th {\n",
              "        text-align: right;\n",
              "    }\n",
              "</style>\n",
              "<table border=\"1\" class=\"dataframe\">\n",
              "  <thead>\n",
              "    <tr style=\"text-align: right;\">\n",
              "      <th></th>\n",
              "      <th>fund_id</th>\n",
              "      <th>tag</th>\n",
              "      <th>id</th>\n",
              "      <th>greatstone_rating</th>\n",
              "    </tr>\n",
              "  </thead>\n",
              "  <tbody>\n",
              "    <tr>\n",
              "      <th>4866</th>\n",
              "      <td>2b8adfa3-e5dd-457b-8eda-5c4088733c7e</td>\n",
              "      <td>29906</td>\n",
              "      <td>29906</td>\n",
              "      <td>4</td>\n",
              "    </tr>\n",
              "    <tr>\n",
              "      <th>3810</th>\n",
              "      <td>eeb6d2f0-ba4f-4bcb-b8b0-f82684cf3092</td>\n",
              "      <td>68219</td>\n",
              "      <td>68219</td>\n",
              "      <td>4</td>\n",
              "    </tr>\n",
              "    <tr>\n",
              "      <th>1818</th>\n",
              "      <td>c1411b7b-0553-4f64-9e15-3586bd0e2445</td>\n",
              "      <td>174842</td>\n",
              "      <td>174842</td>\n",
              "      <td>2</td>\n",
              "    </tr>\n",
              "  </tbody>\n",
              "</table>\n",
              "</div>"
            ],
            "text/plain": [
              "                                   fund_id     tag      id  greatstone_rating\n",
              "4866  2b8adfa3-e5dd-457b-8eda-5c4088733c7e   29906   29906                  4\n",
              "3810  eeb6d2f0-ba4f-4bcb-b8b0-f82684cf3092   68219   68219                  4\n",
              "1818  c1411b7b-0553-4f64-9e15-3586bd0e2445  174842  174842                  2"
            ]
          },
          "metadata": {
            "tags": []
          },
          "execution_count": 61
        }
      ]
    },
    {
      "cell_type": "code",
      "metadata": {
        "id": "Cpfv0Skxr3Vt",
        "colab_type": "code",
        "outputId": "c8319c7f-2608-4473-9091-46524d5e1160",
        "colab": {
          "base_uri": "https://localhost:8080/",
          "height": 202
        }
      },
      "source": [
        "#df_data = pd.merge(sample_submission.drop(columns='greatstone_rating',axis=1),df2,how='left',on='fund_id')\n",
        "df_data = df2.drop(columns=['tag','id'],axis=1)\n",
        "df_data.tail(5)"
      ],
      "execution_count": 0,
      "outputs": [
        {
          "output_type": "execute_result",
          "data": {
            "text/html": [
              "<div>\n",
              "<style scoped>\n",
              "    .dataframe tbody tr th:only-of-type {\n",
              "        vertical-align: middle;\n",
              "    }\n",
              "\n",
              "    .dataframe tbody tr th {\n",
              "        vertical-align: top;\n",
              "    }\n",
              "\n",
              "    .dataframe thead th {\n",
              "        text-align: right;\n",
              "    }\n",
              "</style>\n",
              "<table border=\"1\" class=\"dataframe\">\n",
              "  <thead>\n",
              "    <tr style=\"text-align: right;\">\n",
              "      <th></th>\n",
              "      <th>fund_id</th>\n",
              "      <th>greatstone_rating</th>\n",
              "    </tr>\n",
              "  </thead>\n",
              "  <tbody>\n",
              "    <tr>\n",
              "      <th>4995</th>\n",
              "      <td>cd0a6c98-3d60-4548-a9db-493d80702107</td>\n",
              "      <td>4</td>\n",
              "    </tr>\n",
              "    <tr>\n",
              "      <th>4996</th>\n",
              "      <td>5a824843-621b-469f-a7d3-bae5b78beece</td>\n",
              "      <td>2</td>\n",
              "    </tr>\n",
              "    <tr>\n",
              "      <th>4997</th>\n",
              "      <td>acb8601f-bb42-4fe3-9823-c124d38cfc82</td>\n",
              "      <td>0</td>\n",
              "    </tr>\n",
              "    <tr>\n",
              "      <th>4998</th>\n",
              "      <td>e3f00c88-98d9-4a44-930c-891513652f8a</td>\n",
              "      <td>4</td>\n",
              "    </tr>\n",
              "    <tr>\n",
              "      <th>4999</th>\n",
              "      <td>ef6f6819-2879-41c3-9736-ab1bf4d97869</td>\n",
              "      <td>4</td>\n",
              "    </tr>\n",
              "  </tbody>\n",
              "</table>\n",
              "</div>"
            ],
            "text/plain": [
              "                                   fund_id  greatstone_rating\n",
              "4995  cd0a6c98-3d60-4548-a9db-493d80702107                  4\n",
              "4996  5a824843-621b-469f-a7d3-bae5b78beece                  2\n",
              "4997  acb8601f-bb42-4fe3-9823-c124d38cfc82                  0\n",
              "4998  e3f00c88-98d9-4a44-930c-891513652f8a                  4\n",
              "4999  ef6f6819-2879-41c3-9736-ab1bf4d97869                  4"
            ]
          },
          "metadata": {
            "tags": []
          },
          "execution_count": 62
        }
      ]
    },
    {
      "cell_type": "code",
      "metadata": {
        "id": "Wz6Q0IUkNoLd",
        "colab_type": "code",
        "outputId": "73beb959-d2ea-4321-d96e-ee06fdcf467c",
        "colab": {
          "base_uri": "https://localhost:8080/",
          "height": 202
        }
      },
      "source": [
        "sample_submission.tail(5)"
      ],
      "execution_count": 0,
      "outputs": [
        {
          "output_type": "execute_result",
          "data": {
            "text/html": [
              "<div>\n",
              "<style scoped>\n",
              "    .dataframe tbody tr th:only-of-type {\n",
              "        vertical-align: middle;\n",
              "    }\n",
              "\n",
              "    .dataframe tbody tr th {\n",
              "        vertical-align: top;\n",
              "    }\n",
              "\n",
              "    .dataframe thead th {\n",
              "        text-align: right;\n",
              "    }\n",
              "</style>\n",
              "<table border=\"1\" class=\"dataframe\">\n",
              "  <thead>\n",
              "    <tr style=\"text-align: right;\">\n",
              "      <th></th>\n",
              "      <th>fund_id</th>\n",
              "      <th>greatstone_rating</th>\n",
              "    </tr>\n",
              "  </thead>\n",
              "  <tbody>\n",
              "    <tr>\n",
              "      <th>4995</th>\n",
              "      <td>cd0a6c98-3d60-4548-a9db-493d80702107</td>\n",
              "      <td>NaN</td>\n",
              "    </tr>\n",
              "    <tr>\n",
              "      <th>4996</th>\n",
              "      <td>5a824843-621b-469f-a7d3-bae5b78beece</td>\n",
              "      <td>NaN</td>\n",
              "    </tr>\n",
              "    <tr>\n",
              "      <th>4997</th>\n",
              "      <td>acb8601f-bb42-4fe3-9823-c124d38cfc82</td>\n",
              "      <td>NaN</td>\n",
              "    </tr>\n",
              "    <tr>\n",
              "      <th>4998</th>\n",
              "      <td>e3f00c88-98d9-4a44-930c-891513652f8a</td>\n",
              "      <td>NaN</td>\n",
              "    </tr>\n",
              "    <tr>\n",
              "      <th>4999</th>\n",
              "      <td>ef6f6819-2879-41c3-9736-ab1bf4d97869</td>\n",
              "      <td>NaN</td>\n",
              "    </tr>\n",
              "  </tbody>\n",
              "</table>\n",
              "</div>"
            ],
            "text/plain": [
              "                                   fund_id  greatstone_rating\n",
              "4995  cd0a6c98-3d60-4548-a9db-493d80702107                NaN\n",
              "4996  5a824843-621b-469f-a7d3-bae5b78beece                NaN\n",
              "4997  acb8601f-bb42-4fe3-9823-c124d38cfc82                NaN\n",
              "4998  e3f00c88-98d9-4a44-930c-891513652f8a                NaN\n",
              "4999  ef6f6819-2879-41c3-9736-ab1bf4d97869                NaN"
            ]
          },
          "metadata": {
            "tags": []
          },
          "execution_count": 63
        }
      ]
    },
    {
      "cell_type": "code",
      "metadata": {
        "id": "x6CPwA2TNimA",
        "colab_type": "code",
        "outputId": "5c54bdc9-23ef-4b45-f5e4-fde914ab656f",
        "colab": {
          "base_uri": "https://localhost:8080/",
          "height": 69
        }
      },
      "source": [
        "df_data.isnull().sum()"
      ],
      "execution_count": 0,
      "outputs": [
        {
          "output_type": "execute_result",
          "data": {
            "text/plain": [
              "fund_id              0\n",
              "greatstone_rating    0\n",
              "dtype: int64"
            ]
          },
          "metadata": {
            "tags": []
          },
          "execution_count": 64
        }
      ]
    },
    {
      "cell_type": "code",
      "metadata": {
        "id": "P3Prif5nvkQo",
        "colab_type": "code",
        "outputId": "1f42e0f2-91be-4843-893c-9e1e0619f614",
        "colab": {
          "base_uri": "https://localhost:8080/",
          "height": 34
        }
      },
      "source": [
        "from IPython.display import HTML\n",
        "import pandas as pd\n",
        "import numpy as np\n",
        "import base64\n",
        "\n",
        "def create_download_link(df, title = \"Download CSV file\", filename = \"submission.csv\"):  \n",
        "    csv = df.to_csv(index=False)\n",
        "    b64 = base64.b64encode(csv.encode())\n",
        "    payload = b64.decode()\n",
        "    html = '<a download=\"{filename}\" href=\"data:text/csv;base64,{payload}\" target=\"_blank\">{title}</a>'\n",
        "    html = html.format(payload=payload,title=title,filename=filename)\n",
        "    return HTML(html)\n",
        "\n",
        "create_download_link(df_data)"
      ],
      "execution_count": 0,
      "outputs": [
        {
          "output_type": "execute_result",
          "data": {
            "text/html": [
              "<a download=\"submission.csv\" href=\"data:text/csv;base64,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\" target=\"_blank\">Download CSV file</a>"
            ],
            "text/plain": [
              "<IPython.core.display.HTML object>"
            ]
          },
          "metadata": {
            "tags": []
          },
          "execution_count": 65
        }
      ]
    },
    {
      "cell_type": "code",
      "metadata": {
        "id": "8sxatbwB98Ak",
        "colab_type": "code",
        "colab": {}
      },
      "source": [
        ""
      ],
      "execution_count": 0,
      "outputs": []
    },
    {
      "cell_type": "code",
      "metadata": {
        "id": "DalqCejCRhTT",
        "colab_type": "code",
        "colab": {}
      },
      "source": [
        ""
      ],
      "execution_count": 0,
      "outputs": []
    },
    {
      "cell_type": "code",
      "metadata": {
        "id": "_yxJRRMKRhPp",
        "colab_type": "code",
        "colab": {}
      },
      "source": [
        ""
      ],
      "execution_count": 0,
      "outputs": []
    },
    {
      "cell_type": "code",
      "metadata": {
        "id": "SJzV_di4XVpY",
        "colab_type": "code",
        "colab": {}
      },
      "source": [
        ""
      ],
      "execution_count": 0,
      "outputs": []
    },
    {
      "cell_type": "code",
      "metadata": {
        "id": "WOLyVRlqXY_J",
        "colab_type": "code",
        "colab": {}
      },
      "source": [
        ""
      ],
      "execution_count": 0,
      "outputs": []
    }
  ]
}