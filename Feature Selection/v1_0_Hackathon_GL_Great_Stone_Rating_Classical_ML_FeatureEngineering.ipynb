{
  "nbformat": 4,
  "nbformat_minor": 0,
  "metadata": {
    "colab": {
      "name": "v1.0_Hackathon_GL_Great_Stone_Rating_Classical_ML_FeatureEngineering.ipynb",
      "provenance": [],
      "collapsed_sections": []
    },
    "kernelspec": {
      "name": "python3",
      "display_name": "Python 3"
    }
  },
  "cells": [
    {
      "cell_type": "code",
      "metadata": {
        "id": "QWdPY-6Yh275",
        "colab_type": "code",
        "outputId": "12fcd37e-e96f-4b5d-a26f-36ced842d3e6",
        "colab": {
          "base_uri": "https://localhost:8080/",
          "height": 135
        }
      },
      "source": [
        "################################  GOOGLE MOUNT #############################\n",
        "\n",
        "from google.colab import drive\n",
        "drive.mount('/gdrive')\n",
        "%cd /gdrive"
      ],
      "execution_count": 1,
      "outputs": [
        {
          "output_type": "stream",
          "text": [
            "Go to this URL in a browser: https://accounts.google.com/o/oauth2/auth?client_id=947318989803-6bn6qk8qdgf4n4g3pfee6491hc0brc4i.apps.googleusercontent.com&redirect_uri=urn%3aietf%3awg%3aoauth%3a2.0%3aoob&response_type=code&scope=email%20https%3a%2f%2fwww.googleapis.com%2fauth%2fdocs.test%20https%3a%2f%2fwww.googleapis.com%2fauth%2fdrive%20https%3a%2f%2fwww.googleapis.com%2fauth%2fdrive.photos.readonly%20https%3a%2f%2fwww.googleapis.com%2fauth%2fpeopleapi.readonly\n",
            "\n",
            "Enter your authorization code:\n",
            "··········\n",
            "Mounted at /gdrive\n",
            "/gdrive\n"
          ],
          "name": "stdout"
        }
      ]
    },
    {
      "cell_type": "code",
      "metadata": {
        "id": "w9kIdvUyEFW3",
        "colab_type": "code",
        "outputId": "f27a996a-0ef9-4b70-892f-4fd970f29ae0",
        "colab": {
          "base_uri": "https://localhost:8080/",
          "height": 33
        }
      },
      "source": [
        "import pytz\n",
        "from datetime import datetime\n",
        "# assuming now contains a timezone aware datetime\n",
        "now = datetime.now()\n",
        "tz = pytz.timezone('Asia/Kolkata')\n",
        "your_now = now.astimezone(tz)\n",
        "print (your_now)"
      ],
      "execution_count": 2,
      "outputs": [
        {
          "output_type": "stream",
          "text": [
            "2020-05-11 00:03:06.522131+05:30\n"
          ],
          "name": "stdout"
        }
      ]
    },
    {
      "cell_type": "code",
      "metadata": {
        "id": "53trJAp4zyf-",
        "colab_type": "code",
        "outputId": "9bda8b94-dac2-4aae-f878-d4c74ecf943f",
        "colab": {
          "base_uri": "https://localhost:8080/",
          "height": 472
        }
      },
      "source": [
        "################################ IMPORTING LIBRARIES ############################\n",
        "\n",
        "!pip install plotly_express\n",
        "\n",
        "import numpy as np # linear algebra\n",
        "import seaborn as sns\n",
        "import pandas as pd # data processing, CSV file I/O (e.g. pd.read_csv)\n",
        "import os\n",
        "\n",
        "import pandas\n",
        "import matplotlib.pyplot as plt\n",
        "%matplotlib inline\n",
        "\n",
        "\n",
        "import os\n",
        "os.chdir('/gdrive/My Drive/Hackathon/GREATLEARNING-APRIL/')\n",
        "\n",
        "!pip install researchpy"
      ],
      "execution_count": 3,
      "outputs": [
        {
          "output_type": "stream",
          "text": [
            "Collecting plotly_express\n",
            "  Downloading https://files.pythonhosted.org/packages/d4/d6/8a2906f51e073a4be80cab35cfa10e7a34853e60f3ed5304ac470852a08d/plotly_express-0.4.1-py2.py3-none-any.whl\n",
            "Requirement already satisfied: plotly>=4.1.0 in /usr/local/lib/python3.6/dist-packages (from plotly_express) (4.4.1)\n",
            "Requirement already satisfied: statsmodels>=0.9.0 in /usr/local/lib/python3.6/dist-packages (from plotly_express) (0.10.2)\n",
            "Requirement already satisfied: pandas>=0.20.0 in /usr/local/lib/python3.6/dist-packages (from plotly_express) (1.0.3)\n",
            "Requirement already satisfied: numpy>=1.11 in /usr/local/lib/python3.6/dist-packages (from plotly_express) (1.18.4)\n",
            "Requirement already satisfied: scipy>=0.18 in /usr/local/lib/python3.6/dist-packages (from plotly_express) (1.4.1)\n",
            "Requirement already satisfied: patsy>=0.5 in /usr/local/lib/python3.6/dist-packages (from plotly_express) (0.5.1)\n",
            "Requirement already satisfied: retrying>=1.3.3 in /usr/local/lib/python3.6/dist-packages (from plotly>=4.1.0->plotly_express) (1.3.3)\n",
            "Requirement already satisfied: six in /usr/local/lib/python3.6/dist-packages (from plotly>=4.1.0->plotly_express) (1.12.0)\n",
            "Requirement already satisfied: python-dateutil>=2.6.1 in /usr/local/lib/python3.6/dist-packages (from pandas>=0.20.0->plotly_express) (2.8.1)\n",
            "Requirement already satisfied: pytz>=2017.2 in /usr/local/lib/python3.6/dist-packages (from pandas>=0.20.0->plotly_express) (2018.9)\n",
            "Installing collected packages: plotly-express\n",
            "Successfully installed plotly-express-0.4.1\n"
          ],
          "name": "stdout"
        },
        {
          "output_type": "stream",
          "text": [
            "/usr/local/lib/python3.6/dist-packages/statsmodels/tools/_testing.py:19: FutureWarning: pandas.util.testing is deprecated. Use the functions in the public API at pandas.testing instead.\n",
            "  import pandas.util.testing as tm\n"
          ],
          "name": "stderr"
        },
        {
          "output_type": "stream",
          "text": [
            "Collecting researchpy\n",
            "  Downloading https://files.pythonhosted.org/packages/c2/e4/6fef21ad13c0b48ccbafba3ad8bd0bd65af0c9eb1aad9a82fec66c9de1ed/researchpy-0.1.9-py3-none-any.whl\n",
            "Requirement already satisfied: pandas in /usr/local/lib/python3.6/dist-packages (from researchpy) (1.0.3)\n",
            "Requirement already satisfied: scipy in /usr/local/lib/python3.6/dist-packages (from researchpy) (1.4.1)\n",
            "Requirement already satisfied: statsmodels in /usr/local/lib/python3.6/dist-packages (from researchpy) (0.10.2)\n",
            "Requirement already satisfied: numpy in /usr/local/lib/python3.6/dist-packages (from researchpy) (1.18.4)\n",
            "Requirement already satisfied: pytz>=2017.2 in /usr/local/lib/python3.6/dist-packages (from pandas->researchpy) (2018.9)\n",
            "Requirement already satisfied: python-dateutil>=2.6.1 in /usr/local/lib/python3.6/dist-packages (from pandas->researchpy) (2.8.1)\n",
            "Requirement already satisfied: patsy>=0.4.0 in /usr/local/lib/python3.6/dist-packages (from statsmodels->researchpy) (0.5.1)\n",
            "Requirement already satisfied: six>=1.5 in /usr/local/lib/python3.6/dist-packages (from python-dateutil>=2.6.1->pandas->researchpy) (1.12.0)\n",
            "Installing collected packages: researchpy\n",
            "Successfully installed researchpy-0.1.9\n"
          ],
          "name": "stdout"
        }
      ]
    },
    {
      "cell_type": "code",
      "metadata": {
        "id": "GAE-tZgU0A-P",
        "colab_type": "code",
        "outputId": "da668e8f-50a1-4968-d951-4f9d7dfe67c2",
        "colab": {
          "base_uri": "https://localhost:8080/",
          "height": 147
        }
      },
      "source": [
        "!ls -lrt"
      ],
      "execution_count": 4,
      "outputs": [
        {
          "output_type": "stream",
          "text": [
            "total 29501\n",
            "-rw------- 1 root root   195027 Apr 21 05:22 sample_submission.csv\n",
            "-rw------- 1 root root 29993298 Apr 26 17:58 data_train_int.csv\n",
            "drwx------ 2 root root     4096 Apr 27 02:32 MyFiles\n",
            "drwx------ 2 root root     4096 Apr 28 08:00 RawData\n",
            "drwx------ 2 root root     4096 Apr 28 08:00 FeatureEngineering\n",
            "drwx------ 2 root root     4096 Apr 28 08:01 FeatureSelection\n",
            "drwx------ 2 root root     4096 Apr 29 14:22 FeatureAlgo\n"
          ],
          "name": "stdout"
        }
      ]
    },
    {
      "cell_type": "code",
      "metadata": {
        "id": "28IrIZ9dlCBz",
        "colab_type": "code",
        "colab": {}
      },
      "source": [
        "metrics = pd.DataFrame()"
      ],
      "execution_count": 0,
      "outputs": []
    },
    {
      "cell_type": "code",
      "metadata": {
        "id": "cllQfPU2aF-N",
        "colab_type": "code",
        "colab": {}
      },
      "source": [
        "fund_ratios=pd.read_csv('/gdrive/My Drive/Hackathon/GREATLEARNING-APRIL/RawData/fund_ratios.csv')\n",
        "primary_keys_df = fund_ratios[['fund_id','tag']].copy(deep=True)\n",
        "primary_keys_df.to_csv('/gdrive/My Drive/Hackathon/GREATLEARNING-APRIL/FeatureEngineering/primary_keys_df.csv',index=False)"
      ],
      "execution_count": 0,
      "outputs": []
    },
    {
      "cell_type": "markdown",
      "metadata": {
        "id": "SwgxNthcOxGu",
        "colab_type": "text"
      },
      "source": [
        "# **Memory reduction**\n",
        "\n",
        "Sometimes the type encoding of a column is not the best choice, as for example encoding in int32 a column containing only value from 0 to 10. One of the most popular function used a function to reduce the memory usage by converting the type of column to the best type as possible."
      ]
    },
    {
      "cell_type": "code",
      "metadata": {
        "id": "qioT0P72OWe-",
        "colab_type": "code",
        "colab": {}
      },
      "source": [
        "def reduce_mem_usage(df):\n",
        "    \"\"\" iterate through all the columns of a dataframe and modify the data type\n",
        "        to reduce memory usage.\n",
        "    \"\"\"\n",
        "    start_mem = df.memory_usage().sum() / 1024 ** 2\n",
        "    print('Memory usage of dataframe is {:.2f} MB'.format(start_mem))\n",
        "\n",
        "    for col in df.columns:\n",
        "        col_type = df[col].dtype\n",
        "\n",
        "        if col_type != object:\n",
        "            c_min = df[col].min()\n",
        "            c_max = df[col].max()\n",
        "            if str(col_type)[:3] == 'int':\n",
        "                if c_min > np.iinfo(np.int8).min and c_max < np.iinfo(np.int8).max:\n",
        "                    df[col] = df[col].astype(np.int8)\n",
        "                elif c_min > np.iinfo(np.int16).min and c_max < np.iinfo(np.int16).max:\n",
        "                    df[col] = df[col].astype(np.int16)\n",
        "                elif c_min > np.iinfo(np.int32).min and c_max < np.iinfo(np.int32).max:\n",
        "                    df[col] = df[col].astype(np.int32)\n",
        "                elif c_min > np.iinfo(np.int64).min and c_max < np.iinfo(np.int64).max:\n",
        "                    df[col] = df[col].astype(np.int64)\n",
        "            else:\n",
        "                if c_min > np.finfo(np.float16).min and c_max < np.finfo(np.float16).max:\n",
        "                    df[col] = df[col].astype(np.float16)\n",
        "                elif c_min > np.finfo(np.float32).min and c_max < np.finfo(np.float32).max:\n",
        "                    df[col] = df[col].astype(np.float32)\n",
        "                else:\n",
        "                    df[col] = df[col].astype(np.float64)\n",
        "        else:\n",
        "            df[col] = df[col].astype('category')\n",
        "\n",
        "    end_mem = df.memory_usage().sum() / 1024 ** 2\n",
        "    print('Memory usage after optimization is: {:.2f} MB'.format(end_mem))\n",
        "    print('Decreased by {:.1f}%'.format(100 * (start_mem - end_mem) / start_mem))\n",
        "\n",
        "    return df"
      ],
      "execution_count": 0,
      "outputs": []
    },
    {
      "cell_type": "code",
      "metadata": {
        "id": "3hk0kdbKjfGj",
        "colab_type": "code",
        "colab": {}
      },
      "source": [
        "#####################################################################################################################################################"
      ],
      "execution_count": 0,
      "outputs": []
    },
    {
      "cell_type": "code",
      "metadata": {
        "id": "eh-owlxqEaGY",
        "colab_type": "code",
        "outputId": "2131e995-0c65-4731-ec3d-44e32512d059",
        "colab": {
          "base_uri": "https://localhost:8080/",
          "height": 196
        }
      },
      "source": [
        "#Common Model Algorithms\n",
        "from sklearn import svm, tree, linear_model, neighbors, naive_bayes, ensemble, discriminant_analysis, gaussian_process\n",
        "from xgboost import XGBClassifier\n",
        "\n",
        "import numpy as np # linear algebra\n",
        "import seaborn as sns\n",
        "import pandas as pd # data processing, CSV file I/O (e.g. pd.read_csv)\n",
        "import os\n",
        "# Input data files are available in the \"../input/\" directory.\n",
        "# For example, running this (by clicking run or pressing Shift+Enter) will list all files under the input directory\n",
        "\n",
        "import pandas\n",
        "import matplotlib.pyplot as plt\n",
        "%matplotlib inline\n",
        "! pip install plotly_express\n",
        "import plotly_express as px\n",
        "\n",
        "# Any results you write to the current directory are saved as output.\n",
        "\n",
        "#Common Model Helpers\n",
        "from sklearn.preprocessing import OneHotEncoder, LabelEncoder\n",
        "from sklearn import feature_selection\n",
        "from sklearn import model_selection\n",
        "from sklearn import metrics\n",
        "from sklearn.model_selection import train_test_split\n",
        "from sklearn.metrics import average_precision_score\n",
        "\n",
        "import io\n",
        "from datetime import datetime\n",
        "import time\n",
        "\n",
        "#Common Model Algorithms\n",
        "from sklearn import svm, tree, linear_model, neighbors, naive_bayes, ensemble, discriminant_analysis, gaussian_process\n",
        "from xgboost import XGBClassifier\n",
        "\n",
        "#Common Model Helpers\n",
        "from sklearn.preprocessing import OneHotEncoder, LabelEncoder\n",
        "from sklearn import feature_selection\n",
        "from sklearn import model_selection\n",
        "from sklearn.metrics import accuracy_score , roc_auc_score , f1_score, precision_score , average_precision_score , recall_score\n",
        "\n",
        "\n",
        "import sklearn\n",
        "from sklearn.linear_model import LogisticRegression\n",
        "from sklearn.neural_network import MLPClassifier\n",
        "from sklearn.naive_bayes import GaussianNB,BernoulliNB\n",
        "from sklearn.neighbors import KNeighborsClassifier\n",
        "from sklearn.svm import SVC\n",
        "from sklearn.tree import DecisionTreeClassifier\n",
        "from sklearn.ensemble import RandomForestClassifier\n",
        "from sklearn.multiclass import OneVsRestClassifier , OneVsOneClassifier \n",
        "from sklearn.model_selection import KFold, StratifiedKFold, cross_val_score, cross_val_predict , LeaveOneOut , ShuffleSplit,RandomizedSearchCV"
      ],
      "execution_count": 9,
      "outputs": [
        {
          "output_type": "stream",
          "text": [
            "Requirement already satisfied: plotly_express in /usr/local/lib/python3.6/dist-packages (0.4.1)\n",
            "Requirement already satisfied: patsy>=0.5 in /usr/local/lib/python3.6/dist-packages (from plotly_express) (0.5.1)\n",
            "Requirement already satisfied: plotly>=4.1.0 in /usr/local/lib/python3.6/dist-packages (from plotly_express) (4.4.1)\n",
            "Requirement already satisfied: pandas>=0.20.0 in /usr/local/lib/python3.6/dist-packages (from plotly_express) (1.0.3)\n",
            "Requirement already satisfied: scipy>=0.18 in /usr/local/lib/python3.6/dist-packages (from plotly_express) (1.4.1)\n",
            "Requirement already satisfied: numpy>=1.11 in /usr/local/lib/python3.6/dist-packages (from plotly_express) (1.18.4)\n",
            "Requirement already satisfied: statsmodels>=0.9.0 in /usr/local/lib/python3.6/dist-packages (from plotly_express) (0.10.2)\n",
            "Requirement already satisfied: six in /usr/local/lib/python3.6/dist-packages (from patsy>=0.5->plotly_express) (1.12.0)\n",
            "Requirement already satisfied: retrying>=1.3.3 in /usr/local/lib/python3.6/dist-packages (from plotly>=4.1.0->plotly_express) (1.3.3)\n",
            "Requirement already satisfied: python-dateutil>=2.6.1 in /usr/local/lib/python3.6/dist-packages (from pandas>=0.20.0->plotly_express) (2.8.1)\n",
            "Requirement already satisfied: pytz>=2017.2 in /usr/local/lib/python3.6/dist-packages (from pandas>=0.20.0->plotly_express) (2018.9)\n"
          ],
          "name": "stdout"
        }
      ]
    },
    {
      "cell_type": "code",
      "metadata": {
        "id": "NCBNA6O6EaKZ",
        "colab_type": "code",
        "colab": {}
      },
      "source": [
        "name = ['LR','NB','KNN','SVC', 'CART', 'RF', 'ADA', 'BAG','GradBoost', 'NB_ber','MLPC','XGB']\n",
        "algo_name = ['LogisticRegression()',              \n",
        "             'naive_bayes.GaussianNB()', \n",
        "             'KNeighborsClassifier()', \n",
        "             'SVC()',\n",
        "             'DecisionTreeClassifier()',\n",
        "             'RandomForestClassifier()', \n",
        "             'ensemble.AdaBoostClassifier()',\n",
        "             'ensemble.BaggingClassifier()', \n",
        "             'ensemble.GradientBoostingClassifier()', \n",
        "             'naive_bayes.BernoulliNB()',\n",
        "             'MLPClassifier(hidden_layer_sizes = [100]*5)',\n",
        "             'XGBClassifier()'\n",
        "             ]\n",
        "algo_name_tbl = pd.concat([pd.DataFrame(name,columns=['name']),pd.DataFrame(algo_name,columns=['algo_name'])],axis=1)\n",
        "\n",
        "algo_name_tbl\n",
        "\n",
        "algo_COL = ['name']\n",
        "ALGO_SCORE = pd.DataFrame(columns = algo_COL)"
      ],
      "execution_count": 0,
      "outputs": []
    },
    {
      "cell_type": "code",
      "metadata": {
        "id": "-OUgAUakEaTl",
        "colab_type": "code",
        "colab": {}
      },
      "source": [
        "import os\n",
        "os.chdir('/gdrive/My Drive/Hackathon/GREATLEARNING-APRIL/RawData/')"
      ],
      "execution_count": 0,
      "outputs": []
    },
    {
      "cell_type": "code",
      "metadata": {
        "id": "MDkkH_59Eaj7",
        "colab_type": "code",
        "outputId": "f0889a6d-1894-4dfd-d880-30988126804b",
        "colab": {
          "base_uri": "https://localhost:8080/",
          "height": 66
        }
      },
      "source": [
        "!ls "
      ],
      "execution_count": 12,
      "outputs": [
        {
          "output_type": "stream",
          "text": [
            "bond_ratings.csv      fund_ratios.csv  return_10year.csv\n",
            "fund_allocations.csv  fund_specs.csv   return_3year.csv\n",
            "fund_config.csv       other_specs.csv  return_5year.csv\n"
          ],
          "name": "stdout"
        }
      ]
    },
    {
      "cell_type": "code",
      "metadata": {
        "id": "RozrpjyUEagW",
        "colab_type": "code",
        "colab": {}
      },
      "source": [
        "##### Reading the files\n",
        "\n",
        "bond_ratings = pd.read_csv('/gdrive/My Drive/Hackathon/GREATLEARNING-APRIL/RawData/bond_ratings.csv')#\n",
        "fund_allocations = pd.read_csv('/gdrive/My Drive/Hackathon/GREATLEARNING-APRIL/RawData/fund_allocations.csv')#\n",
        "fund_config = pd.read_csv('/gdrive/My Drive/Hackathon/GREATLEARNING-APRIL/RawData/fund_config.csv')#\n",
        "fund_ratios = pd.read_csv('/gdrive/My Drive/Hackathon/GREATLEARNING-APRIL/RawData/fund_ratios.csv')#\n",
        "fund_specs = pd.read_csv('/gdrive/My Drive/Hackathon/GREATLEARNING-APRIL/RawData/fund_specs.csv')#\n",
        "other_specs = pd.read_csv('/gdrive/My Drive/Hackathon/GREATLEARNING-APRIL/RawData/other_specs.csv')#\n",
        "return_10year = pd.read_csv('/gdrive/My Drive/Hackathon/GREATLEARNING-APRIL/RawData/return_10year.csv')#\n",
        "return_3year = pd.read_csv('/gdrive/My Drive/Hackathon/GREATLEARNING-APRIL/RawData/return_3year.csv')#\n",
        "return_5year = pd.read_csv('/gdrive/My Drive/Hackathon/GREATLEARNING-APRIL/RawData/return_5year.csv')#\n"
      ],
      "execution_count": 0,
      "outputs": []
    },
    {
      "cell_type": "code",
      "metadata": {
        "id": "yDJOYTxdFunD",
        "colab_type": "code",
        "outputId": "12aea5e5-2dae-4a2e-ca23-c46c04f8d111",
        "colab": {
          "base_uri": "https://localhost:8080/",
          "height": 133
        }
      },
      "source": [
        "df = pd.merge(primary_keys_df,fund_config,how='left',on='fund_id')\n",
        "df.sample(3)"
      ],
      "execution_count": 14,
      "outputs": [
        {
          "output_type": "execute_result",
          "data": {
            "text/html": [
              "<div>\n",
              "<style scoped>\n",
              "    .dataframe tbody tr th:only-of-type {\n",
              "        vertical-align: middle;\n",
              "    }\n",
              "\n",
              "    .dataframe tbody tr th {\n",
              "        vertical-align: top;\n",
              "    }\n",
              "\n",
              "    .dataframe thead th {\n",
              "        text-align: right;\n",
              "    }\n",
              "</style>\n",
              "<table border=\"1\" class=\"dataframe\">\n",
              "  <thead>\n",
              "    <tr style=\"text-align: right;\">\n",
              "      <th></th>\n",
              "      <th>fund_id</th>\n",
              "      <th>tag</th>\n",
              "      <th>category</th>\n",
              "      <th>parent_company</th>\n",
              "      <th>fund_name</th>\n",
              "    </tr>\n",
              "  </thead>\n",
              "  <tbody>\n",
              "    <tr>\n",
              "      <th>8205</th>\n",
              "      <td>5ea01573-db9d-4e67-9b97-7f43048891e0</td>\n",
              "      <td>33893</td>\n",
              "      <td>Foreign Large Growth</td>\n",
              "      <td>Alger</td>\n",
              "      <td>Alger International Focus Fund Class C</td>\n",
              "    </tr>\n",
              "    <tr>\n",
              "      <th>11608</th>\n",
              "      <td>6086a568-1f33-4c07-ace0-2ab8eef1bf00</td>\n",
              "      <td>149678</td>\n",
              "      <td>Foreign Large Blend</td>\n",
              "      <td>BNY Mellon Funds</td>\n",
              "      <td>BNY Mellon International Appreciation Fund Inv...</td>\n",
              "    </tr>\n",
              "    <tr>\n",
              "      <th>20219</th>\n",
              "      <td>e5f86864-7213-440e-a598-1a023140b064</td>\n",
              "      <td>154790</td>\n",
              "      <td>Emerging Markets Bond</td>\n",
              "      <td>MainStay</td>\n",
              "      <td>MainStay MacKay Emerging Markets Debt Fund Cla...</td>\n",
              "    </tr>\n",
              "  </tbody>\n",
              "</table>\n",
              "</div>"
            ],
            "text/plain": [
              "                                    fund_id  ...                                          fund_name\n",
              "8205   5ea01573-db9d-4e67-9b97-7f43048891e0  ...             Alger International Focus Fund Class C\n",
              "11608  6086a568-1f33-4c07-ace0-2ab8eef1bf00  ...  BNY Mellon International Appreciation Fund Inv...\n",
              "20219  e5f86864-7213-440e-a598-1a023140b064  ...  MainStay MacKay Emerging Markets Debt Fund Cla...\n",
              "\n",
              "[3 rows x 5 columns]"
            ]
          },
          "metadata": {
            "tags": []
          },
          "execution_count": 14
        }
      ]
    },
    {
      "cell_type": "code",
      "metadata": {
        "id": "D_5PlXcWFmWA",
        "colab_type": "code",
        "outputId": "79ad05bd-f83d-492a-ea04-34545f5c1367",
        "colab": {
          "base_uri": "https://localhost:8080/",
          "height": 163
        }
      },
      "source": [
        "print(return_10year.columns)"
      ],
      "execution_count": 15,
      "outputs": [
        {
          "output_type": "stream",
          "text": [
            "Index(['10years_category_r_squared', '10yrs_sharpe_ratio_fund',\n",
            "       '10_years_alpha_fund', '10years_fund_r_squared', '10years_fund_std',\n",
            "       '10yrs_sharpe_ratio_category', '10_years_beta_fund',\n",
            "       '10yrs_treynor_ratio_fund', 'fund_id',\n",
            "       '10_years_return_mean_annual_category', '10yrs_treynor_ratio_category',\n",
            "       '10_years_return_fund', '10_years_alpha_category',\n",
            "       '10_years_beta_category', '10years_category_std',\n",
            "       '10_years_return_mean_annual_fund', '10_years_return_category'],\n",
            "      dtype='object')\n"
          ],
          "name": "stdout"
        }
      ]
    },
    {
      "cell_type": "code",
      "metadata": {
        "id": "tZQZV6c4Eac1",
        "colab_type": "code",
        "colab": {}
      },
      "source": [
        "#@@@@@@@@@@@@@@@@@@@@@@@@@@@@@@@@@@@@@@@@@@@@@@@@@@@@@@  JOINING THE DATA @@@@@@@@@@@@@@@@@@@@@@@@@@@@@@@@@@@@@@@@@@@@@@@@@@@@@@@@@@@@@\n",
        "\n",
        "df_fund_ratios = pd.merge(df.drop(columns=['fund_id']),    fund_ratios,       how='inner', on='tag')\n",
        "df_return_10year = pd.merge(df_fund_ratios, return_10year,     how='inner', on='fund_id')\n",
        "df_bond_ratings = pd.merge(df_return_10year, bond_ratings,      how='inner', on='tag')\n",
        "df_fund_allocations = pd.merge(df_bond_ratings, fund_allocations,  how='inner', left_on='tag', right_on='id')\n",
        "df_fund_specs = pd.merge(df_fund_allocations, fund_specs,        how='inner', on='tag')\n",
        "df_return_3year = pd.merge(df_fund_specs, return_3year,        how='inner', on='tag')\n",
        "df_return_5year = pd.merge(df_return_3year, return_5year,        how='inner', on='tag')\n",
        "data = pd.merge(df_return_5year, other_specs.drop(columns=['fund_return_3years',\n",
        "                         'greatstone_rating', 'mmc', 'pb_ratio', 'pc_ratio', 'pe_ratio', 'ps_ratio'],axis=1),        how='inner', on='tag')"
      ],
      "execution_count": 0,
      "outputs": []
    },
    {
      "cell_type": "code",
      "metadata": {
        "id": "CWQ4J5jEEaQ6",
        "colab_type": "code",
        "outputId": "cd6d8192-0b5e-4792-ab72-f15b7df8cc8d",
        "colab": {
          "base_uri": "https://localhost:8080/",
          "height": 33
        }
      },
      "source": [
        "data.shape"
      ],
      "execution_count": 17,
      "outputs": [
        {
          "output_type": "execute_result",
          "data": {
            "text/plain": [
              "(25000, 125)"
            ]
          },
          "metadata": {
            "tags": []
          },
          "execution_count": 17
        }
      ]
    },
    {
      "cell_type": "code",
      "metadata": {
        "id": "NSFpYcYoa_WS",
        "colab_type": "code",
        "colab": {}
      },
      "source": [
        "data_bkp = data.copy(deep=True)"
      ],
      "execution_count": 0,
      "outputs": []
    },
    {
      "cell_type": "code",
      "metadata": {
        "id": "yDu1GDr-Cbe_",
        "colab_type": "code",
        "outputId": "7524c65b-b33b-48c9-9f74-c4bbed832ffc",
        "colab": {
          "base_uri": "https://localhost:8080/",
          "height": 33
        }
      },
      "source": [
        "data['inception_date'] = data.inception_date.apply(lambda x: pd.to_datetime(x).strftime('%m/%d/%Y'))\n",
        "data['inception_date'] = data['inception_date'].astype('object')\n",
        "data['inception_date'] = data['inception_date'].astype(np.datetime64)\n",
        "data.set_index('inception_date',inplace=True)\n",
        "# Add columns with year, month, and weekday name\n",
        "data['Day'] = data.index.day.astype('int64')\n",
        "data['Year'] = data.index.year.astype('int64')\n",
        "data['Month'] = data.index.month.astype('int64')\n",
        "data['Weekday_Name'] = data.index.weekday .astype('int64')\n",
        "\n",
        "data['Week_of_Year'] = data.index.week.astype('int64')\n",
        "data['is_year_start'] = data.index.is_year_start.astype('int64')\n",
        "\n",
        "data['is_year_end'] = data.index.is_year_end.astype('int64')\n",
        "data['is_month_start'] = data.index.is_month_start.astype('int64')\n",
        "\n",
        "data['is_month_end'] = data.index.is_month_end.astype('int64')\n",
        "data['is_quarter_start'] = data.index.is_quarter_start.astype('int64')\n",
        "\n",
        "\n",
        "data['is_quarter_end'] = data.index.is_quarter_end.astype('int64')\n",
        "data['is_leap_year'] = data.index.is_leap_year.astype('int64')#\n",
        "\n",
        "data.reset_index(drop=True, inplace=True) \n",
        "\n",
        "data.shape"
      ],
      "execution_count": 19,
      "outputs": [
        {
          "output_type": "execute_result",
          "data": {
            "text/plain": [
              "(25000, 136)"
            ]
          },
          "metadata": {
            "tags": []
          },
          "execution_count": 19
        }
      ]
    },
    {
      "cell_type": "code",
      "metadata": {
        "id": "LvSFD8JaGE-c",
        "colab_type": "code",
        "colab": {}
      },
      "source": [
        "data.to_csv('/gdrive/My Drive/Hackathon/GREATLEARNING-APRIL/FeatureEngineering/data_joined.csv',index=False)"
      ],
      "execution_count": 0,
      "outputs": []
    },
    {
      "cell_type": "code",
      "metadata": {
        "id": "XKYuAsR2YnO5",
        "colab_type": "code",
        "outputId": "91864cca-b770-42b9-cbbb-8e3bdceb3114",
        "colab": {
          "base_uri": "https://localhost:8080/",
          "height": 50
        }
      },
      "source": [
        "### Finding the number of *****UNIQUE****** values and dropping columns and rows having same unique values\n",
        "i=0\n",
        "col_d = list(data.columns)\n",
        "for i in range(len(col_d)):\n",
        "  ## droping column wise\n",
        "  unq = data[col_d[i]].nunique()\n",
        "  if unq ==1:\n",
        "    data.drop(columns=col_d[i],axis=1,inplace=True)   \n",
        "    print(\"number unique values in column ,\",col_d[i] ,\" are:-  \",unq)\n",
        "\n",
        "\n",
        "i=0\n",
        "row_d = data.shape[0]\n",
        "for i in range(row_d):\n",
        "  ## droping row wise\n",
        "  unq = data.iloc[i,:].nunique()\n",
        "  if unq == 1:\n",
        "    data.drop(data.index[i],axis=0,inplace=True)\n",
        "    print(\"number unique values in row index ,\",i ,\" are:-  \",unq)\n"
      ],
      "execution_count": 21,
      "outputs": [
        {
          "output_type": "stream",
          "text": [
            "number unique values in column , us_govt_bond_rating  are:-   1\n",
            "number unique values in column , currency  are:-   1\n"
          ],
          "name": "stdout"
        }
      ]
    },
    {
      "cell_type": "code",
      "metadata": {
        "id": "a3WS5cz0Yw5e",
        "colab_type": "code",
        "outputId": "1c57179a-6aec-43e3-f9bc-b74ae3c03d47",
        "colab": {
          "base_uri": "https://localhost:8080/",
          "height": 33
        }
      },
      "source": [
        "data.shape"
      ],
      "execution_count": 22,
      "outputs": [
        {
          "output_type": "execute_result",
          "data": {
            "text/plain": [
              "(25000, 134)"
            ]
          },
          "metadata": {
            "tags": []
          },
          "execution_count": 22
        }
      ]
    },
    {
      "cell_type": "code",
      "metadata": {
        "id": "QNF9Quw64_XG",
        "colab_type": "code",
        "colab": {}
      },
      "source": [
        "### Finding the columns having  ***** NULL ****** values gretaer than the threshold and drop then column and row wise\n",
        "threshold = 0.7\n",
        "i=0\n",
        "col_d = list(data.columns)\n",
        "for i in range(len(col_d)):\n",
        "  ## droping column wise\n",
        "  unq = data[col_d[i]].isnull().sum()/data.shape[0]\n",
        "  if unq > threshold:\n",
        "    data.drop(columns=col_d[i],axis=1,inplace=True)   \n",
        "    print(\"number unique values in column ,\",col_d[i] ,\" are:-  \",unq)\n",
        "\n",
        "\n",
        "i=0\n",
        "row_d = data.shape[0]\n",
        "for i in range(row_d):\n",
        "  ## droping row wise\n",
        "  unq = data.iloc[i,:].isnull().sum()/data.shape[0]\n",
        "  if unq > threshold:\n",
        "    data.drop(data.index[i],axis=0,inplace=True)\n",
        "    print(\"% unique values in row index ,\",i ,\" are:-  \",unq)\n"
      ],
      "execution_count": 0,
      "outputs": []
    },
    {
      "cell_type": "code",
      "metadata": {
        "id": "ObL_G7fK9VDl",
        "colab_type": "code",
        "outputId": "418a6424-0102-4c7c-d225-a8b8dd89c234",
        "colab": {
          "base_uri": "https://localhost:8080/",
          "height": 33
        }
      },
      "source": [
        "data.shape"
      ],
      "execution_count": 24,
      "outputs": [
        {
          "output_type": "execute_result",
          "data": {
            "text/plain": [
              "(25000, 134)"
            ]
          },
          "metadata": {
            "tags": []
          },
          "execution_count": 24
        }
      ]
    },
    {
      "cell_type": "code",
      "metadata": {
        "id": "5PgcGoFuRg6K",
        "colab_type": "code",
        "outputId": "9e3c9fdd-3739-40c0-f4c4-78dddd9a8d9b",
        "colab": {
          "base_uri": "https://localhost:8080/",
          "height": 86
        }
      },
      "source": [
        "################## CHECKING and Removing THE highly   ***** CORRELATED COLUMNS ******  ###################################################\n",
        "correlated_features = set()\n",
        "correlation_matrix = data.drop(columns=['tag','id','fund_id','greatstone_rating'],axis=1).corr()\n",
        "\n",
        "for i in range(len(correlation_matrix.columns)):\n",
        "    for j in range(i):\n",
        "        if abs(correlation_matrix.iloc[i, j]) > 0.8:\n",
        "            colname = correlation_matrix.columns[i]\n",
        "            correlated_features.add(colname)\n",
        "\n",
        "print(len(correlated_features))\n",
        "print(correlated_features)\n",
        "\n",
        "data.drop(columns=correlated_features,axis=1,inplace=True)\n",
        "\n",
        "print(data.shape)"
      ],
      "execution_count": 25,
      "outputs": [
        {
          "output_type": "stream",
          "text": [
            "43\n",
            "{'fund_return_3years', '3years_category_r_squared', '10_years_alpha_category', '5_years_beta_category', '2018_return_fund', '5_years_return_fund', '3years_fund_r_squared', '3years_category_std', '3_years_return_mean_annual_category', '10_years_return_mean_annual_fund', '10_years_return_category', 'ytd_return_category', '2010_return_category', 'category_r_squared_5years', '5years_fund_std', 'ytd_return_fund', 'Year', '2012_fund_return', '5years_category_std', '2017_return_fund', '2013_category_return', '5_years_alpha_category', '3_years_return_category', '5_years_beta_fund', '2014_return_fund', '3_years_return_mean_annual_fund', '5years_fund_r_squared', 'b_rating', '10years_fund_r_squared', '2011_return_fund', 'Week_of_Year', '10years_category_std', 'bond_percentage_of_porfolio', 'stock_percent_of_portfolio', 'fund_return_3months', '5_years_alpha_fund', '3_months_return_category', '2016_return_category', '5_years_return_category', '2013_return_fund', '5_years_return_mean_annual_fund', '3years_fund_std', 'return_ytd'}\n",
            "(25000, 91)\n"
          ],
          "name": "stdout"
        }
      ]
    },
    {
      "cell_type": "code",
      "metadata": {
        "id": "sK237EamB6Tt",
        "colab_type": "code",
        "outputId": "8d549ac1-7601-467d-9f22-e53af038d0c8",
        "colab": {
          "base_uri": "https://localhost:8080/",
          "height": 453
        }
      },
      "source": [
        "data.head(4)"
      ],
      "execution_count": 26,
      "outputs": [
        {
          "output_type": "execute_result",
          "data": {
            "text/html": [
              "<div>\n",
              "<style scoped>\n",
              "    .dataframe tbody tr th:only-of-type {\n",
              "        vertical-align: middle;\n",
              "    }\n",
              "\n",
              "    .dataframe tbody tr th {\n",
              "        vertical-align: top;\n",
              "    }\n",
              "\n",
              "    .dataframe thead th {\n",
              "        text-align: right;\n",
              "    }\n",
              "</style>\n",
              "<table border=\"1\" class=\"dataframe\">\n",
              "  <thead>\n",
              "    <tr style=\"text-align: right;\">\n",
              "      <th></th>\n",
              "      <th>tag</th>\n",
              "      <th>category</th>\n",
              "      <th>parent_company</th>\n",
              "      <th>fund_name</th>\n",
              "      <th>fund_id</th>\n",
              "      <th>fund_ratio_net_annual_expense</th>\n",
              "      <th>pb_ratio</th>\n",
              "      <th>ps_ratio</th>\n",
              "      <th>mmc</th>\n",
              "      <th>pc_ratio</th>\n",
              "      <th>pe_ratio</th>\n",
              "      <th>10years_category_r_squared</th>\n",
              "      <th>10yrs_sharpe_ratio_fund</th>\n",
              "      <th>10_years_alpha_fund</th>\n",
              "      <th>10years_fund_std</th>\n",
              "      <th>10yrs_sharpe_ratio_category</th>\n",
              "      <th>10_years_beta_fund</th>\n",
              "      <th>10yrs_treynor_ratio_fund</th>\n",
              "      <th>10_years_return_mean_annual_category</th>\n",
              "      <th>10yrs_treynor_ratio_category</th>\n",
              "      <th>10_years_return_fund</th>\n",
              "      <th>10_years_beta_category</th>\n",
              "      <th>bb_rating</th>\n",
              "      <th>below_b_rating</th>\n",
              "      <th>others_rating</th>\n",
              "      <th>maturity_bond</th>\n",
              "      <th>a_rating</th>\n",
              "      <th>aaa_rating</th>\n",
              "      <th>aa_rating</th>\n",
              "      <th>bbb_rating</th>\n",
              "      <th>duration_bond</th>\n",
              "      <th>portfolio_communication_allocation</th>\n",
              "      <th>portfolio_financial_services</th>\n",
              "      <th>portfolio_industrials_allocation</th>\n",
              "      <th>portfolio_tech_allocation</th>\n",
              "      <th>portfolio_materials_basic_allocation</th>\n",
              "      <th>portfolio_energy_allocation</th>\n",
              "      <th>portfolio_consumer_defence_allocation</th>\n",
              "      <th>portfolio_healthcare_allocation</th>\n",
              "      <th>portfolio_property_allocation</th>\n",
              "      <th>...</th>\n",
              "      <th>3yrs_treynor_ratio_category</th>\n",
              "      <th>fund_beta_3years</th>\n",
              "      <th>category_beta_3years</th>\n",
              "      <th>3_years_alpha_category</th>\n",
              "      <th>3yrs_sharpe_ratio_category</th>\n",
              "      <th>5yrs_sharpe_ratio_fund</th>\n",
              "      <th>5yrs_sharpe_ratio_category</th>\n",
              "      <th>5yrs_treynor_ratio_fund</th>\n",
              "      <th>5_years_return_mean_annual_category</th>\n",
              "      <th>5yrs_treynor_ratio_category</th>\n",
              "      <th>2014_category_return</th>\n",
              "      <th>2012_return_category</th>\n",
              "      <th>years_up</th>\n",
              "      <th>2018_return_category</th>\n",
              "      <th>category_return_1year</th>\n",
              "      <th>cash_percent_of_portfolio</th>\n",
              "      <th>2011_return_category</th>\n",
              "      <th>years_down</th>\n",
              "      <th>category_return_1month</th>\n",
              "      <th>2017_category_return</th>\n",
              "      <th>1_year_return_fund</th>\n",
              "      <th>2015_return_fund</th>\n",
              "      <th>portfolio_convertable</th>\n",
              "      <th>portfolio_others</th>\n",
              "      <th>2016_return_fund</th>\n",
              "      <th>2010_return_fund</th>\n",
              "      <th>category_ratio_net_annual_expense</th>\n",
              "      <th>category_return_2015</th>\n",
              "      <th>1_month_fund_return</th>\n",
              "      <th>portfolio_preferred</th>\n",
              "      <th>Day</th>\n",
              "      <th>Month</th>\n",
              "      <th>Weekday_Name</th>\n",
              "      <th>is_year_start</th>\n",
              "      <th>is_year_end</th>\n",
              "      <th>is_month_start</th>\n",
              "      <th>is_month_end</th>\n",
              "      <th>is_quarter_start</th>\n",
              "      <th>is_quarter_end</th>\n",
              "      <th>is_leap_year</th>\n",
              "    </tr>\n",
              "  </thead>\n",
              "  <tbody>\n",
              "    <tr>\n",
              "      <th>0</th>\n",
              "      <td>67922</td>\n",
              "      <td>Energy Limited Partnership</td>\n",
              "      <td>DWS</td>\n",
              "      <td>DWS RREEF MLP &amp; Energy Infrastructure Fund - C...</td>\n",
              "      <td>264614c6-5ac3-4146-ba26-1674b136cb40</td>\n",
              "      <td>1.44</td>\n",
              "      <td>1.71</td>\n",
              "      <td>1.31</td>\n",
              "      <td>19,857.41</td>\n",
              "      <td>5.91</td>\n",
              "      <td>14.51</td>\n",
              "      <td>0.49</td>\n",
              "      <td>NaN</td>\n",
              "      <td>NaN</td>\n",
              "      <td>NaN</td>\n",
              "      <td>0.01</td>\n",
              "      <td>NaN</td>\n",
              "      <td>NaN</td>\n",
              "      <td>0.01</td>\n",
              "      <td>0.21</td>\n",
              "      <td>0.00</td>\n",
              "      <td>0.01</td>\n",
              "      <td>0.0</td>\n",
              "      <td>0.0</td>\n",
              "      <td>0.0</td>\n",
              "      <td>NaN</td>\n",
              "      <td>0.0</td>\n",
              "      <td>0.0</td>\n",
              "      <td>0.0</td>\n",
              "      <td>0.0</td>\n",
              "      <td>NaN</td>\n",
              "      <td>0.00</td>\n",
              "      <td>0.00</td>\n",
              "      <td>0.00</td>\n",
              "      <td>0.00</td>\n",
              "      <td>0.00</td>\n",
              "      <td>100.00</td>\n",
              "      <td>0.00</td>\n",
              "      <td>0.00</td>\n",
              "      <td>0.00</td>\n",
              "      <td>...</td>\n",
              "      <td>0.05</td>\n",
              "      <td>1.20</td>\n",
              "      <td>0.01</td>\n",
              "      <td>-0.04</td>\n",
              "      <td>0.00</td>\n",
              "      <td>NaN</td>\n",
              "      <td>0.00</td>\n",
              "      <td>NaN</td>\n",
              "      <td>0.00</td>\n",
              "      <td>-0.04</td>\n",
              "      <td>NaN</td>\n",
              "      <td>NaN</td>\n",
              "      <td>1.0</td>\n",
              "      <td>-16.32</td>\n",
              "      <td>13.05</td>\n",
              "      <td>1.19</td>\n",
              "      <td>NaN</td>\n",
              "      <td>2.0</td>\n",
              "      <td>4.20</td>\n",
              "      <td>-5.78</td>\n",
              "      <td>18.40</td>\n",
              "      <td>NaN</td>\n",
              "      <td>0.0</td>\n",
              "      <td>0.00</td>\n",
              "      <td>16.14</td>\n",
              "      <td>NaN</td>\n",
              "      <td>1.75</td>\n",
              "      <td>-34.98</td>\n",
              "      <td>4.12</td>\n",
              "      <td>0.00</td>\n",
              "      <td>2</td>\n",
              "      <td>2</td>\n",
              "      <td>0</td>\n",
              "      <td>0</td>\n",
              "      <td>0</td>\n",
              "      <td>0</td>\n",
              "      <td>0</td>\n",
              "      <td>0</td>\n",
              "      <td>0</td>\n",
              "      <td>0</td>\n",
              "    </tr>\n",
              "    <tr>\n",
              "      <th>1</th>\n",
              "      <td>134783</td>\n",
              "      <td>Large Growth</td>\n",
              "      <td>Janus Henderson</td>\n",
              "      <td>Janus Henderson Research Fund Class N</td>\n",
              "      <td>f5ad58c2-fdea-4087-8678-e04744f89f90</td>\n",
              "      <td>0.58</td>\n",
              "      <td>5.30</td>\n",
              "      <td>3.38</td>\n",
              "      <td>72,347.03</td>\n",
              "      <td>15.95</td>\n",
              "      <td>18.88</td>\n",
              "      <td>0.88</td>\n",
              "      <td>1.16</td>\n",
              "      <td>0.16</td>\n",
              "      <td>14.30</td>\n",
              "      <td>0.01</td>\n",
              "      <td>1.08</td>\n",
              "      <td>15.57</td>\n",
              "      <td>0.01</td>\n",
              "      <td>0.15</td>\n",
              "      <td>17.25</td>\n",
              "      <td>0.01</td>\n",
              "      <td>0.0</td>\n",
              "      <td>0.0</td>\n",
              "      <td>0.0</td>\n",
              "      <td>NaN</td>\n",
              "      <td>0.0</td>\n",
              "      <td>0.0</td>\n",
              "      <td>0.0</td>\n",
              "      <td>0.0</td>\n",
              "      <td>NaN</td>\n",
              "      <td>0.78</td>\n",
              "      <td>9.77</td>\n",
              "      <td>9.97</td>\n",
              "      <td>35.51</td>\n",
              "      <td>2.86</td>\n",
              "      <td>0.38</td>\n",
              "      <td>5.88</td>\n",
              "      <td>14.41</td>\n",
              "      <td>2.67</td>\n",
              "      <td>...</td>\n",
              "      <td>0.13</td>\n",
              "      <td>1.07</td>\n",
              "      <td>0.01</td>\n",
              "      <td>0.01</td>\n",
              "      <td>0.01</td>\n",
              "      <td>0.89</td>\n",
              "      <td>0.01</td>\n",
              "      <td>10.37</td>\n",
              "      <td>0.01</td>\n",
              "      <td>0.10</td>\n",
              "      <td>10.00</td>\n",
              "      <td>15.34</td>\n",
              "      <td>5.0</td>\n",
              "      <td>-2.09</td>\n",
              "      <td>10.71</td>\n",
              "      <td>0.10</td>\n",
              "      <td>NaN</td>\n",
              "      <td>1.0</td>\n",
              "      <td>2.12</td>\n",
              "      <td>27.67</td>\n",
              "      <td>12.18</td>\n",
              "      <td>5.60</td>\n",
              "      <td>0.0</td>\n",
              "      <td>0.00</td>\n",
              "      <td>1.64</td>\n",
              "      <td>NaN</td>\n",
              "      <td>1.06</td>\n",
              "      <td>3.60</td>\n",
              "      <td>2.33</td>\n",
              "      <td>0.00</td>\n",
              "      <td>30</td>\n",
              "      <td>5</td>\n",
              "      <td>2</td>\n",
              "      <td>0</td>\n",
              "      <td>0</td>\n",
              "      <td>0</td>\n",
              "      <td>0</td>\n",
              "      <td>0</td>\n",
              "      <td>0</td>\n",
              "      <td>1</td>\n",
              "    </tr>\n",
              "    <tr>\n",
              "      <th>2</th>\n",
              "      <td>61271</td>\n",
              "      <td>Large Growth</td>\n",
              "      <td>Calvert Research and Management</td>\n",
              "      <td>Calvert Equity Fund Class A</td>\n",
              "      <td>3c13f4ab-02c4-4ca7-a133-7e996ec5d0c4</td>\n",
              "      <td>0.99</td>\n",
              "      <td>5.40</td>\n",
              "      <td>3.67</td>\n",
              "      <td>68,857.43</td>\n",
              "      <td>15.97</td>\n",
              "      <td>23.27</td>\n",
              "      <td>0.88</td>\n",
              "      <td>1.22</td>\n",
              "      <td>1.00</td>\n",
              "      <td>12.68</td>\n",
              "      <td>0.01</td>\n",
              "      <td>0.95</td>\n",
              "      <td>16.58</td>\n",
              "      <td>0.01</td>\n",
              "      <td>0.15</td>\n",
              "      <td>16.21</td>\n",
              "      <td>0.01</td>\n",
              "      <td>0.0</td>\n",
              "      <td>0.0</td>\n",
              "      <td>0.0</td>\n",
              "      <td>NaN</td>\n",
              "      <td>0.0</td>\n",
              "      <td>0.0</td>\n",
              "      <td>0.0</td>\n",
              "      <td>0.0</td>\n",
              "      <td>NaN</td>\n",
              "      <td>4.70</td>\n",
              "      <td>16.40</td>\n",
              "      <td>11.45</td>\n",
              "      <td>25.09</td>\n",
              "      <td>8.36</td>\n",
              "      <td>0.00</td>\n",
              "      <td>9.42</td>\n",
              "      <td>16.47</td>\n",
              "      <td>1.03</td>\n",
              "      <td>...</td>\n",
              "      <td>0.13</td>\n",
              "      <td>0.85</td>\n",
              "      <td>0.01</td>\n",
              "      <td>0.01</td>\n",
              "      <td>0.01</td>\n",
              "      <td>1.15</td>\n",
              "      <td>0.01</td>\n",
              "      <td>13.84</td>\n",
              "      <td>0.01</td>\n",
              "      <td>0.10</td>\n",
              "      <td>10.00</td>\n",
              "      <td>15.34</td>\n",
              "      <td>26.0</td>\n",
              "      <td>-2.09</td>\n",
              "      <td>10.71</td>\n",
              "      <td>2.00</td>\n",
              "      <td>-2.46</td>\n",
              "      <td>5.0</td>\n",
              "      <td>2.12</td>\n",
              "      <td>27.67</td>\n",
              "      <td>19.77</td>\n",
              "      <td>3.68</td>\n",
              "      <td>0.0</td>\n",
              "      <td>0.22</td>\n",
              "      <td>2.32</td>\n",
              "      <td>17.23</td>\n",
              "      <td>1.06</td>\n",
              "      <td>3.60</td>\n",
              "      <td>3.77</td>\n",
              "      <td>0.08</td>\n",
              "      <td>23</td>\n",
              "      <td>8</td>\n",
              "      <td>6</td>\n",
              "      <td>0</td>\n",
              "      <td>0</td>\n",
              "      <td>0</td>\n",
              "      <td>0</td>\n",
              "      <td>0</td>\n",
              "      <td>0</td>\n",
              "      <td>0</td>\n",
              "    </tr>\n",
              "    <tr>\n",
              "      <th>3</th>\n",
              "      <td>64412</td>\n",
              "      <td>Large Value</td>\n",
              "      <td>Invesco</td>\n",
              "      <td>Invesco Diversified Dividend Fund R5 Class</td>\n",
              "      <td>ff78bdd8-59eb-4cef-9f3c-b1baacce9554</td>\n",
              "      <td>0.52</td>\n",
              "      <td>2.23</td>\n",
              "      <td>1.63</td>\n",
              "      <td>43,266.62</td>\n",
              "      <td>8.93</td>\n",
              "      <td>12.7</td>\n",
              "      <td>0.90</td>\n",
              "      <td>1.20</td>\n",
              "      <td>0.75</td>\n",
              "      <td>11.21</td>\n",
              "      <td>0.01</td>\n",
              "      <td>0.84</td>\n",
              "      <td>16.38</td>\n",
              "      <td>0.01</td>\n",
              "      <td>0.14</td>\n",
              "      <td>14.12</td>\n",
              "      <td>0.01</td>\n",
              "      <td>0.0</td>\n",
              "      <td>0.0</td>\n",
              "      <td>0.0</td>\n",
              "      <td>NaN</td>\n",
              "      <td>0.0</td>\n",
              "      <td>0.0</td>\n",
              "      <td>0.0</td>\n",
              "      <td>0.0</td>\n",
              "      <td>NaN</td>\n",
              "      <td>6.53</td>\n",
              "      <td>13.80</td>\n",
              "      <td>10.91</td>\n",
              "      <td>0.16</td>\n",
              "      <td>2.22</td>\n",
              "      <td>6.79</td>\n",
              "      <td>25.73</td>\n",
              "      <td>9.00</td>\n",
              "      <td>0.00</td>\n",
              "      <td>...</td>\n",
              "      <td>0.09</td>\n",
              "      <td>0.70</td>\n",
              "      <td>0.01</td>\n",
              "      <td>-0.02</td>\n",
              "      <td>0.01</td>\n",
              "      <td>0.77</td>\n",
              "      <td>0.01</td>\n",
              "      <td>9.3</td>\n",
              "      <td>0.01</td>\n",
              "      <td>0.07</td>\n",
              "      <td>10.21</td>\n",
              "      <td>14.57</td>\n",
              "      <td>11.0</td>\n",
              "      <td>-8.53</td>\n",
              "      <td>4.48</td>\n",
              "      <td>6.13</td>\n",
              "      <td>-0.75</td>\n",
              "      <td>2.0</td>\n",
              "      <td>0.46</td>\n",
              "      <td>15.94</td>\n",
              "      <td>7.11</td>\n",
              "      <td>2.09</td>\n",
              "      <td>0.0</td>\n",
              "      <td>0.00</td>\n",
              "      <td>14.66</td>\n",
              "      <td>15.63</td>\n",
              "      <td>1.00</td>\n",
              "      <td>-4.05</td>\n",
              "      <td>1.46</td>\n",
              "      <td>0.00</td>\n",
              "      <td>24</td>\n",
              "      <td>10</td>\n",
              "      <td>0</td>\n",
              "      <td>0</td>\n",
              "      <td>0</td>\n",
              "      <td>0</td>\n",
              "      <td>0</td>\n",
              "      <td>0</td>\n",
              "      <td>0</td>\n",
              "      <td>0</td>\n",
              "    </tr>\n",
              "  </tbody>\n",
              "</table>\n",
              "<p>4 rows × 91 columns</p>\n",
              "</div>"
            ],
            "text/plain": [
              "      tag                    category  ... is_quarter_end is_leap_year\n",
              "0   67922  Energy Limited Partnership  ...              0            0\n",
              "1  134783                Large Growth  ...              0            1\n",
              "2   61271                Large Growth  ...              0            0\n",
              "3   64412                 Large Value  ...              0            0\n",
              "\n",
              "[4 rows x 91 columns]"
            ]
          },
          "metadata": {
            "tags": []
          },
          "execution_count": 26
        }
      ]
    },
    {
      "cell_type": "code",
      "metadata": {
        "id": "K9WXqiIPBJDF",
        "colab_type": "code",
        "outputId": "904e6d9f-819d-44e3-c822-f8748db33ca5",
        "colab": {
          "base_uri": "https://localhost:8080/",
          "height": 33
        }
      },
      "source": [
        "data.shape"
      ],
      "execution_count": 27,
      "outputs": [
        {
          "output_type": "execute_result",
          "data": {
            "text/plain": [
              "(25000, 91)"
            ]
          },
          "metadata": {
            "tags": []
          },
          "execution_count": 27
        }
      ]
    },
    {
      "cell_type": "code",
      "metadata": {
        "id": "ZjIoU9DOSkiD",
        "colab_type": "code",
        "colab": {}
      },
      "source": [
        "########### "
      ],
      "execution_count": 0,
      "outputs": []
    },
    {
      "cell_type": "code",
      "metadata": {
        "id": "vwWSTr3lJUj3",
        "colab_type": "code",
        "outputId": "9664cef3-2e57-4cd7-b241-b5bb1ad84db4",
        "colab": {
          "base_uri": "https://localhost:8080/",
          "height": 66
        }
      },
      "source": [
        "col_int = data.drop(columns=['tag','id','fund_id','greatstone_rating'],axis=1).select_dtypes(exclude=('category','object')).columns\n",
        "col_id = ['tag','id','fund_id']\n",
        "col_tgt = ['greatstone_rating']\n",
        "col_cat = data.drop(columns=['tag','id','fund_id','greatstone_rating'],axis=1).select_dtypes(include=('category','object')).columns\n",
        "print(len(col_int)+len(col_id)+len(col_tgt)+len(col_cat)),print(len(col_int),len(col_cat),len(col_id),len(col_tgt))"
      ],
      "execution_count": 29,
      "outputs": [
        {
          "output_type": "stream",
          "text": [
            "91\n",
            "75 12 3 1\n"
          ],
          "name": "stdout"
        },
        {
          "output_type": "execute_result",
          "data": {
            "text/plain": [
              "(None, None)"
            ]
          },
          "metadata": {
            "tags": []
          },
          "execution_count": 29
        }
      ]
    },
    {
      "cell_type": "code",
      "metadata": {
        "id": "WWGOnj1DBotQ",
        "colab_type": "code",
        "outputId": "4f96de34-533a-4bc5-9ae6-960eea55593e",
        "colab": {
          "base_uri": "https://localhost:8080/",
          "height": 153
        }
      },
      "source": [
        "data[col_int].head(3)"
      ],
      "execution_count": 30,
      "outputs": [
        {
          "output_type": "execute_result",
          "data": {
            "text/html": [
              "<div>\n",
              "<style scoped>\n",
              "    .dataframe tbody tr th:only-of-type {\n",
              "        vertical-align: middle;\n",
              "    }\n",
              "\n",
              "    .dataframe tbody tr th {\n",
              "        vertical-align: top;\n",
              "    }\n",
              "\n",
              "    .dataframe thead th {\n",
              "        text-align: right;\n",
              "    }\n",
              "</style>\n",
              "<table border=\"1\" class=\"dataframe\">\n",
              "  <thead>\n",
              "    <tr style=\"text-align: right;\">\n",
              "      <th></th>\n",
              "      <th>fund_ratio_net_annual_expense</th>\n",
              "      <th>pb_ratio</th>\n",
              "      <th>10years_category_r_squared</th>\n",
              "      <th>10yrs_sharpe_ratio_fund</th>\n",
              "      <th>10_years_alpha_fund</th>\n",
              "      <th>10years_fund_std</th>\n",
              "      <th>10yrs_sharpe_ratio_category</th>\n",
              "      <th>10_years_beta_fund</th>\n",
              "      <th>10_years_return_mean_annual_category</th>\n",
              "      <th>10yrs_treynor_ratio_category</th>\n",
              "      <th>10_years_return_fund</th>\n",
              "      <th>10_years_beta_category</th>\n",
              "      <th>bb_rating</th>\n",
              "      <th>below_b_rating</th>\n",
              "      <th>others_rating</th>\n",
              "      <th>maturity_bond</th>\n",
              "      <th>a_rating</th>\n",
              "      <th>aaa_rating</th>\n",
              "      <th>aa_rating</th>\n",
              "      <th>bbb_rating</th>\n",
              "      <th>duration_bond</th>\n",
              "      <th>portfolio_communication_allocation</th>\n",
              "      <th>portfolio_financial_services</th>\n",
              "      <th>portfolio_industrials_allocation</th>\n",
              "      <th>portfolio_tech_allocation</th>\n",
              "      <th>portfolio_materials_basic_allocation</th>\n",
              "      <th>portfolio_energy_allocation</th>\n",
              "      <th>portfolio_consumer_defence_allocation</th>\n",
              "      <th>portfolio_healthcare_allocation</th>\n",
              "      <th>portfolio_property_allocation</th>\n",
              "      <th>portfolio_utils_allocation</th>\n",
              "      <th>portfolio_cyclical_consumer_allocation</th>\n",
              "      <th>total_assets</th>\n",
              "      <th>yield</th>\n",
              "      <th>3_years_alpha_fund</th>\n",
              "      <th>3yrs_sharpe_ratio_fund</th>\n",
              "      <th>3yrs_treynor_ratio_category</th>\n",
              "      <th>fund_beta_3years</th>\n",
              "      <th>category_beta_3years</th>\n",
              "      <th>3_years_alpha_category</th>\n",
              "      <th>3yrs_sharpe_ratio_category</th>\n",
              "      <th>5yrs_sharpe_ratio_fund</th>\n",
              "      <th>5yrs_sharpe_ratio_category</th>\n",
              "      <th>5_years_return_mean_annual_category</th>\n",
              "      <th>5yrs_treynor_ratio_category</th>\n",
              "      <th>2014_category_return</th>\n",
              "      <th>2012_return_category</th>\n",
              "      <th>years_up</th>\n",
              "      <th>2018_return_category</th>\n",
              "      <th>category_return_1year</th>\n",
              "      <th>cash_percent_of_portfolio</th>\n",
              "      <th>2011_return_category</th>\n",
              "      <th>years_down</th>\n",
              "      <th>category_return_1month</th>\n",
              "      <th>2017_category_return</th>\n",
              "      <th>1_year_return_fund</th>\n",
              "      <th>2015_return_fund</th>\n",
              "      <th>portfolio_convertable</th>\n",
              "      <th>portfolio_others</th>\n",
              "      <th>2016_return_fund</th>\n",
              "      <th>2010_return_fund</th>\n",
              "      <th>category_ratio_net_annual_expense</th>\n",
              "      <th>category_return_2015</th>\n",
              "      <th>1_month_fund_return</th>\n",
              "      <th>portfolio_preferred</th>\n",
              "      <th>Day</th>\n",
              "      <th>Month</th>\n",
              "      <th>Weekday_Name</th>\n",
              "      <th>is_year_start</th>\n",
              "      <th>is_year_end</th>\n",
              "      <th>is_month_start</th>\n",
              "      <th>is_month_end</th>\n",
              "      <th>is_quarter_start</th>\n",
              "      <th>is_quarter_end</th>\n",
              "      <th>is_leap_year</th>\n",
              "    </tr>\n",
              "  </thead>\n",
              "  <tbody>\n",
              "    <tr>\n",
              "      <th>0</th>\n",
              "      <td>1.44</td>\n",
              "      <td>1.71</td>\n",
              "      <td>0.49</td>\n",
              "      <td>NaN</td>\n",
              "      <td>NaN</td>\n",
              "      <td>NaN</td>\n",
              "      <td>0.01</td>\n",
              "      <td>NaN</td>\n",
              "      <td>0.01</td>\n",
              "      <td>0.21</td>\n",
              "      <td>0.00</td>\n",
              "      <td>0.01</td>\n",
              "      <td>0.0</td>\n",
              "      <td>0.0</td>\n",
              "      <td>0.0</td>\n",
              "      <td>NaN</td>\n",
              "      <td>0.0</td>\n",
              "      <td>0.0</td>\n",
              "      <td>0.0</td>\n",
              "      <td>0.0</td>\n",
              "      <td>NaN</td>\n",
              "      <td>0.00</td>\n",
              "      <td>0.00</td>\n",
              "      <td>0.00</td>\n",
              "      <td>0.00</td>\n",
              "      <td>0.00</td>\n",
              "      <td>100.00</td>\n",
              "      <td>0.00</td>\n",
              "      <td>0.00</td>\n",
              "      <td>0.00</td>\n",
              "      <td>0.00</td>\n",
              "      <td>0.00</td>\n",
              "      <td>1.185000e+07</td>\n",
              "      <td>5.57</td>\n",
              "      <td>-7.10</td>\n",
              "      <td>0.26</td>\n",
              "      <td>0.05</td>\n",
              "      <td>1.20</td>\n",
              "      <td>0.01</td>\n",
              "      <td>-0.04</td>\n",
              "      <td>0.00</td>\n",
              "      <td>NaN</td>\n",
              "      <td>0.00</td>\n",
              "      <td>0.00</td>\n",
              "      <td>-0.04</td>\n",
              "      <td>NaN</td>\n",
              "      <td>NaN</td>\n",
              "      <td>1.0</td>\n",
              "      <td>-16.32</td>\n",
              "      <td>13.05</td>\n",
              "      <td>1.19</td>\n",
              "      <td>NaN</td>\n",
              "      <td>2.0</td>\n",
              "      <td>4.20</td>\n",
              "      <td>-5.78</td>\n",
              "      <td>18.40</td>\n",
              "      <td>NaN</td>\n",
              "      <td>0.0</td>\n",
              "      <td>0.00</td>\n",
              "      <td>16.14</td>\n",
              "      <td>NaN</td>\n",
              "      <td>1.75</td>\n",
              "      <td>-34.98</td>\n",
              "      <td>4.12</td>\n",
              "      <td>0.00</td>\n",
              "      <td>2</td>\n",
              "      <td>2</td>\n",
              "      <td>0</td>\n",
              "      <td>0</td>\n",
              "      <td>0</td>\n",
              "      <td>0</td>\n",
              "      <td>0</td>\n",
              "      <td>0</td>\n",
              "      <td>0</td>\n",
              "      <td>0</td>\n",
              "    </tr>\n",
              "    <tr>\n",
              "      <th>1</th>\n",
              "      <td>0.58</td>\n",
              "      <td>5.30</td>\n",
              "      <td>0.88</td>\n",
              "      <td>1.16</td>\n",
              "      <td>0.16</td>\n",
              "      <td>14.30</td>\n",
              "      <td>0.01</td>\n",
              "      <td>1.08</td>\n",
              "      <td>0.01</td>\n",
              "      <td>0.15</td>\n",
              "      <td>17.25</td>\n",
              "      <td>0.01</td>\n",
              "      <td>0.0</td>\n",
              "      <td>0.0</td>\n",
              "      <td>0.0</td>\n",
              "      <td>NaN</td>\n",
              "      <td>0.0</td>\n",
              "      <td>0.0</td>\n",
              "      <td>0.0</td>\n",
              "      <td>0.0</td>\n",
              "      <td>NaN</td>\n",
              "      <td>0.78</td>\n",
              "      <td>9.77</td>\n",
              "      <td>9.97</td>\n",
              "      <td>35.51</td>\n",
              "      <td>2.86</td>\n",
              "      <td>0.38</td>\n",
              "      <td>5.88</td>\n",
              "      <td>14.41</td>\n",
              "      <td>2.67</td>\n",
              "      <td>0.39</td>\n",
              "      <td>17.38</td>\n",
              "      <td>1.397000e+10</td>\n",
              "      <td>0.42</td>\n",
              "      <td>0.07</td>\n",
              "      <td>1.06</td>\n",
              "      <td>0.13</td>\n",
              "      <td>1.07</td>\n",
              "      <td>0.01</td>\n",
              "      <td>0.01</td>\n",
              "      <td>0.01</td>\n",
              "      <td>0.89</td>\n",
              "      <td>0.01</td>\n",
              "      <td>0.01</td>\n",
              "      <td>0.10</td>\n",
              "      <td>10.0</td>\n",
              "      <td>15.34</td>\n",
              "      <td>5.0</td>\n",
              "      <td>-2.09</td>\n",
              "      <td>10.71</td>\n",
              "      <td>0.10</td>\n",
              "      <td>NaN</td>\n",
              "      <td>1.0</td>\n",
              "      <td>2.12</td>\n",
              "      <td>27.67</td>\n",
              "      <td>12.18</td>\n",
              "      <td>5.60</td>\n",
              "      <td>0.0</td>\n",
              "      <td>0.00</td>\n",
              "      <td>1.64</td>\n",
              "      <td>NaN</td>\n",
              "      <td>1.06</td>\n",
              "      <td>3.60</td>\n",
              "      <td>2.33</td>\n",
              "      <td>0.00</td>\n",
              "      <td>30</td>\n",
              "      <td>5</td>\n",
              "      <td>2</td>\n",
              "      <td>0</td>\n",
              "      <td>0</td>\n",
              "      <td>0</td>\n",
              "      <td>0</td>\n",
              "      <td>0</td>\n",
              "      <td>0</td>\n",
              "      <td>1</td>\n",
              "    </tr>\n",
              "    <tr>\n",
              "      <th>2</th>\n",
              "      <td>0.99</td>\n",
              "      <td>5.40</td>\n",
              "      <td>0.88</td>\n",
              "      <td>1.22</td>\n",
              "      <td>1.00</td>\n",
              "      <td>12.68</td>\n",
              "      <td>0.01</td>\n",
              "      <td>0.95</td>\n",
              "      <td>0.01</td>\n",
              "      <td>0.15</td>\n",
              "      <td>16.21</td>\n",
              "      <td>0.01</td>\n",
              "      <td>0.0</td>\n",
              "      <td>0.0</td>\n",
              "      <td>0.0</td>\n",
              "      <td>NaN</td>\n",
              "      <td>0.0</td>\n",
              "      <td>0.0</td>\n",
              "      <td>0.0</td>\n",
              "      <td>0.0</td>\n",
              "      <td>NaN</td>\n",
              "      <td>4.70</td>\n",
              "      <td>16.40</td>\n",
              "      <td>11.45</td>\n",
              "      <td>25.09</td>\n",
              "      <td>8.36</td>\n",
              "      <td>0.00</td>\n",
              "      <td>9.42</td>\n",
              "      <td>16.47</td>\n",
              "      <td>1.03</td>\n",
              "      <td>0.00</td>\n",
              "      <td>7.09</td>\n",
              "      <td>2.660000e+09</td>\n",
              "      <td>0.02</td>\n",
              "      <td>4.32</td>\n",
              "      <td>1.46</td>\n",
              "      <td>0.13</td>\n",
              "      <td>0.85</td>\n",
              "      <td>0.01</td>\n",
              "      <td>0.01</td>\n",
              "      <td>0.01</td>\n",
              "      <td>1.15</td>\n",
              "      <td>0.01</td>\n",
              "      <td>0.01</td>\n",
              "      <td>0.10</td>\n",
              "      <td>10.0</td>\n",
              "      <td>15.34</td>\n",
              "      <td>26.0</td>\n",
              "      <td>-2.09</td>\n",
              "      <td>10.71</td>\n",
              "      <td>2.00</td>\n",
              "      <td>-2.46</td>\n",
              "      <td>5.0</td>\n",
              "      <td>2.12</td>\n",
              "      <td>27.67</td>\n",
              "      <td>19.77</td>\n",
              "      <td>3.68</td>\n",
              "      <td>0.0</td>\n",
              "      <td>0.22</td>\n",
              "      <td>2.32</td>\n",
              "      <td>17.23</td>\n",
              "      <td>1.06</td>\n",
              "      <td>3.60</td>\n",
              "      <td>3.77</td>\n",
              "      <td>0.08</td>\n",
              "      <td>23</td>\n",
              "      <td>8</td>\n",
              "      <td>6</td>\n",
              "      <td>0</td>\n",
              "      <td>0</td>\n",
              "      <td>0</td>\n",
              "      <td>0</td>\n",
              "      <td>0</td>\n",
              "      <td>0</td>\n",
              "      <td>0</td>\n",
              "    </tr>\n",
              "  </tbody>\n",
              "</table>\n",
              "</div>"
            ],
            "text/plain": [
              "   fund_ratio_net_annual_expense  pb_ratio  ...  is_quarter_end  is_leap_year\n",
              "0                           1.44      1.71  ...               0             0\n",
              "1                           0.58      5.30  ...               0             1\n",
              "2                           0.99      5.40  ...               0             0\n",
              "\n",
              "[3 rows x 75 columns]"
            ]
          },
          "metadata": {
            "tags": []
          },
          "execution_count": 30
        }
      ]
    },
    {
      "cell_type": "code",
      "metadata": {
        "id": "PlJj8IUjD1xf",
        "colab_type": "code",
        "colab": {}
      },
      "source": [
        "### Treating the  INT null values  \n",
        "\n",
        "i=0\n",
        "col_d = col_int\n",
        "for i in range(len(col_d)):\n",
        "  data[col_d[i]].fillna(np.mean(data[col_d[i]]),inplace=True)\n",
        "  #unq = data_train[col_d[i]].isnull().sum()  \n",
        "  #print(\"number of null values in column ,\",col_d[i] ,\" are:-  \",unq)"
      ],
      "execution_count": 0,
      "outputs": []
    },
    {
      "cell_type": "code",
      "metadata": {
        "id": "n0eHOcNhDguk",
        "colab_type": "code",
        "outputId": "db7102ff-5ea5-460e-dcfa-3d8a210a1518",
        "colab": {
          "base_uri": "https://localhost:8080/",
          "height": 153
        }
      },
      "source": [
        "data[col_int].head(3)"
      ],
      "execution_count": 32,
      "outputs": [
        {
          "output_type": "execute_result",
          "data": {
            "text/html": [
              "<div>\n",
              "<style scoped>\n",
              "    .dataframe tbody tr th:only-of-type {\n",
              "        vertical-align: middle;\n",
              "    }\n",
              "\n",
              "    .dataframe tbody tr th {\n",
              "        vertical-align: top;\n",
              "    }\n",
              "\n",
              "    .dataframe thead th {\n",
              "        text-align: right;\n",
              "    }\n",
              "</style>\n",
              "<table border=\"1\" class=\"dataframe\">\n",
              "  <thead>\n",
              "    <tr style=\"text-align: right;\">\n",
              "      <th></th>\n",
              "      <th>fund_ratio_net_annual_expense</th>\n",
              "      <th>pb_ratio</th>\n",
              "      <th>10years_category_r_squared</th>\n",
              "      <th>10yrs_sharpe_ratio_fund</th>\n",
              "      <th>10_years_alpha_fund</th>\n",
              "      <th>10years_fund_std</th>\n",
              "      <th>10yrs_sharpe_ratio_category</th>\n",
              "      <th>10_years_beta_fund</th>\n",
              "      <th>10_years_return_mean_annual_category</th>\n",
              "      <th>10yrs_treynor_ratio_category</th>\n",
              "      <th>10_years_return_fund</th>\n",
              "      <th>10_years_beta_category</th>\n",
              "      <th>bb_rating</th>\n",
              "      <th>below_b_rating</th>\n",
              "      <th>others_rating</th>\n",
              "      <th>maturity_bond</th>\n",
              "      <th>a_rating</th>\n",
              "      <th>aaa_rating</th>\n",
              "      <th>aa_rating</th>\n",
              "      <th>bbb_rating</th>\n",
              "      <th>duration_bond</th>\n",
              "      <th>portfolio_communication_allocation</th>\n",
              "      <th>portfolio_financial_services</th>\n",
              "      <th>portfolio_industrials_allocation</th>\n",
              "      <th>portfolio_tech_allocation</th>\n",
              "      <th>portfolio_materials_basic_allocation</th>\n",
              "      <th>portfolio_energy_allocation</th>\n",
              "      <th>portfolio_consumer_defence_allocation</th>\n",
              "      <th>portfolio_healthcare_allocation</th>\n",
              "      <th>portfolio_property_allocation</th>\n",
              "      <th>portfolio_utils_allocation</th>\n",
              "      <th>portfolio_cyclical_consumer_allocation</th>\n",
              "      <th>total_assets</th>\n",
              "      <th>yield</th>\n",
              "      <th>3_years_alpha_fund</th>\n",
              "      <th>3yrs_sharpe_ratio_fund</th>\n",
              "      <th>3yrs_treynor_ratio_category</th>\n",
              "      <th>fund_beta_3years</th>\n",
              "      <th>category_beta_3years</th>\n",
              "      <th>3_years_alpha_category</th>\n",
              "      <th>3yrs_sharpe_ratio_category</th>\n",
              "      <th>5yrs_sharpe_ratio_fund</th>\n",
              "      <th>5yrs_sharpe_ratio_category</th>\n",
              "      <th>5_years_return_mean_annual_category</th>\n",
              "      <th>5yrs_treynor_ratio_category</th>\n",
              "      <th>2014_category_return</th>\n",
              "      <th>2012_return_category</th>\n",
              "      <th>years_up</th>\n",
              "      <th>2018_return_category</th>\n",
              "      <th>category_return_1year</th>\n",
              "      <th>cash_percent_of_portfolio</th>\n",
              "      <th>2011_return_category</th>\n",
              "      <th>years_down</th>\n",
              "      <th>category_return_1month</th>\n",
              "      <th>2017_category_return</th>\n",
              "      <th>1_year_return_fund</th>\n",
              "      <th>2015_return_fund</th>\n",
              "      <th>portfolio_convertable</th>\n",
              "      <th>portfolio_others</th>\n",
              "      <th>2016_return_fund</th>\n",
              "      <th>2010_return_fund</th>\n",
              "      <th>category_ratio_net_annual_expense</th>\n",
              "      <th>category_return_2015</th>\n",
              "      <th>1_month_fund_return</th>\n",
              "      <th>portfolio_preferred</th>\n",
              "      <th>Day</th>\n",
              "      <th>Month</th>\n",
              "      <th>Weekday_Name</th>\n",
              "      <th>is_year_start</th>\n",
              "      <th>is_year_end</th>\n",
              "      <th>is_month_start</th>\n",
              "      <th>is_month_end</th>\n",
              "      <th>is_quarter_start</th>\n",
              "      <th>is_quarter_end</th>\n",
              "      <th>is_leap_year</th>\n",
              "    </tr>\n",
              "  </thead>\n",
              "  <tbody>\n",
              "    <tr>\n",
              "      <th>0</th>\n",
              "      <td>1.44</td>\n",
              "      <td>1.71</td>\n",
              "      <td>0.49</td>\n",
              "      <td>0.937495</td>\n",
              "      <td>-0.003148</td>\n",
              "      <td>11.418634</td>\n",
              "      <td>0.01</td>\n",
              "      <td>0.963222</td>\n",
              "      <td>0.01</td>\n",
              "      <td>0.21</td>\n",
              "      <td>0.00</td>\n",
              "      <td>0.01</td>\n",
              "      <td>0.0</td>\n",
              "      <td>0.0</td>\n",
              "      <td>0.0</td>\n",
              "      <td>7.765444</td>\n",
              "      <td>0.0</td>\n",
              "      <td>0.0</td>\n",
              "      <td>0.0</td>\n",
              "      <td>0.0</td>\n",
              "      <td>4.643082</td>\n",
              "      <td>0.00</td>\n",
              "      <td>0.00</td>\n",
              "      <td>0.00</td>\n",
              "      <td>0.00</td>\n",
              "      <td>0.00</td>\n",
              "      <td>100.00</td>\n",
              "      <td>0.00</td>\n",
              "      <td>0.00</td>\n",
              "      <td>0.00</td>\n",
              "      <td>0.00</td>\n",
              "      <td>0.00</td>\n",
              "      <td>1.185000e+07</td>\n",
              "      <td>5.57</td>\n",
              "      <td>-7.10</td>\n",
              "      <td>0.26</td>\n",
              "      <td>0.05</td>\n",
              "      <td>1.20</td>\n",
              "      <td>0.01</td>\n",
              "      <td>-0.04</td>\n",
              "      <td>0.00</td>\n",
              "      <td>0.517838</td>\n",
              "      <td>0.00</td>\n",
              "      <td>0.00</td>\n",
              "      <td>-0.04</td>\n",
              "      <td>4.677046</td>\n",
              "      <td>12.411046</td>\n",
              "      <td>1.0</td>\n",
              "      <td>-16.32</td>\n",
              "      <td>13.05</td>\n",
              "      <td>1.19</td>\n",
              "      <td>-1.864729</td>\n",
              "      <td>2.0</td>\n",
              "      <td>4.20</td>\n",
              "      <td>-5.78</td>\n",
              "      <td>18.40</td>\n",
              "      <td>-1.957244</td>\n",
              "      <td>0.0</td>\n",
              "      <td>0.00</td>\n",
              "      <td>16.14</td>\n",
              "      <td>13.603278</td>\n",
              "      <td>1.75</td>\n",
              "      <td>-34.98</td>\n",
              "      <td>4.12</td>\n",
              "      <td>0.00</td>\n",
              "      <td>2</td>\n",
              "      <td>2</td>\n",
              "      <td>0</td>\n",
              "      <td>0</td>\n",
              "      <td>0</td>\n",
              "      <td>0</td>\n",
              "      <td>0</td>\n",
              "      <td>0</td>\n",
              "      <td>0</td>\n",
              "      <td>0</td>\n",
              "    </tr>\n",
              "    <tr>\n",
              "      <th>1</th>\n",
              "      <td>0.58</td>\n",
              "      <td>5.30</td>\n",
              "      <td>0.88</td>\n",
              "      <td>1.160000</td>\n",
              "      <td>0.160000</td>\n",
              "      <td>14.300000</td>\n",
              "      <td>0.01</td>\n",
              "      <td>1.080000</td>\n",
              "      <td>0.01</td>\n",
              "      <td>0.15</td>\n",
              "      <td>17.25</td>\n",
              "      <td>0.01</td>\n",
              "      <td>0.0</td>\n",
              "      <td>0.0</td>\n",
              "      <td>0.0</td>\n",
              "      <td>7.765444</td>\n",
              "      <td>0.0</td>\n",
              "      <td>0.0</td>\n",
              "      <td>0.0</td>\n",
              "      <td>0.0</td>\n",
              "      <td>4.643082</td>\n",
              "      <td>0.78</td>\n",
              "      <td>9.77</td>\n",
              "      <td>9.97</td>\n",
              "      <td>35.51</td>\n",
              "      <td>2.86</td>\n",
              "      <td>0.38</td>\n",
              "      <td>5.88</td>\n",
              "      <td>14.41</td>\n",
              "      <td>2.67</td>\n",
              "      <td>0.39</td>\n",
              "      <td>17.38</td>\n",
              "      <td>1.397000e+10</td>\n",
              "      <td>0.42</td>\n",
              "      <td>0.07</td>\n",
              "      <td>1.06</td>\n",
              "      <td>0.13</td>\n",
              "      <td>1.07</td>\n",
              "      <td>0.01</td>\n",
              "      <td>0.01</td>\n",
              "      <td>0.01</td>\n",
              "      <td>0.890000</td>\n",
              "      <td>0.01</td>\n",
              "      <td>0.01</td>\n",
              "      <td>0.10</td>\n",
              "      <td>10.000000</td>\n",
              "      <td>15.340000</td>\n",
              "      <td>5.0</td>\n",
              "      <td>-2.09</td>\n",
              "      <td>10.71</td>\n",
              "      <td>0.10</td>\n",
              "      <td>-1.864729</td>\n",
              "      <td>1.0</td>\n",
              "      <td>2.12</td>\n",
              "      <td>27.67</td>\n",
              "      <td>12.18</td>\n",
              "      <td>5.600000</td>\n",
              "      <td>0.0</td>\n",
              "      <td>0.00</td>\n",
              "      <td>1.64</td>\n",
              "      <td>13.603278</td>\n",
              "      <td>1.06</td>\n",
              "      <td>3.60</td>\n",
              "      <td>2.33</td>\n",
              "      <td>0.00</td>\n",
              "      <td>30</td>\n",
              "      <td>5</td>\n",
              "      <td>2</td>\n",
              "      <td>0</td>\n",
              "      <td>0</td>\n",
              "      <td>0</td>\n",
              "      <td>0</td>\n",
              "      <td>0</td>\n",
              "      <td>0</td>\n",
              "      <td>1</td>\n",
              "    </tr>\n",
              "    <tr>\n",
              "      <th>2</th>\n",
              "      <td>0.99</td>\n",
              "      <td>5.40</td>\n",
              "      <td>0.88</td>\n",
              "      <td>1.220000</td>\n",
              "      <td>1.000000</td>\n",
              "      <td>12.680000</td>\n",
              "      <td>0.01</td>\n",
              "      <td>0.950000</td>\n",
              "      <td>0.01</td>\n",
              "      <td>0.15</td>\n",
              "      <td>16.21</td>\n",
              "      <td>0.01</td>\n",
              "      <td>0.0</td>\n",
              "      <td>0.0</td>\n",
              "      <td>0.0</td>\n",
              "      <td>7.765444</td>\n",
              "      <td>0.0</td>\n",
              "      <td>0.0</td>\n",
              "      <td>0.0</td>\n",
              "      <td>0.0</td>\n",
              "      <td>4.643082</td>\n",
              "      <td>4.70</td>\n",
              "      <td>16.40</td>\n",
              "      <td>11.45</td>\n",
              "      <td>25.09</td>\n",
              "      <td>8.36</td>\n",
              "      <td>0.00</td>\n",
              "      <td>9.42</td>\n",
              "      <td>16.47</td>\n",
              "      <td>1.03</td>\n",
              "      <td>0.00</td>\n",
              "      <td>7.09</td>\n",
              "      <td>2.660000e+09</td>\n",
              "      <td>0.02</td>\n",
              "      <td>4.32</td>\n",
              "      <td>1.46</td>\n",
              "      <td>0.13</td>\n",
              "      <td>0.85</td>\n",
              "      <td>0.01</td>\n",
              "      <td>0.01</td>\n",
              "      <td>0.01</td>\n",
              "      <td>1.150000</td>\n",
              "      <td>0.01</td>\n",
              "      <td>0.01</td>\n",
              "      <td>0.10</td>\n",
              "      <td>10.000000</td>\n",
              "      <td>15.340000</td>\n",
              "      <td>26.0</td>\n",
              "      <td>-2.09</td>\n",
              "      <td>10.71</td>\n",
              "      <td>2.00</td>\n",
              "      <td>-2.460000</td>\n",
              "      <td>5.0</td>\n",
              "      <td>2.12</td>\n",
              "      <td>27.67</td>\n",
              "      <td>19.77</td>\n",
              "      <td>3.680000</td>\n",
              "      <td>0.0</td>\n",
              "      <td>0.22</td>\n",
              "      <td>2.32</td>\n",
              "      <td>17.230000</td>\n",
              "      <td>1.06</td>\n",
              "      <td>3.60</td>\n",
              "      <td>3.77</td>\n",
              "      <td>0.08</td>\n",
              "      <td>23</td>\n",
              "      <td>8</td>\n",
              "      <td>6</td>\n",
              "      <td>0</td>\n",
              "      <td>0</td>\n",
              "      <td>0</td>\n",
              "      <td>0</td>\n",
              "      <td>0</td>\n",
              "      <td>0</td>\n",
              "      <td>0</td>\n",
              "    </tr>\n",
              "  </tbody>\n",
              "</table>\n",
              "</div>"
            ],
            "text/plain": [
              "   fund_ratio_net_annual_expense  pb_ratio  ...  is_quarter_end  is_leap_year\n",
              "0                           1.44      1.71  ...               0             0\n",
              "1                           0.58      5.30  ...               0             1\n",
              "2                           0.99      5.40  ...               0             0\n",
              "\n",
              "[3 rows x 75 columns]"
            ]
          },
          "metadata": {
            "tags": []
          },
          "execution_count": 32
        }
      ]
    },
    {
      "cell_type": "code",
      "metadata": {
        "id": "DWJkbKhJDjC4",
        "colab_type": "code",
        "outputId": "40dc607e-7e68-40cb-ccb6-75077c3db48e",
        "colab": {
          "base_uri": "https://localhost:8080/",
          "height": 33
        }
      },
      "source": [
        "data[col_int].isnull().sum().sum()"
      ],
      "execution_count": 33,
      "outputs": [
        {
          "output_type": "execute_result",
          "data": {
            "text/plain": [
              "0"
            ]
          },
          "metadata": {
            "tags": []
          },
          "execution_count": 33
        }
      ]
    },
    {
      "cell_type": "code",
      "metadata": {
        "id": "LloKaaKgDjLI",
        "colab_type": "code",
        "colab": {}
      },
      "source": [
        "############################### NEGATIVE VALUES ###########################################################\n",
        "\n",
        "### Treating the INT negative values  - Training \n",
        "\n",
        "i=0\n",
        "col_d = col_int\n",
        "i=0\n",
        "column = []\n",
        "for i in range(len(col_d)):\n",
        "  data[col_d[i]]  = data[col_d[i]].apply(lambda x : x*-1 if x<0 else x)\n",
        "  unq = data[col_d[i]].loc[(data[col_d[i]]<0)].count()\n",
        "  #print(\"number negative values in column ,\",col_d[i] ,\" are:-  \",unq)"
      ],
      "execution_count": 0,
      "outputs": []
    },
    {
      "cell_type": "code",
      "metadata": {
        "id": "oxhSEh3SDi_1",
        "colab_type": "code",
        "outputId": "d544ff1c-2185-4f89-f0b9-586241fff0a5",
        "colab": {
          "base_uri": "https://localhost:8080/",
          "height": 153
        }
      },
      "source": [
        "data[col_int].head(3)"
      ],
      "execution_count": 35,
      "outputs": [
        {
          "output_type": "execute_result",
          "data": {
            "text/html": [
              "<div>\n",
              "<style scoped>\n",
              "    .dataframe tbody tr th:only-of-type {\n",
              "        vertical-align: middle;\n",
              "    }\n",
              "\n",
              "    .dataframe tbody tr th {\n",
              "        vertical-align: top;\n",
              "    }\n",
              "\n",
              "    .dataframe thead th {\n",
              "        text-align: right;\n",
              "    }\n",
              "</style>\n",
              "<table border=\"1\" class=\"dataframe\">\n",
              "  <thead>\n",
              "    <tr style=\"text-align: right;\">\n",
              "      <th></th>\n",
              "      <th>fund_ratio_net_annual_expense</th>\n",
              "      <th>pb_ratio</th>\n",
              "      <th>10years_category_r_squared</th>\n",
              "      <th>10yrs_sharpe_ratio_fund</th>\n",
              "      <th>10_years_alpha_fund</th>\n",
              "      <th>10years_fund_std</th>\n",
              "      <th>10yrs_sharpe_ratio_category</th>\n",
              "      <th>10_years_beta_fund</th>\n",
              "      <th>10_years_return_mean_annual_category</th>\n",
              "      <th>10yrs_treynor_ratio_category</th>\n",
              "      <th>10_years_return_fund</th>\n",
              "      <th>10_years_beta_category</th>\n",
              "      <th>bb_rating</th>\n",
              "      <th>below_b_rating</th>\n",
              "      <th>others_rating</th>\n",
              "      <th>maturity_bond</th>\n",
              "      <th>a_rating</th>\n",
              "      <th>aaa_rating</th>\n",
              "      <th>aa_rating</th>\n",
              "      <th>bbb_rating</th>\n",
              "      <th>duration_bond</th>\n",
              "      <th>portfolio_communication_allocation</th>\n",
              "      <th>portfolio_financial_services</th>\n",
              "      <th>portfolio_industrials_allocation</th>\n",
              "      <th>portfolio_tech_allocation</th>\n",
              "      <th>portfolio_materials_basic_allocation</th>\n",
              "      <th>portfolio_energy_allocation</th>\n",
              "      <th>portfolio_consumer_defence_allocation</th>\n",
              "      <th>portfolio_healthcare_allocation</th>\n",
              "      <th>portfolio_property_allocation</th>\n",
              "      <th>portfolio_utils_allocation</th>\n",
              "      <th>portfolio_cyclical_consumer_allocation</th>\n",
              "      <th>total_assets</th>\n",
              "      <th>yield</th>\n",
              "      <th>3_years_alpha_fund</th>\n",
              "      <th>3yrs_sharpe_ratio_fund</th>\n",
              "      <th>3yrs_treynor_ratio_category</th>\n",
              "      <th>fund_beta_3years</th>\n",
              "      <th>category_beta_3years</th>\n",
              "      <th>3_years_alpha_category</th>\n",
              "      <th>3yrs_sharpe_ratio_category</th>\n",
              "      <th>5yrs_sharpe_ratio_fund</th>\n",
              "      <th>5yrs_sharpe_ratio_category</th>\n",
              "      <th>5_years_return_mean_annual_category</th>\n",
              "      <th>5yrs_treynor_ratio_category</th>\n",
              "      <th>2014_category_return</th>\n",
              "      <th>2012_return_category</th>\n",
              "      <th>years_up</th>\n",
              "      <th>2018_return_category</th>\n",
              "      <th>category_return_1year</th>\n",
              "      <th>cash_percent_of_portfolio</th>\n",
              "      <th>2011_return_category</th>\n",
              "      <th>years_down</th>\n",
              "      <th>category_return_1month</th>\n",
              "      <th>2017_category_return</th>\n",
              "      <th>1_year_return_fund</th>\n",
              "      <th>2015_return_fund</th>\n",
              "      <th>portfolio_convertable</th>\n",
              "      <th>portfolio_others</th>\n",
              "      <th>2016_return_fund</th>\n",
              "      <th>2010_return_fund</th>\n",
              "      <th>category_ratio_net_annual_expense</th>\n",
              "      <th>category_return_2015</th>\n",
              "      <th>1_month_fund_return</th>\n",
              "      <th>portfolio_preferred</th>\n",
              "      <th>Day</th>\n",
              "      <th>Month</th>\n",
              "      <th>Weekday_Name</th>\n",
              "      <th>is_year_start</th>\n",
              "      <th>is_year_end</th>\n",
              "      <th>is_month_start</th>\n",
              "      <th>is_month_end</th>\n",
              "      <th>is_quarter_start</th>\n",
              "      <th>is_quarter_end</th>\n",
              "      <th>is_leap_year</th>\n",
              "    </tr>\n",
              "  </thead>\n",
              "  <tbody>\n",
              "    <tr>\n",
              "      <th>0</th>\n",
              "      <td>1.44</td>\n",
              "      <td>1.71</td>\n",
              "      <td>0.49</td>\n",
              "      <td>0.937495</td>\n",
              "      <td>0.003148</td>\n",
              "      <td>11.418634</td>\n",
              "      <td>0.01</td>\n",
              "      <td>0.963222</td>\n",
              "      <td>0.01</td>\n",
              "      <td>0.21</td>\n",
              "      <td>0.00</td>\n",
              "      <td>0.01</td>\n",
              "      <td>0.0</td>\n",
              "      <td>0.0</td>\n",
              "      <td>0.0</td>\n",
              "      <td>7.765444</td>\n",
              "      <td>0.0</td>\n",
              "      <td>0.0</td>\n",
              "      <td>0.0</td>\n",
              "      <td>0.0</td>\n",
              "      <td>4.643082</td>\n",
              "      <td>0.00</td>\n",
              "      <td>0.00</td>\n",
              "      <td>0.00</td>\n",
              "      <td>0.00</td>\n",
              "      <td>0.00</td>\n",
              "      <td>100.00</td>\n",
              "      <td>0.00</td>\n",
              "      <td>0.00</td>\n",
              "      <td>0.00</td>\n",
              "      <td>0.00</td>\n",
              "      <td>0.00</td>\n",
              "      <td>1.185000e+07</td>\n",
              "      <td>5.57</td>\n",
              "      <td>7.10</td>\n",
              "      <td>0.26</td>\n",
              "      <td>0.05</td>\n",
              "      <td>1.20</td>\n",
              "      <td>0.01</td>\n",
              "      <td>0.04</td>\n",
              "      <td>0.00</td>\n",
              "      <td>0.517838</td>\n",
              "      <td>0.00</td>\n",
              "      <td>0.00</td>\n",
              "      <td>0.04</td>\n",
              "      <td>4.677046</td>\n",
              "      <td>12.411046</td>\n",
              "      <td>1.0</td>\n",
              "      <td>16.32</td>\n",
              "      <td>13.05</td>\n",
              "      <td>1.19</td>\n",
              "      <td>1.864729</td>\n",
              "      <td>2.0</td>\n",
              "      <td>4.20</td>\n",
              "      <td>5.78</td>\n",
              "      <td>18.40</td>\n",
              "      <td>1.957244</td>\n",
              "      <td>0.0</td>\n",
              "      <td>0.00</td>\n",
              "      <td>16.14</td>\n",
              "      <td>13.603278</td>\n",
              "      <td>1.75</td>\n",
              "      <td>34.98</td>\n",
              "      <td>4.12</td>\n",
              "      <td>0.00</td>\n",
              "      <td>2</td>\n",
              "      <td>2</td>\n",
              "      <td>0</td>\n",
              "      <td>0</td>\n",
              "      <td>0</td>\n",
              "      <td>0</td>\n",
              "      <td>0</td>\n",
              "      <td>0</td>\n",
              "      <td>0</td>\n",
              "      <td>0</td>\n",
              "    </tr>\n",
              "    <tr>\n",
              "      <th>1</th>\n",
              "      <td>0.58</td>\n",
              "      <td>5.30</td>\n",
              "      <td>0.88</td>\n",
              "      <td>1.160000</td>\n",
              "      <td>0.160000</td>\n",
              "      <td>14.300000</td>\n",
              "      <td>0.01</td>\n",
              "      <td>1.080000</td>\n",
              "      <td>0.01</td>\n",
              "      <td>0.15</td>\n",
              "      <td>17.25</td>\n",
              "      <td>0.01</td>\n",
              "      <td>0.0</td>\n",
              "      <td>0.0</td>\n",
              "      <td>0.0</td>\n",
              "      <td>7.765444</td>\n",
              "      <td>0.0</td>\n",
              "      <td>0.0</td>\n",
              "      <td>0.0</td>\n",
              "      <td>0.0</td>\n",
              "      <td>4.643082</td>\n",
              "      <td>0.78</td>\n",
              "      <td>9.77</td>\n",
              "      <td>9.97</td>\n",
              "      <td>35.51</td>\n",
              "      <td>2.86</td>\n",
              "      <td>0.38</td>\n",
              "      <td>5.88</td>\n",
              "      <td>14.41</td>\n",
              "      <td>2.67</td>\n",
              "      <td>0.39</td>\n",
              "      <td>17.38</td>\n",
              "      <td>1.397000e+10</td>\n",
              "      <td>0.42</td>\n",
              "      <td>0.07</td>\n",
              "      <td>1.06</td>\n",
              "      <td>0.13</td>\n",
              "      <td>1.07</td>\n",
              "      <td>0.01</td>\n",
              "      <td>0.01</td>\n",
              "      <td>0.01</td>\n",
              "      <td>0.890000</td>\n",
              "      <td>0.01</td>\n",
              "      <td>0.01</td>\n",
              "      <td>0.10</td>\n",
              "      <td>10.000000</td>\n",
              "      <td>15.340000</td>\n",
              "      <td>5.0</td>\n",
              "      <td>2.09</td>\n",
              "      <td>10.71</td>\n",
              "      <td>0.10</td>\n",
              "      <td>1.864729</td>\n",
              "      <td>1.0</td>\n",
              "      <td>2.12</td>\n",
              "      <td>27.67</td>\n",
              "      <td>12.18</td>\n",
              "      <td>5.600000</td>\n",
              "      <td>0.0</td>\n",
              "      <td>0.00</td>\n",
              "      <td>1.64</td>\n",
              "      <td>13.603278</td>\n",
              "      <td>1.06</td>\n",
              "      <td>3.60</td>\n",
              "      <td>2.33</td>\n",
              "      <td>0.00</td>\n",
              "      <td>30</td>\n",
              "      <td>5</td>\n",
              "      <td>2</td>\n",
              "      <td>0</td>\n",
              "      <td>0</td>\n",
              "      <td>0</td>\n",
              "      <td>0</td>\n",
              "      <td>0</td>\n",
              "      <td>0</td>\n",
              "      <td>1</td>\n",
              "    </tr>\n",
              "    <tr>\n",
              "      <th>2</th>\n",
              "      <td>0.99</td>\n",
              "      <td>5.40</td>\n",
              "      <td>0.88</td>\n",
              "      <td>1.220000</td>\n",
              "      <td>1.000000</td>\n",
              "      <td>12.680000</td>\n",
              "      <td>0.01</td>\n",
              "      <td>0.950000</td>\n",
              "      <td>0.01</td>\n",
              "      <td>0.15</td>\n",
              "      <td>16.21</td>\n",
              "      <td>0.01</td>\n",
              "      <td>0.0</td>\n",
              "      <td>0.0</td>\n",
              "      <td>0.0</td>\n",
              "      <td>7.765444</td>\n",
              "      <td>0.0</td>\n",
              "      <td>0.0</td>\n",
              "      <td>0.0</td>\n",
              "      <td>0.0</td>\n",
              "      <td>4.643082</td>\n",
              "      <td>4.70</td>\n",
              "      <td>16.40</td>\n",
              "      <td>11.45</td>\n",
              "      <td>25.09</td>\n",
              "      <td>8.36</td>\n",
              "      <td>0.00</td>\n",
              "      <td>9.42</td>\n",
              "      <td>16.47</td>\n",
              "      <td>1.03</td>\n",
              "      <td>0.00</td>\n",
              "      <td>7.09</td>\n",
              "      <td>2.660000e+09</td>\n",
              "      <td>0.02</td>\n",
              "      <td>4.32</td>\n",
              "      <td>1.46</td>\n",
              "      <td>0.13</td>\n",
              "      <td>0.85</td>\n",
              "      <td>0.01</td>\n",
              "      <td>0.01</td>\n",
              "      <td>0.01</td>\n",
              "      <td>1.150000</td>\n",
              "      <td>0.01</td>\n",
              "      <td>0.01</td>\n",
              "      <td>0.10</td>\n",
              "      <td>10.000000</td>\n",
              "      <td>15.340000</td>\n",
              "      <td>26.0</td>\n",
              "      <td>2.09</td>\n",
              "      <td>10.71</td>\n",
              "      <td>2.00</td>\n",
              "      <td>2.460000</td>\n",
              "      <td>5.0</td>\n",
              "      <td>2.12</td>\n",
              "      <td>27.67</td>\n",
              "      <td>19.77</td>\n",
              "      <td>3.680000</td>\n",
              "      <td>0.0</td>\n",
              "      <td>0.22</td>\n",
              "      <td>2.32</td>\n",
              "      <td>17.230000</td>\n",
              "      <td>1.06</td>\n",
              "      <td>3.60</td>\n",
              "      <td>3.77</td>\n",
              "      <td>0.08</td>\n",
              "      <td>23</td>\n",
              "      <td>8</td>\n",
              "      <td>6</td>\n",
              "      <td>0</td>\n",
              "      <td>0</td>\n",
              "      <td>0</td>\n",
              "      <td>0</td>\n",
              "      <td>0</td>\n",
              "      <td>0</td>\n",
              "      <td>0</td>\n",
              "    </tr>\n",
              "  </tbody>\n",
              "</table>\n",
              "</div>"
            ],
            "text/plain": [
              "   fund_ratio_net_annual_expense  pb_ratio  ...  is_quarter_end  is_leap_year\n",
              "0                           1.44      1.71  ...               0             0\n",
              "1                           0.58      5.30  ...               0             1\n",
              "2                           0.99      5.40  ...               0             0\n",
              "\n",
              "[3 rows x 75 columns]"
            ]
          },
          "metadata": {
            "tags": []
          },
          "execution_count": 35
        }
      ]
    },
    {
      "cell_type": "code",
      "metadata": {
        "id": "Vi-bGUqyDi75",
        "colab_type": "code",
        "colab": {}
      },
      "source": [
        "#$$$$$$$$$$$$$$$$$$$$$$$$$$$$$$$$$$$$$$$$$$$$$$$$$$$$$$$$$  working on the CATEGORICAL  columns $$$$$$$$$$$$$$$$$$$$$$$$$$$$$$$$$$$$$$$$$$$$$$$$$$$$$$$$$$$$$$$$$$"
      ],
      "execution_count": 0,
      "outputs": []
    },
    {
      "cell_type": "code",
      "metadata": {
        "id": "xeyj0gVAsbr6",
        "colab_type": "code",
        "outputId": "43a0bb9a-e7f6-4ee6-f179-0b3b469219f2",
        "colab": {
          "base_uri": "https://localhost:8080/",
          "height": 82
        }
      },
      "source": [
        "col_cat"
      ],
      "execution_count": 37,
      "outputs": [
        {
          "output_type": "execute_result",
          "data": {
            "text/plain": [
              "Index(['category', 'parent_company', 'fund_name', 'ps_ratio', 'mmc',\n",
              "       'pc_ratio', 'pe_ratio', '10yrs_treynor_ratio_fund', 'investment_class',\n",
              "       'fund_size', '3yrs_treynor_ratio_fund', '5yrs_treynor_ratio_fund'],\n",
              "      dtype='object')"
            ]
          },
          "metadata": {
            "tags": []
          },
          "execution_count": 37
        }
      ]
    },
    {
      "cell_type": "code",
      "metadata": {
        "id": "XqAPiiZwsyXY",
        "colab_type": "code",
        "outputId": "f8de67ae-4503-4214-9fed-b31b046590f5",
        "colab": {
          "base_uri": "https://localhost:8080/",
          "height": 182
        }
      },
      "source": [
        "data[col_cat].sample(3)"
      ],
      "execution_count": 38,
      "outputs": [
        {
          "output_type": "execute_result",
          "data": {
            "text/html": [
              "<div>\n",
              "<style scoped>\n",
              "    .dataframe tbody tr th:only-of-type {\n",
              "        vertical-align: middle;\n",
              "    }\n",
              "\n",
              "    .dataframe tbody tr th {\n",
              "        vertical-align: top;\n",
              "    }\n",
              "\n",
              "    .dataframe thead th {\n",
              "        text-align: right;\n",
              "    }\n",
              "</style>\n",
              "<table border=\"1\" class=\"dataframe\">\n",
              "  <thead>\n",
              "    <tr style=\"text-align: right;\">\n",
              "      <th></th>\n",
              "      <th>category</th>\n",
              "      <th>parent_company</th>\n",
              "      <th>fund_name</th>\n",
              "      <th>ps_ratio</th>\n",
              "      <th>mmc</th>\n",
              "      <th>pc_ratio</th>\n",
              "      <th>pe_ratio</th>\n",
              "      <th>10yrs_treynor_ratio_fund</th>\n",
              "      <th>investment_class</th>\n",
              "      <th>fund_size</th>\n",
              "      <th>3yrs_treynor_ratio_fund</th>\n",
              "      <th>5yrs_treynor_ratio_fund</th>\n",
              "    </tr>\n",
              "  </thead>\n",
              "  <tbody>\n",
              "    <tr>\n",
              "      <th>3422</th>\n",
              "      <td>Global Real Estate</td>\n",
              "      <td>Voya</td>\n",
              "      <td>Voya International Real Estate Fund Class C</td>\n",
              "      <td>4</td>\n",
              "      <td>5,902.77</td>\n",
              "      <td>6.46</td>\n",
              "      <td>11.89</td>\n",
              "      <td>8.9</td>\n",
              "      <td>Blend</td>\n",
              "      <td>Medium</td>\n",
              "      <td>4.62</td>\n",
              "      <td>3.41</td>\n",
              "    </tr>\n",
              "    <tr>\n",
              "      <th>6350</th>\n",
              "      <td>Small Value</td>\n",
              "      <td>Nationwide</td>\n",
              "      <td>Nationwide U.S. Small Cap Value Fund Class A</td>\n",
              "      <td>0.63</td>\n",
              "      <td>2,180.18</td>\n",
              "      <td>5.05</td>\n",
              "      <td>12.07</td>\n",
              "      <td>10.54</td>\n",
              "      <td>Value</td>\n",
              "      <td>Small</td>\n",
              "      <td>4.65</td>\n",
              "      <td>2.08</td>\n",
              "    </tr>\n",
              "    <tr>\n",
              "      <th>9876</th>\n",
              "      <td>Small Blend</td>\n",
              "      <td>State Street Global Advisors</td>\n",
              "      <td>State Street Small/Mid Cap Equity Index Portfolio</td>\n",
              "      <td>1.3</td>\n",
              "      <td>4,541.46</td>\n",
              "      <td>7.33</td>\n",
              "      <td>17.11</td>\n",
              "      <td>NaN</td>\n",
              "      <td>Growth</td>\n",
              "      <td>Medium</td>\n",
              "      <td>10.38</td>\n",
              "      <td>NaN</td>\n",
              "    </tr>\n",
              "  </tbody>\n",
              "</table>\n",
              "</div>"
            ],
            "text/plain": [
              "                category  ... 5yrs_treynor_ratio_fund\n",
              "3422  Global Real Estate  ...                    3.41\n",
              "6350         Small Value  ...                    2.08\n",
              "9876         Small Blend  ...                     NaN\n",
              "\n",
              "[3 rows x 12 columns]"
            ]
          },
          "metadata": {
            "tags": []
          },
          "execution_count": 38
        }
      ]
    },
    {
      "cell_type": "code",
      "metadata": {
        "id": "_hIV-Tutebqo",
        "colab_type": "code",
        "outputId": "42c225ea-3aef-4921-dee2-d13559b370d7",
        "colab": {
          "base_uri": "https://localhost:8080/",
          "height": 326
        }
      },
      "source": [
        "data[col_cat].info()"
      ],
      "execution_count": 39,
      "outputs": [
        {
          "output_type": "stream",
          "text": [
            "<class 'pandas.core.frame.DataFrame'>\n",
            "RangeIndex: 25000 entries, 0 to 24999\n",
            "Data columns (total 12 columns):\n",
            " #   Column                    Non-Null Count  Dtype \n",
            "---  ------                    --------------  ----- \n",
            " 0   category                  25000 non-null  object\n",
            " 1   parent_company            25000 non-null  object\n",
            " 2   fund_name                 25000 non-null  object\n",
            " 3   ps_ratio                  24886 non-null  object\n",
            " 4   mmc                       24886 non-null  object\n",
            " 5   pc_ratio                  24886 non-null  object\n",
            " 6   pe_ratio                  24886 non-null  object\n",
            " 7   10yrs_treynor_ratio_fund  16416 non-null  object\n",
            " 8   investment_class          23520 non-null  object\n",
            " 9   fund_size                 23520 non-null  object\n",
            " 10  3yrs_treynor_ratio_fund   23352 non-null  object\n",
            " 11  5yrs_treynor_ratio_fund   21157 non-null  object\n",
            "dtypes: object(12)\n",
            "memory usage: 2.3+ MB\n"
          ],
          "name": "stdout"
        }
      ]
    },
    {
      "cell_type": "code",
      "metadata": {
        "id": "jjpNns-4ZtIy",
        "colab_type": "code",
        "outputId": "759bc7b2-5450-40b2-ae62-1b963217c35c",
        "colab": {
          "base_uri": "https://localhost:8080/",
          "height": 627
        }
      },
      "source": [
        "plt.subplots(1,1,figsize=(20,10)) \n",
        "plt.style.use('seaborn')\n",
        "plt.style.use('fivethirtyeight') \n",
        "g = sns.countplot(x=data[~data.greatstone_rating.isnull()]['greatstone_rating'], data=data[~data.greatstone_rating.isnull()],hue='fund_size' )\n",
        "\n",
        "g.set_title(\"FEATURE DISTRIBUTION [greatstone_rating]\", fontsize = 15)\n",
        "g.set_xlabel(\"fund_size\", fontsize = 15)\n",
        "g.set_ylabel(\"Count\", fontsize = 15)\n",
        "\n",
        "for p in g.patches:\n",
        "    g.annotate('{:1.2f}%'.format(p.get_height()/len(data[~data.greatstone_rating.isnull()])*100), (p.get_x() + p.get_width() / 2.,\n",
        "                p.get_height()+5),  ha = 'center', va = 'center', xytext = (0, 4), textcoords = 'offset points', fontsize=11)\n",
        "   \n",
        "plt.show()"
      ],
      "execution_count": 40,
      "outputs": [
        {
          "output_type": "display_data",
          "data": {
            "image/png": "[encoded data removed]",
            "text/plain": [
              "<Figure size 1440x720 with 1 Axes>"
            ]
          },
          "metadata": {
            "tags": [],
            "needs_background": "light"
          }
        }
      ]
    },
    {
      "cell_type": "code",
      "metadata": {
        "id": "qKSkC39_Zuvp",
        "colab_type": "code",
        "outputId": "696b6c6a-da1f-4ddb-c094-82e5237b6628",
        "colab": {
          "base_uri": "https://localhost:8080/",
          "height": 666
        }
      },
      "source": [
        "plt.subplots(1,1,figsize=(15,10)) \n",
        "plt.style.use('seaborn')\n",
        "plt.style.use('fivethirtyeight') \n",
        "g = sns.countplot(x=data[~data.greatstone_rating.isnull()]['greatstone_rating'], data=data[~data.greatstone_rating.isnull()],hue='investment_class' )\n",
        "\n",
        "g.set_title(\"FEATURE DISTRIBUTION [greatstone_rating]\", fontsize = 15)\n",
        "g.set_xlabel(\"investment_class\", fontsize = 15)\n",
        "g.set_ylabel(\"Count\", fontsize = 15)\n",
        "\n",
        "for p in g.patches:\n",
        "    g.annotate('{:1.2f}%'.format(p.get_height()/len(data[~data.greatstone_rating.isnull()])*100), (p.get_x() + p.get_width() / 2.,\n",
        "                p.get_height()+5),  ha = 'center', va = 'center', xytext = (0, 4), textcoords = 'offset points', fontsize=11)\n",
        "   \n",
        "plt.show()"
      ],
      "execution_count": 41,
      "outputs": [
        {
          "output_type": "display_data",
          "data": {
            "image/png": "[encoded data removed]",
            "text/plain": [
              "<Figure size 1080x720 with 1 Axes>"
            ]
          },
          "metadata": {
            "tags": []
          }
        }
      ]
    },
    {
      "cell_type": "code",
      "metadata": {
        "id": "SXQTFNwqquS2",
        "colab_type": "code",
        "colab": {}
      },
      "source": [
        "data.investment_class.replace(np.NaN,'Blend',inplace=True)\n",
        "data.fund_size.replace(np.NaN,'Large',inplace=True)"
      ],
      "execution_count": 0,
      "outputs": []
    },
    {
      "cell_type": "code",
      "metadata": {
        "id": "b1w5XRjiJXYB",
        "colab_type": "code",
        "colab": {}
      },
      "source": [
        "def clean_string(x):\n",
        "    \"\"\" If the value is a string, then remove currency symbol and delimiters\n",
        "    otherwise, the value is numeric and can be converted\n",
        "    \"\"\"\n",
        "    if isinstance(x, str):\n",
        "        return(x.replace(',', ''))\n",
        "    return(x)\n"
      ],
      "execution_count": 0,
      "outputs": []
    },
    {
      "cell_type": "code",
      "metadata": {
        "id": "zcFpWuMc5SFI",
        "colab_type": "code",
        "outputId": "2308560a-6a4b-4787-f342-45b9f72a2307",
        "colab": {
          "base_uri": "https://localhost:8080/",
          "height": 50
        }
      },
      "source": [
        "#data['ps_ratio'] = data['ps_ratio'].apply(clean_string).astype('float')\n",
        "data['ps_ratio'] = data['ps_ratio'].apply(lambda x: float(x.replace(',', '')) if isinstance(x, str) else x).astype(float)\n",
        "data['ps_ratio'] = data['ps_ratio'].astype(np.float64)\n",
        "#data['ps_ratio'].fillna(np.mean(data['ps_ratio'] ),inplace=True)\n",
        "# data['ps_ratio'] = data['ps_ratio'].apply(lambda x: type(x).__name__)\n",
        "# data['ps_ratio'][~data['ps_ratio'].applymap(np.isreal).all(1)]\n",
        "data['ps_ratio'].apply(type).value_counts()"
      ],
      "execution_count": 44,
      "outputs": [
        {
          "output_type": "execute_result",
          "data": {
            "text/plain": [
              "<class 'float'>    25000\n",
              "Name: ps_ratio, dtype: int64"
            ]
          },
          "metadata": {
            "tags": []
          },
          "execution_count": 44
        }
      ]
    },
    {
      "cell_type": "code",
      "metadata": {
        "id": "DCJ2DhW-Mg_E",
        "colab_type": "code",
        "outputId": "fa53f1c6-e7ef-40db-ab39-6110d89336e9",
        "colab": {
          "base_uri": "https://localhost:8080/",
          "height": 50
        }
      },
      "source": [
        "#data['mmc'] = data['mmc'].apply(clean_string).astype('float')\n",
        "data['mmc'] = data['mmc'].apply(lambda x: float(x.replace(',', '')) if isinstance(x, str) else x).astype(float)\n",
        "data['mmc'] = data['mmc'].astype(np.float64)\n",
        "#data['mmc'].fillna(np.mean(data['mmc'] ),inplace=True)\n",
        "# data['mmc'] = data['mmc'].apply(lambda x: type(x).__name__)\n",
        "data['mmc'].apply(type).value_counts()"
      ],
      "execution_count": 45,
      "outputs": [
        {
          "output_type": "execute_result",
          "data": {
            "text/plain": [
              "<class 'float'>    25000\n",
              "Name: mmc, dtype: int64"
            ]
          },
          "metadata": {
            "tags": []
          },
          "execution_count": 45
        }
      ]
    },
    {
      "cell_type": "code",
      "metadata": {
        "id": "j0GMBqknMhz8",
        "colab_type": "code",
        "outputId": "45f51f61-15dc-47a7-da74-b175f14044f1",
        "colab": {
          "base_uri": "https://localhost:8080/",
          "height": 50
        }
      },
      "source": [
        "#data['pc_ratio'] = data['pc_ratio'].apply(clean_string).astype('float')\n",
        "data['pc_ratio'] = data['pc_ratio'].apply(lambda x: float(x.replace(',', '')) if isinstance(x, str) else x).astype(float)\n",
        "data['pc_ratio'] = data['pc_ratio'].astype(np.float64)\n",
        "#data['pc_ratio'].fillna(np.mean(data['pc_ratio'] ),inplace=True)\n",
        "# data['pc_ratio'] = data['pc_ratio'].apply(lambda x: type(x).__name__)\n",
        "data['pc_ratio'].apply(type).value_counts()"
      ],
      "execution_count": 46,
      "outputs": [
        {
          "output_type": "execute_result",
          "data": {
            "text/plain": [
              "<class 'float'>    25000\n",
              "Name: pc_ratio, dtype: int64"
            ]
          },
          "metadata": {
            "tags": []
          },
          "execution_count": 46
        }
      ]
    },
    {
      "cell_type": "code",
      "metadata": {
        "id": "5bIr3aKWMmDp",
        "colab_type": "code",
        "outputId": "d1bc6944-a0d9-4a98-f1f0-187cfea63098",
        "colab": {
          "base_uri": "https://localhost:8080/",
          "height": 50
        }
      },
      "source": [
        "#data['pe_ratio'] = data['pe_ratio'].apply(clean_string).astype('float')\n",
        "data['pe_ratio'] = data['pe_ratio'].apply(lambda x: float(x.replace(',', '')) if isinstance(x, str) else x).astype(float)\n",
        "data['pe_ratio'] = data['pe_ratio'].astype(np.float64)\n",
        "#data['pe_ratio'].fillna(np.mean(data['pe_ratio'] ),inplace=True)\n",
        "# data['pe_ratio'] = data['pe_ratio'].apply(lambda x: type(x).__name__)\n",
        "data['pe_ratio'].apply(type).value_counts()"
      ],
      "execution_count": 47,
      "outputs": [
        {
          "output_type": "execute_result",
          "data": {
            "text/plain": [
              "<class 'float'>    25000\n",
              "Name: pe_ratio, dtype: int64"
            ]
          },
          "metadata": {
            "tags": []
          },
          "execution_count": 47
        }
      ]
    },
    {
      "cell_type": "code",
      "metadata": {
        "id": "4ncQNnSPMnbA",
        "colab_type": "code",
        "outputId": "5a049c03-e4ed-4617-e21f-a0ed6d8fe8af",
        "colab": {
          "base_uri": "https://localhost:8080/",
          "height": 50
        }
      },
      "source": [
        "#data['10yrs_treynor_ratio_fund'] = data['10yrs_treynor_ratio_fund'].apply(clean_string).astype('float')\n",
        "data['10yrs_treynor_ratio_fund'] = data['10yrs_treynor_ratio_fund'].apply(lambda x: float(x.replace(',', '')) if isinstance(x, str) else x).astype(float)\n",
        "data['10yrs_treynor_ratio_fund'] = data['10yrs_treynor_ratio_fund'].astype(np.float64)\n",
        "#data['10yrs_treynor_ratio_fund'].fillna(np.mean(data['10yrs_treynor_ratio_fund'] ),inplace=True)\n",
        "# data['10yrs_treynor_ratio_fund'] = data['10yrs_treynor_ratio_fund'].apply(lambda x: type(x).__name__)\n",
        "data['10yrs_treynor_ratio_fund'].apply(type).value_counts()"
      ],
      "execution_count": 48,
      "outputs": [
        {
          "output_type": "execute_result",
          "data": {
            "text/plain": [
              "<class 'float'>    25000\n",
              "Name: 10yrs_treynor_ratio_fund, dtype: int64"
            ]
          },
          "metadata": {
            "tags": []
          },
          "execution_count": 48
        }
      ]
    },
    {
      "cell_type": "code",
      "metadata": {
        "id": "UjB-JXMcMoFI",
        "colab_type": "code",
        "outputId": "1c167001-8151-49ac-effd-f3e5803ed732",
        "colab": {
          "base_uri": "https://localhost:8080/",
          "height": 50
        }
      },
      "source": [
        "#data['3yrs_treynor_ratio_fund_type'] = data['3yrs_treynor_ratio_fund'].apply(clean_string).astype('float')\n",
        "data['3yrs_treynor_ratio_fund'] = data['3yrs_treynor_ratio_fund'].apply(lambda x: float(x.replace(',', '')) if isinstance(x, str) else x).astype(float)\n",
        "data['3yrs_treynor_ratio_fund'] = data['3yrs_treynor_ratio_fund'].astype(np.float64)\n",
        "#data['3yrs_treynor_ratio_fund'].fillna(np.mean(data['3yrs_treynor_ratio_fund'] ),inplace=True)\n",
        "# data['3yrs_treynor_ratio_fund_type'] = data['3yrs_treynor_ratio_fund'].apply(lambda x: type(x).__name__)\n",
        "data['3yrs_treynor_ratio_fund'].apply(type).value_counts()"
      ],
      "execution_count": 49,
      "outputs": [
        {
          "output_type": "execute_result",
          "data": {
            "text/plain": [
              "<class 'float'>    25000\n",
              "Name: 3yrs_treynor_ratio_fund, dtype: int64"
            ]
          },
          "metadata": {
            "tags": []
          },
          "execution_count": 49
        }
      ]
    },
    {
      "cell_type": "code",
      "metadata": {
        "id": "MdOZo2lPMoiI",
        "colab_type": "code",
        "outputId": "37b92cf2-1845-4d41-8d64-0f3d4e055f04",
        "colab": {
          "base_uri": "https://localhost:8080/",
          "height": 50
        }
      },
      "source": [
        "#data['5yrs_treynor_ratio_fund'] = data['5yrs_treynor_ratio_fund'].apply(clean_string).astype('float')\n",
        "data['5yrs_treynor_ratio_fund'] = data['5yrs_treynor_ratio_fund'].apply(lambda x: float(x.replace(',', '')) if isinstance(x, str) else x).astype(float)\n",
        "data['5yrs_treynor_ratio_fund'] = data['5yrs_treynor_ratio_fund'].astype(np.float64)\n",
        "#data['5yrs_treynor_ratio_fund'].fillna(np.mean(data['5yrs_treynor_ratio_fund'] ),inplace=True)\n",
        "# data['5yrs_treynor_ratio_fund'] = data['5yrs_treynor_ratio_fund'].apply(lambda x: type(x).__name__)\n",
        "data['5yrs_treynor_ratio_fund'].apply(type).value_counts()"
      ],
      "execution_count": 50,
      "outputs": [
        {
          "output_type": "execute_result",
          "data": {
            "text/plain": [
              "<class 'float'>    25000\n",
              "Name: 5yrs_treynor_ratio_fund, dtype: int64"
            ]
          },
          "metadata": {
            "tags": []
          },
          "execution_count": 50
        }
      ]
    },
    {
      "cell_type": "code",
      "metadata": {
        "id": "mfudF_lxsWZL",
        "colab_type": "code",
        "colab": {}
      },
      "source": [
        "### Label encoding of col_cat \n",
        "from sklearn import preprocessing  \n",
        "label_encoder = preprocessing.LabelEncoder() \n",
        "  \n",
        "i=0\n",
        "col_d = ['category','parent_company','fund_name','investment_class','fund_size']\n",
        "for i in range(len(col_d)):\n",
        "  data[col_d[i]]= label_encoder.fit_transform(data[col_d[i]]) "
      ],
      "execution_count": 0,
      "outputs": []
    },
    {
      "cell_type": "code",
      "metadata": {
        "id": "AKtGxp0sqGJX",
        "colab_type": "code",
        "outputId": "947c6e73-a1fe-4782-ca72-a86e61441dc5",
        "colab": {
          "base_uri": "https://localhost:8080/",
          "height": 133
        }
      },
      "source": [
        "data[col_cat].sample(3)"
      ],
      "execution_count": 52,
      "outputs": [
        {
          "output_type": "execute_result",
          "data": {
            "text/html": [
              "<div>\n",
              "<style scoped>\n",
              "    .dataframe tbody tr th:only-of-type {\n",
              "        vertical-align: middle;\n",
              "    }\n",
              "\n",
              "    .dataframe tbody tr th {\n",
              "        vertical-align: top;\n",
              "    }\n",
              "\n",
              "    .dataframe thead th {\n",
              "        text-align: right;\n",
              "    }\n",
              "</style>\n",
              "<table border=\"1\" class=\"dataframe\">\n",
              "  <thead>\n",
              "    <tr style=\"text-align: right;\">\n",
              "      <th></th>\n",
              "      <th>category</th>\n",
              "      <th>parent_company</th>\n",
              "      <th>fund_name</th>\n",
              "      <th>ps_ratio</th>\n",
              "      <th>mmc</th>\n",
              "      <th>pc_ratio</th>\n",
              "      <th>pe_ratio</th>\n",
              "      <th>10yrs_treynor_ratio_fund</th>\n",
              "      <th>investment_class</th>\n",
              "      <th>fund_size</th>\n",
              "      <th>3yrs_treynor_ratio_fund</th>\n",
              "      <th>5yrs_treynor_ratio_fund</th>\n",
              "    </tr>\n",
              "  </thead>\n",
              "  <tbody>\n",
              "    <tr>\n",
              "      <th>21464</th>\n",
              "      <td>25</td>\n",
              "      <td>451</td>\n",
              "      <td>15109</td>\n",
              "      <td>1.66</td>\n",
              "      <td>22490.99</td>\n",
              "      <td>9.17</td>\n",
              "      <td>16.07</td>\n",
              "      <td>8.00</td>\n",
              "      <td>1</td>\n",
              "      <td>0</td>\n",
              "      <td>3.49</td>\n",
              "      <td>0.54</td>\n",
              "    </tr>\n",
              "    <tr>\n",
              "      <th>11918</th>\n",
              "      <td>47</td>\n",
              "      <td>246</td>\n",
              "      <td>6574</td>\n",
              "      <td>1.65</td>\n",
              "      <td>134268.25</td>\n",
              "      <td>9.85</td>\n",
              "      <td>16.62</td>\n",
              "      <td>NaN</td>\n",
              "      <td>0</td>\n",
              "      <td>0</td>\n",
              "      <td>NaN</td>\n",
              "      <td>NaN</td>\n",
              "    </tr>\n",
              "    <tr>\n",
              "      <th>1063</th>\n",
              "      <td>81</td>\n",
              "      <td>308</td>\n",
              "      <td>9400</td>\n",
              "      <td>1.31</td>\n",
              "      <td>2670.71</td>\n",
              "      <td>6.85</td>\n",
              "      <td>15.29</td>\n",
              "      <td>12.78</td>\n",
              "      <td>0</td>\n",
              "      <td>2</td>\n",
              "      <td>8.03</td>\n",
              "      <td>4.80</td>\n",
              "    </tr>\n",
              "  </tbody>\n",
              "</table>\n",
              "</div>"
            ],
            "text/plain": [
              "       category  ...  5yrs_treynor_ratio_fund\n",
              "21464        25  ...                     0.54\n",
              "11918        47  ...                      NaN\n",
              "1063         81  ...                     4.80\n",
              "\n",
              "[3 rows x 12 columns]"
            ]
          },
          "metadata": {
            "tags": []
          },
          "execution_count": 52
        }
      ]
    },
    {
      "cell_type": "code",
      "metadata": {
        "id": "4wey-_d_qGFi",
        "colab_type": "code",
        "outputId": "6f9d3846-5027-42a2-a1f6-c7d74855eda3",
        "colab": {
          "base_uri": "https://localhost:8080/",
          "height": 326
        }
      },
      "source": [
        "data[col_cat].info()"
      ],
      "execution_count": 53,
      "outputs": [
        {
          "output_type": "stream",
          "text": [
            "<class 'pandas.core.frame.DataFrame'>\n",
            "RangeIndex: 25000 entries, 0 to 24999\n",
            "Data columns (total 12 columns):\n",
            " #   Column                    Non-Null Count  Dtype  \n",
            "---  ------                    --------------  -----  \n",
            " 0   category                  25000 non-null  int64  \n",
            " 1   parent_company            25000 non-null  int64  \n",
            " 2   fund_name                 25000 non-null  int64  \n",
            " 3   ps_ratio                  24886 non-null  float64\n",
            " 4   mmc                       24886 non-null  float64\n",
            " 5   pc_ratio                  24886 non-null  float64\n",
            " 6   pe_ratio                  24886 non-null  float64\n",
            " 7   10yrs_treynor_ratio_fund  16416 non-null  float64\n",
            " 8   investment_class          25000 non-null  int64  \n",
            " 9   fund_size                 25000 non-null  int64  \n",
            " 10  3yrs_treynor_ratio_fund   23352 non-null  float64\n",
            " 11  5yrs_treynor_ratio_fund   21157 non-null  float64\n",
            "dtypes: float64(7), int64(5)\n",
            "memory usage: 2.3 MB\n"
          ],
          "name": "stdout"
        }
      ]
    },
    {
      "cell_type": "code",
      "metadata": {
        "id": "bmHcquoqPedS",
        "colab_type": "code",
        "colab": {}
      },
      "source": [
        "#@@@@@@@@@@@@@@@@@@@@@@@@@@@@@@@@@@@@@@@@@@@@@ DATA CLEANSING OF CATEGORICAL COLUMNS @@@@@@@@@@@@@@@@@@@@@@@@@@@@@@@@@@@@@@@@@@@@@@@@@@@@@@@"
      ],
      "execution_count": 0,
      "outputs": []
    },
    {
      "cell_type": "code",
      "metadata": {
        "id": "YNNysZSIQ_TX",
        "colab_type": "code",
        "colab": {}
      },
      "source": [
        "### Finding the number of ***UNIQUE*** values and dropping columns and rows having same unique values\n",
        "i=0\n",
        "col_d = col_cat\n",
        "for i in range(len(col_d)):\n",
        "  ## droping column wise\n",
        "  unq = data[col_d[i]].nunique()\n",
        "  if unq ==1:\n",
        "    data.drop(columns=col_d[i],axis=1,inplace=True)   \n",
        "    print(\"number unique values in column ,\",col_d[i] ,\" are:-  \",unq)\n",
        "\n",
        "\n",
        "i=0\n",
        "row_d = data.shape[0]\n",
        "for i in range(row_d):\n",
        "  ## droping row wise\n",
        "  unq = data.iloc[i,:].nunique()\n",
        "  if unq == 1:\n",
        "    data.drop(data.index[i],axis=0,inplace=True)\n",
        "    print(\"number unique values in row index ,\",i ,\" are:-  \",unq)\n"
      ],
      "execution_count": 0,
      "outputs": []
    },
    {
      "cell_type": "code",
      "metadata": {
        "colab_type": "code",
        "id": "t4_mgd8dPkus",
        "colab": {}
      },
      "source": [
        "### Finding the columns having ***NULL*** values gretaer than the threshold and drop then column and row wise\n",
        "threshold = 0.7\n",
        "i=0\n",
        "col_d = col_cat\n",
        "for i in range(len(col_d)):\n",
        "  ## droping column wise\n",
        "  unq = data[col_d[i]].isnull().sum()/data.shape[0]\n",
        "  if unq > threshold:\n",
        "    data.drop(columns=col_d[i],axis=1,inplace=True)   \n",
        "    print(\"number unique values in column ,\",col_d[i] ,\" are:-  \",unq)\n",
        "\n",
        "\n",
        "i=0\n",
        "row_d = data.shape[0]\n",
        "for i in range(row_d):\n",
        "  ## droping row wise\n",
        "  unq = data.iloc[i,:].isnull().sum()/data.shape[0]\n",
        "  if unq > threshold:\n",
        "    data.drop(data.index[i],axis=0,inplace=True)\n",
        "    print(\"% unique values in row index ,\",i ,\" are:-  \",unq)\n"
      ],
      "execution_count": 0,
      "outputs": []
    },
    {
      "cell_type": "code",
      "metadata": {
        "colab_type": "code",
        "outputId": "9cd8fd93-7e66-4707-f390-7c8a339cd7cf",
        "id": "90hxpVm_P_q-",
        "colab": {
          "base_uri": "https://localhost:8080/",
          "height": 33
        }
      },
      "source": [
        "data.shape"
      ],
      "execution_count": 57,
      "outputs": [
        {
          "output_type": "execute_result",
          "data": {
            "text/plain": [
              "(25000, 91)"
            ]
          },
          "metadata": {
            "tags": []
          },
          "execution_count": 57
        }
      ]
    },
    {
      "cell_type": "code",
      "metadata": {
        "colab_type": "code",
        "outputId": "f79af155-68bb-471a-ab76-c0391b81ccd4",
        "id": "fsB1PuxeP_rL",
        "colab": {
          "base_uri": "https://localhost:8080/",
          "height": 66
        }
      },
      "source": [
        "####################################### CHECKING and Removing THE highly ************ CORREALATED COLUMNS ***************** ##########################################\n",
        "correlated_features = set()\n",
        "correlation_matrix = data.drop(columns=['tag','id','fund_id','greatstone_rating'],axis=1).corr()\n",
        "\n",
        "for i in range(len(correlation_matrix.columns)):\n",
        "    for j in range(i):\n",
        "        if abs(correlation_matrix.iloc[i, j]) > 0.8:\n",
        "            colname = correlation_matrix.columns[i]\n",
        "            correlated_features.add(colname)\n",
        "\n",
        "print(len(correlated_features))\n",
        "print(correlated_features)\n",
        "\n",
        "data.drop(columns=correlated_features,axis=1,inplace=True)\n",
        "\n",
        "print(data.shape)"
      ],
      "execution_count": 58,
      "outputs": [
        {
          "output_type": "stream",
          "text": [
            "1\n",
            "{'fund_name'}\n",
            "(25000, 90)\n"
          ],
          "name": "stdout"
        }
      ]
    },
    {
      "cell_type": "code",
      "metadata": {
        "colab_type": "code",
        "outputId": "ece1209b-ad3c-4dfd-f682-34b4d2d5e440",
        "id": "S_TTunbkPkux",
        "colab": {
          "base_uri": "https://localhost:8080/",
          "height": 33
        }
      },
      "source": [
        "data.shape"
      ],
      "execution_count": 59,
      "outputs": [
        {
          "output_type": "execute_result",
          "data": {
            "text/plain": [
              "(25000, 90)"
            ]
          },
          "metadata": {
            "tags": []
          },
          "execution_count": 59
        }
      ]
    },
    {
      "cell_type": "code",
      "metadata": {
        "id": "BWLmc8y6SUZl",
        "colab_type": "code",
        "outputId": "523ad52f-b695-48ae-d2d6-259805637fee",
        "colab": {
          "base_uri": "https://localhost:8080/",
          "height": 66
        }
      },
      "source": [
        "col_int = data.drop(columns=['tag','id','fund_id','greatstone_rating'],axis=1).select_dtypes(exclude=('category','object')).columns\n",
        "col_id = ['tag','id','fund_id']\n",
        "col_tgt = ['greatstone_rating']\n",
        "col_cat = data.drop(columns=['tag','id','fund_id','greatstone_rating'],axis=1).select_dtypes(include=('category','object')).columns\n",
        "print(len(col_int)+len(col_id)+len(col_tgt)+len(col_cat))\n",
        "print('col_int :- ',len(col_int),'| col_cat :-',len(col_cat),'| col_id :-',len(col_id),'| col_tgt :-',len(col_tgt))\n",
        "print(col_cat)"
      ],
      "execution_count": 60,
      "outputs": [
        {
          "output_type": "stream",
          "text": [
            "90\n",
            "col_int :-  86 | col_cat :- 0 | col_id :- 3 | col_tgt :- 1\n",
            "Index([], dtype='object')\n"
          ],
          "name": "stdout"
        }
      ]
    },
    {
      "cell_type": "code",
      "metadata": {
        "id": "M9piRUt9pjC7",
        "colab_type": "code",
        "colab": {}
      },
      "source": [
        "data_tst_ids = data[data.greatstone_rating.isnull()][['tag','id','fund_id']]"
      ],
      "execution_count": 0,
      "outputs": []
    },
    {
      "cell_type": "code",
      "metadata": {
        "id": "Z2QKBQaLqGBl",
        "colab_type": "code",
        "colab": {}
      },
      "source": [
        "############################### NEGATIVE VALUES ###########################################################\n",
        "\n",
        "### Treating the CATEGORICAL  ****** NEGATIVE ********** values  - Training \n",
        "\n",
        "i=0\n",
        "col_d = col_int\n",
        "i=0\n",
        "column = []\n",
        "for i in range(len(col_d)):\n",
        "  data[col_d[i]]  = data[col_d[i]].apply(lambda x : x*-1 if x<0 else x)\n",
        "  unq = data[col_d[i]].loc[(data[col_d[i]]<0)].count()\n",
        "  #print(\"number negative values in column ,\",col_d[i] ,\" are:-  \",unq)"
      ],
      "execution_count": 0,
      "outputs": []
    },
    {
      "cell_type": "code",
      "metadata": {
        "id": "VWbJ_aUZEsqU",
        "colab_type": "code",
        "colab": {}
      },
      "source": [
        "### Treating the   CATEGORICAL ******* NULL********* values\n",
        "\n",
        "i=0\n",
        "col_d = col_int\n",
        "for i in range(len(col_d)):\n",
        "  data[col_d[i]].fillna(np.mean(data[col_d[i]]),inplace=True)\n",
        "  #unq = data_train[col_d[i]].isnull().sum()  \n",
        "  #print(\"number of null values in column ,\",col_d[i] ,\" are:-  \",unq)"
      ],
      "execution_count": 0,
      "outputs": []
    },
    {
      "cell_type": "code",
      "metadata": {
        "id": "Z0rnqvWhPM_d",
        "colab_type": "code",
        "outputId": "4b7acae2-d460-4eee-bc6f-582c4fafe443",
        "colab": {
          "base_uri": "https://localhost:8080/",
          "height": 1000
        }
      },
      "source": [
        "data[col_int].info()"
      ],
      "execution_count": 64,
      "outputs": [
        {
          "output_type": "stream",
          "text": [
            "<class 'pandas.core.frame.DataFrame'>\n",
            "RangeIndex: 25000 entries, 0 to 24999\n",
            "Data columns (total 86 columns):\n",
            " #   Column                                  Non-Null Count  Dtype  \n",
            "---  ------                                  --------------  -----  \n",
            " 0   category                                25000 non-null  int64  \n",
            " 1   parent_company                          25000 non-null  int64  \n",
            " 2   fund_ratio_net_annual_expense           25000 non-null  float64\n",
            " 3   pb_ratio                                25000 non-null  float64\n",
            " 4   ps_ratio                                25000 non-null  float64\n",
            " 5   mmc                                     25000 non-null  float64\n",
            " 6   pc_ratio                                25000 non-null  float64\n",
            " 7   pe_ratio                                25000 non-null  float64\n",
            " 8   10years_category_r_squared              25000 non-null  float64\n",
            " 9   10yrs_sharpe_ratio_fund                 25000 non-null  float64\n",
            " 10  10_years_alpha_fund                     25000 non-null  float64\n",
            " 11  10years_fund_std                        25000 non-null  float64\n",
            " 12  10yrs_sharpe_ratio_category             25000 non-null  float64\n",
            " 13  10_years_beta_fund                      25000 non-null  float64\n",
            " 14  10yrs_treynor_ratio_fund                25000 non-null  float64\n",
            " 15  10_years_return_mean_annual_category    25000 non-null  float64\n",
            " 16  10yrs_treynor_ratio_category            25000 non-null  float64\n",
            " 17  10_years_return_fund                    25000 non-null  float64\n",
            " 18  10_years_beta_category                  25000 non-null  float64\n",
            " 19  bb_rating                               25000 non-null  float64\n",
            " 20  below_b_rating                          25000 non-null  float64\n",
            " 21  others_rating                           25000 non-null  float64\n",
            " 22  maturity_bond                           25000 non-null  float64\n",
            " 23  a_rating                                25000 non-null  float64\n",
            " 24  aaa_rating                              25000 non-null  float64\n",
            " 25  aa_rating                               25000 non-null  float64\n",
            " 26  bbb_rating                              25000 non-null  float64\n",
            " 27  duration_bond                           25000 non-null  float64\n",
            " 28  portfolio_communication_allocation      25000 non-null  float64\n",
            " 29  portfolio_financial_services            25000 non-null  float64\n",
            " 30  portfolio_industrials_allocation        25000 non-null  float64\n",
            " 31  portfolio_tech_allocation               25000 non-null  float64\n",
            " 32  portfolio_materials_basic_allocation    25000 non-null  float64\n",
            " 33  portfolio_energy_allocation             25000 non-null  float64\n",
            " 34  portfolio_consumer_defence_allocation   25000 non-null  float64\n",
            " 35  portfolio_healthcare_allocation         25000 non-null  float64\n",
            " 36  portfolio_property_allocation           25000 non-null  float64\n",
            " 37  portfolio_utils_allocation              25000 non-null  float64\n",
            " 38  portfolio_cyclical_consumer_allocation  25000 non-null  float64\n",
            " 39  investment_class                        25000 non-null  int64  \n",
            " 40  total_assets                            25000 non-null  float64\n",
            " 41  yield                                   25000 non-null  float64\n",
            " 42  fund_size                               25000 non-null  int64  \n",
            " 43  3yrs_treynor_ratio_fund                 25000 non-null  float64\n",
            " 44  3_years_alpha_fund                      25000 non-null  float64\n",
            " 45  3yrs_sharpe_ratio_fund                  25000 non-null  float64\n",
            " 46  3yrs_treynor_ratio_category             25000 non-null  float64\n",
            " 47  fund_beta_3years                        25000 non-null  float64\n",
            " 48  category_beta_3years                    25000 non-null  float64\n",
            " 49  3_years_alpha_category                  25000 non-null  float64\n",
            " 50  3yrs_sharpe_ratio_category              25000 non-null  float64\n",
            " 51  5yrs_sharpe_ratio_fund                  25000 non-null  float64\n",
            " 52  5yrs_sharpe_ratio_category              25000 non-null  float64\n",
            " 53  5yrs_treynor_ratio_fund                 25000 non-null  float64\n",
            " 54  5_years_return_mean_annual_category     25000 non-null  float64\n",
            " 55  5yrs_treynor_ratio_category             25000 non-null  float64\n",
            " 56  2014_category_return                    25000 non-null  float64\n",
            " 57  2012_return_category                    25000 non-null  float64\n",
            " 58  years_up                                25000 non-null  float64\n",
            " 59  2018_return_category                    25000 non-null  float64\n",
            " 60  category_return_1year                   25000 non-null  float64\n",
            " 61  cash_percent_of_portfolio               25000 non-null  float64\n",
            " 62  2011_return_category                    25000 non-null  float64\n",
            " 63  years_down                              25000 non-null  float64\n",
            " 64  category_return_1month                  25000 non-null  float64\n",
            " 65  2017_category_return                    25000 non-null  float64\n",
            " 66  1_year_return_fund                      25000 non-null  float64\n",
            " 67  2015_return_fund                        25000 non-null  float64\n",
            " 68  portfolio_convertable                   25000 non-null  float64\n",
            " 69  portfolio_others                        25000 non-null  float64\n",
            " 70  2016_return_fund                        25000 non-null  float64\n",
            " 71  2010_return_fund                        25000 non-null  float64\n",
            " 72  category_ratio_net_annual_expense       25000 non-null  float64\n",
            " 73  category_return_2015                    25000 non-null  float64\n",
            " 74  1_month_fund_return                     25000 non-null  float64\n",
            " 75  portfolio_preferred                     25000 non-null  float64\n",
            " 76  Day                                     25000 non-null  int64  \n",
            " 77  Month                                   25000 non-null  int64  \n",
            " 78  Weekday_Name                            25000 non-null  int64  \n",
            " 79  is_year_start                           25000 non-null  int64  \n",
            " 80  is_year_end                             25000 non-null  int64  \n",
            " 81  is_month_start                          25000 non-null  int64  \n",
            " 82  is_month_end                            25000 non-null  int64  \n",
            " 83  is_quarter_start                        25000 non-null  int64  \n",
            " 84  is_quarter_end                          25000 non-null  int64  \n",
            " 85  is_leap_year                            25000 non-null  int64  \n",
            "dtypes: float64(72), int64(14)\n",
            "memory usage: 16.4 MB\n"
          ],
          "name": "stdout"
        }
      ]
    },
    {
      "cell_type": "code",
      "metadata": {
        "id": "gSlyQPCAPNI2",
        "colab_type": "code",
        "outputId": "a84e0b83-57a7-4ebe-906b-e330607d438a",
        "colab": {
          "base_uri": "https://localhost:8080/",
          "height": 33
        }
      },
      "source": [
        "data[col_int].isnull().sum().sum()"
      ],
      "execution_count": 65,
      "outputs": [
        {
          "output_type": "execute_result",
          "data": {
            "text/plain": [
              "0"
            ]
          },
          "metadata": {
            "tags": []
          },
          "execution_count": 65
        }
      ]
    },
    {
      "cell_type": "code",
      "metadata": {
        "colab_type": "code",
        "outputId": "b4fd3849-f220-4591-980f-ba2a5b69ccaa",
        "id": "Xh_XvSrFMieM",
        "colab": {
          "base_uri": "https://localhost:8080/",
          "height": 33
        }
      },
      "source": [
        "data[col_int].shape"
      ],
      "execution_count": 66,
      "outputs": [
        {
          "output_type": "execute_result",
          "data": {
            "text/plain": [
              "(25000, 86)"
            ]
          },
          "metadata": {
            "tags": []
          },
          "execution_count": 66
        }
      ]
    },
    {
      "cell_type": "code",
      "metadata": {
        "id": "nM_NhcdYWPwz",
        "colab_type": "code",
        "outputId": "9a507000-b135-4c82-c2f9-e21c5d877000",
        "colab": {
          "base_uri": "https://localhost:8080/",
          "height": 33
        }
      },
      "source": [
        "data.shape"
      ],
      "execution_count": 67,
      "outputs": [
        {
          "output_type": "execute_result",
          "data": {
            "text/plain": [
              "(25000, 90)"
            ]
          },
          "metadata": {
            "tags": []
          },
          "execution_count": 67
        }
      ]
    },
    {
      "cell_type": "code",
      "metadata": {
        "id": "9cIvgn1dWZUa",
        "colab_type": "code",
        "outputId": "ac987efc-2af0-49d2-e88f-df3eae4fe91d",
        "colab": {
          "base_uri": "https://localhost:8080/",
          "height": 66
        }
      },
      "source": [
        "col_int = data.drop(columns=['tag','id','fund_id','greatstone_rating'],axis=1).select_dtypes(exclude=('category','object')).columns\n",
        "col_id = ['tag','id','fund_id']\n",
        "col_tgt = ['greatstone_rating']\n",
        "col_cat = data.drop(columns=['tag','id','fund_id','greatstone_rating'],axis=1).select_dtypes(include=('category','object')).columns\n",
        "print(len(col_int)+len(col_id)+len(col_tgt)+len(col_cat))\n",
        "print('col_int :- ',len(col_int),'| col_cat :-',len(col_cat),'| col_id :-',len(col_id),'| col_tgt :-',len(col_tgt))\n",
        "print(col_cat)"
      ],
      "execution_count": 68,
      "outputs": [
        {
          "output_type": "stream",
          "text": [
            "90\n",
            "col_int :-  86 | col_cat :- 0 | col_id :- 3 | col_tgt :- 1\n",
            "Index([], dtype='object')\n"
          ],
          "name": "stdout"
        }
      ]
    },
    {
      "cell_type": "code",
      "metadata": {
        "id": "zVv51vnbAfC2",
        "colab_type": "code",
        "colab": {}
      },
      "source": [
        "####################################################### ********* ONE HOT ENCODING [get dummeies ] OF CATEGORICAL COLUMNS ********************** ###############################"
      ],
      "execution_count": 0,
      "outputs": []
    },
    {
      "cell_type": "code",
      "metadata": {
        "id": "n_Xz3DK7Aezo",
        "colab_type": "code",
        "outputId": "15882759-031d-41bc-8992-aabc9da47fbc",
        "colab": {
          "base_uri": "https://localhost:8080/",
          "height": 82
        }
      },
      "source": [
        "i=0\n",
        "col_d = ['category','parent_company','investment_class','fund_size']\n",
        "for i in range(len(col_d)):\n",
        "  unq = data[col_d[i]].nunique()\n",
        "  print(\"number of unique values for columns \", col_d[i] ,\" are:- \",unq)\n",
        "  data = pd.concat([data,pd.get_dummies(data[col_d[i]], drop_first=True, prefix=col_d[i],dummy_na=False)],axis=1)\n",
        "  #data.drop(columns=col_d[i],axis=1,inplace=True)"
      ],
      "execution_count": 70,
      "outputs": [
        {
          "output_type": "stream",
          "text": [
            "number of unique values for columns  category  are:-  111\n",
            "number of unique values for columns  parent_company  are:-  761\n",
            "number of unique values for columns  investment_class  are:-  3\n",
            "number of unique values for columns  fund_size  are:-  3\n"
          ],
          "name": "stdout"
        }
      ]
    },
    {
      "cell_type": "code",
      "metadata": {
        "id": "ZKRHRfaWLWyG",
        "colab_type": "code",
        "outputId": "780f6b19-a99f-4729-d3d0-3b15fb628c73",
        "colab": {
          "base_uri": "https://localhost:8080/",
          "height": 66
        }
      },
      "source": [
        "####################################### CHECKING and Removing THE highly ************ CORREALATED COLUMNS ***************** ##########################################\n",
        "correlated_features = set()\n",
        "correlation_matrix = data.drop(columns=['tag','id','fund_id','greatstone_rating'],axis=1).corr()\n",
        "\n",
        "for i in range(len(correlation_matrix.columns)):\n",
        "    for j in range(i):\n",
        "        if abs(correlation_matrix.iloc[i, j]) > 0.8:\n",
        "            colname = correlation_matrix.columns[i]\n",
        "            correlated_features.add(colname)\n",
        "\n",
        "print(len(correlated_features))\n",
        "print(correlated_features)\n",
        "\n",
        "data.drop(columns=correlated_features,axis=1,inplace=True)\n",
        "\n",
        "print(data.shape)"
      ],
      "execution_count": 71,
      "outputs": [
        {
          "output_type": "stream",
          "text": [
            "5\n",
            "{'fund_size_2', 'investment_class_2', 'category_5', 'category_13', 'category_103'}\n",
            "(25000, 959)\n"
          ],
          "name": "stdout"
        }
      ]
    },
    {
      "cell_type": "code",
      "metadata": {
        "id": "AEdUSZwCp_y3",
        "colab_type": "code",
        "outputId": "1dd7adfd-f1d7-4649-cbe0-1c778a8c0a20",
        "colab": {
          "base_uri": "https://localhost:8080/",
          "height": 33
        }
      },
      "source": [
        "data.isnull().sum().sum()"
      ],
      "execution_count": 72,
      "outputs": [
        {
          "output_type": "execute_result",
          "data": {
            "text/plain": [
              "5000"
            ]
          },
          "metadata": {
            "tags": []
          },
          "execution_count": 72
        }
      ]
    },
    {
      "cell_type": "code",
      "metadata": {
        "id": "7WSikzabAuiM",
        "colab_type": "code",
        "outputId": "7ffba912-2683-4c4c-9cd2-57d819681e08",
        "colab": {
          "base_uri": "https://localhost:8080/",
          "height": 66
        }
      },
      "source": [
        "col_int = data.drop(columns=['tag','id','fund_id','greatstone_rating'],axis=1).select_dtypes(exclude=('category','object')).columns\n",
        "col_id = ['tag','id','fund_id']\n",
        "col_tgt = ['greatstone_rating']\n",
        "col_cat = data.drop(columns=['tag','id','fund_id','greatstone_rating'],axis=1).select_dtypes(include=('category','object')).columns\n",
        "print(len(col_int)+len(col_id)+len(col_tgt)+len(col_cat))\n",
        "print('col_int :- ',len(col_int),'| col_cat :-',len(col_cat),'| col_id :-',len(col_id),'| col_tgt :-',len(col_tgt))\n",
        "print(col_cat)"
      ],
      "execution_count": 73,
      "outputs": [
        {
          "output_type": "stream",
          "text": [
            "959\n",
            "col_int :-  955 | col_cat :- 0 | col_id :- 3 | col_tgt :- 1\n",
            "Index([], dtype='object')\n"
          ],
          "name": "stdout"
        }
      ]
    },
    {
      "cell_type": "code",
      "metadata": {
        "id": "EVuMRM--VYhY",
        "colab_type": "code",
        "colab": {}
      },
      "source": [
        "####################################################### ******** CLASS IMBALANCE [ SMOTE ] ************ ##############################################"
      ],
      "execution_count": 0,
      "outputs": []
    },
    {
      "cell_type": "code",
      "metadata": {
        "id": "Q_UdOqrZSX3i",
        "colab_type": "code",
        "outputId": "6ca6be50-8dfe-4b70-b7b0-92c77d67d338",
        "colab": {
          "base_uri": "https://localhost:8080/",
          "height": 548
        }
      },
      "source": [
        "plt.subplots(1,1,figsize=(10,8)) \n",
        "plt.style.use('seaborn')\n",
        "g = sns.countplot(x= data[~data.greatstone_rating.isnull()]['greatstone_rating'], data= data[~data.greatstone_rating.isnull()], color='green')\n",
        "\n",
        "g.set_title(\"TARGET DISTRIBUTION\", fontsize = 15)\n",
        "g.set_xlabel(\"Target Vaues\", fontsize = 15)\n",
        "g.set_ylabel(\"Count\", fontsize = 15)\n",
        "\n",
        "for p in g.patches:\n",
        "    g.annotate('{:1.2f}%'.format(p.get_height()/len( data[~data.greatstone_rating.isnull()])*100), (p.get_x() + p.get_width() / 2.,\n",
        "                p.get_height()+5),  ha = 'center', va = 'center', xytext = (0, 4), textcoords = 'offset points', fontsize=11)\n",
        "   \n",
        "plt.show()"
      ],
      "execution_count": 75,
      "outputs": [
        {
          "output_type": "display_data",
          "data": {
            "image/png": "[encoded data removed]",
            "text/plain": [
              "<Figure size 720x576 with 1 Axes>"
            ]
          },
          "metadata": {
            "tags": []
          }
        }
      ]
    },
    {
      "cell_type": "code",
      "metadata": {
        "id": "OkWdEiL0XPQr",
        "colab_type": "code",
        "outputId": "af64eaa0-a1a3-42f3-84ab-abc61efe78b3",
        "colab": {
          "base_uri": "https://localhost:8080/",
          "height": 541
        }
      },
      "source": [
        "# Use SMOTE to oversample the minority classes\n",
        "from imblearn.over_sampling import SMOTE\n",
        "sm = SMOTE(random_state=12)\n",
        "y = data[~data.greatstone_rating.isnull()]['greatstone_rating']\n",
        "X = data[~data.greatstone_rating.isnull()][col_int]  \n",
        "print(X.shape)\n",
        "\n",
        "\n",
        "X_sm, y_sm = sm.fit_sample(X, y)\n",
        "# Count the number of occurences in the y_train sets to ensure that the oversampling worked \n",
        "\n",
        "print(y_sm.shape,X_sm.shape)\n",
        "\n",
        "data_smote = pd.concat([pd.DataFrame(X_sm,columns=col_int),pd.DataFrame(y_sm,columns=['greatstone_rating'])],axis=1) #,data[~data.greatstone_rating.isnull()][col_id]\n",
        "data_smote.shape\n"
      ],
      "execution_count": 76,
      "outputs": [
        {
          "output_type": "stream",
          "text": [
            "/usr/local/lib/python3.6/dist-packages/sklearn/externals/six.py:31: FutureWarning:\n",
            "\n",
            "The module is deprecated in version 0.21 and will be removed in version 0.23 since we've dropped support for Python 2.7. Please rely on the official version of six (https://pypi.org/project/six/).\n",
            "\n",
            "/usr/local/lib/python3.6/dist-packages/sklearn/utils/deprecation.py:144: FutureWarning:\n",
            "\n",
            "The sklearn.neighbors.base module is  deprecated in version 0.22 and will be removed in version 0.24. The corresponding classes / functions should instead be imported from sklearn.neighbors. Anything that cannot be imported from sklearn.neighbors is now part of the private API.\n",
            "\n"
          ],
          "name": "stderr"
        },
        {
          "output_type": "stream",
          "text": [
            "(20000, 955)\n"
          ],
          "name": "stdout"
        },
        {
          "output_type": "stream",
          "text": [
            "/usr/local/lib/python3.6/dist-packages/sklearn/utils/deprecation.py:87: FutureWarning:\n",
            "\n",
            "Function safe_indexing is deprecated; safe_indexing is deprecated in version 0.22 and will be removed in version 0.24.\n",
            "\n",
            "/usr/local/lib/python3.6/dist-packages/sklearn/utils/deprecation.py:87: FutureWarning:\n",
            "\n",
            "Function safe_indexing is deprecated; safe_indexing is deprecated in version 0.22 and will be removed in version 0.24.\n",
            "\n",
            "/usr/local/lib/python3.6/dist-packages/sklearn/utils/deprecation.py:87: FutureWarning:\n",
            "\n",
            "Function safe_indexing is deprecated; safe_indexing is deprecated in version 0.22 and will be removed in version 0.24.\n",
            "\n",
            "/usr/local/lib/python3.6/dist-packages/sklearn/utils/deprecation.py:87: FutureWarning:\n",
            "\n",
            "Function safe_indexing is deprecated; safe_indexing is deprecated in version 0.22 and will be removed in version 0.24.\n",
            "\n",
            "/usr/local/lib/python3.6/dist-packages/sklearn/utils/deprecation.py:87: FutureWarning:\n",
            "\n",
            "Function safe_indexing is deprecated; safe_indexing is deprecated in version 0.22 and will be removed in version 0.24.\n",
            "\n"
          ],
          "name": "stderr"
        },
        {
          "output_type": "stream",
          "text": [
            "(40716,) (40716, 955)\n"
          ],
          "name": "stdout"
        },
        {
          "output_type": "execute_result",
          "data": {
            "text/plain": [
              "(40716, 956)"
            ]
          },
          "metadata": {
            "tags": []
          },
          "execution_count": 76
        }
      ]
    },
    {
      "cell_type": "code",
      "metadata": {
        "id": "-8UcOceHrDIR",
        "colab_type": "code",
        "outputId": "e08c4280-456a-4523-b89b-93e2eca58432",
        "colab": {
          "base_uri": "https://localhost:8080/",
          "height": 33
        }
      },
      "source": [
        "pd.DataFrame(X_sm,columns=col_int).isnull().sum().sum()"
      ],
      "execution_count": 77,
      "outputs": [
        {
          "output_type": "execute_result",
          "data": {
            "text/plain": [
              "0"
            ]
          },
          "metadata": {
            "tags": []
          },
          "execution_count": 77
        }
      ]
    },
    {
      "cell_type": "code",
      "metadata": {
        "id": "9OPZLC7Cqsuq",
        "colab_type": "code",
        "outputId": "d23eeada-afdb-432d-b653-05e1e3456153",
        "colab": {
          "base_uri": "https://localhost:8080/",
          "height": 33
        }
      },
      "source": [
        "data_smote.isnull().sum().sum()"
      ],
      "execution_count": 78,
      "outputs": [
        {
          "output_type": "execute_result",
          "data": {
            "text/plain": [
              "0"
            ]
          },
          "metadata": {
            "tags": []
          },
          "execution_count": 78
        }
      ]
    },
    {
      "cell_type": "code",
      "metadata": {
        "id": "gpJjznynHZcM",
        "colab_type": "code",
        "outputId": "e9fc79e5-d1d8-490d-cbb4-b1f31b4a8197",
        "colab": {
          "base_uri": "https://localhost:8080/",
          "height": 548
        }
      },
      "source": [
        "plt.subplots(1,1,figsize=(10,8)) \n",
        "plt.style.use('seaborn')\n",
        "g = sns.countplot(x= data_smote['greatstone_rating'], data= data_smote, color='green')\n",
        "\n",
        "g.set_title(\"TARGET DISTRIBUTION\", fontsize = 15)\n",
        "g.set_xlabel(\"Target Vaues\", fontsize = 15)\n",
        "g.set_ylabel(\"Count\", fontsize = 15)\n",
        "\n",
        "for p in g.patches:\n",
        "    g.annotate('{:1.2f}%'.format(p.get_height()/len(data_smote)*100), (p.get_x() + p.get_width() / 2.,\n",
        "                p.get_height()+5),  ha = 'center', va = 'center', xytext = (0, 4), textcoords = 'offset points', fontsize=11)\n",
        "   \n",
        "plt.show()"
      ],
      "execution_count": 79,
      "outputs": [
        {
          "output_type": "display_data",
          "data": {
            "image/png": "[encoded data removed]",
            "text/plain": [
              "<Figure size 720x576 with 1 Axes>"
            ]
          },
          "metadata": {
            "tags": []
          }
        }
      ]
    },
    {
      "cell_type": "code",
      "metadata": {
        "id": "mL5tr9NntwC9",
        "colab_type": "code",
        "outputId": "57c2e1c4-af96-4a41-f1cb-077c5304f736",
        "colab": {
          "base_uri": "https://localhost:8080/",
          "height": 33
        }
      },
      "source": [
        "data[data.greatstone_rating.isnull()].drop(columns=col_id).shape"
      ],
      "execution_count": 80,
      "outputs": [
        {
          "output_type": "execute_result",
          "data": {
            "text/plain": [
              "(5000, 956)"
            ]
          },
          "metadata": {
            "tags": []
          },
          "execution_count": 80
        }
      ]
    },
    {
      "cell_type": "code",
      "metadata": {
        "id": "y96Zg9B8eIdf",
        "colab_type": "code",
        "outputId": "fdbc6b98-0b89-49ff-f7dd-ee61db2927b0",
        "colab": {
          "base_uri": "https://localhost:8080/",
          "height": 33
        }
      },
      "source": [
        "data = pd.concat([data_smote,data[data.greatstone_rating.isnull()].drop(columns=col_id)],axis=0)\n",
        "data.shape"
      ],
      "execution_count": 81,
      "outputs": [
        {
          "output_type": "execute_result",
          "data": {
            "text/plain": [
              "(45716, 956)"
            ]
          },
          "metadata": {
            "tags": []
          },
          "execution_count": 81
        }
      ]
    },
    {
      "cell_type": "code",
      "metadata": {
        "id": "928D7w78uAhn",
        "colab_type": "code",
        "outputId": "2c025689-cb02-4d1b-8f10-541476da769d",
        "colab": {
          "base_uri": "https://localhost:8080/",
          "height": 33
        }
      },
      "source": [
        "data.isnull().sum().sum()"
      ],
      "execution_count": 82,
      "outputs": [
        {
          "output_type": "execute_result",
          "data": {
            "text/plain": [
              "5000"
            ]
          },
          "metadata": {
            "tags": []
          },
          "execution_count": 82
        }
      ]
    },
    {
      "cell_type": "code",
      "metadata": {
        "id": "vBSCoqbQVqoe",
        "colab_type": "code",
        "outputId": "5cee09cb-0782-46ff-bfb1-1d9ed1084bbb",
        "colab": {
          "base_uri": "https://localhost:8080/",
          "height": 460
        }
      },
      "source": [
        "reduce_mem_usage(data)\n"
      ],
      "execution_count": 83,
      "outputs": [
        {
          "output_type": "stream",
          "text": [
            "Memory usage of dataframe is 333.79 MB\n",
            "Memory usage after optimization is: 83.88 MB\n",
            "Decreased by 74.9%\n"
          ],
          "name": "stdout"
        },
        {
          "output_type": "execute_result",
          "data": {
            "text/html": [
              "<div>\n",
              "<style scoped>\n",
              "    .dataframe tbody tr th:only-of-type {\n",
              "        vertical-align: middle;\n",
              "    }\n",
              "\n",
              "    .dataframe tbody tr th {\n",
              "        vertical-align: top;\n",
              "    }\n",
              "\n",
              "    .dataframe thead th {\n",
              "        text-align: right;\n",
              "    }\n",
              "</style>\n",
              "<table border=\"1\" class=\"dataframe\">\n",
              "  <thead>\n",
              "    <tr style=\"text-align: right;\">\n",
              "      <th></th>\n",
              "      <th>category</th>\n",
              "      <th>parent_company</th>\n",
              "      <th>fund_ratio_net_annual_expense</th>\n",
              "      <th>pb_ratio</th>\n",
              "      <th>ps_ratio</th>\n",
              "      <th>mmc</th>\n",
              "      <th>pc_ratio</th>\n",
              "      <th>pe_ratio</th>\n",
              "      <th>10years_category_r_squared</th>\n",
              "      <th>10yrs_sharpe_ratio_fund</th>\n",
              "      <th>10_years_alpha_fund</th>\n",
              "      <th>10years_fund_std</th>\n",
              "      <th>10yrs_sharpe_ratio_category</th>\n",
              "      <th>10_years_beta_fund</th>\n",
              "      <th>10yrs_treynor_ratio_fund</th>\n",
              "      <th>10_years_return_mean_annual_category</th>\n",
              "      <th>10yrs_treynor_ratio_category</th>\n",
              "      <th>10_years_return_fund</th>\n",
              "      <th>10_years_beta_category</th>\n",
              "      <th>bb_rating</th>\n",
              "      <th>below_b_rating</th>\n",
              "      <th>others_rating</th>\n",
              "      <th>maturity_bond</th>\n",
              "      <th>a_rating</th>\n",
              "      <th>aaa_rating</th>\n",
              "      <th>aa_rating</th>\n",
              "      <th>bbb_rating</th>\n",
              "      <th>duration_bond</th>\n",
              "      <th>portfolio_communication_allocation</th>\n",
              "      <th>portfolio_financial_services</th>\n",
              "      <th>portfolio_industrials_allocation</th>\n",
              "      <th>portfolio_tech_allocation</th>\n",
              "      <th>portfolio_materials_basic_allocation</th>\n",
              "      <th>portfolio_energy_allocation</th>\n",
              "      <th>portfolio_consumer_defence_allocation</th>\n",
              "      <th>portfolio_healthcare_allocation</th>\n",
              "      <th>portfolio_property_allocation</th>\n",
              "      <th>portfolio_utils_allocation</th>\n",
              "      <th>portfolio_cyclical_consumer_allocation</th>\n",
              "      <th>investment_class</th>\n",
              "      <th>...</th>\n",
              "      <th>parent_company_724</th>\n",
              "      <th>parent_company_725</th>\n",
              "      <th>parent_company_726</th>\n",
              "      <th>parent_company_727</th>\n",
              "      <th>parent_company_728</th>\n",
              "      <th>parent_company_729</th>\n",
              "      <th>parent_company_730</th>\n",
              "      <th>parent_company_731</th>\n",
              "      <th>parent_company_732</th>\n",
              "      <th>parent_company_733</th>\n",
              "      <th>parent_company_734</th>\n",
              "      <th>parent_company_735</th>\n",
              "      <th>parent_company_736</th>\n",
              "      <th>parent_company_737</th>\n",
              "      <th>parent_company_738</th>\n",
              "      <th>parent_company_739</th>\n",
              "      <th>parent_company_740</th>\n",
              "      <th>parent_company_741</th>\n",
              "      <th>parent_company_742</th>\n",
              "      <th>parent_company_743</th>\n",
              "      <th>parent_company_744</th>\n",
              "      <th>parent_company_745</th>\n",
              "      <th>parent_company_746</th>\n",
              "      <th>parent_company_747</th>\n",
              "      <th>parent_company_748</th>\n",
              "      <th>parent_company_749</th>\n",
              "      <th>parent_company_750</th>\n",
              "      <th>parent_company_751</th>\n",
              "      <th>parent_company_752</th>\n",
              "      <th>parent_company_753</th>\n",
              "      <th>parent_company_754</th>\n",
              "      <th>parent_company_755</th>\n",
              "      <th>parent_company_756</th>\n",
              "      <th>parent_company_757</th>\n",
              "      <th>parent_company_758</th>\n",
              "      <th>parent_company_759</th>\n",
              "      <th>parent_company_760</th>\n",
              "      <th>investment_class_1</th>\n",
              "      <th>fund_size_1</th>\n",
              "      <th>greatstone_rating</th>\n",
              "    </tr>\n",
              "  </thead>\n",
              "  <tbody>\n",
              "    <tr>\n",
              "      <th>0</th>\n",
              "      <td>42.0</td>\n",
              "      <td>387.0</td>\n",
              "      <td>0.580078</td>\n",
              "      <td>5.300781</td>\n",
              "      <td>3.380859</td>\n",
              "      <td>72347.031250</td>\n",
              "      <td>15.953125</td>\n",
              "      <td>18.875000</td>\n",
              "      <td>0.879883</td>\n",
              "      <td>1.160156</td>\n",
              "      <td>0.160034</td>\n",
              "      <td>14.296875</td>\n",
              "      <td>0.010002</td>\n",
              "      <td>1.080078</td>\n",
              "      <td>15.570312</td>\n",
              "      <td>0.010002</td>\n",
              "      <td>0.150024</td>\n",
              "      <td>17.250000</td>\n",
              "      <td>0.010002</td>\n",
              "      <td>0.000000</td>\n",
              "      <td>0.000000</td>\n",
              "      <td>0.000000</td>\n",
              "      <td>7.765625</td>\n",
              "      <td>0.00000</td>\n",
              "      <td>0.00000</td>\n",
              "      <td>0.000000</td>\n",
              "      <td>0.0000</td>\n",
              "      <td>4.644531</td>\n",
              "      <td>0.779785</td>\n",
              "      <td>9.773438</td>\n",
              "      <td>9.968750</td>\n",
              "      <td>35.500000</td>\n",
              "      <td>2.859375</td>\n",
              "      <td>0.379883</td>\n",
              "      <td>5.878906</td>\n",
              "      <td>14.406250</td>\n",
              "      <td>2.669922</td>\n",
              "      <td>0.389893</td>\n",
              "      <td>17.375000</td>\n",
              "      <td>1.0</td>\n",
              "      <td>...</td>\n",
              "      <td>0.0</td>\n",
              "      <td>0.0</td>\n",
              "      <td>0.0</td>\n",
              "      <td>0.0</td>\n",
              "      <td>0.0</td>\n",
              "      <td>0.0</td>\n",
              "      <td>0.0</td>\n",
              "      <td>0.0</td>\n",
              "      <td>0.0</td>\n",
              "      <td>0.0</td>\n",
              "      <td>0.0</td>\n",
              "      <td>0.0</td>\n",
              "      <td>0.0</td>\n",
              "      <td>0.0</td>\n",
              "      <td>0.0</td>\n",
              "      <td>0.0</td>\n",
              "      <td>0.0</td>\n",
              "      <td>0.0</td>\n",
              "      <td>0.0</td>\n",
              "      <td>0.0</td>\n",
              "      <td>0.0</td>\n",
              "      <td>0.0</td>\n",
              "      <td>0.0</td>\n",
              "      <td>0.0</td>\n",
              "      <td>0.0</td>\n",
              "      <td>0.0</td>\n",
              "      <td>0.0</td>\n",
              "      <td>0.0</td>\n",
              "      <td>0.0</td>\n",
              "      <td>0.0</td>\n",
              "      <td>0.0</td>\n",
              "      <td>0.0</td>\n",
              "      <td>0.0</td>\n",
              "      <td>0.0</td>\n",
              "      <td>0.0</td>\n",
              "      <td>0.0</td>\n",
              "      <td>0.0</td>\n",
              "      <td>1.0</td>\n",
              "      <td>0.0</td>\n",
              "      <td>3.0</td>\n",
              "    </tr>\n",
              "    <tr>\n",
              "      <th>1</th>\n",
              "      <td>42.0</td>\n",
              "      <td>149.0</td>\n",
              "      <td>0.990234</td>\n",
              "      <td>5.398438</td>\n",
              "      <td>3.669922</td>\n",
              "      <td>68857.429688</td>\n",
              "      <td>15.968750</td>\n",
              "      <td>23.265625</td>\n",
              "      <td>0.879883</td>\n",
              "      <td>1.219727</td>\n",
              "      <td>1.000000</td>\n",
              "      <td>12.679688</td>\n",
              "      <td>0.010002</td>\n",
              "      <td>0.950195</td>\n",
              "      <td>16.578125</td>\n",
              "      <td>0.010002</td>\n",
              "      <td>0.150024</td>\n",
              "      <td>16.203125</td>\n",
              "      <td>0.010002</td>\n",
              "      <td>0.000000</td>\n",
              "      <td>0.000000</td>\n",
              "      <td>0.000000</td>\n",
              "      <td>7.765625</td>\n",
              "      <td>0.00000</td>\n",
              "      <td>0.00000</td>\n",
              "      <td>0.000000</td>\n",
              "      <td>0.0000</td>\n",
              "      <td>4.644531</td>\n",
              "      <td>4.699219</td>\n",
              "      <td>16.406250</td>\n",
              "      <td>11.453125</td>\n",
              "      <td>25.093750</td>\n",
              "      <td>8.359375</td>\n",
              "      <td>0.000000</td>\n",
              "      <td>9.421875</td>\n",
              "      <td>16.468750</td>\n",
              "      <td>1.030273</td>\n",
              "      <td>0.000000</td>\n",
              "      <td>7.089844</td>\n",
              "      <td>1.0</td>\n",
              "      <td>...</td>\n",
              "      <td>0.0</td>\n",
              "      <td>0.0</td>\n",
              "      <td>0.0</td>\n",
              "      <td>0.0</td>\n",
              "      <td>0.0</td>\n",
              "      <td>0.0</td>\n",
              "      <td>0.0</td>\n",
              "      <td>0.0</td>\n",
              "      <td>0.0</td>\n",
              "      <td>0.0</td>\n",
              "      <td>0.0</td>\n",
              "      <td>0.0</td>\n",
              "      <td>0.0</td>\n",
              "      <td>0.0</td>\n",
              "      <td>0.0</td>\n",
              "      <td>0.0</td>\n",
              "      <td>0.0</td>\n",
              "      <td>0.0</td>\n",
              "      <td>0.0</td>\n",
              "      <td>0.0</td>\n",
              "      <td>0.0</td>\n",
              "      <td>0.0</td>\n",
              "      <td>0.0</td>\n",
              "      <td>0.0</td>\n",
              "      <td>0.0</td>\n",
              "      <td>0.0</td>\n",
              "      <td>0.0</td>\n",
              "      <td>0.0</td>\n",
              "      <td>0.0</td>\n",
              "      <td>0.0</td>\n",
              "      <td>0.0</td>\n",
              "      <td>0.0</td>\n",
              "      <td>0.0</td>\n",
              "      <td>0.0</td>\n",
              "      <td>0.0</td>\n",
              "      <td>0.0</td>\n",
              "      <td>0.0</td>\n",
              "      <td>1.0</td>\n",
              "      <td>0.0</td>\n",
              "      <td>4.0</td>\n",
              "    </tr>\n",
              "    <tr>\n",
              "      <th>2</th>\n",
              "      <td>43.0</td>\n",
              "      <td>372.0</td>\n",
              "      <td>0.520020</td>\n",
              "      <td>2.230469</td>\n",
              "      <td>1.629883</td>\n",
              "      <td>43266.621094</td>\n",
              "      <td>8.929688</td>\n",
              "      <td>12.703125</td>\n",
              "      <td>0.899902</td>\n",
              "      <td>1.200195</td>\n",
              "      <td>0.750000</td>\n",
              "      <td>11.210938</td>\n",
              "      <td>0.010002</td>\n",
              "      <td>0.839844</td>\n",
              "      <td>16.375000</td>\n",
              "      <td>0.010002</td>\n",
              "      <td>0.140015</td>\n",
              "      <td>14.117188</td>\n",
              "      <td>0.010002</td>\n",
              "      <td>0.000000</td>\n",
              "      <td>0.000000</td>\n",
              "      <td>0.000000</td>\n",
              "      <td>7.765625</td>\n",
              "      <td>0.00000</td>\n",
              "      <td>0.00000</td>\n",
              "      <td>0.000000</td>\n",
              "      <td>0.0000</td>\n",
              "      <td>4.644531</td>\n",
              "      <td>6.531250</td>\n",
              "      <td>13.796875</td>\n",
              "      <td>10.906250</td>\n",
              "      <td>0.160034</td>\n",
              "      <td>2.220703</td>\n",
              "      <td>6.789062</td>\n",
              "      <td>25.734375</td>\n",
              "      <td>9.000000</td>\n",
              "      <td>0.000000</td>\n",
              "      <td>19.421875</td>\n",
              "      <td>5.429688</td>\n",
              "      <td>2.0</td>\n",
              "      <td>...</td>\n",
              "      <td>0.0</td>\n",
              "      <td>0.0</td>\n",
              "      <td>0.0</td>\n",
              "      <td>0.0</td>\n",
              "      <td>0.0</td>\n",
              "      <td>0.0</td>\n",
              "      <td>0.0</td>\n",
              "      <td>0.0</td>\n",
              "      <td>0.0</td>\n",
              "      <td>0.0</td>\n",
              "      <td>0.0</td>\n",
              "      <td>0.0</td>\n",
              "      <td>0.0</td>\n",
              "      <td>0.0</td>\n",
              "      <td>0.0</td>\n",
              "      <td>0.0</td>\n",
              "      <td>0.0</td>\n",
              "      <td>0.0</td>\n",
              "      <td>0.0</td>\n",
              "      <td>0.0</td>\n",
              "      <td>0.0</td>\n",
              "      <td>0.0</td>\n",
              "      <td>0.0</td>\n",
              "      <td>0.0</td>\n",
              "      <td>0.0</td>\n",
              "      <td>0.0</td>\n",
              "      <td>0.0</td>\n",
              "      <td>0.0</td>\n",
              "      <td>0.0</td>\n",
              "      <td>0.0</td>\n",
              "      <td>0.0</td>\n",
              "      <td>0.0</td>\n",
              "      <td>0.0</td>\n",
              "      <td>0.0</td>\n",
              "      <td>0.0</td>\n",
              "      <td>0.0</td>\n",
              "      <td>0.0</td>\n",
              "      <td>0.0</td>\n",
              "      <td>0.0</td>\n",
              "      <td>3.0</td>\n",
              "    </tr>\n",
              "    <tr>\n",
              "      <th>3</th>\n",
              "      <td>90.0</td>\n",
              "      <td>529.0</td>\n",
              "      <td>0.750000</td>\n",
              "      <td>2.019531</td>\n",
              "      <td>1.400391</td>\n",
              "      <td>43747.898438</td>\n",
              "      <td>7.589844</td>\n",
              "      <td>14.742188</td>\n",
              "      <td>0.970215</td>\n",
              "      <td>0.937500</td>\n",
              "      <td>0.003147</td>\n",
              "      <td>11.421875</td>\n",
              "      <td>0.010002</td>\n",
              "      <td>0.963379</td>\n",
              "      <td>16.125000</td>\n",
              "      <td>0.010002</td>\n",
              "      <td>0.080017</td>\n",
              "      <td>0.000000</td>\n",
              "      <td>0.010002</td>\n",
              "      <td>0.000000</td>\n",
              "      <td>0.000000</td>\n",
              "      <td>0.000000</td>\n",
              "      <td>7.765625</td>\n",
              "      <td>0.00000</td>\n",
              "      <td>0.00000</td>\n",
              "      <td>0.000000</td>\n",
              "      <td>0.0000</td>\n",
              "      <td>4.644531</td>\n",
              "      <td>3.490234</td>\n",
              "      <td>13.953125</td>\n",
              "      <td>10.507812</td>\n",
              "      <td>19.265625</td>\n",
              "      <td>3.750000</td>\n",
              "      <td>5.109375</td>\n",
              "      <td>7.289062</td>\n",
              "      <td>12.218750</td>\n",
              "      <td>10.406250</td>\n",
              "      <td>3.070312</td>\n",
              "      <td>10.953125</td>\n",
              "      <td>0.0</td>\n",
              "      <td>...</td>\n",
              "      <td>0.0</td>\n",
              "      <td>0.0</td>\n",
              "      <td>0.0</td>\n",
              "      <td>0.0</td>\n",
              "      <td>0.0</td>\n",
              "      <td>0.0</td>\n",
              "      <td>0.0</td>\n",
              "      <td>0.0</td>\n",
              "      <td>0.0</td>\n",
              "      <td>0.0</td>\n",
              "      <td>0.0</td>\n",
              "      <td>0.0</td>\n",
              "      <td>0.0</td>\n",
              "      <td>0.0</td>\n",
              "      <td>0.0</td>\n",
              "      <td>0.0</td>\n",
              "      <td>0.0</td>\n",
              "      <td>0.0</td>\n",
              "      <td>0.0</td>\n",
              "      <td>0.0</td>\n",
              "      <td>0.0</td>\n",
              "      <td>0.0</td>\n",
              "      <td>0.0</td>\n",
              "      <td>0.0</td>\n",
              "      <td>0.0</td>\n",
              "      <td>0.0</td>\n",
              "      <td>0.0</td>\n",
              "      <td>0.0</td>\n",
              "      <td>0.0</td>\n",
              "      <td>0.0</td>\n",
              "      <td>0.0</td>\n",
              "      <td>0.0</td>\n",
              "      <td>0.0</td>\n",
              "      <td>0.0</td>\n",
              "      <td>0.0</td>\n",
              "      <td>0.0</td>\n",
              "      <td>0.0</td>\n",
              "      <td>0.0</td>\n",
              "      <td>0.0</td>\n",
              "      <td>0.0</td>\n",
              "    </tr>\n",
              "    <tr>\n",
              "      <th>4</th>\n",
              "      <td>13.0</td>\n",
              "      <td>679.0</td>\n",
              "      <td>1.900391</td>\n",
              "      <td>0.000000</td>\n",
              "      <td>0.000000</td>\n",
              "      <td>0.000000</td>\n",
              "      <td>0.000000</td>\n",
              "      <td>0.000000</td>\n",
              "      <td>0.830078</td>\n",
              "      <td>0.959961</td>\n",
              "      <td>0.649902</td>\n",
              "      <td>10.843750</td>\n",
              "      <td>0.010002</td>\n",
              "      <td>1.219727</td>\n",
              "      <td>8.437500</td>\n",
              "      <td>0.010002</td>\n",
              "      <td>0.090027</td>\n",
              "      <td>10.773438</td>\n",
              "      <td>0.010002</td>\n",
              "      <td>0.000000</td>\n",
              "      <td>0.000000</td>\n",
              "      <td>0.000000</td>\n",
              "      <td>7.765625</td>\n",
              "      <td>0.00000</td>\n",
              "      <td>0.00000</td>\n",
              "      <td>0.000000</td>\n",
              "      <td>0.0000</td>\n",
              "      <td>4.644531</td>\n",
              "      <td>0.000000</td>\n",
              "      <td>14.203125</td>\n",
              "      <td>16.765625</td>\n",
              "      <td>9.820312</td>\n",
              "      <td>15.640625</td>\n",
              "      <td>0.000000</td>\n",
              "      <td>0.000000</td>\n",
              "      <td>0.000000</td>\n",
              "      <td>0.000000</td>\n",
              "      <td>43.593750</td>\n",
              "      <td>0.000000</td>\n",
              "      <td>0.0</td>\n",
              "      <td>...</td>\n",
              "      <td>0.0</td>\n",
              "      <td>0.0</td>\n",
              "      <td>0.0</td>\n",
              "      <td>0.0</td>\n",
              "      <td>0.0</td>\n",
              "      <td>0.0</td>\n",
              "      <td>0.0</td>\n",
              "      <td>0.0</td>\n",
              "      <td>0.0</td>\n",
              "      <td>0.0</td>\n",
              "      <td>0.0</td>\n",
              "      <td>0.0</td>\n",
              "      <td>0.0</td>\n",
              "      <td>0.0</td>\n",
              "      <td>0.0</td>\n",
              "      <td>0.0</td>\n",
              "      <td>0.0</td>\n",
              "      <td>0.0</td>\n",
              "      <td>0.0</td>\n",
              "      <td>0.0</td>\n",
              "      <td>0.0</td>\n",
              "      <td>0.0</td>\n",
              "      <td>0.0</td>\n",
              "      <td>0.0</td>\n",
              "      <td>0.0</td>\n",
              "      <td>0.0</td>\n",
              "      <td>0.0</td>\n",
              "      <td>0.0</td>\n",
              "      <td>0.0</td>\n",
              "      <td>0.0</td>\n",
              "      <td>0.0</td>\n",
              "      <td>0.0</td>\n",
              "      <td>0.0</td>\n",
              "      <td>0.0</td>\n",
              "      <td>0.0</td>\n",
              "      <td>0.0</td>\n",
              "      <td>0.0</td>\n",
              "      <td>0.0</td>\n",
              "      <td>0.0</td>\n",
              "      <td>3.0</td>\n",
              "    </tr>\n",
              "    <tr>\n",
              "      <th>...</th>\n",
              "      <td>...</td>\n",
              "      <td>...</td>\n",
              "      <td>...</td>\n",
              "      <td>...</td>\n",
              "      <td>...</td>\n",
              "      <td>...</td>\n",
              "      <td>...</td>\n",
              "      <td>...</td>\n",
              "      <td>...</td>\n",
              "      <td>...</td>\n",
              "      <td>...</td>\n",
              "      <td>...</td>\n",
              "      <td>...</td>\n",
              "      <td>...</td>\n",
              "      <td>...</td>\n",
              "      <td>...</td>\n",
              "      <td>...</td>\n",
              "      <td>...</td>\n",
              "      <td>...</td>\n",
              "      <td>...</td>\n",
              "      <td>...</td>\n",
              "      <td>...</td>\n",
              "      <td>...</td>\n",
              "      <td>...</td>\n",
              "      <td>...</td>\n",
              "      <td>...</td>\n",
              "      <td>...</td>\n",
              "      <td>...</td>\n",
              "      <td>...</td>\n",
              "      <td>...</td>\n",
              "      <td>...</td>\n",
              "      <td>...</td>\n",
              "      <td>...</td>\n",
              "      <td>...</td>\n",
              "      <td>...</td>\n",
              "      <td>...</td>\n",
              "      <td>...</td>\n",
              "      <td>...</td>\n",
              "      <td>...</td>\n",
              "      <td>...</td>\n",
              "      <td>...</td>\n",
              "      <td>...</td>\n",
              "      <td>...</td>\n",
              "      <td>...</td>\n",
              "      <td>...</td>\n",
              "      <td>...</td>\n",
              "      <td>...</td>\n",
              "      <td>...</td>\n",
              "      <td>...</td>\n",
              "      <td>...</td>\n",
              "      <td>...</td>\n",
              "      <td>...</td>\n",
              "      <td>...</td>\n",
              "      <td>...</td>\n",
              "      <td>...</td>\n",
              "      <td>...</td>\n",
              "      <td>...</td>\n",
              "      <td>...</td>\n",
              "      <td>...</td>\n",
              "      <td>...</td>\n",
              "      <td>...</td>\n",
              "      <td>...</td>\n",
              "      <td>...</td>\n",
              "      <td>...</td>\n",
              "      <td>...</td>\n",
              "      <td>...</td>\n",
              "      <td>...</td>\n",
              "      <td>...</td>\n",
              "      <td>...</td>\n",
              "      <td>...</td>\n",
              "      <td>...</td>\n",
              "      <td>...</td>\n",
              "      <td>...</td>\n",
              "      <td>...</td>\n",
              "      <td>...</td>\n",
              "      <td>...</td>\n",
              "      <td>...</td>\n",
              "      <td>...</td>\n",
              "      <td>...</td>\n",
              "      <td>...</td>\n",
              "      <td>...</td>\n",
              "    </tr>\n",
              "    <tr>\n",
              "      <th>24983</th>\n",
              "      <td>2.0</td>\n",
              "      <td>574.0</td>\n",
              "      <td>1.299805</td>\n",
              "      <td>2.259766</td>\n",
              "      <td>1.679688</td>\n",
              "      <td>47733.500000</td>\n",
              "      <td>9.281250</td>\n",
              "      <td>16.687500</td>\n",
              "      <td>0.919922</td>\n",
              "      <td>1.110352</td>\n",
              "      <td>0.070007</td>\n",
              "      <td>8.632812</td>\n",
              "      <td>0.010002</td>\n",
              "      <td>1.049805</td>\n",
              "      <td>9.171875</td>\n",
              "      <td>0.010002</td>\n",
              "      <td>0.090027</td>\n",
              "      <td>10.101562</td>\n",
              "      <td>0.010002</td>\n",
              "      <td>6.019531</td>\n",
              "      <td>1.950195</td>\n",
              "      <td>2.099609</td>\n",
              "      <td>6.421875</td>\n",
              "      <td>9.96875</td>\n",
              "      <td>43.71875</td>\n",
              "      <td>9.171875</td>\n",
              "      <td>21.5625</td>\n",
              "      <td>4.390625</td>\n",
              "      <td>3.689453</td>\n",
              "      <td>19.484375</td>\n",
              "      <td>10.140625</td>\n",
              "      <td>15.546875</td>\n",
              "      <td>4.371094</td>\n",
              "      <td>6.070312</td>\n",
              "      <td>6.839844</td>\n",
              "      <td>10.968750</td>\n",
              "      <td>8.437500</td>\n",
              "      <td>3.349609</td>\n",
              "      <td>11.078125</td>\n",
              "      <td>0.0</td>\n",
              "      <td>...</td>\n",
              "      <td>0.0</td>\n",
              "      <td>0.0</td>\n",
              "      <td>0.0</td>\n",
              "      <td>0.0</td>\n",
              "      <td>0.0</td>\n",
              "      <td>0.0</td>\n",
              "      <td>0.0</td>\n",
              "      <td>0.0</td>\n",
              "      <td>0.0</td>\n",
              "      <td>0.0</td>\n",
              "      <td>0.0</td>\n",
              "      <td>0.0</td>\n",
              "      <td>0.0</td>\n",
              "      <td>0.0</td>\n",
              "      <td>0.0</td>\n",
              "      <td>0.0</td>\n",
              "      <td>0.0</td>\n",
              "      <td>0.0</td>\n",
              "      <td>0.0</td>\n",
              "      <td>0.0</td>\n",
              "      <td>0.0</td>\n",
              "      <td>0.0</td>\n",
              "      <td>0.0</td>\n",
              "      <td>0.0</td>\n",
              "      <td>0.0</td>\n",
              "      <td>0.0</td>\n",
              "      <td>0.0</td>\n",
              "      <td>0.0</td>\n",
              "      <td>0.0</td>\n",
              "      <td>0.0</td>\n",
              "      <td>0.0</td>\n",
              "      <td>0.0</td>\n",
              "      <td>0.0</td>\n",
              "      <td>0.0</td>\n",
              "      <td>0.0</td>\n",
              "      <td>0.0</td>\n",
              "      <td>0.0</td>\n",
              "      <td>0.0</td>\n",
              "      <td>0.0</td>\n",
              "      <td>NaN</td>\n",
              "    </tr>\n",
              "    <tr>\n",
              "      <th>24992</th>\n",
              "      <td>107.0</td>\n",
              "      <td>223.0</td>\n",
              "      <td>0.709961</td>\n",
              "      <td>1.830078</td>\n",
              "      <td>1.269531</td>\n",
              "      <td>68651.593750</td>\n",
              "      <td>6.410156</td>\n",
              "      <td>13.617188</td>\n",
              "      <td>0.890137</td>\n",
              "      <td>0.939941</td>\n",
              "      <td>1.290039</td>\n",
              "      <td>8.851562</td>\n",
              "      <td>0.010002</td>\n",
              "      <td>1.059570</td>\n",
              "      <td>7.781250</td>\n",
              "      <td>0.010002</td>\n",
              "      <td>0.070007</td>\n",
              "      <td>8.718750</td>\n",
              "      <td>0.010002</td>\n",
              "      <td>0.000000</td>\n",
              "      <td>0.000000</td>\n",
              "      <td>0.000000</td>\n",
              "      <td>7.765625</td>\n",
              "      <td>0.00000</td>\n",
              "      <td>0.00000</td>\n",
              "      <td>0.000000</td>\n",
              "      <td>0.0000</td>\n",
              "      <td>4.644531</td>\n",
              "      <td>5.269531</td>\n",
              "      <td>15.460938</td>\n",
              "      <td>11.929688</td>\n",
              "      <td>18.234375</td>\n",
              "      <td>1.820312</td>\n",
              "      <td>8.023438</td>\n",
              "      <td>8.281250</td>\n",
              "      <td>9.203125</td>\n",
              "      <td>4.281250</td>\n",
              "      <td>5.859375</td>\n",
              "      <td>11.648438</td>\n",
              "      <td>2.0</td>\n",
              "      <td>...</td>\n",
              "      <td>0.0</td>\n",
              "      <td>0.0</td>\n",
              "      <td>0.0</td>\n",
              "      <td>0.0</td>\n",
              "      <td>0.0</td>\n",
              "      <td>0.0</td>\n",
              "      <td>0.0</td>\n",
              "      <td>0.0</td>\n",
              "      <td>0.0</td>\n",
              "      <td>0.0</td>\n",
              "      <td>0.0</td>\n",
              "      <td>0.0</td>\n",
              "      <td>0.0</td>\n",
              "      <td>0.0</td>\n",
              "      <td>0.0</td>\n",
              "      <td>0.0</td>\n",
              "      <td>0.0</td>\n",
              "      <td>0.0</td>\n",
              "      <td>0.0</td>\n",
              "      <td>0.0</td>\n",
              "      <td>0.0</td>\n",
              "      <td>0.0</td>\n",
              "      <td>0.0</td>\n",
              "      <td>0.0</td>\n",
              "      <td>0.0</td>\n",
              "      <td>0.0</td>\n",
              "      <td>0.0</td>\n",
              "      <td>0.0</td>\n",
              "      <td>0.0</td>\n",
              "      <td>0.0</td>\n",
              "      <td>0.0</td>\n",
              "      <td>0.0</td>\n",
              "      <td>0.0</td>\n",
              "      <td>0.0</td>\n",
              "      <td>0.0</td>\n",
              "      <td>0.0</td>\n",
              "      <td>0.0</td>\n",
              "      <td>0.0</td>\n",
              "      <td>0.0</td>\n",
              "      <td>NaN</td>\n",
              "    </tr>\n",
              "    <tr>\n",
              "      <th>24996</th>\n",
              "      <td>109.0</td>\n",
              "      <td>43.0</td>\n",
              "      <td>1.019531</td>\n",
              "      <td>1.940430</td>\n",
              "      <td>1.360352</td>\n",
              "      <td>37550.750000</td>\n",
              "      <td>7.609375</td>\n",
              "      <td>14.296875</td>\n",
              "      <td>0.839844</td>\n",
              "      <td>0.799805</td>\n",
              "      <td>3.359375</td>\n",
              "      <td>13.781250</td>\n",
              "      <td>0.010002</td>\n",
              "      <td>0.819824</td>\n",
              "      <td>12.867188</td>\n",
              "      <td>0.010002</td>\n",
              "      <td>0.140015</td>\n",
              "      <td>10.992188</td>\n",
              "      <td>0.010002</td>\n",
              "      <td>0.000000</td>\n",
              "      <td>0.000000</td>\n",
              "      <td>0.000000</td>\n",
              "      <td>7.765625</td>\n",
              "      <td>0.00000</td>\n",
              "      <td>0.00000</td>\n",
              "      <td>0.000000</td>\n",
              "      <td>0.0000</td>\n",
              "      <td>4.644531</td>\n",
              "      <td>3.699219</td>\n",
              "      <td>18.828125</td>\n",
              "      <td>10.101562</td>\n",
              "      <td>19.312500</td>\n",
              "      <td>3.400391</td>\n",
              "      <td>5.800781</td>\n",
              "      <td>8.828125</td>\n",
              "      <td>10.968750</td>\n",
              "      <td>4.750000</td>\n",
              "      <td>2.400391</td>\n",
              "      <td>11.898438</td>\n",
              "      <td>0.0</td>\n",
              "      <td>...</td>\n",
              "      <td>0.0</td>\n",
              "      <td>0.0</td>\n",
              "      <td>0.0</td>\n",
              "      <td>0.0</td>\n",
              "      <td>0.0</td>\n",
              "      <td>0.0</td>\n",
              "      <td>0.0</td>\n",
              "      <td>0.0</td>\n",
              "      <td>0.0</td>\n",
              "      <td>0.0</td>\n",
              "      <td>0.0</td>\n",
              "      <td>0.0</td>\n",
              "      <td>0.0</td>\n",
              "      <td>0.0</td>\n",
              "      <td>0.0</td>\n",
              "      <td>0.0</td>\n",
              "      <td>0.0</td>\n",
              "      <td>0.0</td>\n",
              "      <td>0.0</td>\n",
              "      <td>0.0</td>\n",
              "      <td>0.0</td>\n",
              "      <td>0.0</td>\n",
              "      <td>0.0</td>\n",
              "      <td>0.0</td>\n",
              "      <td>0.0</td>\n",
              "      <td>0.0</td>\n",
              "      <td>0.0</td>\n",
              "      <td>0.0</td>\n",
              "      <td>0.0</td>\n",
              "      <td>0.0</td>\n",
              "      <td>0.0</td>\n",
              "      <td>0.0</td>\n",
              "      <td>0.0</td>\n",
              "      <td>0.0</td>\n",
              "      <td>0.0</td>\n",
              "      <td>0.0</td>\n",
              "      <td>0.0</td>\n",
              "      <td>0.0</td>\n",
              "      <td>0.0</td>\n",
              "      <td>NaN</td>\n",
              "    </tr>\n",
              "    <tr>\n",
              "      <th>24998</th>\n",
              "      <td>51.0</td>\n",
              "      <td>475.0</td>\n",
              "      <td>1.099609</td>\n",
              "      <td>0.979980</td>\n",
              "      <td>0.859863</td>\n",
              "      <td>14859.200195</td>\n",
              "      <td>3.800781</td>\n",
              "      <td>7.890625</td>\n",
              "      <td>0.850098</td>\n",
              "      <td>0.799805</td>\n",
              "      <td>5.578125</td>\n",
              "      <td>25.015625</td>\n",
              "      <td>0.010002</td>\n",
              "      <td>1.669922</td>\n",
              "      <td>10.859375</td>\n",
              "      <td>0.010002</td>\n",
              "      <td>0.130005</td>\n",
              "      <td>18.640625</td>\n",
              "      <td>0.010002</td>\n",
              "      <td>0.000000</td>\n",
              "      <td>0.000000</td>\n",
              "      <td>0.000000</td>\n",
              "      <td>7.765625</td>\n",
              "      <td>0.00000</td>\n",
              "      <td>0.00000</td>\n",
              "      <td>0.000000</td>\n",
              "      <td>0.0000</td>\n",
              "      <td>4.644531</td>\n",
              "      <td>2.210938</td>\n",
              "      <td>19.921875</td>\n",
              "      <td>12.546875</td>\n",
              "      <td>14.617188</td>\n",
              "      <td>0.000000</td>\n",
              "      <td>0.000000</td>\n",
              "      <td>3.269531</td>\n",
              "      <td>25.312500</td>\n",
              "      <td>0.000000</td>\n",
              "      <td>0.000000</td>\n",
              "      <td>22.125000</td>\n",
              "      <td>2.0</td>\n",
              "      <td>...</td>\n",
              "      <td>0.0</td>\n",
              "      <td>0.0</td>\n",
              "      <td>0.0</td>\n",
              "      <td>0.0</td>\n",
              "      <td>0.0</td>\n",
              "      <td>0.0</td>\n",
              "      <td>0.0</td>\n",
              "      <td>0.0</td>\n",
              "      <td>0.0</td>\n",
              "      <td>0.0</td>\n",
              "      <td>0.0</td>\n",
              "      <td>0.0</td>\n",
              "      <td>0.0</td>\n",
              "      <td>0.0</td>\n",
              "      <td>0.0</td>\n",
              "      <td>0.0</td>\n",
              "      <td>0.0</td>\n",
              "      <td>0.0</td>\n",
              "      <td>0.0</td>\n",
              "      <td>0.0</td>\n",
              "      <td>0.0</td>\n",
              "      <td>0.0</td>\n",
              "      <td>0.0</td>\n",
              "      <td>0.0</td>\n",
              "      <td>0.0</td>\n",
              "      <td>0.0</td>\n",
              "      <td>0.0</td>\n",
              "      <td>0.0</td>\n",
              "      <td>0.0</td>\n",
              "      <td>0.0</td>\n",
              "      <td>0.0</td>\n",
              "      <td>0.0</td>\n",
              "      <td>0.0</td>\n",
              "      <td>0.0</td>\n",
              "      <td>0.0</td>\n",
              "      <td>0.0</td>\n",
              "      <td>0.0</td>\n",
              "      <td>0.0</td>\n",
              "      <td>1.0</td>\n",
              "      <td>NaN</td>\n",
              "    </tr>\n",
              "    <tr>\n",
              "      <th>24999</th>\n",
              "      <td>25.0</td>\n",
              "      <td>223.0</td>\n",
              "      <td>1.969727</td>\n",
              "      <td>2.380859</td>\n",
              "      <td>1.629883</td>\n",
              "      <td>35795.281250</td>\n",
              "      <td>11.546875</td>\n",
              "      <td>17.796875</td>\n",
              "      <td>0.910156</td>\n",
              "      <td>0.620117</td>\n",
              "      <td>0.930176</td>\n",
              "      <td>15.312500</td>\n",
              "      <td>0.010002</td>\n",
              "      <td>0.919922</td>\n",
              "      <td>9.421875</td>\n",
              "      <td>0.010002</td>\n",
              "      <td>0.099976</td>\n",
              "      <td>9.093750</td>\n",
              "      <td>0.010002</td>\n",
              "      <td>0.000000</td>\n",
              "      <td>0.000000</td>\n",
              "      <td>0.000000</td>\n",
              "      <td>7.765625</td>\n",
              "      <td>0.00000</td>\n",
              "      <td>0.00000</td>\n",
              "      <td>0.000000</td>\n",
              "      <td>0.0000</td>\n",
              "      <td>4.644531</td>\n",
              "      <td>0.040009</td>\n",
              "      <td>20.625000</td>\n",
              "      <td>15.289062</td>\n",
              "      <td>19.875000</td>\n",
              "      <td>7.781250</td>\n",
              "      <td>2.970703</td>\n",
              "      <td>8.601562</td>\n",
              "      <td>10.796875</td>\n",
              "      <td>0.000000</td>\n",
              "      <td>0.000000</td>\n",
              "      <td>14.046875</td>\n",
              "      <td>1.0</td>\n",
              "      <td>...</td>\n",
              "      <td>0.0</td>\n",
              "      <td>0.0</td>\n",
              "      <td>0.0</td>\n",
              "      <td>0.0</td>\n",
              "      <td>0.0</td>\n",
              "      <td>0.0</td>\n",
              "      <td>0.0</td>\n",
              "      <td>0.0</td>\n",
              "      <td>0.0</td>\n",
              "      <td>0.0</td>\n",
              "      <td>0.0</td>\n",
              "      <td>0.0</td>\n",
              "      <td>0.0</td>\n",
              "      <td>0.0</td>\n",
              "      <td>0.0</td>\n",
              "      <td>0.0</td>\n",
              "      <td>0.0</td>\n",
              "      <td>0.0</td>\n",
              "      <td>0.0</td>\n",
              "      <td>0.0</td>\n",
              "      <td>0.0</td>\n",
              "      <td>0.0</td>\n",
              "      <td>0.0</td>\n",
              "      <td>0.0</td>\n",
              "      <td>0.0</td>\n",
              "      <td>0.0</td>\n",
              "      <td>0.0</td>\n",
              "      <td>0.0</td>\n",
              "      <td>0.0</td>\n",
              "      <td>0.0</td>\n",
              "      <td>0.0</td>\n",
              "      <td>0.0</td>\n",
              "      <td>0.0</td>\n",
              "      <td>0.0</td>\n",
              "      <td>0.0</td>\n",
              "      <td>0.0</td>\n",
              "      <td>0.0</td>\n",
              "      <td>1.0</td>\n",
              "      <td>0.0</td>\n",
              "      <td>NaN</td>\n",
              "    </tr>\n",
              "  </tbody>\n",
              "</table>\n",
              "<p>45716 rows × 956 columns</p>\n",
              "</div>"
            ],
            "text/plain": [
              "       category  parent_company  ...  fund_size_1  greatstone_rating\n",
              "0          42.0           387.0  ...          0.0                3.0\n",
              "1          42.0           149.0  ...          0.0                4.0\n",
              "2          43.0           372.0  ...          0.0                3.0\n",
              "3          90.0           529.0  ...          0.0                0.0\n",
              "4          13.0           679.0  ...          0.0                3.0\n",
              "...         ...             ...  ...          ...                ...\n",
              "24983       2.0           574.0  ...          0.0                NaN\n",
              "24992     107.0           223.0  ...          0.0                NaN\n",
              "24996     109.0            43.0  ...          0.0                NaN\n",
              "24998      51.0           475.0  ...          1.0                NaN\n",
              "24999      25.0           223.0  ...          0.0                NaN\n",
              "\n",
              "[45716 rows x 956 columns]"
            ]
          },
          "metadata": {
            "tags": []
          },
          "execution_count": 83
        }
      ]
    },
    {
      "cell_type": "code",
      "metadata": {
        "id": "9UUZfSkeH3vn",
        "colab_type": "code",
        "outputId": "a331503d-42cf-4c38-fb16-59a7e7512a31",
        "colab": {
          "base_uri": "https://localhost:8080/",
          "height": 66
        }
      },
      "source": [
        "col_int = data.drop(columns=['greatstone_rating'],axis=1).select_dtypes(exclude=('category','object')).columns\n",
        "col_id = ['tag','id','fund_id']\n",
        "col_tgt = ['greatstone_rating']\n",
        "col_cat = data.drop(columns=['greatstone_rating'],axis=1).select_dtypes(include=('category','object')).columns\n",
        "print(len(col_int)+len(col_id)+len(col_tgt)+len(col_cat))\n",
        "print('col_int :- ',len(col_int),'| col_cat :-',len(col_cat),'| col_id :-',len(col_id),'| col_tgt :-',len(col_tgt))\n",
        "print(col_cat)"
      ],
      "execution_count": 84,
      "outputs": [
        {
          "output_type": "stream",
          "text": [
            "959\n",
            "col_int :-  955 | col_cat :- 0 | col_id :- 3 | col_tgt :- 1\n",
            "Index([], dtype='object')\n"
          ],
          "name": "stdout"
        }
      ]
    },
    {
      "cell_type": "code",
      "metadata": {
        "id": "VZCiox0FHzG_",
        "colab_type": "code",
        "outputId": "425dcff9-bd40-4eec-a5ef-e2f7bee7bb30",
        "colab": {
          "base_uri": "https://localhost:8080/",
          "height": 456
        }
      },
      "source": [
        "data[col_int[:20]].info()"
      ],
      "execution_count": 85,
      "outputs": [
        {
          "output_type": "stream",
          "text": [
            "<class 'pandas.core.frame.DataFrame'>\n",
            "Int64Index: 45716 entries, 0 to 24999\n",
            "Data columns (total 20 columns):\n",
            " #   Column                                Non-Null Count  Dtype  \n",
            "---  ------                                --------------  -----  \n",
            " 0   category                              45716 non-null  float16\n",
            " 1   parent_company                        45716 non-null  float16\n",
            " 2   fund_ratio_net_annual_expense         45716 non-null  float16\n",
            " 3   pb_ratio                              45716 non-null  float16\n",
            " 4   ps_ratio                              45716 non-null  float16\n",
            " 5   mmc                                   45716 non-null  float32\n",
            " 6   pc_ratio                              45716 non-null  float16\n",
            " 7   pe_ratio                              45716 non-null  float16\n",
            " 8   10years_category_r_squared            45716 non-null  float16\n",
            " 9   10yrs_sharpe_ratio_fund               45716 non-null  float16\n",
            " 10  10_years_alpha_fund                   45716 non-null  float16\n",
            " 11  10years_fund_std                      45716 non-null  float16\n",
            " 12  10yrs_sharpe_ratio_category           45716 non-null  float16\n",
            " 13  10_years_beta_fund                    45716 non-null  float16\n",
            " 14  10yrs_treynor_ratio_fund              45716 non-null  float16\n",
            " 15  10_years_return_mean_annual_category  45716 non-null  float16\n",
            " 16  10yrs_treynor_ratio_category          45716 non-null  float16\n",
            " 17  10_years_return_fund                  45716 non-null  float16\n",
            " 18  10_years_beta_category                45716 non-null  float16\n",
            " 19  bb_rating                             45716 non-null  float16\n",
            "dtypes: float16(19), float32(1)\n",
            "memory usage: 2.2 MB\n"
          ],
          "name": "stdout"
        }
      ]
    },
    {
      "cell_type": "code",
      "metadata": {
        "id": "KH7Zz55Ep6_b",
        "colab_type": "code",
        "outputId": "794abb5d-47bc-4b84-cab3-f819be3526bb",
        "colab": {
          "base_uri": "https://localhost:8080/",
          "height": 33
        }
      },
      "source": [
        "data.isnull().sum().sum()"
      ],
      "execution_count": 86,
      "outputs": [
        {
          "output_type": "execute_result",
          "data": {
            "text/plain": [
              "5000"
            ]
          },
          "metadata": {
            "tags": []
          },
          "execution_count": 86
        }
      ]
    },
    {
      "cell_type": "code",
      "metadata": {
        "id": "87_qKY39Mj0l",
        "colab_type": "code",
        "colab": {
          "base_uri": "https://localhost:8080/",
          "height": 66
        },
        "outputId": "2412df96-16ad-4cff-85e4-83a0fca05164"
      },
      "source": [
        "################## CHECKING and Removing THE highly   ***** CORRELATED COLUMNS ******  ###################################################\n",
        "correlated_features = set()\n",
        "correlation_matrix = data[col_int].corr()\n",
        "\n",
        "for i in range(len(correlation_matrix.columns)):\n",
        "    for j in range(i):\n",
        "        if abs(correlation_matrix.iloc[i, j]) > 0.8:\n",
        "            colname = correlation_matrix.columns[i]\n",
        "            correlated_features.add(colname)\n",
        "\n",
        "print(len(correlated_features))\n",
        "print(correlated_features)\n",
        "\n",
        "data.drop(columns=correlated_features,axis=1,inplace=True)\n",
        "\n",
        "print(data.shape)"
      ],
      "execution_count": 87,
      "outputs": [
        {
          "output_type": "stream",
          "text": [
            "1\n",
            "{'fund_beta_3years'}\n",
            "(45716, 955)\n"
          ],
          "name": "stdout"
        }
      ]
    },
    {
      "cell_type": "code",
      "metadata": {
        "id": "cChV07_MWv5v",
        "colab_type": "code",
        "colab": {
          "base_uri": "https://localhost:8080/",
          "height": 66
        },
        "outputId": "eafac87f-4eb9-4194-fcab-b45486f6cdd1"
      },
      "source": [
        "col_int = data.drop(columns=['greatstone_rating'],axis=1).select_dtypes(exclude=('category','object')).columns\n",
        "col_id = ['tag','id','fund_id']\n",
        "col_tgt = ['greatstone_rating']\n",
        "col_cat = data.drop(columns=['greatstone_rating'],axis=1).select_dtypes(include=('category','object')).columns\n",
        "print(len(col_int)+len(col_id)+len(col_tgt)+len(col_cat))\n",
        "print('col_int :- ',len(col_int),'| col_cat :-',len(col_cat),'| col_id :-',len(col_id),'| col_tgt :-',len(col_tgt))\n",
        "print(col_cat)"
      ],
      "execution_count": 88,
      "outputs": [
        {
          "output_type": "stream",
          "text": [
            "958\n",
            "col_int :-  954 | col_cat :- 0 | col_id :- 3 | col_tgt :- 1\n",
            "Index([], dtype='object')\n"
          ],
          "name": "stdout"
        }
      ]
    },
    {
      "cell_type": "code",
      "metadata": {
        "id": "w-FZjlHJEoKP",
        "colab_type": "code",
        "colab": {}
      },
      "source": [
        "data.to_csv('/gdrive/My Drive/Hackathon/GREATLEARNING-APRIL/FeatureEngineering/data.csv',index=False)\n",
        "data_tst_ids.to_csv('/gdrive/My Drive/Hackathon/GREATLEARNING-APRIL/FeatureSelection/data_tst_ids.csv',index=False)"
      ],
      "execution_count": 0,
      "outputs": []
    },
    {
      "cell_type": "code",
      "metadata": {
        "id": "5tgveSpMEoHg",
        "colab_type": "code",
        "outputId": "560d4cdc-5afe-4984-ea6a-3e0f08e4d38e",
        "colab": {
          "base_uri": "https://localhost:8080/",
          "height": 33
        }
      },
      "source": [
        "import pytz\n",
        "from datetime import datetime\n",
        "# assuming now contains a timezone aware datetime\n",
        "now = datetime.now()\n",
        "tz = pytz.timezone('Asia/Kolkata')\n",
        "your_now = now.astimezone(tz)\n",
        "print (your_now)"
      ],
      "execution_count": 90,
      "outputs": [
        {
          "output_type": "stream",
          "text": [
            "2020-05-11 00:08:53.530734+05:30\n"
          ],
          "name": "stdout"
        }
      ]
    },
    {
      "cell_type": "code",
      "metadata": {
        "id": "8W1K2ymlg2pX",
        "colab_type": "code",
        "colab": {}
      },
      "source": [
        ""
      ],
      "execution_count": 0,
      "outputs": []
    }
  ]
}