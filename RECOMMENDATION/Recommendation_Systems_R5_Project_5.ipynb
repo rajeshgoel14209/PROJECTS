{
  "nbformat": 4,
  "nbformat_minor": 0,
  "metadata": {
    "colab": {
      "name": "Recommendation Systems_R5_Project-5.ipynb",
      "provenance": [],
      "collapsed_sections": [],
      "machine_shape": "hm"
    },
    "kernelspec": {
      "name": "python3",
      "display_name": "Python 3"
    }
  },
  "cells": [
    {
      "cell_type": "code",
      "metadata": {
        "id": "VFVVJX_hk5wm",
        "colab_type": "code",
        "outputId": "b8b93ffd-4fa6-40a1-95ab-74051a6ed4cf",
        "colab": {
          "base_uri": "https://localhost:8080/",
          "height": 54
        }
      },
      "source": [
        "'''\n",
        "Steps -\n",
        "1. Read and explore the given dataset. ( Rename column/add headers, plot histograms,find data characteristics)\n",
        "2. Take a subset of the dataset to make it less sparse/ denser. ( For example, keep the users only who has given 50 or more number of ratings )\n",
        "3. Split the data randomly into train and test dataset. ( For example, split it in 70/30 ratio)\n",
        "4. Build Popularity Recommender model.\n",
        "5. Build Collaborative Filtering model.\n",
        "6. Evaluate both the models. ( Once the model is trained on the training data, it can be used to compute the error (like RMSE) on predictions made on the test data.) You can\n",
        "also use a different method to evaluate the models.\n",
        "7. Get top - K ( K = 5) recommendations. Since our goal is to recommend new products to each user based on his/her habits, we will recommend 5 new products.\n",
        "8. Summarise your insights.\n",
        "'''"
      ],
      "execution_count": 1,
      "outputs": [
        {
          "output_type": "execute_result",
          "data": {
            "text/plain": [
              "'\\nSteps -\\n1. Read and explore the given dataset. ( Rename column/add headers, plot histograms,find data characteristics)\\n2. Take a subset of the dataset to make it less sparse/ denser. ( For example, keep the users only who has given 50 or more number of ratings )\\n3. Split the data randomly into train and test dataset. ( For example, split it in 70/30 ratio)\\n4. Build Popularity Recommender model.\\n5. Build Collaborative Filtering model.\\n6. Evaluate both the models. ( Once the model is trained on the training data, it can be used to compute the error (like RMSE) on predictions made on the test data.) You can\\nalso use a different method to evaluate the models.\\n7. Get top - K ( K = 5) recommendations. Since our goal is to recommend new products to each user based on his/her habits, we will recommend 5 new products.\\n8. Summarise your insights.\\n'"
            ]
          },
          "metadata": {
            "tags": []
          },
          "execution_count": 1
        }
      ]
    },
    {
      "cell_type": "code",
      "metadata": {
        "id": "3C7wlGP0iuNJ",
        "colab_type": "code",
        "colab": {}
      },
      "source": [
        "import numpy as np\n",
        "import pandas as pd\n",
        "import matplotlib.pyplot as plt\n",
        "import seaborn as sns\n",
        "import io\n",
        "from datetime import datetime\n",
        "import time"
      ],
      "execution_count": 0,
      "outputs": []
    },
    {
      "cell_type": "code",
      "metadata": {
        "id": "5zwzsy3h5gqO",
        "colab_type": "code",
        "colab": {}
      },
      "source": [
        "from google.colab import drive"
      ],
      "execution_count": 0,
      "outputs": []
    },
    {
      "cell_type": "code",
      "metadata": {
        "id": "GIrG4gjU9roo",
        "colab_type": "code",
        "outputId": "f49580f5-a897-4abb-d594-117ccfa1ddab",
        "colab": {
          "base_uri": "https://localhost:8080/",
          "height": 125
        }
      },
      "source": [
        "drive.mount('/content/drive')"
      ],
      "execution_count": 4,
      "outputs": [
        {
          "output_type": "stream",
          "text": [
            "Go to this URL in a browser: https://accounts.google.com/o/oauth2/auth?client_id=947318989803-6bn6qk8qdgf4n4g3pfee6491hc0brc4i.apps.googleusercontent.com&redirect_uri=urn%3aietf%3awg%3aoauth%3a2.0%3aoob&response_type=code&scope=email%20https%3a%2f%2fwww.googleapis.com%2fauth%2fdocs.test%20https%3a%2f%2fwww.googleapis.com%2fauth%2fdrive%20https%3a%2f%2fwww.googleapis.com%2fauth%2fdrive.photos.readonly%20https%3a%2f%2fwww.googleapis.com%2fauth%2fpeopleapi.readonly\n",
            "\n",
            "Enter your authorization code:\n",
            "··········\n",
            "Mounted at /content/drive\n"
          ],
          "name": "stdout"
        }
      ]
    },
    {
      "cell_type": "code",
      "metadata": {
        "id": "AD_W8Jo7HRWf",
        "colab_type": "code",
        "colab": {}
      },
      "source": [
        "df_raw = pd.read_csv('/content/drive/My Drive/ratings_Electronics.csv',names=['userId', 'productId','ratings','timestamp'])"
      ],
      "execution_count": 0,
      "outputs": []
    },
    {
      "cell_type": "code",
      "metadata": {
        "id": "_1JGGmnEEdTc",
        "colab_type": "code",
        "outputId": "30ae889e-9dfd-4294-cb82-0e795302e85c",
        "colab": {
          "base_uri": "https://localhost:8080/",
          "height": 34
        }
      },
      "source": [
        "df_raw.shape"
      ],
      "execution_count": 6,
      "outputs": [
        {
          "output_type": "execute_result",
          "data": {
            "text/plain": [
              "(7824482, 4)"
            ]
          },
          "metadata": {
            "tags": []
          },
          "execution_count": 6
        }
      ]
    },
    {
      "cell_type": "code",
      "metadata": {
        "id": "ijcfmuS9ElEX",
        "colab_type": "code",
        "outputId": "8f82fb63-c199-4c87-a0b4-787384cc5a5b",
        "colab": {
          "base_uri": "https://localhost:8080/",
          "height": 34
        }
      },
      "source": [
        "ratings_Electronics_200K = df_raw.head(200000)\n",
        "ratings_Electronics_200K.shape"
      ],
      "execution_count": 7,
      "outputs": [
        {
          "output_type": "execute_result",
          "data": {
            "text/plain": [
              "(200000, 4)"
            ]
          },
          "metadata": {
            "tags": []
          },
          "execution_count": 7
        }
      ]
    },
    {
      "cell_type": "code",
      "metadata": {
        "id": "GGOr9sYNARVd",
        "colab_type": "code",
        "colab": {}
      },
      "source": [
        "df = ratings_Electronics_200K.copy(deep=True)"
      ],
      "execution_count": 0,
      "outputs": []
    },
    {
      "cell_type": "code",
      "metadata": {
        "id": "hCIyriP49riq",
        "colab_type": "code",
        "outputId": "a4e9948a-fbfa-407c-9a34-2b954174dcfe",
        "colab": {
          "base_uri": "https://localhost:8080/",
          "height": 197
        }
      },
      "source": [
        "df.head()"
      ],
      "execution_count": 9,
      "outputs": [
        {
          "output_type": "execute_result",
          "data": {
            "text/html": [
              "<div>\n",
              "<style scoped>\n",
              "    .dataframe tbody tr th:only-of-type {\n",
              "        vertical-align: middle;\n",
              "    }\n",
              "\n",
              "    .dataframe tbody tr th {\n",
              "        vertical-align: top;\n",
              "    }\n",
              "\n",
              "    .dataframe thead th {\n",
              "        text-align: right;\n",
              "    }\n",
              "</style>\n",
              "<table border=\"1\" class=\"dataframe\">\n",
              "  <thead>\n",
              "    <tr style=\"text-align: right;\">\n",
              "      <th></th>\n",
              "      <th>userId</th>\n",
              "      <th>productId</th>\n",
              "      <th>ratings</th>\n",
              "      <th>timestamp</th>\n",
              "    </tr>\n",
              "  </thead>\n",
              "  <tbody>\n",
              "    <tr>\n",
              "      <th>0</th>\n",
              "      <td>AKM1MP6P0OYPR</td>\n",
              "      <td>0132793040</td>\n",
              "      <td>5.0</td>\n",
              "      <td>1365811200</td>\n",
              "    </tr>\n",
              "    <tr>\n",
              "      <th>1</th>\n",
              "      <td>A2CX7LUOHB2NDG</td>\n",
              "      <td>0321732944</td>\n",
              "      <td>5.0</td>\n",
              "      <td>1341100800</td>\n",
              "    </tr>\n",
              "    <tr>\n",
              "      <th>2</th>\n",
              "      <td>A2NWSAGRHCP8N5</td>\n",
              "      <td>0439886341</td>\n",
              "      <td>1.0</td>\n",
              "      <td>1367193600</td>\n",
              "    </tr>\n",
              "    <tr>\n",
              "      <th>3</th>\n",
              "      <td>A2WNBOD3WNDNKT</td>\n",
              "      <td>0439886341</td>\n",
              "      <td>3.0</td>\n",
              "      <td>1374451200</td>\n",
              "    </tr>\n",
              "    <tr>\n",
              "      <th>4</th>\n",
              "      <td>A1GI0U4ZRJA8WN</td>\n",
              "      <td>0439886341</td>\n",
              "      <td>1.0</td>\n",
              "      <td>1334707200</td>\n",
              "    </tr>\n",
              "  </tbody>\n",
              "</table>\n",
              "</div>"
            ],
            "text/plain": [
              "           userId   productId  ratings   timestamp\n",
              "0   AKM1MP6P0OYPR  0132793040      5.0  1365811200\n",
              "1  A2CX7LUOHB2NDG  0321732944      5.0  1341100800\n",
              "2  A2NWSAGRHCP8N5  0439886341      1.0  1367193600\n",
              "3  A2WNBOD3WNDNKT  0439886341      3.0  1374451200\n",
              "4  A1GI0U4ZRJA8WN  0439886341      1.0  1334707200"
            ]
          },
          "metadata": {
            "tags": []
          },
          "execution_count": 9
        }
      ]
    },
    {
      "cell_type": "code",
      "metadata": {
        "id": "eN4DnXbDRbWA",
        "colab_type": "code",
        "colab": {}
      },
      "source": [
        "df.drop(columns=['timestamp'],inplace=True)"
      ],
      "execution_count": 0,
      "outputs": []
    },
    {
      "cell_type": "code",
      "metadata": {
        "id": "qcUw0KcQR9lD",
        "colab_type": "code",
        "outputId": "9ff2d543-6f99-44bf-c2f0-7789df81d0d7",
        "colab": {
          "base_uri": "https://localhost:8080/",
          "height": 167
        }
      },
      "source": [
        "df.head(4)"
      ],
      "execution_count": 11,
      "outputs": [
        {
          "output_type": "execute_result",
          "data": {
            "text/html": [
              "<div>\n",
              "<style scoped>\n",
              "    .dataframe tbody tr th:only-of-type {\n",
              "        vertical-align: middle;\n",
              "    }\n",
              "\n",
              "    .dataframe tbody tr th {\n",
              "        vertical-align: top;\n",
              "    }\n",
              "\n",
              "    .dataframe thead th {\n",
              "        text-align: right;\n",
              "    }\n",
              "</style>\n",
              "<table border=\"1\" class=\"dataframe\">\n",
              "  <thead>\n",
              "    <tr style=\"text-align: right;\">\n",
              "      <th></th>\n",
              "      <th>userId</th>\n",
              "      <th>productId</th>\n",
              "      <th>ratings</th>\n",
              "    </tr>\n",
              "  </thead>\n",
              "  <tbody>\n",
              "    <tr>\n",
              "      <th>0</th>\n",
              "      <td>AKM1MP6P0OYPR</td>\n",
              "      <td>0132793040</td>\n",
              "      <td>5.0</td>\n",
              "    </tr>\n",
              "    <tr>\n",
              "      <th>1</th>\n",
              "      <td>A2CX7LUOHB2NDG</td>\n",
              "      <td>0321732944</td>\n",
              "      <td>5.0</td>\n",
              "    </tr>\n",
              "    <tr>\n",
              "      <th>2</th>\n",
              "      <td>A2NWSAGRHCP8N5</td>\n",
              "      <td>0439886341</td>\n",
              "      <td>1.0</td>\n",
              "    </tr>\n",
              "    <tr>\n",
              "      <th>3</th>\n",
              "      <td>A2WNBOD3WNDNKT</td>\n",
              "      <td>0439886341</td>\n",
              "      <td>3.0</td>\n",
              "    </tr>\n",
              "  </tbody>\n",
              "</table>\n",
              "</div>"
            ],
            "text/plain": [
              "           userId   productId  ratings\n",
              "0   AKM1MP6P0OYPR  0132793040      5.0\n",
              "1  A2CX7LUOHB2NDG  0321732944      5.0\n",
              "2  A2NWSAGRHCP8N5  0439886341      1.0\n",
              "3  A2WNBOD3WNDNKT  0439886341      3.0"
            ]
          },
          "metadata": {
            "tags": []
          },
          "execution_count": 11
        }
      ]
    },
    {
      "cell_type": "code",
      "metadata": {
        "id": "G2F3P3fGGRu-",
        "colab_type": "code",
        "outputId": "e6080530-19b1-47e0-c069-2b69bf709932",
        "colab": {
          "base_uri": "https://localhost:8080/",
          "height": 34
        }
      },
      "source": [
        "df.shape"
      ],
      "execution_count": 12,
      "outputs": [
        {
          "output_type": "execute_result",
          "data": {
            "text/plain": [
              "(200000, 3)"
            ]
          },
          "metadata": {
            "tags": []
          },
          "execution_count": 12
        }
      ]
    },
    {
      "cell_type": "code",
      "metadata": {
        "id": "vRurOKJtMnY1",
        "colab_type": "code",
        "colab": {}
      },
      "source": [
        "####################################################  EDA ##################################################"
      ],
      "execution_count": 0,
      "outputs": []
    },
    {
      "cell_type": "code",
      "metadata": {
        "id": "I8vOwrrAdHRF",
        "colab_type": "code",
        "colab": {}
      },
      "source": [
        "# Number of ratings per book\n",
        "data = df.groupby('productId')['ratings'].count().clip(upper=50)# Number of ratings per book\n",
        "data = df.groupby('productId')['ratings'].count().clip(upper=50)"
      ],
      "execution_count": 0,
      "outputs": []
    },
    {
      "cell_type": "code",
      "metadata": {
        "id": "OIcxc7MXdMLT",
        "colab_type": "code",
        "outputId": "546d8630-6378-4a62-d5e9-1b674764cb5d",
        "colab": {
          "base_uri": "https://localhost:8080/",
          "height": 264
        }
      },
      "source": [
        "\n",
        "# Create trace\n",
        "trace = plt.hist(x = data.values)"
      ],
      "execution_count": 15,
      "outputs": [
        {
          "output_type": "display_data",
          "data": {
            "image/png": "[encoded data removed]",
            "text/plain": [
              "<Figure size 432x288 with 1 Axes>"
            ]
          },
          "metadata": {
            "tags": []
          }
        }
      ]
    },
    {
      "cell_type": "code",
      "metadata": {
        "id": "cREEFsrreNx2",
        "colab_type": "code",
        "colab": {}
      },
      "source": [
        "\n",
        "# Number of ratings per book\n",
        "data = df.groupby('userId')['productId'].count().clip(upper=50)"
      ],
      "execution_count": 0,
      "outputs": []
    },
    {
      "cell_type": "code",
      "metadata": {
        "id": "aoVKmZjjeJO8",
        "colab_type": "code",
        "outputId": "7c9e2c76-b579-4083-ea07-8ff5efbef60f",
        "colab": {
          "base_uri": "https://localhost:8080/",
          "height": 264
        }
      },
      "source": [
        "\n",
        "# Create trace\n",
        "trace = plt.hist(x = data.values)"
      ],
      "execution_count": 17,
      "outputs": [
        {
          "output_type": "display_data",
          "data": {
            "image/png": "[encoded data removed]",
            "text/plain": [
              "<Figure size 432x288 with 1 Axes>"
            ]
          },
          "metadata": {
            "tags": []
          }
        }
      ]
    },
    {
      "cell_type": "code",
      "metadata": {
        "id": "oPFBBXQoMqJ_",
        "colab_type": "code",
        "outputId": "5c76ff94-7f95-4439-ed83-1586dd51c4dd",
        "colab": {
          "base_uri": "https://localhost:8080/",
          "height": 158
        }
      },
      "source": [
        "df.info()"
      ],
      "execution_count": 18,
      "outputs": [
        {
          "output_type": "stream",
          "text": [
            "<class 'pandas.core.frame.DataFrame'>\n",
            "RangeIndex: 200000 entries, 0 to 199999\n",
            "Data columns (total 3 columns):\n",
            "userId       200000 non-null object\n",
            "productId    200000 non-null object\n",
            "ratings      200000 non-null float64\n",
            "dtypes: float64(1), object(2)\n",
            "memory usage: 4.6+ MB\n"
          ],
          "name": "stdout"
        }
      ]
    },
    {
      "cell_type": "code",
      "metadata": {
        "id": "gNEitWy-MqYi",
        "colab_type": "code",
        "outputId": "ba194fc6-0adb-49f3-c2d5-b1a940c972d4",
        "colab": {
          "base_uri": "https://localhost:8080/",
          "height": 34
        }
      },
      "source": [
        "df.shape[0]"
      ],
      "execution_count": 19,
      "outputs": [
        {
          "output_type": "execute_result",
          "data": {
            "text/plain": [
              "200000"
            ]
          },
          "metadata": {
            "tags": []
          },
          "execution_count": 19
        }
      ]
    },
    {
      "cell_type": "code",
      "metadata": {
        "id": "Bs22Pzm7Mqe8",
        "colab_type": "code",
        "outputId": "8ec36263-24e5-4300-eda1-8f6f60c124b4",
        "colab": {
          "base_uri": "https://localhost:8080/",
          "height": 77
        }
      },
      "source": [
        "df.describe().transpose()"
      ],
      "execution_count": 20,
      "outputs": [
        {
          "output_type": "execute_result",
          "data": {
            "text/html": [
              "<div>\n",
              "<style scoped>\n",
              "    .dataframe tbody tr th:only-of-type {\n",
              "        vertical-align: middle;\n",
              "    }\n",
              "\n",
              "    .dataframe tbody tr th {\n",
              "        vertical-align: top;\n",
              "    }\n",
              "\n",
              "    .dataframe thead th {\n",
              "        text-align: right;\n",
              "    }\n",
              "</style>\n",
              "<table border=\"1\" class=\"dataframe\">\n",
              "  <thead>\n",
              "    <tr style=\"text-align: right;\">\n",
              "      <th></th>\n",
              "      <th>count</th>\n",
              "      <th>mean</th>\n",
              "      <th>std</th>\n",
              "      <th>min</th>\n",
              "      <th>25%</th>\n",
              "      <th>50%</th>\n",
              "      <th>75%</th>\n",
              "      <th>max</th>\n",
              "    </tr>\n",
              "  </thead>\n",
              "  <tbody>\n",
              "    <tr>\n",
              "      <th>ratings</th>\n",
              "      <td>200000.0</td>\n",
              "      <td>4.013895</td>\n",
              "      <td>1.373682</td>\n",
              "      <td>1.0</td>\n",
              "      <td>3.0</td>\n",
              "      <td>5.0</td>\n",
              "      <td>5.0</td>\n",
              "      <td>5.0</td>\n",
              "    </tr>\n",
              "  </tbody>\n",
              "</table>\n",
              "</div>"
            ],
            "text/plain": [
              "            count      mean       std  min  25%  50%  75%  max\n",
              "ratings  200000.0  4.013895  1.373682  1.0  3.0  5.0  5.0  5.0"
            ]
          },
          "metadata": {
            "tags": []
          },
          "execution_count": 20
        }
      ]
    },
    {
      "cell_type": "code",
      "metadata": {
        "id": "ymks5n0EMqiz",
        "colab_type": "code",
        "outputId": "b7d24836-e853-4cdd-c2a3-b81f67a5ac58",
        "colab": {
          "base_uri": "https://localhost:8080/",
          "height": 87
        }
      },
      "source": [
        "df.isnull().sum()"
      ],
      "execution_count": 21,
      "outputs": [
        {
          "output_type": "execute_result",
          "data": {
            "text/plain": [
              "userId       0\n",
              "productId    0\n",
              "ratings      0\n",
              "dtype: int64"
            ]
          },
          "metadata": {
            "tags": []
          },
          "execution_count": 21
        }
      ]
    },
    {
      "cell_type": "code",
      "metadata": {
        "id": "Y30TEBM6mTYP",
        "colab_type": "code",
        "outputId": "7b318d08-19c7-456d-8108-48af048871f5",
        "colab": {
          "base_uri": "https://localhost:8080/",
          "height": 34
        }
      },
      "source": [
        "print(df['userId'].nunique())"
      ],
      "execution_count": 22,
      "outputs": [
        {
          "output_type": "stream",
          "text": [
            "173349\n"
          ],
          "name": "stdout"
        }
      ]
    },
    {
      "cell_type": "code",
      "metadata": {
        "id": "MPZt1j0rmUQE",
        "colab_type": "code",
        "outputId": "23bc6da1-f37d-401a-ed4a-416ce7c7a449",
        "colab": {
          "base_uri": "https://localhost:8080/",
          "height": 34
        }
      },
      "source": [
        "print(df['productId'].nunique())"
      ],
      "execution_count": 23,
      "outputs": [
        {
          "output_type": "stream",
          "text": [
            "13131\n"
          ],
          "name": "stdout"
        }
      ]
    },
    {
      "cell_type": "code",
      "metadata": {
        "id": "bR25aIVadJtm",
        "colab_type": "code",
        "colab": {}
      },
      "source": [
        "\n",
        " ##                          P O P U L A R I T Y                  B A S E D                           R E C O M E N D A T I O N \n"
      ],
      "execution_count": 0,
      "outputs": []
    },
    {
      "cell_type": "code",
      "metadata": {
        "id": "fpSdZy8-Mqci",
        "colab_type": "code",
        "colab": {}
      },
      "source": [
        "product_unique_count = df.productId.value_counts().to_frame()"
      ],
      "execution_count": 0,
      "outputs": []
    },
    {
      "cell_type": "code",
      "metadata": {
        "id": "N28yc1nsQwsp",
        "colab_type": "code",
        "colab": {}
      },
      "source": [
        "product_unique_count.reset_index(inplace=True)\n"
      ],
      "execution_count": 0,
      "outputs": []
    },
    {
      "cell_type": "code",
      "metadata": {
        "id": "NKiDvQiWRRQ4",
        "colab_type": "code",
        "outputId": "3c8685ec-7f19-4bc0-95aa-bff027c22f92",
        "colab": {
          "base_uri": "https://localhost:8080/",
          "height": 197
        }
      },
      "source": [
        "product_unique_count.head(5)"
      ],
      "execution_count": 26,
      "outputs": [
        {
          "output_type": "execute_result",
          "data": {
            "text/html": [
              "<div>\n",
              "<style scoped>\n",
              "    .dataframe tbody tr th:only-of-type {\n",
              "        vertical-align: middle;\n",
              "    }\n",
              "\n",
              "    .dataframe tbody tr th {\n",
              "        vertical-align: top;\n",
              "    }\n",
              "\n",
              "    .dataframe thead th {\n",
              "        text-align: right;\n",
              "    }\n",
              "</style>\n",
              "<table border=\"1\" class=\"dataframe\">\n",
              "  <thead>\n",
              "    <tr style=\"text-align: right;\">\n",
              "      <th></th>\n",
              "      <th>index</th>\n",
              "      <th>productId</th>\n",
              "    </tr>\n",
              "  </thead>\n",
              "  <tbody>\n",
              "    <tr>\n",
              "      <th>0</th>\n",
              "      <td>B00004ZCJE</td>\n",
              "      <td>2547</td>\n",
              "    </tr>\n",
              "    <tr>\n",
              "      <th>1</th>\n",
              "      <td>B00001P4ZH</td>\n",
              "      <td>2075</td>\n",
              "    </tr>\n",
              "    <tr>\n",
              "      <th>2</th>\n",
              "      <td>B000065BP9</td>\n",
              "      <td>1714</td>\n",
              "    </tr>\n",
              "    <tr>\n",
              "      <th>3</th>\n",
              "      <td>B00004T8R2</td>\n",
              "      <td>1692</td>\n",
              "    </tr>\n",
              "    <tr>\n",
              "      <th>4</th>\n",
              "      <td>B00001WRSJ</td>\n",
              "      <td>1586</td>\n",
              "    </tr>\n",
              "  </tbody>\n",
              "</table>\n",
              "</div>"
            ],
            "text/plain": [
              "        index  productId\n",
              "0  B00004ZCJE       2547\n",
              "1  B00001P4ZH       2075\n",
              "2  B000065BP9       1714\n",
              "3  B00004T8R2       1692\n",
              "4  B00001WRSJ       1586"
            ]
          },
          "metadata": {
            "tags": []
          },
          "execution_count": 26
        }
      ]
    },
    {
      "cell_type": "code",
      "metadata": {
        "id": "D3tFUoWYFSZA",
        "colab_type": "code",
        "colab": {}
      },
      "source": [
        "##### We want to know which pruduct are sold most as sold_count"
      ],
      "execution_count": 0,
      "outputs": []
    },
    {
      "cell_type": "code",
      "metadata": {
        "id": "mAUEREGgRVZk",
        "colab_type": "code",
        "colab": {}
      },
      "source": [
        "product_unique_count.rename(columns={'index':'productId','productId':'sold_count'},inplace=True)"
      ],
      "execution_count": 0,
      "outputs": []
    },
    {
      "cell_type": "code",
      "metadata": {
        "id": "WGS3Q1IbdhLk",
        "colab_type": "code",
        "colab": {}
      },
      "source": [
        "product_unique_count = product_unique_count.sort_values(by='productId',ascending=False)"
      ],
      "execution_count": 0,
      "outputs": []
    },
    {
      "cell_type": "code",
      "metadata": {
        "id": "AyUNvw9keIRb",
        "colab_type": "code",
        "outputId": "1fcdfb86-5350-4708-99c5-f6aa0c332d8c",
        "colab": {
          "base_uri": "https://localhost:8080/",
          "height": 197
        }
      },
      "source": [
        "product_unique_count.head()"
      ],
      "execution_count": 30,
      "outputs": [
        {
          "output_type": "execute_result",
          "data": {
            "text/html": [
              "<div>\n",
              "<style scoped>\n",
              "    .dataframe tbody tr th:only-of-type {\n",
              "        vertical-align: middle;\n",
              "    }\n",
              "\n",
              "    .dataframe tbody tr th {\n",
              "        vertical-align: top;\n",
              "    }\n",
              "\n",
              "    .dataframe thead th {\n",
              "        text-align: right;\n",
              "    }\n",
              "</style>\n",
              "<table border=\"1\" class=\"dataframe\">\n",
              "  <thead>\n",
              "    <tr style=\"text-align: right;\">\n",
              "      <th></th>\n",
              "      <th>productId</th>\n",
              "      <th>sold_count</th>\n",
              "    </tr>\n",
              "  </thead>\n",
              "  <tbody>\n",
              "    <tr>\n",
              "      <th>60</th>\n",
              "      <td>B00006JN3G</td>\n",
              "      <td>389</td>\n",
              "    </tr>\n",
              "    <tr>\n",
              "      <th>2349</th>\n",
              "      <td>B00006JN2R</td>\n",
              "      <td>14</td>\n",
              "    </tr>\n",
              "    <tr>\n",
              "      <th>6359</th>\n",
              "      <td>B00006JM74</td>\n",
              "      <td>3</td>\n",
              "    </tr>\n",
              "    <tr>\n",
              "      <th>8954</th>\n",
              "      <td>B00006JM73</td>\n",
              "      <td>2</td>\n",
              "    </tr>\n",
              "    <tr>\n",
              "      <th>7382</th>\n",
              "      <td>B00006JM72</td>\n",
              "      <td>3</td>\n",
              "    </tr>\n",
              "  </tbody>\n",
              "</table>\n",
              "</div>"
            ],
            "text/plain": [
              "       productId  sold_count\n",
              "60    B00006JN3G         389\n",
              "2349  B00006JN2R          14\n",
              "6359  B00006JM74           3\n",
              "8954  B00006JM73           2\n",
              "7382  B00006JM72           3"
            ]
          },
          "metadata": {
            "tags": []
          },
          "execution_count": 30
        }
      ]
    },
    {
      "cell_type": "code",
      "metadata": {
        "id": "lXi8b6riSKuw",
        "colab_type": "code",
        "outputId": "afdb13b5-03a6-472f-fe6c-f17a988d3eab",
        "colab": {
          "base_uri": "https://localhost:8080/",
          "height": 34
        }
      },
      "source": [
        "product_unique_count.sold_count.sum()"
      ],
      "execution_count": 31,
      "outputs": [
        {
          "output_type": "execute_result",
          "data": {
            "text/plain": [
              "200000"
            ]
          },
          "metadata": {
            "tags": []
          },
          "execution_count": 31
        }
      ]
    },
    {
      "cell_type": "code",
      "metadata": {
        "id": "oDHZRFkRdmMG",
        "colab_type": "code",
        "colab": {}
      },
      "source": [
        "####################### CHECKING FOR THE AVERAGE RATINGS ###################################"
      ],
      "execution_count": 0,
      "outputs": []
    },
    {
      "cell_type": "code",
      "metadata": {
        "id": "-IDqkBQmX_yC",
        "colab_type": "code",
        "outputId": "3325e632-b034-4347-daf3-48c945339d90",
        "colab": {
          "base_uri": "https://localhost:8080/",
          "height": 406
        }
      },
      "source": [
        "product_unique_count[(product_unique_count.sold_count==7)==True]"
      ],
      "execution_count": 33,
      "outputs": [
        {
          "output_type": "execute_result",
          "data": {
            "text/html": [
              "<div>\n",
              "<style scoped>\n",
              "    .dataframe tbody tr th:only-of-type {\n",
              "        vertical-align: middle;\n",
              "    }\n",
              "\n",
              "    .dataframe tbody tr th {\n",
              "        vertical-align: top;\n",
              "    }\n",
              "\n",
              "    .dataframe thead th {\n",
              "        text-align: right;\n",
              "    }\n",
              "</style>\n",
              "<table border=\"1\" class=\"dataframe\">\n",
              "  <thead>\n",
              "    <tr style=\"text-align: right;\">\n",
              "      <th></th>\n",
              "      <th>productId</th>\n",
              "      <th>sold_count</th>\n",
              "    </tr>\n",
              "  </thead>\n",
              "  <tbody>\n",
              "    <tr>\n",
              "      <th>3964</th>\n",
              "      <td>B00006JJPP</td>\n",
              "      <td>7</td>\n",
              "    </tr>\n",
              "    <tr>\n",
              "      <th>3926</th>\n",
              "      <td>B00006JHYW</td>\n",
              "      <td>7</td>\n",
              "    </tr>\n",
              "    <tr>\n",
              "      <th>3819</th>\n",
              "      <td>B00006JBKN</td>\n",
              "      <td>7</td>\n",
              "    </tr>\n",
              "    <tr>\n",
              "      <th>3921</th>\n",
              "      <td>B00006J09F</td>\n",
              "      <td>7</td>\n",
              "    </tr>\n",
              "    <tr>\n",
              "      <th>3870</th>\n",
              "      <td>B00006IS63</td>\n",
              "      <td>7</td>\n",
              "    </tr>\n",
              "    <tr>\n",
              "      <th>...</th>\n",
              "      <td>...</td>\n",
              "      <td>...</td>\n",
              "    </tr>\n",
              "    <tr>\n",
              "      <th>3900</th>\n",
              "      <td>9985558065</td>\n",
              "      <td>7</td>\n",
              "    </tr>\n",
              "    <tr>\n",
              "      <th>4009</th>\n",
              "      <td>9981724742</td>\n",
              "      <td>7</td>\n",
              "    </tr>\n",
              "    <tr>\n",
              "      <th>4058</th>\n",
              "      <td>9876050621</td>\n",
              "      <td>7</td>\n",
              "    </tr>\n",
              "    <tr>\n",
              "      <th>3700</th>\n",
              "      <td>6000008775</td>\n",
              "      <td>7</td>\n",
              "    </tr>\n",
              "    <tr>\n",
              "      <th>3800</th>\n",
              "      <td>1615513388</td>\n",
              "      <td>7</td>\n",
              "    </tr>\n",
              "  </tbody>\n",
              "</table>\n",
              "<p>402 rows × 2 columns</p>\n",
              "</div>"
            ],
            "text/plain": [
              "       productId  sold_count\n",
              "3964  B00006JJPP           7\n",
              "3926  B00006JHYW           7\n",
              "3819  B00006JBKN           7\n",
              "3921  B00006J09F           7\n",
              "3870  B00006IS63           7\n",
              "...          ...         ...\n",
              "3900  9985558065           7\n",
              "4009  9981724742           7\n",
              "4058  9876050621           7\n",
              "3700  6000008775           7\n",
              "3800  1615513388           7\n",
              "\n",
              "[402 rows x 2 columns]"
            ]
          },
          "metadata": {
            "tags": []
          },
          "execution_count": 33
        }
      ]
    },
    {
      "cell_type": "code",
      "metadata": {
        "id": "CUAGtf9qFrzC",
        "colab_type": "code",
        "colab": {}
      },
      "source": [
        "##     CHECKING ANY ONE PRODUCT SOLD COUNT = 7 and ratings"
      ],
      "execution_count": 0,
      "outputs": []
    },
    {
      "cell_type": "code",
      "metadata": {
        "colab_type": "code",
        "id": "k2Etpav1S9UH",
        "outputId": "e0d93437-9114-4c2c-a6da-2e00ec4de8b3",
        "colab": {
          "base_uri": "https://localhost:8080/",
          "height": 257
        }
      },
      "source": [
        "df[(df['productId']=='9985558065')==True]"
      ],
      "execution_count": 35,
      "outputs": [
        {
          "output_type": "execute_result",
          "data": {
            "text/html": [
              "<div>\n",
              "<style scoped>\n",
              "    .dataframe tbody tr th:only-of-type {\n",
              "        vertical-align: middle;\n",
              "    }\n",
              "\n",
              "    .dataframe tbody tr th {\n",
              "        vertical-align: top;\n",
              "    }\n",
              "\n",
              "    .dataframe thead th {\n",
              "        text-align: right;\n",
              "    }\n",
              "</style>\n",
              "<table border=\"1\" class=\"dataframe\">\n",
              "  <thead>\n",
              "    <tr style=\"text-align: right;\">\n",
              "      <th></th>\n",
              "      <th>userId</th>\n",
              "      <th>productId</th>\n",
              "      <th>ratings</th>\n",
              "    </tr>\n",
              "  </thead>\n",
              "  <tbody>\n",
              "    <tr>\n",
              "      <th>6879</th>\n",
              "      <td>A3P1UWQ4NWEYMX</td>\n",
              "      <td>9985558065</td>\n",
              "      <td>2.0</td>\n",
              "    </tr>\n",
              "    <tr>\n",
              "      <th>6880</th>\n",
              "      <td>A36HT2ITEIAJXQ</td>\n",
              "      <td>9985558065</td>\n",
              "      <td>5.0</td>\n",
              "    </tr>\n",
              "    <tr>\n",
              "      <th>6881</th>\n",
              "      <td>AGSXTHPNGNA16</td>\n",
              "      <td>9985558065</td>\n",
              "      <td>5.0</td>\n",
              "    </tr>\n",
              "    <tr>\n",
              "      <th>6882</th>\n",
              "      <td>A3G37IM6Z8ZNB4</td>\n",
              "      <td>9985558065</td>\n",
              "      <td>5.0</td>\n",
              "    </tr>\n",
              "    <tr>\n",
              "      <th>6883</th>\n",
              "      <td>A1NUHPQ47DKGW7</td>\n",
              "      <td>9985558065</td>\n",
              "      <td>5.0</td>\n",
              "    </tr>\n",
              "    <tr>\n",
              "      <th>6884</th>\n",
              "      <td>A2Z123EZCA9177</td>\n",
              "      <td>9985558065</td>\n",
              "      <td>5.0</td>\n",
              "    </tr>\n",
              "    <tr>\n",
              "      <th>6885</th>\n",
              "      <td>AX2O4I0TZ7STS</td>\n",
              "      <td>9985558065</td>\n",
              "      <td>5.0</td>\n",
              "    </tr>\n",
              "  </tbody>\n",
              "</table>\n",
              "</div>"
            ],
            "text/plain": [
              "              userId   productId  ratings\n",
              "6879  A3P1UWQ4NWEYMX  9985558065      2.0\n",
              "6880  A36HT2ITEIAJXQ  9985558065      5.0\n",
              "6881   AGSXTHPNGNA16  9985558065      5.0\n",
              "6882  A3G37IM6Z8ZNB4  9985558065      5.0\n",
              "6883  A1NUHPQ47DKGW7  9985558065      5.0\n",
              "6884  A2Z123EZCA9177  9985558065      5.0\n",
              "6885   AX2O4I0TZ7STS  9985558065      5.0"
            ]
          },
          "metadata": {
            "tags": []
          },
          "execution_count": 35
        }
      ]
    },
    {
      "cell_type": "code",
      "metadata": {
        "id": "EG8BgodfF5uz",
        "colab_type": "code",
        "colab": {}
      },
      "source": [
        "#################  Calculating the average product ratings ######################################################"
      ],
      "execution_count": 0,
      "outputs": []
    },
    {
      "cell_type": "code",
      "metadata": {
        "id": "uUIuAvJ5aEWY",
        "colab_type": "code",
        "colab": {}
      },
      "source": [
        "product_avg_ratings = np.round(df.groupby(df['productId'])['ratings'].sum()/df.groupby(df['productId'])['ratings'].count())"
      ],
      "execution_count": 0,
      "outputs": []
    },
    {
      "cell_type": "code",
      "metadata": {
        "id": "7M1l7IaWaJz7",
        "colab_type": "code",
        "colab": {}
      },
      "source": [
        "product_avg_ratings = product_avg_ratings.to_frame().reset_index()"
      ],
      "execution_count": 0,
      "outputs": []
    },
    {
      "cell_type": "code",
      "metadata": {
        "colab_type": "code",
        "outputId": "087e9a93-2ac6-4eb5-f6ca-98fe6c3209be",
        "id": "2KnOWDneS9U1",
        "colab": {
          "base_uri": "https://localhost:8080/",
          "height": 197
        }
      },
      "source": [
        "product_avg_ratings.head(5)"
      ],
      "execution_count": 39,
      "outputs": [
        {
          "output_type": "execute_result",
          "data": {
            "text/html": [
              "<div>\n",
              "<style scoped>\n",
              "    .dataframe tbody tr th:only-of-type {\n",
              "        vertical-align: middle;\n",
              "    }\n",
              "\n",
              "    .dataframe tbody tr th {\n",
              "        vertical-align: top;\n",
              "    }\n",
              "\n",
              "    .dataframe thead th {\n",
              "        text-align: right;\n",
              "    }\n",
              "</style>\n",
              "<table border=\"1\" class=\"dataframe\">\n",
              "  <thead>\n",
              "    <tr style=\"text-align: right;\">\n",
              "      <th></th>\n",
              "      <th>productId</th>\n",
              "      <th>ratings</th>\n",
              "    </tr>\n",
              "  </thead>\n",
              "  <tbody>\n",
              "    <tr>\n",
              "      <th>0</th>\n",
              "      <td>0132793040</td>\n",
              "      <td>5.0</td>\n",
              "    </tr>\n",
              "    <tr>\n",
              "      <th>1</th>\n",
              "      <td>0321732944</td>\n",
              "      <td>5.0</td>\n",
              "    </tr>\n",
              "    <tr>\n",
              "      <th>2</th>\n",
              "      <td>0439886341</td>\n",
              "      <td>2.0</td>\n",
              "    </tr>\n",
              "    <tr>\n",
              "      <th>3</th>\n",
              "      <td>0511189877</td>\n",
              "      <td>4.0</td>\n",
              "    </tr>\n",
              "    <tr>\n",
              "      <th>4</th>\n",
              "      <td>0528881469</td>\n",
              "      <td>3.0</td>\n",
              "    </tr>\n",
              "  </tbody>\n",
              "</table>\n",
              "</div>"
            ],
            "text/plain": [
              "    productId  ratings\n",
              "0  0132793040      5.0\n",
              "1  0321732944      5.0\n",
              "2  0439886341      2.0\n",
              "3  0511189877      4.0\n",
              "4  0528881469      3.0"
            ]
          },
          "metadata": {
            "tags": []
          },
          "execution_count": 39
        }
      ]
    },
    {
      "cell_type": "code",
      "metadata": {
        "colab_type": "code",
        "outputId": "bdb55da7-d374-4999-eeed-c1894af67e12",
        "id": "Xy32fWhbS9VY",
        "colab": {
          "base_uri": "https://localhost:8080/",
          "height": 167
        }
      },
      "source": [
        "product_avg_ratings = product_avg_ratings.sort_values(by='productId',ascending=False)\n",
        "product_avg_ratings.head(4)"
      ],
      "execution_count": 40,
      "outputs": [
        {
          "output_type": "execute_result",
          "data": {
            "text/html": [
              "<div>\n",
              "<style scoped>\n",
              "    .dataframe tbody tr th:only-of-type {\n",
              "        vertical-align: middle;\n",
              "    }\n",
              "\n",
              "    .dataframe tbody tr th {\n",
              "        vertical-align: top;\n",
              "    }\n",
              "\n",
              "    .dataframe thead th {\n",
              "        text-align: right;\n",
              "    }\n",
              "</style>\n",
              "<table border=\"1\" class=\"dataframe\">\n",
              "  <thead>\n",
              "    <tr style=\"text-align: right;\">\n",
              "      <th></th>\n",
              "      <th>productId</th>\n",
              "      <th>ratings</th>\n",
              "    </tr>\n",
              "  </thead>\n",
              "  <tbody>\n",
              "    <tr>\n",
              "      <th>13130</th>\n",
              "      <td>B00006JN3G</td>\n",
              "      <td>4.0</td>\n",
              "    </tr>\n",
              "    <tr>\n",
              "      <th>13129</th>\n",
              "      <td>B00006JN2R</td>\n",
              "      <td>4.0</td>\n",
              "    </tr>\n",
              "    <tr>\n",
              "      <th>13128</th>\n",
              "      <td>B00006JM74</td>\n",
              "      <td>1.0</td>\n",
              "    </tr>\n",
              "    <tr>\n",
              "      <th>13127</th>\n",
              "      <td>B00006JM73</td>\n",
              "      <td>4.0</td>\n",
              "    </tr>\n",
              "  </tbody>\n",
              "</table>\n",
              "</div>"
            ],
            "text/plain": [
              "        productId  ratings\n",
              "13130  B00006JN3G      4.0\n",
              "13129  B00006JN2R      4.0\n",
              "13128  B00006JM74      1.0\n",
              "13127  B00006JM73      4.0"
            ]
          },
          "metadata": {
            "tags": []
          },
          "execution_count": 40
        }
      ]
    },
    {
      "cell_type": "code",
      "metadata": {
        "id": "nUr8O2Z1MqTr",
        "colab_type": "code",
        "outputId": "780b31cd-760b-47af-e94e-caa50c8c83e1",
        "colab": {
          "base_uri": "https://localhost:8080/",
          "height": 77
        }
      },
      "source": [
        "product_avg_ratings[(product_avg_ratings['productId']=='9985558065')==True]"
      ],
      "execution_count": 41,
      "outputs": [
        {
          "output_type": "execute_result",
          "data": {
            "text/html": [
              "<div>\n",
              "<style scoped>\n",
              "    .dataframe tbody tr th:only-of-type {\n",
              "        vertical-align: middle;\n",
              "    }\n",
              "\n",
              "    .dataframe tbody tr th {\n",
              "        vertical-align: top;\n",
              "    }\n",
              "\n",
              "    .dataframe thead th {\n",
              "        text-align: right;\n",
              "    }\n",
              "</style>\n",
              "<table border=\"1\" class=\"dataframe\">\n",
              "  <thead>\n",
              "    <tr style=\"text-align: right;\">\n",
              "      <th></th>\n",
              "      <th>productId</th>\n",
              "      <th>ratings</th>\n",
              "    </tr>\n",
              "  </thead>\n",
              "  <tbody>\n",
              "    <tr>\n",
              "      <th>915</th>\n",
              "      <td>9985558065</td>\n",
              "      <td>5.0</td>\n",
              "    </tr>\n",
              "  </tbody>\n",
              "</table>\n",
              "</div>"
            ],
            "text/plain": [
              "      productId  ratings\n",
              "915  9985558065      5.0"
            ]
          },
          "metadata": {
            "tags": []
          },
          "execution_count": 41
        }
      ]
    },
    {
      "cell_type": "code",
      "metadata": {
        "id": "K6uNs-zsMqQe",
        "colab_type": "code",
        "colab": {}
      },
      "source": [
        "product_recommend_pop = pd.merge(product_unique_count,product_avg_ratings, on='productId',how='inner')"
      ],
      "execution_count": 0,
      "outputs": []
    },
    {
      "cell_type": "code",
      "metadata": {
        "id": "t0cXbD2kSmb0",
        "colab_type": "code",
        "outputId": "5f7a73ae-241e-4aa8-8cc9-c1f166505d82",
        "colab": {
          "base_uri": "https://localhost:8080/",
          "height": 197
        }
      },
      "source": [
        "product_recommend_pop.head()"
      ],
      "execution_count": 43,
      "outputs": [
        {
          "output_type": "execute_result",
          "data": {
            "text/html": [
              "<div>\n",
              "<style scoped>\n",
              "    .dataframe tbody tr th:only-of-type {\n",
              "        vertical-align: middle;\n",
              "    }\n",
              "\n",
              "    .dataframe tbody tr th {\n",
              "        vertical-align: top;\n",
              "    }\n",
              "\n",
              "    .dataframe thead th {\n",
              "        text-align: right;\n",
              "    }\n",
              "</style>\n",
              "<table border=\"1\" class=\"dataframe\">\n",
              "  <thead>\n",
              "    <tr style=\"text-align: right;\">\n",
              "      <th></th>\n",
              "      <th>productId</th>\n",
              "      <th>sold_count</th>\n",
              "      <th>ratings</th>\n",
              "    </tr>\n",
              "  </thead>\n",
              "  <tbody>\n",
              "    <tr>\n",
              "      <th>0</th>\n",
              "      <td>B00006JN3G</td>\n",
              "      <td>389</td>\n",
              "      <td>4.0</td>\n",
              "    </tr>\n",
              "    <tr>\n",
              "      <th>1</th>\n",
              "      <td>B00006JN2R</td>\n",
              "      <td>14</td>\n",
              "      <td>4.0</td>\n",
              "    </tr>\n",
              "    <tr>\n",
              "      <th>2</th>\n",
              "      <td>B00006JM74</td>\n",
              "      <td>3</td>\n",
              "      <td>1.0</td>\n",
              "    </tr>\n",
              "    <tr>\n",
              "      <th>3</th>\n",
              "      <td>B00006JM73</td>\n",
              "      <td>2</td>\n",
              "      <td>4.0</td>\n",
              "    </tr>\n",
              "    <tr>\n",
              "      <th>4</th>\n",
              "      <td>B00006JM72</td>\n",
              "      <td>3</td>\n",
              "      <td>2.0</td>\n",
              "    </tr>\n",
              "  </tbody>\n",
              "</table>\n",
              "</div>"
            ],
            "text/plain": [
              "    productId  sold_count  ratings\n",
              "0  B00006JN3G         389      4.0\n",
              "1  B00006JN2R          14      4.0\n",
              "2  B00006JM74           3      1.0\n",
              "3  B00006JM73           2      4.0\n",
              "4  B00006JM72           3      2.0"
            ]
          },
          "metadata": {
            "tags": []
          },
          "execution_count": 43
        }
      ]
    },
    {
      "cell_type": "code",
      "metadata": {
        "id": "eXARPa_5i9rQ",
        "colab_type": "code",
        "colab": {}
      },
      "source": [
        "################## Recommending the product with average rating as 5 and sold maximum ############################"
      ],
      "execution_count": 0,
      "outputs": []
    },
    {
      "cell_type": "code",
      "metadata": {
        "id": "gnC6R-LPSmhx",
        "colab_type": "code",
        "outputId": "5efd87aa-5306-4829-ef4c-ba424b4d6157",
        "colab": {
          "base_uri": "https://localhost:8080/",
          "height": 197
        }
      },
      "source": [
        "product_recommend_pop.sort_values(by=['ratings','sold_count'],ascending=False).head(5)"
      ],
      "execution_count": 45,
      "outputs": [
        {
          "output_type": "execute_result",
          "data": {
            "text/html": [
              "<div>\n",
              "<style scoped>\n",
              "    .dataframe tbody tr th:only-of-type {\n",
              "        vertical-align: middle;\n",
              "    }\n",
              "\n",
              "    .dataframe tbody tr th {\n",
              "        vertical-align: top;\n",
              "    }\n",
              "\n",
              "    .dataframe thead th {\n",
              "        text-align: right;\n",
              "    }\n",
              "</style>\n",
              "<table border=\"1\" class=\"dataframe\">\n",
              "  <thead>\n",
              "    <tr style=\"text-align: right;\">\n",
              "      <th></th>\n",
              "      <th>productId</th>\n",
              "      <th>sold_count</th>\n",
              "      <th>ratings</th>\n",
              "    </tr>\n",
              "  </thead>\n",
              "  <tbody>\n",
              "    <tr>\n",
              "      <th>10882</th>\n",
              "      <td>B00001WRSJ</td>\n",
              "      <td>1586</td>\n",
              "      <td>5.0</td>\n",
              "    </tr>\n",
              "    <tr>\n",
              "      <th>5026</th>\n",
              "      <td>B00005T3G0</td>\n",
              "      <td>1287</td>\n",
              "      <td>5.0</td>\n",
              "    </tr>\n",
              "    <tr>\n",
              "      <th>6042</th>\n",
              "      <td>B00005LEN4</td>\n",
              "      <td>1107</td>\n",
              "      <td>5.0</td>\n",
              "    </tr>\n",
              "    <tr>\n",
              "      <th>5689</th>\n",
              "      <td>B00005NIMJ</td>\n",
              "      <td>884</td>\n",
              "      <td>5.0</td>\n",
              "    </tr>\n",
              "    <tr>\n",
              "      <th>8465</th>\n",
              "      <td>B00004Z5M1</td>\n",
              "      <td>815</td>\n",
              "      <td>5.0</td>\n",
              "    </tr>\n",
              "  </tbody>\n",
              "</table>\n",
              "</div>"
            ],
            "text/plain": [
              "        productId  sold_count  ratings\n",
              "10882  B00001WRSJ        1586      5.0\n",
              "5026   B00005T3G0        1287      5.0\n",
              "6042   B00005LEN4        1107      5.0\n",
              "5689   B00005NIMJ         884      5.0\n",
              "8465   B00004Z5M1         815      5.0"
            ]
          },
          "metadata": {
            "tags": []
          },
          "execution_count": 45
        }
      ]
    },
    {
      "cell_type": "code",
      "metadata": {
        "id": "HxAI8n0boPe8",
        "colab_type": "code",
        "colab": {}
      },
      "source": [
        "from sklearn.model_selection import train_test_split"
      ],
      "execution_count": 0,
      "outputs": []
    },
    {
      "cell_type": "code",
      "metadata": {
        "id": "aRdUeh3AoYY9",
        "colab_type": "code",
        "colab": {}
      },
      "source": [
        "df1 = df.groupby('userId').count()"
      ],
      "execution_count": 0,
      "outputs": []
    },
    {
      "cell_type": "code",
      "metadata": {
        "id": "eQjW2wJYsltg",
        "colab_type": "code",
        "colab": {}
      },
      "source": [
        "df1.reset_index(inplace=True)"
      ],
      "execution_count": 0,
      "outputs": []
    },
    {
      "cell_type": "code",
      "metadata": {
        "id": "zWScADAIavr8",
        "colab_type": "code",
        "outputId": "ad4bf1d0-1a7e-461f-a24e-4eadb44ef6cc",
        "colab": {
          "base_uri": "https://localhost:8080/",
          "height": 197
        }
      },
      "source": [
        "df1.head()"
      ],
      "execution_count": 49,
      "outputs": [
        {
          "output_type": "execute_result",
          "data": {
            "text/html": [
              "<div>\n",
              "<style scoped>\n",
              "    .dataframe tbody tr th:only-of-type {\n",
              "        vertical-align: middle;\n",
              "    }\n",
              "\n",
              "    .dataframe tbody tr th {\n",
              "        vertical-align: top;\n",
              "    }\n",
              "\n",
              "    .dataframe thead th {\n",
              "        text-align: right;\n",
              "    }\n",
              "</style>\n",
              "<table border=\"1\" class=\"dataframe\">\n",
              "  <thead>\n",
              "    <tr style=\"text-align: right;\">\n",
              "      <th></th>\n",
              "      <th>userId</th>\n",
              "      <th>productId</th>\n",
              "      <th>ratings</th>\n",
              "    </tr>\n",
              "  </thead>\n",
              "  <tbody>\n",
              "    <tr>\n",
              "      <th>0</th>\n",
              "      <td>A001944026UMZ8T3K5QH1</td>\n",
              "      <td>1</td>\n",
              "      <td>1</td>\n",
              "    </tr>\n",
              "    <tr>\n",
              "      <th>1</th>\n",
              "      <td>A00570163ATHRHPDG3GKN</td>\n",
              "      <td>1</td>\n",
              "      <td>1</td>\n",
              "    </tr>\n",
              "    <tr>\n",
              "      <th>2</th>\n",
              "      <td>A00625243BI8W1SSZNLMD</td>\n",
              "      <td>1</td>\n",
              "      <td>1</td>\n",
              "    </tr>\n",
              "    <tr>\n",
              "      <th>3</th>\n",
              "      <td>A00766851QZZUBOVF4JFT</td>\n",
              "      <td>1</td>\n",
              "      <td>1</td>\n",
              "    </tr>\n",
              "    <tr>\n",
              "      <th>4</th>\n",
              "      <td>A00995931BE16NG4F52QC</td>\n",
              "      <td>1</td>\n",
              "      <td>1</td>\n",
              "    </tr>\n",
              "  </tbody>\n",
              "</table>\n",
              "</div>"
            ],
            "text/plain": [
              "                  userId  productId  ratings\n",
              "0  A001944026UMZ8T3K5QH1          1        1\n",
              "1  A00570163ATHRHPDG3GKN          1        1\n",
              "2  A00625243BI8W1SSZNLMD          1        1\n",
              "3  A00766851QZZUBOVF4JFT          1        1\n",
              "4  A00995931BE16NG4F52QC          1        1"
            ]
          },
          "metadata": {
            "tags": []
          },
          "execution_count": 49
        }
      ]
    },
    {
      "cell_type": "code",
      "metadata": {
        "id": "HDEe-Qibavgn",
        "colab_type": "code",
        "outputId": "21554480-f4fb-4cc9-8517-6c96eeb1fb0c",
        "colab": {
          "base_uri": "https://localhost:8080/",
          "height": 52
        }
      },
      "source": [
        "print(df1.shape)\n",
        "print(df1['userId'].nunique())"
      ],
      "execution_count": 50,
      "outputs": [
        {
          "output_type": "stream",
          "text": [
            "(173349, 3)\n",
            "173349\n"
          ],
          "name": "stdout"
        }
      ]
    },
    {
      "cell_type": "code",
      "metadata": {
        "id": "OPwr0dV-vYpC",
        "colab_type": "code",
        "colab": {}
      },
      "source": [
        "\n",
        "## Identifying the users  who rated more than and equal to 50 products"
      ],
      "execution_count": 0,
      "outputs": []
    },
    {
      "cell_type": "code",
      "metadata": {
        "id": "TbzLCK0lpwWq",
        "colab_type": "code",
        "colab": {}
      },
      "source": [
        "df_user_10 = df1[(df1['productId']>=10)==True].reset_index()"
      ],
      "execution_count": 0,
      "outputs": []
    },
    {
      "cell_type": "code",
      "metadata": {
        "id": "FsBNnKyDt_T8",
        "colab_type": "code",
        "outputId": "45d6a73e-944b-4b1f-ca29-b3aa17f1f481",
        "colab": {
          "base_uri": "https://localhost:8080/",
          "height": 34
        }
      },
      "source": [
        "df_user_10.shape"
      ],
      "execution_count": 53,
      "outputs": [
        {
          "output_type": "execute_result",
          "data": {
            "text/plain": [
              "(177, 4)"
            ]
          },
          "metadata": {
            "tags": []
          },
          "execution_count": 53
        }
      ]
    },
    {
      "cell_type": "code",
      "metadata": {
        "id": "_3RnGciYsZh5",
        "colab_type": "code",
        "colab": {}
      },
      "source": [
        "df_user_10_ratings = pd.DataFrame.merge(df,df_user_10,on='userId',how='inner',sort=True)"
      ],
      "execution_count": 0,
      "outputs": []
    },
    {
      "cell_type": "code",
      "metadata": {
        "id": "7hpZYTExuKLn",
        "colab_type": "code",
        "outputId": "865061b0-05bd-40eb-f106-72078cf6d58e",
        "colab": {
          "base_uri": "https://localhost:8080/",
          "height": 52
        }
      },
      "source": [
        "print(df_user_10_ratings.shape)\n",
        "print(df_user_10_ratings['userId'].nunique())"
      ],
      "execution_count": 55,
      "outputs": [
        {
          "output_type": "stream",
          "text": [
            "(3187, 6)\n",
            "177\n"
          ],
          "name": "stdout"
        }
      ]
    },
    {
      "cell_type": "code",
      "metadata": {
        "id": "D8slE_fHuXpt",
        "colab_type": "code",
        "outputId": "bb10b9a1-b52a-47d5-b856-164005f85f9c",
        "colab": {
          "base_uri": "https://localhost:8080/",
          "height": 137
        }
      },
      "source": [
        "df_user_10_ratings.head(3)"
      ],
      "execution_count": 56,
      "outputs": [
        {
          "output_type": "execute_result",
          "data": {
            "text/html": [
              "<div>\n",
              "<style scoped>\n",
              "    .dataframe tbody tr th:only-of-type {\n",
              "        vertical-align: middle;\n",
              "    }\n",
              "\n",
              "    .dataframe tbody tr th {\n",
              "        vertical-align: top;\n",
              "    }\n",
              "\n",
              "    .dataframe thead th {\n",
              "        text-align: right;\n",
              "    }\n",
              "</style>\n",
              "<table border=\"1\" class=\"dataframe\">\n",
              "  <thead>\n",
              "    <tr style=\"text-align: right;\">\n",
              "      <th></th>\n",
              "      <th>userId</th>\n",
              "      <th>productId_x</th>\n",
              "      <th>ratings_x</th>\n",
              "      <th>index</th>\n",
              "      <th>productId_y</th>\n",
              "      <th>ratings_y</th>\n",
              "    </tr>\n",
              "  </thead>\n",
              "  <tbody>\n",
              "    <tr>\n",
              "      <th>0</th>\n",
              "      <td>A10C84Y38RT22P</td>\n",
              "      <td>B000023VUL</td>\n",
              "      <td>5.0</td>\n",
              "      <td>518</td>\n",
              "      <td>13</td>\n",
              "      <td>13</td>\n",
              "    </tr>\n",
              "    <tr>\n",
              "      <th>1</th>\n",
              "      <td>A10C84Y38RT22P</td>\n",
              "      <td>B00003CW9Q</td>\n",
              "      <td>5.0</td>\n",
              "      <td>518</td>\n",
              "      <td>13</td>\n",
              "      <td>13</td>\n",
              "    </tr>\n",
              "    <tr>\n",
              "      <th>2</th>\n",
              "      <td>A10C84Y38RT22P</td>\n",
              "      <td>B00003CWBX</td>\n",
              "      <td>5.0</td>\n",
              "      <td>518</td>\n",
              "      <td>13</td>\n",
              "      <td>13</td>\n",
              "    </tr>\n",
              "  </tbody>\n",
              "</table>\n",
              "</div>"
            ],
            "text/plain": [
              "           userId productId_x  ratings_x  index  productId_y  ratings_y\n",
              "0  A10C84Y38RT22P  B000023VUL        5.0    518           13         13\n",
              "1  A10C84Y38RT22P  B00003CW9Q        5.0    518           13         13\n",
              "2  A10C84Y38RT22P  B00003CWBX        5.0    518           13         13"
            ]
          },
          "metadata": {
            "tags": []
          },
          "execution_count": 56
        }
      ]
    },
    {
      "cell_type": "code",
      "metadata": {
        "id": "Qy8_AWgQudLM",
        "colab_type": "code",
        "colab": {}
      },
      "source": [
        "df_user_10_ratings.drop(columns=['productId_y','ratings_y','index'],inplace=True)"
      ],
      "execution_count": 0,
      "outputs": []
    },
    {
      "cell_type": "code",
      "metadata": {
        "id": "Ocmwou1pcm_m",
        "colab_type": "code",
        "outputId": "9de0c241-fb1e-402a-a265-dbc39724e153",
        "colab": {
          "base_uri": "https://localhost:8080/",
          "height": 137
        }
      },
      "source": [
        "df_user_10_ratings.head(3)"
      ],
      "execution_count": 58,
      "outputs": [
        {
          "output_type": "execute_result",
          "data": {
            "text/html": [
              "<div>\n",
              "<style scoped>\n",
              "    .dataframe tbody tr th:only-of-type {\n",
              "        vertical-align: middle;\n",
              "    }\n",
              "\n",
              "    .dataframe tbody tr th {\n",
              "        vertical-align: top;\n",
              "    }\n",
              "\n",
              "    .dataframe thead th {\n",
              "        text-align: right;\n",
              "    }\n",
              "</style>\n",
              "<table border=\"1\" class=\"dataframe\">\n",
              "  <thead>\n",
              "    <tr style=\"text-align: right;\">\n",
              "      <th></th>\n",
              "      <th>userId</th>\n",
              "      <th>productId_x</th>\n",
              "      <th>ratings_x</th>\n",
              "    </tr>\n",
              "  </thead>\n",
              "  <tbody>\n",
              "    <tr>\n",
              "      <th>0</th>\n",
              "      <td>A10C84Y38RT22P</td>\n",
              "      <td>B000023VUL</td>\n",
              "      <td>5.0</td>\n",
              "    </tr>\n",
              "    <tr>\n",
              "      <th>1</th>\n",
              "      <td>A10C84Y38RT22P</td>\n",
              "      <td>B00003CW9Q</td>\n",
              "      <td>5.0</td>\n",
              "    </tr>\n",
              "    <tr>\n",
              "      <th>2</th>\n",
              "      <td>A10C84Y38RT22P</td>\n",
              "      <td>B00003CWBX</td>\n",
              "      <td>5.0</td>\n",
              "    </tr>\n",
              "  </tbody>\n",
              "</table>\n",
              "</div>"
            ],
            "text/plain": [
              "           userId productId_x  ratings_x\n",
              "0  A10C84Y38RT22P  B000023VUL        5.0\n",
              "1  A10C84Y38RT22P  B00003CW9Q        5.0\n",
              "2  A10C84Y38RT22P  B00003CWBX        5.0"
            ]
          },
          "metadata": {
            "tags": []
          },
          "execution_count": 58
        }
      ]
    },
    {
      "cell_type": "code",
      "metadata": {
        "colab_type": "code",
        "id": "3W5n6tVzp3gN",
        "outputId": "3abe712f-fc20-4d9e-bf27-983446d4b3e5",
        "colab": {
          "base_uri": "https://localhost:8080/",
          "height": 34
        }
      },
      "source": [
        "print(df_user_10_ratings['userId'].nunique())"
      ],
      "execution_count": 59,
      "outputs": [
        {
          "output_type": "stream",
          "text": [
            "177\n"
          ],
          "name": "stdout"
        }
      ]
    },
    {
      "cell_type": "code",
      "metadata": {
        "colab_type": "code",
        "id": "eSjROJs9p3gW",
        "outputId": "e249bf4f-c6ef-42de-e9f3-18a5c5ff1014",
        "colab": {
          "base_uri": "https://localhost:8080/",
          "height": 34
        }
      },
      "source": [
        "print(df_user_10_ratings['productId_x'].nunique())"
      ],
      "execution_count": 60,
      "outputs": [
        {
          "output_type": "stream",
          "text": [
            "2092\n"
          ],
          "name": "stdout"
        }
      ]
    },
    {
      "cell_type": "code",
      "metadata": {
        "id": "S5hilYA0JGvv",
        "colab_type": "code",
        "colab": {}
      },
      "source": [
        "####################################################  INSTALLING THE SURPRISE LIBRARY #################################################"
      ],
      "execution_count": 0,
      "outputs": []
    },
    {
      "cell_type": "code",
      "metadata": {
        "id": "wd7hkhf8rj3h",
        "colab_type": "code",
        "outputId": "0fbbeeab-82b8-447d-bed5-bf58e669929b",
        "colab": {
          "base_uri": "https://localhost:8080/",
          "height": 321
        }
      },
      "source": [
        "pip install surprise"
      ],
      "execution_count": 62,
      "outputs": [
        {
          "output_type": "stream",
          "text": [
            "Collecting surprise\n",
            "  Downloading https://files.pythonhosted.org/packages/61/de/e5cba8682201fcf9c3719a6fdda95693468ed061945493dea2dd37c5618b/surprise-0.1-py2.py3-none-any.whl\n",
            "Collecting scikit-surprise\n",
            "\u001b[?25l  Downloading https://files.pythonhosted.org/packages/f5/da/b5700d96495fb4f092be497f02492768a3d96a3f4fa2ae7dea46d4081cfa/scikit-surprise-1.1.0.tar.gz (6.4MB)\n",
            "\u001b[K     |████████████████████████████████| 6.5MB 3.5MB/s \n",
            "\u001b[?25hRequirement already satisfied: joblib>=0.11 in /usr/local/lib/python3.6/dist-packages (from scikit-surprise->surprise) (0.14.0)\n",
            "Requirement already satisfied: numpy>=1.11.2 in /usr/local/lib/python3.6/dist-packages (from scikit-surprise->surprise) (1.17.4)\n",
            "Requirement already satisfied: scipy>=1.0.0 in /usr/local/lib/python3.6/dist-packages (from scikit-surprise->surprise) (1.3.2)\n",
            "Requirement already satisfied: six>=1.10.0 in /usr/local/lib/python3.6/dist-packages (from scikit-surprise->surprise) (1.12.0)\n",
            "Building wheels for collected packages: scikit-surprise\n",
            "  Building wheel for scikit-surprise (setup.py) ... \u001b[?25l\u001b[?25hdone\n",
            "  Created wheel for scikit-surprise: filename=scikit_surprise-1.1.0-cp36-cp36m-linux_x86_64.whl size=1678243 sha256=5d52a65177b6857ba4f68679dec855bbfd301169bf9db5565844b76e18fde490\n",
            "  Stored in directory: /root/.cache/pip/wheels/cc/fa/8c/16c93fccce688ae1bde7d979ff102f7bee980d9cfeb8641bcf\n",
            "Successfully built scikit-surprise\n",
            "Installing collected packages: scikit-surprise, surprise\n",
            "Successfully installed scikit-surprise-1.1.0 surprise-0.1\n"
          ],
          "name": "stdout"
        }
      ]
    },
    {
      "cell_type": "code",
      "metadata": {
        "id": "cwG3Ozdh3B4Y",
        "colab_type": "code",
        "outputId": "cc4935bf-2b59-4e98-eec0-8fe3bb38ab57",
        "colab": {
          "base_uri": "https://localhost:8080/",
          "height": 34
        }
      },
      "source": [
        "'''\n",
        "                          C o l l a b                  B A S E D                           R E C O M E N D A T I O N \n",
        "'''"
      ],
      "execution_count": 63,
      "outputs": [
        {
          "output_type": "execute_result",
          "data": {
            "text/plain": [
              "'\\n                          C o l l a b                  B A S E D                           R E C O M E N D A T I O N \\n'"
            ]
          },
          "metadata": {
            "tags": []
          },
          "execution_count": 63
        }
      ]
    },
    {
      "cell_type": "code",
      "metadata": {
        "id": "6IraMLkb_Jz3",
        "colab_type": "code",
        "colab": {}
      },
      "source": [
        "#################################################################### RECOMMENDATION ALGORITHM ##################################################################"
      ],
      "execution_count": 0,
      "outputs": []
    },
    {
      "cell_type": "code",
      "metadata": {
        "id": "Th7XyuRqAGKc",
        "colab_type": "code",
        "colab": {}
      },
      "source": [
        "## Use user_based true/false to switch between user-based or item-based collaborative filtering\n",
        "\n",
        "from surprise import KNNWithMeans,Reader,Dataset,SVD,SVDpp,SlopeOne, NMF, NormalPredictor, KNNBaseline, KNNBasic, KNNWithMeans, KNNWithZScore, BaselineOnly, CoClustering\n",
        "from sklearn.model_selection import train_test_split , cross_val_score ,GridSearchCV,cross_validate"
      ],
      "execution_count": 0,
      "outputs": []
    },
    {
      "cell_type": "code",
      "metadata": {
        "id": "PO5TePLbGg7q",
        "colab_type": "code",
        "colab": {}
      },
      "source": [
        "\n",
        "from surprise.model_selection.validation import cross_validate\n",
        "from surprise.model_selection.search import GridSearchCV "
      ],
      "execution_count": 0,
      "outputs": []
    },
    {
      "cell_type": "code",
      "metadata": {
        "id": "vtyqeZZ1zN-y",
        "colab_type": "code",
        "colab": {}
      },
      "source": [
        "bsl_options = {'method': 'als',\n",
        "               'learning_rate': .00005,\n",
        "               'n_epochs': 5,\n",
        "               'reg_u': 12,\n",
        "               'reg_i': 5\n",
        "               }"
      ],
      "execution_count": 0,
      "outputs": []
    },
    {
      "cell_type": "code",
      "metadata": {
        "id": "atO32bc9yviP",
        "colab_type": "code",
        "colab": {}
      },
      "source": [
        "MLA =[   KNNBasic()\n",
        "        ,SVD()\n",
        "      , SVDpp()\n",
        "      , SlopeOne()\n",
        "      , NMF()\n",
        "      , NormalPredictor()\n",
        "      ,KNNWithZScore()\n",
        "      , KNNBaseline()\n",
        "      , BaselineOnly()\n",
        "      , CoClustering()\n",
        "     ,KNNWithMeans(k=5, bsl_options=bsl_options,sim_options={'name': 'cosine','user_based': True})\n",
        "     ,KNNWithMeans(k=5, sim_options={'name': 'cosine','user_based': False}) \n",
        "     ,KNNWithMeans(k=5, bsl_options=bsl_options,sim_options={'name': 'pearson_baseline','shrinkage': 0  , 'user_based': False}) \n",
        "      ,KNNWithMeans(k=5, bsl_options=bsl_options,sim_options={'name': 'pearson_baseline','shrinkage': 0  , 'user_based': True}) \n",
        "]"
      ],
      "execution_count": 0,
      "outputs": []
    },
    {
      "cell_type": "code",
      "metadata": {
        "id": "2SWr2EQry8Qd",
        "colab_type": "code",
        "outputId": "bab5be98-cb4b-46be-b95b-4d65be7073ad",
        "colab": {
          "base_uri": "https://localhost:8080/",
          "height": 123
        }
      },
      "source": [
        "print(df.head(4))\n",
        "print(df.shape)"
      ],
      "execution_count": 69,
      "outputs": [
        {
          "output_type": "stream",
          "text": [
            "           userId   productId  ratings\n",
            "0   AKM1MP6P0OYPR  0132793040      5.0\n",
            "1  A2CX7LUOHB2NDG  0321732944      5.0\n",
            "2  A2NWSAGRHCP8N5  0439886341      1.0\n",
            "3  A2WNBOD3WNDNKT  0439886341      3.0\n",
            "(200000, 3)\n"
          ],
          "name": "stdout"
        }
      ]
    },
    {
      "cell_type": "code",
      "metadata": {
        "id": "dIuoWs5Z-DtL",
        "colab_type": "code",
        "colab": {}
      },
      "source": [
        "data_recomm_raw = df_user_10_ratings.copy(deep=True)"
      ],
      "execution_count": 0,
      "outputs": []
    },
    {
      "cell_type": "code",
      "metadata": {
        "id": "CvCKAv4M-rpv",
        "colab_type": "code",
        "outputId": "2bd733d4-217a-4451-efc6-c22b597fd5ed",
        "colab": {
          "base_uri": "https://localhost:8080/",
          "height": 197
        }
      },
      "source": [
        "data_recomm = data_recomm_raw.rename(columns={'userId':'uid','productId_x':'iid','ratings_x':'rating'})\n",
        "data_recomm.head()"
      ],
      "execution_count": 71,
      "outputs": [
        {
          "output_type": "execute_result",
          "data": {
            "text/html": [
              "<div>\n",
              "<style scoped>\n",
              "    .dataframe tbody tr th:only-of-type {\n",
              "        vertical-align: middle;\n",
              "    }\n",
              "\n",
              "    .dataframe tbody tr th {\n",
              "        vertical-align: top;\n",
              "    }\n",
              "\n",
              "    .dataframe thead th {\n",
              "        text-align: right;\n",
              "    }\n",
              "</style>\n",
              "<table border=\"1\" class=\"dataframe\">\n",
              "  <thead>\n",
              "    <tr style=\"text-align: right;\">\n",
              "      <th></th>\n",
              "      <th>uid</th>\n",
              "      <th>iid</th>\n",
              "      <th>rating</th>\n",
              "    </tr>\n",
              "  </thead>\n",
              "  <tbody>\n",
              "    <tr>\n",
              "      <th>0</th>\n",
              "      <td>A10C84Y38RT22P</td>\n",
              "      <td>B000023VUL</td>\n",
              "      <td>5.0</td>\n",
              "    </tr>\n",
              "    <tr>\n",
              "      <th>1</th>\n",
              "      <td>A10C84Y38RT22P</td>\n",
              "      <td>B00003CW9Q</td>\n",
              "      <td>5.0</td>\n",
              "    </tr>\n",
              "    <tr>\n",
              "      <th>2</th>\n",
              "      <td>A10C84Y38RT22P</td>\n",
              "      <td>B00003CWBX</td>\n",
              "      <td>5.0</td>\n",
              "    </tr>\n",
              "    <tr>\n",
              "      <th>3</th>\n",
              "      <td>A10C84Y38RT22P</td>\n",
              "      <td>B00004RBR6</td>\n",
              "      <td>5.0</td>\n",
              "    </tr>\n",
              "    <tr>\n",
              "      <th>4</th>\n",
              "      <td>A10C84Y38RT22P</td>\n",
              "      <td>B00004Z5A5</td>\n",
              "      <td>4.0</td>\n",
              "    </tr>\n",
              "  </tbody>\n",
              "</table>\n",
              "</div>"
            ],
            "text/plain": [
              "              uid         iid  rating\n",
              "0  A10C84Y38RT22P  B000023VUL     5.0\n",
              "1  A10C84Y38RT22P  B00003CW9Q     5.0\n",
              "2  A10C84Y38RT22P  B00003CWBX     5.0\n",
              "3  A10C84Y38RT22P  B00004RBR6     5.0\n",
              "4  A10C84Y38RT22P  B00004Z5A5     4.0"
            ]
          },
          "metadata": {
            "tags": []
          },
          "execution_count": 71
        }
      ]
    },
    {
      "cell_type": "code",
      "metadata": {
        "id": "qpyvKiVHD3Au",
        "colab_type": "code",
        "colab": {}
      },
      "source": [
        "############################### MATRIX FACTORIZATION BASED REDOMMENDATIONS #######################"
      ],
      "execution_count": 0,
      "outputs": []
    },
    {
      "cell_type": "code",
      "metadata": {
        "id": "TLsxTxsCFif-",
        "colab_type": "code",
        "colab": {}
      },
      "source": [
        "data_recom_mat = data_recomm.copy(deep=True)"
      ],
      "execution_count": 0,
      "outputs": []
    },
    {
      "cell_type": "code",
      "metadata": {
        "id": "jaQvuq-7Apl9",
        "colab_type": "code",
        "colab": {}
      },
      "source": [
        "reader = Reader(rating_scale=(1,5))\n",
        "data_recom_mat_reader = Dataset.load_from_df(data_recom_mat, reader)"
      ],
      "execution_count": 0,
      "outputs": []
    },
    {
      "cell_type": "code",
      "metadata": {
        "id": "soY9Ku-HJeJD",
        "colab_type": "code",
        "colab": {}
      },
      "source": [
        "param_grid = {'lr_all':[.001,.01],'reg_all':[0.1,0.5]}"
      ],
      "execution_count": 0,
      "outputs": []
    },
    {
      "cell_type": "code",
      "metadata": {
        "colab_type": "code",
        "id": "dQMqrRunJX2f",
        "colab": {}
      },
      "source": [
        "gs = GridSearchCV(SVDpp,param_grid,cv=3)"
      ],
      "execution_count": 0,
      "outputs": []
    },
    {
      "cell_type": "code",
      "metadata": {
        "id": "mumTfMXqUkzH",
        "colab_type": "code",
        "colab": {}
      },
      "source": [
        "gs.fit(data_recom_mat_reader)"
      ],
      "execution_count": 0,
      "outputs": []
    },
    {
      "cell_type": "code",
      "metadata": {
        "colab_type": "code",
        "id": "zjVv5uoJJX2j",
        "outputId": "270b5a0f-86f9-4982-e608-6519cad603d2",
        "colab": {
          "base_uri": "https://localhost:8080/",
          "height": 34
        }
      },
      "source": [
        "print(gs.best_params['mae'])"
      ],
      "execution_count": 78,
      "outputs": [
        {
          "output_type": "stream",
          "text": [
            "{'lr_all': 0.01, 'reg_all': 0.1}\n"
          ],
          "name": "stdout"
        }
      ]
    },
    {
      "cell_type": "code",
      "metadata": {
        "id": "7s_vjXSHXIws",
        "colab_type": "code",
        "outputId": "dcd22060-c8d1-4e8b-c4b4-94a671cfbdc1",
        "colab": {
          "base_uri": "https://localhost:8080/",
          "height": 34
        }
      },
      "source": [
        "print(gs.best_params['rmse'])"
      ],
      "execution_count": 79,
      "outputs": [
        {
          "output_type": "stream",
          "text": [
            "{'lr_all': 0.01, 'reg_all': 0.5}\n"
          ],
          "name": "stdout"
        }
      ]
    },
    {
      "cell_type": "code",
      "metadata": {
        "id": "K7h0JlyNHx4z",
        "colab_type": "code",
        "outputId": "7b1c0e02-8b9b-4250-a51a-8d67f34eaae5",
        "colab": {
          "base_uri": "https://localhost:8080/",
          "height": 1000
        }
      },
      "source": [
        "benchmark = []\n",
        "# Iterate over all algorithms\n",
        "for algorithm in MLA:\n",
        "    # Perform cross validation\n",
        "    results = cross_validate(algorithm, data_recom_mat_reader , cv=10, verbose=False)\n",
        "    \n",
        "    # Get results & append algorithm name\n",
        "    tmp = pd.DataFrame.from_dict(results).mean(axis=0)\n",
        "    tmp = tmp.append(pd.Series([str(algorithm).split(' ')[0].split('.')[-1]], index=['Algorithm']))\n",
        "    benchmark.append(tmp)\n",
        "\n",
        "pd.DataFrame(benchmark).set_index('Algorithm').sort_values('test_rmse')    "
      ],
      "execution_count": 80,
      "outputs": [
        {
          "output_type": "stream",
          "text": [
            "Computing the msd similarity matrix...\n",
            "Done computing similarity matrix.\n",
            "Computing the msd similarity matrix...\n",
            "Done computing similarity matrix.\n",
            "Computing the msd similarity matrix...\n",
            "Done computing similarity matrix.\n",
            "Computing the msd similarity matrix...\n",
            "Done computing similarity matrix.\n",
            "Computing the msd similarity matrix...\n",
            "Done computing similarity matrix.\n",
            "Computing the msd similarity matrix...\n",
            "Done computing similarity matrix.\n",
            "Computing the msd similarity matrix...\n",
            "Done computing similarity matrix.\n",
            "Computing the msd similarity matrix...\n",
            "Done computing similarity matrix.\n",
            "Computing the msd similarity matrix...\n",
            "Done computing similarity matrix.\n",
            "Computing the msd similarity matrix...\n",
            "Done computing similarity matrix.\n",
            "Computing the msd similarity matrix...\n",
            "Done computing similarity matrix.\n",
            "Computing the msd similarity matrix...\n",
            "Done computing similarity matrix.\n",
            "Computing the msd similarity matrix...\n",
            "Done computing similarity matrix.\n",
            "Computing the msd similarity matrix...\n",
            "Done computing similarity matrix.\n",
            "Computing the msd similarity matrix...\n",
            "Done computing similarity matrix.\n",
            "Computing the msd similarity matrix...\n",
            "Done computing similarity matrix.\n",
            "Computing the msd similarity matrix...\n",
            "Done computing similarity matrix.\n",
            "Computing the msd similarity matrix...\n",
            "Done computing similarity matrix.\n",
            "Computing the msd similarity matrix...\n",
            "Done computing similarity matrix.\n",
            "Computing the msd similarity matrix...\n",
            "Done computing similarity matrix.\n",
            "Estimating biases using als...\n",
            "Computing the msd similarity matrix...\n",
            "Done computing similarity matrix.\n",
            "Estimating biases using als...\n",
            "Computing the msd similarity matrix...\n",
            "Done computing similarity matrix.\n",
            "Estimating biases using als...\n",
            "Computing the msd similarity matrix...\n",
            "Done computing similarity matrix.\n",
            "Estimating biases using als...\n",
            "Computing the msd similarity matrix...\n",
            "Done computing similarity matrix.\n",
            "Estimating biases using als...\n",
            "Computing the msd similarity matrix...\n",
            "Done computing similarity matrix.\n",
            "Estimating biases using als...\n",
            "Computing the msd similarity matrix...\n",
            "Done computing similarity matrix.\n",
            "Estimating biases using als...\n",
            "Computing the msd similarity matrix...\n",
            "Done computing similarity matrix.\n",
            "Estimating biases using als...\n",
            "Computing the msd similarity matrix...\n",
            "Done computing similarity matrix.\n",
            "Estimating biases using als...\n",
            "Computing the msd similarity matrix...\n",
            "Done computing similarity matrix.\n",
            "Estimating biases using als...\n",
            "Computing the msd similarity matrix...\n",
            "Done computing similarity matrix.\n",
            "Estimating biases using als...\n",
            "Estimating biases using als...\n",
            "Estimating biases using als...\n",
            "Estimating biases using als...\n",
            "Estimating biases using als...\n",
            "Estimating biases using als...\n",
            "Estimating biases using als...\n",
            "Estimating biases using als...\n",
            "Estimating biases using als...\n",
            "Estimating biases using als...\n",
            "Computing the cosine similarity matrix...\n",
            "Done computing similarity matrix.\n",
            "Computing the cosine similarity matrix...\n",
            "Done computing similarity matrix.\n",
            "Computing the cosine similarity matrix...\n",
            "Done computing similarity matrix.\n",
            "Computing the cosine similarity matrix...\n",
            "Done computing similarity matrix.\n",
            "Computing the cosine similarity matrix...\n",
            "Done computing similarity matrix.\n",
            "Computing the cosine similarity matrix...\n",
            "Done computing similarity matrix.\n",
            "Computing the cosine similarity matrix...\n",
            "Done computing similarity matrix.\n",
            "Computing the cosine similarity matrix...\n",
            "Done computing similarity matrix.\n",
            "Computing the cosine similarity matrix...\n",
            "Done computing similarity matrix.\n",
            "Computing the cosine similarity matrix...\n",
            "Done computing similarity matrix.\n",
            "Computing the cosine similarity matrix...\n",
            "Done computing similarity matrix.\n",
            "Computing the cosine similarity matrix...\n",
            "Done computing similarity matrix.\n",
            "Computing the cosine similarity matrix...\n",
            "Done computing similarity matrix.\n",
            "Computing the cosine similarity matrix...\n",
            "Done computing similarity matrix.\n",
            "Computing the cosine similarity matrix...\n",
            "Done computing similarity matrix.\n",
            "Computing the cosine similarity matrix...\n",
            "Done computing similarity matrix.\n",
            "Computing the cosine similarity matrix...\n",
            "Done computing similarity matrix.\n",
            "Computing the cosine similarity matrix...\n",
            "Done computing similarity matrix.\n",
            "Computing the cosine similarity matrix...\n",
            "Done computing similarity matrix.\n",
            "Computing the cosine similarity matrix...\n",
            "Done computing similarity matrix.\n",
            "Estimating biases using als...\n",
            "Computing the pearson_baseline similarity matrix...\n",
            "Done computing similarity matrix.\n",
            "Estimating biases using als...\n",
            "Computing the pearson_baseline similarity matrix...\n",
            "Done computing similarity matrix.\n",
            "Estimating biases using als...\n",
            "Computing the pearson_baseline similarity matrix...\n",
            "Done computing similarity matrix.\n",
            "Estimating biases using als...\n",
            "Computing the pearson_baseline similarity matrix...\n",
            "Done computing similarity matrix.\n",
            "Estimating biases using als...\n",
            "Computing the pearson_baseline similarity matrix...\n",
            "Done computing similarity matrix.\n",
            "Estimating biases using als...\n",
            "Computing the pearson_baseline similarity matrix...\n",
            "Done computing similarity matrix.\n",
            "Estimating biases using als...\n",
            "Computing the pearson_baseline similarity matrix...\n",
            "Done computing similarity matrix.\n",
            "Estimating biases using als...\n",
            "Computing the pearson_baseline similarity matrix...\n",
            "Done computing similarity matrix.\n",
            "Estimating biases using als...\n",
            "Computing the pearson_baseline similarity matrix...\n",
            "Done computing similarity matrix.\n",
            "Estimating biases using als...\n",
            "Computing the pearson_baseline similarity matrix...\n",
            "Done computing similarity matrix.\n",
            "Estimating biases using als...\n",
            "Computing the pearson_baseline similarity matrix...\n",
            "Done computing similarity matrix.\n",
            "Estimating biases using als...\n",
            "Computing the pearson_baseline similarity matrix...\n",
            "Done computing similarity matrix.\n",
            "Estimating biases using als...\n",
            "Computing the pearson_baseline similarity matrix...\n",
            "Done computing similarity matrix.\n",
            "Estimating biases using als...\n",
            "Computing the pearson_baseline similarity matrix...\n",
            "Done computing similarity matrix.\n",
            "Estimating biases using als...\n",
            "Computing the pearson_baseline similarity matrix...\n",
            "Done computing similarity matrix.\n",
            "Estimating biases using als...\n",
            "Computing the pearson_baseline similarity matrix...\n",
            "Done computing similarity matrix.\n",
            "Estimating biases using als...\n",
            "Computing the pearson_baseline similarity matrix...\n",
            "Done computing similarity matrix.\n",
            "Estimating biases using als...\n",
            "Computing the pearson_baseline similarity matrix...\n",
            "Done computing similarity matrix.\n",
            "Estimating biases using als...\n",
            "Computing the pearson_baseline similarity matrix...\n",
            "Done computing similarity matrix.\n",
            "Estimating biases using als...\n",
            "Computing the pearson_baseline similarity matrix...\n",
            "Done computing similarity matrix.\n"
          ],
          "name": "stdout"
        },
        {
          "output_type": "execute_result",
          "data": {
            "text/html": [
              "<div>\n",
              "<style scoped>\n",
              "    .dataframe tbody tr th:only-of-type {\n",
              "        vertical-align: middle;\n",
              "    }\n",
              "\n",
              "    .dataframe tbody tr th {\n",
              "        vertical-align: top;\n",
              "    }\n",
              "\n",
              "    .dataframe thead th {\n",
              "        text-align: right;\n",
              "    }\n",
              "</style>\n",
              "<table border=\"1\" class=\"dataframe\">\n",
              "  <thead>\n",
              "    <tr style=\"text-align: right;\">\n",
              "      <th></th>\n",
              "      <th>test_rmse</th>\n",
              "      <th>test_mae</th>\n",
              "      <th>fit_time</th>\n",
              "      <th>test_time</th>\n",
              "    </tr>\n",
              "    <tr>\n",
              "      <th>Algorithm</th>\n",
              "      <th></th>\n",
              "      <th></th>\n",
              "      <th></th>\n",
              "      <th></th>\n",
              "    </tr>\n",
              "  </thead>\n",
              "  <tbody>\n",
              "    <tr>\n",
              "      <th>SVD</th>\n",
              "      <td>1.006040</td>\n",
              "      <td>0.755627</td>\n",
              "      <td>0.184034</td>\n",
              "      <td>0.002495</td>\n",
              "    </tr>\n",
              "    <tr>\n",
              "      <th>BaselineOnly</th>\n",
              "      <td>1.006772</td>\n",
              "      <td>0.765564</td>\n",
              "      <td>0.007813</td>\n",
              "      <td>0.001700</td>\n",
              "    </tr>\n",
              "    <tr>\n",
              "      <th>SVDpp</th>\n",
              "      <td>1.008800</td>\n",
              "      <td>0.749677</td>\n",
              "      <td>1.412097</td>\n",
              "      <td>0.009424</td>\n",
              "    </tr>\n",
              "    <tr>\n",
              "      <th>KNNWithMeans</th>\n",
              "      <td>1.053471</td>\n",
              "      <td>0.791651</td>\n",
              "      <td>0.009103</td>\n",
              "      <td>0.003193</td>\n",
              "    </tr>\n",
              "    <tr>\n",
              "      <th>KNNBaseline</th>\n",
              "      <td>1.057756</td>\n",
              "      <td>0.778046</td>\n",
              "      <td>0.009173</td>\n",
              "      <td>0.003454</td>\n",
              "    </tr>\n",
              "    <tr>\n",
              "      <th>KNNWithMeans</th>\n",
              "      <td>1.075866</td>\n",
              "      <td>0.804466</td>\n",
              "      <td>0.006316</td>\n",
              "      <td>0.003723</td>\n",
              "    </tr>\n",
              "    <tr>\n",
              "      <th>KNNWithZScore</th>\n",
              "      <td>1.085930</td>\n",
              "      <td>0.807261</td>\n",
              "      <td>0.011918</td>\n",
              "      <td>0.003819</td>\n",
              "    </tr>\n",
              "    <tr>\n",
              "      <th>SlopeOne</th>\n",
              "      <td>1.101901</td>\n",
              "      <td>0.824963</td>\n",
              "      <td>0.099108</td>\n",
              "      <td>0.005037</td>\n",
              "    </tr>\n",
              "    <tr>\n",
              "      <th>KNNBasic</th>\n",
              "      <td>1.123505</td>\n",
              "      <td>0.830128</td>\n",
              "      <td>0.001728</td>\n",
              "      <td>0.003538</td>\n",
              "    </tr>\n",
              "    <tr>\n",
              "      <th>CoClustering</th>\n",
              "      <td>1.136705</td>\n",
              "      <td>0.825918</td>\n",
              "      <td>0.223642</td>\n",
              "      <td>0.001774</td>\n",
              "    </tr>\n",
              "    <tr>\n",
              "      <th>KNNWithMeans</th>\n",
              "      <td>1.166904</td>\n",
              "      <td>0.849177</td>\n",
              "      <td>0.216933</td>\n",
              "      <td>0.007714</td>\n",
              "    </tr>\n",
              "    <tr>\n",
              "      <th>KNNWithMeans</th>\n",
              "      <td>1.184388</td>\n",
              "      <td>0.853791</td>\n",
              "      <td>0.150901</td>\n",
              "      <td>0.006234</td>\n",
              "    </tr>\n",
              "    <tr>\n",
              "      <th>NMF</th>\n",
              "      <td>1.196855</td>\n",
              "      <td>0.931455</td>\n",
              "      <td>0.302693</td>\n",
              "      <td>0.002162</td>\n",
              "    </tr>\n",
              "    <tr>\n",
              "      <th>NormalPredictor</th>\n",
              "      <td>1.354858</td>\n",
              "      <td>1.012515</td>\n",
              "      <td>0.003857</td>\n",
              "      <td>0.002548</td>\n",
              "    </tr>\n",
              "  </tbody>\n",
              "</table>\n",
              "</div>"
            ],
            "text/plain": [
              "                 test_rmse  test_mae  fit_time  test_time\n",
              "Algorithm                                                \n",
              "SVD               1.006040  0.755627  0.184034   0.002495\n",
              "BaselineOnly      1.006772  0.765564  0.007813   0.001700\n",
              "SVDpp             1.008800  0.749677  1.412097   0.009424\n",
              "KNNWithMeans      1.053471  0.791651  0.009103   0.003193\n",
              "KNNBaseline       1.057756  0.778046  0.009173   0.003454\n",
              "KNNWithMeans      1.075866  0.804466  0.006316   0.003723\n",
              "KNNWithZScore     1.085930  0.807261  0.011918   0.003819\n",
              "SlopeOne          1.101901  0.824963  0.099108   0.005037\n",
              "KNNBasic          1.123505  0.830128  0.001728   0.003538\n",
              "CoClustering      1.136705  0.825918  0.223642   0.001774\n",
              "KNNWithMeans      1.166904  0.849177  0.216933   0.007714\n",
              "KNNWithMeans      1.184388  0.853791  0.150901   0.006234\n",
              "NMF               1.196855  0.931455  0.302693   0.002162\n",
              "NormalPredictor   1.354858  1.012515  0.003857   0.002548"
            ]
          },
          "metadata": {
            "tags": []
          },
          "execution_count": 80
        }
      ]
    },
    {
      "cell_type": "code",
      "metadata": {
        "id": "aR--azXrGWzs",
        "colab_type": "code",
        "colab": {}
      },
      "source": [
        "## we see that SVDpp has minimum RMSE  so building the model on same "
      ],
      "execution_count": 0,
      "outputs": []
    },
    {
      "cell_type": "code",
      "metadata": {
        "id": "k6S-YNNtUUNx",
        "colab_type": "code",
        "colab": {}
      },
      "source": [
        "trainset_mat = data_recom_mat_reader.build_full_trainset()"
      ],
      "execution_count": 0,
      "outputs": []
    },
    {
      "cell_type": "code",
      "metadata": {
        "id": "kmbJNq-psPtS",
        "colab_type": "code",
        "outputId": "2ab163c2-01e9-4383-c6e8-c3d6b5dc4f30",
        "colab": {
          "base_uri": "https://localhost:8080/",
          "height": 34
        }
      },
      "source": [
        "trainset_mat.ur[1][1]"
      ],
      "execution_count": 83,
      "outputs": [
        {
          "output_type": "execute_result",
          "data": {
            "text/plain": [
              "(14, 1.0)"
            ]
          },
          "metadata": {
            "tags": []
          },
          "execution_count": 83
        }
      ]
    },
    {
      "cell_type": "code",
      "metadata": {
        "id": "ffzTfKzktoYA",
        "colab_type": "code",
        "outputId": "b11a5f0f-bb84-48b8-88ac-fc6a6bcb0a7f",
        "colab": {
          "base_uri": "https://localhost:8080/",
          "height": 34
        }
      },
      "source": [
        "algo = SVDpp()\n",
        "algo.fit(trainset_mat)"
      ],
      "execution_count": 84,
      "outputs": [
        {
          "output_type": "execute_result",
          "data": {
            "text/plain": [
              "<surprise.prediction_algorithms.matrix_factorization.SVDpp at 0x7f219f547a20>"
            ]
          },
          "metadata": {
            "tags": []
          },
          "execution_count": 84
        }
      ]
    },
    {
      "cell_type": "code",
      "metadata": {
        "id": "TK3vyDaMTXkC",
        "colab_type": "code",
        "outputId": "832bbd02-7f0c-471c-e9a5-428c1f01beca",
        "colab": {
          "base_uri": "https://localhost:8080/",
          "height": 34
        }
      },
      "source": [
        "predict = algo.predict(uid='A00038802J7X43YTW44TD',iid= 'B0000645RH')\n",
        "score=predict.est\n",
        "print(score)"
      ],
      "execution_count": 85,
      "outputs": [
        {
          "output_type": "stream",
          "text": [
            "4.262629432067776\n"
          ],
          "name": "stdout"
        }
      ]
    },
    {
      "cell_type": "code",
      "metadata": {
        "id": "XV8mRpRFUZOZ",
        "colab_type": "code",
        "colab": {}
      },
      "source": [
        "# Than predict ratings for all pairs (u, i) that are NOT in the training set.\n",
        "testset_mat = trainset_mat.build_anti_testset()"
      ],
      "execution_count": 0,
      "outputs": []
    },
    {
      "cell_type": "code",
      "metadata": {
        "id": "5Db-Qz-R7q2d",
        "colab_type": "code",
        "outputId": "ad53871c-bdc7-43c3-d4c8-19b8dd7480c3",
        "colab": {
          "base_uri": "https://localhost:8080/",
          "height": 265
        }
      },
      "source": [
        "testset_mat[9:23]"
      ],
      "execution_count": 87,
      "outputs": [
        {
          "output_type": "execute_result",
          "data": {
            "text/plain": [
              "[('A10C84Y38RT22P', 'B00004TZK6', 4.262629432067776),\n",
              " ('A10C84Y38RT22P', 'B00004Z0BN', 4.262629432067776),\n",
              " ('A10C84Y38RT22P', 'B00004Z0C2', 4.262629432067776),\n",
              " ('A10C84Y38RT22P', 'B00004Z672', 4.262629432067776),\n",
              " ('A10C84Y38RT22P', 'B000059L44', 4.262629432067776),\n",
              " ('A10C84Y38RT22P', 'B00005B8SF', 4.262629432067776),\n",
              " ('A10C84Y38RT22P', 'B00005B9W6', 4.262629432067776),\n",
              " ('A10C84Y38RT22P', 'B00005QBUR', 4.262629432067776),\n",
              " ('A10C84Y38RT22P', 'B00005QBUU', 4.262629432067776),\n",
              " ('A10C84Y38RT22P', 'B00005QT5J', 4.262629432067776),\n",
              " ('A10C84Y38RT22P', 'B00005T39Y', 4.262629432067776),\n",
              " ('A10C84Y38RT22P', 'B00005T3SP', 4.262629432067776),\n",
              " ('A10C84Y38RT22P', 'B00005V54U', 4.262629432067776),\n",
              " ('A10C84Y38RT22P', 'B000060OEO', 4.262629432067776)]"
            ]
          },
          "metadata": {
            "tags": []
          },
          "execution_count": 87
        }
      ]
    },
    {
      "cell_type": "code",
      "metadata": {
        "id": "8fPgprP5uFBw",
        "colab_type": "code",
        "colab": {}
      },
      "source": [
        "predictions_mat = algo.test(testset_mat)"
      ],
      "execution_count": 0,
      "outputs": []
    },
    {
      "cell_type": "code",
      "metadata": {
        "id": "qRuh-hMc45Qs",
        "colab_type": "code",
        "outputId": "59c4b909-6f6b-42f6-9302-4bb4f6f4b214",
        "colab": {
          "base_uri": "https://localhost:8080/",
          "height": 176
        }
      },
      "source": [
        "predictions_mat[:9]"
      ],
      "execution_count": 89,
      "outputs": [
        {
          "output_type": "execute_result",
          "data": {
            "text/plain": [
              "[Prediction(uid='A10C84Y38RT22P', iid='B000001OMN', r_ui=4.262629432067776, est=4.046859001665824, details={'was_impossible': False}),\n",
              " Prediction(uid='A10C84Y38RT22P', iid='B00000J1G6', r_ui=4.262629432067776, est=3.723717665281609, details={'was_impossible': False}),\n",
              " Prediction(uid='A10C84Y38RT22P', iid='B00000J9Z7', r_ui=4.262629432067776, est=4.309784754799142, details={'was_impossible': False}),\n",
              " Prediction(uid='A10C84Y38RT22P', iid='B00000JBYW', r_ui=4.262629432067776, est=3.6021651223330626, details={'was_impossible': False}),\n",
              " Prediction(uid='A10C84Y38RT22P', iid='B00000JCTD', r_ui=4.262629432067776, est=4.285002191448045, details={'was_impossible': False}),\n",
              " Prediction(uid='A10C84Y38RT22P', iid='B00001P3XM', r_ui=4.262629432067776, est=4.172571949859146, details={'was_impossible': False}),\n",
              " Prediction(uid='A10C84Y38RT22P', iid='B00001W0D4', r_ui=4.262629432067776, est=4.253347047690503, details={'was_impossible': False}),\n",
              " Prediction(uid='A10C84Y38RT22P', iid='B00001ZWRV', r_ui=4.262629432067776, est=4.177548644778244, details={'was_impossible': False}),\n",
              " Prediction(uid='A10C84Y38RT22P', iid='B00004T8R2', r_ui=4.262629432067776, est=3.8764219541131215, details={'was_impossible': False})]"
            ]
          },
          "metadata": {
            "tags": []
          },
          "execution_count": 89
        }
      ]
    },
    {
      "cell_type": "code",
      "metadata": {
        "colab_type": "code",
        "id": "4afJx7rTDe1H",
        "colab": {}
      },
      "source": [
        "from surprise import accuracy"
      ],
      "execution_count": 0,
      "outputs": []
    },
    {
      "cell_type": "code",
      "metadata": {
        "colab_type": "code",
        "id": "xGuBWPqnDe1Y",
        "outputId": "0d7fb309-2a46-40b9-bb16-ea1dfd873929",
        "colab": {
          "base_uri": "https://localhost:8080/",
          "height": 70
        }
      },
      "source": [
        "# get RMSE\n",
        "print(\"User-based Model : Test Set\")\n",
        "accuracy.rmse(predictions_mat, verbose=True)"
      ],
      "execution_count": 91,
      "outputs": [
        {
          "output_type": "stream",
          "text": [
            "User-based Model : Test Set\n",
            "RMSE: 0.4014\n"
          ],
          "name": "stdout"
        },
        {
          "output_type": "execute_result",
          "data": {
            "text/plain": [
              "0.4013974860307046"
            ]
          },
          "metadata": {
            "tags": []
          },
          "execution_count": 91
        }
      ]
    },
    {
      "cell_type": "code",
      "metadata": {
        "id": "dSFH0ekkJnKN",
        "colab_type": "code",
        "outputId": "f2f7883e-998c-4130-dee0-0e4f0f21f095",
        "colab": {
          "base_uri": "https://localhost:8080/",
          "height": 176
        }
      },
      "source": [
        "for uid, iid, r_ui, est, _ in predictions_mat[:9]:\n",
        "  print(uid, iid, r_ui, est, _)"
      ],
      "execution_count": 92,
      "outputs": [
        {
          "output_type": "stream",
          "text": [
            "A10C84Y38RT22P B000001OMN 4.262629432067776 4.046859001665824 {'was_impossible': False}\n",
            "A10C84Y38RT22P B00000J1G6 4.262629432067776 3.723717665281609 {'was_impossible': False}\n",
            "A10C84Y38RT22P B00000J9Z7 4.262629432067776 4.309784754799142 {'was_impossible': False}\n",
            "A10C84Y38RT22P B00000JBYW 4.262629432067776 3.6021651223330626 {'was_impossible': False}\n",
            "A10C84Y38RT22P B00000JCTD 4.262629432067776 4.285002191448045 {'was_impossible': False}\n",
            "A10C84Y38RT22P B00001P3XM 4.262629432067776 4.172571949859146 {'was_impossible': False}\n",
            "A10C84Y38RT22P B00001W0D4 4.262629432067776 4.253347047690503 {'was_impossible': False}\n",
            "A10C84Y38RT22P B00001ZWRV 4.262629432067776 4.177548644778244 {'was_impossible': False}\n",
            "A10C84Y38RT22P B00004T8R2 4.262629432067776 3.8764219541131215 {'was_impossible': False}\n"
          ],
          "name": "stdout"
        }
      ]
    },
    {
      "cell_type": "code",
      "metadata": {
        "id": "hpRJaBqHuMtT",
        "colab_type": "code",
        "colab": {}
      },
      "source": [
        "def get_top_n(predictions,userid, n=5):\n",
        "  # First map the predictions to each user.\n",
        "  from collections import defaultdict\n",
        "  top_n =  defaultdict(list)\n",
        "  for uid, iid, r_ui, est, _ in predictions:\n",
        "     ## we can use r_ui also instead of true_r and we used _ to resolve error \"too many values to unpack (expected 4)\"\n",
        "     ###  ## A00038802J7X43YTW44TD B0000645RH 4.446808510638298 4.07584978867076 {'was_impossible': False}\n",
        "     top_n[uid].append((iid, est)) ##  {'A00038802J7X43YTW44TD': [('B0000645RH', 4.07584978867076),('B00066IJPQ', 4.3932911625590245),('B0000C4DVM', 4.051358159687522)],...\n",
        "\n",
        "        # Then sort the predictions for each user and retrieve the k highest ones.\n",
        "        # for uid, user_ratings in top_n.items():\n",
        "     userid_list = top_n[userid]\n",
        "     userid_list.sort(key=lambda x: x[1], reverse=True)\n",
        "        # L = [(1,2), (2,3), (4,5), (3,4), (6,7), (6,7), (3,8)]\n",
        "        #[x[1] for x in L]\n",
        "     items_sorted_list = [x[0] for x in userid_list]\n",
        "     top_n_recomm =[]\n",
        "     top_n_recomm = items_sorted_list[:n]\n",
        "  return 'Top {} recommended Items are -  {}'.format(n,top_n_recomm)"
      ],
      "execution_count": 0,
      "outputs": []
    },
    {
      "cell_type": "code",
      "metadata": {
        "id": "1B0iiLYyuPPU",
        "colab_type": "code",
        "outputId": "9dbf7f51-7e76-436f-9799-a183481c1e8d",
        "colab": {
          "base_uri": "https://localhost:8080/",
          "height": 34
        }
      },
      "source": [
        "top_n = get_top_n(predictions_mat,'A10C84Y38RT22P', n=10)\n",
        "top_n"
      ],
      "execution_count": 94,
      "outputs": [
        {
          "output_type": "execute_result",
          "data": {
            "text/plain": [
              "\"Top 10 recommended Items are -  ['B00004WHF9', 'B00006HZ0L', 'B000031KIM', 'B00005Q5U5', 'B00004Z5M1', 'B00000JHVP', 'B00000J4FS', 'B00006B7HB', 'B00005ICE3', 'B00004Y7CF']\""
            ]
          },
          "metadata": {
            "tags": []
          },
          "execution_count": 94
        }
      ]
    },
    {
      "cell_type": "code",
      "metadata": {
        "id": "a4F7BKX8uWsY",
        "colab_type": "code",
        "colab": {}
      },
      "source": [
        "############################################################### USER-USER RECOMMENDATION ####################################################################################"
      ],
      "execution_count": 0,
      "outputs": []
    },
    {
      "cell_type": "code",
      "metadata": {
        "id": "4I_iiCZxKY9X",
        "colab_type": "code",
        "colab": {}
      },
      "source": [
        "\n",
        "from surprise.model_selection import train_test_split"
      ],
      "execution_count": 0,
      "outputs": []
    },
    {
      "cell_type": "code",
      "metadata": {
        "colab_type": "code",
        "id": "zVp0yOPEHh7l",
        "colab": {}
      },
      "source": [
        "reader = Reader(rating_scale=(1,5))\n",
        "dataset_reader = Dataset.load_from_df(data_recom_mat, reader)"
      ],
      "execution_count": 0,
      "outputs": []
    },
    {
      "cell_type": "code",
      "metadata": {
        "id": "Edt6sOI8KGKO",
        "colab_type": "code",
        "colab": {}
      },
      "source": [
        "trainset_70, testset_30 = train_test_split(dataset_reader, test_size=.3)"
      ],
      "execution_count": 0,
      "outputs": []
    },
    {
      "cell_type": "code",
      "metadata": {
        "id": "9bpFYoOq9ldm",
        "colab_type": "code",
        "outputId": "74d413f2-d1cf-49bf-cc37-252aeb63ce02",
        "colab": {
          "base_uri": "https://localhost:8080/",
          "height": 47
        }
      },
      "source": [
        "MLA_columns = ['MLA_Name']\n",
        "MLA_compare_user = pd.DataFrame(columns = MLA_columns)\n",
        "MLA_compare_user"
      ],
      "execution_count": 99,
      "outputs": [
        {
          "output_type": "execute_result",
          "data": {
            "text/html": [
              "<div>\n",
              "<style scoped>\n",
              "    .dataframe tbody tr th:only-of-type {\n",
              "        vertical-align: middle;\n",
              "    }\n",
              "\n",
              "    .dataframe tbody tr th {\n",
              "        vertical-align: top;\n",
              "    }\n",
              "\n",
              "    .dataframe thead th {\n",
              "        text-align: right;\n",
              "    }\n",
              "</style>\n",
              "<table border=\"1\" class=\"dataframe\">\n",
              "  <thead>\n",
              "    <tr style=\"text-align: right;\">\n",
              "      <th></th>\n",
              "      <th>MLA_Name</th>\n",
              "    </tr>\n",
              "  </thead>\n",
              "  <tbody>\n",
              "  </tbody>\n",
              "</table>\n",
              "</div>"
            ],
            "text/plain": [
              "Empty DataFrame\n",
              "Columns: [MLA_Name]\n",
              "Index: []"
            ]
          },
          "metadata": {
            "tags": []
          },
          "execution_count": 99
        }
      ]
    },
    {
      "cell_type": "code",
      "metadata": {
        "id": "9MMA5nPODcDo",
        "colab_type": "code",
        "colab": {}
      },
      "source": [
        "MLA_user =[   KNNBasic()\n",
        "        ,SVD()\n",
        "      , SVDpp()\n",
        "      , SlopeOne()\n",
        "      , NMF()\n",
        "      , NormalPredictor()\n",
        "      ,KNNWithZScore()\n",
        "      , KNNBaseline()\n",
        "      , BaselineOnly()\n",
        "      , CoClustering()\n",
        "     ,KNNWithMeans(k=5, bsl_options=bsl_options,sim_options={'name': 'cosine','user_based': True})\n",
        "     ,KNNWithMeans(k=5, bsl_options=bsl_options,sim_options={'name': 'pearson_baseline','shrinkage': 0  , 'user_based': True}) \n",
        "]"
      ],
      "execution_count": 0,
      "outputs": []
    },
    {
      "cell_type": "code",
      "metadata": {
        "id": "nSPbZExgCyfX",
        "colab_type": "code",
        "outputId": "a68dbb8d-80b4-4f40-de99-52c222dcbb15",
        "colab": {
          "base_uri": "https://localhost:8080/",
          "height": 461
        }
      },
      "source": [
        "row_index = 0\n",
        "for alg in MLA_user:\n",
        "    \n",
        "    from datetime import datetime\n",
        "    import time\n",
        "\n",
        "    #set name and parameters\n",
        "    #print(alg.__class__.__name__)\n",
        "    MLA_compare_user.loc[row_index, 'MLA_Name'] = alg.__class__.__name__\n",
        "    #print(str(alg.get_params()))\n",
        "   # Use user_based true/false to switch between user-based or item-based collaborative filtering\n",
        "    algo = alg\n",
        "    algo.fit(trainset_70)\n",
        "    test_pred = algo.test(testset_30)\n",
        "    MLA_compare_user.loc[row_index, 'RMSE'] =  accuracy.rmse(test_pred, verbose=True)\n",
        "    MLA_compare_user.loc[row_index, 'Timestamp'] = str(datetime.now().strftime('%Y-%m-%d %H:%M:%S'))\n",
        "      \n",
        "    row_index+=1\n",
        " "
      ],
      "execution_count": 101,
      "outputs": [
        {
          "output_type": "stream",
          "text": [
            "Computing the msd similarity matrix...\n",
            "Done computing similarity matrix.\n",
            "RMSE: 1.0658\n",
            "RMSE: 0.9840\n",
            "RMSE: 0.9829\n",
            "RMSE: 1.0509\n",
            "RMSE: 1.1399\n",
            "RMSE: 1.3401\n",
            "Computing the msd similarity matrix...\n",
            "Done computing similarity matrix.\n",
            "RMSE: 1.0442\n",
            "Estimating biases using als...\n",
            "Computing the msd similarity matrix...\n",
            "Done computing similarity matrix.\n",
            "RMSE: 1.0078\n",
            "Estimating biases using als...\n",
            "RMSE: 0.9891\n",
            "RMSE: 1.0743\n",
            "Computing the cosine similarity matrix...\n",
            "Done computing similarity matrix.\n",
            "RMSE: 1.0331\n",
            "Estimating biases using als...\n",
            "Computing the pearson_baseline similarity matrix...\n",
            "Done computing similarity matrix.\n",
            "RMSE: 1.0323\n"
          ],
          "name": "stdout"
        }
      ]
    },
    {
      "cell_type": "code",
      "metadata": {
        "id": "DXhpRR25_8QP",
        "colab_type": "code",
        "outputId": "c2b49f64-22ea-463d-b40c-f74a1f4ea23f",
        "colab": {
          "base_uri": "https://localhost:8080/",
          "height": 407
        }
      },
      "source": [
        "MLA_compare_user"
      ],
      "execution_count": 102,
      "outputs": [
        {
          "output_type": "execute_result",
          "data": {
            "text/html": [
              "<div>\n",
              "<style scoped>\n",
              "    .dataframe tbody tr th:only-of-type {\n",
              "        vertical-align: middle;\n",
              "    }\n",
              "\n",
              "    .dataframe tbody tr th {\n",
              "        vertical-align: top;\n",
              "    }\n",
              "\n",
              "    .dataframe thead th {\n",
              "        text-align: right;\n",
              "    }\n",
              "</style>\n",
              "<table border=\"1\" class=\"dataframe\">\n",
              "  <thead>\n",
              "    <tr style=\"text-align: right;\">\n",
              "      <th></th>\n",
              "      <th>MLA_Name</th>\n",
              "      <th>RMSE</th>\n",
              "      <th>Timestamp</th>\n",
              "    </tr>\n",
              "  </thead>\n",
              "  <tbody>\n",
              "    <tr>\n",
              "      <th>0</th>\n",
              "      <td>KNNBasic</td>\n",
              "      <td>1.065833</td>\n",
              "      <td>2019-11-22 05:19:09</td>\n",
              "    </tr>\n",
              "    <tr>\n",
              "      <th>1</th>\n",
              "      <td>SVD</td>\n",
              "      <td>0.983984</td>\n",
              "      <td>2019-11-22 05:19:09</td>\n",
              "    </tr>\n",
              "    <tr>\n",
              "      <th>2</th>\n",
              "      <td>SVDpp</td>\n",
              "      <td>0.982897</td>\n",
              "      <td>2019-11-22 05:19:10</td>\n",
              "    </tr>\n",
              "    <tr>\n",
              "      <th>3</th>\n",
              "      <td>SlopeOne</td>\n",
              "      <td>1.050913</td>\n",
              "      <td>2019-11-22 05:19:10</td>\n",
              "    </tr>\n",
              "    <tr>\n",
              "      <th>4</th>\n",
              "      <td>NMF</td>\n",
              "      <td>1.139885</td>\n",
              "      <td>2019-11-22 05:19:10</td>\n",
              "    </tr>\n",
              "    <tr>\n",
              "      <th>5</th>\n",
              "      <td>NormalPredictor</td>\n",
              "      <td>1.340074</td>\n",
              "      <td>2019-11-22 05:19:10</td>\n",
              "    </tr>\n",
              "    <tr>\n",
              "      <th>6</th>\n",
              "      <td>KNNWithZScore</td>\n",
              "      <td>1.044199</td>\n",
              "      <td>2019-11-22 05:19:10</td>\n",
              "    </tr>\n",
              "    <tr>\n",
              "      <th>7</th>\n",
              "      <td>KNNBaseline</td>\n",
              "      <td>1.007778</td>\n",
              "      <td>2019-11-22 05:19:10</td>\n",
              "    </tr>\n",
              "    <tr>\n",
              "      <th>8</th>\n",
              "      <td>BaselineOnly</td>\n",
              "      <td>0.989079</td>\n",
              "      <td>2019-11-22 05:19:10</td>\n",
              "    </tr>\n",
              "    <tr>\n",
              "      <th>9</th>\n",
              "      <td>CoClustering</td>\n",
              "      <td>1.074277</td>\n",
              "      <td>2019-11-22 05:19:10</td>\n",
              "    </tr>\n",
              "    <tr>\n",
              "      <th>10</th>\n",
              "      <td>KNNWithMeans</td>\n",
              "      <td>1.033132</td>\n",
              "      <td>2019-11-22 05:19:10</td>\n",
              "    </tr>\n",
              "    <tr>\n",
              "      <th>11</th>\n",
              "      <td>KNNWithMeans</td>\n",
              "      <td>1.032294</td>\n",
              "      <td>2019-11-22 05:19:10</td>\n",
              "    </tr>\n",
              "  </tbody>\n",
              "</table>\n",
              "</div>"
            ],
            "text/plain": [
              "           MLA_Name      RMSE            Timestamp\n",
              "0          KNNBasic  1.065833  2019-11-22 05:19:09\n",
              "1               SVD  0.983984  2019-11-22 05:19:09\n",
              "2             SVDpp  0.982897  2019-11-22 05:19:10\n",
              "3          SlopeOne  1.050913  2019-11-22 05:19:10\n",
              "4               NMF  1.139885  2019-11-22 05:19:10\n",
              "5   NormalPredictor  1.340074  2019-11-22 05:19:10\n",
              "6     KNNWithZScore  1.044199  2019-11-22 05:19:10\n",
              "7       KNNBaseline  1.007778  2019-11-22 05:19:10\n",
              "8      BaselineOnly  0.989079  2019-11-22 05:19:10\n",
              "9      CoClustering  1.074277  2019-11-22 05:19:10\n",
              "10     KNNWithMeans  1.033132  2019-11-22 05:19:10\n",
              "11     KNNWithMeans  1.032294  2019-11-22 05:19:10"
            ]
          },
          "metadata": {
            "tags": []
          },
          "execution_count": 102
        }
      ]
    },
    {
      "cell_type": "code",
      "metadata": {
        "id": "L0rM-q_V9lWP",
        "colab_type": "code",
        "outputId": "a5f21a2e-ab1c-4b44-fe90-f3418a4bee7f",
        "colab": {
          "base_uri": "https://localhost:8080/",
          "height": 34
        }
      },
      "source": [
        "fmt = '%Y-%m-%d %H:%M:%S'\n",
        "max_tstmp = datetime.strptime(MLA_compare_user['Timestamp'].max(), fmt)\n",
        "min_tstmp = datetime.strptime(MLA_compare_user['Timestamp'].min(), fmt)\n",
        "\n",
        "\n",
        "td = max_tstmp - min_tstmp\n",
        "td_mins = int(round(td.total_seconds() / 60))\n",
        "\n",
        "print('The model performance is approx. %s minutes' % td_mins)"
      ],
      "execution_count": 103,
      "outputs": [
        {
          "output_type": "stream",
          "text": [
            "The model performance is approx. 0 minutes\n"
          ],
          "name": "stdout"
        }
      ]
    },
    {
      "cell_type": "code",
      "metadata": {
        "id": "9FdnL3s_EFDS",
        "colab_type": "code",
        "colab": {}
      },
      "source": [
        "MLA_compare_user.sort_values(by='RMSE',ascending=True,inplace=True)"
      ],
      "execution_count": 0,
      "outputs": []
    },
    {
      "cell_type": "code",
      "metadata": {
        "colab_type": "code",
        "id": "pYEpI_qcLFkZ",
        "colab": {}
      },
      "source": [
        "############################################################### ITEM - ITEM RECOMMENDATION ##################################"
      ],
      "execution_count": 0,
      "outputs": []
    },
    {
      "cell_type": "code",
      "metadata": {
        "colab_type": "code",
        "id": "OtU5GPP9Ecmg",
        "colab": {}
      },
      "source": [
        "\n",
        "from surprise.model_selection import train_test_split"
      ],
      "execution_count": 0,
      "outputs": []
    },
    {
      "cell_type": "code",
      "metadata": {
        "colab_type": "code",
        "id": "WqcOv_4iEcmq",
        "colab": {}
      },
      "source": [
        "\n",
        "reader = Reader(rating_scale=(1,5))\n",
        "dataset_reader = Dataset.load_from_df(data_recom_mat, reader)"
      ],
      "execution_count": 0,
      "outputs": []
    },
    {
      "cell_type": "code",
      "metadata": {
        "colab_type": "code",
        "id": "x68KD-5TEcmv",
        "colab": {}
      },
      "source": [
        "trainset_70, testset_30 = train_test_split(dataset_reader, test_size=.3)"
      ],
      "execution_count": 0,
      "outputs": []
    },
    {
      "cell_type": "code",
      "metadata": {
        "colab_type": "code",
        "id": "ZzTkv1NjEcmz",
        "outputId": "c1368f54-f499-4b42-d2f7-bc3a047757aa",
        "colab": {
          "base_uri": "https://localhost:8080/",
          "height": 47
        }
      },
      "source": [
        "MLA_columns = ['MLA_Name']\n",
        "MLA_compare_item = pd.DataFrame(columns = MLA_columns)\n",
        "MLA_compare_item"
      ],
      "execution_count": 109,
      "outputs": [
        {
          "output_type": "execute_result",
          "data": {
            "text/html": [
              "<div>\n",
              "<style scoped>\n",
              "    .dataframe tbody tr th:only-of-type {\n",
              "        vertical-align: middle;\n",
              "    }\n",
              "\n",
              "    .dataframe tbody tr th {\n",
              "        vertical-align: top;\n",
              "    }\n",
              "\n",
              "    .dataframe thead th {\n",
              "        text-align: right;\n",
              "    }\n",
              "</style>\n",
              "<table border=\"1\" class=\"dataframe\">\n",
              "  <thead>\n",
              "    <tr style=\"text-align: right;\">\n",
              "      <th></th>\n",
              "      <th>MLA_Name</th>\n",
              "    </tr>\n",
              "  </thead>\n",
              "  <tbody>\n",
              "  </tbody>\n",
              "</table>\n",
              "</div>"
            ],
            "text/plain": [
              "Empty DataFrame\n",
              "Columns: [MLA_Name]\n",
              "Index: []"
            ]
          },
          "metadata": {
            "tags": []
          },
          "execution_count": 109
        }
      ]
    },
    {
      "cell_type": "code",
      "metadata": {
        "colab_type": "code",
        "id": "wFrtmU0MEcm7",
        "colab": {}
      },
      "source": [
        "MLA_item =[   KNNBasic()\n",
        "        ,SVD()\n",
        "      , SVDpp()\n",
        "      , SlopeOne()\n",
        "      , NMF()\n",
        "      , NormalPredictor()\n",
        "      ,KNNWithZScore()\n",
        "      , KNNBaseline()\n",
        "      , BaselineOnly()\n",
        "      , CoClustering()\n",
        "     ,KNNWithMeans(k=5, bsl_options=bsl_options,sim_options={'name': 'cosine','user_based': False})\n",
        "     ,KNNWithMeans(k=5, bsl_options=bsl_options,sim_options={'name': 'pearson_baseline','shrinkage': 0  , 'user_based': False}) \n",
        "]"
      ],
      "execution_count": 0,
      "outputs": []
    },
    {
      "cell_type": "code",
      "metadata": {
        "colab_type": "code",
        "id": "TJ9tX2YWEcnC",
        "outputId": "3af067b2-c31e-483c-d110-00da3c05a546",
        "colab": {
          "base_uri": "https://localhost:8080/",
          "height": 461
        }
      },
      "source": [
        "row_index = 0\n",
        "for alg in MLA_item:\n",
        "    \n",
        "    from datetime import datetime\n",
        "    import time\n",
        "\n",
        "    #set name and parameters\n",
        "    #print(alg.__class__.__name__)\n",
        "    MLA_compare_item.loc[row_index, 'MLA_Name'] = alg.__class__.__name__\n",
        "    #print(str(alg.get_params()))\n",
        "   # Use user_based true/false to switch between user-based or item-based collaborative filtering\n",
        "    algo = alg\n",
        "    algo.fit(trainset_70)\n",
        "    test_pred = algo.test(testset_30)\n",
        "    MLA_compare_item.loc[row_index, 'RMSE'] =  accuracy.rmse(test_pred, verbose=True)\n",
        "    MLA_compare_item.loc[row_index, 'Timestamp'] = str(datetime.now().strftime('%Y-%m-%d %H:%M:%S'))\n",
        "      \n",
        "    row_index+=1\n",
        " "
      ],
      "execution_count": 111,
      "outputs": [
        {
          "output_type": "stream",
          "text": [
            "Computing the msd similarity matrix...\n",
            "Done computing similarity matrix.\n",
            "RMSE: 1.0987\n",
            "RMSE: 1.0167\n",
            "RMSE: 1.0200\n",
            "RMSE: 1.0715\n",
            "RMSE: 1.2128\n",
            "RMSE: 1.3629\n",
            "Computing the msd similarity matrix...\n",
            "Done computing similarity matrix.\n",
            "RMSE: 1.0674\n",
            "Estimating biases using als...\n",
            "Computing the msd similarity matrix...\n",
            "Done computing similarity matrix.\n",
            "RMSE: 1.0519\n",
            "Estimating biases using als...\n",
            "RMSE: 1.0161\n",
            "RMSE: 1.1449\n",
            "Computing the cosine similarity matrix...\n",
            "Done computing similarity matrix.\n",
            "RMSE: 1.1653\n",
            "Estimating biases using als...\n",
            "Computing the pearson_baseline similarity matrix...\n",
            "Done computing similarity matrix.\n",
            "RMSE: 1.1773\n"
          ],
          "name": "stdout"
        }
      ]
    },
    {
      "cell_type": "code",
      "metadata": {
        "colab_type": "code",
        "id": "XLrFCHoPEcnH",
        "outputId": "87931584-683d-4ea9-d957-babdf4f8b324",
        "colab": {
          "base_uri": "https://localhost:8080/",
          "height": 407
        }
      },
      "source": [
        "MLA_compare_item"
      ],
      "execution_count": 112,
      "outputs": [
        {
          "output_type": "execute_result",
          "data": {
            "text/html": [
              "<div>\n",
              "<style scoped>\n",
              "    .dataframe tbody tr th:only-of-type {\n",
              "        vertical-align: middle;\n",
              "    }\n",
              "\n",
              "    .dataframe tbody tr th {\n",
              "        vertical-align: top;\n",
              "    }\n",
              "\n",
              "    .dataframe thead th {\n",
              "        text-align: right;\n",
              "    }\n",
              "</style>\n",
              "<table border=\"1\" class=\"dataframe\">\n",
              "  <thead>\n",
              "    <tr style=\"text-align: right;\">\n",
              "      <th></th>\n",
              "      <th>MLA_Name</th>\n",
              "      <th>RMSE</th>\n",
              "      <th>Timestamp</th>\n",
              "    </tr>\n",
              "  </thead>\n",
              "  <tbody>\n",
              "    <tr>\n",
              "      <th>0</th>\n",
              "      <td>KNNBasic</td>\n",
              "      <td>1.098682</td>\n",
              "      <td>2019-11-22 05:19:32</td>\n",
              "    </tr>\n",
              "    <tr>\n",
              "      <th>1</th>\n",
              "      <td>SVD</td>\n",
              "      <td>1.016742</td>\n",
              "      <td>2019-11-22 05:19:32</td>\n",
              "    </tr>\n",
              "    <tr>\n",
              "      <th>2</th>\n",
              "      <td>SVDpp</td>\n",
              "      <td>1.019999</td>\n",
              "      <td>2019-11-22 05:19:33</td>\n",
              "    </tr>\n",
              "    <tr>\n",
              "      <th>3</th>\n",
              "      <td>SlopeOne</td>\n",
              "      <td>1.071526</td>\n",
              "      <td>2019-11-22 05:19:33</td>\n",
              "    </tr>\n",
              "    <tr>\n",
              "      <th>4</th>\n",
              "      <td>NMF</td>\n",
              "      <td>1.212795</td>\n",
              "      <td>2019-11-22 05:19:33</td>\n",
              "    </tr>\n",
              "    <tr>\n",
              "      <th>5</th>\n",
              "      <td>NormalPredictor</td>\n",
              "      <td>1.362913</td>\n",
              "      <td>2019-11-22 05:19:33</td>\n",
              "    </tr>\n",
              "    <tr>\n",
              "      <th>6</th>\n",
              "      <td>KNNWithZScore</td>\n",
              "      <td>1.067386</td>\n",
              "      <td>2019-11-22 05:19:33</td>\n",
              "    </tr>\n",
              "    <tr>\n",
              "      <th>7</th>\n",
              "      <td>KNNBaseline</td>\n",
              "      <td>1.051887</td>\n",
              "      <td>2019-11-22 05:19:33</td>\n",
              "    </tr>\n",
              "    <tr>\n",
              "      <th>8</th>\n",
              "      <td>BaselineOnly</td>\n",
              "      <td>1.016104</td>\n",
              "      <td>2019-11-22 05:19:33</td>\n",
              "    </tr>\n",
              "    <tr>\n",
              "      <th>9</th>\n",
              "      <td>CoClustering</td>\n",
              "      <td>1.144876</td>\n",
              "      <td>2019-11-22 05:19:33</td>\n",
              "    </tr>\n",
              "    <tr>\n",
              "      <th>10</th>\n",
              "      <td>KNNWithMeans</td>\n",
              "      <td>1.165308</td>\n",
              "      <td>2019-11-22 05:19:34</td>\n",
              "    </tr>\n",
              "    <tr>\n",
              "      <th>11</th>\n",
              "      <td>KNNWithMeans</td>\n",
              "      <td>1.177277</td>\n",
              "      <td>2019-11-22 05:19:34</td>\n",
              "    </tr>\n",
              "  </tbody>\n",
              "</table>\n",
              "</div>"
            ],
            "text/plain": [
              "           MLA_Name      RMSE            Timestamp\n",
              "0          KNNBasic  1.098682  2019-11-22 05:19:32\n",
              "1               SVD  1.016742  2019-11-22 05:19:32\n",
              "2             SVDpp  1.019999  2019-11-22 05:19:33\n",
              "3          SlopeOne  1.071526  2019-11-22 05:19:33\n",
              "4               NMF  1.212795  2019-11-22 05:19:33\n",
              "5   NormalPredictor  1.362913  2019-11-22 05:19:33\n",
              "6     KNNWithZScore  1.067386  2019-11-22 05:19:33\n",
              "7       KNNBaseline  1.051887  2019-11-22 05:19:33\n",
              "8      BaselineOnly  1.016104  2019-11-22 05:19:33\n",
              "9      CoClustering  1.144876  2019-11-22 05:19:33\n",
              "10     KNNWithMeans  1.165308  2019-11-22 05:19:34\n",
              "11     KNNWithMeans  1.177277  2019-11-22 05:19:34"
            ]
          },
          "metadata": {
            "tags": []
          },
          "execution_count": 112
        }
      ]
    },
    {
      "cell_type": "code",
      "metadata": {
        "colab_type": "code",
        "id": "EboQIxKZEcnM",
        "outputId": "f375e89f-90f9-46e6-c842-48f15058c8d2",
        "colab": {
          "base_uri": "https://localhost:8080/",
          "height": 34
        }
      },
      "source": [
        "fmt = '%Y-%m-%d %H:%M:%S'\n",
        "max_tstmp = datetime.strptime(MLA_compare_item['Timestamp'].max(), fmt)\n",
        "min_tstmp = datetime.strptime(MLA_compare_item['Timestamp'].min(), fmt)\n",
        "\n",
        "\n",
        "td = max_tstmp - min_tstmp\n",
        "td_mins = int(round(td.total_seconds() / 60))\n",
        "\n",
        "print('The model performance is approx. %s minutes' % td_mins)"
      ],
      "execution_count": 113,
      "outputs": [
        {
          "output_type": "stream",
          "text": [
            "The model performance is approx. 0 minutes\n"
          ],
          "name": "stdout"
        }
      ]
    },
    {
      "cell_type": "code",
      "metadata": {
        "colab_type": "code",
        "id": "RlhT9rmEEcnR",
        "colab": {}
      },
      "source": [
        "MLA_compare_item.sort_values(by='RMSE',ascending=True,inplace=True)"
      ],
      "execution_count": 0,
      "outputs": []
    },
    {
      "cell_type": "code",
      "metadata": {
        "colab_type": "code",
        "id": "4-GziHFoEcnV",
        "outputId": "9a1b831e-8ec7-4244-a3a5-55048b079164",
        "colab": {
          "base_uri": "https://localhost:8080/",
          "height": 427
        }
      },
      "source": [
        "plt.figure(figsize=(20,4))\n",
        "sns.pointplot(y='RMSE', x ='MLA_Name', data = MLA_compare_item , color = 'r',markers=[\"*\"],label = 'RMSE')\n",
        "sns.pointplot(y='RMSE', x ='MLA_Name', data = MLA_compare_user , color = 'b',markers=[\"o\"],label = 'RMSE')\n",
        "plt.title('Machine Learning Algorithm Results \\n\\n               RMSE')\n",
        "plt.xlabel('MLA_name')\n",
        "plt.ylabel('RMSE_score')\n",
        "plt.xticks(rotation=60)\n"
      ],
      "execution_count": 115,
      "outputs": [
        {
          "output_type": "execute_result",
          "data": {
            "text/plain": [
              "(array([ 0,  1,  2,  3,  4,  5,  6,  7,  8,  9, 10]),\n",
              " <a list of 11 Text xticklabel objects>)"
            ]
          },
          "metadata": {
            "tags": []
          },
          "execution_count": 115
        },
        {
          "output_type": "display_data",
          "data": {
            "image/png": "[encoded data removed]",
            "text/plain": [
              "<Figure size 1440x288 with 1 Axes>"
            ]
          },
          "metadata": {
            "tags": []
          }
        }
      ]
    },
    {
      "cell_type": "code",
      "metadata": {
        "id": "j-bbpKL5Kudi",
        "colab_type": "code",
        "colab": {}
      },
      "source": [
        "##################################################################################################################################################################################################################"
      ],
      "execution_count": 0,
      "outputs": []
    },
    {
      "cell_type": "code",
      "metadata": {
        "id": "bc3VdW1qsFrl",
        "colab_type": "code",
        "colab": {}
      },
      "source": [
        ""
      ],
      "execution_count": 0,
      "outputs": []
    },
    {
      "cell_type": "code",
      "metadata": {
        "id": "ewF8MMwcBATE",
        "colab_type": "code",
        "colab": {}
      },
      "source": [
        ""
      ],
      "execution_count": 0,
      "outputs": []
    },
    {
      "cell_type": "code",
      "metadata": {
        "id": "nrhXlrFcBAPo",
        "colab_type": "code",
        "colab": {}
      },
      "source": [
        ""
      ],
      "execution_count": 0,
      "outputs": []
    },
    {
      "cell_type": "code",
      "metadata": {
        "id": "O6ZUXXk9BALS",
        "colab_type": "code",
        "colab": {}
      },
      "source": [
        ""
      ],
      "execution_count": 0,
      "outputs": []
    },
    {
      "cell_type": "code",
      "metadata": {
        "id": "s2AUoc5WBAF6",
        "colab_type": "code",
        "colab": {}
      },
      "source": [
        ""
      ],
      "execution_count": 0,
      "outputs": []
    },
    {
      "cell_type": "code",
      "metadata": {
        "id": "LRA8stkbBABw",
        "colab_type": "code",
        "colab": {}
      },
      "source": [
        ""
      ],
      "execution_count": 0,
      "outputs": []
    },
    {
      "cell_type": "code",
      "metadata": {
        "id": "wJJTw915A_6E",
        "colab_type": "code",
        "colab": {}
      },
      "source": [
        ""
      ],
      "execution_count": 0,
      "outputs": []
    }
  ]
}