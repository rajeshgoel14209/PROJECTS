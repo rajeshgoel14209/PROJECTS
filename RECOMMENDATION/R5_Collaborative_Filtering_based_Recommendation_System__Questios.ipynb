{
  "nbformat": 4,
  "nbformat_minor": 0,
  "metadata": {
    "kernelspec": {
      "display_name": "Python 3",
      "language": "python",
      "name": "python3"
    },
    "language_info": {
      "codemirror_mode": {
        "name": "ipython",
        "version": 3
      },
      "file_extension": ".py",
      "mimetype": "text/x-python",
      "name": "python",
      "nbconvert_exporter": "python",
      "pygments_lexer": "ipython3",
      "version": "3.6.4"
    },
    "colab": {
      "name": "Collaborative Filtering based Recommendation System_Questios2.ipynb",
      "provenance": [],
      "collapsed_sections": [
        "C7vFmzJl3B4I",
        "30k4Bvo13B4c"
      ]
    }
  },
  "cells": [
    {
      "cell_type": "markdown",
      "metadata": {
        "id": "ZwagvVKF3B1M",
        "colab_type": "text"
      },
      "source": [
        "**About Book Crossing Dataset**<br>\n",
        "\n",
        "This dataset has been compiled by Cai-Nicolas Ziegler in 2004, and it comprises of three tables for users, books and ratings. Explicit ratings are expressed on a scale from 1-10 (higher values denoting higher appreciation) and implicit rating is expressed by 0."
      ]
    },
    {
      "cell_type": "markdown",
      "metadata": {
        "id": "_dFsCXPO3B1R",
        "colab_type": "text"
      },
      "source": [
        "Reference: http://www2.informatik.uni-freiburg.de/~cziegler/BX/ "
      ]
    },
    {
      "cell_type": "markdown",
      "metadata": {
        "id": "zQ7GJT2S3B1T",
        "colab_type": "text"
      },
      "source": [
        "**Objective**\n",
        "\n",
        "This project entails building a Book Recommender System for users based on user-based and item-based collaborative filtering approaches."
      ]
    },
    {
      "cell_type": "markdown",
      "metadata": {
        "id": "_P9YlQkX3B1V",
        "colab_type": "text"
      },
      "source": [
        "#### Execute the below cell to load the datasets"
      ]
    },
    {
      "cell_type": "code",
      "metadata": {
        "id": "XWIiRn21Cq5o",
        "colab_type": "code",
        "colab": {}
      },
      "source": [
        "import io\n",
        "import pandas as pd\n",
        "import numpy as np"
      ],
      "execution_count": 0,
      "outputs": []
    },
    {
      "cell_type": "code",
      "metadata": {
        "id": "TET9hA7iC0FG",
        "colab_type": "code",
        "outputId": "2ef0c23f-3c23-4274-ea15-15d54707df88",
        "colab": {
          "base_uri": "https://localhost:8080/",
          "height": 34
        }
      },
      "source": [
        "from google.colab import drive\n",
        "drive.mount('/content/drive')"
      ],
      "execution_count": 683,
      "outputs": [
        {
          "output_type": "stream",
          "text": [
            "Drive already mounted at /content/drive; to attempt to forcibly remount, call drive.mount(\"/content/drive\", force_remount=True).\n"
          ],
          "name": "stdout"
        }
      ]
    },
    {
      "cell_type": "code",
      "metadata": {
        "id": "0Q4gr7V4F4PD",
        "colab_type": "code",
        "colab": {}
      },
      "source": [
        "path1 = \"/content/drive/My Drive/Residency 5 -External Lab/books.csv\"\n",
        "path2 = \"/content/drive/My Drive/Residency 5 -External Lab/ratings.csv\"\n",
        "path3 = \"/content/drive/My Drive/Residency 5 -External Lab/users.csv\"\n"
      ],
      "execution_count": 0,
      "outputs": []
    },
    {
      "cell_type": "code",
      "metadata": {
        "id": "_OQxRYKS-GHj",
        "colab_type": "code",
        "outputId": "cb16bbfc-6fee-49a0-baac-5fe16a914d7e",
        "colab": {
          "base_uri": "https://localhost:8080/",
          "height": 139
        }
      },
      "source": [
        "#Loading data\n",
        "books1 = pd.read_csv(path1, sep=\";\", error_bad_lines=False, encoding=\"latin-1\")\n",
        "books1.columns = ['ISBN', 'bookTitle', 'bookAuthor', 'yearOfPublication', 'publisher', 'imageUrlS', 'imageUrlM', 'imageUrlL']"
      ],
      "execution_count": 685,
      "outputs": [
        {
          "output_type": "stream",
          "text": [
            "b'Skipping line 6452: expected 8 fields, saw 9\\nSkipping line 43667: expected 8 fields, saw 10\\nSkipping line 51751: expected 8 fields, saw 9\\n'\n",
            "b'Skipping line 92038: expected 8 fields, saw 9\\nSkipping line 104319: expected 8 fields, saw 9\\nSkipping line 121768: expected 8 fields, saw 9\\n'\n",
            "b'Skipping line 144058: expected 8 fields, saw 9\\nSkipping line 150789: expected 8 fields, saw 9\\nSkipping line 157128: expected 8 fields, saw 9\\nSkipping line 180189: expected 8 fields, saw 9\\nSkipping line 185738: expected 8 fields, saw 9\\n'\n",
            "b'Skipping line 209388: expected 8 fields, saw 9\\nSkipping line 220626: expected 8 fields, saw 9\\nSkipping line 227933: expected 8 fields, saw 11\\nSkipping line 228957: expected 8 fields, saw 10\\nSkipping line 245933: expected 8 fields, saw 9\\nSkipping line 251296: expected 8 fields, saw 9\\nSkipping line 259941: expected 8 fields, saw 9\\nSkipping line 261529: expected 8 fields, saw 9\\n'\n",
            "/usr/local/lib/python3.6/dist-packages/IPython/core/interactiveshell.py:2718: DtypeWarning: Columns (3) have mixed types. Specify dtype option on import or set low_memory=False.\n",
            "  interactivity=interactivity, compiler=compiler, result=result)\n"
          ],
          "name": "stderr"
        }
      ]
    },
    {
      "cell_type": "code",
      "metadata": {
        "id": "Bp5ZHKSh-F1m",
        "colab_type": "code",
        "colab": {}
      },
      "source": [
        "\n",
        "#Loading data\n",
        "users1 = pd.read_csv(path3, sep=\";\", error_bad_lines=False, encoding=\"latin-1\")\n",
        "users1.columns = ['userID', 'Location', 'Age']\n"
      ],
      "execution_count": 0,
      "outputs": []
    },
    {
      "cell_type": "code",
      "metadata": {
        "scrolled": true,
        "id": "_bMo9bRD3B1X",
        "colab_type": "code",
        "colab": {}
      },
      "source": [
        "ratings1 = pd.read_csv(path2, sep=\";\", error_bad_lines=False, encoding=\"latin-1\")\n",
        "ratings1.columns = ['userID', 'ISBN', 'bookRating']"
      ],
      "execution_count": 0,
      "outputs": []
    },
    {
      "cell_type": "code",
      "metadata": {
        "id": "p1tU3c1MBJT6",
        "colab_type": "code",
        "colab": {}
      },
      "source": [
        "books = books1.copy(deep=True)"
      ],
      "execution_count": 0,
      "outputs": []
    },
    {
      "cell_type": "code",
      "metadata": {
        "id": "mtxM27CABQam",
        "colab_type": "code",
        "colab": {}
      },
      "source": [
        "users = users1.copy(deep=True)"
      ],
      "execution_count": 0,
      "outputs": []
    },
    {
      "cell_type": "code",
      "metadata": {
        "id": "Ad12Fk-kBQVj",
        "colab_type": "code",
        "colab": {}
      },
      "source": [
        "ratings = ratings1.copy(deep=True)"
      ],
      "execution_count": 0,
      "outputs": []
    },
    {
      "cell_type": "markdown",
      "metadata": {
        "id": "A4HkmUQ-3B1g",
        "colab_type": "text"
      },
      "source": [
        "### Check no.of records and features given in each dataset"
      ]
    },
    {
      "cell_type": "code",
      "metadata": {
        "id": "iriYB7L-3B1i",
        "colab_type": "code",
        "outputId": "e602b377-47cd-4ee6-addc-941d59474223",
        "colab": {
          "base_uri": "https://localhost:8080/",
          "height": 34
        }
      },
      "source": [
        "print(books.shape)"
      ],
      "execution_count": 460,
      "outputs": [
        {
          "output_type": "stream",
          "text": [
            "(271360, 8)\n"
          ],
          "name": "stdout"
        }
      ]
    },
    {
      "cell_type": "code",
      "metadata": {
        "id": "g1Q3etyw3B1o",
        "colab_type": "code",
        "outputId": "f69401e5-1e4d-4d53-c0a8-a0636823bf48",
        "colab": {
          "base_uri": "https://localhost:8080/",
          "height": 34
        }
      },
      "source": [
        "print(ratings.shape)"
      ],
      "execution_count": 461,
      "outputs": [
        {
          "output_type": "stream",
          "text": [
            "(1149780, 3)\n"
          ],
          "name": "stdout"
        }
      ]
    },
    {
      "cell_type": "code",
      "metadata": {
        "id": "RLWNM1gf3B1t",
        "colab_type": "code",
        "outputId": "37158671-5f05-42d3-8305-44cdc84eccf7",
        "colab": {
          "base_uri": "https://localhost:8080/",
          "height": 34
        }
      },
      "source": [
        "print(users.shape)"
      ],
      "execution_count": 462,
      "outputs": [
        {
          "output_type": "stream",
          "text": [
            "(278858, 3)\n"
          ],
          "name": "stdout"
        }
      ]
    },
    {
      "cell_type": "markdown",
      "metadata": {
        "id": "4b8o5GWU3B1x",
        "colab_type": "text"
      },
      "source": [
        "## Exploring books dataset"
      ]
    },
    {
      "cell_type": "code",
      "metadata": {
        "scrolled": false,
        "id": "wKxFrGmd3B1z",
        "colab_type": "code",
        "outputId": "4d8d7349-d6e0-4466-a53d-b759405472cd",
        "colab": {
          "base_uri": "https://localhost:8080/",
          "height": 394
        }
      },
      "source": [
        "books.head()"
      ],
      "execution_count": 691,
      "outputs": [
        {
          "output_type": "execute_result",
          "data": {
            "text/html": [
              "<div>\n",
              "<style scoped>\n",
              "    .dataframe tbody tr th:only-of-type {\n",
              "        vertical-align: middle;\n",
              "    }\n",
              "\n",
              "    .dataframe tbody tr th {\n",
              "        vertical-align: top;\n",
              "    }\n",
              "\n",
              "    .dataframe thead th {\n",
              "        text-align: right;\n",
              "    }\n",
              "</style>\n",
              "<table border=\"1\" class=\"dataframe\">\n",
              "  <thead>\n",
              "    <tr style=\"text-align: right;\">\n",
              "      <th></th>\n",
              "      <th>ISBN</th>\n",
              "      <th>bookTitle</th>\n",
              "      <th>bookAuthor</th>\n",
              "      <th>yearOfPublication</th>\n",
              "      <th>publisher</th>\n",
              "      <th>imageUrlS</th>\n",
              "      <th>imageUrlM</th>\n",
              "      <th>imageUrlL</th>\n",
              "    </tr>\n",
              "  </thead>\n",
              "  <tbody>\n",
              "    <tr>\n",
              "      <th>0</th>\n",
              "      <td>0195153448</td>\n",
              "      <td>Classical Mythology</td>\n",
              "      <td>Mark P. O. Morford</td>\n",
              "      <td>2002</td>\n",
              "      <td>Oxford University Press</td>\n",
              "      <td>http://images.amazon.com/images/P/0195153448.0...</td>\n",
              "      <td>http://images.amazon.com/images/P/0195153448.0...</td>\n",
              "      <td>http://images.amazon.com/images/P/0195153448.0...</td>\n",
              "    </tr>\n",
              "    <tr>\n",
              "      <th>1</th>\n",
              "      <td>0002005018</td>\n",
              "      <td>Clara Callan</td>\n",
              "      <td>Richard Bruce Wright</td>\n",
              "      <td>2001</td>\n",
              "      <td>HarperFlamingo Canada</td>\n",
              "      <td>http://images.amazon.com/images/P/0002005018.0...</td>\n",
              "      <td>http://images.amazon.com/images/P/0002005018.0...</td>\n",
              "      <td>http://images.amazon.com/images/P/0002005018.0...</td>\n",
              "    </tr>\n",
              "    <tr>\n",
              "      <th>2</th>\n",
              "      <td>0060973129</td>\n",
              "      <td>Decision in Normandy</td>\n",
              "      <td>Carlo D'Este</td>\n",
              "      <td>1991</td>\n",
              "      <td>HarperPerennial</td>\n",
              "      <td>http://images.amazon.com/images/P/0060973129.0...</td>\n",
              "      <td>http://images.amazon.com/images/P/0060973129.0...</td>\n",
              "      <td>http://images.amazon.com/images/P/0060973129.0...</td>\n",
              "    </tr>\n",
              "    <tr>\n",
              "      <th>3</th>\n",
              "      <td>0374157065</td>\n",
              "      <td>Flu: The Story of the Great Influenza Pandemic...</td>\n",
              "      <td>Gina Bari Kolata</td>\n",
              "      <td>1999</td>\n",
              "      <td>Farrar Straus Giroux</td>\n",
              "      <td>http://images.amazon.com/images/P/0374157065.0...</td>\n",
              "      <td>http://images.amazon.com/images/P/0374157065.0...</td>\n",
              "      <td>http://images.amazon.com/images/P/0374157065.0...</td>\n",
              "    </tr>\n",
              "    <tr>\n",
              "      <th>4</th>\n",
              "      <td>0393045218</td>\n",
              "      <td>The Mummies of Urumchi</td>\n",
              "      <td>E. J. W. Barber</td>\n",
              "      <td>1999</td>\n",
              "      <td>W. W. Norton &amp;amp; Company</td>\n",
              "      <td>http://images.amazon.com/images/P/0393045218.0...</td>\n",
              "      <td>http://images.amazon.com/images/P/0393045218.0...</td>\n",
              "      <td>http://images.amazon.com/images/P/0393045218.0...</td>\n",
              "    </tr>\n",
              "  </tbody>\n",
              "</table>\n",
              "</div>"
            ],
            "text/plain": [
              "         ISBN  ...                                          imageUrlL\n",
              "0  0195153448  ...  http://images.amazon.com/images/P/0195153448.0...\n",
              "1  0002005018  ...  http://images.amazon.com/images/P/0002005018.0...\n",
              "2  0060973129  ...  http://images.amazon.com/images/P/0060973129.0...\n",
              "3  0374157065  ...  http://images.amazon.com/images/P/0374157065.0...\n",
              "4  0393045218  ...  http://images.amazon.com/images/P/0393045218.0...\n",
              "\n",
              "[5 rows x 8 columns]"
            ]
          },
          "metadata": {
            "tags": []
          },
          "execution_count": 691
        }
      ]
    },
    {
      "cell_type": "markdown",
      "metadata": {
        "id": "LNGyWqhk3B14",
        "colab_type": "text"
      },
      "source": [
        "### Drop last three columns containing image URLs which will not be required for analysis"
      ]
    },
    {
      "cell_type": "code",
      "metadata": {
        "id": "lKmawr0W3B16",
        "colab_type": "code",
        "colab": {}
      },
      "source": [
        "books.drop(columns=['imageUrlS','imageUrlM','imageUrlL'],inplace=True)"
      ],
      "execution_count": 0,
      "outputs": []
    },
    {
      "cell_type": "code",
      "metadata": {
        "scrolled": true,
        "id": "VHwnMWcO3B1-",
        "colab_type": "code",
        "outputId": "6c6ae119-9284-43f6-be6f-7bd39d4daa03",
        "colab": {
          "base_uri": "https://localhost:8080/",
          "height": 204
        }
      },
      "source": [
        "books.head()"
      ],
      "execution_count": 693,
      "outputs": [
        {
          "output_type": "execute_result",
          "data": {
            "text/html": [
              "<div>\n",
              "<style scoped>\n",
              "    .dataframe tbody tr th:only-of-type {\n",
              "        vertical-align: middle;\n",
              "    }\n",
              "\n",
              "    .dataframe tbody tr th {\n",
              "        vertical-align: top;\n",
              "    }\n",
              "\n",
              "    .dataframe thead th {\n",
              "        text-align: right;\n",
              "    }\n",
              "</style>\n",
              "<table border=\"1\" class=\"dataframe\">\n",
              "  <thead>\n",
              "    <tr style=\"text-align: right;\">\n",
              "      <th></th>\n",
              "      <th>ISBN</th>\n",
              "      <th>bookTitle</th>\n",
              "      <th>bookAuthor</th>\n",
              "      <th>yearOfPublication</th>\n",
              "      <th>publisher</th>\n",
              "    </tr>\n",
              "  </thead>\n",
              "  <tbody>\n",
              "    <tr>\n",
              "      <th>0</th>\n",
              "      <td>0195153448</td>\n",
              "      <td>Classical Mythology</td>\n",
              "      <td>Mark P. O. Morford</td>\n",
              "      <td>2002</td>\n",
              "      <td>Oxford University Press</td>\n",
              "    </tr>\n",
              "    <tr>\n",
              "      <th>1</th>\n",
              "      <td>0002005018</td>\n",
              "      <td>Clara Callan</td>\n",
              "      <td>Richard Bruce Wright</td>\n",
              "      <td>2001</td>\n",
              "      <td>HarperFlamingo Canada</td>\n",
              "    </tr>\n",
              "    <tr>\n",
              "      <th>2</th>\n",
              "      <td>0060973129</td>\n",
              "      <td>Decision in Normandy</td>\n",
              "      <td>Carlo D'Este</td>\n",
              "      <td>1991</td>\n",
              "      <td>HarperPerennial</td>\n",
              "    </tr>\n",
              "    <tr>\n",
              "      <th>3</th>\n",
              "      <td>0374157065</td>\n",
              "      <td>Flu: The Story of the Great Influenza Pandemic...</td>\n",
              "      <td>Gina Bari Kolata</td>\n",
              "      <td>1999</td>\n",
              "      <td>Farrar Straus Giroux</td>\n",
              "    </tr>\n",
              "    <tr>\n",
              "      <th>4</th>\n",
              "      <td>0393045218</td>\n",
              "      <td>The Mummies of Urumchi</td>\n",
              "      <td>E. J. W. Barber</td>\n",
              "      <td>1999</td>\n",
              "      <td>W. W. Norton &amp;amp; Company</td>\n",
              "    </tr>\n",
              "  </tbody>\n",
              "</table>\n",
              "</div>"
            ],
            "text/plain": [
              "         ISBN  ...                   publisher\n",
              "0  0195153448  ...     Oxford University Press\n",
              "1  0002005018  ...       HarperFlamingo Canada\n",
              "2  0060973129  ...             HarperPerennial\n",
              "3  0374157065  ...        Farrar Straus Giroux\n",
              "4  0393045218  ...  W. W. Norton &amp; Company\n",
              "\n",
              "[5 rows x 5 columns]"
            ]
          },
          "metadata": {
            "tags": []
          },
          "execution_count": 693
        }
      ]
    },
    {
      "cell_type": "markdown",
      "metadata": {
        "id": "mLRBaEbH3B2E",
        "colab_type": "text"
      },
      "source": [
        "**yearOfPublication**"
      ]
    },
    {
      "cell_type": "markdown",
      "metadata": {
        "id": "0z0uRdtK3B2G",
        "colab_type": "text"
      },
      "source": [
        "### Check unique values of yearOfPublication\n"
      ]
    },
    {
      "cell_type": "code",
      "metadata": {
        "id": "Wuxl8h1_3B2H",
        "colab_type": "code",
        "outputId": "8a1d082a-7984-4092-e02f-ce7d7d2e49d7",
        "colab": {
          "base_uri": "https://localhost:8080/",
          "height": 408
        }
      },
      "source": [
        "books['yearOfPublication'].unique()"
      ],
      "execution_count": 694,
      "outputs": [
        {
          "output_type": "execute_result",
          "data": {
            "text/plain": [
              "array([2002, 2001, 1991, 1999, 2000, 1993, 1996, 1988, 2004, 1998, 1994,\n",
              "       2003, 1997, 1983, 1979, 1995, 1982, 1985, 1992, 1986, 1978, 1980,\n",
              "       1952, 1987, 1990, 1981, 1989, 1984, 0, 1968, 1961, 1958, 1974,\n",
              "       1976, 1971, 1977, 1975, 1965, 1941, 1970, 1962, 1973, 1972, 1960,\n",
              "       1966, 1920, 1956, 1959, 1953, 1951, 1942, 1963, 1964, 1969, 1954,\n",
              "       1950, 1967, 2005, 1957, 1940, 1937, 1955, 1946, 1936, 1930, 2011,\n",
              "       1925, 1948, 1943, 1947, 1945, 1923, 2020, 1939, 1926, 1938, 2030,\n",
              "       1911, 1904, 1949, 1932, 1928, 1929, 1927, 1931, 1914, 2050, 1934,\n",
              "       1910, 1933, 1902, 1924, 1921, 1900, 2038, 2026, 1944, 1917, 1901,\n",
              "       2010, 1908, 1906, 1935, 1806, 2021, '2000', '1995', '1999', '2004',\n",
              "       '2003', '1990', '1994', '1986', '1989', '2002', '1981', '1993',\n",
              "       '1983', '1982', '1976', '1991', '1977', '1998', '1992', '1996',\n",
              "       '0', '1997', '2001', '1974', '1968', '1987', '1984', '1988',\n",
              "       '1963', '1956', '1970', '1985', '1978', '1973', '1980', '1979',\n",
              "       '1975', '1969', '1961', '1965', '1939', '1958', '1950', '1953',\n",
              "       '1966', '1971', '1959', '1972', '1955', '1957', '1945', '1960',\n",
              "       '1967', '1932', '1924', '1964', '2012', '1911', '1927', '1948',\n",
              "       '1962', '2006', '1952', '1940', '1951', '1931', '1954', '2005',\n",
              "       '1930', '1941', '1944', 'DK Publishing Inc', '1943', '1938',\n",
              "       '1900', '1942', '1923', '1920', '1933', 'Gallimard', '1909',\n",
              "       '1946', '2008', '1378', '2030', '1936', '1947', '2011', '2020',\n",
              "       '1919', '1949', '1922', '1897', '2024', '1376', '1926', '2037'],\n",
              "      dtype=object)"
            ]
          },
          "metadata": {
            "tags": []
          },
          "execution_count": 694
        }
      ]
    },
    {
      "cell_type": "markdown",
      "metadata": {
        "id": "pbK16fTX3B2M",
        "colab_type": "text"
      },
      "source": [
        "As it can be seen from above that there are some incorrect entries in this field. It looks like Publisher names 'DK Publishing Inc' and 'Gallimard' have been incorrectly loaded as yearOfPublication in dataset due to some errors in csv file.\n",
        "\n",
        "\n",
        "Also some of the entries are strings and same years have been entered as numbers in some places. We will try to fix these things in the coming questions."
      ]
    },
    {
      "cell_type": "markdown",
      "metadata": {
        "id": "IWNuI0Xm3B2N",
        "colab_type": "text"
      },
      "source": [
        "### Check the rows having 'DK Publishing Inc' as yearOfPublication"
      ]
    },
    {
      "cell_type": "code",
      "metadata": {
        "id": "sPBJi5C_3B2P",
        "colab_type": "code",
        "outputId": "7526ee4b-0e4f-4561-c002-3e4508ccddb9",
        "colab": {
          "base_uri": "https://localhost:8080/",
          "height": 142
        }
      },
      "source": [
        "books[(books['yearOfPublication']=='Gallimard') ^ (books['yearOfPublication']=='DK Publishing Inc')]"
      ],
      "execution_count": 695,
      "outputs": [
        {
          "output_type": "execute_result",
          "data": {
            "text/html": [
              "<div>\n",
              "<style scoped>\n",
              "    .dataframe tbody tr th:only-of-type {\n",
              "        vertical-align: middle;\n",
              "    }\n",
              "\n",
              "    .dataframe tbody tr th {\n",
              "        vertical-align: top;\n",
              "    }\n",
              "\n",
              "    .dataframe thead th {\n",
              "        text-align: right;\n",
              "    }\n",
              "</style>\n",
              "<table border=\"1\" class=\"dataframe\">\n",
              "  <thead>\n",
              "    <tr style=\"text-align: right;\">\n",
              "      <th></th>\n",
              "      <th>ISBN</th>\n",
              "      <th>bookTitle</th>\n",
              "      <th>bookAuthor</th>\n",
              "      <th>yearOfPublication</th>\n",
              "      <th>publisher</th>\n",
              "    </tr>\n",
              "  </thead>\n",
              "  <tbody>\n",
              "    <tr>\n",
              "      <th>209538</th>\n",
              "      <td>078946697X</td>\n",
              "      <td>DK Readers: Creating the X-Men, How It All Beg...</td>\n",
              "      <td>2000</td>\n",
              "      <td>DK Publishing Inc</td>\n",
              "      <td>http://images.amazon.com/images/P/078946697X.0...</td>\n",
              "    </tr>\n",
              "    <tr>\n",
              "      <th>220731</th>\n",
              "      <td>2070426769</td>\n",
              "      <td>Peuple du ciel, suivi de 'Les Bergers\\\";Jean-M...</td>\n",
              "      <td>2003</td>\n",
              "      <td>Gallimard</td>\n",
              "      <td>http://images.amazon.com/images/P/2070426769.0...</td>\n",
              "    </tr>\n",
              "    <tr>\n",
              "      <th>221678</th>\n",
              "      <td>0789466953</td>\n",
              "      <td>DK Readers: Creating the X-Men, How Comic Book...</td>\n",
              "      <td>2000</td>\n",
              "      <td>DK Publishing Inc</td>\n",
              "      <td>http://images.amazon.com/images/P/0789466953.0...</td>\n",
              "    </tr>\n",
              "  </tbody>\n",
              "</table>\n",
              "</div>"
            ],
            "text/plain": [
              "              ISBN  ...                                          publisher\n",
              "209538  078946697X  ...  http://images.amazon.com/images/P/078946697X.0...\n",
              "220731  2070426769  ...  http://images.amazon.com/images/P/2070426769.0...\n",
              "221678  0789466953  ...  http://images.amazon.com/images/P/0789466953.0...\n",
              "\n",
              "[3 rows x 5 columns]"
            ]
          },
          "metadata": {
            "tags": []
          },
          "execution_count": 695
        }
      ]
    },
    {
      "cell_type": "markdown",
      "metadata": {
        "id": "dkNK3klv3B2T",
        "colab_type": "text"
      },
      "source": [
        "### Drop the rows having `'DK Publishing Inc'` and `'Gallimard'` as `yearOfPublication`"
      ]
    },
    {
      "cell_type": "code",
      "metadata": {
        "id": "1bfq0ew9IX2H",
        "colab_type": "code",
        "colab": {}
      },
      "source": [
        "\n",
        "books.drop([books.index[209538] , books.index[220731], books.index[221678]],inplace=True)\n"
      ],
      "execution_count": 0,
      "outputs": []
    },
    {
      "cell_type": "code",
      "metadata": {
        "id": "eIZl5SDNY1vo",
        "colab_type": "code",
        "colab": {
          "base_uri": "https://localhost:8080/",
          "height": 49
        },
        "outputId": "4597a935-84c9-4db4-aec7-fc01297055f0"
      },
      "source": [
        "## Checking the dropped records \n",
        "\n",
        "books[(books['yearOfPublication']=='Gallimard') ^ (books['yearOfPublication']=='DK Publishing Inc')]"
      ],
      "execution_count": 697,
      "outputs": [
        {
          "output_type": "execute_result",
          "data": {
            "text/html": [
              "<div>\n",
              "<style scoped>\n",
              "    .dataframe tbody tr th:only-of-type {\n",
              "        vertical-align: middle;\n",
              "    }\n",
              "\n",
              "    .dataframe tbody tr th {\n",
              "        vertical-align: top;\n",
              "    }\n",
              "\n",
              "    .dataframe thead th {\n",
              "        text-align: right;\n",
              "    }\n",
              "</style>\n",
              "<table border=\"1\" class=\"dataframe\">\n",
              "  <thead>\n",
              "    <tr style=\"text-align: right;\">\n",
              "      <th></th>\n",
              "      <th>ISBN</th>\n",
              "      <th>bookTitle</th>\n",
              "      <th>bookAuthor</th>\n",
              "      <th>yearOfPublication</th>\n",
              "      <th>publisher</th>\n",
              "    </tr>\n",
              "  </thead>\n",
              "  <tbody>\n",
              "  </tbody>\n",
              "</table>\n",
              "</div>"
            ],
            "text/plain": [
              "Empty DataFrame\n",
              "Columns: [ISBN, bookTitle, bookAuthor, yearOfPublication, publisher]\n",
              "Index: []"
            ]
          },
          "metadata": {
            "tags": []
          },
          "execution_count": 697
        }
      ]
    },
    {
      "cell_type": "code",
      "metadata": {
        "id": "gYNDfLVMHUDh",
        "colab_type": "code",
        "colab": {
          "base_uri": "https://localhost:8080/",
          "height": 51
        },
        "outputId": "568495a4-8312-46fa-c4eb-239c1eebac01"
      },
      "source": [
        "print(books1.shape)\n",
        "print(books.shape)"
      ],
      "execution_count": 698,
      "outputs": [
        {
          "output_type": "stream",
          "text": [
            "(271360, 8)\n",
            "(271357, 5)\n"
          ],
          "name": "stdout"
        }
      ]
    },
    {
      "cell_type": "code",
      "metadata": {
        "id": "t4qOC6n2HUAQ",
        "colab_type": "code",
        "colab": {}
      },
      "source": [
        ""
      ],
      "execution_count": 0,
      "outputs": []
    },
    {
      "cell_type": "markdown",
      "metadata": {
        "id": "PnmFp4L83B2Z",
        "colab_type": "text"
      },
      "source": [
        "### Change the datatype of yearOfPublication to 'int'"
      ]
    },
    {
      "cell_type": "code",
      "metadata": {
        "id": "n6LI7eMY3B2b",
        "colab_type": "code",
        "outputId": "9e893230-09fe-4a7f-edc7-34cea2ccae1d",
        "colab": {
          "base_uri": "https://localhost:8080/",
          "height": 187
        }
      },
      "source": [
        "books.info()"
      ],
      "execution_count": 699,
      "outputs": [
        {
          "output_type": "stream",
          "text": [
            "<class 'pandas.core.frame.DataFrame'>\n",
            "Int64Index: 271357 entries, 0 to 271359\n",
            "Data columns (total 5 columns):\n",
            "ISBN                 271357 non-null object\n",
            "bookTitle            271357 non-null object\n",
            "bookAuthor           271356 non-null object\n",
            "yearOfPublication    271357 non-null object\n",
            "publisher            271355 non-null object\n",
            "dtypes: object(5)\n",
            "memory usage: 12.4+ MB\n"
          ],
          "name": "stdout"
        }
      ]
    },
    {
      "cell_type": "code",
      "metadata": {
        "id": "XO2wnbzTHC1q",
        "colab_type": "code",
        "colab": {}
      },
      "source": [
        "books['yearOfPublication'] = books['yearOfPublication'].astype(np.int32)"
      ],
      "execution_count": 0,
      "outputs": []
    },
    {
      "cell_type": "code",
      "metadata": {
        "id": "l5CcQji0HCyz",
        "colab_type": "code",
        "colab": {
          "base_uri": "https://localhost:8080/",
          "height": 187
        },
        "outputId": "94cd317f-21ea-4244-b792-5cbed4c62f94"
      },
      "source": [
        "books.info()"
      ],
      "execution_count": 701,
      "outputs": [
        {
          "output_type": "stream",
          "text": [
            "<class 'pandas.core.frame.DataFrame'>\n",
            "Int64Index: 271357 entries, 0 to 271359\n",
            "Data columns (total 5 columns):\n",
            "ISBN                 271357 non-null object\n",
            "bookTitle            271357 non-null object\n",
            "bookAuthor           271356 non-null object\n",
            "yearOfPublication    271357 non-null int32\n",
            "publisher            271355 non-null object\n",
            "dtypes: int32(1), object(4)\n",
            "memory usage: 11.4+ MB\n"
          ],
          "name": "stdout"
        }
      ]
    },
    {
      "cell_type": "code",
      "metadata": {
        "id": "53V6vRQw3B2f",
        "colab_type": "code",
        "outputId": "6471f7c5-d9d1-4e95-d3e7-53f0e2f513a0",
        "colab": {
          "base_uri": "https://localhost:8080/",
          "height": 119
        }
      },
      "source": [
        "books.dtypes"
      ],
      "execution_count": 702,
      "outputs": [
        {
          "output_type": "execute_result",
          "data": {
            "text/plain": [
              "ISBN                 object\n",
              "bookTitle            object\n",
              "bookAuthor           object\n",
              "yearOfPublication     int32\n",
              "publisher            object\n",
              "dtype: object"
            ]
          },
          "metadata": {
            "tags": []
          },
          "execution_count": 702
        }
      ]
    },
    {
      "cell_type": "code",
      "metadata": {
        "id": "sx06QNKmJVLB",
        "colab_type": "code",
        "colab": {
          "base_uri": "https://localhost:8080/",
          "height": 204
        },
        "outputId": "a8edc4ef-fb29-451b-e302-ecee8e27682f"
      },
      "source": [
        "books['yearOfPublication'].unique()"
      ],
      "execution_count": 703,
      "outputs": [
        {
          "output_type": "execute_result",
          "data": {
            "text/plain": [
              "array([2002, 2001, 1991, 1999, 2000, 1993, 1996, 1988, 2004, 1998, 1994,\n",
              "       2003, 1997, 1983, 1979, 1995, 1982, 1985, 1992, 1986, 1978, 1980,\n",
              "       1952, 1987, 1990, 1981, 1989, 1984,    0, 1968, 1961, 1958, 1974,\n",
              "       1976, 1971, 1977, 1975, 1965, 1941, 1970, 1962, 1973, 1972, 1960,\n",
              "       1966, 1920, 1956, 1959, 1953, 1951, 1942, 1963, 1964, 1969, 1954,\n",
              "       1950, 1967, 2005, 1957, 1940, 1937, 1955, 1946, 1936, 1930, 2011,\n",
              "       1925, 1948, 1943, 1947, 1945, 1923, 2020, 1939, 1926, 1938, 2030,\n",
              "       1911, 1904, 1949, 1932, 1928, 1929, 1927, 1931, 1914, 2050, 1934,\n",
              "       1910, 1933, 1902, 1924, 1921, 1900, 2038, 2026, 1944, 1917, 1901,\n",
              "       2010, 1908, 1906, 1935, 1806, 2021, 2012, 2006, 1909, 2008, 1378,\n",
              "       1919, 1922, 1897, 2024, 1376, 2037])"
            ]
          },
          "metadata": {
            "tags": []
          },
          "execution_count": 703
        }
      ]
    },
    {
      "cell_type": "code",
      "metadata": {
        "id": "xoWPYn0sJVDm",
        "colab_type": "code",
        "colab": {}
      },
      "source": [
        ""
      ],
      "execution_count": 0,
      "outputs": []
    },
    {
      "cell_type": "markdown",
      "metadata": {
        "id": "oqs4HRrh3B2m",
        "colab_type": "text"
      },
      "source": [
        "### Drop NaNs in `'publisher'` column\n"
      ]
    },
    {
      "cell_type": "code",
      "metadata": {
        "id": "Pq0AoEYNJosY",
        "colab_type": "code",
        "colab": {
          "base_uri": "https://localhost:8080/",
          "height": 68
        },
        "outputId": "4328d83f-873c-4a3e-e953-d5a041d47043"
      },
      "source": [
        "books['publisher'].unique()"
      ],
      "execution_count": 704,
      "outputs": [
        {
          "output_type": "execute_result",
          "data": {
            "text/plain": [
              "array(['Oxford University Press', 'HarperFlamingo Canada',\n",
              "       'HarperPerennial', ..., 'Tempo', 'Life Works Books', 'Connaught'],\n",
              "      dtype=object)"
            ]
          },
          "metadata": {
            "tags": []
          },
          "execution_count": 704
        }
      ]
    },
    {
      "cell_type": "code",
      "metadata": {
        "id": "svvY4zDbJfc8",
        "colab_type": "code",
        "colab": {}
      },
      "source": [
        "books.dropna(subset=['publisher'],inplace=True)"
      ],
      "execution_count": 0,
      "outputs": []
    },
    {
      "cell_type": "code",
      "metadata": {
        "id": "iMByic8hKV0B",
        "colab_type": "code",
        "colab": {
          "base_uri": "https://localhost:8080/",
          "height": 49
        },
        "outputId": "79e4f494-fb43-4418-c811-eeca17eee93a"
      },
      "source": [
        "## Checking the dropped records \n",
        "\n",
        "books[(books['publisher']==np.NaN) ]"
      ],
      "execution_count": 706,
      "outputs": [
        {
          "output_type": "execute_result",
          "data": {
            "text/html": [
              "<div>\n",
              "<style scoped>\n",
              "    .dataframe tbody tr th:only-of-type {\n",
              "        vertical-align: middle;\n",
              "    }\n",
              "\n",
              "    .dataframe tbody tr th {\n",
              "        vertical-align: top;\n",
              "    }\n",
              "\n",
              "    .dataframe thead th {\n",
              "        text-align: right;\n",
              "    }\n",
              "</style>\n",
              "<table border=\"1\" class=\"dataframe\">\n",
              "  <thead>\n",
              "    <tr style=\"text-align: right;\">\n",
              "      <th></th>\n",
              "      <th>ISBN</th>\n",
              "      <th>bookTitle</th>\n",
              "      <th>bookAuthor</th>\n",
              "      <th>yearOfPublication</th>\n",
              "      <th>publisher</th>\n",
              "    </tr>\n",
              "  </thead>\n",
              "  <tbody>\n",
              "  </tbody>\n",
              "</table>\n",
              "</div>"
            ],
            "text/plain": [
              "Empty DataFrame\n",
              "Columns: [ISBN, bookTitle, bookAuthor, yearOfPublication, publisher]\n",
              "Index: []"
            ]
          },
          "metadata": {
            "tags": []
          },
          "execution_count": 706
        }
      ]
    },
    {
      "cell_type": "code",
      "metadata": {
        "id": "Jr9Jcl5EJfW3",
        "colab_type": "code",
        "colab": {
          "base_uri": "https://localhost:8080/",
          "height": 51
        },
        "outputId": "78ce321f-061a-433f-a424-4dee8c825275"
      },
      "source": [
        "print(books1.shape)\n",
        "print(books.shape)"
      ],
      "execution_count": 707,
      "outputs": [
        {
          "output_type": "stream",
          "text": [
            "(271360, 8)\n",
            "(271355, 5)\n"
          ],
          "name": "stdout"
        }
      ]
    },
    {
      "cell_type": "markdown",
      "metadata": {
        "id": "fBZijaqr3B2t",
        "colab_type": "text"
      },
      "source": [
        "## Exploring Users dataset"
      ]
    },
    {
      "cell_type": "code",
      "metadata": {
        "scrolled": true,
        "id": "SL-Kq-wD3B2u",
        "colab_type": "code",
        "outputId": "c3f9bd03-7cf2-4a89-d068-ac44ac9a82fb",
        "colab": {
          "base_uri": "https://localhost:8080/",
          "height": 238
        }
      },
      "source": [
        "print(users.shape)\n",
        "print(users1.shape)\n",
        "users.head()"
      ],
      "execution_count": 708,
      "outputs": [
        {
          "output_type": "stream",
          "text": [
            "(278858, 3)\n",
            "(278858, 3)\n"
          ],
          "name": "stdout"
        },
        {
          "output_type": "execute_result",
          "data": {
            "text/html": [
              "<div>\n",
              "<style scoped>\n",
              "    .dataframe tbody tr th:only-of-type {\n",
              "        vertical-align: middle;\n",
              "    }\n",
              "\n",
              "    .dataframe tbody tr th {\n",
              "        vertical-align: top;\n",
              "    }\n",
              "\n",
              "    .dataframe thead th {\n",
              "        text-align: right;\n",
              "    }\n",
              "</style>\n",
              "<table border=\"1\" class=\"dataframe\">\n",
              "  <thead>\n",
              "    <tr style=\"text-align: right;\">\n",
              "      <th></th>\n",
              "      <th>userID</th>\n",
              "      <th>Location</th>\n",
              "      <th>Age</th>\n",
              "    </tr>\n",
              "  </thead>\n",
              "  <tbody>\n",
              "    <tr>\n",
              "      <th>0</th>\n",
              "      <td>1</td>\n",
              "      <td>nyc, new york, usa</td>\n",
              "      <td>NaN</td>\n",
              "    </tr>\n",
              "    <tr>\n",
              "      <th>1</th>\n",
              "      <td>2</td>\n",
              "      <td>stockton, california, usa</td>\n",
              "      <td>18.0</td>\n",
              "    </tr>\n",
              "    <tr>\n",
              "      <th>2</th>\n",
              "      <td>3</td>\n",
              "      <td>moscow, yukon territory, russia</td>\n",
              "      <td>NaN</td>\n",
              "    </tr>\n",
              "    <tr>\n",
              "      <th>3</th>\n",
              "      <td>4</td>\n",
              "      <td>porto, v.n.gaia, portugal</td>\n",
              "      <td>17.0</td>\n",
              "    </tr>\n",
              "    <tr>\n",
              "      <th>4</th>\n",
              "      <td>5</td>\n",
              "      <td>farnborough, hants, united kingdom</td>\n",
              "      <td>NaN</td>\n",
              "    </tr>\n",
              "  </tbody>\n",
              "</table>\n",
              "</div>"
            ],
            "text/plain": [
              "   userID                            Location   Age\n",
              "0       1                  nyc, new york, usa   NaN\n",
              "1       2           stockton, california, usa  18.0\n",
              "2       3     moscow, yukon territory, russia   NaN\n",
              "3       4           porto, v.n.gaia, portugal  17.0\n",
              "4       5  farnborough, hants, united kingdom   NaN"
            ]
          },
          "metadata": {
            "tags": []
          },
          "execution_count": 708
        }
      ]
    },
    {
      "cell_type": "markdown",
      "metadata": {
        "id": "q1ThRogI3B2z",
        "colab_type": "text"
      },
      "source": [
        "### Get all unique values in ascending order for column `Age`"
      ]
    },
    {
      "cell_type": "code",
      "metadata": {
        "id": "3cOFI8Fd3B20",
        "colab_type": "code",
        "colab": {
          "base_uri": "https://localhost:8080/",
          "height": 1000
        },
        "outputId": "570f5524-03df-47d5-f64c-f4430be83ed8"
      },
      "source": [
        "pd.DataFrame({'Age':users['Age'].unique()}).sort_values(by='Age',ascending=True)"
      ],
      "execution_count": 709,
      "outputs": [
        {
          "output_type": "execute_result",
          "data": {
            "text/html": [
              "<div>\n",
              "<style scoped>\n",
              "    .dataframe tbody tr th:only-of-type {\n",
              "        vertical-align: middle;\n",
              "    }\n",
              "\n",
              "    .dataframe tbody tr th {\n",
              "        vertical-align: top;\n",
              "    }\n",
              "\n",
              "    .dataframe thead th {\n",
              "        text-align: right;\n",
              "    }\n",
              "</style>\n",
              "<table border=\"1\" class=\"dataframe\">\n",
              "  <thead>\n",
              "    <tr style=\"text-align: right;\">\n",
              "      <th></th>\n",
              "      <th>Age</th>\n",
              "    </tr>\n",
              "  </thead>\n",
              "  <tbody>\n",
              "    <tr>\n",
              "      <th>47</th>\n",
              "      <td>0.0</td>\n",
              "    </tr>\n",
              "    <tr>\n",
              "      <th>57</th>\n",
              "      <td>1.0</td>\n",
              "    </tr>\n",
              "    <tr>\n",
              "      <th>79</th>\n",
              "      <td>2.0</td>\n",
              "    </tr>\n",
              "    <tr>\n",
              "      <th>72</th>\n",
              "      <td>3.0</td>\n",
              "    </tr>\n",
              "    <tr>\n",
              "      <th>84</th>\n",
              "      <td>4.0</td>\n",
              "    </tr>\n",
              "    <tr>\n",
              "      <th>90</th>\n",
              "      <td>5.0</td>\n",
              "    </tr>\n",
              "    <tr>\n",
              "      <th>93</th>\n",
              "      <td>6.0</td>\n",
              "    </tr>\n",
              "    <tr>\n",
              "      <th>83</th>\n",
              "      <td>7.0</td>\n",
              "    </tr>\n",
              "    <tr>\n",
              "      <th>82</th>\n",
              "      <td>8.0</td>\n",
              "    </tr>\n",
              "    <tr>\n",
              "      <th>64</th>\n",
              "      <td>9.0</td>\n",
              "    </tr>\n",
              "    <tr>\n",
              "      <th>89</th>\n",
              "      <td>10.0</td>\n",
              "    </tr>\n",
              "    <tr>\n",
              "      <th>77</th>\n",
              "      <td>11.0</td>\n",
              "    </tr>\n",
              "    <tr>\n",
              "      <th>68</th>\n",
              "      <td>12.0</td>\n",
              "    </tr>\n",
              "    <tr>\n",
              "      <th>33</th>\n",
              "      <td>13.0</td>\n",
              "    </tr>\n",
              "    <tr>\n",
              "      <th>5</th>\n",
              "      <td>14.0</td>\n",
              "    </tr>\n",
              "    <tr>\n",
              "      <th>45</th>\n",
              "      <td>15.0</td>\n",
              "    </tr>\n",
              "    <tr>\n",
              "      <th>50</th>\n",
              "      <td>16.0</td>\n",
              "    </tr>\n",
              "    <tr>\n",
              "      <th>2</th>\n",
              "      <td>17.0</td>\n",
              "    </tr>\n",
              "    <tr>\n",
              "      <th>1</th>\n",
              "      <td>18.0</td>\n",
              "    </tr>\n",
              "    <tr>\n",
              "      <th>7</th>\n",
              "      <td>19.0</td>\n",
              "    </tr>\n",
              "    <tr>\n",
              "      <th>12</th>\n",
              "      <td>20.0</td>\n",
              "    </tr>\n",
              "    <tr>\n",
              "      <th>17</th>\n",
              "      <td>21.0</td>\n",
              "    </tr>\n",
              "    <tr>\n",
              "      <th>49</th>\n",
              "      <td>22.0</td>\n",
              "    </tr>\n",
              "    <tr>\n",
              "      <th>14</th>\n",
              "      <td>23.0</td>\n",
              "    </tr>\n",
              "    <tr>\n",
              "      <th>11</th>\n",
              "      <td>24.0</td>\n",
              "    </tr>\n",
              "    <tr>\n",
              "      <th>6</th>\n",
              "      <td>25.0</td>\n",
              "    </tr>\n",
              "    <tr>\n",
              "      <th>4</th>\n",
              "      <td>26.0</td>\n",
              "    </tr>\n",
              "    <tr>\n",
              "      <th>40</th>\n",
              "      <td>27.0</td>\n",
              "    </tr>\n",
              "    <tr>\n",
              "      <th>31</th>\n",
              "      <td>28.0</td>\n",
              "    </tr>\n",
              "    <tr>\n",
              "      <th>42</th>\n",
              "      <td>29.0</td>\n",
              "    </tr>\n",
              "    <tr>\n",
              "      <th>...</th>\n",
              "      <td>...</td>\n",
              "    </tr>\n",
              "    <tr>\n",
              "      <th>157</th>\n",
              "      <td>157.0</td>\n",
              "    </tr>\n",
              "    <tr>\n",
              "      <th>135</th>\n",
              "      <td>159.0</td>\n",
              "    </tr>\n",
              "    <tr>\n",
              "      <th>120</th>\n",
              "      <td>162.0</td>\n",
              "    </tr>\n",
              "    <tr>\n",
              "      <th>133</th>\n",
              "      <td>168.0</td>\n",
              "    </tr>\n",
              "    <tr>\n",
              "      <th>115</th>\n",
              "      <td>172.0</td>\n",
              "    </tr>\n",
              "    <tr>\n",
              "      <th>114</th>\n",
              "      <td>175.0</td>\n",
              "    </tr>\n",
              "    <tr>\n",
              "      <th>150</th>\n",
              "      <td>183.0</td>\n",
              "    </tr>\n",
              "    <tr>\n",
              "      <th>136</th>\n",
              "      <td>186.0</td>\n",
              "    </tr>\n",
              "    <tr>\n",
              "      <th>164</th>\n",
              "      <td>189.0</td>\n",
              "    </tr>\n",
              "    <tr>\n",
              "      <th>131</th>\n",
              "      <td>199.0</td>\n",
              "    </tr>\n",
              "    <tr>\n",
              "      <th>140</th>\n",
              "      <td>200.0</td>\n",
              "    </tr>\n",
              "    <tr>\n",
              "      <th>95</th>\n",
              "      <td>201.0</td>\n",
              "    </tr>\n",
              "    <tr>\n",
              "      <th>151</th>\n",
              "      <td>204.0</td>\n",
              "    </tr>\n",
              "    <tr>\n",
              "      <th>144</th>\n",
              "      <td>207.0</td>\n",
              "    </tr>\n",
              "    <tr>\n",
              "      <th>155</th>\n",
              "      <td>208.0</td>\n",
              "    </tr>\n",
              "    <tr>\n",
              "      <th>116</th>\n",
              "      <td>209.0</td>\n",
              "    </tr>\n",
              "    <tr>\n",
              "      <th>129</th>\n",
              "      <td>210.0</td>\n",
              "    </tr>\n",
              "    <tr>\n",
              "      <th>117</th>\n",
              "      <td>212.0</td>\n",
              "    </tr>\n",
              "    <tr>\n",
              "      <th>110</th>\n",
              "      <td>219.0</td>\n",
              "    </tr>\n",
              "    <tr>\n",
              "      <th>161</th>\n",
              "      <td>220.0</td>\n",
              "    </tr>\n",
              "    <tr>\n",
              "      <th>153</th>\n",
              "      <td>223.0</td>\n",
              "    </tr>\n",
              "    <tr>\n",
              "      <th>142</th>\n",
              "      <td>226.0</td>\n",
              "    </tr>\n",
              "    <tr>\n",
              "      <th>149</th>\n",
              "      <td>228.0</td>\n",
              "    </tr>\n",
              "    <tr>\n",
              "      <th>145</th>\n",
              "      <td>229.0</td>\n",
              "    </tr>\n",
              "    <tr>\n",
              "      <th>87</th>\n",
              "      <td>230.0</td>\n",
              "    </tr>\n",
              "    <tr>\n",
              "      <th>71</th>\n",
              "      <td>231.0</td>\n",
              "    </tr>\n",
              "    <tr>\n",
              "      <th>118</th>\n",
              "      <td>237.0</td>\n",
              "    </tr>\n",
              "    <tr>\n",
              "      <th>88</th>\n",
              "      <td>239.0</td>\n",
              "    </tr>\n",
              "    <tr>\n",
              "      <th>101</th>\n",
              "      <td>244.0</td>\n",
              "    </tr>\n",
              "    <tr>\n",
              "      <th>0</th>\n",
              "      <td>NaN</td>\n",
              "    </tr>\n",
              "  </tbody>\n",
              "</table>\n",
              "<p>166 rows × 1 columns</p>\n",
              "</div>"
            ],
            "text/plain": [
              "       Age\n",
              "47     0.0\n",
              "57     1.0\n",
              "79     2.0\n",
              "72     3.0\n",
              "84     4.0\n",
              "90     5.0\n",
              "93     6.0\n",
              "83     7.0\n",
              "82     8.0\n",
              "64     9.0\n",
              "89    10.0\n",
              "77    11.0\n",
              "68    12.0\n",
              "33    13.0\n",
              "5     14.0\n",
              "45    15.0\n",
              "50    16.0\n",
              "2     17.0\n",
              "1     18.0\n",
              "7     19.0\n",
              "12    20.0\n",
              "17    21.0\n",
              "49    22.0\n",
              "14    23.0\n",
              "11    24.0\n",
              "6     25.0\n",
              "4     26.0\n",
              "40    27.0\n",
              "31    28.0\n",
              "42    29.0\n",
              "..     ...\n",
              "157  157.0\n",
              "135  159.0\n",
              "120  162.0\n",
              "133  168.0\n",
              "115  172.0\n",
              "114  175.0\n",
              "150  183.0\n",
              "136  186.0\n",
              "164  189.0\n",
              "131  199.0\n",
              "140  200.0\n",
              "95   201.0\n",
              "151  204.0\n",
              "144  207.0\n",
              "155  208.0\n",
              "116  209.0\n",
              "129  210.0\n",
              "117  212.0\n",
              "110  219.0\n",
              "161  220.0\n",
              "153  223.0\n",
              "142  226.0\n",
              "149  228.0\n",
              "145  229.0\n",
              "87   230.0\n",
              "71   231.0\n",
              "118  237.0\n",
              "88   239.0\n",
              "101  244.0\n",
              "0      NaN\n",
              "\n",
              "[166 rows x 1 columns]"
            ]
          },
          "metadata": {
            "tags": []
          },
          "execution_count": 709
        }
      ]
    },
    {
      "cell_type": "markdown",
      "metadata": {
        "id": "0vciqV8R3B24",
        "colab_type": "text"
      },
      "source": [
        "Age column has some invalid entries like nan, 0 and very high values like 100 and above"
      ]
    },
    {
      "cell_type": "markdown",
      "metadata": {
        "id": "_D2IbAtw3B26",
        "colab_type": "text"
      },
      "source": [
        "### Values below 5 and above 90 do not make much sense for our book rating case...hence replace these by NaNs"
      ]
    },
    {
      "cell_type": "code",
      "metadata": {
        "id": "PayvIYXA3B27",
        "colab_type": "code",
        "colab": {
          "base_uri": "https://localhost:8080/",
          "height": 204
        },
        "outputId": "6700eec0-c974-4e20-c48a-ce57b0725cb7"
      },
      "source": [
        "users.head()"
      ],
      "execution_count": 710,
      "outputs": [
        {
          "output_type": "execute_result",
          "data": {
            "text/html": [
              "<div>\n",
              "<style scoped>\n",
              "    .dataframe tbody tr th:only-of-type {\n",
              "        vertical-align: middle;\n",
              "    }\n",
              "\n",
              "    .dataframe tbody tr th {\n",
              "        vertical-align: top;\n",
              "    }\n",
              "\n",
              "    .dataframe thead th {\n",
              "        text-align: right;\n",
              "    }\n",
              "</style>\n",
              "<table border=\"1\" class=\"dataframe\">\n",
              "  <thead>\n",
              "    <tr style=\"text-align: right;\">\n",
              "      <th></th>\n",
              "      <th>userID</th>\n",
              "      <th>Location</th>\n",
              "      <th>Age</th>\n",
              "    </tr>\n",
              "  </thead>\n",
              "  <tbody>\n",
              "    <tr>\n",
              "      <th>0</th>\n",
              "      <td>1</td>\n",
              "      <td>nyc, new york, usa</td>\n",
              "      <td>NaN</td>\n",
              "    </tr>\n",
              "    <tr>\n",
              "      <th>1</th>\n",
              "      <td>2</td>\n",
              "      <td>stockton, california, usa</td>\n",
              "      <td>18.0</td>\n",
              "    </tr>\n",
              "    <tr>\n",
              "      <th>2</th>\n",
              "      <td>3</td>\n",
              "      <td>moscow, yukon territory, russia</td>\n",
              "      <td>NaN</td>\n",
              "    </tr>\n",
              "    <tr>\n",
              "      <th>3</th>\n",
              "      <td>4</td>\n",
              "      <td>porto, v.n.gaia, portugal</td>\n",
              "      <td>17.0</td>\n",
              "    </tr>\n",
              "    <tr>\n",
              "      <th>4</th>\n",
              "      <td>5</td>\n",
              "      <td>farnborough, hants, united kingdom</td>\n",
              "      <td>NaN</td>\n",
              "    </tr>\n",
              "  </tbody>\n",
              "</table>\n",
              "</div>"
            ],
            "text/plain": [
              "   userID                            Location   Age\n",
              "0       1                  nyc, new york, usa   NaN\n",
              "1       2           stockton, california, usa  18.0\n",
              "2       3     moscow, yukon territory, russia   NaN\n",
              "3       4           porto, v.n.gaia, portugal  17.0\n",
              "4       5  farnborough, hants, united kingdom   NaN"
            ]
          },
          "metadata": {
            "tags": []
          },
          "execution_count": 710
        }
      ]
    },
    {
      "cell_type": "code",
      "metadata": {
        "id": "9VJajMzUNOu_",
        "colab_type": "code",
        "colab": {}
      },
      "source": [
        "users['Age'].replace(users[(users['Age']<5)^(users['Age']>90)]['Age'],np.NaN,inplace=True)"
      ],
      "execution_count": 0,
      "outputs": []
    },
    {
      "cell_type": "code",
      "metadata": {
        "id": "eSaUAMhNO3Fp",
        "colab_type": "code",
        "colab": {
          "base_uri": "https://localhost:8080/",
          "height": 34
        },
        "outputId": "6746216f-2db5-4070-bcfb-0461fe65db1f"
      },
      "source": [
        "users[(users['Age']<5)^(users['Age']>90)]['Age']"
      ],
      "execution_count": 712,
      "outputs": [
        {
          "output_type": "execute_result",
          "data": {
            "text/plain": [
              "Series([], Name: Age, dtype: float64)"
            ]
          },
          "metadata": {
            "tags": []
          },
          "execution_count": 712
        }
      ]
    },
    {
      "cell_type": "markdown",
      "metadata": {
        "id": "bueiruQB3B3F",
        "colab_type": "text"
      },
      "source": [
        "### Replace null values in column `Age` with mean"
      ]
    },
    {
      "cell_type": "code",
      "metadata": {
        "id": "dg7LoUKKRs8_",
        "colab_type": "code",
        "colab": {
          "base_uri": "https://localhost:8080/",
          "height": 119
        },
        "outputId": "d33c3ca8-e844-4bc3-a272-07b922e18371"
      },
      "source": [
        "users['Age'].head()"
      ],
      "execution_count": 713,
      "outputs": [
        {
          "output_type": "execute_result",
          "data": {
            "text/plain": [
              "0     NaN\n",
              "1    18.0\n",
              "2     NaN\n",
              "3    17.0\n",
              "4     NaN\n",
              "Name: Age, dtype: float64"
            ]
          },
          "metadata": {
            "tags": []
          },
          "execution_count": 713
        }
      ]
    },
    {
      "cell_type": "code",
      "metadata": {
        "id": "zB6LfHghQIdU",
        "colab_type": "code",
        "colab": {
          "base_uri": "https://localhost:8080/",
          "height": 34
        },
        "outputId": "172c2265-b3f9-4df8-8df1-47e886884a98"
      },
      "source": [
        "users['Age'].mean()"
      ],
      "execution_count": 714,
      "outputs": [
        {
          "output_type": "execute_result",
          "data": {
            "text/plain": [
              "34.72384041634689"
            ]
          },
          "metadata": {
            "tags": []
          },
          "execution_count": 714
        }
      ]
    },
    {
      "cell_type": "code",
      "metadata": {
        "id": "5aun6gfQ3B3J",
        "colab_type": "code",
        "colab": {}
      },
      "source": [
        "users['Age'].replace(np.NaN,users['Age'].mean(),inplace=True)"
      ],
      "execution_count": 0,
      "outputs": []
    },
    {
      "cell_type": "code",
      "metadata": {
        "id": "_hV2bjEQR6SZ",
        "colab_type": "code",
        "colab": {
          "base_uri": "https://localhost:8080/",
          "height": 119
        },
        "outputId": "ba70387d-7f26-4b43-9f66-01139ccf51be"
      },
      "source": [
        "users['Age'].head()"
      ],
      "execution_count": 716,
      "outputs": [
        {
          "output_type": "execute_result",
          "data": {
            "text/plain": [
              "0    34.72384\n",
              "1    18.00000\n",
              "2    34.72384\n",
              "3    17.00000\n",
              "4    34.72384\n",
              "Name: Age, dtype: float64"
            ]
          },
          "metadata": {
            "tags": []
          },
          "execution_count": 716
        }
      ]
    },
    {
      "cell_type": "markdown",
      "metadata": {
        "id": "SRrDpBsF3B3P",
        "colab_type": "text"
      },
      "source": [
        "### Change the datatype of `Age` to `int`"
      ]
    },
    {
      "cell_type": "code",
      "metadata": {
        "id": "dznIryv33B3R",
        "colab_type": "code",
        "colab": {}
      },
      "source": [
        "users['Age'] =users['Age'].astype(np.int64)"
      ],
      "execution_count": 0,
      "outputs": []
    },
    {
      "cell_type": "code",
      "metadata": {
        "id": "mN6ZCWtaSNLg",
        "colab_type": "code",
        "colab": {
          "base_uri": "https://localhost:8080/",
          "height": 34
        },
        "outputId": "4d9475bf-6b8f-4780-8e36-1535a7d8031c"
      },
      "source": [
        "users['Age'].dtypes"
      ],
      "execution_count": 718,
      "outputs": [
        {
          "output_type": "execute_result",
          "data": {
            "text/plain": [
              "dtype('int64')"
            ]
          },
          "metadata": {
            "tags": []
          },
          "execution_count": 718
        }
      ]
    },
    {
      "cell_type": "code",
      "metadata": {
        "scrolled": true,
        "id": "dwiu52tV3B3U",
        "colab_type": "code",
        "outputId": "ba5fa551-d608-4516-fbfd-b53f97fdc2d7",
        "colab": {
          "base_uri": "https://localhost:8080/",
          "height": 54
        }
      },
      "source": [
        "print(sorted(users.Age.unique()))"
      ],
      "execution_count": 719,
      "outputs": [
        {
          "output_type": "stream",
          "text": [
            "[5, 6, 7, 8, 9, 10, 11, 12, 13, 14, 15, 16, 17, 18, 19, 20, 21, 22, 23, 24, 25, 26, 27, 28, 29, 30, 31, 32, 33, 34, 35, 36, 37, 38, 39, 40, 41, 42, 43, 44, 45, 46, 47, 48, 49, 50, 51, 52, 53, 54, 55, 56, 57, 58, 59, 60, 61, 62, 63, 64, 65, 66, 67, 68, 69, 70, 71, 72, 73, 74, 75, 76, 77, 78, 79, 80, 81, 82, 83, 84, 85, 86, 87, 88, 89, 90]\n"
          ],
          "name": "stdout"
        }
      ]
    },
    {
      "cell_type": "markdown",
      "metadata": {
        "id": "AeP83Lip3B3Z",
        "colab_type": "text"
      },
      "source": [
        "## Exploring the Ratings Dataset"
      ]
    },
    {
      "cell_type": "markdown",
      "metadata": {
        "id": "YRbXfMLE3B3a",
        "colab_type": "text"
      },
      "source": [
        "### check the shape"
      ]
    },
    {
      "cell_type": "code",
      "metadata": {
        "id": "_imW0QZQSY3o",
        "colab_type": "code",
        "colab": {
          "base_uri": "https://localhost:8080/",
          "height": 238
        },
        "outputId": "5668d162-0308-4aa3-f312-bd704c52acdb"
      },
      "source": [
        "print(ratings.shape)\n",
        "print(ratings1.shape)\n",
        "ratings.head()"
      ],
      "execution_count": 720,
      "outputs": [
        {
          "output_type": "stream",
          "text": [
            "(1149780, 3)\n",
            "(1149780, 3)\n"
          ],
          "name": "stdout"
        },
        {
          "output_type": "execute_result",
          "data": {
            "text/html": [
              "<div>\n",
              "<style scoped>\n",
              "    .dataframe tbody tr th:only-of-type {\n",
              "        vertical-align: middle;\n",
              "    }\n",
              "\n",
              "    .dataframe tbody tr th {\n",
              "        vertical-align: top;\n",
              "    }\n",
              "\n",
              "    .dataframe thead th {\n",
              "        text-align: right;\n",
              "    }\n",
              "</style>\n",
              "<table border=\"1\" class=\"dataframe\">\n",
              "  <thead>\n",
              "    <tr style=\"text-align: right;\">\n",
              "      <th></th>\n",
              "      <th>userID</th>\n",
              "      <th>ISBN</th>\n",
              "      <th>bookRating</th>\n",
              "    </tr>\n",
              "  </thead>\n",
              "  <tbody>\n",
              "    <tr>\n",
              "      <th>0</th>\n",
              "      <td>276725</td>\n",
              "      <td>034545104X</td>\n",
              "      <td>0</td>\n",
              "    </tr>\n",
              "    <tr>\n",
              "      <th>1</th>\n",
              "      <td>276726</td>\n",
              "      <td>0155061224</td>\n",
              "      <td>5</td>\n",
              "    </tr>\n",
              "    <tr>\n",
              "      <th>2</th>\n",
              "      <td>276727</td>\n",
              "      <td>0446520802</td>\n",
              "      <td>0</td>\n",
              "    </tr>\n",
              "    <tr>\n",
              "      <th>3</th>\n",
              "      <td>276729</td>\n",
              "      <td>052165615X</td>\n",
              "      <td>3</td>\n",
              "    </tr>\n",
              "    <tr>\n",
              "      <th>4</th>\n",
              "      <td>276729</td>\n",
              "      <td>0521795028</td>\n",
              "      <td>6</td>\n",
              "    </tr>\n",
              "  </tbody>\n",
              "</table>\n",
              "</div>"
            ],
            "text/plain": [
              "   userID        ISBN  bookRating\n",
              "0  276725  034545104X           0\n",
              "1  276726  0155061224           5\n",
              "2  276727  0446520802           0\n",
              "3  276729  052165615X           3\n",
              "4  276729  0521795028           6"
            ]
          },
          "metadata": {
            "tags": []
          },
          "execution_count": 720
        }
      ]
    },
    {
      "cell_type": "code",
      "metadata": {
        "id": "TBKp_uNR3B3f",
        "colab_type": "code",
        "colab": {}
      },
      "source": [
        "n_users = users.shape[0]\n",
        "n_books = books.shape[0]"
      ],
      "execution_count": 0,
      "outputs": []
    },
    {
      "cell_type": "code",
      "metadata": {
        "id": "_03fzWyISwaF",
        "colab_type": "code",
        "colab": {
          "base_uri": "https://localhost:8080/",
          "height": 34
        },
        "outputId": "ff06bce8-ebe8-4d45-a750-8724a2e384bc"
      },
      "source": [
        "print(n_users,n_books)"
      ],
      "execution_count": 722,
      "outputs": [
        {
          "output_type": "stream",
          "text": [
            "278858 271355\n"
          ],
          "name": "stdout"
        }
      ]
    },
    {
      "cell_type": "code",
      "metadata": {
        "scrolled": true,
        "id": "Q2oE0QNl3B3j",
        "colab_type": "code",
        "outputId": "34532a53-7b16-4503-fd37-c70d5e12914d",
        "colab": {
          "base_uri": "https://localhost:8080/",
          "height": 204
        }
      },
      "source": [
        "ratings.head(5)"
      ],
      "execution_count": 723,
      "outputs": [
        {
          "output_type": "execute_result",
          "data": {
            "text/html": [
              "<div>\n",
              "<style scoped>\n",
              "    .dataframe tbody tr th:only-of-type {\n",
              "        vertical-align: middle;\n",
              "    }\n",
              "\n",
              "    .dataframe tbody tr th {\n",
              "        vertical-align: top;\n",
              "    }\n",
              "\n",
              "    .dataframe thead th {\n",
              "        text-align: right;\n",
              "    }\n",
              "</style>\n",
              "<table border=\"1\" class=\"dataframe\">\n",
              "  <thead>\n",
              "    <tr style=\"text-align: right;\">\n",
              "      <th></th>\n",
              "      <th>userID</th>\n",
              "      <th>ISBN</th>\n",
              "      <th>bookRating</th>\n",
              "    </tr>\n",
              "  </thead>\n",
              "  <tbody>\n",
              "    <tr>\n",
              "      <th>0</th>\n",
              "      <td>276725</td>\n",
              "      <td>034545104X</td>\n",
              "      <td>0</td>\n",
              "    </tr>\n",
              "    <tr>\n",
              "      <th>1</th>\n",
              "      <td>276726</td>\n",
              "      <td>0155061224</td>\n",
              "      <td>5</td>\n",
              "    </tr>\n",
              "    <tr>\n",
              "      <th>2</th>\n",
              "      <td>276727</td>\n",
              "      <td>0446520802</td>\n",
              "      <td>0</td>\n",
              "    </tr>\n",
              "    <tr>\n",
              "      <th>3</th>\n",
              "      <td>276729</td>\n",
              "      <td>052165615X</td>\n",
              "      <td>3</td>\n",
              "    </tr>\n",
              "    <tr>\n",
              "      <th>4</th>\n",
              "      <td>276729</td>\n",
              "      <td>0521795028</td>\n",
              "      <td>6</td>\n",
              "    </tr>\n",
              "  </tbody>\n",
              "</table>\n",
              "</div>"
            ],
            "text/plain": [
              "   userID        ISBN  bookRating\n",
              "0  276725  034545104X           0\n",
              "1  276726  0155061224           5\n",
              "2  276727  0446520802           0\n",
              "3  276729  052165615X           3\n",
              "4  276729  0521795028           6"
            ]
          },
          "metadata": {
            "tags": []
          },
          "execution_count": 723
        }
      ]
    },
    {
      "cell_type": "markdown",
      "metadata": {
        "id": "vCCIKv7U3B3n",
        "colab_type": "text"
      },
      "source": [
        "### Ratings dataset should have books only which exist in our books dataset. Drop the remaining rows"
      ]
    },
    {
      "cell_type": "code",
      "metadata": {
        "id": "d53bw2HX3B3o",
        "colab_type": "code",
        "colab": {
          "base_uri": "https://localhost:8080/",
          "height": 204
        },
        "outputId": "3d65727d-8af6-4bcd-cda5-de4f0f4ef030"
      },
      "source": [
        "\n",
        "ratings.head()"
      ],
      "execution_count": 724,
      "outputs": [
        {
          "output_type": "execute_result",
          "data": {
            "text/html": [
              "<div>\n",
              "<style scoped>\n",
              "    .dataframe tbody tr th:only-of-type {\n",
              "        vertical-align: middle;\n",
              "    }\n",
              "\n",
              "    .dataframe tbody tr th {\n",
              "        vertical-align: top;\n",
              "    }\n",
              "\n",
              "    .dataframe thead th {\n",
              "        text-align: right;\n",
              "    }\n",
              "</style>\n",
              "<table border=\"1\" class=\"dataframe\">\n",
              "  <thead>\n",
              "    <tr style=\"text-align: right;\">\n",
              "      <th></th>\n",
              "      <th>userID</th>\n",
              "      <th>ISBN</th>\n",
              "      <th>bookRating</th>\n",
              "    </tr>\n",
              "  </thead>\n",
              "  <tbody>\n",
              "    <tr>\n",
              "      <th>0</th>\n",
              "      <td>276725</td>\n",
              "      <td>034545104X</td>\n",
              "      <td>0</td>\n",
              "    </tr>\n",
              "    <tr>\n",
              "      <th>1</th>\n",
              "      <td>276726</td>\n",
              "      <td>0155061224</td>\n",
              "      <td>5</td>\n",
              "    </tr>\n",
              "    <tr>\n",
              "      <th>2</th>\n",
              "      <td>276727</td>\n",
              "      <td>0446520802</td>\n",
              "      <td>0</td>\n",
              "    </tr>\n",
              "    <tr>\n",
              "      <th>3</th>\n",
              "      <td>276729</td>\n",
              "      <td>052165615X</td>\n",
              "      <td>3</td>\n",
              "    </tr>\n",
              "    <tr>\n",
              "      <th>4</th>\n",
              "      <td>276729</td>\n",
              "      <td>0521795028</td>\n",
              "      <td>6</td>\n",
              "    </tr>\n",
              "  </tbody>\n",
              "</table>\n",
              "</div>"
            ],
            "text/plain": [
              "   userID        ISBN  bookRating\n",
              "0  276725  034545104X           0\n",
              "1  276726  0155061224           5\n",
              "2  276727  0446520802           0\n",
              "3  276729  052165615X           3\n",
              "4  276729  0521795028           6"
            ]
          },
          "metadata": {
            "tags": []
          },
          "execution_count": 724
        }
      ]
    },
    {
      "cell_type": "code",
      "metadata": {
        "id": "8BZXZcs4TLUz",
        "colab_type": "code",
        "colab": {
          "base_uri": "https://localhost:8080/",
          "height": 204
        },
        "outputId": "d711ee14-c264-4af3-8d6c-99f4dc7bdd4a"
      },
      "source": [
        "books.head()"
      ],
      "execution_count": 725,
      "outputs": [
        {
          "output_type": "execute_result",
          "data": {
            "text/html": [
              "<div>\n",
              "<style scoped>\n",
              "    .dataframe tbody tr th:only-of-type {\n",
              "        vertical-align: middle;\n",
              "    }\n",
              "\n",
              "    .dataframe tbody tr th {\n",
              "        vertical-align: top;\n",
              "    }\n",
              "\n",
              "    .dataframe thead th {\n",
              "        text-align: right;\n",
              "    }\n",
              "</style>\n",
              "<table border=\"1\" class=\"dataframe\">\n",
              "  <thead>\n",
              "    <tr style=\"text-align: right;\">\n",
              "      <th></th>\n",
              "      <th>ISBN</th>\n",
              "      <th>bookTitle</th>\n",
              "      <th>bookAuthor</th>\n",
              "      <th>yearOfPublication</th>\n",
              "      <th>publisher</th>\n",
              "    </tr>\n",
              "  </thead>\n",
              "  <tbody>\n",
              "    <tr>\n",
              "      <th>0</th>\n",
              "      <td>0195153448</td>\n",
              "      <td>Classical Mythology</td>\n",
              "      <td>Mark P. O. Morford</td>\n",
              "      <td>2002</td>\n",
              "      <td>Oxford University Press</td>\n",
              "    </tr>\n",
              "    <tr>\n",
              "      <th>1</th>\n",
              "      <td>0002005018</td>\n",
              "      <td>Clara Callan</td>\n",
              "      <td>Richard Bruce Wright</td>\n",
              "      <td>2001</td>\n",
              "      <td>HarperFlamingo Canada</td>\n",
              "    </tr>\n",
              "    <tr>\n",
              "      <th>2</th>\n",
              "      <td>0060973129</td>\n",
              "      <td>Decision in Normandy</td>\n",
              "      <td>Carlo D'Este</td>\n",
              "      <td>1991</td>\n",
              "      <td>HarperPerennial</td>\n",
              "    </tr>\n",
              "    <tr>\n",
              "      <th>3</th>\n",
              "      <td>0374157065</td>\n",
              "      <td>Flu: The Story of the Great Influenza Pandemic...</td>\n",
              "      <td>Gina Bari Kolata</td>\n",
              "      <td>1999</td>\n",
              "      <td>Farrar Straus Giroux</td>\n",
              "    </tr>\n",
              "    <tr>\n",
              "      <th>4</th>\n",
              "      <td>0393045218</td>\n",
              "      <td>The Mummies of Urumchi</td>\n",
              "      <td>E. J. W. Barber</td>\n",
              "      <td>1999</td>\n",
              "      <td>W. W. Norton &amp;amp; Company</td>\n",
              "    </tr>\n",
              "  </tbody>\n",
              "</table>\n",
              "</div>"
            ],
            "text/plain": [
              "         ISBN  ...                   publisher\n",
              "0  0195153448  ...     Oxford University Press\n",
              "1  0002005018  ...       HarperFlamingo Canada\n",
              "2  0060973129  ...             HarperPerennial\n",
              "3  0374157065  ...        Farrar Straus Giroux\n",
              "4  0393045218  ...  W. W. Norton &amp; Company\n",
              "\n",
              "[5 rows x 5 columns]"
            ]
          },
          "metadata": {
            "tags": []
          },
          "execution_count": 725
        }
      ]
    },
    {
      "cell_type": "code",
      "metadata": {
        "id": "WEGUFaSqTLQ5",
        "colab_type": "code",
        "colab": {
          "base_uri": "https://localhost:8080/",
          "height": 204
        },
        "outputId": "33efa9f8-ecea-4591-ff06-166762042359"
      },
      "source": [
        "users.head()"
      ],
      "execution_count": 726,
      "outputs": [
        {
          "output_type": "execute_result",
          "data": {
            "text/html": [
              "<div>\n",
              "<style scoped>\n",
              "    .dataframe tbody tr th:only-of-type {\n",
              "        vertical-align: middle;\n",
              "    }\n",
              "\n",
              "    .dataframe tbody tr th {\n",
              "        vertical-align: top;\n",
              "    }\n",
              "\n",
              "    .dataframe thead th {\n",
              "        text-align: right;\n",
              "    }\n",
              "</style>\n",
              "<table border=\"1\" class=\"dataframe\">\n",
              "  <thead>\n",
              "    <tr style=\"text-align: right;\">\n",
              "      <th></th>\n",
              "      <th>userID</th>\n",
              "      <th>Location</th>\n",
              "      <th>Age</th>\n",
              "    </tr>\n",
              "  </thead>\n",
              "  <tbody>\n",
              "    <tr>\n",
              "      <th>0</th>\n",
              "      <td>1</td>\n",
              "      <td>nyc, new york, usa</td>\n",
              "      <td>34</td>\n",
              "    </tr>\n",
              "    <tr>\n",
              "      <th>1</th>\n",
              "      <td>2</td>\n",
              "      <td>stockton, california, usa</td>\n",
              "      <td>18</td>\n",
              "    </tr>\n",
              "    <tr>\n",
              "      <th>2</th>\n",
              "      <td>3</td>\n",
              "      <td>moscow, yukon territory, russia</td>\n",
              "      <td>34</td>\n",
              "    </tr>\n",
              "    <tr>\n",
              "      <th>3</th>\n",
              "      <td>4</td>\n",
              "      <td>porto, v.n.gaia, portugal</td>\n",
              "      <td>17</td>\n",
              "    </tr>\n",
              "    <tr>\n",
              "      <th>4</th>\n",
              "      <td>5</td>\n",
              "      <td>farnborough, hants, united kingdom</td>\n",
              "      <td>34</td>\n",
              "    </tr>\n",
              "  </tbody>\n",
              "</table>\n",
              "</div>"
            ],
            "text/plain": [
              "   userID                            Location  Age\n",
              "0       1                  nyc, new york, usa   34\n",
              "1       2           stockton, california, usa   18\n",
              "2       3     moscow, yukon territory, russia   34\n",
              "3       4           porto, v.n.gaia, portugal   17\n",
              "4       5  farnborough, hants, united kingdom   34"
            ]
          },
          "metadata": {
            "tags": []
          },
          "execution_count": 726
        }
      ]
    },
    {
      "cell_type": "code",
      "metadata": {
        "id": "mV7TDFFSVLyr",
        "colab_type": "code",
        "colab": {}
      },
      "source": [
        "ratings_books = pd.merge(ratings,books,on='ISBN',how='inner')"
      ],
      "execution_count": 0,
      "outputs": []
    },
    {
      "cell_type": "code",
      "metadata": {
        "id": "kx-wc1zNVqup",
        "colab_type": "code",
        "colab": {
          "base_uri": "https://localhost:8080/",
          "height": 68
        },
        "outputId": "3ffb984c-4c23-4704-abb9-497217634920"
      },
      "source": [
        "print(books.shape)\n",
        "print(ratings.shape)\n",
        "print(ratings_books.shape)"
      ],
      "execution_count": 728,
      "outputs": [
        {
          "output_type": "stream",
          "text": [
            "(271355, 5)\n",
            "(1149780, 3)\n",
            "(1031130, 7)\n"
          ],
          "name": "stdout"
        }
      ]
    },
    {
      "cell_type": "code",
      "metadata": {
        "id": "gVBLWbhNV8tc",
        "colab_type": "code",
        "colab": {
          "base_uri": "https://localhost:8080/",
          "height": 204
        },
        "outputId": "81478921-0675-47cb-bbfc-3e7c1d038d1a"
      },
      "source": [
        "ratings_books.head()"
      ],
      "execution_count": 729,
      "outputs": [
        {
          "output_type": "execute_result",
          "data": {
            "text/html": [
              "<div>\n",
              "<style scoped>\n",
              "    .dataframe tbody tr th:only-of-type {\n",
              "        vertical-align: middle;\n",
              "    }\n",
              "\n",
              "    .dataframe tbody tr th {\n",
              "        vertical-align: top;\n",
              "    }\n",
              "\n",
              "    .dataframe thead th {\n",
              "        text-align: right;\n",
              "    }\n",
              "</style>\n",
              "<table border=\"1\" class=\"dataframe\">\n",
              "  <thead>\n",
              "    <tr style=\"text-align: right;\">\n",
              "      <th></th>\n",
              "      <th>userID</th>\n",
              "      <th>ISBN</th>\n",
              "      <th>bookRating</th>\n",
              "      <th>bookTitle</th>\n",
              "      <th>bookAuthor</th>\n",
              "      <th>yearOfPublication</th>\n",
              "      <th>publisher</th>\n",
              "    </tr>\n",
              "  </thead>\n",
              "  <tbody>\n",
              "    <tr>\n",
              "      <th>0</th>\n",
              "      <td>276725</td>\n",
              "      <td>034545104X</td>\n",
              "      <td>0</td>\n",
              "      <td>Flesh Tones: A Novel</td>\n",
              "      <td>M. J. Rose</td>\n",
              "      <td>2002</td>\n",
              "      <td>Ballantine Books</td>\n",
              "    </tr>\n",
              "    <tr>\n",
              "      <th>1</th>\n",
              "      <td>2313</td>\n",
              "      <td>034545104X</td>\n",
              "      <td>5</td>\n",
              "      <td>Flesh Tones: A Novel</td>\n",
              "      <td>M. J. Rose</td>\n",
              "      <td>2002</td>\n",
              "      <td>Ballantine Books</td>\n",
              "    </tr>\n",
              "    <tr>\n",
              "      <th>2</th>\n",
              "      <td>6543</td>\n",
              "      <td>034545104X</td>\n",
              "      <td>0</td>\n",
              "      <td>Flesh Tones: A Novel</td>\n",
              "      <td>M. J. Rose</td>\n",
              "      <td>2002</td>\n",
              "      <td>Ballantine Books</td>\n",
              "    </tr>\n",
              "    <tr>\n",
              "      <th>3</th>\n",
              "      <td>8680</td>\n",
              "      <td>034545104X</td>\n",
              "      <td>5</td>\n",
              "      <td>Flesh Tones: A Novel</td>\n",
              "      <td>M. J. Rose</td>\n",
              "      <td>2002</td>\n",
              "      <td>Ballantine Books</td>\n",
              "    </tr>\n",
              "    <tr>\n",
              "      <th>4</th>\n",
              "      <td>10314</td>\n",
              "      <td>034545104X</td>\n",
              "      <td>9</td>\n",
              "      <td>Flesh Tones: A Novel</td>\n",
              "      <td>M. J. Rose</td>\n",
              "      <td>2002</td>\n",
              "      <td>Ballantine Books</td>\n",
              "    </tr>\n",
              "  </tbody>\n",
              "</table>\n",
              "</div>"
            ],
            "text/plain": [
              "   userID        ISBN  ...  yearOfPublication         publisher\n",
              "0  276725  034545104X  ...               2002  Ballantine Books\n",
              "1    2313  034545104X  ...               2002  Ballantine Books\n",
              "2    6543  034545104X  ...               2002  Ballantine Books\n",
              "3    8680  034545104X  ...               2002  Ballantine Books\n",
              "4   10314  034545104X  ...               2002  Ballantine Books\n",
              "\n",
              "[5 rows x 7 columns]"
            ]
          },
          "metadata": {
            "tags": []
          },
          "execution_count": 729
        }
      ]
    },
    {
      "cell_type": "code",
      "metadata": {
        "id": "TGnfUGSDV8bM",
        "colab_type": "code",
        "colab": {}
      },
      "source": [
        ""
      ],
      "execution_count": 0,
      "outputs": []
    },
    {
      "cell_type": "markdown",
      "metadata": {
        "id": "2SFrCJ-d3B3s",
        "colab_type": "text"
      },
      "source": [
        "### Ratings dataset should have ratings from users which exist in users dataset. Drop the remaining rows"
      ]
    },
    {
      "cell_type": "code",
      "metadata": {
        "id": "qi4Yzs_I3B3u",
        "colab_type": "code",
        "colab": {}
      },
      "source": [
        "ratings_books_users_df = pd.merge(ratings_books,users,on='userID',how='inner')"
      ],
      "execution_count": 0,
      "outputs": []
    },
    {
      "cell_type": "code",
      "metadata": {
        "id": "JjQ7JzC9WXfm",
        "colab_type": "code",
        "colab": {
          "base_uri": "https://localhost:8080/",
          "height": 34
        },
        "outputId": "d3c4c403-db21-4ae4-ff46-f3064277937a"
      },
      "source": [
        "ratings_books_users_df.shape"
      ],
      "execution_count": 731,
      "outputs": [
        {
          "output_type": "execute_result",
          "data": {
            "text/plain": [
              "(1031130, 9)"
            ]
          },
          "metadata": {
            "tags": []
          },
          "execution_count": 731
        }
      ]
    },
    {
      "cell_type": "code",
      "metadata": {
        "id": "C0F5gCHdWXbM",
        "colab_type": "code",
        "colab": {
          "base_uri": "https://localhost:8080/",
          "height": 68
        },
        "outputId": "fb3bc981-758d-4f2a-acc4-1b4cd35c8398"
      },
      "source": [
        "print(books.shape)\n",
        "print(ratings.shape)\n",
        "print(ratings_books.shape)"
      ],
      "execution_count": 732,
      "outputs": [
        {
          "output_type": "stream",
          "text": [
            "(271355, 5)\n",
            "(1149780, 3)\n",
            "(1031130, 7)\n"
          ],
          "name": "stdout"
        }
      ]
    },
    {
      "cell_type": "code",
      "metadata": {
        "id": "eX0BMx06WxtZ",
        "colab_type": "code",
        "colab": {
          "base_uri": "https://localhost:8080/",
          "height": 204
        },
        "outputId": "6c93ef7e-fe21-4155-de35-52d78b682c94"
      },
      "source": [
        "ratings_books_users_df.head()"
      ],
      "execution_count": 733,
      "outputs": [
        {
          "output_type": "execute_result",
          "data": {
            "text/html": [
              "<div>\n",
              "<style scoped>\n",
              "    .dataframe tbody tr th:only-of-type {\n",
              "        vertical-align: middle;\n",
              "    }\n",
              "\n",
              "    .dataframe tbody tr th {\n",
              "        vertical-align: top;\n",
              "    }\n",
              "\n",
              "    .dataframe thead th {\n",
              "        text-align: right;\n",
              "    }\n",
              "</style>\n",
              "<table border=\"1\" class=\"dataframe\">\n",
              "  <thead>\n",
              "    <tr style=\"text-align: right;\">\n",
              "      <th></th>\n",
              "      <th>userID</th>\n",
              "      <th>ISBN</th>\n",
              "      <th>bookRating</th>\n",
              "      <th>bookTitle</th>\n",
              "      <th>bookAuthor</th>\n",
              "      <th>yearOfPublication</th>\n",
              "      <th>publisher</th>\n",
              "      <th>Location</th>\n",
              "      <th>Age</th>\n",
              "    </tr>\n",
              "  </thead>\n",
              "  <tbody>\n",
              "    <tr>\n",
              "      <th>0</th>\n",
              "      <td>276725</td>\n",
              "      <td>034545104X</td>\n",
              "      <td>0</td>\n",
              "      <td>Flesh Tones: A Novel</td>\n",
              "      <td>M. J. Rose</td>\n",
              "      <td>2002</td>\n",
              "      <td>Ballantine Books</td>\n",
              "      <td>tyler, texas, usa</td>\n",
              "      <td>34</td>\n",
              "    </tr>\n",
              "    <tr>\n",
              "      <th>1</th>\n",
              "      <td>2313</td>\n",
              "      <td>034545104X</td>\n",
              "      <td>5</td>\n",
              "      <td>Flesh Tones: A Novel</td>\n",
              "      <td>M. J. Rose</td>\n",
              "      <td>2002</td>\n",
              "      <td>Ballantine Books</td>\n",
              "      <td>cincinnati, ohio, usa</td>\n",
              "      <td>23</td>\n",
              "    </tr>\n",
              "    <tr>\n",
              "      <th>2</th>\n",
              "      <td>2313</td>\n",
              "      <td>0812533550</td>\n",
              "      <td>9</td>\n",
              "      <td>Ender's Game (Ender Wiggins Saga (Paperback))</td>\n",
              "      <td>Orson Scott Card</td>\n",
              "      <td>1986</td>\n",
              "      <td>Tor Books</td>\n",
              "      <td>cincinnati, ohio, usa</td>\n",
              "      <td>23</td>\n",
              "    </tr>\n",
              "    <tr>\n",
              "      <th>3</th>\n",
              "      <td>2313</td>\n",
              "      <td>0679745580</td>\n",
              "      <td>8</td>\n",
              "      <td>In Cold Blood (Vintage International)</td>\n",
              "      <td>TRUMAN CAPOTE</td>\n",
              "      <td>1994</td>\n",
              "      <td>Vintage</td>\n",
              "      <td>cincinnati, ohio, usa</td>\n",
              "      <td>23</td>\n",
              "    </tr>\n",
              "    <tr>\n",
              "      <th>4</th>\n",
              "      <td>2313</td>\n",
              "      <td>0060173289</td>\n",
              "      <td>9</td>\n",
              "      <td>Divine Secrets of the Ya-Ya Sisterhood : A Novel</td>\n",
              "      <td>Rebecca Wells</td>\n",
              "      <td>1996</td>\n",
              "      <td>HarperCollins</td>\n",
              "      <td>cincinnati, ohio, usa</td>\n",
              "      <td>23</td>\n",
              "    </tr>\n",
              "  </tbody>\n",
              "</table>\n",
              "</div>"
            ],
            "text/plain": [
              "   userID        ISBN  bookRating  ...         publisher               Location  Age\n",
              "0  276725  034545104X           0  ...  Ballantine Books      tyler, texas, usa   34\n",
              "1    2313  034545104X           5  ...  Ballantine Books  cincinnati, ohio, usa   23\n",
              "2    2313  0812533550           9  ...         Tor Books  cincinnati, ohio, usa   23\n",
              "3    2313  0679745580           8  ...           Vintage  cincinnati, ohio, usa   23\n",
              "4    2313  0060173289           9  ...     HarperCollins  cincinnati, ohio, usa   23\n",
              "\n",
              "[5 rows x 9 columns]"
            ]
          },
          "metadata": {
            "tags": []
          },
          "execution_count": 733
        }
      ]
    },
    {
      "cell_type": "code",
      "metadata": {
        "id": "ZHPxuhUkW2r1",
        "colab_type": "code",
        "colab": {}
      },
      "source": [
        "ratings_books_users_df_cpy = ratings_books_users_df.copy(deep=True)"
      ],
      "execution_count": 0,
      "outputs": []
    },
    {
      "cell_type": "markdown",
      "metadata": {
        "id": "UGRKBWkG3B31",
        "colab_type": "text"
      },
      "source": [
        "### Consider only ratings from 1-10 and leave 0s in column `bookRating`"
      ]
    },
    {
      "cell_type": "code",
      "metadata": {
        "id": "_viapzui3B33",
        "colab_type": "code",
        "colab": {}
      },
      "source": [
        "ratings_books_users_df = ratings_books_users_df[ratings_books_users_df['bookRating']!=0]"
      ],
      "execution_count": 0,
      "outputs": []
    },
    {
      "cell_type": "code",
      "metadata": {
        "id": "rQ5uFJLaYdJ6",
        "colab_type": "code",
        "colab": {
          "base_uri": "https://localhost:8080/",
          "height": 289
        },
        "outputId": "8610eb68-7978-413f-c7fe-f8f9c86ee067"
      },
      "source": [
        "ratings_books_users_df.head()"
      ],
      "execution_count": 736,
      "outputs": [
        {
          "output_type": "execute_result",
          "data": {
            "text/html": [
              "<div>\n",
              "<style scoped>\n",
              "    .dataframe tbody tr th:only-of-type {\n",
              "        vertical-align: middle;\n",
              "    }\n",
              "\n",
              "    .dataframe tbody tr th {\n",
              "        vertical-align: top;\n",
              "    }\n",
              "\n",
              "    .dataframe thead th {\n",
              "        text-align: right;\n",
              "    }\n",
              "</style>\n",
              "<table border=\"1\" class=\"dataframe\">\n",
              "  <thead>\n",
              "    <tr style=\"text-align: right;\">\n",
              "      <th></th>\n",
              "      <th>userID</th>\n",
              "      <th>ISBN</th>\n",
              "      <th>bookRating</th>\n",
              "      <th>bookTitle</th>\n",
              "      <th>bookAuthor</th>\n",
              "      <th>yearOfPublication</th>\n",
              "      <th>publisher</th>\n",
              "      <th>Location</th>\n",
              "      <th>Age</th>\n",
              "    </tr>\n",
              "  </thead>\n",
              "  <tbody>\n",
              "    <tr>\n",
              "      <th>1</th>\n",
              "      <td>2313</td>\n",
              "      <td>034545104X</td>\n",
              "      <td>5</td>\n",
              "      <td>Flesh Tones: A Novel</td>\n",
              "      <td>M. J. Rose</td>\n",
              "      <td>2002</td>\n",
              "      <td>Ballantine Books</td>\n",
              "      <td>cincinnati, ohio, usa</td>\n",
              "      <td>23</td>\n",
              "    </tr>\n",
              "    <tr>\n",
              "      <th>2</th>\n",
              "      <td>2313</td>\n",
              "      <td>0812533550</td>\n",
              "      <td>9</td>\n",
              "      <td>Ender's Game (Ender Wiggins Saga (Paperback))</td>\n",
              "      <td>Orson Scott Card</td>\n",
              "      <td>1986</td>\n",
              "      <td>Tor Books</td>\n",
              "      <td>cincinnati, ohio, usa</td>\n",
              "      <td>23</td>\n",
              "    </tr>\n",
              "    <tr>\n",
              "      <th>3</th>\n",
              "      <td>2313</td>\n",
              "      <td>0679745580</td>\n",
              "      <td>8</td>\n",
              "      <td>In Cold Blood (Vintage International)</td>\n",
              "      <td>TRUMAN CAPOTE</td>\n",
              "      <td>1994</td>\n",
              "      <td>Vintage</td>\n",
              "      <td>cincinnati, ohio, usa</td>\n",
              "      <td>23</td>\n",
              "    </tr>\n",
              "    <tr>\n",
              "      <th>4</th>\n",
              "      <td>2313</td>\n",
              "      <td>0060173289</td>\n",
              "      <td>9</td>\n",
              "      <td>Divine Secrets of the Ya-Ya Sisterhood : A Novel</td>\n",
              "      <td>Rebecca Wells</td>\n",
              "      <td>1996</td>\n",
              "      <td>HarperCollins</td>\n",
              "      <td>cincinnati, ohio, usa</td>\n",
              "      <td>23</td>\n",
              "    </tr>\n",
              "    <tr>\n",
              "      <th>5</th>\n",
              "      <td>2313</td>\n",
              "      <td>0385482388</td>\n",
              "      <td>5</td>\n",
              "      <td>The Mistress of Spices</td>\n",
              "      <td>Chitra Banerjee Divakaruni</td>\n",
              "      <td>1998</td>\n",
              "      <td>Anchor Books/Doubleday</td>\n",
              "      <td>cincinnati, ohio, usa</td>\n",
              "      <td>23</td>\n",
              "    </tr>\n",
              "  </tbody>\n",
              "</table>\n",
              "</div>"
            ],
            "text/plain": [
              "   userID        ISBN  ...               Location Age\n",
              "1    2313  034545104X  ...  cincinnati, ohio, usa  23\n",
              "2    2313  0812533550  ...  cincinnati, ohio, usa  23\n",
              "3    2313  0679745580  ...  cincinnati, ohio, usa  23\n",
              "4    2313  0060173289  ...  cincinnati, ohio, usa  23\n",
              "5    2313  0385482388  ...  cincinnati, ohio, usa  23\n",
              "\n",
              "[5 rows x 9 columns]"
            ]
          },
          "metadata": {
            "tags": []
          },
          "execution_count": 736
        }
      ]
    },
    {
      "cell_type": "code",
      "metadata": {
        "id": "Tt5iRKsEY2N9",
        "colab_type": "code",
        "colab": {
          "base_uri": "https://localhost:8080/",
          "height": 34
        },
        "outputId": "1d3f4908-adf5-41b5-c880-d04bc0ac31f1"
      },
      "source": [
        "ratings_books_users_df_cpy[ratings_books_users_df_cpy['bookRating']==0]['bookRating'].count()"
      ],
      "execution_count": 737,
      "outputs": [
        {
          "output_type": "execute_result",
          "data": {
            "text/plain": [
              "647291"
            ]
          },
          "metadata": {
            "tags": []
          },
          "execution_count": 737
        }
      ]
    },
    {
      "cell_type": "code",
      "metadata": {
        "id": "KK5Mi5vWYoRk",
        "colab_type": "code",
        "colab": {
          "base_uri": "https://localhost:8080/",
          "height": 34
        },
        "outputId": "2c52bb5d-e88e-444b-cfda-2cf0b3bf812a"
      },
      "source": [
        "print(ratings_books_users_df_cpy.shape)"
      ],
      "execution_count": 738,
      "outputs": [
        {
          "output_type": "stream",
          "text": [
            "(1031130, 9)\n"
          ],
          "name": "stdout"
        }
      ]
    },
    {
      "cell_type": "code",
      "metadata": {
        "id": "ukXKxIqeYp40",
        "colab_type": "code",
        "colab": {
          "base_uri": "https://localhost:8080/",
          "height": 34
        },
        "outputId": "512db1a1-ff91-4922-b6ff-71183fc055cf"
      },
      "source": [
        "print(ratings_books_users_df.shape)"
      ],
      "execution_count": 739,
      "outputs": [
        {
          "output_type": "stream",
          "text": [
            "(383839, 9)\n"
          ],
          "name": "stdout"
        }
      ]
    },
    {
      "cell_type": "code",
      "metadata": {
        "id": "QbmEgHMcZGxa",
        "colab_type": "code",
        "colab": {}
      },
      "source": [
        "## 383839+647291 = 1031130"
      ],
      "execution_count": 0,
      "outputs": []
    },
    {
      "cell_type": "markdown",
      "metadata": {
        "id": "aSm8yvrD3B39",
        "colab_type": "text"
      },
      "source": [
        "### Find out which rating has been given highest number of times"
      ]
    },
    {
      "cell_type": "code",
      "metadata": {
        "id": "-c5DE5eaa14Y",
        "colab_type": "code",
        "colab": {
          "base_uri": "https://localhost:8080/",
          "height": 68
        },
        "outputId": "49a53a89-d6d1-4676-a878-67615f424fb0"
      },
      "source": [
        "ratings_books_users_df.columns"
      ],
      "execution_count": 741,
      "outputs": [
        {
          "output_type": "execute_result",
          "data": {
            "text/plain": [
              "Index(['userID', 'ISBN', 'bookRating', 'bookTitle', 'bookAuthor',\n",
              "       'yearOfPublication', 'publisher', 'Location', 'Age'],\n",
              "      dtype='object')"
            ]
          },
          "metadata": {
            "tags": []
          },
          "execution_count": 741
        }
      ]
    },
    {
      "cell_type": "code",
      "metadata": {
        "id": "bL43pYyT3B4B",
        "colab_type": "code",
        "colab": {
          "base_uri": "https://localhost:8080/",
          "height": 390
        },
        "outputId": "efa84f56-9f98-43f2-a407-72b19af0c805"
      },
      "source": [
        "ratings_books_users_df.groupby('bookRating').count().sort_values(by='userID',ascending=False)\n",
        "\n",
        "## rating 8 is given highest number of times - 91804"
      ],
      "execution_count": 742,
      "outputs": [
        {
          "output_type": "execute_result",
          "data": {
            "text/html": [
              "<div>\n",
              "<style scoped>\n",
              "    .dataframe tbody tr th:only-of-type {\n",
              "        vertical-align: middle;\n",
              "    }\n",
              "\n",
              "    .dataframe tbody tr th {\n",
              "        vertical-align: top;\n",
              "    }\n",
              "\n",
              "    .dataframe thead th {\n",
              "        text-align: right;\n",
              "    }\n",
              "</style>\n",
              "<table border=\"1\" class=\"dataframe\">\n",
              "  <thead>\n",
              "    <tr style=\"text-align: right;\">\n",
              "      <th></th>\n",
              "      <th>userID</th>\n",
              "      <th>ISBN</th>\n",
              "      <th>bookTitle</th>\n",
              "      <th>bookAuthor</th>\n",
              "      <th>yearOfPublication</th>\n",
              "      <th>publisher</th>\n",
              "      <th>Location</th>\n",
              "      <th>Age</th>\n",
              "    </tr>\n",
              "    <tr>\n",
              "      <th>bookRating</th>\n",
              "      <th></th>\n",
              "      <th></th>\n",
              "      <th></th>\n",
              "      <th></th>\n",
              "      <th></th>\n",
              "      <th></th>\n",
              "      <th></th>\n",
              "      <th></th>\n",
              "    </tr>\n",
              "  </thead>\n",
              "  <tbody>\n",
              "    <tr>\n",
              "      <th>8</th>\n",
              "      <td>91804</td>\n",
              "      <td>91804</td>\n",
              "      <td>91804</td>\n",
              "      <td>91803</td>\n",
              "      <td>91804</td>\n",
              "      <td>91804</td>\n",
              "      <td>91804</td>\n",
              "      <td>91804</td>\n",
              "    </tr>\n",
              "    <tr>\n",
              "      <th>10</th>\n",
              "      <td>71225</td>\n",
              "      <td>71225</td>\n",
              "      <td>71225</td>\n",
              "      <td>71225</td>\n",
              "      <td>71225</td>\n",
              "      <td>71225</td>\n",
              "      <td>71225</td>\n",
              "      <td>71225</td>\n",
              "    </tr>\n",
              "    <tr>\n",
              "      <th>7</th>\n",
              "      <td>66401</td>\n",
              "      <td>66401</td>\n",
              "      <td>66401</td>\n",
              "      <td>66401</td>\n",
              "      <td>66401</td>\n",
              "      <td>66401</td>\n",
              "      <td>66401</td>\n",
              "      <td>66401</td>\n",
              "    </tr>\n",
              "    <tr>\n",
              "      <th>9</th>\n",
              "      <td>60776</td>\n",
              "      <td>60776</td>\n",
              "      <td>60776</td>\n",
              "      <td>60776</td>\n",
              "      <td>60776</td>\n",
              "      <td>60776</td>\n",
              "      <td>60776</td>\n",
              "      <td>60776</td>\n",
              "    </tr>\n",
              "    <tr>\n",
              "      <th>5</th>\n",
              "      <td>45355</td>\n",
              "      <td>45355</td>\n",
              "      <td>45355</td>\n",
              "      <td>45355</td>\n",
              "      <td>45355</td>\n",
              "      <td>45355</td>\n",
              "      <td>45355</td>\n",
              "      <td>45355</td>\n",
              "    </tr>\n",
              "    <tr>\n",
              "      <th>6</th>\n",
              "      <td>31687</td>\n",
              "      <td>31687</td>\n",
              "      <td>31687</td>\n",
              "      <td>31687</td>\n",
              "      <td>31687</td>\n",
              "      <td>31687</td>\n",
              "      <td>31687</td>\n",
              "      <td>31687</td>\n",
              "    </tr>\n",
              "    <tr>\n",
              "      <th>4</th>\n",
              "      <td>7617</td>\n",
              "      <td>7617</td>\n",
              "      <td>7617</td>\n",
              "      <td>7617</td>\n",
              "      <td>7617</td>\n",
              "      <td>7617</td>\n",
              "      <td>7617</td>\n",
              "      <td>7617</td>\n",
              "    </tr>\n",
              "    <tr>\n",
              "      <th>3</th>\n",
              "      <td>5118</td>\n",
              "      <td>5118</td>\n",
              "      <td>5118</td>\n",
              "      <td>5118</td>\n",
              "      <td>5118</td>\n",
              "      <td>5118</td>\n",
              "      <td>5118</td>\n",
              "      <td>5118</td>\n",
              "    </tr>\n",
              "    <tr>\n",
              "      <th>2</th>\n",
              "      <td>2375</td>\n",
              "      <td>2375</td>\n",
              "      <td>2375</td>\n",
              "      <td>2375</td>\n",
              "      <td>2375</td>\n",
              "      <td>2375</td>\n",
              "      <td>2375</td>\n",
              "      <td>2375</td>\n",
              "    </tr>\n",
              "    <tr>\n",
              "      <th>1</th>\n",
              "      <td>1481</td>\n",
              "      <td>1481</td>\n",
              "      <td>1481</td>\n",
              "      <td>1481</td>\n",
              "      <td>1481</td>\n",
              "      <td>1481</td>\n",
              "      <td>1481</td>\n",
              "      <td>1481</td>\n",
              "    </tr>\n",
              "  </tbody>\n",
              "</table>\n",
              "</div>"
            ],
            "text/plain": [
              "            userID   ISBN  bookTitle  ...  publisher  Location    Age\n",
              "bookRating                            ...                            \n",
              "8            91804  91804      91804  ...      91804     91804  91804\n",
              "10           71225  71225      71225  ...      71225     71225  71225\n",
              "7            66401  66401      66401  ...      66401     66401  66401\n",
              "9            60776  60776      60776  ...      60776     60776  60776\n",
              "5            45355  45355      45355  ...      45355     45355  45355\n",
              "6            31687  31687      31687  ...      31687     31687  31687\n",
              "4             7617   7617       7617  ...       7617      7617   7617\n",
              "3             5118   5118       5118  ...       5118      5118   5118\n",
              "2             2375   2375       2375  ...       2375      2375   2375\n",
              "1             1481   1481       1481  ...       1481      1481   1481\n",
              "\n",
              "[10 rows x 8 columns]"
            ]
          },
          "metadata": {
            "tags": []
          },
          "execution_count": 742
        }
      ]
    },
    {
      "cell_type": "markdown",
      "metadata": {
        "id": "C7vFmzJl3B4I",
        "colab_type": "text"
      },
      "source": [
        "### **Collaborative Filtering Based Recommendation Systems**"
      ]
    },
    {
      "cell_type": "markdown",
      "metadata": {
        "id": "hSDlC4ro3B4M",
        "colab_type": "text"
      },
      "source": [
        "### For more accurate results only consider users who have rated atleast 100 books"
      ]
    },
    {
      "cell_type": "code",
      "metadata": {
        "id": "FzFc8vJ9hUd4",
        "colab_type": "code",
        "colab": {
          "base_uri": "https://localhost:8080/",
          "height": 68
        },
        "outputId": "36099129-428e-42a1-a819-29fa390d117d"
      },
      "source": [
        "ratings_books_users_df.columns"
      ],
      "execution_count": 743,
      "outputs": [
        {
          "output_type": "execute_result",
          "data": {
            "text/plain": [
              "Index(['userID', 'ISBN', 'bookRating', 'bookTitle', 'bookAuthor',\n",
              "       'yearOfPublication', 'publisher', 'Location', 'Age'],\n",
              "      dtype='object')"
            ]
          },
          "metadata": {
            "tags": []
          },
          "execution_count": 743
        }
      ]
    },
    {
      "cell_type": "code",
      "metadata": {
        "id": "mb0I-WELew7q",
        "colab_type": "code",
        "colab": {}
      },
      "source": [
        "user_grp = ratings_books_users_df.groupby(['userID']).count().sort_values(by=[ 'ISBN', 'bookRating', 'bookTitle', 'bookAuthor',\n",
        "       'yearOfPublication', 'publisher', 'Location', 'Age'])"
      ],
      "execution_count": 0,
      "outputs": []
    },
    {
      "cell_type": "code",
      "metadata": {
        "id": "aJ22ObSIiK93",
        "colab_type": "code",
        "colab": {
          "base_uri": "https://localhost:8080/",
          "height": 235
        },
        "outputId": "714c46ff-ed4b-455b-9dfa-e95db646334d"
      },
      "source": [
        "user_grp.head()"
      ],
      "execution_count": 745,
      "outputs": [
        {
          "output_type": "execute_result",
          "data": {
            "text/html": [
              "<div>\n",
              "<style scoped>\n",
              "    .dataframe tbody tr th:only-of-type {\n",
              "        vertical-align: middle;\n",
              "    }\n",
              "\n",
              "    .dataframe tbody tr th {\n",
              "        vertical-align: top;\n",
              "    }\n",
              "\n",
              "    .dataframe thead th {\n",
              "        text-align: right;\n",
              "    }\n",
              "</style>\n",
              "<table border=\"1\" class=\"dataframe\">\n",
              "  <thead>\n",
              "    <tr style=\"text-align: right;\">\n",
              "      <th></th>\n",
              "      <th>ISBN</th>\n",
              "      <th>bookRating</th>\n",
              "      <th>bookTitle</th>\n",
              "      <th>bookAuthor</th>\n",
              "      <th>yearOfPublication</th>\n",
              "      <th>publisher</th>\n",
              "      <th>Location</th>\n",
              "      <th>Age</th>\n",
              "    </tr>\n",
              "    <tr>\n",
              "      <th>userID</th>\n",
              "      <th></th>\n",
              "      <th></th>\n",
              "      <th></th>\n",
              "      <th></th>\n",
              "      <th></th>\n",
              "      <th></th>\n",
              "      <th></th>\n",
              "      <th></th>\n",
              "    </tr>\n",
              "  </thead>\n",
              "  <tbody>\n",
              "    <tr>\n",
              "      <th>9</th>\n",
              "      <td>1</td>\n",
              "      <td>1</td>\n",
              "      <td>1</td>\n",
              "      <td>1</td>\n",
              "      <td>1</td>\n",
              "      <td>1</td>\n",
              "      <td>1</td>\n",
              "      <td>1</td>\n",
              "    </tr>\n",
              "    <tr>\n",
              "      <th>12</th>\n",
              "      <td>1</td>\n",
              "      <td>1</td>\n",
              "      <td>1</td>\n",
              "      <td>1</td>\n",
              "      <td>1</td>\n",
              "      <td>1</td>\n",
              "      <td>1</td>\n",
              "      <td>1</td>\n",
              "    </tr>\n",
              "    <tr>\n",
              "      <th>16</th>\n",
              "      <td>1</td>\n",
              "      <td>1</td>\n",
              "      <td>1</td>\n",
              "      <td>1</td>\n",
              "      <td>1</td>\n",
              "      <td>1</td>\n",
              "      <td>1</td>\n",
              "      <td>1</td>\n",
              "    </tr>\n",
              "    <tr>\n",
              "      <th>19</th>\n",
              "      <td>1</td>\n",
              "      <td>1</td>\n",
              "      <td>1</td>\n",
              "      <td>1</td>\n",
              "      <td>1</td>\n",
              "      <td>1</td>\n",
              "      <td>1</td>\n",
              "      <td>1</td>\n",
              "    </tr>\n",
              "    <tr>\n",
              "      <th>22</th>\n",
              "      <td>1</td>\n",
              "      <td>1</td>\n",
              "      <td>1</td>\n",
              "      <td>1</td>\n",
              "      <td>1</td>\n",
              "      <td>1</td>\n",
              "      <td>1</td>\n",
              "      <td>1</td>\n",
              "    </tr>\n",
              "  </tbody>\n",
              "</table>\n",
              "</div>"
            ],
            "text/plain": [
              "        ISBN  bookRating  bookTitle  ...  publisher  Location  Age\n",
              "userID                               ...                          \n",
              "9          1           1          1  ...          1         1    1\n",
              "12         1           1          1  ...          1         1    1\n",
              "16         1           1          1  ...          1         1    1\n",
              "19         1           1          1  ...          1         1    1\n",
              "22         1           1          1  ...          1         1    1\n",
              "\n",
              "[5 rows x 8 columns]"
            ]
          },
          "metadata": {
            "tags": []
          },
          "execution_count": 745
        }
      ]
    },
    {
      "cell_type": "code",
      "metadata": {
        "id": "0CUXiM55kBu_",
        "colab_type": "code",
        "colab": {}
      },
      "source": [
        "userid = user_grp[user_grp['ISBN']>99].index"
      ],
      "execution_count": 0,
      "outputs": []
    },
    {
      "cell_type": "code",
      "metadata": {
        "id": "-eUfhANvlJpo",
        "colab_type": "code",
        "colab": {
          "base_uri": "https://localhost:8080/",
          "height": 34
        },
        "outputId": "444592fc-60ee-4bab-ec44-65a7855734d1"
      },
      "source": [
        "len(userid)"
      ],
      "execution_count": 747,
      "outputs": [
        {
          "output_type": "execute_result",
          "data": {
            "text/plain": [
              "449"
            ]
          },
          "metadata": {
            "tags": []
          },
          "execution_count": 747
        }
      ]
    },
    {
      "cell_type": "code",
      "metadata": {
        "id": "_l1l0Muulwq8",
        "colab_type": "code",
        "colab": {}
      },
      "source": [
        "ratings_books_users100_df = ratings_books_users_df.loc[ratings_books_users_df['userID'].isin(userid)].copy(deep=True)"
      ],
      "execution_count": 0,
      "outputs": []
    },
    {
      "cell_type": "code",
      "metadata": {
        "id": "VlrTMVdMiK5w",
        "colab_type": "code",
        "colab": {
          "base_uri": "https://localhost:8080/",
          "height": 34
        },
        "outputId": "c1eed6ea-05b2-4444-f5d7-c16fd8a83a46"
      },
      "source": [
        "ratings_books_users100_df.shape"
      ],
      "execution_count": 749,
      "outputs": [
        {
          "output_type": "execute_result",
          "data": {
            "text/plain": [
              "(103269, 9)"
            ]
          },
          "metadata": {
            "tags": []
          },
          "execution_count": 749
        }
      ]
    },
    {
      "cell_type": "code",
      "metadata": {
        "id": "WgohnlbQm4M8",
        "colab_type": "code",
        "colab": {
          "base_uri": "https://localhost:8080/",
          "height": 34
        },
        "outputId": "195bbdfb-e8a4-454f-dcba-984cb07525f2"
      },
      "source": [
        "ratings_books_users_df.shape"
      ],
      "execution_count": 750,
      "outputs": [
        {
          "output_type": "execute_result",
          "data": {
            "text/plain": [
              "(383839, 9)"
            ]
          },
          "metadata": {
            "tags": []
          },
          "execution_count": 750
        }
      ]
    },
    {
      "cell_type": "code",
      "metadata": {
        "id": "8O92WVbLkxus",
        "colab_type": "code",
        "colab": {
          "base_uri": "https://localhost:8080/",
          "height": 204
        },
        "outputId": "f4c3d92c-f5d0-45b3-b66e-9b0ae0457369"
      },
      "source": [
        "ratings_books_users100_df.head()"
      ],
      "execution_count": 751,
      "outputs": [
        {
          "output_type": "execute_result",
          "data": {
            "text/html": [
              "<div>\n",
              "<style scoped>\n",
              "    .dataframe tbody tr th:only-of-type {\n",
              "        vertical-align: middle;\n",
              "    }\n",
              "\n",
              "    .dataframe tbody tr th {\n",
              "        vertical-align: top;\n",
              "    }\n",
              "\n",
              "    .dataframe thead th {\n",
              "        text-align: right;\n",
              "    }\n",
              "</style>\n",
              "<table border=\"1\" class=\"dataframe\">\n",
              "  <thead>\n",
              "    <tr style=\"text-align: right;\">\n",
              "      <th></th>\n",
              "      <th>userID</th>\n",
              "      <th>ISBN</th>\n",
              "      <th>bookRating</th>\n",
              "      <th>bookTitle</th>\n",
              "      <th>bookAuthor</th>\n",
              "      <th>yearOfPublication</th>\n",
              "      <th>publisher</th>\n",
              "      <th>Location</th>\n",
              "      <th>Age</th>\n",
              "    </tr>\n",
              "  </thead>\n",
              "  <tbody>\n",
              "    <tr>\n",
              "      <th>43</th>\n",
              "      <td>6543</td>\n",
              "      <td>0446605484</td>\n",
              "      <td>10</td>\n",
              "      <td>Roses Are Red (Alex Cross Novels)</td>\n",
              "      <td>James Patterson</td>\n",
              "      <td>2001</td>\n",
              "      <td>Warner Vision</td>\n",
              "      <td>strafford, missouri, usa</td>\n",
              "      <td>34</td>\n",
              "    </tr>\n",
              "    <tr>\n",
              "      <th>47</th>\n",
              "      <td>6543</td>\n",
              "      <td>0805062971</td>\n",
              "      <td>8</td>\n",
              "      <td>Fight Club</td>\n",
              "      <td>Chuck Palahniuk</td>\n",
              "      <td>1999</td>\n",
              "      <td>Owl Books</td>\n",
              "      <td>strafford, missouri, usa</td>\n",
              "      <td>34</td>\n",
              "    </tr>\n",
              "    <tr>\n",
              "      <th>48</th>\n",
              "      <td>6543</td>\n",
              "      <td>0345342968</td>\n",
              "      <td>8</td>\n",
              "      <td>Fahrenheit 451</td>\n",
              "      <td>RAY BRADBURY</td>\n",
              "      <td>1987</td>\n",
              "      <td>Del Rey</td>\n",
              "      <td>strafford, missouri, usa</td>\n",
              "      <td>34</td>\n",
              "    </tr>\n",
              "    <tr>\n",
              "      <th>49</th>\n",
              "      <td>6543</td>\n",
              "      <td>0446610038</td>\n",
              "      <td>9</td>\n",
              "      <td>1st to Die: A Novel</td>\n",
              "      <td>James Patterson</td>\n",
              "      <td>2002</td>\n",
              "      <td>Warner Vision</td>\n",
              "      <td>strafford, missouri, usa</td>\n",
              "      <td>34</td>\n",
              "    </tr>\n",
              "    <tr>\n",
              "      <th>55</th>\n",
              "      <td>6543</td>\n",
              "      <td>0061009059</td>\n",
              "      <td>8</td>\n",
              "      <td>One for the Money (Stephanie Plum Novels (Pape...</td>\n",
              "      <td>Janet Evanovich</td>\n",
              "      <td>1995</td>\n",
              "      <td>HarperTorch</td>\n",
              "      <td>strafford, missouri, usa</td>\n",
              "      <td>34</td>\n",
              "    </tr>\n",
              "  </tbody>\n",
              "</table>\n",
              "</div>"
            ],
            "text/plain": [
              "    userID        ISBN  ...                  Location Age\n",
              "43    6543  0446605484  ...  strafford, missouri, usa  34\n",
              "47    6543  0805062971  ...  strafford, missouri, usa  34\n",
              "48    6543  0345342968  ...  strafford, missouri, usa  34\n",
              "49    6543  0446610038  ...  strafford, missouri, usa  34\n",
              "55    6543  0061009059  ...  strafford, missouri, usa  34\n",
              "\n",
              "[5 rows x 9 columns]"
            ]
          },
          "metadata": {
            "tags": []
          },
          "execution_count": 751
        }
      ]
    },
    {
      "cell_type": "markdown",
      "metadata": {
        "id": "dk5HOF-03B4R",
        "colab_type": "text"
      },
      "source": [
        "### Generating ratings matrix from explicit ratings\n"
      ]
    },
    {
      "cell_type": "markdown",
      "metadata": {
        "id": "eSY5JDTP3B4T",
        "colab_type": "text"
      },
      "source": [
        "#### Note: since NaNs cannot be handled by training algorithms, replace these by 0, which indicates absence of ratings"
      ]
    },
    {
      "cell_type": "code",
      "metadata": {
        "id": "L4xRccbSrWKm",
        "colab_type": "code",
        "colab": {
          "base_uri": "https://localhost:8080/",
          "height": 187
        },
        "outputId": "24f127eb-58fc-4d1c-a00a-8da6bc17b31a"
      },
      "source": [
        "ratings_books_users100_df.isna().sum() "
      ],
      "execution_count": 752,
      "outputs": [
        {
          "output_type": "execute_result",
          "data": {
            "text/plain": [
              "userID               0\n",
              "ISBN                 0\n",
              "bookRating           0\n",
              "bookTitle            0\n",
              "bookAuthor           0\n",
              "yearOfPublication    0\n",
              "publisher            0\n",
              "Location             0\n",
              "Age                  0\n",
              "dtype: int64"
            ]
          },
          "metadata": {
            "tags": []
          },
          "execution_count": 752
        }
      ]
    },
    {
      "cell_type": "code",
      "metadata": {
        "id": "041NgVTV3B4U",
        "colab_type": "code",
        "colab": {}
      },
      "source": [
        "ratings_books_users100_df.fillna(0,inplace=True)"
      ],
      "execution_count": 0,
      "outputs": []
    },
    {
      "cell_type": "markdown",
      "metadata": {
        "id": "n_yk32pU3B4X",
        "colab_type": "text"
      },
      "source": [
        "### Generate the predicted ratings using SVD with no.of singular values to be 50"
      ]
    },
    {
      "cell_type": "code",
      "metadata": {
        "id": "wd7hkhf8rj3h",
        "colab_type": "code",
        "colab": {
          "base_uri": "https://localhost:8080/",
          "height": 119
        },
        "outputId": "3eac865b-100c-4e17-bb76-f49b3422b7de"
      },
      "source": [
        "pip install surprise"
      ],
      "execution_count": 754,
      "outputs": [
        {
          "output_type": "stream",
          "text": [
            "Requirement already satisfied: surprise in /usr/local/lib/python3.6/dist-packages (0.1)\n",
            "Requirement already satisfied: scikit-surprise in /usr/local/lib/python3.6/dist-packages (from surprise) (1.1.0)\n",
            "Requirement already satisfied: scipy>=1.0.0 in /usr/local/lib/python3.6/dist-packages (from scikit-surprise->surprise) (1.3.1)\n",
            "Requirement already satisfied: joblib>=0.11 in /usr/local/lib/python3.6/dist-packages (from scikit-surprise->surprise) (0.14.0)\n",
            "Requirement already satisfied: numpy>=1.11.2 in /usr/local/lib/python3.6/dist-packages (from scikit-surprise->surprise) (1.16.5)\n",
            "Requirement already satisfied: six>=1.10.0 in /usr/local/lib/python3.6/dist-packages (from scikit-surprise->surprise) (1.12.0)\n"
          ],
          "name": "stdout"
        }
      ]
    },
    {
      "cell_type": "code",
      "metadata": {
        "id": "cwG3Ozdh3B4Y",
        "colab_type": "code",
        "colab": {}
      },
      "source": [
        "from collections import defaultdict\n",
        "from surprise import SVD\n",
        "from surprise import Dataset"
      ],
      "execution_count": 0,
      "outputs": []
    },
    {
      "cell_type": "code",
      "metadata": {
        "id": "eZCBYNIBry5x",
        "colab_type": "code",
        "colab": {}
      },
      "source": [
        "from sklearn.model_selection import train_test_split\n",
        "\n",
        "trainDF, tempDF = train_test_split(ratings_books_users100_df, test_size = 0.2, random_state = 100)"
      ],
      "execution_count": 0,
      "outputs": []
    },
    {
      "cell_type": "code",
      "metadata": {
        "id": "Js88m8Iery14",
        "colab_type": "code",
        "colab": {
          "base_uri": "https://localhost:8080/",
          "height": 34
        },
        "outputId": "2a90a777-847a-4bc0-8636-efa2a8e5224a"
      },
      "source": [
        "print(trainDF.shape, tempDF.shape)"
      ],
      "execution_count": 757,
      "outputs": [
        {
          "output_type": "stream",
          "text": [
            "(82615, 9) (20654, 9)\n"
          ],
          "name": "stdout"
        }
      ]
    },
    {
      "cell_type": "code",
      "metadata": {
        "id": "gFGG1gpIryya",
        "colab_type": "code",
        "colab": {
          "base_uri": "https://localhost:8080/",
          "height": 255
        },
        "outputId": "3d5d5949-b423-4301-f5c3-86ae287def9f"
      },
      "source": [
        "trainDF.head()"
      ],
      "execution_count": 758,
      "outputs": [
        {
          "output_type": "execute_result",
          "data": {
            "text/html": [
              "<div>\n",
              "<style scoped>\n",
              "    .dataframe tbody tr th:only-of-type {\n",
              "        vertical-align: middle;\n",
              "    }\n",
              "\n",
              "    .dataframe tbody tr th {\n",
              "        vertical-align: top;\n",
              "    }\n",
              "\n",
              "    .dataframe thead th {\n",
              "        text-align: right;\n",
              "    }\n",
              "</style>\n",
              "<table border=\"1\" class=\"dataframe\">\n",
              "  <thead>\n",
              "    <tr style=\"text-align: right;\">\n",
              "      <th></th>\n",
              "      <th>userID</th>\n",
              "      <th>ISBN</th>\n",
              "      <th>bookRating</th>\n",
              "      <th>bookTitle</th>\n",
              "      <th>bookAuthor</th>\n",
              "      <th>yearOfPublication</th>\n",
              "      <th>publisher</th>\n",
              "      <th>Location</th>\n",
              "      <th>Age</th>\n",
              "    </tr>\n",
              "  </thead>\n",
              "  <tbody>\n",
              "    <tr>\n",
              "      <th>425933</th>\n",
              "      <td>150979</td>\n",
              "      <td>0679460152</td>\n",
              "      <td>9</td>\n",
              "      <td>The Blackstone Chronicles</td>\n",
              "      <td>John Saul</td>\n",
              "      <td>1997</td>\n",
              "      <td>Random House</td>\n",
              "      <td>greencastle, pennsylvania, usa</td>\n",
              "      <td>34</td>\n",
              "    </tr>\n",
              "    <tr>\n",
              "      <th>278665</th>\n",
              "      <td>60244</td>\n",
              "      <td>0393049566</td>\n",
              "      <td>7</td>\n",
              "      <td>Socrates Cafe: A Fresh Taste of Philosophy</td>\n",
              "      <td>Christopher Phillips</td>\n",
              "      <td>2001</td>\n",
              "      <td>W.W. Norton &amp;amp; Company</td>\n",
              "      <td>alvin, texas, usa</td>\n",
              "      <td>47</td>\n",
              "    </tr>\n",
              "    <tr>\n",
              "      <th>8536</th>\n",
              "      <td>98391</td>\n",
              "      <td>067104222X</td>\n",
              "      <td>9</td>\n",
              "      <td>Dangerous Dilemmas</td>\n",
              "      <td>Evelyn Palfrey</td>\n",
              "      <td>2001</td>\n",
              "      <td>Atria</td>\n",
              "      <td>morrow, georgia, usa</td>\n",
              "      <td>52</td>\n",
              "    </tr>\n",
              "    <tr>\n",
              "      <th>145844</th>\n",
              "      <td>207782</td>\n",
              "      <td>0874060273</td>\n",
              "      <td>7</td>\n",
              "      <td>Barkley Come Home/26091236</td>\n",
              "      <td>Marilyn D Anderson</td>\n",
              "      <td>1985</td>\n",
              "      <td>Pages Publishing Group</td>\n",
              "      <td>midland, texas, usa</td>\n",
              "      <td>28</td>\n",
              "    </tr>\n",
              "    <tr>\n",
              "      <th>264590</th>\n",
              "      <td>189835</td>\n",
              "      <td>1560549653</td>\n",
              "      <td>5</td>\n",
              "      <td>Letter from Peking</td>\n",
              "      <td>Pearl S. Buck</td>\n",
              "      <td>1992</td>\n",
              "      <td>Chivers Audio Books</td>\n",
              "      <td>honolulu, hawaii, usa</td>\n",
              "      <td>34</td>\n",
              "    </tr>\n",
              "  </tbody>\n",
              "</table>\n",
              "</div>"
            ],
            "text/plain": [
              "        userID        ISBN  ...                        Location Age\n",
              "425933  150979  0679460152  ...  greencastle, pennsylvania, usa  34\n",
              "278665   60244  0393049566  ...               alvin, texas, usa  47\n",
              "8536     98391  067104222X  ...            morrow, georgia, usa  52\n",
              "145844  207782  0874060273  ...             midland, texas, usa  28\n",
              "264590  189835  1560549653  ...           honolulu, hawaii, usa  34\n",
              "\n",
              "[5 rows x 9 columns]"
            ]
          },
          "metadata": {
            "tags": []
          },
          "execution_count": 758
        }
      ]
    },
    {
      "cell_type": "code",
      "metadata": {
        "id": "KQbg91V1rys0",
        "colab_type": "code",
        "colab": {
          "base_uri": "https://localhost:8080/",
          "height": 255
        },
        "outputId": "f77e66b0-fd65-4bec-fb53-d394162d6c89"
      },
      "source": [
        "tempDF.head()"
      ],
      "execution_count": 759,
      "outputs": [
        {
          "output_type": "execute_result",
          "data": {
            "text/html": [
              "<div>\n",
              "<style scoped>\n",
              "    .dataframe tbody tr th:only-of-type {\n",
              "        vertical-align: middle;\n",
              "    }\n",
              "\n",
              "    .dataframe tbody tr th {\n",
              "        vertical-align: top;\n",
              "    }\n",
              "\n",
              "    .dataframe thead th {\n",
              "        text-align: right;\n",
              "    }\n",
              "</style>\n",
              "<table border=\"1\" class=\"dataframe\">\n",
              "  <thead>\n",
              "    <tr style=\"text-align: right;\">\n",
              "      <th></th>\n",
              "      <th>userID</th>\n",
              "      <th>ISBN</th>\n",
              "      <th>bookRating</th>\n",
              "      <th>bookTitle</th>\n",
              "      <th>bookAuthor</th>\n",
              "      <th>yearOfPublication</th>\n",
              "      <th>publisher</th>\n",
              "      <th>Location</th>\n",
              "      <th>Age</th>\n",
              "    </tr>\n",
              "  </thead>\n",
              "  <tbody>\n",
              "    <tr>\n",
              "      <th>446631</th>\n",
              "      <td>197659</td>\n",
              "      <td>0842304673</td>\n",
              "      <td>7</td>\n",
              "      <td>The Complete Book of Zingers</td>\n",
              "      <td>Croft M. Pentz</td>\n",
              "      <td>1990</td>\n",
              "      <td>Tyndale House Publishers</td>\n",
              "      <td>indiana, pennsylvania, usa</td>\n",
              "      <td>49</td>\n",
              "    </tr>\n",
              "    <tr>\n",
              "      <th>135668</th>\n",
              "      <td>184299</td>\n",
              "      <td>0345358791</td>\n",
              "      <td>8</td>\n",
              "      <td>2061: Odyssey Three</td>\n",
              "      <td>Arthur C. Clarke</td>\n",
              "      <td>1991</td>\n",
              "      <td>Del Rey Books</td>\n",
              "      <td>omaha, nebraska, usa</td>\n",
              "      <td>31</td>\n",
              "    </tr>\n",
              "    <tr>\n",
              "      <th>84242</th>\n",
              "      <td>115003</td>\n",
              "      <td>1400031354</td>\n",
              "      <td>9</td>\n",
              "      <td>Tears of the Giraffe (No.1 Ladies Detective Ag...</td>\n",
              "      <td>Alexander McCall Smith</td>\n",
              "      <td>2002</td>\n",
              "      <td>Anchor</td>\n",
              "      <td>asheville, north carolina, usa</td>\n",
              "      <td>43</td>\n",
              "    </tr>\n",
              "    <tr>\n",
              "      <th>193585</th>\n",
              "      <td>153662</td>\n",
              "      <td>0380761319</td>\n",
              "      <td>10</td>\n",
              "      <td>The Shadow and the Star</td>\n",
              "      <td>Laura Kinsale</td>\n",
              "      <td>1991</td>\n",
              "      <td>Harpercollins</td>\n",
              "      <td>ft. stewart, georgia, usa</td>\n",
              "      <td>44</td>\n",
              "    </tr>\n",
              "    <tr>\n",
              "      <th>103772</th>\n",
              "      <td>16795</td>\n",
              "      <td>0394891139</td>\n",
              "      <td>6</td>\n",
              "      <td>The Glow-in-the-Dark Night Sky Book</td>\n",
              "      <td>Clint Hatchett</td>\n",
              "      <td>1988</td>\n",
              "      <td>Random House Trade</td>\n",
              "      <td>mechanicsville, maryland, usa</td>\n",
              "      <td>47</td>\n",
              "    </tr>\n",
              "  </tbody>\n",
              "</table>\n",
              "</div>"
            ],
            "text/plain": [
              "        userID        ISBN  ...                        Location Age\n",
              "446631  197659  0842304673  ...      indiana, pennsylvania, usa  49\n",
              "135668  184299  0345358791  ...            omaha, nebraska, usa  31\n",
              "84242   115003  1400031354  ...  asheville, north carolina, usa  43\n",
              "193585  153662  0380761319  ...       ft. stewart, georgia, usa  44\n",
              "103772   16795  0394891139  ...   mechanicsville, maryland, usa  47\n",
              "\n",
              "[5 rows x 9 columns]"
            ]
          },
          "metadata": {
            "tags": []
          },
          "execution_count": 759
        }
      ]
    },
    {
      "cell_type": "code",
      "metadata": {
        "id": "EXw53_bgryoj",
        "colab_type": "code",
        "colab": {}
      },
      "source": [
        "testDF = tempDF.copy()"
      ],
      "execution_count": 0,
      "outputs": []
    },
    {
      "cell_type": "code",
      "metadata": {
        "id": "N1wTasG-ryjt",
        "colab_type": "code",
        "colab": {
          "base_uri": "https://localhost:8080/",
          "height": 119
        },
        "outputId": "3fde0ded-4bc5-4dd1-c7e5-dafc21677156"
      },
      "source": [
        "tempDF['bookRating'] = np.nan"
      ],
      "execution_count": 761,
      "outputs": [
        {
          "output_type": "stream",
          "text": [
            "/usr/local/lib/python3.6/dist-packages/ipykernel_launcher.py:1: SettingWithCopyWarning: \n",
            "A value is trying to be set on a copy of a slice from a DataFrame.\n",
            "Try using .loc[row_indexer,col_indexer] = value instead\n",
            "\n",
            "See the caveats in the documentation: http://pandas.pydata.org/pandas-docs/stable/indexing.html#indexing-view-versus-copy\n",
            "  \"\"\"Entry point for launching an IPython kernel.\n"
          ],
          "name": "stderr"
        }
      ]
    },
    {
      "cell_type": "code",
      "metadata": {
        "id": "j996wnptiWRx",
        "colab_type": "code",
        "colab": {
          "base_uri": "https://localhost:8080/",
          "height": 255
        },
        "outputId": "137264a4-665a-4dd1-9c18-adb37ec1634a"
      },
      "source": [
        "tempDF.head()"
      ],
      "execution_count": 762,
      "outputs": [
        {
          "output_type": "execute_result",
          "data": {
            "text/html": [
              "<div>\n",
              "<style scoped>\n",
              "    .dataframe tbody tr th:only-of-type {\n",
              "        vertical-align: middle;\n",
              "    }\n",
              "\n",
              "    .dataframe tbody tr th {\n",
              "        vertical-align: top;\n",
              "    }\n",
              "\n",
              "    .dataframe thead th {\n",
              "        text-align: right;\n",
              "    }\n",
              "</style>\n",
              "<table border=\"1\" class=\"dataframe\">\n",
              "  <thead>\n",
              "    <tr style=\"text-align: right;\">\n",
              "      <th></th>\n",
              "      <th>userID</th>\n",
              "      <th>ISBN</th>\n",
              "      <th>bookRating</th>\n",
              "      <th>bookTitle</th>\n",
              "      <th>bookAuthor</th>\n",
              "      <th>yearOfPublication</th>\n",
              "      <th>publisher</th>\n",
              "      <th>Location</th>\n",
              "      <th>Age</th>\n",
              "    </tr>\n",
              "  </thead>\n",
              "  <tbody>\n",
              "    <tr>\n",
              "      <th>446631</th>\n",
              "      <td>197659</td>\n",
              "      <td>0842304673</td>\n",
              "      <td>NaN</td>\n",
              "      <td>The Complete Book of Zingers</td>\n",
              "      <td>Croft M. Pentz</td>\n",
              "      <td>1990</td>\n",
              "      <td>Tyndale House Publishers</td>\n",
              "      <td>indiana, pennsylvania, usa</td>\n",
              "      <td>49</td>\n",
              "    </tr>\n",
              "    <tr>\n",
              "      <th>135668</th>\n",
              "      <td>184299</td>\n",
              "      <td>0345358791</td>\n",
              "      <td>NaN</td>\n",
              "      <td>2061: Odyssey Three</td>\n",
              "      <td>Arthur C. Clarke</td>\n",
              "      <td>1991</td>\n",
              "      <td>Del Rey Books</td>\n",
              "      <td>omaha, nebraska, usa</td>\n",
              "      <td>31</td>\n",
              "    </tr>\n",
              "    <tr>\n",
              "      <th>84242</th>\n",
              "      <td>115003</td>\n",
              "      <td>1400031354</td>\n",
              "      <td>NaN</td>\n",
              "      <td>Tears of the Giraffe (No.1 Ladies Detective Ag...</td>\n",
              "      <td>Alexander McCall Smith</td>\n",
              "      <td>2002</td>\n",
              "      <td>Anchor</td>\n",
              "      <td>asheville, north carolina, usa</td>\n",
              "      <td>43</td>\n",
              "    </tr>\n",
              "    <tr>\n",
              "      <th>193585</th>\n",
              "      <td>153662</td>\n",
              "      <td>0380761319</td>\n",
              "      <td>NaN</td>\n",
              "      <td>The Shadow and the Star</td>\n",
              "      <td>Laura Kinsale</td>\n",
              "      <td>1991</td>\n",
              "      <td>Harpercollins</td>\n",
              "      <td>ft. stewart, georgia, usa</td>\n",
              "      <td>44</td>\n",
              "    </tr>\n",
              "    <tr>\n",
              "      <th>103772</th>\n",
              "      <td>16795</td>\n",
              "      <td>0394891139</td>\n",
              "      <td>NaN</td>\n",
              "      <td>The Glow-in-the-Dark Night Sky Book</td>\n",
              "      <td>Clint Hatchett</td>\n",
              "      <td>1988</td>\n",
              "      <td>Random House Trade</td>\n",
              "      <td>mechanicsville, maryland, usa</td>\n",
              "      <td>47</td>\n",
              "    </tr>\n",
              "  </tbody>\n",
              "</table>\n",
              "</div>"
            ],
            "text/plain": [
              "        userID        ISBN  ...                        Location Age\n",
              "446631  197659  0842304673  ...      indiana, pennsylvania, usa  49\n",
              "135668  184299  0345358791  ...            omaha, nebraska, usa  31\n",
              "84242   115003  1400031354  ...  asheville, north carolina, usa  43\n",
              "193585  153662  0380761319  ...       ft. stewart, georgia, usa  44\n",
              "103772   16795  0394891139  ...   mechanicsville, maryland, usa  47\n",
              "\n",
              "[5 rows x 9 columns]"
            ]
          },
          "metadata": {
            "tags": []
          },
          "execution_count": 762
        }
      ]
    },
    {
      "cell_type": "code",
      "metadata": {
        "id": "UHT46mr_iWHS",
        "colab_type": "code",
        "colab": {}
      },
      "source": [
        "testDF = testDF.dropna()"
      ],
      "execution_count": 0,
      "outputs": []
    },
    {
      "cell_type": "code",
      "metadata": {
        "id": "Q6CgWk2siWBc",
        "colab_type": "code",
        "colab": {
          "base_uri": "https://localhost:8080/",
          "height": 255
        },
        "outputId": "0a39b420-9df7-414e-e808-db6735836f23"
      },
      "source": [
        "testDF.head()"
      ],
      "execution_count": 764,
      "outputs": [
        {
          "output_type": "execute_result",
          "data": {
            "text/html": [
              "<div>\n",
              "<style scoped>\n",
              "    .dataframe tbody tr th:only-of-type {\n",
              "        vertical-align: middle;\n",
              "    }\n",
              "\n",
              "    .dataframe tbody tr th {\n",
              "        vertical-align: top;\n",
              "    }\n",
              "\n",
              "    .dataframe thead th {\n",
              "        text-align: right;\n",
              "    }\n",
              "</style>\n",
              "<table border=\"1\" class=\"dataframe\">\n",
              "  <thead>\n",
              "    <tr style=\"text-align: right;\">\n",
              "      <th></th>\n",
              "      <th>userID</th>\n",
              "      <th>ISBN</th>\n",
              "      <th>bookRating</th>\n",
              "      <th>bookTitle</th>\n",
              "      <th>bookAuthor</th>\n",
              "      <th>yearOfPublication</th>\n",
              "      <th>publisher</th>\n",
              "      <th>Location</th>\n",
              "      <th>Age</th>\n",
              "    </tr>\n",
              "  </thead>\n",
              "  <tbody>\n",
              "    <tr>\n",
              "      <th>446631</th>\n",
              "      <td>197659</td>\n",
              "      <td>0842304673</td>\n",
              "      <td>7</td>\n",
              "      <td>The Complete Book of Zingers</td>\n",
              "      <td>Croft M. Pentz</td>\n",
              "      <td>1990</td>\n",
              "      <td>Tyndale House Publishers</td>\n",
              "      <td>indiana, pennsylvania, usa</td>\n",
              "      <td>49</td>\n",
              "    </tr>\n",
              "    <tr>\n",
              "      <th>135668</th>\n",
              "      <td>184299</td>\n",
              "      <td>0345358791</td>\n",
              "      <td>8</td>\n",
              "      <td>2061: Odyssey Three</td>\n",
              "      <td>Arthur C. Clarke</td>\n",
              "      <td>1991</td>\n",
              "      <td>Del Rey Books</td>\n",
              "      <td>omaha, nebraska, usa</td>\n",
              "      <td>31</td>\n",
              "    </tr>\n",
              "    <tr>\n",
              "      <th>84242</th>\n",
              "      <td>115003</td>\n",
              "      <td>1400031354</td>\n",
              "      <td>9</td>\n",
              "      <td>Tears of the Giraffe (No.1 Ladies Detective Ag...</td>\n",
              "      <td>Alexander McCall Smith</td>\n",
              "      <td>2002</td>\n",
              "      <td>Anchor</td>\n",
              "      <td>asheville, north carolina, usa</td>\n",
              "      <td>43</td>\n",
              "    </tr>\n",
              "    <tr>\n",
              "      <th>193585</th>\n",
              "      <td>153662</td>\n",
              "      <td>0380761319</td>\n",
              "      <td>10</td>\n",
              "      <td>The Shadow and the Star</td>\n",
              "      <td>Laura Kinsale</td>\n",
              "      <td>1991</td>\n",
              "      <td>Harpercollins</td>\n",
              "      <td>ft. stewart, georgia, usa</td>\n",
              "      <td>44</td>\n",
              "    </tr>\n",
              "    <tr>\n",
              "      <th>103772</th>\n",
              "      <td>16795</td>\n",
              "      <td>0394891139</td>\n",
              "      <td>6</td>\n",
              "      <td>The Glow-in-the-Dark Night Sky Book</td>\n",
              "      <td>Clint Hatchett</td>\n",
              "      <td>1988</td>\n",
              "      <td>Random House Trade</td>\n",
              "      <td>mechanicsville, maryland, usa</td>\n",
              "      <td>47</td>\n",
              "    </tr>\n",
              "  </tbody>\n",
              "</table>\n",
              "</div>"
            ],
            "text/plain": [
              "        userID        ISBN  ...                        Location Age\n",
              "446631  197659  0842304673  ...      indiana, pennsylvania, usa  49\n",
              "135668  184299  0345358791  ...            omaha, nebraska, usa  31\n",
              "84242   115003  1400031354  ...  asheville, north carolina, usa  43\n",
              "193585  153662  0380761319  ...       ft. stewart, georgia, usa  44\n",
              "103772   16795  0394891139  ...   mechanicsville, maryland, usa  47\n",
              "\n",
              "[5 rows x 9 columns]"
            ]
          },
          "metadata": {
            "tags": []
          },
          "execution_count": 764
        }
      ]
    },
    {
      "cell_type": "code",
      "metadata": {
        "id": "fcRTDRf5iV3M",
        "colab_type": "code",
        "colab": {}
      },
      "source": [
        "rtings = pd.concat([trainDF, tempDF]).reset_index()"
      ],
      "execution_count": 0,
      "outputs": []
    },
    {
      "cell_type": "code",
      "metadata": {
        "id": "MNrwhyRpipu0",
        "colab_type": "code",
        "colab": {
          "base_uri": "https://localhost:8080/",
          "height": 529
        },
        "outputId": "c8088a62-1479-41d3-e4b2-722a6cfc8afc"
      },
      "source": [
        "rtings.sample(10)"
      ],
      "execution_count": 766,
      "outputs": [
        {
          "output_type": "execute_result",
          "data": {
            "text/html": [
              "<div>\n",
              "<style scoped>\n",
              "    .dataframe tbody tr th:only-of-type {\n",
              "        vertical-align: middle;\n",
              "    }\n",
              "\n",
              "    .dataframe tbody tr th {\n",
              "        vertical-align: top;\n",
              "    }\n",
              "\n",
              "    .dataframe thead th {\n",
              "        text-align: right;\n",
              "    }\n",
              "</style>\n",
              "<table border=\"1\" class=\"dataframe\">\n",
              "  <thead>\n",
              "    <tr style=\"text-align: right;\">\n",
              "      <th></th>\n",
              "      <th>index</th>\n",
              "      <th>userID</th>\n",
              "      <th>ISBN</th>\n",
              "      <th>bookRating</th>\n",
              "      <th>bookTitle</th>\n",
              "      <th>bookAuthor</th>\n",
              "      <th>yearOfPublication</th>\n",
              "      <th>publisher</th>\n",
              "      <th>Location</th>\n",
              "      <th>Age</th>\n",
              "    </tr>\n",
              "  </thead>\n",
              "  <tbody>\n",
              "    <tr>\n",
              "      <th>27770</th>\n",
              "      <td>786233</td>\n",
              "      <td>123094</td>\n",
              "      <td>0385299397</td>\n",
              "      <td>8.0</td>\n",
              "      <td>Childhood Rising: The Astrology of Your Mother...</td>\n",
              "      <td>Michael Lutin</td>\n",
              "      <td>1991</td>\n",
              "      <td>Bantam Dell Pub Group</td>\n",
              "      <td>morrisville, north carolina, usa</td>\n",
              "      <td>45</td>\n",
              "    </tr>\n",
              "    <tr>\n",
              "      <th>4490</th>\n",
              "      <td>31861</td>\n",
              "      <td>11676</td>\n",
              "      <td>0671748742</td>\n",
              "      <td>5.0</td>\n",
              "      <td>Left to Die</td>\n",
              "      <td>Dan Kurzman</td>\n",
              "      <td>1995</td>\n",
              "      <td>Pocket</td>\n",
              "      <td>n/a, n/a, n/a</td>\n",
              "      <td>34</td>\n",
              "    </tr>\n",
              "    <tr>\n",
              "      <th>34607</th>\n",
              "      <td>66539</td>\n",
              "      <td>275970</td>\n",
              "      <td>0061059072</td>\n",
              "      <td>9.0</td>\n",
              "      <td>The Last Continent (Discworld Novels (Paperback))</td>\n",
              "      <td>Terry Pratchett</td>\n",
              "      <td>2000</td>\n",
              "      <td>HarperTorch</td>\n",
              "      <td>pittsburgh, pennsylvania, usa</td>\n",
              "      <td>46</td>\n",
              "    </tr>\n",
              "    <tr>\n",
              "      <th>97213</th>\n",
              "      <td>698388</td>\n",
              "      <td>212965</td>\n",
              "      <td>0821734989</td>\n",
              "      <td>NaN</td>\n",
              "      <td>Forbidden Ecstasy</td>\n",
              "      <td>Janelle Taylor</td>\n",
              "      <td>1991</td>\n",
              "      <td>Zebra Books</td>\n",
              "      <td>akron,, ohio, usa</td>\n",
              "      <td>43</td>\n",
              "    </tr>\n",
              "    <tr>\n",
              "      <th>28525</th>\n",
              "      <td>602294</td>\n",
              "      <td>23902</td>\n",
              "      <td>0385490992</td>\n",
              "      <td>6.0</td>\n",
              "      <td>The Street Lawyer</td>\n",
              "      <td>John Grisham</td>\n",
              "      <td>1998</td>\n",
              "      <td>Doubleday Books</td>\n",
              "      <td>london, england, united kingdom</td>\n",
              "      <td>34</td>\n",
              "    </tr>\n",
              "    <tr>\n",
              "      <th>84980</th>\n",
              "      <td>193656</td>\n",
              "      <td>153662</td>\n",
              "      <td>0380772574</td>\n",
              "      <td>NaN</td>\n",
              "      <td>Enchanted</td>\n",
              "      <td>Elizabeth Lowell</td>\n",
              "      <td>1994</td>\n",
              "      <td>Avon</td>\n",
              "      <td>ft. stewart, georgia, usa</td>\n",
              "      <td>44</td>\n",
              "    </tr>\n",
              "    <tr>\n",
              "      <th>42051</th>\n",
              "      <td>166948</td>\n",
              "      <td>204864</td>\n",
              "      <td>0140186409</td>\n",
              "      <td>10.0</td>\n",
              "      <td>The Grapes of Wrath (20th Century Classics)</td>\n",
              "      <td>John Steinbeck</td>\n",
              "      <td>1992</td>\n",
              "      <td>Penguin Books</td>\n",
              "      <td>simi valley, california, usa</td>\n",
              "      <td>47</td>\n",
              "    </tr>\n",
              "    <tr>\n",
              "      <th>83841</th>\n",
              "      <td>197217</td>\n",
              "      <td>153662</td>\n",
              "      <td>0877959765</td>\n",
              "      <td>NaN</td>\n",
              "      <td>The intermarriage handbook: A guide for Jews &amp;...</td>\n",
              "      <td>Judy Petsonk</td>\n",
              "      <td>1988</td>\n",
              "      <td>Arbor House</td>\n",
              "      <td>ft. stewart, georgia, usa</td>\n",
              "      <td>44</td>\n",
              "    </tr>\n",
              "    <tr>\n",
              "      <th>82952</th>\n",
              "      <td>271427</td>\n",
              "      <td>7346</td>\n",
              "      <td>0399147195</td>\n",
              "      <td>NaN</td>\n",
              "      <td>P Is for Peril (Kinsey Millhone Mysteries (Har...</td>\n",
              "      <td>Sue Grafton</td>\n",
              "      <td>2001</td>\n",
              "      <td>Putnam Publishing Group</td>\n",
              "      <td>sunnyvale, california, usa</td>\n",
              "      <td>49</td>\n",
              "    </tr>\n",
              "    <tr>\n",
              "      <th>51209</th>\n",
              "      <td>34790</td>\n",
              "      <td>11676</td>\n",
              "      <td>3596259924</td>\n",
              "      <td>10.0</td>\n",
              "      <td>Die Unertragliche Leichtigkeit des Seins...The...</td>\n",
              "      <td>Milan Kundera</td>\n",
              "      <td>1997</td>\n",
              "      <td>Distribooks Inc</td>\n",
              "      <td>n/a, n/a, n/a</td>\n",
              "      <td>34</td>\n",
              "    </tr>\n",
              "  </tbody>\n",
              "</table>\n",
              "</div>"
            ],
            "text/plain": [
              "        index  userID  ...                          Location  Age\n",
              "27770  786233  123094  ...  morrisville, north carolina, usa   45\n",
              "4490    31861   11676  ...                     n/a, n/a, n/a   34\n",
              "34607   66539  275970  ...     pittsburgh, pennsylvania, usa   46\n",
              "97213  698388  212965  ...                 akron,, ohio, usa   43\n",
              "28525  602294   23902  ...   london, england, united kingdom   34\n",
              "84980  193656  153662  ...         ft. stewart, georgia, usa   44\n",
              "42051  166948  204864  ...      simi valley, california, usa   47\n",
              "83841  197217  153662  ...         ft. stewart, georgia, usa   44\n",
              "82952  271427    7346  ...        sunnyvale, california, usa   49\n",
              "51209   34790   11676  ...                     n/a, n/a, n/a   34\n",
              "\n",
              "[10 rows x 10 columns]"
            ]
          },
          "metadata": {
            "tags": []
          },
          "execution_count": 766
        }
      ]
    },
    {
      "cell_type": "code",
      "metadata": {
        "id": "w1n4yS9DofAV",
        "colab_type": "code",
        "colab": {
          "base_uri": "https://localhost:8080/",
          "height": 255
        },
        "outputId": "77f70198-93f7-40a5-8d7e-836c8ec8ec25"
      },
      "source": [
        "rtings.head()"
      ],
      "execution_count": 767,
      "outputs": [
        {
          "output_type": "execute_result",
          "data": {
            "text/html": [
              "<div>\n",
              "<style scoped>\n",
              "    .dataframe tbody tr th:only-of-type {\n",
              "        vertical-align: middle;\n",
              "    }\n",
              "\n",
              "    .dataframe tbody tr th {\n",
              "        vertical-align: top;\n",
              "    }\n",
              "\n",
              "    .dataframe thead th {\n",
              "        text-align: right;\n",
              "    }\n",
              "</style>\n",
              "<table border=\"1\" class=\"dataframe\">\n",
              "  <thead>\n",
              "    <tr style=\"text-align: right;\">\n",
              "      <th></th>\n",
              "      <th>index</th>\n",
              "      <th>userID</th>\n",
              "      <th>ISBN</th>\n",
              "      <th>bookRating</th>\n",
              "      <th>bookTitle</th>\n",
              "      <th>bookAuthor</th>\n",
              "      <th>yearOfPublication</th>\n",
              "      <th>publisher</th>\n",
              "      <th>Location</th>\n",
              "      <th>Age</th>\n",
              "    </tr>\n",
              "  </thead>\n",
              "  <tbody>\n",
              "    <tr>\n",
              "      <th>0</th>\n",
              "      <td>425933</td>\n",
              "      <td>150979</td>\n",
              "      <td>0679460152</td>\n",
              "      <td>9.0</td>\n",
              "      <td>The Blackstone Chronicles</td>\n",
              "      <td>John Saul</td>\n",
              "      <td>1997</td>\n",
              "      <td>Random House</td>\n",
              "      <td>greencastle, pennsylvania, usa</td>\n",
              "      <td>34</td>\n",
              "    </tr>\n",
              "    <tr>\n",
              "      <th>1</th>\n",
              "      <td>278665</td>\n",
              "      <td>60244</td>\n",
              "      <td>0393049566</td>\n",
              "      <td>7.0</td>\n",
              "      <td>Socrates Cafe: A Fresh Taste of Philosophy</td>\n",
              "      <td>Christopher Phillips</td>\n",
              "      <td>2001</td>\n",
              "      <td>W.W. Norton &amp;amp; Company</td>\n",
              "      <td>alvin, texas, usa</td>\n",
              "      <td>47</td>\n",
              "    </tr>\n",
              "    <tr>\n",
              "      <th>2</th>\n",
              "      <td>8536</td>\n",
              "      <td>98391</td>\n",
              "      <td>067104222X</td>\n",
              "      <td>9.0</td>\n",
              "      <td>Dangerous Dilemmas</td>\n",
              "      <td>Evelyn Palfrey</td>\n",
              "      <td>2001</td>\n",
              "      <td>Atria</td>\n",
              "      <td>morrow, georgia, usa</td>\n",
              "      <td>52</td>\n",
              "    </tr>\n",
              "    <tr>\n",
              "      <th>3</th>\n",
              "      <td>145844</td>\n",
              "      <td>207782</td>\n",
              "      <td>0874060273</td>\n",
              "      <td>7.0</td>\n",
              "      <td>Barkley Come Home/26091236</td>\n",
              "      <td>Marilyn D Anderson</td>\n",
              "      <td>1985</td>\n",
              "      <td>Pages Publishing Group</td>\n",
              "      <td>midland, texas, usa</td>\n",
              "      <td>28</td>\n",
              "    </tr>\n",
              "    <tr>\n",
              "      <th>4</th>\n",
              "      <td>264590</td>\n",
              "      <td>189835</td>\n",
              "      <td>1560549653</td>\n",
              "      <td>5.0</td>\n",
              "      <td>Letter from Peking</td>\n",
              "      <td>Pearl S. Buck</td>\n",
              "      <td>1992</td>\n",
              "      <td>Chivers Audio Books</td>\n",
              "      <td>honolulu, hawaii, usa</td>\n",
              "      <td>34</td>\n",
              "    </tr>\n",
              "  </tbody>\n",
              "</table>\n",
              "</div>"
            ],
            "text/plain": [
              "    index  userID  ...                        Location  Age\n",
              "0  425933  150979  ...  greencastle, pennsylvania, usa   34\n",
              "1  278665   60244  ...               alvin, texas, usa   47\n",
              "2    8536   98391  ...            morrow, georgia, usa   52\n",
              "3  145844  207782  ...             midland, texas, usa   28\n",
              "4  264590  189835  ...           honolulu, hawaii, usa   34\n",
              "\n",
              "[5 rows x 10 columns]"
            ]
          },
          "metadata": {
            "tags": []
          },
          "execution_count": 767
        }
      ]
    },
    {
      "cell_type": "code",
      "metadata": {
        "id": "yRyqipvhQJ3f",
        "colab_type": "code",
        "colab": {
          "base_uri": "https://localhost:8080/",
          "height": 34
        },
        "outputId": "e39266d7-8274-4d6c-b259-c331adc6b5e2"
      },
      "source": [
        "rtings['userID'].min()"
      ],
      "execution_count": 768,
      "outputs": [
        {
          "output_type": "execute_result",
          "data": {
            "text/plain": [
              "2033"
            ]
          },
          "metadata": {
            "tags": []
          },
          "execution_count": 768
        }
      ]
    },
    {
      "cell_type": "code",
      "metadata": {
        "id": "BtmJalXztLmG",
        "colab_type": "code",
        "colab": {
          "base_uri": "https://localhost:8080/",
          "height": 34
        },
        "outputId": "477622f4-5aea-4d5e-93e7-b2457d587a46"
      },
      "source": [
        "rtings = rtings.drop_duplicates()\n",
        "rtings.shape"
      ],
      "execution_count": 769,
      "outputs": [
        {
          "output_type": "execute_result",
          "data": {
            "text/plain": [
              "(103269, 10)"
            ]
          },
          "metadata": {
            "tags": []
          },
          "execution_count": 769
        }
      ]
    },
    {
      "cell_type": "code",
      "metadata": {
        "id": "vKyr5Gy6Fu4g",
        "colab_type": "code",
        "colab": {
          "base_uri": "https://localhost:8080/",
          "height": 1000
        },
        "outputId": "fd48cdd0-6dd1-4e9e-e8b6-6a6abe28cb2a"
      },
      "source": [
        "rtings[(rtings['userID']==2033)#&(rtings['ISBN']=='0393049566')\n",
        "      ]"
      ],
      "execution_count": 770,
      "outputs": [
        {
          "output_type": "execute_result",
          "data": {
            "text/html": [
              "<div>\n",
              "<style scoped>\n",
              "    .dataframe tbody tr th:only-of-type {\n",
              "        vertical-align: middle;\n",
              "    }\n",
              "\n",
              "    .dataframe tbody tr th {\n",
              "        vertical-align: top;\n",
              "    }\n",
              "\n",
              "    .dataframe thead th {\n",
              "        text-align: right;\n",
              "    }\n",
              "</style>\n",
              "<table border=\"1\" class=\"dataframe\">\n",
              "  <thead>\n",
              "    <tr style=\"text-align: right;\">\n",
              "      <th></th>\n",
              "      <th>index</th>\n",
              "      <th>userID</th>\n",
              "      <th>ISBN</th>\n",
              "      <th>bookRating</th>\n",
              "      <th>bookTitle</th>\n",
              "      <th>bookAuthor</th>\n",
              "      <th>yearOfPublication</th>\n",
              "      <th>publisher</th>\n",
              "      <th>Location</th>\n",
              "      <th>Age</th>\n",
              "    </tr>\n",
              "  </thead>\n",
              "  <tbody>\n",
              "    <tr>\n",
              "      <th>126</th>\n",
              "      <td>364083</td>\n",
              "      <td>2033</td>\n",
              "      <td>1891400495</td>\n",
              "      <td>10.0</td>\n",
              "      <td>A Simple Choice : A Practical Guide to Saving ...</td>\n",
              "      <td>Deborah Taylor-Hough</td>\n",
              "      <td>2000</td>\n",
              "      <td>Champion Press Ltd</td>\n",
              "      <td>omaha, nebraska, usa</td>\n",
              "      <td>27</td>\n",
              "    </tr>\n",
              "    <tr>\n",
              "      <th>239</th>\n",
              "      <td>364038</td>\n",
              "      <td>2033</td>\n",
              "      <td>0882710583</td>\n",
              "      <td>8.0</td>\n",
              "      <td>Catholic Children's Bible</td>\n",
              "      <td>Mary Theola</td>\n",
              "      <td>1985</td>\n",
              "      <td>Regina Press Malhame &amp;amp; Company</td>\n",
              "      <td>omaha, nebraska, usa</td>\n",
              "      <td>27</td>\n",
              "    </tr>\n",
              "    <tr>\n",
              "      <th>571</th>\n",
              "      <td>363987</td>\n",
              "      <td>2033</td>\n",
              "      <td>0671025554</td>\n",
              "      <td>10.0</td>\n",
              "      <td>What's in a Name</td>\n",
              "      <td>Susan Osborn</td>\n",
              "      <td>1999</td>\n",
              "      <td>Pocket</td>\n",
              "      <td>omaha, nebraska, usa</td>\n",
              "      <td>27</td>\n",
              "    </tr>\n",
              "    <tr>\n",
              "      <th>1424</th>\n",
              "      <td>363969</td>\n",
              "      <td>2033</td>\n",
              "      <td>0451458028</td>\n",
              "      <td>10.0</td>\n",
              "      <td>The Invisible Ring</td>\n",
              "      <td>Anne Bishop</td>\n",
              "      <td>2000</td>\n",
              "      <td>Roc</td>\n",
              "      <td>omaha, nebraska, usa</td>\n",
              "      <td>27</td>\n",
              "    </tr>\n",
              "    <tr>\n",
              "      <th>1518</th>\n",
              "      <td>364004</td>\n",
              "      <td>2033</td>\n",
              "      <td>0716724022</td>\n",
              "      <td>7.0</td>\n",
              "      <td>Physical Chemistry</td>\n",
              "      <td>P. W. Atkins</td>\n",
              "      <td>1994</td>\n",
              "      <td>W.H. Freeman &amp;amp; Company</td>\n",
              "      <td>omaha, nebraska, usa</td>\n",
              "      <td>27</td>\n",
              "    </tr>\n",
              "    <tr>\n",
              "      <th>4143</th>\n",
              "      <td>364066</td>\n",
              "      <td>2033</td>\n",
              "      <td>0895779129</td>\n",
              "      <td>6.0</td>\n",
              "      <td>Foods That Harm, Foods That Heal:  An A - Z Gu...</td>\n",
              "      <td>Reader's Digest</td>\n",
              "      <td>1997</td>\n",
              "      <td>Readers Digest</td>\n",
              "      <td>omaha, nebraska, usa</td>\n",
              "      <td>27</td>\n",
              "    </tr>\n",
              "    <tr>\n",
              "      <th>4310</th>\n",
              "      <td>363927</td>\n",
              "      <td>2033</td>\n",
              "      <td>0590353403</td>\n",
              "      <td>9.0</td>\n",
              "      <td>Harry Potter and the Sorcerer's Stone (Book 1)</td>\n",
              "      <td>J. K. Rowling</td>\n",
              "      <td>1998</td>\n",
              "      <td>Scholastic</td>\n",
              "      <td>omaha, nebraska, usa</td>\n",
              "      <td>27</td>\n",
              "    </tr>\n",
              "    <tr>\n",
              "      <th>6419</th>\n",
              "      <td>364010</td>\n",
              "      <td>2033</td>\n",
              "      <td>0786880007</td>\n",
              "      <td>8.0</td>\n",
              "      <td>Simplify Your Life : 100 Ways to Slow Down and...</td>\n",
              "      <td>Elaine St. James</td>\n",
              "      <td>1994</td>\n",
              "      <td>Hyperion</td>\n",
              "      <td>omaha, nebraska, usa</td>\n",
              "      <td>27</td>\n",
              "    </tr>\n",
              "    <tr>\n",
              "      <th>7831</th>\n",
              "      <td>364052</td>\n",
              "      <td>2033</td>\n",
              "      <td>0886775639</td>\n",
              "      <td>8.0</td>\n",
              "      <td>Winds of Change (The Mage Winds, Book 2)</td>\n",
              "      <td>Mercedes Lackey</td>\n",
              "      <td>1994</td>\n",
              "      <td>Daw Books</td>\n",
              "      <td>omaha, nebraska, usa</td>\n",
              "      <td>27</td>\n",
              "    </tr>\n",
              "    <tr>\n",
              "      <th>8796</th>\n",
              "      <td>364063</td>\n",
              "      <td>2033</td>\n",
              "      <td>0886778603</td>\n",
              "      <td>10.0</td>\n",
              "      <td>The Children of Wrath (Renshai Chronicles)</td>\n",
              "      <td>Mickey Zucker Reichert</td>\n",
              "      <td>1999</td>\n",
              "      <td>Daw Books</td>\n",
              "      <td>omaha, nebraska, usa</td>\n",
              "      <td>27</td>\n",
              "    </tr>\n",
              "    <tr>\n",
              "      <th>8804</th>\n",
              "      <td>364061</td>\n",
              "      <td>2033</td>\n",
              "      <td>0886777593</td>\n",
              "      <td>8.0</td>\n",
              "      <td>Prince of Demons (Renshai Chronicles)</td>\n",
              "      <td>Mickey Zucker Reichert</td>\n",
              "      <td>1997</td>\n",
              "      <td>Daw Books</td>\n",
              "      <td>omaha, nebraska, usa</td>\n",
              "      <td>27</td>\n",
              "    </tr>\n",
              "    <tr>\n",
              "      <th>8813</th>\n",
              "      <td>364035</td>\n",
              "      <td>2033</td>\n",
              "      <td>0874936225</td>\n",
              "      <td>9.0</td>\n",
              "      <td>Pediatric Basic Life Support, 1997-1999</td>\n",
              "      <td>American Heart Association</td>\n",
              "      <td>1997</td>\n",
              "      <td>Channing L Bete Co</td>\n",
              "      <td>omaha, nebraska, usa</td>\n",
              "      <td>27</td>\n",
              "    </tr>\n",
              "    <tr>\n",
              "      <th>9198</th>\n",
              "      <td>364014</td>\n",
              "      <td>2033</td>\n",
              "      <td>0812090381</td>\n",
              "      <td>9.0</td>\n",
              "      <td>Maine Coon Cats: Everything About Purchase, Ca...</td>\n",
              "      <td>Carol Himsel Daly</td>\n",
              "      <td>1995</td>\n",
              "      <td>Barron's Educational Series</td>\n",
              "      <td>omaha, nebraska, usa</td>\n",
              "      <td>27</td>\n",
              "    </tr>\n",
              "    <tr>\n",
              "      <th>10046</th>\n",
              "      <td>363916</td>\n",
              "      <td>2033</td>\n",
              "      <td>0316779032</td>\n",
              "      <td>10.0</td>\n",
              "      <td>The Discipline Book: How to Have a Better-Beha...</td>\n",
              "      <td>Martha</td>\n",
              "      <td>1995</td>\n",
              "      <td>Little, Brown</td>\n",
              "      <td>omaha, nebraska, usa</td>\n",
              "      <td>27</td>\n",
              "    </tr>\n",
              "    <tr>\n",
              "      <th>10249</th>\n",
              "      <td>364041</td>\n",
              "      <td>2033</td>\n",
              "      <td>0886773784</td>\n",
              "      <td>10.0</td>\n",
              "      <td>Arrows of the Queen ( The Heralds of Valdemar,...</td>\n",
              "      <td>Mercedes Lackey</td>\n",
              "      <td>1996</td>\n",
              "      <td>Daw Books</td>\n",
              "      <td>omaha, nebraska, usa</td>\n",
              "      <td>27</td>\n",
              "    </tr>\n",
              "    <tr>\n",
              "      <th>10373</th>\n",
              "      <td>364042</td>\n",
              "      <td>2033</td>\n",
              "      <td>0886774004</td>\n",
              "      <td>10.0</td>\n",
              "      <td>Arrow's Fall (The Heralds of Valdemar, Book 3)</td>\n",
              "      <td>Mercedes Lackey</td>\n",
              "      <td>1996</td>\n",
              "      <td>Daw Books</td>\n",
              "      <td>omaha, nebraska, usa</td>\n",
              "      <td>27</td>\n",
              "    </tr>\n",
              "    <tr>\n",
              "      <th>10719</th>\n",
              "      <td>363934</td>\n",
              "      <td>2033</td>\n",
              "      <td>0060248025</td>\n",
              "      <td>10.0</td>\n",
              "      <td>Falling Up</td>\n",
              "      <td>Shel Silverstein</td>\n",
              "      <td>1996</td>\n",
              "      <td>HarperCollins</td>\n",
              "      <td>omaha, nebraska, usa</td>\n",
              "      <td>27</td>\n",
              "    </tr>\n",
              "    <tr>\n",
              "      <th>10799</th>\n",
              "      <td>363948</td>\n",
              "      <td>2033</td>\n",
              "      <td>0192800493</td>\n",
              "      <td>6.0</td>\n",
              "      <td>The Oxford Companion to Chess</td>\n",
              "      <td>David Hooper</td>\n",
              "      <td>1996</td>\n",
              "      <td>Oxford Univ Pr</td>\n",
              "      <td>omaha, nebraska, usa</td>\n",
              "      <td>27</td>\n",
              "    </tr>\n",
              "    <tr>\n",
              "      <th>11929</th>\n",
              "      <td>363968</td>\n",
              "      <td>2033</td>\n",
              "      <td>0451457781</td>\n",
              "      <td>8.0</td>\n",
              "      <td>Treachery and Treason</td>\n",
              "      <td>Laura Anne Gilman</td>\n",
              "      <td>2000</td>\n",
              "      <td>Roc</td>\n",
              "      <td>omaha, nebraska, usa</td>\n",
              "      <td>27</td>\n",
              "    </tr>\n",
              "    <tr>\n",
              "      <th>15529</th>\n",
              "      <td>363933</td>\n",
              "      <td>2033</td>\n",
              "      <td>0030020786</td>\n",
              "      <td>7.0</td>\n",
              "      <td>Principles of Instrumental Analysis</td>\n",
              "      <td>Douglas A. Skoog</td>\n",
              "      <td>1997</td>\n",
              "      <td>Brooks Cole</td>\n",
              "      <td>omaha, nebraska, usa</td>\n",
              "      <td>27</td>\n",
              "    </tr>\n",
              "    <tr>\n",
              "      <th>17678</th>\n",
              "      <td>363944</td>\n",
              "      <td>2033</td>\n",
              "      <td>0133502813</td>\n",
              "      <td>10.0</td>\n",
              "      <td>Chemistry</td>\n",
              "      <td>John McMurry</td>\n",
              "      <td>1994</td>\n",
              "      <td>Prentice Hall</td>\n",
              "      <td>omaha, nebraska, usa</td>\n",
              "      <td>27</td>\n",
              "    </tr>\n",
              "    <tr>\n",
              "      <th>19801</th>\n",
              "      <td>364040</td>\n",
              "      <td>2033</td>\n",
              "      <td>0886773776</td>\n",
              "      <td>10.0</td>\n",
              "      <td>Arrow's Flight (The Heralds of Valdemar, Book 2)</td>\n",
              "      <td>Mercedes Lackey</td>\n",
              "      <td>1987</td>\n",
              "      <td>Daw Books</td>\n",
              "      <td>omaha, nebraska, usa</td>\n",
              "      <td>27</td>\n",
              "    </tr>\n",
              "    <tr>\n",
              "      <th>20090</th>\n",
              "      <td>363920</td>\n",
              "      <td>2033</td>\n",
              "      <td>0553573136</td>\n",
              "      <td>8.0</td>\n",
              "      <td>Couplehood</td>\n",
              "      <td>PAUL REISER</td>\n",
              "      <td>1995</td>\n",
              "      <td>Bantam</td>\n",
              "      <td>omaha, nebraska, usa</td>\n",
              "      <td>27</td>\n",
              "    </tr>\n",
              "    <tr>\n",
              "      <th>21601</th>\n",
              "      <td>364058</td>\n",
              "      <td>2033</td>\n",
              "      <td>0886777151</td>\n",
              "      <td>9.0</td>\n",
              "      <td>Prince of Demons (Renshai Chronicles/Mickey Zu...</td>\n",
              "      <td>Mickey Zucker Reichert</td>\n",
              "      <td>1996</td>\n",
              "      <td>Daw Books</td>\n",
              "      <td>omaha, nebraska, usa</td>\n",
              "      <td>27</td>\n",
              "    </tr>\n",
              "    <tr>\n",
              "      <th>23702</th>\n",
              "      <td>364032</td>\n",
              "      <td>2033</td>\n",
              "      <td>0812575717</td>\n",
              "      <td>10.0</td>\n",
              "      <td>Ender's Shadow</td>\n",
              "      <td>Orson Scott Card</td>\n",
              "      <td>2000</td>\n",
              "      <td>Tor Books</td>\n",
              "      <td>omaha, nebraska, usa</td>\n",
              "      <td>27</td>\n",
              "    </tr>\n",
              "    <tr>\n",
              "      <th>24789</th>\n",
              "      <td>363896</td>\n",
              "      <td>2033</td>\n",
              "      <td>0812533550</td>\n",
              "      <td>10.0</td>\n",
              "      <td>Ender's Game (Ender Wiggins Saga (Paperback))</td>\n",
              "      <td>Orson Scott Card</td>\n",
              "      <td>1986</td>\n",
              "      <td>Tor Books</td>\n",
              "      <td>omaha, nebraska, usa</td>\n",
              "      <td>27</td>\n",
              "    </tr>\n",
              "    <tr>\n",
              "      <th>24980</th>\n",
              "      <td>363905</td>\n",
              "      <td>2033</td>\n",
              "      <td>0812532635</td>\n",
              "      <td>8.0</td>\n",
              "      <td>The Ships of Earth : Homecoming: Volume 3 (Hom...</td>\n",
              "      <td>Orson Scott Card</td>\n",
              "      <td>1995</td>\n",
              "      <td>Tor Science Fiction</td>\n",
              "      <td>omaha, nebraska, usa</td>\n",
              "      <td>27</td>\n",
              "    </tr>\n",
              "    <tr>\n",
              "      <th>26189</th>\n",
              "      <td>364062</td>\n",
              "      <td>2033</td>\n",
              "      <td>0886777739</td>\n",
              "      <td>10.0</td>\n",
              "      <td>Oathblood (Vows and Honor, Book 3)</td>\n",
              "      <td>Mercedes Lackey</td>\n",
              "      <td>1998</td>\n",
              "      <td>Daw Books</td>\n",
              "      <td>omaha, nebraska, usa</td>\n",
              "      <td>27</td>\n",
              "    </tr>\n",
              "    <tr>\n",
              "      <th>26445</th>\n",
              "      <td>364050</td>\n",
              "      <td>2033</td>\n",
              "      <td>0886775205</td>\n",
              "      <td>9.0</td>\n",
              "      <td>The Western Wizard (Renshai Trilogy)</td>\n",
              "      <td>Mickey Zucker Reichert</td>\n",
              "      <td>1997</td>\n",
              "      <td>Daw Books</td>\n",
              "      <td>omaha, nebraska, usa</td>\n",
              "      <td>27</td>\n",
              "    </tr>\n",
              "    <tr>\n",
              "      <th>26663</th>\n",
              "      <td>363989</td>\n",
              "      <td>2033</td>\n",
              "      <td>0671524313</td>\n",
              "      <td>6.0</td>\n",
              "      <td>The Girlfriends' Guide to Pregnancy</td>\n",
              "      <td>Vicki Iovine</td>\n",
              "      <td>1995</td>\n",
              "      <td>Pocket</td>\n",
              "      <td>omaha, nebraska, usa</td>\n",
              "      <td>27</td>\n",
              "    </tr>\n",
              "    <tr>\n",
              "      <th>...</th>\n",
              "      <td>...</td>\n",
              "      <td>...</td>\n",
              "      <td>...</td>\n",
              "      <td>...</td>\n",
              "      <td>...</td>\n",
              "      <td>...</td>\n",
              "      <td>...</td>\n",
              "      <td>...</td>\n",
              "      <td>...</td>\n",
              "      <td>...</td>\n",
              "    </tr>\n",
              "    <tr>\n",
              "      <th>83508</th>\n",
              "      <td>363899</td>\n",
              "      <td>2033</td>\n",
              "      <td>0765342987</td>\n",
              "      <td>NaN</td>\n",
              "      <td>Kushiel's Dart</td>\n",
              "      <td>Jacqueline Carey</td>\n",
              "      <td>2002</td>\n",
              "      <td>Tor Books</td>\n",
              "      <td>omaha, nebraska, usa</td>\n",
              "      <td>27</td>\n",
              "    </tr>\n",
              "    <tr>\n",
              "      <th>84631</th>\n",
              "      <td>364044</td>\n",
              "      <td>2033</td>\n",
              "      <td>0886774144</td>\n",
              "      <td>NaN</td>\n",
              "      <td>The Oathbound (Vows and Honor, Book 1)</td>\n",
              "      <td>Mercedes Lackey</td>\n",
              "      <td>1996</td>\n",
              "      <td>Daw Books</td>\n",
              "      <td>omaha, nebraska, usa</td>\n",
              "      <td>27</td>\n",
              "    </tr>\n",
              "    <tr>\n",
              "      <th>84748</th>\n",
              "      <td>364018</td>\n",
              "      <td>2033</td>\n",
              "      <td>0812520157</td>\n",
              "      <td>NaN</td>\n",
              "      <td>Speaker for Dead Ender #2: Valorous (Ender Wig...</td>\n",
              "      <td>Orson Scott Card</td>\n",
              "      <td>1988</td>\n",
              "      <td>Tor Books</td>\n",
              "      <td>omaha, nebraska, usa</td>\n",
              "      <td>27</td>\n",
              "    </tr>\n",
              "    <tr>\n",
              "      <th>84798</th>\n",
              "      <td>364025</td>\n",
              "      <td>2033</td>\n",
              "      <td>0812532961</td>\n",
              "      <td>NaN</td>\n",
              "      <td>Earthfall (Homecoming (Paperback))</td>\n",
              "      <td>Orson Scott Card</td>\n",
              "      <td>1996</td>\n",
              "      <td>Tor Books</td>\n",
              "      <td>omaha, nebraska, usa</td>\n",
              "      <td>27</td>\n",
              "    </tr>\n",
              "    <tr>\n",
              "      <th>85716</th>\n",
              "      <td>363921</td>\n",
              "      <td>2033</td>\n",
              "      <td>0886774632</td>\n",
              "      <td>NaN</td>\n",
              "      <td>By the Sword (Kerowyn's Tale)</td>\n",
              "      <td>Mercedes Lackey</td>\n",
              "      <td>1991</td>\n",
              "      <td>Daw Books</td>\n",
              "      <td>omaha, nebraska, usa</td>\n",
              "      <td>27</td>\n",
              "    </tr>\n",
              "    <tr>\n",
              "      <th>85765</th>\n",
              "      <td>363956</td>\n",
              "      <td>2033</td>\n",
              "      <td>0375815260</td>\n",
              "      <td>NaN</td>\n",
              "      <td>Charlie and the Chocolate Factory</td>\n",
              "      <td>ROALD DAHL</td>\n",
              "      <td>2001</td>\n",
              "      <td>Knopf Books for Young Readers</td>\n",
              "      <td>omaha, nebraska, usa</td>\n",
              "      <td>27</td>\n",
              "    </tr>\n",
              "    <tr>\n",
              "      <th>85910</th>\n",
              "      <td>363936</td>\n",
              "      <td>2033</td>\n",
              "      <td>0060256737</td>\n",
              "      <td>NaN</td>\n",
              "      <td>A Light in the Attic</td>\n",
              "      <td>Shel Silverstein</td>\n",
              "      <td>1981</td>\n",
              "      <td>HarperCollins</td>\n",
              "      <td>omaha, nebraska, usa</td>\n",
              "      <td>27</td>\n",
              "    </tr>\n",
              "    <tr>\n",
              "      <th>86190</th>\n",
              "      <td>364024</td>\n",
              "      <td>2033</td>\n",
              "      <td>0812532619</td>\n",
              "      <td>NaN</td>\n",
              "      <td>The Call of Earth</td>\n",
              "      <td>Orson Scott Card</td>\n",
              "      <td>1994</td>\n",
              "      <td>Tor Books</td>\n",
              "      <td>omaha, nebraska, usa</td>\n",
              "      <td>27</td>\n",
              "    </tr>\n",
              "    <tr>\n",
              "      <th>86837</th>\n",
              "      <td>363999</td>\n",
              "      <td>2033</td>\n",
              "      <td>0698119509</td>\n",
              "      <td>NaN</td>\n",
              "      <td>Spindle's End</td>\n",
              "      <td>Robin McKinley</td>\n",
              "      <td>2002</td>\n",
              "      <td>Firebird</td>\n",
              "      <td>omaha, nebraska, usa</td>\n",
              "      <td>27</td>\n",
              "    </tr>\n",
              "    <tr>\n",
              "      <th>88298</th>\n",
              "      <td>364037</td>\n",
              "      <td>2033</td>\n",
              "      <td>0880887575</td>\n",
              "      <td>NaN</td>\n",
              "      <td>Flowers for My Friend (Peter Pauper Petite Ser)</td>\n",
              "      <td>Christina M. Anello</td>\n",
              "      <td>1992</td>\n",
              "      <td>Peter Pauper Press</td>\n",
              "      <td>omaha, nebraska, usa</td>\n",
              "      <td>27</td>\n",
              "    </tr>\n",
              "    <tr>\n",
              "      <th>89016</th>\n",
              "      <td>363953</td>\n",
              "      <td>2033</td>\n",
              "      <td>0316542377</td>\n",
              "      <td>NaN</td>\n",
              "      <td>Toilet Learning : The Picture Book Technique f...</td>\n",
              "      <td>Alison Mack</td>\n",
              "      <td>1983</td>\n",
              "      <td>Little, Brown</td>\n",
              "      <td>omaha, nebraska, usa</td>\n",
              "      <td>27</td>\n",
              "    </tr>\n",
              "    <tr>\n",
              "      <th>89287</th>\n",
              "      <td>364057</td>\n",
              "      <td>2033</td>\n",
              "      <td>0886777127</td>\n",
              "      <td>NaN</td>\n",
              "      <td>Storm Rising (Mage Storms Trilogy)</td>\n",
              "      <td>Mercedes Lackey</td>\n",
              "      <td>1996</td>\n",
              "      <td>Daw Books</td>\n",
              "      <td>omaha, nebraska, usa</td>\n",
              "      <td>27</td>\n",
              "    </tr>\n",
              "    <tr>\n",
              "      <th>89816</th>\n",
              "      <td>364067</td>\n",
              "      <td>2033</td>\n",
              "      <td>0912500522</td>\n",
              "      <td>NaN</td>\n",
              "      <td>Mothering Your Nursing Toddler</td>\n",
              "      <td>Norma J. Bumgarner</td>\n",
              "      <td>2000</td>\n",
              "      <td>La Leche League International</td>\n",
              "      <td>omaha, nebraska, usa</td>\n",
              "      <td>27</td>\n",
              "    </tr>\n",
              "    <tr>\n",
              "      <th>90889</th>\n",
              "      <td>363990</td>\n",
              "      <td>2033</td>\n",
              "      <td>0671676253</td>\n",
              "      <td>NaN</td>\n",
              "      <td>The ABYSS</td>\n",
              "      <td>Orson Scott Card</td>\n",
              "      <td>1989</td>\n",
              "      <td>Pocket</td>\n",
              "      <td>omaha, nebraska, usa</td>\n",
              "      <td>27</td>\n",
              "    </tr>\n",
              "    <tr>\n",
              "      <th>91961</th>\n",
              "      <td>363957</td>\n",
              "      <td>2033</td>\n",
              "      <td>0380775123</td>\n",
              "      <td>NaN</td>\n",
              "      <td>Tiger Burning Bright</td>\n",
              "      <td>Marion Zimmer Bradley</td>\n",
              "      <td>1996</td>\n",
              "      <td>Eos</td>\n",
              "      <td>omaha, nebraska, usa</td>\n",
              "      <td>27</td>\n",
              "    </tr>\n",
              "    <tr>\n",
              "      <th>93660</th>\n",
              "      <td>363946</td>\n",
              "      <td>2033</td>\n",
              "      <td>0142500135</td>\n",
              "      <td>NaN</td>\n",
              "      <td>Treasure at the Heart of the Tanglewood</td>\n",
              "      <td>Meredith Ann Pierce</td>\n",
              "      <td>2003</td>\n",
              "      <td>Puffin Books</td>\n",
              "      <td>omaha, nebraska, usa</td>\n",
              "      <td>27</td>\n",
              "    </tr>\n",
              "    <tr>\n",
              "      <th>94240</th>\n",
              "      <td>363965</td>\n",
              "      <td>2033</td>\n",
              "      <td>0451456718</td>\n",
              "      <td>NaN</td>\n",
              "      <td>Daughter of the Blood (Black Jewels Trilogy)</td>\n",
              "      <td>Anne Bishop</td>\n",
              "      <td>1998</td>\n",
              "      <td>Roc</td>\n",
              "      <td>omaha, nebraska, usa</td>\n",
              "      <td>27</td>\n",
              "    </tr>\n",
              "    <tr>\n",
              "      <th>94423</th>\n",
              "      <td>364019</td>\n",
              "      <td>2033</td>\n",
              "      <td>0812521358</td>\n",
              "      <td>NaN</td>\n",
              "      <td>Hart's Hope</td>\n",
              "      <td>Orson Scott Card</td>\n",
              "      <td>1988</td>\n",
              "      <td>Tor Books</td>\n",
              "      <td>omaha, nebraska, usa</td>\n",
              "      <td>27</td>\n",
              "    </tr>\n",
              "    <tr>\n",
              "      <th>95332</th>\n",
              "      <td>364070</td>\n",
              "      <td>2033</td>\n",
              "      <td>0920668372</td>\n",
              "      <td>NaN</td>\n",
              "      <td>Love You Forever</td>\n",
              "      <td>Robert N. Munsch</td>\n",
              "      <td>1986</td>\n",
              "      <td>Firefly Books Ltd</td>\n",
              "      <td>omaha, nebraska, usa</td>\n",
              "      <td>27</td>\n",
              "    </tr>\n",
              "    <tr>\n",
              "      <th>95979</th>\n",
              "      <td>364029</td>\n",
              "      <td>2033</td>\n",
              "      <td>0812533658</td>\n",
              "      <td>NaN</td>\n",
              "      <td>The Changed Man (Changed Man)</td>\n",
              "      <td>Orson Scott Card</td>\n",
              "      <td>1992</td>\n",
              "      <td>Tor Books (Mm)</td>\n",
              "      <td>omaha, nebraska, usa</td>\n",
              "      <td>27</td>\n",
              "    </tr>\n",
              "    <tr>\n",
              "      <th>96577</th>\n",
              "      <td>364055</td>\n",
              "      <td>2033</td>\n",
              "      <td>0886776589</td>\n",
              "      <td>NaN</td>\n",
              "      <td>Beyond Ragnarok (Renshai Chronicles, Vol 1)</td>\n",
              "      <td>Mickey Zucker Reichert</td>\n",
              "      <td>1995</td>\n",
              "      <td>Daw Books</td>\n",
              "      <td>omaha, nebraska, usa</td>\n",
              "      <td>27</td>\n",
              "    </tr>\n",
              "    <tr>\n",
              "      <th>97036</th>\n",
              "      <td>363996</td>\n",
              "      <td>2033</td>\n",
              "      <td>0688161162</td>\n",
              "      <td>NaN</td>\n",
              "      <td>Easy to Love, Difficult to Discipline: The Sev...</td>\n",
              "      <td>Rebecca Anne Bailey</td>\n",
              "      <td>2000</td>\n",
              "      <td>William Morrow &amp;amp; Company</td>\n",
              "      <td>omaha, nebraska, usa</td>\n",
              "      <td>27</td>\n",
              "    </tr>\n",
              "    <tr>\n",
              "      <th>97650</th>\n",
              "      <td>364078</td>\n",
              "      <td>2033</td>\n",
              "      <td>1559274581</td>\n",
              "      <td>NaN</td>\n",
              "      <td>James Herriot's Animal Stories</td>\n",
              "      <td>James Herriot</td>\n",
              "      <td>1997</td>\n",
              "      <td>Audio Renaissance</td>\n",
              "      <td>omaha, nebraska, usa</td>\n",
              "      <td>27</td>\n",
              "    </tr>\n",
              "    <tr>\n",
              "      <th>97800</th>\n",
              "      <td>364021</td>\n",
              "      <td>2033</td>\n",
              "      <td>0812523679</td>\n",
              "      <td>NaN</td>\n",
              "      <td>Monkey Sonatas</td>\n",
              "      <td>Orson Scott Card</td>\n",
              "      <td>1993</td>\n",
              "      <td>Tor Books (Mm)</td>\n",
              "      <td>omaha, nebraska, usa</td>\n",
              "      <td>27</td>\n",
              "    </tr>\n",
              "    <tr>\n",
              "      <th>98260</th>\n",
              "      <td>363939</td>\n",
              "      <td>2033</td>\n",
              "      <td>0061020427</td>\n",
              "      <td>NaN</td>\n",
              "      <td>Sword and Shadow (Sword in Exile, Book 3)</td>\n",
              "      <td>Ann Marston</td>\n",
              "      <td>2000</td>\n",
              "      <td>Eos (HarperCollins)</td>\n",
              "      <td>omaha, nebraska, usa</td>\n",
              "      <td>27</td>\n",
              "    </tr>\n",
              "    <tr>\n",
              "      <th>99019</th>\n",
              "      <td>364003</td>\n",
              "      <td>2033</td>\n",
              "      <td>0716723980</td>\n",
              "      <td>NaN</td>\n",
              "      <td>Inorganic Chemistry</td>\n",
              "      <td>D.F. Shriver</td>\n",
              "      <td>1994</td>\n",
              "      <td>W H Freeman &amp;amp; Co</td>\n",
              "      <td>omaha, nebraska, usa</td>\n",
              "      <td>27</td>\n",
              "    </tr>\n",
              "    <tr>\n",
              "      <th>99579</th>\n",
              "      <td>363961</td>\n",
              "      <td>2033</td>\n",
              "      <td>0399523308</td>\n",
              "      <td>NaN</td>\n",
              "      <td>The Girlfriends' Guide to Surviving the First ...</td>\n",
              "      <td>Vicki Iovine</td>\n",
              "      <td>1997</td>\n",
              "      <td>Perigee Books</td>\n",
              "      <td>omaha, nebraska, usa</td>\n",
              "      <td>27</td>\n",
              "    </tr>\n",
              "    <tr>\n",
              "      <th>100294</th>\n",
              "      <td>363942</td>\n",
              "      <td>2033</td>\n",
              "      <td>0061056294</td>\n",
              "      <td>NaN</td>\n",
              "      <td>Kingmaker's Sword (The Rune Blade Trilogy, Boo...</td>\n",
              "      <td>Ann Marston</td>\n",
              "      <td>1996</td>\n",
              "      <td>Eos</td>\n",
              "      <td>omaha, nebraska, usa</td>\n",
              "      <td>27</td>\n",
              "    </tr>\n",
              "    <tr>\n",
              "      <th>100378</th>\n",
              "      <td>363938</td>\n",
              "      <td>2033</td>\n",
              "      <td>0061020419</td>\n",
              "      <td>NaN</td>\n",
              "      <td>King of Shadows (Sword in Exile, Book 2)</td>\n",
              "      <td>Ann Marston</td>\n",
              "      <td>1999</td>\n",
              "      <td>Eos</td>\n",
              "      <td>omaha, nebraska, usa</td>\n",
              "      <td>27</td>\n",
              "    </tr>\n",
              "    <tr>\n",
              "      <th>101007</th>\n",
              "      <td>363930</td>\n",
              "      <td>2033</td>\n",
              "      <td>0836218256</td>\n",
              "      <td>NaN</td>\n",
              "      <td>Something Under the Bed Is Drooling</td>\n",
              "      <td>Bill Watterson</td>\n",
              "      <td>1988</td>\n",
              "      <td>Andrews McMeel Publishing</td>\n",
              "      <td>omaha, nebraska, usa</td>\n",
              "      <td>27</td>\n",
              "    </tr>\n",
              "  </tbody>\n",
              "</table>\n",
              "<p>129 rows × 10 columns</p>\n",
              "</div>"
            ],
            "text/plain": [
              "         index  userID  ...              Location  Age\n",
              "126     364083    2033  ...  omaha, nebraska, usa   27\n",
              "239     364038    2033  ...  omaha, nebraska, usa   27\n",
              "571     363987    2033  ...  omaha, nebraska, usa   27\n",
              "1424    363969    2033  ...  omaha, nebraska, usa   27\n",
              "1518    364004    2033  ...  omaha, nebraska, usa   27\n",
              "4143    364066    2033  ...  omaha, nebraska, usa   27\n",
              "4310    363927    2033  ...  omaha, nebraska, usa   27\n",
              "6419    364010    2033  ...  omaha, nebraska, usa   27\n",
              "7831    364052    2033  ...  omaha, nebraska, usa   27\n",
              "8796    364063    2033  ...  omaha, nebraska, usa   27\n",
              "8804    364061    2033  ...  omaha, nebraska, usa   27\n",
              "8813    364035    2033  ...  omaha, nebraska, usa   27\n",
              "9198    364014    2033  ...  omaha, nebraska, usa   27\n",
              "10046   363916    2033  ...  omaha, nebraska, usa   27\n",
              "10249   364041    2033  ...  omaha, nebraska, usa   27\n",
              "10373   364042    2033  ...  omaha, nebraska, usa   27\n",
              "10719   363934    2033  ...  omaha, nebraska, usa   27\n",
              "10799   363948    2033  ...  omaha, nebraska, usa   27\n",
              "11929   363968    2033  ...  omaha, nebraska, usa   27\n",
              "15529   363933    2033  ...  omaha, nebraska, usa   27\n",
              "17678   363944    2033  ...  omaha, nebraska, usa   27\n",
              "19801   364040    2033  ...  omaha, nebraska, usa   27\n",
              "20090   363920    2033  ...  omaha, nebraska, usa   27\n",
              "21601   364058    2033  ...  omaha, nebraska, usa   27\n",
              "23702   364032    2033  ...  omaha, nebraska, usa   27\n",
              "24789   363896    2033  ...  omaha, nebraska, usa   27\n",
              "24980   363905    2033  ...  omaha, nebraska, usa   27\n",
              "26189   364062    2033  ...  omaha, nebraska, usa   27\n",
              "26445   364050    2033  ...  omaha, nebraska, usa   27\n",
              "26663   363989    2033  ...  omaha, nebraska, usa   27\n",
              "...        ...     ...  ...                   ...  ...\n",
              "83508   363899    2033  ...  omaha, nebraska, usa   27\n",
              "84631   364044    2033  ...  omaha, nebraska, usa   27\n",
              "84748   364018    2033  ...  omaha, nebraska, usa   27\n",
              "84798   364025    2033  ...  omaha, nebraska, usa   27\n",
              "85716   363921    2033  ...  omaha, nebraska, usa   27\n",
              "85765   363956    2033  ...  omaha, nebraska, usa   27\n",
              "85910   363936    2033  ...  omaha, nebraska, usa   27\n",
              "86190   364024    2033  ...  omaha, nebraska, usa   27\n",
              "86837   363999    2033  ...  omaha, nebraska, usa   27\n",
              "88298   364037    2033  ...  omaha, nebraska, usa   27\n",
              "89016   363953    2033  ...  omaha, nebraska, usa   27\n",
              "89287   364057    2033  ...  omaha, nebraska, usa   27\n",
              "89816   364067    2033  ...  omaha, nebraska, usa   27\n",
              "90889   363990    2033  ...  omaha, nebraska, usa   27\n",
              "91961   363957    2033  ...  omaha, nebraska, usa   27\n",
              "93660   363946    2033  ...  omaha, nebraska, usa   27\n",
              "94240   363965    2033  ...  omaha, nebraska, usa   27\n",
              "94423   364019    2033  ...  omaha, nebraska, usa   27\n",
              "95332   364070    2033  ...  omaha, nebraska, usa   27\n",
              "95979   364029    2033  ...  omaha, nebraska, usa   27\n",
              "96577   364055    2033  ...  omaha, nebraska, usa   27\n",
              "97036   363996    2033  ...  omaha, nebraska, usa   27\n",
              "97650   364078    2033  ...  omaha, nebraska, usa   27\n",
              "97800   364021    2033  ...  omaha, nebraska, usa   27\n",
              "98260   363939    2033  ...  omaha, nebraska, usa   27\n",
              "99019   364003    2033  ...  omaha, nebraska, usa   27\n",
              "99579   363961    2033  ...  omaha, nebraska, usa   27\n",
              "100294  363942    2033  ...  omaha, nebraska, usa   27\n",
              "100378  363938    2033  ...  omaha, nebraska, usa   27\n",
              "101007  363930    2033  ...  omaha, nebraska, usa   27\n",
              "\n",
              "[129 rows x 10 columns]"
            ]
          },
          "metadata": {
            "tags": []
          },
          "execution_count": 770
        }
      ]
    },
    {
      "cell_type": "code",
      "metadata": {
        "id": "AHlUskzH9XOR",
        "colab_type": "code",
        "colab": {}
      },
      "source": [
        "R_df = rtings.pivot(index = 'userID', columns = 'ISBN', values = 'bookRating').fillna(0)"
      ],
      "execution_count": 0,
      "outputs": []
    },
    {
      "cell_type": "code",
      "metadata": {
        "id": "UAwoH3JRn930",
        "colab_type": "code",
        "colab": {
          "base_uri": "https://localhost:8080/",
          "height": 284
        },
        "outputId": "0b474877-b530-44b9-dffb-36a57fbd8763"
      },
      "source": [
        "R_df.head()"
      ],
      "execution_count": 772,
      "outputs": [
        {
          "output_type": "execute_result",
          "data": {
            "text/html": [
              "<div>\n",
              "<style scoped>\n",
              "    .dataframe tbody tr th:only-of-type {\n",
              "        vertical-align: middle;\n",
              "    }\n",
              "\n",
              "    .dataframe tbody tr th {\n",
              "        vertical-align: top;\n",
              "    }\n",
              "\n",
              "    .dataframe thead th {\n",
              "        text-align: right;\n",
              "    }\n",
              "</style>\n",
              "<table border=\"1\" class=\"dataframe\">\n",
              "  <thead>\n",
              "    <tr style=\"text-align: right;\">\n",
              "      <th>ISBN</th>\n",
              "      <th>0000913154</th>\n",
              "      <th>0001046438</th>\n",
              "      <th>000104687X</th>\n",
              "      <th>0001047213</th>\n",
              "      <th>0001047973</th>\n",
              "      <th>000104799X</th>\n",
              "      <th>0001048082</th>\n",
              "      <th>0001053736</th>\n",
              "      <th>0001053744</th>\n",
              "      <th>0001055607</th>\n",
              "      <th>0001056107</th>\n",
              "      <th>0001845039</th>\n",
              "      <th>0001935968</th>\n",
              "      <th>0001944711</th>\n",
              "      <th>0001952803</th>\n",
              "      <th>0001953877</th>\n",
              "      <th>0002000547</th>\n",
              "      <th>0002005018</th>\n",
              "      <th>0002005050</th>\n",
              "      <th>0002005557</th>\n",
              "      <th>0002006588</th>\n",
              "      <th>0002115328</th>\n",
              "      <th>0002116286</th>\n",
              "      <th>0002118580</th>\n",
              "      <th>0002154900</th>\n",
              "      <th>0002158973</th>\n",
              "      <th>0002163713</th>\n",
              "      <th>0002176181</th>\n",
              "      <th>0002176432</th>\n",
              "      <th>0002179695</th>\n",
              "      <th>0002181924</th>\n",
              "      <th>0002184974</th>\n",
              "      <th>0002190915</th>\n",
              "      <th>0002197154</th>\n",
              "      <th>0002223929</th>\n",
              "      <th>0002228394</th>\n",
              "      <th>000223257X</th>\n",
              "      <th>0002233509</th>\n",
              "      <th>0002239183</th>\n",
              "      <th>0002240114</th>\n",
              "      <th>...</th>\n",
              "      <th>987960170X</th>\n",
              "      <th>9974643058</th>\n",
              "      <th>999058284X</th>\n",
              "      <th>9992003766</th>\n",
              "      <th>9992059958</th>\n",
              "      <th>9993584185</th>\n",
              "      <th>9994256963</th>\n",
              "      <th>9994348337</th>\n",
              "      <th>9997405137</th>\n",
              "      <th>9997406567</th>\n",
              "      <th>9997406990</th>\n",
              "      <th>999740923X</th>\n",
              "      <th>9997409728</th>\n",
              "      <th>9997411757</th>\n",
              "      <th>9997411870</th>\n",
              "      <th>9997412044</th>\n",
              "      <th>9997412958</th>\n",
              "      <th>9997507002</th>\n",
              "      <th>999750805X</th>\n",
              "      <th>9997508769</th>\n",
              "      <th>9997512952</th>\n",
              "      <th>9997519086</th>\n",
              "      <th>9997555635</th>\n",
              "      <th>9998914140</th>\n",
              "      <th>B00001U0CP</th>\n",
              "      <th>B00005TZWI</th>\n",
              "      <th>B00006CRTE</th>\n",
              "      <th>B00006I4OX</th>\n",
              "      <th>B00007FYKW</th>\n",
              "      <th>B00008RWPV</th>\n",
              "      <th>B000092Q0A</th>\n",
              "      <th>B00009EF82</th>\n",
              "      <th>B00009NDAN</th>\n",
              "      <th>B0000DYXID</th>\n",
              "      <th>B0000T6KHI</th>\n",
              "      <th>B0000VZEJQ</th>\n",
              "      <th>B0000X8HIE</th>\n",
              "      <th>B00013AX9E</th>\n",
              "      <th>B0001I1KOG</th>\n",
              "      <th>B000234N3A</th>\n",
              "    </tr>\n",
              "    <tr>\n",
              "      <th>userID</th>\n",
              "      <th></th>\n",
              "      <th></th>\n",
              "      <th></th>\n",
              "      <th></th>\n",
              "      <th></th>\n",
              "      <th></th>\n",
              "      <th></th>\n",
              "      <th></th>\n",
              "      <th></th>\n",
              "      <th></th>\n",
              "      <th></th>\n",
              "      <th></th>\n",
              "      <th></th>\n",
              "      <th></th>\n",
              "      <th></th>\n",
              "      <th></th>\n",
              "      <th></th>\n",
              "      <th></th>\n",
              "      <th></th>\n",
              "      <th></th>\n",
              "      <th></th>\n",
              "      <th></th>\n",
              "      <th></th>\n",
              "      <th></th>\n",
              "      <th></th>\n",
              "      <th></th>\n",
              "      <th></th>\n",
              "      <th></th>\n",
              "      <th></th>\n",
              "      <th></th>\n",
              "      <th></th>\n",
              "      <th></th>\n",
              "      <th></th>\n",
              "      <th></th>\n",
              "      <th></th>\n",
              "      <th></th>\n",
              "      <th></th>\n",
              "      <th></th>\n",
              "      <th></th>\n",
              "      <th></th>\n",
              "      <th></th>\n",
              "      <th></th>\n",
              "      <th></th>\n",
              "      <th></th>\n",
              "      <th></th>\n",
              "      <th></th>\n",
              "      <th></th>\n",
              "      <th></th>\n",
              "      <th></th>\n",
              "      <th></th>\n",
              "      <th></th>\n",
              "      <th></th>\n",
              "      <th></th>\n",
              "      <th></th>\n",
              "      <th></th>\n",
              "      <th></th>\n",
              "      <th></th>\n",
              "      <th></th>\n",
              "      <th></th>\n",
              "      <th></th>\n",
              "      <th></th>\n",
              "      <th></th>\n",
              "      <th></th>\n",
              "      <th></th>\n",
              "      <th></th>\n",
              "      <th></th>\n",
              "      <th></th>\n",
              "      <th></th>\n",
              "      <th></th>\n",
              "      <th></th>\n",
              "      <th></th>\n",
              "      <th></th>\n",
              "      <th></th>\n",
              "      <th></th>\n",
              "      <th></th>\n",
              "      <th></th>\n",
              "      <th></th>\n",
              "      <th></th>\n",
              "      <th></th>\n",
              "      <th></th>\n",
              "      <th></th>\n",
              "    </tr>\n",
              "  </thead>\n",
              "  <tbody>\n",
              "    <tr>\n",
              "      <th>2033</th>\n",
              "      <td>0.0</td>\n",
              "      <td>0.0</td>\n",
              "      <td>0.0</td>\n",
              "      <td>0.0</td>\n",
              "      <td>0.0</td>\n",
              "      <td>0.0</td>\n",
              "      <td>0.0</td>\n",
              "      <td>0.0</td>\n",
              "      <td>0.0</td>\n",
              "      <td>0.0</td>\n",
              "      <td>0.0</td>\n",
              "      <td>0.0</td>\n",
              "      <td>0.0</td>\n",
              "      <td>0.0</td>\n",
              "      <td>0.0</td>\n",
              "      <td>0.0</td>\n",
              "      <td>0.0</td>\n",
              "      <td>0.0</td>\n",
              "      <td>0.0</td>\n",
              "      <td>0.0</td>\n",
              "      <td>0.0</td>\n",
              "      <td>0.0</td>\n",
              "      <td>0.0</td>\n",
              "      <td>0.0</td>\n",
              "      <td>0.0</td>\n",
              "      <td>0.0</td>\n",
              "      <td>0.0</td>\n",
              "      <td>0.0</td>\n",
              "      <td>0.0</td>\n",
              "      <td>0.0</td>\n",
              "      <td>0.0</td>\n",
              "      <td>0.0</td>\n",
              "      <td>0.0</td>\n",
              "      <td>0.0</td>\n",
              "      <td>0.0</td>\n",
              "      <td>0.0</td>\n",
              "      <td>0.0</td>\n",
              "      <td>0.0</td>\n",
              "      <td>0.0</td>\n",
              "      <td>0.0</td>\n",
              "      <td>...</td>\n",
              "      <td>0.0</td>\n",
              "      <td>0.0</td>\n",
              "      <td>0.0</td>\n",
              "      <td>0.0</td>\n",
              "      <td>0.0</td>\n",
              "      <td>0.0</td>\n",
              "      <td>0.0</td>\n",
              "      <td>0.0</td>\n",
              "      <td>0.0</td>\n",
              "      <td>0.0</td>\n",
              "      <td>0.0</td>\n",
              "      <td>0.0</td>\n",
              "      <td>0.0</td>\n",
              "      <td>0.0</td>\n",
              "      <td>0.0</td>\n",
              "      <td>0.0</td>\n",
              "      <td>0.0</td>\n",
              "      <td>0.0</td>\n",
              "      <td>0.0</td>\n",
              "      <td>0.0</td>\n",
              "      <td>0.0</td>\n",
              "      <td>0.0</td>\n",
              "      <td>0.0</td>\n",
              "      <td>0.0</td>\n",
              "      <td>0.0</td>\n",
              "      <td>0.0</td>\n",
              "      <td>0.0</td>\n",
              "      <td>0.0</td>\n",
              "      <td>0.0</td>\n",
              "      <td>0.0</td>\n",
              "      <td>0.0</td>\n",
              "      <td>0.0</td>\n",
              "      <td>0.0</td>\n",
              "      <td>0.0</td>\n",
              "      <td>0.0</td>\n",
              "      <td>0.0</td>\n",
              "      <td>0.0</td>\n",
              "      <td>0.0</td>\n",
              "      <td>0.0</td>\n",
              "      <td>0.0</td>\n",
              "    </tr>\n",
              "    <tr>\n",
              "      <th>2110</th>\n",
              "      <td>0.0</td>\n",
              "      <td>0.0</td>\n",
              "      <td>0.0</td>\n",
              "      <td>0.0</td>\n",
              "      <td>0.0</td>\n",
              "      <td>0.0</td>\n",
              "      <td>0.0</td>\n",
              "      <td>0.0</td>\n",
              "      <td>0.0</td>\n",
              "      <td>0.0</td>\n",
              "      <td>0.0</td>\n",
              "      <td>0.0</td>\n",
              "      <td>0.0</td>\n",
              "      <td>0.0</td>\n",
              "      <td>0.0</td>\n",
              "      <td>0.0</td>\n",
              "      <td>0.0</td>\n",
              "      <td>0.0</td>\n",
              "      <td>0.0</td>\n",
              "      <td>0.0</td>\n",
              "      <td>0.0</td>\n",
              "      <td>0.0</td>\n",
              "      <td>0.0</td>\n",
              "      <td>0.0</td>\n",
              "      <td>0.0</td>\n",
              "      <td>0.0</td>\n",
              "      <td>0.0</td>\n",
              "      <td>0.0</td>\n",
              "      <td>0.0</td>\n",
              "      <td>0.0</td>\n",
              "      <td>0.0</td>\n",
              "      <td>0.0</td>\n",
              "      <td>0.0</td>\n",
              "      <td>0.0</td>\n",
              "      <td>0.0</td>\n",
              "      <td>0.0</td>\n",
              "      <td>0.0</td>\n",
              "      <td>0.0</td>\n",
              "      <td>0.0</td>\n",
              "      <td>0.0</td>\n",
              "      <td>...</td>\n",
              "      <td>0.0</td>\n",
              "      <td>0.0</td>\n",
              "      <td>0.0</td>\n",
              "      <td>0.0</td>\n",
              "      <td>0.0</td>\n",
              "      <td>0.0</td>\n",
              "      <td>0.0</td>\n",
              "      <td>0.0</td>\n",
              "      <td>0.0</td>\n",
              "      <td>0.0</td>\n",
              "      <td>0.0</td>\n",
              "      <td>0.0</td>\n",
              "      <td>0.0</td>\n",
              "      <td>0.0</td>\n",
              "      <td>0.0</td>\n",
              "      <td>0.0</td>\n",
              "      <td>0.0</td>\n",
              "      <td>0.0</td>\n",
              "      <td>0.0</td>\n",
              "      <td>0.0</td>\n",
              "      <td>0.0</td>\n",
              "      <td>0.0</td>\n",
              "      <td>0.0</td>\n",
              "      <td>0.0</td>\n",
              "      <td>0.0</td>\n",
              "      <td>0.0</td>\n",
              "      <td>0.0</td>\n",
              "      <td>0.0</td>\n",
              "      <td>0.0</td>\n",
              "      <td>0.0</td>\n",
              "      <td>0.0</td>\n",
              "      <td>0.0</td>\n",
              "      <td>0.0</td>\n",
              "      <td>0.0</td>\n",
              "      <td>0.0</td>\n",
              "      <td>0.0</td>\n",
              "      <td>0.0</td>\n",
              "      <td>0.0</td>\n",
              "      <td>0.0</td>\n",
              "      <td>0.0</td>\n",
              "    </tr>\n",
              "    <tr>\n",
              "      <th>2276</th>\n",
              "      <td>0.0</td>\n",
              "      <td>0.0</td>\n",
              "      <td>0.0</td>\n",
              "      <td>0.0</td>\n",
              "      <td>0.0</td>\n",
              "      <td>0.0</td>\n",
              "      <td>0.0</td>\n",
              "      <td>0.0</td>\n",
              "      <td>0.0</td>\n",
              "      <td>0.0</td>\n",
              "      <td>0.0</td>\n",
              "      <td>0.0</td>\n",
              "      <td>0.0</td>\n",
              "      <td>0.0</td>\n",
              "      <td>0.0</td>\n",
              "      <td>0.0</td>\n",
              "      <td>0.0</td>\n",
              "      <td>0.0</td>\n",
              "      <td>0.0</td>\n",
              "      <td>0.0</td>\n",
              "      <td>0.0</td>\n",
              "      <td>0.0</td>\n",
              "      <td>0.0</td>\n",
              "      <td>0.0</td>\n",
              "      <td>0.0</td>\n",
              "      <td>0.0</td>\n",
              "      <td>0.0</td>\n",
              "      <td>0.0</td>\n",
              "      <td>0.0</td>\n",
              "      <td>0.0</td>\n",
              "      <td>0.0</td>\n",
              "      <td>0.0</td>\n",
              "      <td>0.0</td>\n",
              "      <td>0.0</td>\n",
              "      <td>0.0</td>\n",
              "      <td>0.0</td>\n",
              "      <td>0.0</td>\n",
              "      <td>0.0</td>\n",
              "      <td>0.0</td>\n",
              "      <td>0.0</td>\n",
              "      <td>...</td>\n",
              "      <td>0.0</td>\n",
              "      <td>0.0</td>\n",
              "      <td>0.0</td>\n",
              "      <td>0.0</td>\n",
              "      <td>0.0</td>\n",
              "      <td>0.0</td>\n",
              "      <td>0.0</td>\n",
              "      <td>0.0</td>\n",
              "      <td>0.0</td>\n",
              "      <td>0.0</td>\n",
              "      <td>0.0</td>\n",
              "      <td>0.0</td>\n",
              "      <td>0.0</td>\n",
              "      <td>0.0</td>\n",
              "      <td>0.0</td>\n",
              "      <td>0.0</td>\n",
              "      <td>0.0</td>\n",
              "      <td>0.0</td>\n",
              "      <td>0.0</td>\n",
              "      <td>0.0</td>\n",
              "      <td>0.0</td>\n",
              "      <td>0.0</td>\n",
              "      <td>0.0</td>\n",
              "      <td>0.0</td>\n",
              "      <td>0.0</td>\n",
              "      <td>0.0</td>\n",
              "      <td>0.0</td>\n",
              "      <td>0.0</td>\n",
              "      <td>0.0</td>\n",
              "      <td>0.0</td>\n",
              "      <td>0.0</td>\n",
              "      <td>0.0</td>\n",
              "      <td>0.0</td>\n",
              "      <td>0.0</td>\n",
              "      <td>0.0</td>\n",
              "      <td>0.0</td>\n",
              "      <td>0.0</td>\n",
              "      <td>0.0</td>\n",
              "      <td>0.0</td>\n",
              "      <td>0.0</td>\n",
              "    </tr>\n",
              "    <tr>\n",
              "      <th>4017</th>\n",
              "      <td>0.0</td>\n",
              "      <td>0.0</td>\n",
              "      <td>0.0</td>\n",
              "      <td>0.0</td>\n",
              "      <td>0.0</td>\n",
              "      <td>0.0</td>\n",
              "      <td>0.0</td>\n",
              "      <td>0.0</td>\n",
              "      <td>0.0</td>\n",
              "      <td>0.0</td>\n",
              "      <td>0.0</td>\n",
              "      <td>0.0</td>\n",
              "      <td>0.0</td>\n",
              "      <td>0.0</td>\n",
              "      <td>0.0</td>\n",
              "      <td>0.0</td>\n",
              "      <td>0.0</td>\n",
              "      <td>0.0</td>\n",
              "      <td>0.0</td>\n",
              "      <td>0.0</td>\n",
              "      <td>0.0</td>\n",
              "      <td>0.0</td>\n",
              "      <td>0.0</td>\n",
              "      <td>0.0</td>\n",
              "      <td>0.0</td>\n",
              "      <td>0.0</td>\n",
              "      <td>0.0</td>\n",
              "      <td>0.0</td>\n",
              "      <td>0.0</td>\n",
              "      <td>0.0</td>\n",
              "      <td>0.0</td>\n",
              "      <td>0.0</td>\n",
              "      <td>0.0</td>\n",
              "      <td>0.0</td>\n",
              "      <td>0.0</td>\n",
              "      <td>0.0</td>\n",
              "      <td>0.0</td>\n",
              "      <td>0.0</td>\n",
              "      <td>0.0</td>\n",
              "      <td>0.0</td>\n",
              "      <td>...</td>\n",
              "      <td>0.0</td>\n",
              "      <td>0.0</td>\n",
              "      <td>0.0</td>\n",
              "      <td>0.0</td>\n",
              "      <td>0.0</td>\n",
              "      <td>0.0</td>\n",
              "      <td>0.0</td>\n",
              "      <td>0.0</td>\n",
              "      <td>0.0</td>\n",
              "      <td>0.0</td>\n",
              "      <td>0.0</td>\n",
              "      <td>0.0</td>\n",
              "      <td>0.0</td>\n",
              "      <td>0.0</td>\n",
              "      <td>0.0</td>\n",
              "      <td>0.0</td>\n",
              "      <td>0.0</td>\n",
              "      <td>0.0</td>\n",
              "      <td>0.0</td>\n",
              "      <td>0.0</td>\n",
              "      <td>0.0</td>\n",
              "      <td>0.0</td>\n",
              "      <td>0.0</td>\n",
              "      <td>0.0</td>\n",
              "      <td>0.0</td>\n",
              "      <td>0.0</td>\n",
              "      <td>0.0</td>\n",
              "      <td>0.0</td>\n",
              "      <td>0.0</td>\n",
              "      <td>0.0</td>\n",
              "      <td>0.0</td>\n",
              "      <td>0.0</td>\n",
              "      <td>0.0</td>\n",
              "      <td>0.0</td>\n",
              "      <td>0.0</td>\n",
              "      <td>0.0</td>\n",
              "      <td>0.0</td>\n",
              "      <td>0.0</td>\n",
              "      <td>0.0</td>\n",
              "      <td>0.0</td>\n",
              "    </tr>\n",
              "    <tr>\n",
              "      <th>4385</th>\n",
              "      <td>0.0</td>\n",
              "      <td>0.0</td>\n",
              "      <td>0.0</td>\n",
              "      <td>0.0</td>\n",
              "      <td>0.0</td>\n",
              "      <td>0.0</td>\n",
              "      <td>0.0</td>\n",
              "      <td>0.0</td>\n",
              "      <td>0.0</td>\n",
              "      <td>0.0</td>\n",
              "      <td>0.0</td>\n",
              "      <td>0.0</td>\n",
              "      <td>0.0</td>\n",
              "      <td>0.0</td>\n",
              "      <td>0.0</td>\n",
              "      <td>0.0</td>\n",
              "      <td>0.0</td>\n",
              "      <td>0.0</td>\n",
              "      <td>0.0</td>\n",
              "      <td>0.0</td>\n",
              "      <td>0.0</td>\n",
              "      <td>0.0</td>\n",
              "      <td>0.0</td>\n",
              "      <td>0.0</td>\n",
              "      <td>0.0</td>\n",
              "      <td>0.0</td>\n",
              "      <td>0.0</td>\n",
              "      <td>0.0</td>\n",
              "      <td>0.0</td>\n",
              "      <td>0.0</td>\n",
              "      <td>0.0</td>\n",
              "      <td>0.0</td>\n",
              "      <td>0.0</td>\n",
              "      <td>0.0</td>\n",
              "      <td>0.0</td>\n",
              "      <td>0.0</td>\n",
              "      <td>0.0</td>\n",
              "      <td>0.0</td>\n",
              "      <td>0.0</td>\n",
              "      <td>0.0</td>\n",
              "      <td>...</td>\n",
              "      <td>0.0</td>\n",
              "      <td>0.0</td>\n",
              "      <td>0.0</td>\n",
              "      <td>0.0</td>\n",
              "      <td>0.0</td>\n",
              "      <td>0.0</td>\n",
              "      <td>0.0</td>\n",
              "      <td>0.0</td>\n",
              "      <td>0.0</td>\n",
              "      <td>0.0</td>\n",
              "      <td>0.0</td>\n",
              "      <td>0.0</td>\n",
              "      <td>0.0</td>\n",
              "      <td>0.0</td>\n",
              "      <td>0.0</td>\n",
              "      <td>0.0</td>\n",
              "      <td>0.0</td>\n",
              "      <td>0.0</td>\n",
              "      <td>0.0</td>\n",
              "      <td>0.0</td>\n",
              "      <td>0.0</td>\n",
              "      <td>0.0</td>\n",
              "      <td>0.0</td>\n",
              "      <td>0.0</td>\n",
              "      <td>0.0</td>\n",
              "      <td>0.0</td>\n",
              "      <td>0.0</td>\n",
              "      <td>0.0</td>\n",
              "      <td>0.0</td>\n",
              "      <td>0.0</td>\n",
              "      <td>0.0</td>\n",
              "      <td>0.0</td>\n",
              "      <td>0.0</td>\n",
              "      <td>0.0</td>\n",
              "      <td>0.0</td>\n",
              "      <td>0.0</td>\n",
              "      <td>0.0</td>\n",
              "      <td>0.0</td>\n",
              "      <td>0.0</td>\n",
              "      <td>0.0</td>\n",
              "    </tr>\n",
              "  </tbody>\n",
              "</table>\n",
              "<p>5 rows × 66572 columns</p>\n",
              "</div>"
            ],
            "text/plain": [
              "ISBN    0000913154  0001046438  000104687X  ...  B00013AX9E  B0001I1KOG  B000234N3A\n",
              "userID                                      ...                                    \n",
              "2033           0.0         0.0         0.0  ...         0.0         0.0         0.0\n",
              "2110           0.0         0.0         0.0  ...         0.0         0.0         0.0\n",
              "2276           0.0         0.0         0.0  ...         0.0         0.0         0.0\n",
              "4017           0.0         0.0         0.0  ...         0.0         0.0         0.0\n",
              "4385           0.0         0.0         0.0  ...         0.0         0.0         0.0\n",
              "\n",
              "[5 rows x 66572 columns]"
            ]
          },
          "metadata": {
            "tags": []
          },
          "execution_count": 772
        }
      ]
    },
    {
      "cell_type": "code",
      "metadata": {
        "id": "1qOkyUm1oehu",
        "colab_type": "code",
        "colab": {
          "base_uri": "https://localhost:8080/",
          "height": 119
        },
        "outputId": "510dce49-d54e-4582-a618-8be5d80f5c12"
      },
      "source": [
        "R_df.index"
      ],
      "execution_count": 773,
      "outputs": [
        {
          "output_type": "execute_result",
          "data": {
            "text/plain": [
              "Int64Index([  2033,   2110,   2276,   4017,   4385,   5582,   6242,   6251,\n",
              "              6543,   6575,\n",
              "            ...\n",
              "            269566, 270713, 271448, 271705, 273113, 274061, 274301, 275970,\n",
              "            277427, 278418],\n",
              "           dtype='int64', name='userID', length=449)"
            ]
          },
          "metadata": {
            "tags": []
          },
          "execution_count": 773
        }
      ]
    },
    {
      "cell_type": "code",
      "metadata": {
        "id": "fgA_3MAZFGvK",
        "colab_type": "code",
        "colab": {
          "base_uri": "https://localhost:8080/",
          "height": 88
        },
        "outputId": "c32d5c8b-631e-41eb-aedf-668bdadd1edd"
      },
      "source": [
        "R_df.get_value(2033,'0451457781') "
      ],
      "execution_count": 774,
      "outputs": [
        {
          "output_type": "stream",
          "text": [
            "/usr/local/lib/python3.6/dist-packages/ipykernel_launcher.py:1: FutureWarning: get_value is deprecated and will be removed in a future release. Please use .at[] or .iat[] accessors instead\n",
            "  \"\"\"Entry point for launching an IPython kernel.\n"
          ],
          "name": "stderr"
        },
        {
          "output_type": "execute_result",
          "data": {
            "text/plain": [
              "8.0"
            ]
          },
          "metadata": {
            "tags": []
          },
          "execution_count": 774
        }
      ]
    },
    {
      "cell_type": "code",
      "metadata": {
        "id": "ZJm7HmG2C7gw",
        "colab_type": "code",
        "colab": {
          "base_uri": "https://localhost:8080/",
          "height": 34
        },
        "outputId": "0e819462-10db-49aa-d3de-32432bd3824d"
      },
      "source": [
        "R_df.shape"
      ],
      "execution_count": 775,
      "outputs": [
        {
          "output_type": "execute_result",
          "data": {
            "text/plain": [
              "(449, 66572)"
            ]
          },
          "metadata": {
            "tags": []
          },
          "execution_count": 775
        }
      ]
    },
    {
      "cell_type": "code",
      "metadata": {
        "id": "6U_xOXITDYuA",
        "colab_type": "code",
        "colab": {
          "base_uri": "https://localhost:8080/",
          "height": 34
        },
        "outputId": "c09ac77d-8ee7-4881-e0e8-7965847c0dfe"
      },
      "source": [
        "rtings['userID'].nunique()"
      ],
      "execution_count": 776,
      "outputs": [
        {
          "output_type": "execute_result",
          "data": {
            "text/plain": [
              "449"
            ]
          },
          "metadata": {
            "tags": []
          },
          "execution_count": 776
        }
      ]
    },
    {
      "cell_type": "code",
      "metadata": {
        "id": "iplsje0rDYoG",
        "colab_type": "code",
        "colab": {
          "base_uri": "https://localhost:8080/",
          "height": 34
        },
        "outputId": "674080f9-ec22-4f86-fb2a-376b66fb2a2e"
      },
      "source": [
        "rtings['ISBN'].nunique()"
      ],
      "execution_count": 777,
      "outputs": [
        {
          "output_type": "execute_result",
          "data": {
            "text/plain": [
              "66572"
            ]
          },
          "metadata": {
            "tags": []
          },
          "execution_count": 777
        }
      ]
    },
    {
      "cell_type": "code",
      "metadata": {
        "id": "9LTn5072ipXX",
        "colab_type": "code",
        "colab": {}
      },
      "source": [
        "from scipy.sparse.linalg import svds"
      ],
      "execution_count": 0,
      "outputs": []
    },
    {
      "cell_type": "code",
      "metadata": {
        "id": "rjjw4F-O-WvY",
        "colab_type": "code",
        "colab": {}
      },
      "source": [
        "U, sigma, Vt = svds(R_df, k = 50)"
      ],
      "execution_count": 0,
      "outputs": []
    },
    {
      "cell_type": "code",
      "metadata": {
        "id": "cG4livtf-Wr_",
        "colab_type": "code",
        "colab": {
          "base_uri": "https://localhost:8080/",
          "height": 238
        },
        "outputId": "cd310e3b-0456-4a94-d9c0-4640507608c7"
      },
      "source": [
        "sigma"
      ],
      "execution_count": 780,
      "outputs": [
        {
          "output_type": "execute_result",
          "data": {
            "text/plain": [
              "array([131.07954208, 132.44479902, 132.61470995, 133.96010817,\n",
              "       134.94232624, 136.38117803, 137.0634911 , 138.04647807,\n",
              "       140.45935247, 141.29908114, 142.26811037, 143.88305269,\n",
              "       144.27243066, 144.93753168, 149.39109893, 149.62291223,\n",
              "       149.94512384, 152.15710138, 152.98116567, 154.23600256,\n",
              "       155.64958852, 156.98587955, 158.30450983, 161.41139495,\n",
              "       164.36235669, 164.60938522, 166.22369888, 168.8872909 ,\n",
              "       173.19509942, 174.99507662, 176.37245022, 178.41205733,\n",
              "       180.20327794, 181.26833216, 184.19621481, 186.26397001,\n",
              "       190.17666439, 194.12064112, 202.52424067, 206.23585733,\n",
              "       210.1876945 , 219.80287636, 223.09823012, 232.70628393,\n",
              "       237.36014895, 252.56483856, 257.35846413, 338.84909015,\n",
              "       567.12180411, 605.76299262])"
            ]
          },
          "metadata": {
            "tags": []
          },
          "execution_count": 780
        }
      ]
    },
    {
      "cell_type": "code",
      "metadata": {
        "id": "Iu2XBdxN-Wmt",
        "colab_type": "code",
        "colab": {}
      },
      "source": [
        "sigma = np.diag(sigma)"
      ],
      "execution_count": 0,
      "outputs": []
    },
    {
      "cell_type": "code",
      "metadata": {
        "id": "zgrhZ2VsipSf",
        "colab_type": "code",
        "colab": {
          "base_uri": "https://localhost:8080/",
          "height": 238
        },
        "outputId": "835003d7-ddf3-4ae3-f725-cd9317aa14c8"
      },
      "source": [
        "sigma"
      ],
      "execution_count": 782,
      "outputs": [
        {
          "output_type": "execute_result",
          "data": {
            "text/plain": [
              "array([[131.07954208,   0.        ,   0.        , ...,   0.        ,\n",
              "          0.        ,   0.        ],\n",
              "       [  0.        , 132.44479902,   0.        , ...,   0.        ,\n",
              "          0.        ,   0.        ],\n",
              "       [  0.        ,   0.        , 132.61470995, ...,   0.        ,\n",
              "          0.        ,   0.        ],\n",
              "       ...,\n",
              "       [  0.        ,   0.        ,   0.        , ..., 338.84909015,\n",
              "          0.        ,   0.        ],\n",
              "       [  0.        ,   0.        ,   0.        , ...,   0.        ,\n",
              "        567.12180411,   0.        ],\n",
              "       [  0.        ,   0.        ,   0.        , ...,   0.        ,\n",
              "          0.        , 605.76299262]])"
            ]
          },
          "metadata": {
            "tags": []
          },
          "execution_count": 782
        }
      ]
    },
    {
      "cell_type": "code",
      "metadata": {
        "id": "wJVamcM4-f9s",
        "colab_type": "code",
        "colab": {}
      },
      "source": [
        "all_users_predicted_ratings = np.dot(np.dot(U, sigma), Vt)"
      ],
      "execution_count": 0,
      "outputs": []
    },
    {
      "cell_type": "code",
      "metadata": {
        "id": "OjzF1mbt-f5F",
        "colab_type": "code",
        "colab": {}
      },
      "source": [
        "preds_df = pd.DataFrame(all_users_predicted_ratings, columns = R_df.columns)"
      ],
      "execution_count": 0,
      "outputs": []
    },
    {
      "cell_type": "code",
      "metadata": {
        "id": "Ix_unbpapPI-",
        "colab_type": "code",
        "colab": {}
      },
      "source": [
        "# preds_df.index.values\n"
      ],
      "execution_count": 0,
      "outputs": []
    },
    {
      "cell_type": "code",
      "metadata": {
        "id": "9mLVFP-VQuTv",
        "colab_type": "code",
        "colab": {}
      },
      "source": [
        "user_ids = R_df.index"
      ],
      "execution_count": 0,
      "outputs": []
    },
    {
      "cell_type": "code",
      "metadata": {
        "id": "Zwk2z7xMR_FJ",
        "colab_type": "code",
        "colab": {}
      },
      "source": [
        "pred_ids = preds_df.index.values"
      ],
      "execution_count": 0,
      "outputs": []
    },
    {
      "cell_type": "code",
      "metadata": {
        "id": "585WcalSSOuw",
        "colab_type": "code",
        "colab": {}
      },
      "source": [
        "user_pred_map = dict(zip(user_ids,pred_ids))"
      ],
      "execution_count": 0,
      "outputs": []
    },
    {
      "cell_type": "code",
      "metadata": {
        "id": "p4n6mrNU-H27",
        "colab_type": "code",
        "colab": {}
      },
      "source": [
        "################################## RECOMMENDATION ALGORITHM ##################################################################"
      ],
      "execution_count": 0,
      "outputs": []
    },
    {
      "cell_type": "code",
      "metadata": {
        "id": "zIfHodK3-ftZ",
        "colab_type": "code",
        "colab": {}
      },
      "source": [
        "def recommend_movies(userID,Recommendation_count):\n",
        "  user_ids = R_df.index\n",
        "  pred_ids = preds_df.index.values\n",
        "  user_pred_map = dict(zip(user_ids,pred_ids))\n",
        "\n",
        "\n",
        "  for user_ids, pred_row_number in user_pred_map.items():\n",
        "    if user_ids == userID:\n",
        "      pred_row_number\n",
        "      # print(pred_row_number)\n",
        "    \n",
        "      user_pred_total = preds_df.loc[pred_row_number,:].sort_values(ascending=False)\n",
        "\n",
        "      sorted_user_predictions = pd.DataFrame({'Predicted_Ratings':preds_df.loc[user_row_number].sort_values(ascending = False)})\n",
        "      ## sorted_user_predictions.head()\n",
        "\n",
        "      sorted_user_predictions.reset_index(inplace=True)\n",
        "      ## sorted_user_predictions.head()\n",
        "\n",
        "      ##  sorted_user_predictions.shape\n",
        "      sorted_user_predictions_all = pd.merge(sorted_user_predictions,rtings,on='ISBN',how='inner')\n",
        "\n",
        "      ##  sorted_user_predictions_all.shape\n",
        "      ## Total_Predictions = sorted_user_predictions_all.shape[0]\n",
        "      ## Total_Predictions\n",
        "\n",
        "      Books_Rated = sorted_user_predictions_all[sorted_user_predictions_all['userID']==user_ids].dropna()\n",
        "\n",
        "      Books_Not_Rated = sorted_user_predictions_all[((sorted_user_predictions_all['userID']==user_ids)&(sorted_user_predictions_all['bookRating'].isnull())^(sorted_user_predictions_all['userID']!=user_ids))]\n",
        "      ##  Books_Not_Rated.shape[0]\n",
        "\n",
        "      Books_Not_Rated_Unique = Books_Not_Rated[['Predicted_Ratings','bookTitle','bookAuthor', 'yearOfPublication','publisher']].drop_duplicates()\n",
        "\n",
        "      ## Recommendation_count\n",
        "\n",
        "      Recommendation_result = Books_Not_Rated_Unique.sort_values(by='Predicted_Ratings',ascending=False).head(Recommendation_count)\n",
        "\n",
        "      print('UserID:- {0} , has already rated {1} books.'.format(user_ids, Books_Rated.shape[0]))\n",
        "      print('Recommending the highest {0} predicted different ratings books not already rated by user {1}.'.format(Recommendation_count,user_ids))\n",
        "\n",
        "      return(Recommendation_result)"
      ],
      "execution_count": 0,
      "outputs": []
    },
    {
      "cell_type": "code",
      "metadata": {
        "id": "q1Q_51wA-w3l",
        "colab_type": "code",
        "colab": {
          "base_uri": "https://localhost:8080/",
          "height": 986
        },
        "outputId": "64466f0b-75f6-48ee-eaaa-188f7b709b64"
      },
      "source": [
        "np.array(sorted(rtings['userID'].unique()))"
      ],
      "execution_count": 853,
      "outputs": [
        {
          "output_type": "execute_result",
          "data": {
            "text/plain": [
              "array([  2033,   2110,   2276,   4017,   4385,   5582,   6242,   6251,\n",
              "         6543,   6575,   7286,   7346,   8067,   8245,   8681,   8890,\n",
              "        10560,  11676,  11993,  12538,  12824,  12982,  13552,  13850,\n",
              "        14422,  15408,  15418,  16634,  16795,  16966,  17950,  19085,\n",
              "        21014,  23768,  23872,  23902,  25409,  25601,  25981,  26535,\n",
              "        26544,  26583,  28591,  28634,  29259,  30276,  30511,  30711,\n",
              "        30735,  30810,  31315,  31556,  31826,  32773,  33145,  35433,\n",
              "        35836,  35857,  35859,  36299,  36554,  36606,  36609,  36836,\n",
              "        36907,  37644,  37712,  37950,  38023,  38273,  38281,  39281,\n",
              "        39467,  40889,  40943,  43246,  43910,  46398,  47316,  48025,\n",
              "        48494,  49144,  49889,  51883,  52199,  52350,  52584,  52614,\n",
              "        52917,  53220,  55187,  55490,  55492,  56271,  56399,  56447,\n",
              "        56554,  56959,  59172,  60244,  60337,  60707,  63714,  63956,\n",
              "        65258,  66942,  67840,  68555,  69078,  69389,  69697,  70415,\n",
              "        70594,  70666,  72352,  73681,  75591,  75819,  76151,  76223,\n",
              "        76499,  76626,  78553,  78783,  78834,  78973,  79441,  81492,\n",
              "        81560,  83287,  83637,  83671,  85526,  85656,  86189,  86947,\n",
              "        87141,  87555,  88283,  88677,  88693,  88733,  89602,  91113,\n",
              "        92652,  92810,  93047,  93363,  93629,  94242,  94347,  94853,\n",
              "        94951,  95010,  95359,  95902,  95932,  96448,  97754,  97874,\n",
              "        98391,  98758, 100459, 100906, 101209, 101606, 101851, 102359,\n",
              "       102647, 102702, 102967, 104399, 104636, 105028, 105517, 105979,\n",
              "       106007, 107784, 107951, 109574, 109901, 109955, 110483, 110912,\n",
              "       110934, 110973, 112001, 113270, 113519, 114368, 114868, 114988,\n",
              "       115002, 115003, 116599, 117384, 120565, 122429, 122793, 123094,\n",
              "       123608, 123883, 123981, 125519, 125774, 126492, 126736, 127200,\n",
              "       127359, 128835, 129074, 129716, 129851, 130554, 130571, 132492,\n",
              "       132836, 133747, 134434, 135149, 135265, 136010, 136139, 136348,\n",
              "       136382, 138578, 138844, 140000, 140358, 141902, 142524, 143175,\n",
              "       143253, 143415, 145449, 146113, 146348, 147847, 148199, 148258,\n",
              "       148744, 148966, 149907, 149908, 150979, 153662, 156150, 156269,\n",
              "       156300, 156467, 157247, 157273, 158226, 158295, 158433, 159506,\n",
              "       160295, 162052, 162639, 162738, 163759, 163761, 163804, 163973,\n",
              "       164096, 164323, 164533, 164828, 164905, 165308, 165319, 165758,\n",
              "       166123, 166596, 168047, 168245, 169682, 170513, 170634, 171118,\n",
              "       172030, 172742, 172888, 173291, 173415, 174304, 174892, 177072,\n",
              "       177432, 177458, 178522, 179718, 179978, 180378, 180651, 181176,\n",
              "       182085, 182086, 182993, 183958, 183995, 184299, 184532, 185233,\n",
              "       185384, 187145, 187256, 187517, 189139, 189334, 189835, 189973,\n",
              "       190708, 190925, 193458, 193560, 193898, 194600, 196077, 196160,\n",
              "       196502, 197659, 199416, 200226, 201290, 203240, 204864, 205735,\n",
              "       205943, 206534, 207782, 208406, 208671, 209516, 210485, 211426,\n",
              "       211919, 212965, 214786, 216012, 216444, 216683, 217106, 217318,\n",
              "       217740, 218552, 218608, 219546, 219683, 222204, 222296, 223087,\n",
              "       223501, 224349, 224525, 224646, 224764, 225087, 225199, 225232,\n",
              "       225595, 225763, 226965, 227250, 227447, 227520, 227705, 229011,\n",
              "       229329, 229551, 229741, 230522, 231210, 232131, 232945, 233911,\n",
              "       234359, 234828, 235105, 235282, 235935, 236058, 236283, 236340,\n",
              "       236757, 236948, 239584, 239594, 240144, 240403, 240543, 240567,\n",
              "       240568, 241198, 241666, 241980, 242006, 242083, 242409, 242465,\n",
              "       244627, 244685, 245410, 245827, 246311, 247429, 247447, 248718,\n",
              "       249894, 250405, 250709, 251394, 251843, 251844, 252695, 252820,\n",
              "       254206, 254465, 254899, 255489, 257204, 258152, 258185, 258534,\n",
              "       261105, 261829, 262998, 264031, 264082, 264321, 264525, 265115,\n",
              "       265313, 265889, 266056, 266226, 268110, 268300, 268932, 269566,\n",
              "       270713, 271448, 271705, 273113, 274061, 274301, 275970, 277427,\n",
              "       278418])"
            ]
          },
          "metadata": {
            "tags": []
          },
          "execution_count": 853
        }
      ]
    },
    {
      "cell_type": "code",
      "metadata": {
        "id": "EAQ-szxFJMhP",
        "colab_type": "code",
        "colab": {}
      },
      "source": [
        "#x = recommend_movies(2033,12)\n",
        "#x.index\n",
        "#y = recommend_movies(278418,12)\n",
        "#y.index\n",
        "\n",
        "#print(x.index.intersection(y.index),len(x.index.intersection(y.index)))"
      ],
      "execution_count": 0,
      "outputs": []
    },
    {
      "cell_type": "code",
      "metadata": {
        "id": "ofSk0HR6Mu56",
        "colab_type": "code",
        "colab": {
          "base_uri": "https://localhost:8080/",
          "height": 455
        },
        "outputId": "df25aba9-c2f0-4595-b374-c0420dd03f4e"
      },
      "source": [
        "recommend_movies(2110,12)"
      ],
      "execution_count": 864,
      "outputs": [
        {
          "output_type": "stream",
          "text": [
            "UserID:- 2110 , has already rated 85 books.\n",
            "Recommending the highest 12 predicted different ratings books not already rated by user 2110.\n"
          ],
          "name": "stdout"
        },
        {
          "output_type": "execute_result",
          "data": {
            "text/html": [
              "<div>\n",
              "<style scoped>\n",
              "    .dataframe tbody tr th:only-of-type {\n",
              "        vertical-align: middle;\n",
              "    }\n",
              "\n",
              "    .dataframe tbody tr th {\n",
              "        vertical-align: top;\n",
              "    }\n",
              "\n",
              "    .dataframe thead th {\n",
              "        text-align: right;\n",
              "    }\n",
              "</style>\n",
              "<table border=\"1\" class=\"dataframe\">\n",
              "  <thead>\n",
              "    <tr style=\"text-align: right;\">\n",
              "      <th></th>\n",
              "      <th>Predicted_Ratings</th>\n",
              "      <th>bookTitle</th>\n",
              "      <th>bookAuthor</th>\n",
              "      <th>yearOfPublication</th>\n",
              "      <th>publisher</th>\n",
              "    </tr>\n",
              "  </thead>\n",
              "  <tbody>\n",
              "    <tr>\n",
              "      <th>0</th>\n",
              "      <td>0.285622</td>\n",
              "      <td>Purity in Death</td>\n",
              "      <td>J.D. Robb</td>\n",
              "      <td>2002</td>\n",
              "      <td>Berkley Publishing Group</td>\n",
              "    </tr>\n",
              "    <tr>\n",
              "      <th>15</th>\n",
              "      <td>0.253016</td>\n",
              "      <td>Face the Fire (Three Sisters Island Trilogy)</td>\n",
              "      <td>Nora Roberts</td>\n",
              "      <td>2002</td>\n",
              "      <td>Jove Books</td>\n",
              "    </tr>\n",
              "    <tr>\n",
              "      <th>29</th>\n",
              "      <td>0.236891</td>\n",
              "      <td>Dance upon the Air (Three Sisters Island Trilogy)</td>\n",
              "      <td>Nora Roberts</td>\n",
              "      <td>2003</td>\n",
              "      <td>Jove Books</td>\n",
              "    </tr>\n",
              "    <tr>\n",
              "      <th>48</th>\n",
              "      <td>0.212176</td>\n",
              "      <td>Jewels of the Sun (Irish Trilogy)</td>\n",
              "      <td>Nora Roberts</td>\n",
              "      <td>2004</td>\n",
              "      <td>Jove Books</td>\n",
              "    </tr>\n",
              "    <tr>\n",
              "      <th>63</th>\n",
              "      <td>0.206198</td>\n",
              "      <td>Heart of the Sea (Irish Trilogy)</td>\n",
              "      <td>Nora Roberts</td>\n",
              "      <td>2000</td>\n",
              "      <td>Jove Books</td>\n",
              "    </tr>\n",
              "    <tr>\n",
              "      <th>81</th>\n",
              "      <td>0.204699</td>\n",
              "      <td>The Lovely Bones: A Novel</td>\n",
              "      <td>Alice Sebold</td>\n",
              "      <td>2002</td>\n",
              "      <td>Little, Brown</td>\n",
              "    </tr>\n",
              "    <tr>\n",
              "      <th>152</th>\n",
              "      <td>0.196262</td>\n",
              "      <td>Tears of the Moon (Irish Trilogy)</td>\n",
              "      <td>Nora Roberts</td>\n",
              "      <td>2000</td>\n",
              "      <td>Jove Books</td>\n",
              "    </tr>\n",
              "    <tr>\n",
              "      <th>169</th>\n",
              "      <td>0.188376</td>\n",
              "      <td>Witness in Death (Eve Dallas Mysteries (Paperb...</td>\n",
              "      <td>J. D. Robb</td>\n",
              "      <td>2004</td>\n",
              "      <td>Berkley Publishing Group</td>\n",
              "    </tr>\n",
              "    <tr>\n",
              "      <th>180</th>\n",
              "      <td>0.183306</td>\n",
              "      <td>Ceremony in Death (Eve Dallas Mysteries (Paper...</td>\n",
              "      <td>J. D. Robb</td>\n",
              "      <td>1997</td>\n",
              "      <td>Berkley Publishing Group</td>\n",
              "    </tr>\n",
              "    <tr>\n",
              "      <th>188</th>\n",
              "      <td>0.178672</td>\n",
              "      <td>Summer Pleasures</td>\n",
              "      <td>Nora Roberts</td>\n",
              "      <td>2002</td>\n",
              "      <td>Silhouette</td>\n",
              "    </tr>\n",
              "    <tr>\n",
              "      <th>196</th>\n",
              "      <td>0.178214</td>\n",
              "      <td>Heaven and Earth (Three Sisters Island Trilogy)</td>\n",
              "      <td>Nora Roberts</td>\n",
              "      <td>2003</td>\n",
              "      <td>Jove Books</td>\n",
              "    </tr>\n",
              "    <tr>\n",
              "      <th>208</th>\n",
              "      <td>0.177991</td>\n",
              "      <td>Carolina Moon</td>\n",
              "      <td>Nora Roberts</td>\n",
              "      <td>2001</td>\n",
              "      <td>Jove Books</td>\n",
              "    </tr>\n",
              "  </tbody>\n",
              "</table>\n",
              "</div>"
            ],
            "text/plain": [
              "     Predicted_Ratings  ...                 publisher\n",
              "0             0.285622  ...  Berkley Publishing Group\n",
              "15            0.253016  ...                Jove Books\n",
              "29            0.236891  ...                Jove Books\n",
              "48            0.212176  ...                Jove Books\n",
              "63            0.206198  ...                Jove Books\n",
              "81            0.204699  ...             Little, Brown\n",
              "152           0.196262  ...                Jove Books\n",
              "169           0.188376  ...  Berkley Publishing Group\n",
              "180           0.183306  ...  Berkley Publishing Group\n",
              "188           0.178672  ...                Silhouette\n",
              "196           0.178214  ...                Jove Books\n",
              "208           0.177991  ...                Jove Books\n",
              "\n",
              "[12 rows x 5 columns]"
            ]
          },
          "metadata": {
            "tags": []
          },
          "execution_count": 864
        }
      ]
    },
    {
      "cell_type": "code",
      "metadata": {
        "id": "CpY3Gh7M-WIK",
        "colab_type": "code",
        "colab": {
          "base_uri": "https://localhost:8080/",
          "height": 472
        },
        "outputId": "716c2b7a-b178-4714-fc90-ddc056bd3fca"
      },
      "source": [
        "recommend_movies(2033,12)"
      ],
      "execution_count": 859,
      "outputs": [
        {
          "output_type": "stream",
          "text": [
            "0\n",
            "UserID:- 2033 , has already rated 98 books.\n",
            "Recommending the highest 12 predicted ratings books not already rated by user 2033.\n"
          ],
          "name": "stdout"
        },
        {
          "output_type": "execute_result",
          "data": {
            "text/html": [
              "<div>\n",
              "<style scoped>\n",
              "    .dataframe tbody tr th:only-of-type {\n",
              "        vertical-align: middle;\n",
              "    }\n",
              "\n",
              "    .dataframe tbody tr th {\n",
              "        vertical-align: top;\n",
              "    }\n",
              "\n",
              "    .dataframe thead th {\n",
              "        text-align: right;\n",
              "    }\n",
              "</style>\n",
              "<table border=\"1\" class=\"dataframe\">\n",
              "  <thead>\n",
              "    <tr style=\"text-align: right;\">\n",
              "      <th></th>\n",
              "      <th>Predicted_Ratings</th>\n",
              "      <th>bookTitle</th>\n",
              "      <th>bookAuthor</th>\n",
              "      <th>yearOfPublication</th>\n",
              "      <th>publisher</th>\n",
              "    </tr>\n",
              "  </thead>\n",
              "  <tbody>\n",
              "    <tr>\n",
              "      <th>0</th>\n",
              "      <td>0.285622</td>\n",
              "      <td>Purity in Death</td>\n",
              "      <td>J.D. Robb</td>\n",
              "      <td>2002</td>\n",
              "      <td>Berkley Publishing Group</td>\n",
              "    </tr>\n",
              "    <tr>\n",
              "      <th>15</th>\n",
              "      <td>0.253016</td>\n",
              "      <td>Face the Fire (Three Sisters Island Trilogy)</td>\n",
              "      <td>Nora Roberts</td>\n",
              "      <td>2002</td>\n",
              "      <td>Jove Books</td>\n",
              "    </tr>\n",
              "    <tr>\n",
              "      <th>29</th>\n",
              "      <td>0.236891</td>\n",
              "      <td>Dance upon the Air (Three Sisters Island Trilogy)</td>\n",
              "      <td>Nora Roberts</td>\n",
              "      <td>2003</td>\n",
              "      <td>Jove Books</td>\n",
              "    </tr>\n",
              "    <tr>\n",
              "      <th>48</th>\n",
              "      <td>0.212176</td>\n",
              "      <td>Jewels of the Sun (Irish Trilogy)</td>\n",
              "      <td>Nora Roberts</td>\n",
              "      <td>2004</td>\n",
              "      <td>Jove Books</td>\n",
              "    </tr>\n",
              "    <tr>\n",
              "      <th>63</th>\n",
              "      <td>0.206198</td>\n",
              "      <td>Heart of the Sea (Irish Trilogy)</td>\n",
              "      <td>Nora Roberts</td>\n",
              "      <td>2000</td>\n",
              "      <td>Jove Books</td>\n",
              "    </tr>\n",
              "    <tr>\n",
              "      <th>81</th>\n",
              "      <td>0.204699</td>\n",
              "      <td>The Lovely Bones: A Novel</td>\n",
              "      <td>Alice Sebold</td>\n",
              "      <td>2002</td>\n",
              "      <td>Little, Brown</td>\n",
              "    </tr>\n",
              "    <tr>\n",
              "      <th>152</th>\n",
              "      <td>0.196262</td>\n",
              "      <td>Tears of the Moon (Irish Trilogy)</td>\n",
              "      <td>Nora Roberts</td>\n",
              "      <td>2000</td>\n",
              "      <td>Jove Books</td>\n",
              "    </tr>\n",
              "    <tr>\n",
              "      <th>169</th>\n",
              "      <td>0.188376</td>\n",
              "      <td>Witness in Death (Eve Dallas Mysteries (Paperb...</td>\n",
              "      <td>J. D. Robb</td>\n",
              "      <td>2004</td>\n",
              "      <td>Berkley Publishing Group</td>\n",
              "    </tr>\n",
              "    <tr>\n",
              "      <th>180</th>\n",
              "      <td>0.183306</td>\n",
              "      <td>Ceremony in Death (Eve Dallas Mysteries (Paper...</td>\n",
              "      <td>J. D. Robb</td>\n",
              "      <td>1997</td>\n",
              "      <td>Berkley Publishing Group</td>\n",
              "    </tr>\n",
              "    <tr>\n",
              "      <th>188</th>\n",
              "      <td>0.178672</td>\n",
              "      <td>Summer Pleasures</td>\n",
              "      <td>Nora Roberts</td>\n",
              "      <td>2002</td>\n",
              "      <td>Silhouette</td>\n",
              "    </tr>\n",
              "    <tr>\n",
              "      <th>196</th>\n",
              "      <td>0.178214</td>\n",
              "      <td>Heaven and Earth (Three Sisters Island Trilogy)</td>\n",
              "      <td>Nora Roberts</td>\n",
              "      <td>2003</td>\n",
              "      <td>Jove Books</td>\n",
              "    </tr>\n",
              "    <tr>\n",
              "      <th>208</th>\n",
              "      <td>0.177991</td>\n",
              "      <td>Carolina Moon</td>\n",
              "      <td>Nora Roberts</td>\n",
              "      <td>2001</td>\n",
              "      <td>Jove Books</td>\n",
              "    </tr>\n",
              "  </tbody>\n",
              "</table>\n",
              "</div>"
            ],
            "text/plain": [
              "     Predicted_Ratings  ...                 publisher\n",
              "0             0.285622  ...  Berkley Publishing Group\n",
              "15            0.253016  ...                Jove Books\n",
              "29            0.236891  ...                Jove Books\n",
              "48            0.212176  ...                Jove Books\n",
              "63            0.206198  ...                Jove Books\n",
              "81            0.204699  ...             Little, Brown\n",
              "152           0.196262  ...                Jove Books\n",
              "169           0.188376  ...  Berkley Publishing Group\n",
              "180           0.183306  ...  Berkley Publishing Group\n",
              "188           0.178672  ...                Silhouette\n",
              "196           0.178214  ...                Jove Books\n",
              "208           0.177991  ...                Jove Books\n",
              "\n",
              "[12 rows x 5 columns]"
            ]
          },
          "metadata": {
            "tags": []
          },
          "execution_count": 859
        }
      ]
    },
    {
      "cell_type": "code",
      "metadata": {
        "id": "YaJa6Q9Qrrye",
        "colab_type": "code",
        "colab": {}
      },
      "source": [
        "############################################  FINISH ###################################################################################"
      ],
      "execution_count": 0,
      "outputs": []
    },
    {
      "cell_type": "code",
      "metadata": {
        "id": "Xf2opOwprrtF",
        "colab_type": "code",
        "colab": {}
      },
      "source": [
        ""
      ],
      "execution_count": 0,
      "outputs": []
    },
    {
      "cell_type": "code",
      "metadata": {
        "id": "NNdkLU40B1Og",
        "colab_type": "code",
        "colab": {}
      },
      "source": [
        ""
      ],
      "execution_count": 0,
      "outputs": []
    },
    {
      "cell_type": "markdown",
      "metadata": {
        "id": "30k4Bvo13B4c",
        "colab_type": "text"
      },
      "source": [
        "### Take a particular user_id"
      ]
    },
    {
      "cell_type": "markdown",
      "metadata": {
        "id": "sfidQq4I3B4e",
        "colab_type": "text"
      },
      "source": [
        "### Lets find the recommendations for user with id `2110`\n",
        "\n",
        "#### Note: Execute the below cells to get the variables loaded"
      ]
    },
    {
      "cell_type": "code",
      "metadata": {
        "id": "vcP1gNk43B4f",
        "colab_type": "code",
        "colab": {}
      },
      "source": [
        "userID = 2110"
      ],
      "execution_count": 0,
      "outputs": []
    },
    {
      "cell_type": "code",
      "metadata": {
        "id": "1-c2kqF53B4j",
        "colab_type": "code",
        "colab": {}
      },
      "source": [
        "user_id = 2 #2nd row in ratings matrix and predicted matrix"
      ],
      "execution_count": 0,
      "outputs": []
    },
    {
      "cell_type": "markdown",
      "metadata": {
        "id": "QLdWNtj53B4m",
        "colab_type": "text"
      },
      "source": [
        "### Get the predicted ratings for userID `2110` and sort them in descending order"
      ]
    },
    {
      "cell_type": "code",
      "metadata": {
        "id": "vRWx0eizDVT6",
        "colab_type": "code",
        "colab": {
          "base_uri": "https://localhost:8080/",
          "height": 393
        },
        "outputId": "484e01dd-03ba-4f29-be6c-720ad70fce99"
      },
      "source": [
        "recommend_movies(2110,10)"
      ],
      "execution_count": 819,
      "outputs": [
        {
          "output_type": "stream",
          "text": [
            "UserID:- 2110 , has already rated 85 books.\n",
            "Recommending the highest 10 predicted ratings books not already rated by user 2110.\n"
          ],
          "name": "stdout"
        },
        {
          "output_type": "execute_result",
          "data": {
            "text/html": [
              "<div>\n",
              "<style scoped>\n",
              "    .dataframe tbody tr th:only-of-type {\n",
              "        vertical-align: middle;\n",
              "    }\n",
              "\n",
              "    .dataframe tbody tr th {\n",
              "        vertical-align: top;\n",
              "    }\n",
              "\n",
              "    .dataframe thead th {\n",
              "        text-align: right;\n",
              "    }\n",
              "</style>\n",
              "<table border=\"1\" class=\"dataframe\">\n",
              "  <thead>\n",
              "    <tr style=\"text-align: right;\">\n",
              "      <th></th>\n",
              "      <th>Predicted_Ratings</th>\n",
              "      <th>bookTitle</th>\n",
              "      <th>bookAuthor</th>\n",
              "      <th>yearOfPublication</th>\n",
              "      <th>publisher</th>\n",
              "    </tr>\n",
              "  </thead>\n",
              "  <tbody>\n",
              "    <tr>\n",
              "      <th>0</th>\n",
              "      <td>0.285622</td>\n",
              "      <td>Purity in Death</td>\n",
              "      <td>J.D. Robb</td>\n",
              "      <td>2002</td>\n",
              "      <td>Berkley Publishing Group</td>\n",
              "    </tr>\n",
              "    <tr>\n",
              "      <th>15</th>\n",
              "      <td>0.253016</td>\n",
              "      <td>Face the Fire (Three Sisters Island Trilogy)</td>\n",
              "      <td>Nora Roberts</td>\n",
              "      <td>2002</td>\n",
              "      <td>Jove Books</td>\n",
              "    </tr>\n",
              "    <tr>\n",
              "      <th>29</th>\n",
              "      <td>0.236891</td>\n",
              "      <td>Dance upon the Air (Three Sisters Island Trilogy)</td>\n",
              "      <td>Nora Roberts</td>\n",
              "      <td>2003</td>\n",
              "      <td>Jove Books</td>\n",
              "    </tr>\n",
              "    <tr>\n",
              "      <th>48</th>\n",
              "      <td>0.212176</td>\n",
              "      <td>Jewels of the Sun (Irish Trilogy)</td>\n",
              "      <td>Nora Roberts</td>\n",
              "      <td>2004</td>\n",
              "      <td>Jove Books</td>\n",
              "    </tr>\n",
              "    <tr>\n",
              "      <th>63</th>\n",
              "      <td>0.206198</td>\n",
              "      <td>Heart of the Sea (Irish Trilogy)</td>\n",
              "      <td>Nora Roberts</td>\n",
              "      <td>2000</td>\n",
              "      <td>Jove Books</td>\n",
              "    </tr>\n",
              "    <tr>\n",
              "      <th>81</th>\n",
              "      <td>0.204699</td>\n",
              "      <td>The Lovely Bones: A Novel</td>\n",
              "      <td>Alice Sebold</td>\n",
              "      <td>2002</td>\n",
              "      <td>Little, Brown</td>\n",
              "    </tr>\n",
              "    <tr>\n",
              "      <th>152</th>\n",
              "      <td>0.196262</td>\n",
              "      <td>Tears of the Moon (Irish Trilogy)</td>\n",
              "      <td>Nora Roberts</td>\n",
              "      <td>2000</td>\n",
              "      <td>Jove Books</td>\n",
              "    </tr>\n",
              "    <tr>\n",
              "      <th>169</th>\n",
              "      <td>0.188376</td>\n",
              "      <td>Witness in Death (Eve Dallas Mysteries (Paperb...</td>\n",
              "      <td>J. D. Robb</td>\n",
              "      <td>2004</td>\n",
              "      <td>Berkley Publishing Group</td>\n",
              "    </tr>\n",
              "    <tr>\n",
              "      <th>180</th>\n",
              "      <td>0.183306</td>\n",
              "      <td>Ceremony in Death (Eve Dallas Mysteries (Paper...</td>\n",
              "      <td>J. D. Robb</td>\n",
              "      <td>1997</td>\n",
              "      <td>Berkley Publishing Group</td>\n",
              "    </tr>\n",
              "    <tr>\n",
              "      <th>188</th>\n",
              "      <td>0.178672</td>\n",
              "      <td>Summer Pleasures</td>\n",
              "      <td>Nora Roberts</td>\n",
              "      <td>2002</td>\n",
              "      <td>Silhouette</td>\n",
              "    </tr>\n",
              "  </tbody>\n",
              "</table>\n",
              "</div>"
            ],
            "text/plain": [
              "     Predicted_Ratings  ...                 publisher\n",
              "0             0.285622  ...  Berkley Publishing Group\n",
              "15            0.253016  ...                Jove Books\n",
              "29            0.236891  ...                Jove Books\n",
              "48            0.212176  ...                Jove Books\n",
              "63            0.206198  ...                Jove Books\n",
              "81            0.204699  ...             Little, Brown\n",
              "152           0.196262  ...                Jove Books\n",
              "169           0.188376  ...  Berkley Publishing Group\n",
              "180           0.183306  ...  Berkley Publishing Group\n",
              "188           0.178672  ...                Silhouette\n",
              "\n",
              "[10 rows x 5 columns]"
            ]
          },
          "metadata": {
            "tags": []
          },
          "execution_count": 819
        }
      ]
    },
    {
      "cell_type": "code",
      "metadata": {
        "id": "htLyrIseLqjV",
        "colab_type": "code",
        "colab": {}
      },
      "source": [
        ""
      ],
      "execution_count": 0,
      "outputs": []
    },
    {
      "cell_type": "code",
      "metadata": {
        "id": "7vv1cHxpLqfL",
        "colab_type": "code",
        "colab": {}
      },
      "source": [
        ""
      ],
      "execution_count": 0,
      "outputs": []
    },
    {
      "cell_type": "markdown",
      "metadata": {
        "id": "-byt5v3i3B4t",
        "colab_type": "text"
      },
      "source": [
        "### Create a dataframe with name `user_data` containing userID `2110` explicitly interacted books"
      ]
    },
    {
      "cell_type": "code",
      "metadata": {
        "id": "Dtku1hyI3B4v",
        "colab_type": "code",
        "colab": {}
      },
      "source": [
        ""
      ],
      "execution_count": 0,
      "outputs": []
    },
    {
      "cell_type": "code",
      "metadata": {
        "id": "hmPJDRFJ3B42",
        "colab_type": "code",
        "colab": {}
      },
      "source": [
        "user_data.head()"
      ],
      "execution_count": 0,
      "outputs": []
    },
    {
      "cell_type": "code",
      "metadata": {
        "scrolled": true,
        "id": "eoktosqB3B49",
        "colab_type": "code",
        "outputId": "cfecd818-2d3d-425b-e593-09e70abb6727",
        "colab": {
          "base_uri": "https://localhost:8080/",
          "height": 34
        }
      },
      "source": [
        "user_data.shape"
      ],
      "execution_count": 799,
      "outputs": [
        {
          "output_type": "execute_result",
          "data": {
            "text/plain": [
              "(103, 10)"
            ]
          },
          "metadata": {
            "tags": []
          },
          "execution_count": 799
        }
      ]
    },
    {
      "cell_type": "markdown",
      "metadata": {
        "id": "ynfEufpL3B5E",
        "colab_type": "text"
      },
      "source": [
        "### Combine the user_data and and corresponding book data(`book_data`) in a single dataframe with name `user_full_info`"
      ]
    },
    {
      "cell_type": "code",
      "metadata": {
        "id": "M3a3hW4g3B5F",
        "colab_type": "code",
        "colab": {}
      },
      "source": [
        ""
      ],
      "execution_count": 0,
      "outputs": []
    },
    {
      "cell_type": "code",
      "metadata": {
        "scrolled": true,
        "id": "KDpMExwU3B5K",
        "colab_type": "code",
        "colab": {}
      },
      "source": [
        "book_data.head()"
      ],
      "execution_count": 0,
      "outputs": []
    },
    {
      "cell_type": "code",
      "metadata": {
        "id": "ome3zOru3B5N",
        "colab_type": "code",
        "colab": {}
      },
      "source": [
        ""
      ],
      "execution_count": 0,
      "outputs": []
    },
    {
      "cell_type": "code",
      "metadata": {
        "scrolled": true,
        "id": "MlVMgNR83B5R",
        "colab_type": "code",
        "colab": {}
      },
      "source": [
        "user_full_info.head()"
      ],
      "execution_count": 0,
      "outputs": []
    },
    {
      "cell_type": "markdown",
      "metadata": {
        "id": "nsVMmYnK3B5U",
        "colab_type": "text"
      },
      "source": [
        "### Get top 10 recommendations for above given userID from the books not already rated by that user"
      ]
    },
    {
      "cell_type": "code",
      "metadata": {
        "id": "woc5gQCB3B5V",
        "colab_type": "code",
        "colab": {}
      },
      "source": [
        ""
      ],
      "execution_count": 0,
      "outputs": []
    },
    {
      "cell_type": "code",
      "metadata": {
        "id": "ZQa1ISuT3B5Y",
        "colab_type": "code",
        "colab": {}
      },
      "source": [
        ""
      ],
      "execution_count": 0,
      "outputs": []
    }
  ]
}