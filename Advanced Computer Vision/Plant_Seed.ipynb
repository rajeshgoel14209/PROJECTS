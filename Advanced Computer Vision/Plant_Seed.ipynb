{
  "nbformat": 4,
  "nbformat_minor": 0,
  "metadata": {
    "colab": {
      "name": "CNN LAB 7 Jan .ipynb",
      "provenance": [],
      "collapsed_sections": []
    },
    "kernelspec": {
      "name": "python3",
      "display_name": "Python 3"
    },
    "accelerator": "GPU"
  },
  "cells": [
    {
      "cell_type": "code",
      "metadata": {
        "id": "dTqNIGXZJCFH",
        "colab_type": "code",
        "colab": {
          "base_uri": "https://localhost:8080/",
          "height": 81
        },
        "outputId": "d895ae2c-af0d-40a8-d970-4eb9ce3b3f96"
      },
      "source": [
        "import numpy as np \n",
        "import pandas as pd \n",
        "import matplotlib.pyplot as plt \n",
        "import math \n",
        "import cv2 \n",
        "from glob import glob \n",
        "import itertools\n",
        "\n",
        "# KERAS AND SKLEARN MODULES\n",
        "from keras.utils import np_utils\n",
        "from keras.preprocessing.image import ImageDataGenerator\n",
        "from keras.models import Sequential\n",
        "from keras.layers import Dense\n",
        "from keras.layers import Dropout\n",
        "from keras.layers import Flatten\n",
        "from keras.layers.convolutional import Conv2D\n",
        "from keras.layers.convolutional import MaxPooling2D\n",
        "from keras.layers import BatchNormalization\n",
        "from keras.callbacks import ModelCheckpoint,ReduceLROnPlateau,CSVLogger\n",
        "\n",
        "from sklearn import preprocessing\n",
        "from sklearn.model_selection import train_test_split\n",
        "from sklearn.metrics import confusion_matrix\n",
        "\n",
        "\n",
        "# GLOBAL VARIABLES\n",
        "scale = 70\n",
        "seed = 7"
      ],
      "execution_count": 1,
      "outputs": [
        {
          "output_type": "stream",
          "text": [
            "Using TensorFlow backend.\n"
          ],
          "name": "stderr"
        },
        {
          "output_type": "display_data",
          "data": {
            "text/html": [
              "<p style=\"color: red;\">\n",
              "The default version of TensorFlow in Colab will soon switch to TensorFlow 2.x.<br>\n",
              "We recommend you <a href=\"https://www.tensorflow.org/guide/migrate\" target=\"_blank\">upgrade</a> now \n",
              "or ensure your notebook will continue to use TensorFlow 1.x via the <code>%tensorflow_version 1.x</code> magic:\n",
              "<a href=\"https://colab.research.google.com/notebooks/tensorflow_version.ipynb\" target=\"_blank\">more info</a>.</p>\n"
            ],
            "text/plain": [
              "<IPython.core.display.HTML object>"
            ]
          },
          "metadata": {
            "tags": []
          }
        }
      ]
    },
    {
      "cell_type": "code",
      "metadata": {
        "id": "E9yx5ImzQEZ3",
        "colab_type": "code",
        "colab": {
          "base_uri": "https://localhost:8080/",
          "height": 125
        },
        "outputId": "e99c84e5-6baf-4d4e-f457-7d8f29190d92"
      },
      "source": [
        "from google.colab import drive\n",
        "drive.mount('/drive')"
      ],
      "execution_count": 2,
      "outputs": [
        {
          "output_type": "stream",
          "text": [
            "Go to this URL in a browser: https://accounts.google.com/o/oauth2/auth?client_id=947318989803-6bn6qk8qdgf4n4g3pfee6491hc0brc4i.apps.googleusercontent.com&redirect_uri=urn%3aietf%3awg%3aoauth%3a2.0%3aoob&response_type=code&scope=email%20https%3a%2f%2fwww.googleapis.com%2fauth%2fdocs.test%20https%3a%2f%2fwww.googleapis.com%2fauth%2fdrive%20https%3a%2f%2fwww.googleapis.com%2fauth%2fdrive.photos.readonly%20https%3a%2f%2fwww.googleapis.com%2fauth%2fpeopleapi.readonly\n",
            "\n",
            "Enter your authorization code:\n",
            "··········\n",
            "Mounted at /drive\n"
          ],
          "name": "stdout"
        }
      ]
    },
    {
      "cell_type": "code",
      "metadata": {
        "id": "fcPUyZlCJbbr",
        "colab_type": "code",
        "colab": {
          "base_uri": "https://localhost:8080/",
          "height": 17
        },
        "outputId": "0cbc112a-8476-47a4-8807-bfbcb3373aac"
      },
      "source": [
        "path_to_images = '/drive/My Drive/GreatlakesAIML/Computer vision CNN/plant-seedlings-classification/train/*/*.png'\n",
        "images = glob(path_to_images)\n",
        "trainingset = []\n",
        "traininglabels = []\n",
        "num = len(images)\n",
        "count = 1\n",
        "#READING IMAGES AND RESIZING THEM\n",
        "for i in images:\n",
        "    print(str(count)+'/'+str(num),end='\\r')\n",
        "    trainingset.append(cv2.resize(cv2.imread(i),(scale,scale)))\n",
        "    traininglabels.append(i.split('/')[-2])\n",
        "    count=count+1\n",
        "trainingset = np.asarray(trainingset)\n",
        "traininglabels = pd.DataFrame(traininglabels)"
      ],
      "execution_count": 3,
      "outputs": [
        {
          "output_type": "stream",
          "text": [
            ""
          ],
          "name": "stdout"
        }
      ]
    },
    {
      "cell_type": "markdown",
      "metadata": {
        "id": "P64OZdqoCkD_",
        "colab_type": "text"
      },
      "source": [
        "Cleaning the images and removing the background:\n",
        "\n",
        "*   Convert the RGB image into HSV.\n",
        "*   We will have to blur the image to remove noise.\n",
        "*   We will have to create a mask to remove the background.\n",
        "\n"
      ]
    },
    {
      "cell_type": "code",
      "metadata": {
        "id": "aj9ZfQQ4BthU",
        "colab_type": "code",
        "colab": {
          "base_uri": "https://localhost:8080/",
          "height": 494
        },
        "outputId": "554454d5-0343-4c0a-c311-ce0e53a8d4b3"
      },
      "source": [
        "new_train = []\n",
        "sets = []; getEx = True\n",
        "for i in trainingset:\n",
        "    blurr = cv2.GaussianBlur(i,(5,5),0)\n",
        "    hsv = cv2.cvtColor(blurr,cv2.COLOR_BGR2HSV)\n",
        "    #GREEN PARAMETERS\n",
        "    lower = (25,40,50)\n",
        "    upper = (75,255,255)\n",
        "    mask = cv2.inRange(hsv,lower,upper)\n",
        "    struc = cv2.getStructuringElement(cv2.MORPH_ELLIPSE,(11,11))\n",
        "    mask = cv2.morphologyEx(mask,cv2.MORPH_CLOSE,struc)\n",
        "    boolean = mask>0\n",
        "    new = np.zeros_like(i,np.uint8)\n",
        "    new[boolean] = i[boolean]\n",
        "    new_train.append(new)\n",
        "    \n",
        "    if getEx:\n",
        "        plt.subplot(2,3,1);plt.imshow(i) # ORIGINAL\n",
        "        plt.subplot(2,3,2);plt.imshow(blurr) # BLURRED\n",
        "        plt.subplot(2,3,3);plt.imshow(hsv) # HSV CONVERTED\n",
        "        plt.subplot(2,3,4);plt.imshow(mask) # MASKED\n",
        "        plt.subplot(2,3,5);plt.imshow(boolean) # BOOLEAN MASKED\n",
        "        plt.subplot(2,3,6);plt.imshow(new) # NEW PROCESSED IMAGE\n",
        "        plt.show()\n",
        "        getEx = False\n",
        "new_train = np.asarray(new_train)\n",
        "\n",
        "# CLEANED IMAGES\n",
        "for i in range(8):\n",
        "    plt.subplot(2,4,i+1)\n",
        "    plt.imshow(new_train[i])\n"
      ],
      "execution_count": 5,
      "outputs": [
        {
          "output_type": "display_data",
          "data": {
            "image/png": "[encoded data removed]",
            "text/plain": [
              "<Figure size 432x288 with 6 Axes>"
            ]
          },
          "metadata": {
            "tags": []
          }
        },
        {
          "output_type": "display_data",
          "data": {
            "image/png": "[encoded data removed]",
            "text/plain": [
              "<Figure size 432x288 with 8 Axes>"
            ]
          },
          "metadata": {
            "tags": []
          }
        }
      ]
    },
    {
      "cell_type": "code",
      "metadata": {
        "id": "BUj1C5yWEKyE",
        "colab_type": "code",
        "colab": {
          "base_uri": "https://localhost:8080/",
          "height": 336
        },
        "outputId": "940cbdb3-1432-40dc-9171-0c2f37adab03"
      },
      "source": [
        "# convert class vectors to binary class matrices\n",
        "labels = preprocessing.LabelEncoder()\n",
        "labels.fit(traininglabels[0])\n",
        "print('Classes'+str(labels.classes_))\n",
        "encodedlabels = labels.transform(traininglabels[0])\n",
        "clearalllabels = np_utils.to_categorical(encodedlabels)\n",
        "classes = clearalllabels.shape[1]\n",
        "print(str(classes))\n",
        "traininglabels[0].value_counts().plot(kind='pie')\n"
      ],
      "execution_count": 7,
      "outputs": [
        {
          "output_type": "stream",
          "text": [
            "Classes['Black-grass' 'Charlock' 'Cleavers' 'Common Chickweed' 'Common wheat'\n",
            " 'Fat Hen' 'Loose Silky-bent' 'Maize' 'Scentless Mayweed'\n",
            " 'Shepherds Purse' 'Small-flowered Cranesbill' 'Sugar beet']\n",
            "12\n"
          ],
          "name": "stdout"
        },
        {
          "output_type": "execute_result",
          "data": {
            "text/plain": [
              "<matplotlib.axes._subplots.AxesSubplot at 0x7f60bf9c8470>"
            ]
          },
          "metadata": {
            "tags": []
          },
          "execution_count": 7
        },
        {
          "output_type": "display_data",
          "data": {
            "image/png": "[encoded data removed]",
            "text/plain": [
              "<Figure size 432x288 with 1 Axes>"
            ]
          },
          "metadata": {
            "tags": []
          }
        }
      ]
    },
    {
      "cell_type": "code",
      "metadata": {
        "id": "d1Qn6jqAdQrj",
        "colab_type": "code",
        "colab": {}
      },
      "source": [
        "new_train = new_train/255\n",
        "x_train,x_test,y_train,y_test = train_test_split(new_train,clearalllabels,test_size=0.1,random_state=seed,stratify=clearalllabels)"
      ],
      "execution_count": 0,
      "outputs": []
    },
    {
      "cell_type": "code",
      "metadata": {
        "id": "SrQh5pOzdadN",
        "colab_type": "code",
        "colab": {}
      },
      "source": [
        "generator = ImageDataGenerator(rotation_range = 180,zoom_range = 0.1,width_shift_range = 0.1,height_shift_range = 0.1,horizontal_flip = True,vertical_flip = True)\n",
        "generator.fit(x_train)"
      ],
      "execution_count": 0,
      "outputs": []
    },
    {
      "cell_type": "code",
      "metadata": {
        "id": "oRYGBuLHdwoC",
        "colab_type": "code",
        "colab": {
          "base_uri": "https://localhost:8080/",
          "height": 1000
        },
        "outputId": "434a5f4f-767b-48e0-b8e3-36143e1941b1"
      },
      "source": [
        "np.random.seed(seed)\n",
        "\n",
        "model = Sequential()\n",
        "\n",
        "model.add(Conv2D(filters=64, kernel_size=(5, 5), input_shape=(scale, scale, 3), activation='relu'))\n",
        "model.add(BatchNormalization(axis=3))\n",
        "model.add(Conv2D(filters=64, kernel_size=(5, 5), activation='relu'))\n",
        "model.add(MaxPooling2D((2, 2)))\n",
        "model.add(BatchNormalization(axis=3))\n",
        "model.add(Dropout(0.1))\n",
        "\n",
        "model.add(Conv2D(filters=128, kernel_size=(5, 5), activation='relu'))\n",
        "model.add(BatchNormalization(axis=3))\n",
        "model.add(Conv2D(filters=128, kernel_size=(5, 5), activation='relu'))\n",
        "model.add(MaxPooling2D((2, 2)))\n",
        "model.add(BatchNormalization(axis=3))\n",
        "model.add(Dropout(0.1))\n",
        "\n",
        "model.add(Conv2D(filters=256, kernel_size=(5, 5), activation='relu'))\n",
        "model.add(BatchNormalization(axis=3))\n",
        "model.add(Conv2D(filters=256, kernel_size=(5, 5), activation='relu'))\n",
        "model.add(MaxPooling2D((2, 2)))\n",
        "model.add(BatchNormalization(axis=3))\n",
        "model.add(Dropout(0.1))\n",
        "\n",
        "model.add(Flatten())\n",
        "\n",
        "model.add(Dense(256, activation='relu'))\n",
        "model.add(BatchNormalization())\n",
        "model.add(Dropout(0.5))\n",
        "\n",
        "model.add(Dense(256, activation='relu'))\n",
        "model.add(BatchNormalization())\n",
        "model.add(Dropout(0.5))\n",
        "\n",
        "model.add(Dense(classes, activation='softmax'))\n",
        "\n",
        "model.compile(loss='categorical_crossentropy', optimizer='adam', metrics=['accuracy'])\n",
        "\n",
        "model.summary()"
      ],
      "execution_count": 10,
      "outputs": [
        {
          "output_type": "stream",
          "text": [
            "WARNING:tensorflow:From /usr/local/lib/python3.6/dist-packages/keras/backend/tensorflow_backend.py:66: The name tf.get_default_graph is deprecated. Please use tf.compat.v1.get_default_graph instead.\n",
            "\n",
            "WARNING:tensorflow:From /usr/local/lib/python3.6/dist-packages/keras/backend/tensorflow_backend.py:541: The name tf.placeholder is deprecated. Please use tf.compat.v1.placeholder instead.\n",
            "\n",
            "WARNING:tensorflow:From /usr/local/lib/python3.6/dist-packages/keras/backend/tensorflow_backend.py:4432: The name tf.random_uniform is deprecated. Please use tf.random.uniform instead.\n",
            "\n",
            "WARNING:tensorflow:From /usr/local/lib/python3.6/dist-packages/keras/backend/tensorflow_backend.py:190: The name tf.get_default_session is deprecated. Please use tf.compat.v1.get_default_session instead.\n",
            "\n",
            "WARNING:tensorflow:From /usr/local/lib/python3.6/dist-packages/keras/backend/tensorflow_backend.py:197: The name tf.ConfigProto is deprecated. Please use tf.compat.v1.ConfigProto instead.\n",
            "\n",
            "WARNING:tensorflow:From /usr/local/lib/python3.6/dist-packages/keras/backend/tensorflow_backend.py:203: The name tf.Session is deprecated. Please use tf.compat.v1.Session instead.\n",
            "\n",
            "WARNING:tensorflow:From /usr/local/lib/python3.6/dist-packages/keras/backend/tensorflow_backend.py:207: The name tf.global_variables is deprecated. Please use tf.compat.v1.global_variables instead.\n",
            "\n",
            "WARNING:tensorflow:From /usr/local/lib/python3.6/dist-packages/keras/backend/tensorflow_backend.py:216: The name tf.is_variable_initialized is deprecated. Please use tf.compat.v1.is_variable_initialized instead.\n",
            "\n",
            "WARNING:tensorflow:From /usr/local/lib/python3.6/dist-packages/keras/backend/tensorflow_backend.py:223: The name tf.variables_initializer is deprecated. Please use tf.compat.v1.variables_initializer instead.\n",
            "\n",
            "WARNING:tensorflow:From /usr/local/lib/python3.6/dist-packages/keras/backend/tensorflow_backend.py:2041: The name tf.nn.fused_batch_norm is deprecated. Please use tf.compat.v1.nn.fused_batch_norm instead.\n",
            "\n",
            "WARNING:tensorflow:From /usr/local/lib/python3.6/dist-packages/keras/backend/tensorflow_backend.py:148: The name tf.placeholder_with_default is deprecated. Please use tf.compat.v1.placeholder_with_default instead.\n",
            "\n",
            "WARNING:tensorflow:From /usr/local/lib/python3.6/dist-packages/keras/backend/tensorflow_backend.py:4267: The name tf.nn.max_pool is deprecated. Please use tf.nn.max_pool2d instead.\n",
            "\n",
            "WARNING:tensorflow:From /usr/local/lib/python3.6/dist-packages/keras/backend/tensorflow_backend.py:3733: calling dropout (from tensorflow.python.ops.nn_ops) with keep_prob is deprecated and will be removed in a future version.\n",
            "Instructions for updating:\n",
            "Please use `rate` instead of `keep_prob`. Rate should be set to `rate = 1 - keep_prob`.\n",
            "WARNING:tensorflow:From /usr/local/lib/python3.6/dist-packages/keras/optimizers.py:793: The name tf.train.Optimizer is deprecated. Please use tf.compat.v1.train.Optimizer instead.\n",
            "\n",
            "WARNING:tensorflow:From /usr/local/lib/python3.6/dist-packages/keras/backend/tensorflow_backend.py:3576: The name tf.log is deprecated. Please use tf.math.log instead.\n",
            "\n",
            "Model: \"sequential_1\"\n",
            "_________________________________________________________________\n",
            "Layer (type)                 Output Shape              Param #   \n",
            "=================================================================\n",
            "conv2d_1 (Conv2D)            (None, 66, 66, 64)        4864      \n",
            "_________________________________________________________________\n",
            "batch_normalization_1 (Batch (None, 66, 66, 64)        256       \n",
            "_________________________________________________________________\n",
            "conv2d_2 (Conv2D)            (None, 62, 62, 64)        102464    \n",
            "_________________________________________________________________\n",
            "max_pooling2d_1 (MaxPooling2 (None, 31, 31, 64)        0         \n",
            "_________________________________________________________________\n",
            "batch_normalization_2 (Batch (None, 31, 31, 64)        256       \n",
            "_________________________________________________________________\n",
            "dropout_1 (Dropout)          (None, 31, 31, 64)        0         \n",
            "_________________________________________________________________\n",
            "conv2d_3 (Conv2D)            (None, 27, 27, 128)       204928    \n",
            "_________________________________________________________________\n",
            "batch_normalization_3 (Batch (None, 27, 27, 128)       512       \n",
            "_________________________________________________________________\n",
            "conv2d_4 (Conv2D)            (None, 23, 23, 128)       409728    \n",
            "_________________________________________________________________\n",
            "max_pooling2d_2 (MaxPooling2 (None, 11, 11, 128)       0         \n",
            "_________________________________________________________________\n",
            "batch_normalization_4 (Batch (None, 11, 11, 128)       512       \n",
            "_________________________________________________________________\n",
            "dropout_2 (Dropout)          (None, 11, 11, 128)       0         \n",
            "_________________________________________________________________\n",
            "conv2d_5 (Conv2D)            (None, 7, 7, 256)         819456    \n",
            "_________________________________________________________________\n",
            "batch_normalization_5 (Batch (None, 7, 7, 256)         1024      \n",
            "_________________________________________________________________\n",
            "conv2d_6 (Conv2D)            (None, 3, 3, 256)         1638656   \n",
            "_________________________________________________________________\n",
            "max_pooling2d_3 (MaxPooling2 (None, 1, 1, 256)         0         \n",
            "_________________________________________________________________\n",
            "batch_normalization_6 (Batch (None, 1, 1, 256)         1024      \n",
            "_________________________________________________________________\n",
            "dropout_3 (Dropout)          (None, 1, 1, 256)         0         \n",
            "_________________________________________________________________\n",
            "flatten_1 (Flatten)          (None, 256)               0         \n",
            "_________________________________________________________________\n",
            "dense_1 (Dense)              (None, 256)               65792     \n",
            "_________________________________________________________________\n",
            "batch_normalization_7 (Batch (None, 256)               1024      \n",
            "_________________________________________________________________\n",
            "dropout_4 (Dropout)          (None, 256)               0         \n",
            "_________________________________________________________________\n",
            "dense_2 (Dense)              (None, 256)               65792     \n",
            "_________________________________________________________________\n",
            "batch_normalization_8 (Batch (None, 256)               1024      \n",
            "_________________________________________________________________\n",
            "dropout_5 (Dropout)          (None, 256)               0         \n",
            "_________________________________________________________________\n",
            "dense_3 (Dense)              (None, 12)                3084      \n",
            "=================================================================\n",
            "Total params: 3,320,396\n",
            "Trainable params: 3,317,580\n",
            "Non-trainable params: 2,816\n",
            "_________________________________________________________________\n"
          ],
          "name": "stdout"
        }
      ]
    },
    {
      "cell_type": "code",
      "metadata": {
        "id": "0CQhl7cwd6TQ",
        "colab_type": "code",
        "colab": {
          "base_uri": "https://localhost:8080/",
          "height": 70
        },
        "outputId": "6b14e6f4-506a-454c-8c89-967cc6bc14c9"
      },
      "source": [
        "print('x_train shape:', x_train.shape)\n",
        "print(x_train.shape[0], 'train samples')\n",
        "print(x_test.shape[0], 'test samples')"
      ],
      "execution_count": 11,
      "outputs": [
        {
          "output_type": "stream",
          "text": [
            "x_train shape: (4275, 70, 70, 3)\n",
            "4275 train samples\n",
            "476 test samples\n"
          ],
          "name": "stdout"
        }
      ]
    },
    {
      "cell_type": "code",
      "metadata": {
        "id": "_bbw-Blt8DMr",
        "colab_type": "code",
        "colab": {}
      },
      "source": [
        "batch_size = 128\n",
        "num_classes = 10\n",
        "epochs = 12"
      ],
      "execution_count": 0,
      "outputs": []
    },
    {
      "cell_type": "code",
      "metadata": {
        "id": "eYXte2Punbjf",
        "colab_type": "code",
        "colab": {
          "base_uri": "https://localhost:8080/",
          "height": 617
        },
        "outputId": "65ae177b-a1da-4a36-de5c-3fa61d908f2c"
      },
      "source": [
        "model.fit(x_train, y_train,\n",
        "          batch_size=batch_size,\n",
        "          epochs=epochs,\n",
        "          verbose=1,\n",
        "          validation_data=(x_test, y_test))"
      ],
      "execution_count": 14,
      "outputs": [
        {
          "output_type": "stream",
          "text": [
            "WARNING:tensorflow:From /usr/local/lib/python3.6/dist-packages/tensorflow_core/python/ops/math_grad.py:1424: where (from tensorflow.python.ops.array_ops) is deprecated and will be removed in a future version.\n",
            "Instructions for updating:\n",
            "Use tf.where in 2.0, which has the same broadcast rule as np.where\n",
            "WARNING:tensorflow:From /usr/local/lib/python3.6/dist-packages/keras/backend/tensorflow_backend.py:1033: The name tf.assign_add is deprecated. Please use tf.compat.v1.assign_add instead.\n",
            "\n",
            "WARNING:tensorflow:From /usr/local/lib/python3.6/dist-packages/keras/backend/tensorflow_backend.py:1020: The name tf.assign is deprecated. Please use tf.compat.v1.assign instead.\n",
            "\n",
            "Train on 4275 samples, validate on 476 samples\n",
            "Epoch 1/12\n",
            "4275/4275 [==============================] - 12s 3ms/step - loss: 2.5908 - acc: 0.2793 - val_loss: 3.0047 - val_acc: 0.3382\n",
            "Epoch 2/12\n",
            "4275/4275 [==============================] - 3s 626us/step - loss: 1.7575 - acc: 0.4297 - val_loss: 2.4491 - val_acc: 0.3887\n",
            "Epoch 3/12\n",
            "4275/4275 [==============================] - 3s 629us/step - loss: 1.4579 - acc: 0.5071 - val_loss: 1.2985 - val_acc: 0.5777\n",
            "Epoch 4/12\n",
            "4275/4275 [==============================] - 3s 628us/step - loss: 1.2470 - acc: 0.5757 - val_loss: 2.0732 - val_acc: 0.3634\n",
            "Epoch 5/12\n",
            "4275/4275 [==============================] - 3s 628us/step - loss: 1.1147 - acc: 0.6175 - val_loss: 1.7689 - val_acc: 0.5420\n",
            "Epoch 6/12\n",
            "4275/4275 [==============================] - 3s 635us/step - loss: 0.9484 - acc: 0.6774 - val_loss: 1.2499 - val_acc: 0.6345\n",
            "Epoch 7/12\n",
            "4275/4275 [==============================] - 3s 631us/step - loss: 0.8322 - acc: 0.7127 - val_loss: 1.8694 - val_acc: 0.5609\n",
            "Epoch 8/12\n",
            "4275/4275 [==============================] - 3s 628us/step - loss: 0.7388 - acc: 0.7357 - val_loss: 0.8434 - val_acc: 0.7500\n",
            "Epoch 9/12\n",
            "4275/4275 [==============================] - 3s 629us/step - loss: 0.6468 - acc: 0.7771 - val_loss: 1.1050 - val_acc: 0.6702\n",
            "Epoch 10/12\n",
            "4275/4275 [==============================] - 3s 630us/step - loss: 0.5771 - acc: 0.8098 - val_loss: 1.5463 - val_acc: 0.6429\n",
            "Epoch 11/12\n",
            "4275/4275 [==============================] - 3s 629us/step - loss: 0.5128 - acc: 0.8239 - val_loss: 1.0554 - val_acc: 0.7248\n",
            "Epoch 12/12\n",
            "4275/4275 [==============================] - 3s 630us/step - loss: 0.4991 - acc: 0.8236 - val_loss: 1.5270 - val_acc: 0.6155\n"
          ],
          "name": "stdout"
        },
        {
          "output_type": "execute_result",
          "data": {
            "text/plain": [
              "<keras.callbacks.History at 0x7f5ff7cc0d30>"
            ]
          },
          "metadata": {
            "tags": []
          },
          "execution_count": 14
        }
      ]
    },
    {
      "cell_type": "code",
      "metadata": {
        "id": "QymD5-pN8YSC",
        "colab_type": "code",
        "colab": {
          "base_uri": "https://localhost:8080/",
          "height": 70
        },
        "outputId": "efc239cb-b428-4fa7-c8ae-139404b53b51"
      },
      "source": [
        "#Testing the model on test set\n",
        "score = model.evaluate(x_test, y_test)\n",
        "print('Test loss:', score[0])\n",
        "print('Test accuracy:', score[1])"
      ],
      "execution_count": 15,
      "outputs": [
        {
          "output_type": "stream",
          "text": [
            "476/476 [==============================] - 0s 668us/step\n",
            "Test loss: 1.5269793362176718\n",
            "Test accuracy: 0.6155462189882743\n"
          ],
          "name": "stdout"
        }
      ]
    }
  ]
}